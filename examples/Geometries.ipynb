{
 "cells": [
  {
   "cell_type": "markdown",
   "metadata": {},
   "source": [
    "# Geometry types"
   ]
  },
  {
   "cell_type": "code",
   "execution_count": 1,
   "metadata": {
    "collapsed": true
   },
   "outputs": [],
   "source": [
    "#include <xthreejs/xbase.hpp>\n",
    "#include <xthreejs/xcore.hpp>\n",
    "#include <xthreejs/xgeometries.hpp>\n",
    "#include <cmath>"
   ]
  },
  {
   "cell_type": "code",
   "execution_count": 2,
   "metadata": {},
   "outputs": [
    {
     "data": {
      "application/vnd.jupyter.widget-view+json": {
       "model_id": "2c1e88e825bf4ad9a4e7242c7f23c618",
       "version_major": 2,
       "version_minor": 0
      },
      "text/plain": [
       "A Jupyter widget"
      ]
     },
     "execution_count": 2,
     "metadata": {},
     "output_type": "execute_result"
    }
   ],
   "source": [
    "xthree::box_geometry_generator()\n",
    "    .width(5) \n",
    "    .height(10) \n",
    "    .depth(15)\n",
    "    .widthSegments(5) \n",
    "    .heightSegments(10)\n",
    "    .depthSegments(15)\n",
    "    .finalize()"
   ]
  },
  {
   "cell_type": "code",
   "execution_count": 3,
   "metadata": {},
   "outputs": [
    {
     "data": {
      "application/vnd.jupyter.widget-view+json": {
       "model_id": "ee1bde4b94fa4eb2b5438474fc4762ca",
       "version_major": 2,
       "version_minor": 0
      },
      "text/plain": [
       "A Jupyter widget"
      ]
     },
     "execution_count": 3,
     "metadata": {},
     "output_type": "execute_result"
    }
   ],
   "source": [
    "xthree::circle_geometry_generator()\n",
    "    .radius(10)\n",
    "    .segments(10)\n",
    "    .thetaStart(0.25)\n",
    "    .thetaLength(5.0)\n",
    "    .finalize()"
   ]
  },
  {
   "cell_type": "code",
   "execution_count": 5,
   "metadata": {},
   "outputs": [
    {
     "data": {
      "application/vnd.jupyter.widget-view+json": {
       "model_id": "ef67a92ee3fc490f915de31f97651099",
       "version_major": 2,
       "version_minor": 0
      },
      "text/plain": [
       "A Jupyter widget"
      ]
     },
     "execution_count": 5,
     "metadata": {},
     "output_type": "execute_result"
    }
   ],
   "source": [
    "xthree::circle_buffer_geometry_generator()\n",
    "    .radius(10)\n",
    "    .segments(10)\n",
    "    .thetaStart(0.25)\n",
    "    .thetaLength(5.0)\n",
    "    .finalize()"
   ]
  },
  {
   "cell_type": "code",
   "execution_count": 6,
   "metadata": {},
   "outputs": [
    {
     "data": {
      "application/vnd.jupyter.widget-view+json": {
       "model_id": "6c4deabc074b4c5cb58cb3c58c5e3d84",
       "version_major": 2,
       "version_minor": 0
      },
      "text/plain": [
       "A Jupyter widget"
      ]
     },
     "execution_count": 6,
     "metadata": {},
     "output_type": "execute_result"
    }
   ],
   "source": [
    "xthree::cylinder_geometry_generator()\n",
    "    .radiusTop(5)\n",
    "    .radiusBottom(10)\n",
    "    .height(15)\n",
    "    .radiusSegments(6)\n",
    "    .heightSegments(10)\n",
    "    .openEnded(false) \n",
    "    .thetaStart(0) \n",
    "    .thetaLength(2.0*M_PI)\n",
    "    .finalize()"
   ]
  },
  {
   "cell_type": "code",
   "execution_count": 7,
   "metadata": {},
   "outputs": [
    {
     "data": {
      "application/vnd.jupyter.widget-view+json": {
       "model_id": "77b4353b0d0d4d56a368cc79dde41285",
       "version_major": 2,
       "version_minor": 0
      },
      "text/plain": [
       "A Jupyter widget"
      ]
     },
     "execution_count": 7,
     "metadata": {},
     "output_type": "execute_result"
    }
   ],
   "source": [
    "xthree::cylinder_buffer_geometry_generator()\n",
    "    .radiusTop(5)\n",
    "    .radiusBottom(10)\n",
    "    .height(15)\n",
    "    .radiusSegments(6)\n",
    "    .heightSegments(10)\n",
    "    .openEnded(false) \n",
    "    .thetaStart(0) \n",
    "    .thetaLength(2.0*M_PI)\n",
    "    .finalize()"
   ]
  },
  {
   "cell_type": "code",
   "execution_count": 10,
   "metadata": {},
   "outputs": [
    {
     "data": {
      "application/vnd.jupyter.widget-view+json": {
       "model_id": "c8236414deb541f29008463a1710676c",
       "version_major": 2,
       "version_minor": 0
      },
      "text/plain": [
       "A Jupyter widget"
      ]
     },
     "execution_count": 10,
     "metadata": {},
     "output_type": "execute_result"
    }
   ],
   "source": [
    "xthree::dodecahedron_geometry_generator()\n",
    "    .radius(10)\n",
    "    .detail(0)\n",
    "    .finalize()"
   ]
  },
  {
   "cell_type": "code",
   "execution_count": null,
   "metadata": {
    "collapsed": true
   },
   "outputs": [],
   "source": [
    "// TODO:\n",
    "// EdgesGeometry(...)"
   ]
  },
  {
   "cell_type": "code",
   "execution_count": 9,
   "metadata": {
    "collapsed": true
   },
   "outputs": [],
   "source": [
    "// TODO:\n",
    "// ExtrudeGeometry(...)"
   ]
  },
  {
   "cell_type": "code",
   "execution_count": 9,
   "metadata": {},
   "outputs": [
    {
     "data": {
      "application/vnd.jupyter.widget-view+json": {
       "model_id": "7346922ec7584497b3eeeba2a11e3331",
       "version_major": 2,
       "version_minor": 0
      },
      "text/plain": [
       "A Jupyter widget"
      ]
     },
     "execution_count": 9,
     "metadata": {},
     "output_type": "execute_result"
    }
   ],
   "source": [
    "xthree::icosahedron_geometry_generator()\n",
    "    .radius(10)\n",
    "    .finalize()"
   ]
  },
  {
   "cell_type": "code",
   "execution_count": 11,
   "metadata": {},
   "outputs": [
    {
     "data": {
      "application/vnd.jupyter.widget-view+json": {
       "model_id": "6ca8c975c82a444a99a3c39aafb57dc2",
       "version_major": 2,
       "version_minor": 0
      },
      "text/plain": [
       "A Jupyter widget"
      ]
     },
     "execution_count": 11,
     "metadata": {},
     "output_type": "execute_result"
    }
   ],
   "source": [
    "xthree::lathe_buffer_geometry_generator()\n",
    "    .segments(16)\n",
    "    .phiStart(16)\n",
    "    .phiLength(2.*M_PI)\n",
    "    .points({{ 0, -10, 0},\n",
    "             {10,  -5, 0},\n",
    "             { 5,   5, 0},\n",
    "             { 0,  10, 0}\n",
    "            })\n",
    "    .finalize()"
   ]
  },
  {
   "cell_type": "code",
   "execution_count": 12,
   "metadata": {},
   "outputs": [
    {
     "data": {
      "application/vnd.jupyter.widget-view+json": {
       "model_id": "630fdcac94744f0dabb6fcff2c4d5551",
       "version_major": 2,
       "version_minor": 0
      },
      "text/plain": [
       "A Jupyter widget"
      ]
     },
     "execution_count": 12,
     "metadata": {},
     "output_type": "execute_result"
    }
   ],
   "source": [
    "xthree::octahedron_geometry_generator()\n",
    "    .radius(10)\n",
    "    .detail(0)\n",
    "    .finalize()"
   ]
  },
  {
   "cell_type": "code",
   "execution_count": 13,
   "metadata": {},
   "outputs": [
    {
     "data": {
      "application/vnd.jupyter.widget-view+json": {
       "model_id": "c4a39fb084ca49a4803a05557e41a431",
       "version_major": 2,
       "version_minor": 0
      },
      "text/plain": [
       "A Jupyter widget"
      ]
     },
     "execution_count": 13,
     "metadata": {},
     "output_type": "execute_result"
    }
   ],
   "source": [
    "xthree::parametric_geometry_generator()\n",
    "    .func(R\"(function(u,v) { \n",
    "        var x = 5 * (0.5 - u);\n",
    "        var y = 5 * (0.5 - v);\n",
    "        return new THREE.Vector3(10 * x, 10 * y, x*x - y*y); \n",
    "        })\")\n",
    "    .slices(5)\n",
    "    .stacks(10)\n",
    "    .finalize()"
   ]
  },
  {
   "cell_type": "code",
   "execution_count": 14,
   "metadata": {},
   "outputs": [
    {
     "data": {
      "application/vnd.jupyter.widget-view+json": {
       "model_id": "131f08a3796444dfb42d4a3a5b31bbc6",
       "version_major": 2,
       "version_minor": 0
      },
      "text/plain": [
       "A Jupyter widget"
      ]
     },
     "execution_count": 14,
     "metadata": {},
     "output_type": "execute_result"
    }
   ],
   "source": [
    "xthree::plane_geometry_generator()\n",
    "    .width(10)\n",
    "    .height(15)\n",
    "    .widthSegments(5)\n",
    "    .heightSegments(10)\n",
    "    .finalize()"
   ]
  },
  {
   "cell_type": "code",
   "execution_count": 15,
   "metadata": {},
   "outputs": [
    {
     "data": {
      "application/vnd.jupyter.widget-view+json": {
       "model_id": "7bccf86538bb4bee89d81f3a79474016",
       "version_major": 2,
       "version_minor": 0
      },
      "text/plain": [
       "A Jupyter widget"
      ]
     },
     "execution_count": 15,
     "metadata": {},
     "output_type": "execute_result"
    }
   ],
   "source": [
    "xthree::plane_buffer_geometry_generator()\n",
    "    .width(10)\n",
    "    .height(15)\n",
    "    .widthSegments(5)\n",
    "    .heightSegments(10)\n",
    "    .finalize()"
   ]
  },
  {
   "cell_type": "code",
   "execution_count": 16,
   "metadata": {
    "collapsed": true
   },
   "outputs": [],
   "source": [
    "// TODO\n",
    "// PolyhedronGeometry(...)"
   ]
  },
  {
   "cell_type": "code",
   "execution_count": 17,
   "metadata": {},
   "outputs": [
    {
     "data": {
      "application/vnd.jupyter.widget-view+json": {
       "model_id": "f924129db88b40c8b8ffb7973a90061e",
       "version_major": 2,
       "version_minor": 0
      },
      "text/plain": [
       "A Jupyter widget"
      ]
     },
     "execution_count": 17,
     "metadata": {},
     "output_type": "execute_result"
    }
   ],
   "source": [
    "// TODO: issues when radius is 0...\n",
    "xthree::ring_geometry_generator()\n",
    "    .innerRadius(10)\n",
    "    .outerRadius(25)\n",
    "    .thetaSegments(8)\n",
    "    .phiSegments(12)\n",
    "    .thetaStart(0)\n",
    "    .thetaLength(2*M_PI)\n",
    "    .finalize()"
   ]
  },
  {
   "cell_type": "code",
   "execution_count": 18,
   "metadata": {},
   "outputs": [
    {
     "data": {
      "application/vnd.jupyter.widget-view+json": {
       "model_id": "9edfbc3920b3498fb70e599e55ae9b8c",
       "version_major": 2,
       "version_minor": 0
      },
      "text/plain": [
       "A Jupyter widget"
      ]
     },
     "execution_count": 18,
     "metadata": {},
     "output_type": "execute_result"
    }
   ],
   "source": [
    "// TODO: issues when radius is 0...\n",
    "xthree::ring_buffer_geometry_generator()\n",
    "    .innerRadius(10)\n",
    "    .outerRadius(25)\n",
    "    .thetaSegments(8)\n",
    "    .phiSegments(12)\n",
    "    .thetaStart(0)\n",
    "    .thetaLength(6.283185307179586)\n",
    "    .finalize()"
   ]
  },
  {
   "cell_type": "code",
   "execution_count": 19,
   "metadata": {
    "collapsed": true
   },
   "outputs": [],
   "source": [
    "// TODO\n",
    "// ShapeGeometry(...)"
   ]
  },
  {
   "cell_type": "code",
   "execution_count": 19,
   "metadata": {},
   "outputs": [
    {
     "data": {
      "application/vnd.jupyter.widget-view+json": {
       "model_id": "05833207694445b0970ae0d4de55c727",
       "version_major": 2,
       "version_minor": 0
      },
      "text/plain": [
       "A Jupyter widget"
      ]
     },
     "execution_count": 19,
     "metadata": {},
     "output_type": "execute_result"
    }
   ],
   "source": [
    "xthree::sphere_geometry_generator()\n",
    "    .radius(20)\n",
    "    .widthSegments(8)\n",
    "    .heightSegments(6)\n",
    "    .phiStart(0)\n",
    "    .phiLength(1.5*M_PI)\n",
    "    .thetaStart(0)\n",
    "    .thetaLength(2.*M_PI/3)\n",
    "    .finalize()"
   ]
  },
  {
   "cell_type": "code",
   "execution_count": 20,
   "metadata": {},
   "outputs": [
    {
     "data": {
      "application/vnd.jupyter.widget-view+json": {
       "model_id": "f9841a2d0cf342c8914559c9f5b45380",
       "version_major": 2,
       "version_minor": 0
      },
      "text/plain": [
       "A Jupyter widget"
      ]
     },
     "execution_count": 20,
     "metadata": {},
     "output_type": "execute_result"
    }
   ],
   "source": [
    "xthree::sphere_buffer_geometry_generator()\n",
    "    .radius(20)\n",
    "    .widthSegments(8)\n",
    "    .heightSegments(6)\n",
    "    .phiStart(0)\n",
    "    .phiLength(1.5*M_PI)\n",
    "    .thetaStart(0)\n",
    "    .thetaLength(2.*M_PI/3)\n",
    "    .finalize()"
   ]
  },
  {
   "cell_type": "code",
   "execution_count": 21,
   "metadata": {},
   "outputs": [
    {
     "data": {
      "application/vnd.jupyter.widget-view+json": {
       "model_id": "692c29a2a1174b3ebfd7846a31cb1ee4",
       "version_major": 2,
       "version_minor": 0
      },
      "text/plain": [
       "A Jupyter widget"
      ]
     },
     "execution_count": 21,
     "metadata": {},
     "output_type": "execute_result"
    }
   ],
   "source": [
    "xthree::tetrahedron_geometry_generator()\n",
    "    .radius(10)\n",
    "    .detail(1)\n",
    "    .finalize()"
   ]
  },
  {
   "cell_type": "code",
   "execution_count": 19,
   "metadata": {
    "collapsed": true
   },
   "outputs": [],
   "source": [
    "// TODO: font loading\n",
    "// TextGeometry(...)"
   ]
  },
  {
   "cell_type": "code",
   "execution_count": 22,
   "metadata": {},
   "outputs": [
    {
     "data": {
      "application/vnd.jupyter.widget-view+json": {
       "model_id": "33e98009a52c4c2b8a07f0077f31da60",
       "version_major": 2,
       "version_minor": 0
      },
      "text/plain": [
       "A Jupyter widget"
      ]
     },
     "execution_count": 22,
     "metadata": {},
     "output_type": "execute_result"
    }
   ],
   "source": [
    "xthree::torus_geometry_generator()\n",
    "    .radius(20)\n",
    "    .tube(5)\n",
    "    .radialSegments(20)\n",
    "    .tubularSegments(6)\n",
    "    .arc(1.5*M_PI)\n",
    "    .finalize()"
   ]
  },
  {
   "cell_type": "code",
   "execution_count": 23,
   "metadata": {},
   "outputs": [
    {
     "data": {
      "application/vnd.jupyter.widget-view+json": {
       "model_id": "5e001099373642c5ab0cc6f315f70d7a",
       "version_major": 2,
       "version_minor": 0
      },
      "text/plain": [
       "A Jupyter widget"
      ]
     },
     "execution_count": 23,
     "metadata": {},
     "output_type": "execute_result"
    }
   ],
   "source": [
    "xthree::torus_buffer_geometry_generator()\n",
    "    .radius(100)\n",
    "    .finalize()"
   ]
  },
  {
   "cell_type": "code",
   "execution_count": 24,
   "metadata": {},
   "outputs": [
    {
     "data": {
      "application/vnd.jupyter.widget-view+json": {
       "model_id": "758aae3f3afb445fb4febccdf374b2a9",
       "version_major": 2,
       "version_minor": 0
      },
      "text/plain": [
       "A Jupyter widget"
      ]
     },
     "execution_count": 24,
     "metadata": {},
     "output_type": "execute_result"
    }
   ],
   "source": [
    "xthree::torus_knot_geometry_generator()\n",
    "    .radius(20)\n",
    "    .tube(5)\n",
    "    .radialSegments(8)\n",
    "    .tubularSegments(64)\n",
    "    .p(2)\n",
    "    .q(3)\n",
    "    .finalize()"
   ]
  },
  {
   "cell_type": "code",
   "execution_count": 25,
   "metadata": {},
   "outputs": [
    {
     "data": {
      "application/vnd.jupyter.widget-view+json": {
       "model_id": "9c47b84a84e74de38b2af3a7585f3a1a",
       "version_major": 2,
       "version_minor": 0
      },
      "text/plain": [
       "A Jupyter widget"
      ]
     },
     "execution_count": 25,
     "metadata": {},
     "output_type": "execute_result"
    }
   ],
   "source": [
    "xthree::torus_knot_buffer_geometry_generator()\n",
    "    .radius(20)\n",
    "    .tube(5)\n",
    "    .radialSegments(8)\n",
    "    .tubularSegments(64)\n",
    "    .p(2)\n",
    "    .q(3)\n",
    "    .finalize()"
   ]
  },
  {
   "cell_type": "code",
   "execution_count": 27,
   "metadata": {},
   "outputs": [
    {
     "data": {
      "application/vnd.jupyter.widget-view+json": {
       "model_id": "0a1aee7af6234e119bc52437ba84470c",
       "version_major": 2,
       "version_minor": 0
      },
      "text/plain": [
       "A Jupyter widget"
      ]
     },
     "execution_count": 27,
     "metadata": {},
     "output_type": "execute_result"
    }
   ],
   "source": [
    "// TODO: handling THREE.Curve\n",
    "// NOT WORKING\n",
    "xthree::tube_geometry_generator()\n",
    "    .segments(64)\n",
    "    .radius(1)\n",
    "    .radiusSegments(8)\n",
    "    .close(false)\n",
    "    .finalize()"
   ]
  },
  {
   "cell_type": "code",
   "execution_count": 28,
   "metadata": {},
   "outputs": [
    {
     "data": {
      "application/vnd.jupyter.widget-view+json": {
       "model_id": "895aa9b18bfb4baa996e7f86eb3e5730",
       "version_major": 2,
       "version_minor": 0
      },
      "text/plain": [
       "A Jupyter widget"
      ]
     },
     "execution_count": 28,
     "metadata": {},
     "output_type": "execute_result"
    }
   ],
   "source": [
    "xthree::wireframe_geometry_generator()\n",
    "    .geometry(xthree::torus_buffer_geometry_generator()\n",
    "        .radius(100)\n",
    "        .tube(5)\n",
    "        .radialSegments(6)\n",
    "        .tubularSegments(20)\n",
    "        .arc(2*M_PI)\n",
    "        .finalize())\n",
    "    .finalize()"
   ]
  },
  {
   "cell_type": "code",
   "execution_count": null,
   "metadata": {
    "collapsed": true
   },
   "outputs": [],
   "source": []
  }
 ],
 "metadata": {
  "anaconda-cloud": {},
  "kernelspec": {
   "display_name": "C++14",
   "language": "C++14",
   "name": "xeus-cling-cpp14"
  },
  "language_info": {
   "codemirror_mode": "text/x-c++src",
   "file_extension": ".cpp",
   "mimetype": "text/x-c++src",
   "name": "c++",
   "version": "14"
  },
  "widgets": {
   "application/vnd.jupyter.widget-state+json": {
    "state": {
     "029efdf8a37f4b0a8e6c0b07863524a6": {
      "model_module": "jupyter-threejs",
      "model_module_version": "0.4.0",
      "model_name": "PreviewModel",
      "state": {
       "_model_module_version": "0.4.0",
       "_view_module_version": "0.4.0",
       "child": "IPY_MODEL_6a0b93915ab740b6b6172786af9286c1",
       "layout": "IPY_MODEL_ac0a5ccca766402085472b88891a596a",
       "shadowMap": "IPY_MODEL_9d1244f8ee19467992e3871df0e685ea"
      }
     },
     "0410a77b6fad43f4a4b5cb2462bbf5fc": {
      "model_module": "jupyter-threejs",
      "model_module_version": "0.4.0",
      "model_name": "PreviewModel",
      "state": {
       "_model_module_version": "0.4.0",
       "_view_module_version": "0.4.0",
       "child": "IPY_MODEL_56a68de622004b3b95392fbb625415b9",
       "layout": "IPY_MODEL_2446ab5f52524b5d9b7d953b9a5db0ba",
       "shadowMap": "IPY_MODEL_a3afc425e0f94b52a0a9395431a2eda6"
      }
     },
     "044e1257325a4500ad934a16059f628d": {
      "model_module": "jupyter-threejs",
      "model_module_version": "0.4.0",
      "model_name": "PreviewModel",
      "state": {
       "_model_module_version": "0.4.0",
       "_view_module_version": "0.4.0",
       "child": "IPY_MODEL_787771dd731b4701b8e085287264597b",
       "layout": "IPY_MODEL_b73ba5af31a44ff08ab19152c78810e9",
       "shadowMap": "IPY_MODEL_63a5307632634a3aa112460abdb2b643"
      }
     },
     "0f003cb994a7483bb22bfa0b048c5100": {
      "model_module": "jupyter-threejs",
      "model_module_version": "0.4.0",
      "model_name": "PreviewModel",
      "state": {
       "_model_module_version": "0.4.0",
       "_view_module_version": "0.4.0",
       "child": "IPY_MODEL_56668bfa2e28433d96da4c9558deadf0",
       "layout": "IPY_MODEL_dde663bffaea45018c92f353d213ffc8",
       "shadowMap": "IPY_MODEL_af2e877b44a3453686f7744cc593148f"
      }
     },
     "140cc45dbb4a46ac83818ba4348d38d6": {
      "model_module": "jupyter-threejs",
      "model_module_version": "0.4.0",
      "model_name": "WebGLShadowMapModel",
      "state": {
       "_model_module_version": "0.4.0",
       "_view_module": null,
       "_view_module_version": ""
      }
     },
     "1467bb57fcdc4ac6a14e84e8aba8d64e": {
      "model_module": "jupyter-threejs",
      "model_module_version": "0.4.0",
      "model_name": "PreviewModel",
      "state": {
       "_model_module_version": "0.4.0",
       "_view_module_version": "0.4.0",
       "child": "IPY_MODEL_4c34e40299674323b1c7b0e1da0612d3",
       "layout": "IPY_MODEL_53387fa340424d10a3d9b9f8ca335b44",
       "shadowMap": "IPY_MODEL_3446abd03e1842b4a47125e130621b1d"
      }
     },
     "148ab43a59324562b67d1a94529a534b": {
      "model_module": "jupyter-threejs",
      "model_module_version": "0.4.0",
      "model_name": "PreviewModel",
      "state": {
       "_model_module_version": "0.4.0",
       "_view_module_version": "0.4.0",
       "child": "IPY_MODEL_5596422670b64c9cb009381a8c6e9cfd",
       "layout": "IPY_MODEL_46e9a2e500734e1fbf79095e397fad34",
       "shadowMap": "IPY_MODEL_755ba36d9d3d4014b54e68c7902a31b1"
      }
     },
     "14c63d4f688b4a6f996a51434af32266": {
      "model_module": "jupyter-threejs",
      "model_module_version": "0.4.0",
      "model_name": "WebGLShadowMapModel",
      "state": {
       "_model_module_version": "0.4.0",
       "_view_module": null,
       "_view_module_version": ""
      }
     },
     "1a2ceb687915425caeab52f2ab158bf0": {
      "model_module": "@jupyter-widgets/base",
      "model_module_version": "1.0.0",
      "model_name": "LayoutModel",
      "state": {}
     },
     "1badb1fbb4da4126bb76d06b0f4fc1f2": {
      "model_module": "jupyter-threejs",
      "model_module_version": "0.4.0",
      "model_name": "PreviewModel",
      "state": {
       "_model_module_version": "0.4.0",
       "_view_module_version": "0.4.0",
       "child": "IPY_MODEL_bc3693a3878f4bb0bb509e555e82038b",
       "layout": "IPY_MODEL_3a46ae4ce9414fa5866a4be57d907825",
       "shadowMap": "IPY_MODEL_c7985279b3174d078ad977140797776b"
      }
     },
     "1bc88cd1d5b749ddb29091705855e935": {
      "model_module": "jupyter-threejs",
      "model_module_version": "0.4.0",
      "model_name": "WebGLShadowMapModel",
      "state": {
       "_model_module_version": "0.4.0",
       "_view_module": null,
       "_view_module_version": ""
      }
     },
     "1d7c11b4b499415cab1240f533075123": {
      "model_module": "jupyter-threejs",
      "model_module_version": "0.4.0",
      "model_name": "BoxGeometryModel",
      "state": {
       "_model_module_version": "0.4.0",
       "_view_module": null,
       "_view_module_version": "",
       "depth": 15,
       "depthSegments": 15,
       "heightSegments": 10,
       "type": "BoxGeometry",
       "width": 5,
       "widthSegments": 5
      }
     },
     "1f4956e752ad4ad89ca37657307f3e5e": {
      "model_module": "@jupyter-widgets/base",
      "model_module_version": "1.0.0",
      "model_name": "LayoutModel",
      "state": {}
     },
     "20c109dd994144dcbdef10b4b8e7fe53": {
      "model_module": "@jupyter-widgets/base",
      "model_module_version": "1.0.0",
      "model_name": "LayoutModel",
      "state": {}
     },
     "23baf9e9e21a417e80b9e72f00e4750c": {
      "model_module": "jupyter-threejs",
      "model_module_version": "0.4.0",
      "model_name": "PreviewModel",
      "state": {
       "_model_module_version": "0.4.0",
       "_view_module_version": "0.4.0",
       "child": "IPY_MODEL_2a804713b61e45ad8490a0f091f089e2",
       "layout": "IPY_MODEL_1a2ceb687915425caeab52f2ab158bf0",
       "shadowMap": "IPY_MODEL_a88f0753534e41e0bf61fffa413a66f9"
      }
     },
     "23ffc7b063ea4e6bb7d04c665a7e6fa2": {
      "model_module": "jupyter-threejs",
      "model_module_version": "0.4.0",
      "model_name": "PreviewModel",
      "state": {
       "_model_module_version": "0.4.0",
       "_view_module_version": "0.4.0",
       "child": "IPY_MODEL_f857d2a4b31542838f8b440f45158927",
       "layout": "IPY_MODEL_7569e1447c8d41e59936146593deceba",
       "shadowMap": "IPY_MODEL_1bc88cd1d5b749ddb29091705855e935"
      }
     },
     "2446ab5f52524b5d9b7d953b9a5db0ba": {
      "model_module": "@jupyter-widgets/base",
      "model_module_version": "1.0.0",
      "model_name": "LayoutModel",
      "state": {}
     },
     "26ce2b754e2b4d6ba16d819e6842390e": {
      "model_module": "@jupyter-widgets/base",
      "model_module_version": "1.0.0",
      "model_name": "LayoutModel",
      "state": {}
     },
     "2781226f7f9c483993a111ccf162dcb8": {
      "model_module": "@jupyter-widgets/base",
      "model_module_version": "1.0.0",
      "model_name": "LayoutModel",
      "state": {}
     },
     "2a804713b61e45ad8490a0f091f089e2": {
      "model_module": "jupyter-threejs",
      "model_module_version": "0.4.0",
      "model_name": "BoxBufferGeometryModel",
      "state": {
       "_model_module_version": "0.4.0",
       "_view_module": null,
       "_view_module_version": "",
       "depth": 15,
       "depthSegments": 15,
       "heightSegments": 10,
       "type": "BoxBufferGeometry",
       "width": 5,
       "widthSegments": 5
      }
     },
     "2be12ce20cea4722892066d1af82cc5a": {
      "model_module": "@jupyter-widgets/base",
      "model_module_version": "1.0.0",
      "model_name": "LayoutModel",
      "state": {}
     },
     "2d8b8aa8d2954794be43eeea444cdd1a": {
      "model_module": "jupyter-threejs",
      "model_module_version": "0.4.0",
      "model_name": "WebGLShadowMapModel",
      "state": {
       "_model_module_version": "0.4.0",
       "_view_module": null,
       "_view_module_version": ""
      }
     },
     "2f6c274921924f71a33f56725857a1c0": {
      "model_module": "@jupyter-widgets/base",
      "model_module_version": "1.0.0",
      "model_name": "LayoutModel",
      "state": {}
     },
     "3446abd03e1842b4a47125e130621b1d": {
      "model_module": "jupyter-threejs",
      "model_module_version": "0.4.0",
      "model_name": "WebGLShadowMapModel",
      "state": {
       "_model_module_version": "0.4.0",
       "_view_module": null,
       "_view_module_version": ""
      }
     },
     "382bcb439bbf489fb95579aa74481790": {
      "model_module": "jupyter-threejs",
      "model_module_version": "0.4.0",
      "model_name": "CircleGeometryModel",
      "state": {
       "_model_module_version": "0.4.0",
       "_view_module": null,
       "_view_module_version": "",
       "radius": 10,
       "segments": 10,
       "thetaLength": 5,
       "thetaStart": 0.25,
       "type": "CircleGeometry"
      }
     },
     "3a46ae4ce9414fa5866a4be57d907825": {
      "model_module": "@jupyter-widgets/base",
      "model_module_version": "1.0.0",
      "model_name": "LayoutModel",
      "state": {}
     },
     "3f6f8428ab6645aea44c5ae3904d4526": {
      "model_module": "jupyter-threejs",
      "model_module_version": "0.4.0",
      "model_name": "SphereGeometryModel",
      "state": {
       "_model_module_version": "0.4.0",
       "_view_module": null,
       "_view_module_version": "",
       "phiLength": 4.71238898038469,
       "radius": 20,
       "thetaLength": 2.0943951023931953,
       "type": "SphereGeometry"
      }
     },
     "42235c97dd694f60b21413d4089d3337": {
      "model_module": "jupyter-threejs",
      "model_module_version": "0.4.0",
      "model_name": "DodecahedronGeometryModel",
      "state": {
       "_model_module_version": "0.4.0",
       "_view_module": null,
       "_view_module_version": "",
       "radius": 10,
       "type": "DodecahedronGeometry"
      }
     },
     "45f43b8827444da3ae0f268f5f74788c": {
      "model_module": "jupyter-threejs",
      "model_module_version": "0.4.0",
      "model_name": "WebGLShadowMapModel",
      "state": {
       "_model_module_version": "0.4.0",
       "_view_module": null,
       "_view_module_version": ""
      }
     },
     "46e9a2e500734e1fbf79095e397fad34": {
      "model_module": "@jupyter-widgets/base",
      "model_module_version": "1.0.0",
      "model_name": "LayoutModel",
      "state": {}
     },
     "4c34e40299674323b1c7b0e1da0612d3": {
      "model_module": "jupyter-threejs",
      "model_module_version": "0.4.0",
      "model_name": "TetrahedronGeometryModel",
      "state": {
       "_model_module_version": "0.4.0",
       "_view_module": null,
       "_view_module_version": "",
       "detail": 1,
       "radius": 10,
       "type": "TetrahedronGeometry"
      }
     },
     "4f01bef35223459585b2adfc2c7d1fb9": {
      "model_module": "jupyter-threejs",
      "model_module_version": "0.4.0",
      "model_name": "WebGLShadowMapModel",
      "state": {
       "_model_module_version": "0.4.0",
       "_view_module": null,
       "_view_module_version": ""
      }
     },
     "53387fa340424d10a3d9b9f8ca335b44": {
      "model_module": "@jupyter-widgets/base",
      "model_module_version": "1.0.0",
      "model_name": "LayoutModel",
      "state": {}
     },
     "5596422670b64c9cb009381a8c6e9cfd": {
      "model_module": "jupyter-threejs",
      "model_module_version": "0.4.0",
      "model_name": "SphereBufferGeometryModel",
      "state": {
       "_model_module_version": "0.4.0",
       "_view_module": null,
       "_view_module_version": "",
       "phiLength": 4.71238898038469,
       "radius": 20,
       "thetaLength": 2.0943951023931953,
       "type": "SphereBufferGeometry"
      }
     },
     "56668bfa2e28433d96da4c9558deadf0": {
      "model_module": "jupyter-threejs",
      "model_module_version": "0.4.0",
      "model_name": "IcosahedronGeometryModel",
      "state": {
       "_model_module_version": "0.4.0",
       "_view_module": null,
       "_view_module_version": "",
       "radius": 10,
       "type": "IcosahedronGeometry"
      }
     },
     "56a68de622004b3b95392fbb625415b9": {
      "model_module": "jupyter-threejs",
      "model_module_version": "0.4.0",
      "model_name": "WireframeGeometryModel",
      "state": {
       "_model_module_version": "0.4.0",
       "_view_module": null,
       "_view_module_version": "",
       "geometry": "IPY_MODEL_5afdaedc359f4b59862037d79f95aa72",
       "type": "WireframeGeometry"
      }
     },
     "5afdaedc359f4b59862037d79f95aa72": {
      "model_module": "jupyter-threejs",
      "model_module_version": "0.4.0",
      "model_name": "TorusBufferGeometryModel",
      "state": {
       "_model_module_version": "0.4.0",
       "_view_module": null,
       "_view_module_version": "",
       "radialSegments": 6,
       "radius": 20,
       "tube": 5,
       "tubularSegments": 20,
       "type": "TorusBufferGeometry"
      }
     },
     "5d870ec4a6da42cf908efee76a9812d7": {
      "model_module": "jupyter-threejs",
      "model_module_version": "0.4.0",
      "model_name": "PreviewModel",
      "state": {
       "_model_module_version": "0.4.0",
       "_view_module_version": "0.4.0",
       "child": "IPY_MODEL_cda14b8b05714e9ca9eb8397ab4e8232",
       "layout": "IPY_MODEL_1f4956e752ad4ad89ca37657307f3e5e",
       "shadowMap": "IPY_MODEL_4f01bef35223459585b2adfc2c7d1fb9"
      }
     },
     "63a5307632634a3aa112460abdb2b643": {
      "model_module": "jupyter-threejs",
      "model_module_version": "0.4.0",
      "model_name": "WebGLShadowMapModel",
      "state": {
       "_model_module_version": "0.4.0",
       "_view_module": null,
       "_view_module_version": ""
      }
     },
     "63ec9cc26864460691454488cd3dc851": {
      "model_module": "jupyter-threejs",
      "model_module_version": "0.4.0",
      "model_name": "WebGLShadowMapModel",
      "state": {
       "_model_module_version": "0.4.0",
       "_view_module": null,
       "_view_module_version": ""
      }
     },
     "67741de0da8749ca8e9a25612c8b6bb5": {
      "model_module": "jupyter-threejs",
      "model_module_version": "0.4.0",
      "model_name": "PreviewModel",
      "state": {
       "_model_module_version": "0.4.0",
       "_view_module_version": "0.4.0",
       "child": "IPY_MODEL_a3808705eb4a454b8d6a9fadd18646ef",
       "layout": "IPY_MODEL_780f986e558e4d9988e0c1a29568fcc4",
       "shadowMap": "IPY_MODEL_af9aa7fea8a24310a92fb95e19387dd5"
      }
     },
     "681692be2ea042588852a33e311ab88d": {
      "model_module": "jupyter-threejs",
      "model_module_version": "0.4.0",
      "model_name": "PreviewModel",
      "state": {
       "_model_module_version": "0.4.0",
       "_view_module_version": "0.4.0",
       "child": "IPY_MODEL_e97f2658aaff494ca5290db9a6d3e3bf",
       "layout": "IPY_MODEL_c6fe2122c3384a3b8f014c657144d1eb",
       "shadowMap": "IPY_MODEL_45f43b8827444da3ae0f268f5f74788c"
      }
     },
     "6a0b93915ab740b6b6172786af9286c1": {
      "model_module": "jupyter-threejs",
      "model_module_version": "0.4.0",
      "model_name": "PlaneGeometryModel",
      "state": {
       "_model_module_version": "0.4.0",
       "_view_module": null,
       "_view_module_version": "",
       "height": 15,
       "heightSegments": 10,
       "type": "PlaneGeometry",
       "widthSegments": 5
      }
     },
     "71da377de8d9458eaf9352ef077fb31e": {
      "model_module": "jupyter-threejs",
      "model_module_version": "0.4.0",
      "model_name": "WebGLShadowMapModel",
      "state": {
       "_model_module_version": "0.4.0",
       "_view_module": null,
       "_view_module_version": ""
      }
     },
     "755ba36d9d3d4014b54e68c7902a31b1": {
      "model_module": "jupyter-threejs",
      "model_module_version": "0.4.0",
      "model_name": "WebGLShadowMapModel",
      "state": {
       "_model_module_version": "0.4.0",
       "_view_module": null,
       "_view_module_version": ""
      }
     },
     "7569e1447c8d41e59936146593deceba": {
      "model_module": "@jupyter-widgets/base",
      "model_module_version": "1.0.0",
      "model_name": "LayoutModel",
      "state": {}
     },
     "7627a7b1f87749298767902d0532923a": {
      "model_module": "jupyter-threejs",
      "model_module_version": "0.4.0",
      "model_name": "PreviewModel",
      "state": {
       "_model_module_version": "0.4.0",
       "_view_module_version": "0.4.0",
       "child": "IPY_MODEL_b5ce510ff5ec40328da5c72e0f3388c6",
       "layout": "IPY_MODEL_e98b999bf8ee465098273c16b7a70020",
       "shadowMap": "IPY_MODEL_d369f004217b45b1b6f54fa7453d4e89"
      }
     },
     "780f986e558e4d9988e0c1a29568fcc4": {
      "model_module": "@jupyter-widgets/base",
      "model_module_version": "1.0.0",
      "model_name": "LayoutModel",
      "state": {}
     },
     "787771dd731b4701b8e085287264597b": {
      "model_module": "jupyter-threejs",
      "model_module_version": "0.4.0",
      "model_name": "TorusKnotBufferGeometryModel",
      "state": {
       "_model_module_version": "0.4.0",
       "_view_module": null,
       "_view_module_version": "",
       "radius": 20,
       "tube": 5,
       "type": "TorusKnotBufferGeometry"
      }
     },
     "7e94f2ae10284306964789f04748c2f6": {
      "model_module": "jupyter-threejs",
      "model_module_version": "0.4.0",
      "model_name": "WebGLShadowMapModel",
      "state": {
       "_model_module_version": "0.4.0",
       "_view_module": null,
       "_view_module_version": ""
      }
     },
     "8b3ca199e88542cb8147e404017126a4": {
      "model_module": "jupyter-threejs",
      "model_module_version": "0.4.0",
      "model_name": "LatheBufferGeometryModel",
      "state": {
       "_model_module_version": "0.4.0",
       "_view_module": null,
       "_view_module_version": "",
       "points": [
        [
         0,
         -10,
         0
        ],
        [
         10,
         -5,
         0
        ],
        [
         5,
         5,
         0
        ],
        [
         0,
         10,
         0
        ]
       ],
       "segments": 16,
       "type": "LatheBufferGeometry"
      }
     },
     "8e6ce3d8be2b4d51839370dc75a76d92": {
      "model_module": "jupyter-threejs",
      "model_module_version": "0.4.0",
      "model_name": "PreviewModel",
      "state": {
       "_model_module_version": "0.4.0",
       "_view_module_version": "0.4.0",
       "child": "IPY_MODEL_d5a864b3ddfa43d5b64e4d035cdb5ecb",
       "layout": "IPY_MODEL_e4ad8ccaa4fd4f7389fd2050a4fa5257",
       "shadowMap": "IPY_MODEL_7e94f2ae10284306964789f04748c2f6"
      }
     },
     "91c565117edc44e48cbc48bf37637cc8": {
      "model_module": "jupyter-threejs",
      "model_module_version": "0.4.0",
      "model_name": "PreviewModel",
      "state": {
       "_model_module_version": "0.4.0",
       "_view_module_version": "0.4.0",
       "child": "IPY_MODEL_af2c8db535cd4575aba7af9a1563d236",
       "layout": "IPY_MODEL_feb1a38239094151b5ed70bb34fe6cb4",
       "shadowMap": "IPY_MODEL_b4e9392126e44f568d9f45d7f1cc71de"
      }
     },
     "99d32d6e450c469ab744501c8842205f": {
      "model_module": "jupyter-threejs",
      "model_module_version": "0.4.0",
      "model_name": "PreviewModel",
      "state": {
       "_model_module_version": "0.4.0",
       "_view_module_version": "0.4.0",
       "child": "IPY_MODEL_42235c97dd694f60b21413d4089d3337",
       "layout": "IPY_MODEL_de3f010590f14501bbece8fc28545ec7",
       "shadowMap": "IPY_MODEL_140cc45dbb4a46ac83818ba4348d38d6"
      }
     },
     "9d1244f8ee19467992e3871df0e685ea": {
      "model_module": "jupyter-threejs",
      "model_module_version": "0.4.0",
      "model_name": "WebGLShadowMapModel",
      "state": {
       "_model_module_version": "0.4.0",
       "_view_module": null,
       "_view_module_version": ""
      }
     },
     "a2b539854afe4dbb873326de9a5cfb81": {
      "model_module": "jupyter-threejs",
      "model_module_version": "0.4.0",
      "model_name": "PreviewModel",
      "state": {
       "_model_module_version": "0.4.0",
       "_view_module_version": "0.4.0",
       "child": "IPY_MODEL_a4e75c37f5c04d39a13b27f541e81095",
       "layout": "IPY_MODEL_ddc626bdfaaf4b7c84bb5078ada67d1f",
       "shadowMap": "IPY_MODEL_2d8b8aa8d2954794be43eeea444cdd1a"
      }
     },
     "a3808705eb4a454b8d6a9fadd18646ef": {
      "model_module": "jupyter-threejs",
      "model_module_version": "0.4.0",
      "model_name": "TorusGeometryModel",
      "state": {
       "_model_module_version": "0.4.0",
       "_view_module": null,
       "_view_module_version": "",
       "arc": 4.71238898038469,
       "radialSegments": 20,
       "radius": 20,
       "tube": 5,
       "type": "TorusGeometry"
      }
     },
     "a3afc425e0f94b52a0a9395431a2eda6": {
      "model_module": "jupyter-threejs",
      "model_module_version": "0.4.0",
      "model_name": "WebGLShadowMapModel",
      "state": {
       "_model_module_version": "0.4.0",
       "_view_module": null,
       "_view_module_version": ""
      }
     },
     "a4e75c37f5c04d39a13b27f541e81095": {
      "model_module": "jupyter-threejs",
      "model_module_version": "0.4.0",
      "model_name": "CircleBufferGeometryModel",
      "state": {
       "_model_module_version": "0.4.0",
       "_view_module": null,
       "_view_module_version": "",
       "radius": 10,
       "segments": 10,
       "thetaLength": 5,
       "thetaStart": 0.25,
       "type": "CircleBufferGeometry"
      }
     },
     "a88f0753534e41e0bf61fffa413a66f9": {
      "model_module": "jupyter-threejs",
      "model_module_version": "0.4.0",
      "model_name": "WebGLShadowMapModel",
      "state": {
       "_model_module_version": "0.4.0",
       "_view_module": null,
       "_view_module_version": ""
      }
     },
     "ac0a5ccca766402085472b88891a596a": {
      "model_module": "@jupyter-widgets/base",
      "model_module_version": "1.0.0",
      "model_name": "LayoutModel",
      "state": {}
     },
     "af2c8db535cd4575aba7af9a1563d236": {
      "model_module": "jupyter-threejs",
      "model_module_version": "0.4.0",
      "model_name": "PlaneBufferGeometryModel",
      "state": {
       "_model_module_version": "0.4.0",
       "_view_module": null,
       "_view_module_version": "",
       "height": 15,
       "heightSegments": 10,
       "type": "PlaneBufferGeometry",
       "widthSegments": 5
      }
     },
     "af2e877b44a3453686f7744cc593148f": {
      "model_module": "jupyter-threejs",
      "model_module_version": "0.4.0",
      "model_name": "WebGLShadowMapModel",
      "state": {
       "_model_module_version": "0.4.0",
       "_view_module": null,
       "_view_module_version": ""
      }
     },
     "af9aa7fea8a24310a92fb95e19387dd5": {
      "model_module": "jupyter-threejs",
      "model_module_version": "0.4.0",
      "model_name": "WebGLShadowMapModel",
      "state": {
       "_model_module_version": "0.4.0",
       "_view_module": null,
       "_view_module_version": ""
      }
     },
     "b3bfc1995e4445308816edab25ab0c23": {
      "model_module": "jupyter-threejs",
      "model_module_version": "0.4.0",
      "model_name": "PreviewModel",
      "state": {
       "_model_module_version": "0.4.0",
       "_view_module_version": "0.4.0",
       "child": "IPY_MODEL_f2d21fdd86df41feb62291bd8f505e65",
       "layout": "IPY_MODEL_2781226f7f9c483993a111ccf162dcb8",
       "shadowMap": "IPY_MODEL_eaa015a7100545bebd19a913e276a619"
      }
     },
     "b4e9392126e44f568d9f45d7f1cc71de": {
      "model_module": "jupyter-threejs",
      "model_module_version": "0.4.0",
      "model_name": "WebGLShadowMapModel",
      "state": {
       "_model_module_version": "0.4.0",
       "_view_module": null,
       "_view_module_version": ""
      }
     },
     "b5ce510ff5ec40328da5c72e0f3388c6": {
      "model_module": "jupyter-threejs",
      "model_module_version": "0.4.0",
      "model_name": "TorusBufferGeometryModel",
      "state": {
       "_model_module_version": "0.4.0",
       "_view_module": null,
       "_view_module_version": "",
       "type": "TorusBufferGeometry"
      }
     },
     "b70a7dbc0d644cbeb8aed0c9718d1dd4": {
      "model_module": "jupyter-threejs",
      "model_module_version": "0.4.0",
      "model_name": "PreviewModel",
      "state": {
       "_model_module_version": "0.4.0",
       "_view_module_version": "0.4.0",
       "child": "IPY_MODEL_1d7c11b4b499415cab1240f533075123",
       "layout": "IPY_MODEL_fe77f77ed6424f0ba56b8a9b0289fe73",
       "shadowMap": "IPY_MODEL_fd7415cb91ec4bfb8e12d2fe1f5969f3"
      }
     },
     "b7399e90df734da9b2426cd630c1ae1f": {
      "model_module": "jupyter-threejs",
      "model_module_version": "0.4.0",
      "model_name": "PreviewModel",
      "state": {
       "_model_module_version": "0.4.0",
       "_view_module_version": "0.4.0",
       "child": "IPY_MODEL_3f6f8428ab6645aea44c5ae3904d4526",
       "layout": "IPY_MODEL_2be12ce20cea4722892066d1af82cc5a",
       "shadowMap": "IPY_MODEL_63ec9cc26864460691454488cd3dc851"
      }
     },
     "b73ba5af31a44ff08ab19152c78810e9": {
      "model_module": "@jupyter-widgets/base",
      "model_module_version": "1.0.0",
      "model_name": "LayoutModel",
      "state": {}
     },
     "bc3693a3878f4bb0bb509e555e82038b": {
      "model_module": "jupyter-threejs",
      "model_module_version": "0.4.0",
      "model_name": "CylinderBufferGeometryModel",
      "state": {
       "_model_module_version": "0.4.0",
       "_view_module": null,
       "_view_module_version": "",
       "height": 15,
       "heightSegments": 10,
       "radiusBottom": 10,
       "radiusTop": 5,
       "type": "CylinderBufferGeometry"
      }
     },
     "c0ece6675b83434490a98f43d2bb7c77": {
      "model_module": "jupyter-threejs",
      "model_module_version": "0.4.0",
      "model_name": "WebGLShadowMapModel",
      "state": {
       "_model_module_version": "0.4.0",
       "_view_module": null,
       "_view_module_version": ""
      }
     },
     "c2238c75c93e49e4a5fd1b3d4f2c677b": {
      "model_module": "jupyter-threejs",
      "model_module_version": "0.4.0",
      "model_name": "PreviewModel",
      "state": {
       "_model_module_version": "0.4.0",
       "_view_module_version": "0.4.0",
       "child": "IPY_MODEL_382bcb439bbf489fb95579aa74481790",
       "layout": "IPY_MODEL_26ce2b754e2b4d6ba16d819e6842390e",
       "shadowMap": "IPY_MODEL_14c63d4f688b4a6f996a51434af32266"
      }
     },
     "c6fe2122c3384a3b8f014c657144d1eb": {
      "model_module": "@jupyter-widgets/base",
      "model_module_version": "1.0.0",
      "model_name": "LayoutModel",
      "state": {}
     },
     "c7985279b3174d078ad977140797776b": {
      "model_module": "jupyter-threejs",
      "model_module_version": "0.4.0",
      "model_name": "WebGLShadowMapModel",
      "state": {
       "_model_module_version": "0.4.0",
       "_view_module": null,
       "_view_module_version": ""
      }
     },
     "cc899f646acf4669a29a82fb71886cda": {
      "model_module": "jupyter-threejs",
      "model_module_version": "0.4.0",
      "model_name": "PreviewModel",
      "state": {
       "_model_module_version": "0.4.0",
       "_view_module_version": "0.4.0",
       "child": "IPY_MODEL_ebc02c2f2f0742edaca8fce8cc59c28f",
       "layout": "IPY_MODEL_20c109dd994144dcbdef10b4b8e7fe53",
       "shadowMap": "IPY_MODEL_71da377de8d9458eaf9352ef077fb31e"
      }
     },
     "cda14b8b05714e9ca9eb8397ab4e8232": {
      "model_module": "jupyter-threejs",
      "model_module_version": "0.4.0",
      "model_name": "RingGeometryModel",
      "state": {
       "_model_module_version": "0.4.0",
       "_view_module": null,
       "_view_module_version": "",
       "innerRadius": 10,
       "outerRadius": 25,
       "phiSegments": 12,
       "type": "RingGeometry"
      }
     },
     "d369f004217b45b1b6f54fa7453d4e89": {
      "model_module": "jupyter-threejs",
      "model_module_version": "0.4.0",
      "model_name": "WebGLShadowMapModel",
      "state": {
       "_model_module_version": "0.4.0",
       "_view_module": null,
       "_view_module_version": ""
      }
     },
     "d5a864b3ddfa43d5b64e4d035cdb5ecb": {
      "model_module": "jupyter-threejs",
      "model_module_version": "0.4.0",
      "model_name": "ParametricGeometryModel",
      "state": {
       "_model_module_version": "0.4.0",
       "_view_module": null,
       "_view_module_version": "",
       "func": "function(u,v) { \n        var x = 5 * (0.5 - u);\n        var y = 5 * (0.5 - v);\n        return new THREE.Vector3(10 * x, 10 * y, x*x - y*y); \n    }",
       "slices": 5,
       "stacks": 10,
       "type": "ParametricGeometry"
      }
     },
     "ddc626bdfaaf4b7c84bb5078ada67d1f": {
      "model_module": "@jupyter-widgets/base",
      "model_module_version": "1.0.0",
      "model_name": "LayoutModel",
      "state": {}
     },
     "dde663bffaea45018c92f353d213ffc8": {
      "model_module": "@jupyter-widgets/base",
      "model_module_version": "1.0.0",
      "model_name": "LayoutModel",
      "state": {}
     },
     "de3f010590f14501bbece8fc28545ec7": {
      "model_module": "@jupyter-widgets/base",
      "model_module_version": "1.0.0",
      "model_name": "LayoutModel",
      "state": {}
     },
     "e4ad8ccaa4fd4f7389fd2050a4fa5257": {
      "model_module": "@jupyter-widgets/base",
      "model_module_version": "1.0.0",
      "model_name": "LayoutModel",
      "state": {}
     },
     "e97f2658aaff494ca5290db9a6d3e3bf": {
      "model_module": "jupyter-threejs",
      "model_module_version": "0.4.0",
      "model_name": "TorusKnotGeometryModel",
      "state": {
       "_model_module_version": "0.4.0",
       "_view_module": null,
       "_view_module_version": "",
       "radius": 20,
       "tube": 5,
       "type": "TorusKnotGeometry"
      }
     },
     "e98b999bf8ee465098273c16b7a70020": {
      "model_module": "@jupyter-widgets/base",
      "model_module_version": "1.0.0",
      "model_name": "LayoutModel",
      "state": {}
     },
     "eaa015a7100545bebd19a913e276a619": {
      "model_module": "jupyter-threejs",
      "model_module_version": "0.4.0",
      "model_name": "WebGLShadowMapModel",
      "state": {
       "_model_module_version": "0.4.0",
       "_view_module": null,
       "_view_module_version": ""
      }
     },
     "ebc02c2f2f0742edaca8fce8cc59c28f": {
      "model_module": "jupyter-threejs",
      "model_module_version": "0.4.0",
      "model_name": "CylinderGeometryModel",
      "state": {
       "_model_module_version": "0.4.0",
       "_view_module": null,
       "_view_module_version": "",
       "height": 15,
       "heightSegments": 10,
       "radiusBottom": 10,
       "radiusTop": 5,
       "type": "CylinderGeometry"
      }
     },
     "ed4a030057d4483d8200c45ecf58c840": {
      "model_module": "jupyter-threejs",
      "model_module_version": "0.4.0",
      "model_name": "PreviewModel",
      "state": {
       "_model_module_version": "0.4.0",
       "_view_module_version": "0.4.0",
       "child": "IPY_MODEL_8b3ca199e88542cb8147e404017126a4",
       "layout": "IPY_MODEL_2f6c274921924f71a33f56725857a1c0",
       "shadowMap": "IPY_MODEL_c0ece6675b83434490a98f43d2bb7c77"
      }
     },
     "f2d21fdd86df41feb62291bd8f505e65": {
      "model_module": "jupyter-threejs",
      "model_module_version": "0.4.0",
      "model_name": "RingBufferGeometryModel",
      "state": {
       "_model_module_version": "0.4.0",
       "_view_module": null,
       "_view_module_version": "",
       "innerRadius": 10,
       "outerRadius": 25,
       "phiSegments": 12,
       "type": "RingBufferGeometry"
      }
     },
     "f857d2a4b31542838f8b440f45158927": {
      "model_module": "jupyter-threejs",
      "model_module_version": "0.4.0",
      "model_name": "OctahedronGeometryModel",
      "state": {
       "_model_module_version": "0.4.0",
       "_view_module": null,
       "_view_module_version": "",
       "radius": 10,
       "type": "OctahedronGeometry"
      }
     },
     "fd7415cb91ec4bfb8e12d2fe1f5969f3": {
      "model_module": "jupyter-threejs",
      "model_module_version": "0.4.0",
      "model_name": "WebGLShadowMapModel",
      "state": {
       "_model_module_version": "0.4.0",
       "_view_module": null,
       "_view_module_version": ""
      }
     },
     "fe77f77ed6424f0ba56b8a9b0289fe73": {
      "model_module": "@jupyter-widgets/base",
      "model_module_version": "1.0.0",
      "model_name": "LayoutModel",
      "state": {}
     },
     "feb1a38239094151b5ed70bb34fe6cb4": {
      "model_module": "@jupyter-widgets/base",
      "model_module_version": "1.0.0",
      "model_name": "LayoutModel",
      "state": {}
     }
    },
    "version_major": 2,
    "version_minor": 0
   }
  }
 },
 "nbformat": 4,
 "nbformat_minor": 1
}
