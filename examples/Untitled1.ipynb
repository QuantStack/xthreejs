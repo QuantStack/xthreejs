{
 "cells": [
  {
   "cell_type": "code",
   "execution_count": 1,
   "metadata": {},
   "outputs": [],
   "source": [
    "#include <xthreejs/xbase.hpp>\n",
    "#include <xthreejs/xcameras.hpp>\n",
    "#include <xthreejs/xcontrols.hpp>\n",
    "#include <xthreejs/xcore.hpp>\n",
    "#include <xthreejs/xgeometries.hpp>\n",
    "#include <xthreejs/xlights.hpp>\n",
    "#include <xthreejs/xmaterials.hpp>\n",
    "#include <xthreejs/xobjects.hpp>\n",
    "#include <xthreejs/xscenes.hpp>\n",
    "#include <xthreejs/xrenderers.hpp>"
   ]
  },
  {
   "cell_type": "code",
   "execution_count": 2,
   "metadata": {},
   "outputs": [
    {
     "data": {
      "application/vnd.jupyter.widget-view+json": {
       "model_id": "8fead42aabcb4f8090f8a75b04de7e70",
       "version_major": 2,
       "version_minor": 0
      },
      "text/plain": [
       "A Jupyter widget"
      ]
     },
     "metadata": {},
     "output_type": "display_data"
    }
   ],
   "source": [
    "xthree::preview_generator(\n",
    "    xthree::box_geometry_generator()\n",
    "        .width(5) \n",
    "        .height(10) \n",
    "        .depth(15)\n",
    "        .widthSegments(5) \n",
    "        .heightSegments(10)\n",
    "        .depthSegments(15)\n",
    "        .finalize()\n",
    "    )\n",
    "    ._width(400)\n",
    "    ._height(400)\n",
    "    .finalize()\n",
    "    .display();"
   ]
  },
  {
   "cell_type": "code",
   "execution_count": 3,
   "metadata": {},
   "outputs": [
    {
     "data": {
      "application/vnd.jupyter.widget-view+json": {
       "model_id": "8be55a5378a749b38ba88375ff4c358f",
       "version_major": 2,
       "version_minor": 0
      },
      "text/plain": [
       "A Jupyter widget"
      ]
     },
     "metadata": {},
     "output_type": "display_data"
    }
   ],
   "source": [
    "xthree::preview_generator(\n",
    "    xthree::circle_geometry_generator()\n",
    "        .radius(10)\n",
    "        .segments(10)\n",
    "        .thetaStart(0.25)\n",
    "        .thetaLength(5.0)\n",
    "        .finalize()\n",
    "    )\n",
    "    ._width(400)\n",
    "    ._height(400)\n",
    "    .finalize()\n",
    "    .display();"
   ]
  },
  {
   "cell_type": "code",
   "execution_count": 4,
   "metadata": {},
   "outputs": [
    {
     "data": {
      "application/vnd.jupyter.widget-view+json": {
       "model_id": "a974e6f2ca3140dba2d8f2b7293bb1e1",
       "version_major": 2,
       "version_minor": 0
      },
      "text/plain": [
       "A Jupyter widget"
      ]
     },
     "metadata": {},
     "output_type": "display_data"
    }
   ],
   "source": [
    "xthree::preview_generator(\n",
    "    xthree::torus_knot_geometry_generator()\n",
    "        .radius(20)\n",
    "        .tube(5)\n",
    "        .tubularSegments(64)\n",
    "        .radialSegments(8)\n",
    "        .p(2)\n",
    "        .q(3)\n",
    "        .finalize()\n",
    "    )\n",
    "    .finalize()\n",
    "    .display();"
   ]
  },
  {
   "cell_type": "code",
   "execution_count": 2,
   "metadata": {},
   "outputs": [],
   "source": [
    "auto mesh = xthree::mesh_generator()\n",
    "    .geometry(xthree::sphere_geometry_generator()\n",
    "              .radius(1)\n",
    "              .finalize())\n",
    "    .material(xthree::mesh_lambert_material_generator()\n",
    "             .color(\"red\")\n",
    "             .finalize())\n",
    "    .position(std::array<double, 3>{2, 1, 0})\n",
    "    .finalize();"
   ]
  },
  {
   "cell_type": "code",
   "execution_count": 3,
   "metadata": {},
   "outputs": [],
   "source": [
    "auto light = xthree::directional_light_generator()\n",
    "     .color(\"white\")\n",
    "     .position(std::array<double, 3>{3, 5, 1})\n",
    "     .intensity(0.5)\n",
    "     .finalize();"
   ]
  },
  {
   "cell_type": "code",
   "execution_count": 4,
   "metadata": {},
   "outputs": [],
   "source": [
    "auto c = xthree::perspective_camera_generator()\n",
    "    .position(std::array<double, 3>{0, 5, 5})\n",
    "    .up(std::array<double, 3>{0, 1, 0})\n",
    "    .children(std::vector<xw::xholder<xthree::xobject3d>>{light})\n",
    "    .finalize();"
   ]
  },
  {
   "cell_type": "code",
   "execution_count": 5,
   "metadata": {},
   "outputs": [],
   "source": [
    "auto ambient = xthree::ambient_light_generator()\n",
    "         .color(\"#777777\")\n",
    "         .finalize();"
   ]
  },
  {
   "cell_type": "code",
   "execution_count": 6,
   "metadata": {},
   "outputs": [],
   "source": [
    "auto scene = xthree::scene_generator()\n",
    "    .children(std::vector<xw::xholder<xthree::xobject3d>>{\n",
    "        mesh, \n",
    "        c,\n",
    "        ambient})\n",
    "    .finalize();"
   ]
  },
  {
   "cell_type": "code",
   "execution_count": 7,
   "metadata": {},
   "outputs": [],
   "source": [
    "auto control = xthree::orbit_controls_generator()\n",
    "    .controlling(c)\n",
    "    .finalize();"
   ]
  },
  {
   "cell_type": "code",
   "execution_count": 8,
   "metadata": {},
   "outputs": [],
   "source": [
    "auto renderer = xthree::renderer_generator()\n",
    "    .camera(c)\n",
    "    .scene(scene)\n",
    "    .controls(std::vector<xw::xholder<xthree::xcontrols>>{control})\n",
    "    ._width(400)\n",
    "    ._height(400)\n",
    "    .finalize();"
   ]
  },
  {
   "cell_type": "code",
   "execution_count": 9,
   "metadata": {},
   "outputs": [
    {
     "data": {
      "application/vnd.jupyter.widget-view+json": {
       "model_id": "9a83ce02b59a467197aab0fad746e541",
       "version_major": 2,
       "version_minor": 0
      },
      "text/plain": [
       "A Jupyter widget"
      ]
     },
     "metadata": {},
     "output_type": "display_data"
    }
   ],
   "source": [
    "renderer.display()"
   ]
  },
  {
   "cell_type": "code",
   "execution_count": 2,
   "metadata": {},
   "outputs": [],
   "source": [
    "xthree::scene scene;\n",
    "xthree::perspective_camera c;"
   ]
  },
  {
   "cell_type": "code",
   "execution_count": 3,
   "metadata": {},
   "outputs": [],
   "source": [
    "auto renderer = xthree::renderer_generator()\n",
    "    .camera(c)\n",
    "    .scene(scene)\n",
    "    .controls(std::vector<xw::xholder<xthree::xcontrols>>{control})\n",
    "    .finalize();"
   ]
  },
  {
   "cell_type": "code",
   "execution_count": 4,
   "metadata": {},
   "outputs": [
    {
     "data": {
      "application/vnd.jupyter.widget-view+json": {
       "model_id": "027ad40e70ab49298570784429a9389a",
       "version_major": 2,
       "version_minor": 0
      },
      "text/plain": [
       "A Jupyter widget"
      ]
     },
     "metadata": {},
     "output_type": "display_data"
    }
   ],
   "source": [
    "renderer.display();"
   ]
  },
  {
   "cell_type": "code",
   "execution_count": null,
   "metadata": {},
   "outputs": [],
   "source": []
  }
 ],
 "metadata": {
  "kernelspec": {
   "display_name": "xeus C++14",
   "language": "",
   "name": "xeus-cling-cpp14"
  },
  "language_info": {
   "codemirror_mode": "text/x-c++src",
   "file_extension": ".cpp",
   "mimetype": "text/x-c++src",
   "name": "c++",
   "version": ""
  }
 },
 "nbformat": 4,
 "nbformat_minor": 2
}
