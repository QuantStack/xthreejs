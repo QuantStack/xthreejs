{
 "cells": [
  {
   "cell_type": "markdown",
   "metadata": {},
   "source": [
    "This notebook gives a simple example of how to use the ShaderMaterial to write custom shaders from the Python side. For further information about the shaders, consult the three.js docs."
   ]
  },
  {
   "cell_type": "code",
   "execution_count": 1,
   "metadata": {
    "collapsed": true
   },
   "outputs": [],
   "source": [
    "#include <xthreejs/xbase.hpp>\n",
    "#include <xthreejs/xcore.hpp>\n",
    "#include <xthreejs/xobjects.hpp>\n",
    "#include <xthreejs/xcameras.hpp>\n",
    "#include <xthreejs/xcontrols.hpp>\n",
    "#include <xthreejs/xlights.hpp>\n",
    "#include <xthreejs/xgeometries.hpp>\n",
    "#include <xthreejs/xmaterials.hpp>\n",
    "#include <xthreejs/xscenes.hpp>\n",
    "#include <xthreejs/xrenderers.hpp>\n",
    "#include <xwidgets/xlayout.hpp>\n",
    "#include <xwidgets/xbox.hpp>\n",
    "#include <xwidgets/xcolor_picker.hpp>\n",
    "#include <xwidgets/xslider.hpp>"
   ]
  },
  {
   "cell_type": "code",
   "execution_count": 2,
   "metadata": {
    "collapsed": true
   },
   "outputs": [],
   "source": [
    "auto vertex_shader = R\"(\n",
    "uniform float time;\n",
    "uniform vec2 resolution;\n",
    "\n",
    "void main() {\n",
    "    vec3 pos = vec3(position.x + time * resolution.x, position.y + time * resolution.y, position.z);\n",
    "    gl_Position = projectionMatrix * modelViewMatrix * vec4( pos, 1.0 );\n",
    "}\n",
    ")\";"
   ]
  },
  {
   "cell_type": "code",
   "execution_count": 3,
   "metadata": {
    "collapsed": true
   },
   "outputs": [],
   "source": [
    "auto fragment_shader = R\"(\n",
    "uniform vec3 user_color;\n",
    "\n",
    "void main() {\n",
    "    #ifdef FIX_COLOR\n",
    "    gl_FragColor = vec4(0.5, 0, 0, 1.0);\n",
    "    #else\n",
    "    gl_FragColor = vec4(user_color, 1.0);\n",
    "    #endif\n",
    "}\n",
    ")\";"
   ]
  },
  {
   "cell_type": "code",
   "execution_count": 4,
   "metadata": {
    "collapsed": true
   },
   "outputs": [],
   "source": [
    "auto uniform = xthree::xuniform_lib[\"lights\"];\n",
    "uniform[\"time\"] = xeus::xjson::object({{\"value\", 0}});\n",
    "uniform[\"resolution\"] = xeus::xjson::object({{\"value\", {1, 1}}});\n",
    "uniform[\"user_color\"] = xeus::xjson::object({{\"value\", \"green\"}});"
   ]
  },
  {
   "cell_type": "code",
   "execution_count": 5,
   "metadata": {
    "collapsed": true
   },
   "outputs": [],
   "source": [
    "auto defines = R\"(\n",
    "{\n",
    "    \"FIX_COLOR\": 1\n",
    "}\n",
    ")\"_json;"
   ]
  },
  {
   "cell_type": "code",
   "execution_count": 6,
   "metadata": {
    "collapsed": true
   },
   "outputs": [],
   "source": [
    "auto material = xthree::shader_material_generator()\n",
    "    .uniforms(uniform)\n",
    "    .defines(defines)\n",
    "    .vertexShader(vertex_shader)\n",
    "    .fragmentShader(fragment_shader)\n",
    "    .lights(true)\n",
    "    .finalize();"
   ]
  },
  {
   "cell_type": "code",
   "execution_count": 7,
   "metadata": {},
   "outputs": [
    {
     "data": {
      "application/vnd.jupyter.widget-view+json": {
       "model_id": "8fba8adaf4c64fc7a2b12600e207ed56",
       "version_major": 2,
       "version_minor": 0
      },
      "text/plain": [
       "A Jupyter widget"
      ]
     },
     "metadata": {},
     "output_type": "display_data"
    }
   ],
   "source": [
    "xthree::preview(material).display();"
   ]
  },
  {
   "cell_type": "code",
   "execution_count": 8,
   "metadata": {
    "collapsed": true
   },
   "outputs": [],
   "source": [
    "material.defines = xeus::xjson::object();\n",
    "material.update();"
   ]
  },
  {
   "cell_type": "code",
   "execution_count": 10,
   "metadata": {},
   "outputs": [
    {
     "name": "stderr",
     "output_type": "stream",
     "text": [
      "\u001b[1minput_line_16:2:11: \u001b[0m\u001b[0;1;31merror: \u001b[0m\u001b[1mno member named 'send' in 'xw::xmaterialize<xshader_material>'\u001b[0m\n",
      " material.send(R\"(\"type\": \"needsUpdate\")\")\n",
      "\u001b[0;1;32m ~~~~~~~~ ^\n",
      "\u001b[0m"
     ]
    }
   ],
   "source": [
    "material.send(R\"(\"type\": \"needsUpdate\")\")"
   ]
  },
  {
   "cell_type": "code",
   "execution_count": 7,
   "metadata": {
    "collapsed": true
   },
   "outputs": [],
   "source": [
    "// Uniform editors:\n",
    "auto picker = xw::color_picker_generator()\n",
    "    .value(material.uniforms()[\"user_color\"][\"value\"])\n",
    "    .finalize();\n",
    "\n",
    "auto time_slider = xw::slider_generator<double>()\n",
    "    .value(material.uniforms()[\"time\"][\"value\"])\n",
    "    .min(-15)\n",
    "    .max(15)\n",
    "    .finalize();"
   ]
  },
  {
   "cell_type": "code",
   "execution_count": 8,
   "metadata": {
    "collapsed": true
   },
   "outputs": [],
   "source": [
    "#include <iostream>\n",
    "XOBSERVE(picker, value, [&](xw::color_picker&){\n",
    "    auto& uniform = material.uniforms();\n",
    "    uniform[\"time\"][\"value\"] = time_slider.value();\n",
    "    uniform[\"user_color\"][\"value\"] = picker.value();\n",
    "    std::cout <<  material.uniforms() << std::endl;\n",
    "});\n",
    "\n",
    "//picker.observe(update_uniforms);\n",
    "//time_slider.observe(update_uniforms);\n",
    "\n",
    "// Present \"dashboard\" in VBox:\n",
    "auto vbox = xw::vbox();\n",
    "vbox.add(xthree::preview(material));\n",
    "vbox.add(picker);\n",
    "vbox.add(time_slider);"
   ]
  },
  {
   "cell_type": "code",
   "execution_count": 9,
   "metadata": {},
   "outputs": [
    {
     "data": {
      "application/vnd.jupyter.widget-view+json": {
       "model_id": "6a2d93d947e9489fb129b83d026b573c",
       "version_major": 2,
       "version_minor": 0
      },
      "text/plain": [
       "A Jupyter widget"
      ]
     },
     "metadata": {},
     "output_type": "display_data"
    },
    {
     "name": "stdout",
     "output_type": "stream",
     "text": [
      "{\"ambientLightColor\":{\"value\":[]},\"directionalLights\":{\"properties\":{\"color\":{},\"direction\":{},\"shadow\":{},\"shadowBias\":{},\"shadowMapSize\":{},\"shadowRadius\":{}},\"value\":[]},\"directionalShadowMap\":{\"value\":[]},\"directionalShadowMatrix\":{\"value\":[]},\"hemisphereLights\":{\"properties\":{\"direction\":{},\"groundColor\":{},\"skyColor\":{}},\"value\":[]},\"pointLights\":{\"properties\":{\"color\":{},\"decay\":{},\"distance\":{},\"position\":{},\"shadow\":{},\"shadowBias\":{},\"shadowCameraFar\":{},\"shadowCameraNear\":{},\"shadowMapSize\":{},\"shadowRadius\":{}},\"value\":[]},\"pointShadowMap\":{\"value\":[]},\"pointShadowMatrix\":{\"value\":[]},\"rectAreaLights\":{\"properties\":{\"color\":{},\"height\":{},\"position\":{},\"width\":{}},\"value\":[]},\"resolution\":{\"value\":[1,1]},\"spotLights\":{\"properties\":{\"color\":{},\"coneCos\":{},\"decay\":{},\"direction\":{},\"distance\":{},\"penumbraCos\":{},\"position\":{},\"shadow\":{},\"shadowBias\":{},\"shadowMapSize\":{},\"shadowRadius\":{}},\"value\":[]},\"spotShadowMap\":{\"value\":[]},\"spotShadowMatrix\":{\"value\":[]},\"time\":{\"value\":4.0},\"user_color\":{\"value\":\"#554c85\"}}\n"
     ]
    }
   ],
   "source": [
    "vbox.display();"
   ]
  },
  {
   "cell_type": "code",
   "execution_count": 19,
   "metadata": {},
   "outputs": [
    {
     "name": "stderr",
     "output_type": "stream",
     "text": [
      "\u001b[1minput_line_25:2:9: \u001b[0m\u001b[0;1;31merror: \u001b[0m\u001b[1mno matching member function for call to 'observe'\u001b[0m\n",
      " picker.observe(update_uniforms);\n",
      "\u001b[0;1;32m ~~~~~~~^~~~~~~\n",
      "\u001b[0m\u001b[1m/home/loic/miniconda3/envs/cling-benjamin/include/xproperty/xobserved.hpp:79:14: \u001b[0m\u001b[0;1;30mnote: \u001b[0mcandidate template ignored: couldn't infer template argument 'P'\u001b[0m\n",
      "        void observe(std::function<void(derived_type&)>);\n",
      "\u001b[0;1;32m             ^\n",
      "\u001b[0m"
     ]
    }
   ],
   "source": [
    "picker.observe(update_uniforms);"
   ]
  },
  {
   "cell_type": "code",
   "execution_count": 18,
   "metadata": {
    "collapsed": true
   },
   "outputs": [],
   "source": [
    "void update_uniforms(xw::color_picker &)\n",
    "{\n",
    "    \n",
    "}"
   ]
  },
  {
   "cell_type": "code",
   "execution_count": 11,
   "metadata": {
    "collapsed": true
   },
   "outputs": [],
   "source": [
    "auto& uniform1 = material.uniforms();"
   ]
  },
  {
   "cell_type": "code",
   "execution_count": 12,
   "metadata": {
    "collapsed": true
   },
   "outputs": [],
   "source": [
    "uniform1[\"time\"][\"value\"] = 100;"
   ]
  },
  {
   "cell_type": "code",
   "execution_count": 13,
   "metadata": {},
   "outputs": [
    {
     "name": "stdout",
     "output_type": "stream",
     "text": [
      "{\"ambientLightColor\":{\"value\":[]},\"directionalLights\":{\"properties\":{\"color\":{},\"direction\":{},\"shadow\":{},\"shadowBias\":{},\"shadowMapSize\":{},\"shadowRadius\":{}},\"value\":[]},\"directionalShadowMap\":{\"value\":[]},\"directionalShadowMatrix\":{\"value\":[]},\"hemisphereLights\":{\"properties\":{\"direction\":{},\"groundColor\":{},\"skyColor\":{}},\"value\":[]},\"pointLights\":{\"properties\":{\"color\":{},\"decay\":{},\"distance\":{},\"position\":{},\"shadow\":{},\"shadowBias\":{},\"shadowCameraFar\":{},\"shadowCameraNear\":{},\"shadowMapSize\":{},\"shadowRadius\":{}},\"value\":[]},\"pointShadowMap\":{\"value\":[]},\"pointShadowMatrix\":{\"value\":[]},\"rectAreaLights\":{\"properties\":{\"color\":{},\"height\":{},\"position\":{},\"width\":{}},\"value\":[]},\"resolution\":{\"value\":[1,1]},\"spotLights\":{\"properties\":{\"color\":{},\"coneCos\":{},\"decay\":{},\"direction\":{},\"distance\":{},\"penumbraCos\":{},\"position\":{},\"shadow\":{},\"shadowBias\":{},\"shadowMapSize\":{},\"shadowRadius\":{}},\"value\":[]},\"spotShadowMap\":{\"value\":[]},\"spotShadowMatrix\":{\"value\":[]},\"time\":{\"value\":100},\"user_color\":{\"value\":\"#512fc9\"}}"
     ]
    }
   ],
   "source": [
    "#include <iostream>\n",
    "std::cout << material.uniforms();"
   ]
  },
  {
   "cell_type": "code",
   "execution_count": null,
   "metadata": {
    "collapsed": true
   },
   "outputs": [],
   "source": []
  }
 ],
 "metadata": {
  "kernelspec": {
   "display_name": "C++14",
   "language": "C++14",
   "name": "xeus-cling-cpp14"
  },
  "language_info": {
   "codemirror_mode": "text/x-c++src",
   "file_extension": ".cpp",
   "mimetype": "text/x-c++src",
   "name": "c++",
   "version": "14"
  }
 },
 "nbformat": 4,
 "nbformat_minor": 2
}
