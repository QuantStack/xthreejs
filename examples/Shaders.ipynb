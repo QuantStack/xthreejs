{
 "cells": [
  {
   "cell_type": "markdown",
   "metadata": {},
   "source": [
    "This notebook gives a simple example of how to use the ShaderMaterial to write custom shaders from the Python side. For further information about the shaders, consult the three.js docs."
   ]
  },
  {
   "cell_type": "code",
   "execution_count": 1,
   "metadata": {
    "collapsed": true
   },
   "outputs": [],
   "source": [
    "#include <xthreejs/xthreejs.hpp>\n",
    "#include <xwidgets/xlayout.hpp>\n",
    "#include <xwidgets/xbox.hpp>\n",
    "#include <xwidgets/xcolor_picker.hpp>\n",
    "#include <xwidgets/xslider.hpp>"
   ]
  },
  {
   "cell_type": "code",
   "execution_count": 2,
   "metadata": {
    "collapsed": true
   },
   "outputs": [],
   "source": [
    "auto vertex_shader = R\"(\n",
    "uniform float time;\n",
    "uniform vec2 resolution;\n",
    "\n",
    "void main() {\n",
    "    vec3 pos = vec3(position.x + time * resolution.x, position.y + time * resolution.y, position.z);\n",
    "    gl_Position = projectionMatrix * modelViewMatrix * vec4( pos, 1.0 );\n",
    "}\n",
    ")\";"
   ]
  },
  {
   "cell_type": "code",
   "execution_count": 3,
   "metadata": {
    "collapsed": true
   },
   "outputs": [],
   "source": [
    "auto fragment_shader = R\"(\n",
    "uniform vec3 user_color;\n",
    "\n",
    "void main() {\n",
    "    #ifdef FIX_COLOR\n",
    "    gl_FragColor = vec4(0.5, 0, 0, 1.0);\n",
    "    #else\n",
    "    gl_FragColor = vec4(user_color, 1.0);\n",
    "    #endif\n",
    "}\n",
    ")\";"
   ]
  },
  {
   "cell_type": "code",
   "execution_count": 4,
   "metadata": {
    "collapsed": true
   },
   "outputs": [],
   "source": [
    "auto uniform = xthree::xuniform_lib[\"lights\"];\n",
    "uniform[\"time\"] = xeus::xjson::object({{\"value\", 0}});\n",
    "uniform[\"resolution\"] = xeus::xjson::object({{\"value\", {1, 1}}});\n",
    "uniform[\"user_color\"] = xeus::xjson::object({{\"value\", \"green\"}});"
   ]
  },
  {
   "cell_type": "code",
   "execution_count": 5,
   "metadata": {
    "collapsed": true
   },
   "outputs": [],
   "source": [
    "auto defines = R\"(\n",
    "{\n",
    "    \"FIX_COLOR\": 1\n",
    "}\n",
    ")\"_json;"
   ]
  },
  {
   "cell_type": "code",
   "execution_count": 6,
   "metadata": {
    "collapsed": true
   },
   "outputs": [],
   "source": [
    "auto material = xthree::shader_material_generator()\n",
    "    .uniforms(uniform)\n",
    "    .defines(defines)\n",
    "    .vertexShader(vertex_shader)\n",
    "    .fragmentShader(fragment_shader)\n",
    "    .lights(true)\n",
    "    .finalize();"
   ]
  },
  {
   "cell_type": "code",
   "execution_count": 7,
   "metadata": {},
   "outputs": [
    {
     "data": {
      "application/vnd.jupyter.widget-view+json": {
       "model_id": "932335f07f9c4e3ca92375941e881f40",
       "version_major": 2,
       "version_minor": 0
      },
      "text/plain": [
       "A Jupyter widget"
      ]
     },
     "execution_count": 7,
     "metadata": {},
     "output_type": "execute_result"
    }
   ],
   "source": [
    "material"
   ]
  },
  {
   "cell_type": "code",
   "execution_count": 8,
   "metadata": {
    "collapsed": true
   },
   "outputs": [],
   "source": [
    "material.defines = xeus::xjson::object();\n",
    "material.update();"
   ]
  },
  {
   "cell_type": "code",
   "execution_count": 9,
   "metadata": {
    "collapsed": true
   },
   "outputs": [],
   "source": [
    "// Uniform editors:\n",
    "auto picker = xw::color_picker_generator()\n",
    "    .value(material.uniforms()[\"user_color\"][\"value\"])\n",
    "    .finalize();\n",
    "\n",
    "auto time_slider = xw::slider_generator<double>()\n",
    "    .value(material.uniforms()[\"time\"][\"value\"])\n",
    "    .min(-15)\n",
    "    .max(15)\n",
    "    .finalize();"
   ]
  },
  {
   "cell_type": "code",
   "execution_count": 10,
   "metadata": {},
   "outputs": [],
   "source": [
    "XOBSERVE(picker, value, [&](const auto& p){\n",
    "    auto uniform = material.uniforms();\n",
    "    uniform[\"user_color\"][\"value\"] = p.value();\n",
    "    material.uniforms = uniform;\n",
    "    material.update();\n",
    "});\n",
    "\n",
    "XOBSERVE(time_slider, value, [&](const auto& s){\n",
    "    auto uniform = material.uniforms();\n",
    "    uniform[\"time\"][\"value\"] = s.value();\n",
    "    material.uniforms = uniform;\n",
    "    material.update();\n",
    "});\n",
    "\n",
    "// Present \"dashboard\" in VBox:\n",
    "auto vbox = xw::vbox();\n",
    "vbox.add(xthree::preview(material));\n",
    "vbox.add(picker);\n",
    "vbox.add(time_slider);"
   ]
  },
  {
   "cell_type": "code",
   "execution_count": 11,
   "metadata": {},
   "outputs": [
    {
     "data": {
      "application/vnd.jupyter.widget-view+json": {
       "model_id": "0101331cb3a34a57b85d877cbe7a7e9f",
       "version_major": 2,
       "version_minor": 0
      },
      "text/plain": [
       "A Jupyter widget"
      ]
     },
     "execution_count": 11,
     "metadata": {},
     "output_type": "execute_result"
    }
   ],
   "source": [
    "vbox"
   ]
  },
  {
   "cell_type": "code",
   "execution_count": null,
   "metadata": {
    "collapsed": true
   },
   "outputs": [],
   "source": []
  }
 ],
 "metadata": {
  "kernelspec": {
   "display_name": "C++14",
   "language": "C++14",
   "name": "xeus-cling-cpp14"
  },
  "language_info": {
   "codemirror_mode": "text/x-c++src",
   "file_extension": ".cpp",
   "mimetype": "text/x-c++src",
   "name": "c++",
   "version": "14"
  }
 },
 "nbformat": 4,
 "nbformat_minor": 2
}
