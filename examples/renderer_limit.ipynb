{
 "cells": [
  {
   "cell_type": "code",
   "execution_count": 1,
   "metadata": {
    "collapsed": true
   },
   "outputs": [],
   "source": [
    "#include <xthreejs/xthreejs.hpp>\n",
    "#include <xwidgets/xbox.hpp>"
   ]
  },
  {
   "cell_type": "code",
   "execution_count": 2,
   "metadata": {
    "collapsed": true
   },
   "outputs": [],
   "source": [
    "// Setup our objects\n",
    "auto mat1 = xthree::mesh_standard_material_generator().color(\"#ff0000\").finalize();\n",
    "auto mat2 = xthree::mesh_standard_material_generator().color(\"#00ff00\").finalize();\n",
    "auto mat3 = xthree::mesh_standard_material_generator().color(\"#0000ff\").finalize();\n",
    "auto mat4 = xthree::mesh_standard_material_generator().color(\"#ffff00\").finalize();\n",
    "auto mat5 = xthree::mesh_standard_material_generator().color(\"#ff00ff\").finalize();\n",
    "auto mat6 = xthree::mesh_standard_material_generator().color(\"#00ffff\").finalize();\n",
    "auto torus = xthree::torus_geometry_generator()\n",
    "    .radius(12)\n",
    "    .tube(3)\n",
    "    .radialSegments(16)\n",
    "    .tubularSegments(100)\n",
    "    .finalize();"
   ]
  },
  {
   "cell_type": "code",
   "execution_count": 3,
   "metadata": {
    "collapsed": true
   },
   "outputs": [],
   "source": [
    "auto build_mesh = [](auto& torus, auto& mat){\n",
    "    return xthree::mesh_generator()\n",
    "        .geometry(torus)\n",
    "        .material(mat)\n",
    "        .finalize();\n",
    "};"
   ]
  },
  {
   "cell_type": "code",
   "execution_count": 4,
   "metadata": {
    "collapsed": true
   },
   "outputs": [],
   "source": [
    "auto mesh1 = build_mesh(torus, mat1);\n",
    "auto mesh2 = build_mesh(torus, mat2);\n",
    "auto mesh3 = build_mesh(torus, mat3);\n",
    "auto mesh4 = build_mesh(torus, mat4);\n",
    "auto mesh5 = build_mesh(torus, mat5);\n",
    "auto mesh6 = build_mesh(torus, mat6);"
   ]
  },
  {
   "cell_type": "code",
   "execution_count": 5,
   "metadata": {
    "collapsed": true
   },
   "outputs": [],
   "source": [
    "auto build_preview = [](auto& mesh){\n",
    "    return xthree::preview_generator(mesh)\n",
    "        ._width(150)\n",
    "        ._height(150)\n",
    "        .layout(xw::layout_generator()\n",
    "                    .padding(\"2px\")\n",
    "                    .finalize())\n",
    "        .finalize();\n",
    "};"
   ]
  },
  {
   "cell_type": "code",
   "execution_count": 6,
   "metadata": {},
   "outputs": [],
   "source": [
    "// This will render our meshes, each multiple times, resulting in 30 different renderings\n",
    "// Each of the 30 is a separate widget.  \n",
    "// This test demonstrates:\n",
    "// - rendering shared objects in multiple places\n",
    "// - maintaining interactivity for all renderings\n",
    "// - no prior image is lost because of subsequent renderings\n",
    "auto vbox = xw::vbox();\n",
    "for(std::size_t i=0; i<5; ++i)\n",
    "{\n",
    "    auto hbox = xw::hbox();\n",
    "    hbox.add(build_preview(mesh1));\n",
    "    hbox.add(build_preview(mesh2));\n",
    "    hbox.add(build_preview(mesh3));\n",
    "    hbox.add(build_preview(mesh4));\n",
    "    hbox.add(build_preview(mesh5));\n",
    "    hbox.add(build_preview(mesh6));\n",
    "    vbox.add(std::move(hbox));\n",
    "}"
   ]
  },
  {
   "cell_type": "code",
   "execution_count": 7,
   "metadata": {},
   "outputs": [
    {
     "data": {
      "application/vnd.jupyter.widget-view+json": {
       "model_id": "b5b3cc14312a49efad15f6eeeb7ac4fb",
       "version_major": 2,
       "version_minor": 0
      },
      "text/plain": [
       "A Jupyter widget"
      ]
     },
     "metadata": {},
     "output_type": "display_data"
    }
   ],
   "source": [
    "vbox.display();"
   ]
  },
  {
   "cell_type": "code",
   "execution_count": 8,
   "metadata": {
    "collapsed": true
   },
   "outputs": [],
   "source": [
    "// Test using raw WebGLRenderer\n",
    "// Need a scene, cam, and lights to do so\n",
    "\n",
    "auto scene = xthree::scene();\n",
    "\n",
    "scene.add(mesh1);"
   ]
  },
  {
   "cell_type": "code",
   "execution_count": 9,
   "metadata": {
    "collapsed": true
   },
   "outputs": [],
   "source": [
    "auto cam = xthree::perspective_camera_generator()\n",
    "    .position({0, 0, 50})\n",
    "    .fov(75)\n",
    "    .finalize();\n",
    "\n",
    "//cam.lookAt({0, 0, 0});\n",
    "scene.add(cam);\n",
    "\n",
    "auto amb = xthree::ambient_light_generator()\n",
    "    .color(\"#ffffff\")\n",
    "    .intensity(0.5)\n",
    "    .finalize();\n",
    "\n",
    "auto point = xthree::point_light_generator()\n",
    "    .color(\"#ffffff\")\n",
    "    .intensity(1.0)\n",
    "    .distance(0.0)\n",
    "    .finalize();\n",
    "\n",
    "point.position = std::array<double, 3>{ -100, 100, 100 };\n",
    "//point.lookAt({0, 0, 0});\n",
    "cam.add(amb);\n",
    "cam.add(point);"
   ]
  },
  {
   "cell_type": "code",
   "execution_count": 10,
   "metadata": {
    "collapsed": true
   },
   "outputs": [],
   "source": [
    "auto control = xthree::orbit_controls_generator()\n",
    "                .controlling(cam)\n",
    "                .finalize();"
   ]
  },
  {
   "cell_type": "code",
   "execution_count": null,
   "metadata": {},
   "outputs": [
    {
     "name": "stderr",
     "output_type": "stream",
     "text": [
      "In file included from input_line_7:1:\n",
      "In file included from /home/loic/miniconda3/envs/cling/include/xthreejs/xthreejs.hpp:4:\n",
      "In file included from /home/loic/miniconda3/envs/cling/include/xthreejs/xanimation.hpp:4:\n",
      "In file included from /home/loic/miniconda3/envs/cling/include/xthreejs/animation/tracks/xboolean_keyframe_track_autogen.hpp:9:\n",
      "\u001b[1m/home/loic/miniconda3/envs/cling/include/xthreejs/textures/../base/xenums.hpp:172:28: \u001b[0m\u001b[0;1;31merror: \u001b[0m\u001b[1mdefinition with same mangled name as another definition\u001b[0m\n",
      "        auto ShadowTypes = XEITHER(\n",
      "\u001b[0;1;32m                           ^\n",
      "\u001b[0m\u001b[1m/home/loic/miniconda3/envs/cling/include/xwidgets/xeither.hpp:19:5: \u001b[0m\u001b[0;1;30mnote: \u001b[0mexpanded from macro 'XEITHER'\u001b[0m\n",
      "    [](const auto& proposal) {                                               \\\n",
      "\u001b[0;1;32m    ^\n",
      "\u001b[0m\u001b[1m/home/loic/miniconda3/envs/cling/include/xthreejs/textures/../base/xenums.hpp:13:26: \u001b[0m\u001b[0;1;30mnote: \u001b[0mprevious definition is here\u001b[0m\n",
      "        auto Equations = XEITHER(\n",
      "\u001b[0;1;32m                         ^\n",
      "\u001b[0m\u001b[1m/home/loic/miniconda3/envs/cling/include/xwidgets/xeither.hpp:19:5: \u001b[0m\u001b[0;1;30mnote: \u001b[0mexpanded from macro 'XEITHER'\u001b[0m\n",
      "    [](const auto& proposal) {                                               \\\n",
      "\u001b[0;1;32m    ^\n",
      "\u001b[0m"
     ]
    }
   ],
   "source": [
    "xthree::renderer_generator()\n",
    "    .camera(cam)\n",
    "    .scene(scene)\n",
    "    .controls({control})\n",
    "    .finalize()\n",
    "    .display();"
   ]
  },
  {
   "cell_type": "code",
   "execution_count": null,
   "metadata": {
    "collapsed": true
   },
   "outputs": [],
   "source": [
    "renderer = WebGLRenderer(width=50, height=50)\n",
    "r = renderer"
   ]
  },
  {
   "cell_type": "code",
   "execution_count": null,
   "metadata": {
    "scrolled": true
   },
   "outputs": [],
   "source": [
    "hboxes = []\n",
    "for i in range(5):\n",
    "    views = []\n",
    "    for j in range(5):\n",
    "        views.append(r)\n",
    "    hbox = HBox(children=views)\n",
    "    hboxes.append(hbox)\n",
    "vbox = VBox(children=hboxes)\n",
    "r.layout.padding = '5px'\n",
    "vbox"
   ]
  },
  {
   "cell_type": "code",
   "execution_count": 9,
   "metadata": {
    "collapsed": true
   },
   "outputs": [],
   "source": [
    "for _ in range(10):\n",
    "    renderer.render(scene, cam)\n",
    "    time.sleep(1)"
   ]
  },
  {
   "cell_type": "code",
   "execution_count": null,
   "metadata": {
    "collapsed": true
   },
   "outputs": [],
   "source": []
  }
 ],
 "metadata": {
  "anaconda-cloud": {},
  "kernelspec": {
   "display_name": "xeus C++14",
   "language": "",
   "name": "xeus-cling-cpp14"
  },
  "language_info": {
   "codemirror_mode": "text/x-c++src",
   "file_extension": ".cpp",
   "mimetype": "text/x-c++src",
   "name": "c++",
   "version": ""
  }
 },
 "nbformat": 4,
 "nbformat_minor": 1
}
