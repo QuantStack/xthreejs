{
 "cells": [
  {
   "cell_type": "markdown",
   "metadata": {},
   "source": [
    "# Shadows with xthreejs\n",
    "\n",
    "This example is meant to demonstrate how to set up shadows with pythreejs. It is mainly based on the example code you can find in the three.js documentation, but is adapted to highlight some of the nuances of using it from xthreejs."
   ]
  },
  {
   "cell_type": "markdown",
   "metadata": {},
   "source": [
    "## Setup\n",
    "\n",
    "First, we set up an example scene for exploring shadow behavior."
   ]
  },
  {
   "cell_type": "code",
   "execution_count": 1,
   "metadata": {
    "collapsed": true
   },
   "outputs": [],
   "source": [
    "#include <xthreejs/xthreejs.hpp>"
   ]
  },
  {
   "cell_type": "code",
   "execution_count": 2,
   "metadata": {
    "collapsed": true
   },
   "outputs": [],
   "source": [
    "std::size_t view_width = 800;\n",
    "std::size_t view_height = 600;"
   ]
  },
  {
   "cell_type": "markdown",
   "metadata": {},
   "source": [
    "Create some example geometry in nice coder colors:"
   ]
  },
  {
   "cell_type": "code",
   "execution_count": 3,
   "metadata": {
    "collapsed": true
   },
   "outputs": [],
   "source": [
    "auto sphere = xthree::mesh_generator()\n",
    "    .geometry(xthree::sphere_buffer_geometry_generator()\n",
    "              .radius(1)\n",
    "              .widthSegments(32)\n",
    "              .heightSegments(16)\n",
    "              .finalize()\n",
    "              )\n",
    "    .material(xthree::mesh_standard_material_generator()\n",
    "              .color(\"red\")\n",
    "              .finalize()\n",
    "              )\n",
    "    .finalize();"
   ]
  },
  {
   "cell_type": "code",
   "execution_count": 4,
   "metadata": {
    "collapsed": true
   },
   "outputs": [],
   "source": [
    "auto cube = xthree::mesh_generator()\n",
    "    .geometry(xthree::box_buffer_geometry_generator()\n",
    "              .width(1)\n",
    "              .height(1)\n",
    "              .depth(1)\n",
    "              .finalize()\n",
    "              )\n",
    "    .material(xthree::mesh_physical_material_generator()\n",
    "              .color(\"green\")\n",
    "              .finalize()\n",
    "              )\n",
    "    .position({2, 0, 4})\n",
    "    .finalize();"
   ]
  },
  {
   "cell_type": "code",
   "execution_count": 5,
   "metadata": {
    "collapsed": true
   },
   "outputs": [],
   "source": [
    "auto plane = xthree::mesh_generator()\n",
    "    .geometry(xthree::plane_buffer_geometry_generator()\n",
    "              .width(10)\n",
    "              .height(10)\n",
    "              .finalize()\n",
    "              )\n",
    "    .material(xthree::mesh_standard_material_generator()\n",
    "              .color(\"gray\")\n",
    "              .finalize()\n",
    "              )\n",
    "    .position({0, -2, 0})\n",
    "    .finalize();"
   ]
  },
  {
   "cell_type": "code",
   "execution_count": 6,
   "metadata": {
    "collapsed": true
   },
   "outputs": [],
   "source": [
    "plane.rotation = xthree::euler(-3.14/2, 0, 0, \"XYZ\");"
   ]
  },
  {
   "cell_type": "markdown",
   "metadata": {},
   "source": [
    "Create camera and lighting:"
   ]
  },
  {
   "cell_type": "code",
   "execution_count": 7,
   "metadata": {
    "collapsed": true
   },
   "outputs": [],
   "source": [
    "auto camera = xthree::perspective_camera_generator()\n",
    "    .position({10, 6, 10})\n",
    "    .aspect(view_width/view_height)\n",
    "    .finalize();\n",
    "auto key_light = xthree::spot_light_generator()\n",
    "    .position({0, 10, 10})\n",
    "    .angle(0.3)\n",
    "    .penumbra(0.1)\n",
    "    .finalize();\n",
    "auto ambient_light = xthree::ambient_light();"
   ]
  },
  {
   "cell_type": "code",
   "execution_count": 8,
   "metadata": {
    "collapsed": true
   },
   "outputs": [],
   "source": [
    "auto scene = xthree::scene_generator()\n",
    "    .children({sphere, cube, plane, camera, key_light, ambient_light})\n",
    "    .finalize();\n",
    "auto controller = xthree::orbit_controls_generator()\n",
    "    .controlling(camera)\n",
    "    .finalize();\n",
    "auto renderer = xthree::renderer_generator()\n",
    "    .camera(camera)\n",
    "    .scene(scene)\n",
    "    .controls({controller})\n",
    "    ._width(view_width)\n",
    "    ._height(view_height)\n",
    "    //.antialias(true)\n",
    "    .finalize();"
   ]
  },
  {
   "cell_type": "code",
   "execution_count": 9,
   "metadata": {
    "scrolled": false
   },
   "outputs": [
    {
     "data": {
      "application/vnd.jupyter.widget-view+json": {
       "model_id": "9f646d283cc140658cedf723bdea3dde",
       "version_major": 2,
       "version_minor": 0
      },
      "text/plain": [
       "A Jupyter widget"
      ]
     },
     "metadata": {},
     "output_type": "display_data"
    }
   ],
   "source": [
    "renderer.display()"
   ]
  },
  {
   "cell_type": "markdown",
   "metadata": {},
   "source": [
    "## Configuring shadows\n",
    "\n",
    "Now we can start playing around with the shadows in such a way that the results of the different options are immediately shown in the rendered scene."
   ]
  },
  {
   "cell_type": "markdown",
   "metadata": {},
   "source": [
    "First, set the spot light to track the cube position:"
   ]
  },
  {
   "cell_type": "code",
   "execution_count": 10,
   "metadata": {
    "collapsed": true
   },
   "outputs": [],
   "source": [
    "key_light.target = cube;"
   ]
  },
  {
   "cell_type": "markdown",
   "metadata": {},
   "source": [
    "Turn on shadows in the renderer:"
   ]
  },
  {
   "cell_type": "code",
   "execution_count": 11,
   "metadata": {},
   "outputs": [
    {
     "name": "stderr",
     "output_type": "stream",
     "text": [
      "\u001b[1minput_line_17:2:21: \u001b[0m\u001b[0;1;31merror: \u001b[0m\u001b[1mno member named 'enabled' in 'xthree::xrender_widget<xw::xmaterialize<xthree::xrenderer> >::shadowMap_property'\u001b[0m\n",
      " renderer.shadowMap.enabled = true;\n",
      "\u001b[0;1;32m ~~~~~~~~~~~~~~~~~~ ^\n",
      "\u001b[0m\u001b[1minput_line_17:3:20: \u001b[0m\u001b[0;1;31merror: \u001b[0m\u001b[1mno member named 'type' in 'xthree::xrender_widget<xw::xmaterialize<xthree::xrenderer> >::shadowMap_property'\u001b[0m\n",
      "renderer.shadowMap.type = \"PCFSoftShadowMap\"  // default PCFShadowMap\n",
      "\u001b[0;1;32m~~~~~~~~~~~~~~~~~~ ^\n",
      "\u001b[0m"
     ]
    },
    {
     "ename": "Interpreter Error",
     "evalue": "",
     "output_type": "error",
     "traceback": [
      "Interpreter Error: "
     ]
    }
   ],
   "source": [
    "renderer.shadowMap.enabled = true;\n",
    "renderer.shadowMap.type = \"PCFSoftShadowMap\"  // default PCFShadowMap"
   ]
  },
  {
   "cell_type": "markdown",
   "metadata": {},
   "source": [
    "Even with shadow maps enabled, there are still no shadows. This is because three.js only includes those lights and objects that has been explicitly marked for shadows in its calculations. Let's turn on some of these:"
   ]
  },
  {
   "cell_type": "code",
   "execution_count": 12,
   "metadata": {
    "collapsed": true
   },
   "outputs": [],
   "source": [
    "// Enable shadows for the light\n",
    "key_light.castShadow = true;\n",
    "\n",
    "// Enable casting/receiving shadows for some objects:\n",
    "sphere.castShadow = true;\n",
    "cube.castShadow = true;\n",
    "plane.receiveShadow = true;"
   ]
  },
  {
   "cell_type": "markdown",
   "metadata": {},
   "source": [
    "Let's move the cube closer to the sphere:"
   ]
  },
  {
   "cell_type": "code",
   "execution_count": 12,
   "metadata": {
    "collapsed": true
   },
   "outputs": [],
   "source": [
    "cube.position = (0, 1, 2)"
   ]
  },
  {
   "cell_type": "markdown",
   "metadata": {},
   "source": [
    "Note that the light changed to track the position of the cube. It is also clear that the shadow from the cube is not being taken into account on the sphere. As before, we can turn this on with `receiveShadow` on the sphere, but we also need to mark the sphere material for an update. This is needed for any shadow changes *after the first frame with shadows* is rendered."
   ]
  },
  {
   "cell_type": "code",
   "execution_count": 13,
   "metadata": {
    "collapsed": true
   },
   "outputs": [],
   "source": [
    "# Also enable sphere to receive shadow:\n",
    "sphere.receiveShadow = True\n",
    "sphere.material.needsUpdate = True"
   ]
  },
  {
   "cell_type": "markdown",
   "metadata": {},
   "source": [
    "Finally, let's zoom in on the details of the shadows:"
   ]
  },
  {
   "cell_type": "code",
   "execution_count": 14,
   "metadata": {
    "collapsed": true
   },
   "outputs": [],
   "source": [
    "camera.position = [2.92, 1.75, 2.92]\n",
    "camera.quaternion = [-0.18, 0.38, 0.076, 0.90]"
   ]
  },
  {
   "cell_type": "markdown",
   "metadata": {},
   "source": [
    "Here, we can see that there is some pixelation of the shadows (although it is smoothed by using `PCFSoftShadowMap`). This can be fixed by increasing the resolution of the shadow map:"
   ]
  },
  {
   "cell_type": "code",
   "execution_count": 15,
   "metadata": {
    "collapsed": true
   },
   "outputs": [],
   "source": [
    "key_light.shadow.mapSize = (2048, 2048)"
   ]
  },
  {
   "cell_type": "code",
   "execution_count": null,
   "metadata": {
    "collapsed": true
   },
   "outputs": [],
   "source": []
  }
 ],
 "metadata": {
  "kernelspec": {
   "display_name": "C++14",
   "language": "C++14",
   "name": "xeus-cling-cpp14"
  },
  "language_info": {
   "codemirror_mode": "text/x-c++src",
   "file_extension": ".cpp",
   "mimetype": "text/x-c++src",
   "name": "c++",
   "version": "14"
  }
 },
 "nbformat": 4,
 "nbformat_minor": 2
}
