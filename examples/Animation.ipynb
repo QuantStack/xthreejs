{
 "cells": [
  {
   "cell_type": "markdown",
   "metadata": {},
   "source": [
    "# Animation"
   ]
  },
  {
   "cell_type": "code",
   "execution_count": 1,
   "metadata": {
    "collapsed": true
   },
   "outputs": [],
   "source": [
    "#include <xthreejs/xthreejs.hpp>"
   ]
  },
  {
   "cell_type": "code",
   "execution_count": 2,
   "metadata": {
    "collapsed": true
   },
   "outputs": [],
   "source": [
    "std::size_t view_width = 600;\n",
    "std::size_t view_height = 400;"
   ]
  },
  {
   "cell_type": "markdown",
   "metadata": {},
   "source": [
    "Let's first set up a basic scene with a cube and a sphere,"
   ]
  },
  {
   "cell_type": "code",
   "execution_count": 3,
   "metadata": {
    "collapsed": true
   },
   "outputs": [],
   "source": [
    "auto sphere = xthree::mesh_generator()\n",
    "    .geometry(xthree::sphere_buffer_geometry_generator()\n",
    "              .radius(1)\n",
    "              .widthSegments(32)\n",
    "              .heightSegments(16)\n",
    "              .finalize()\n",
    "              )\n",
    "    .material(xthree::mesh_standard_material_generator()\n",
    "              .color(\"red\")\n",
    "              .finalize()\n",
    "              )\n",
    "    .finalize();"
   ]
  },
  {
   "cell_type": "code",
   "execution_count": 4,
   "metadata": {
    "collapsed": true
   },
   "outputs": [],
   "source": [
    "auto cube = xthree::mesh_generator()\n",
    "    .geometry(xthree::box_buffer_geometry_generator()\n",
    "             .width(1)\n",
    "             .height(1)\n",
    "             .depth(1)\n",
    "             .finalize()\n",
    "             )\n",
    "    .material(xthree::mesh_standard_material_generator()\n",
    "             .color(\"green\")\n",
    "             .finalize()\n",
    "             )\n",
    "    .position({2, 0, 4})\n",
    "    .finalize();"
   ]
  },
  {
   "cell_type": "markdown",
   "metadata": {},
   "source": [
    "as well as lighting and camera:"
   ]
  },
  {
   "cell_type": "code",
   "execution_count": 5,
   "metadata": {
    "collapsed": true
   },
   "outputs": [],
   "source": [
    "auto camera = xthree::perspective_camera_generator()\n",
    "    .position({10, 6, 10})\n",
    "    .aspect(view_width/view_height)\n",
    "    .finalize();\n",
    "auto key_light = xthree::directional_light_generator()\n",
    "    .position({0, 10, 10})\n",
    "    .finalize();\n",
    "auto ambient_light = xthree::ambient_light();"
   ]
  },
  {
   "cell_type": "markdown",
   "metadata": {},
   "source": [
    "## Keyframe animation\n",
    "\n",
    "The three.js animation system is built as a [keyframe](https://en.wikipedia.org/wiki/Key_frame) system. We'll demonstrate this by animating the position and rotation of our camera."
   ]
  },
  {
   "cell_type": "markdown",
   "metadata": {},
   "source": [
    "First, we set up the keyframes for the position and the rotation separately:"
   ]
  },
  {
   "cell_type": "code",
   "execution_count": 6,
   "metadata": {
    "collapsed": true
   },
   "outputs": [],
   "source": [
    "auto positon_track = xthree::vector_keyframe_track_generator()\n",
    "    .name(\".position\")\n",
    "    .times({0, 2, 5})\n",
    "    .values({ 10, 6, 10,\n",
    "             6.3, 3.78, 6.3,\n",
    "            -2.98, 0.84, 9.2\n",
    "            })\n",
    "    .finalize();"
   ]
  },
  {
   "cell_type": "code",
   "execution_count": 7,
   "metadata": {
    "collapsed": true
   },
   "outputs": [],
   "source": [
    "auto rotation_track = xthree::quaternion_keyframe_track_generator()\n",
    "    .name(\".quaternion\")\n",
    "    .times({0, 2, 5})\n",
    "    .values({-0.184, 0.375, 0.0762, 0.905,\n",
    "            -0.184, 0.375, 0.0762, 0.905,\n",
    "            -0.0430, -0.156, -0.00681, 0.987,\n",
    "            })\n",
    "    .finalize();"
   ]
  },
  {
   "cell_type": "markdown",
   "metadata": {},
   "source": [
    "Next, we create an animation clip combining the two tracks, and finally an animation action to control the animation. See the three.js docs for more details on the different responsibilities of the different classes."
   ]
  },
  {
   "cell_type": "code",
   "execution_count": 8,
   "metadata": {
    "collapsed": true
   },
   "outputs": [],
   "source": [
    "auto camera_clip = xthree::animation_clip_generator()\n",
    "    .tracks({positon_track, rotation_track})\n",
    "    .finalize();"
   ]
  },
  {
   "cell_type": "code",
   "execution_count": 9,
   "metadata": {
    "collapsed": true
   },
   "outputs": [],
   "source": [
    "auto camera_action = xthree::animation_action_generator()\n",
    "    .mixer(xthree::animation_mixer_generator()\n",
    "           .rootObject(camera)\n",
    "           .finalize()\n",
    "           )\n",
    "    .clip(camera_clip)\n",
    "    .localRoot(camera)\n",
    "    .finalize();"
   ]
  },
  {
   "cell_type": "markdown",
   "metadata": {},
   "source": [
    "Now, let's see it in action:"
   ]
  },
  {
   "cell_type": "code",
   "execution_count": 10,
   "metadata": {
    "collapsed": true
   },
   "outputs": [],
   "source": [
    "auto scene = xthree::scene_generator()\n",
    "    .children({sphere, cube, camera, key_light, ambient_light})\n",
    "    .finalize();\n",
    "auto controller = xthree::orbit_controls_generator()\n",
    "    .controlling(camera)\n",
    "    .finalize();\n",
    "auto renderer = xthree::renderer_generator()\n",
    "    .camera(camera)\n",
    "    .scene(scene)\n",
    "    .controls({controller})\n",
    "    ._width(view_width)\n",
    "    ._height(view_height)\n",
    "    .finalize();"
   ]
  },
  {
   "cell_type": "code",
   "execution_count": 11,
   "metadata": {},
   "outputs": [
    {
     "data": {
      "application/vnd.jupyter.widget-view+json": {
       "model_id": "6f6e5c4c66d34bf782a9deb6a95f4de8",
       "version_major": 2,
       "version_minor": 0
      },
      "text/plain": [
       "A Jupyter widget"
      ]
     },
     "metadata": {},
     "output_type": "display_data"
    }
   ],
   "source": [
    "renderer.display()"
   ]
  },
  {
   "cell_type": "code",
   "execution_count": 12,
   "metadata": {},
   "outputs": [
    {
     "data": {
      "application/vnd.jupyter.widget-view+json": {
       "model_id": "4ea2276facdc42c9847e1592c121940e",
       "version_major": 2,
       "version_minor": 0
      },
      "text/plain": [
       "A Jupyter widget"
      ]
     },
     "metadata": {},
     "output_type": "display_data"
    }
   ],
   "source": [
    "camera_action.display();"
   ]
  },
  {
   "cell_type": "markdown",
   "metadata": {},
   "source": [
    "Let's add another animation clip, this time animating the color of the sphere's material:"
   ]
  },
  {
   "cell_type": "code",
   "execution_count": 11,
   "metadata": {},
   "outputs": [
    {
     "name": "stderr",
     "output_type": "stream",
     "text": [
      "/home/loic/miniconda3/envs/cling-benjamin/lib/python3.5/site-packages/ipydatawidgets/ndarray/serializers.py:62: UserWarning: Cannot serialize (u)int64 data, Javascript does not support it. Casting to (u)int32.\n",
      "  warnings.warn('Cannot serialize (u)int64 data, Javascript does not support it. '\n"
     ]
    }
   ],
   "source": [
    "color_track = ColorKeyframeTrack(name='.material.color',\n",
    "    times=[0, 1], values=[1, 0, 0,  0, 0, 1])  # red to blue\n",
    "\n",
    "color_clip = AnimationClip(tracks=[color_track], duration=1.5)\n",
    "color_action = AnimationAction(AnimationMixer(sphere), color_clip, sphere)"
   ]
  },
  {
   "cell_type": "code",
   "execution_count": 12,
   "metadata": {},
   "outputs": [
    {
     "data": {
      "application/vnd.jupyter.widget-view+json": {
       "model_id": "a51b02dcb39b4b009ed86b60d4005688",
       "version_major": 2,
       "version_minor": 0
      },
      "text/html": [
       "<p>Failed to display Jupyter Widget of type <code>AnimationAction</code>.</p>\n",
       "<p>\n",
       "  If you're reading this message in the Jupyter Notebook or JupyterLab Notebook, it may mean\n",
       "  that the widgets JavaScript is still loading. If this message persists, it\n",
       "  likely means that the widgets JavaScript library is either not installed or\n",
       "  not enabled. See the <a href=\"https://ipywidgets.readthedocs.io/en/stable/user_install.html\">Jupyter\n",
       "  Widgets Documentation</a> for setup instructions.\n",
       "</p>\n",
       "<p>\n",
       "  If you're reading this message in another frontend (for example, a static\n",
       "  rendering on GitHub or <a href=\"https://nbviewer.jupyter.org/\">NBViewer</a>),\n",
       "  it may mean that your frontend doesn't currently support widgets.\n",
       "</p>\n"
      ],
      "text/plain": [
       "AnimationAction(clip=AnimationClip(duration=1.5, tracks=(ColorKeyframeTrack(name='.material.color', times=array([0, 1]), values=array([1, 0, 0, 0, 0, 1])),)), localRoot=Mesh(geometry=SphereBufferGeometry(heightSegments=16, type='SphereBufferGeometry', widthSegments=32), material=MeshStandardMaterial(alphaMap=None, aoMap=None, bumpMap=None, color='red', defines={'STANDARD': ''}, displacementMap=None, emissiveMap=None, envMap=None, lightMap=None, map=None, metalnessMap=None, normalMap=None, normalScale=(1.0, 1.0), roughnessMap=None, type='MeshStandardMaterial'), quaternion=(0.0, 0.0, 0.0, 1.0), scale=(1.0, 1.0, 1.0), type='Mesh', up=(0.0, 1.0, 0.0)), mixer=AnimationMixer(rootObject=Mesh(geometry=SphereBufferGeometry(heightSegments=16, type='SphereBufferGeometry', widthSegments=32), material=MeshStandardMaterial(alphaMap=None, aoMap=None, bumpMap=None, color='red', defines={'STANDARD': ''}, displacementMap=None, emissiveMap=None, envMap=None, lightMap=None, map=None, metalnessMap=None, normalMap=None, normalScale=(1.0, 1.0), roughnessMap=None, type='MeshStandardMaterial'), quaternion=(0.0, 0.0, 0.0, 1.0), scale=(1.0, 1.0, 1.0), type='Mesh', up=(0.0, 1.0, 0.0))))"
      ]
     },
     "metadata": {},
     "output_type": "display_data"
    }
   ],
   "source": [
    "color_action"
   ]
  },
  {
   "cell_type": "markdown",
   "metadata": {},
   "source": [
    "Note how the two animation clips can freely be combined since they affect different properties. It's also worth noting that the color animation can be combined with manual camera control, while the camera animation cannot. When animating the camera, you might want to consider disabling the manual controls."
   ]
  },
  {
   "cell_type": "markdown",
   "metadata": {},
   "source": [
    "### Animating rotation\n",
    "\n",
    "When animating the camera rotation above, we used the camera's `quaternion`. This is the most robust method if animating free-form rotations. For example, the animation above was created by first moving the camera manually, and then reading out its `position` and `quaternion` properties at the wanted views. If you want more intuitive axes control, it is possible to animate the `rotation` sub-attributes instead, as shown below."
   ]
  },
  {
   "cell_type": "code",
   "execution_count": 13,
   "metadata": {},
   "outputs": [
    {
     "data": {
      "application/vnd.jupyter.widget-view+json": {
       "model_id": "69880aa1292241908e54e1f246787256",
       "version_major": 2,
       "version_minor": 0
      },
      "text/html": [
       "<p>Failed to display Jupyter Widget of type <code>Renderer</code>.</p>\n",
       "<p>\n",
       "  If you're reading this message in the Jupyter Notebook or JupyterLab Notebook, it may mean\n",
       "  that the widgets JavaScript is still loading. If this message persists, it\n",
       "  likely means that the widgets JavaScript library is either not installed or\n",
       "  not enabled. See the <a href=\"https://ipywidgets.readthedocs.io/en/stable/user_install.html\">Jupyter\n",
       "  Widgets Documentation</a> for setup instructions.\n",
       "</p>\n",
       "<p>\n",
       "  If you're reading this message in another frontend (for example, a static\n",
       "  rendering on GitHub or <a href=\"https://nbviewer.jupyter.org/\">NBViewer</a>),\n",
       "  it may mean that your frontend doesn't currently support widgets.\n",
       "</p>\n"
      ],
      "text/plain": [
       "Renderer(camera=PerspectiveCamera(aspect=1.5, position=(10.0, 6.0, 10.0), quaternion=(0.0, 0.0, 0.0, 1.0), scale=(1.0, 1.0, 1.0), up=(0.0, 1.0, 0.0)), controls=[OrbitControls(controlling=PerspectiveCamera(aspect=1.5, position=(10.0, 6.0, 10.0), quaternion=(0.0, 0.0, 0.0, 1.0), scale=(1.0, 1.0, 1.0), up=(0.0, 1.0, 0.0)))], scene=Scene(children=(Group(children=(Mesh(geometry=ParametricGeometry(func='\\nfunction f(origu,origv) {\\n    // scale u and v to the ranges I want: [0, 2*pi]\\n    var u = 2*Math.PI*origu;\\n    var v = 2*Math.PI*origv;\\n    \\n    var x = Math.sin(u);\\n    var y = Math.cos(v);\\n    var z = Math.cos(u+v);\\n    \\n    return new THREE.Vector3(x,y,z)\\n}\\n', slices=16, stacks=16), material=MeshLambertMaterial(alphaMap=None, aoMap=None, color='green', emissiveMap=None, envMap=None, lightMap=None, map=None, specularMap=None), quaternion=(0.0, 0.0, 0.0, 1.0), scale=(1.0, 1.0, 1.0), up=(0.0, 1.0, 0.0)), Mesh(geometry=ParametricGeometry(func='\\nfunction f(origu,origv) {\\n    // scale u and v to the ranges I want: [0, 2*pi]\\n    var u = 2*Math.PI*origu;\\n    var v = 2*Math.PI*origv;\\n    \\n    var x = Math.sin(u);\\n    var y = Math.cos(v);\\n    var z = Math.cos(u+v);\\n    \\n    return new THREE.Vector3(x,y,z)\\n}\\n', slices=16, stacks=16), material=MeshLambertMaterial(alphaMap=None, aoMap=None, color='yellow', emissiveMap=None, envMap=None, lightMap=None, map=None, side='BackSide', specularMap=None), quaternion=(0.0, 0.0, 0.0, 1.0), scale=(1.0, 1.0, 1.0), up=(0.0, 1.0, 0.0))), quaternion=(0.0, 0.0, 0.0, 1.0), scale=(1.0, 1.0, 1.0), up=(0.0, 1.0, 0.0)), PerspectiveCamera(aspect=1.5, position=(10.0, 6.0, 10.0), quaternion=(0.0, 0.0, 0.0, 1.0), scale=(1.0, 1.0, 1.0), up=(0.0, 1.0, 0.0)), DirectionalLight(intensity=0.6, position=(3.0, 5.0, 1.0), quaternion=(0.0, 0.0, 0.0, 1.0), scale=(1.0, 1.0, 1.0), up=(0.0, 1.0, 0.0)), AmbientLight(intensity=0.5, quaternion=(0.0, 0.0, 0.0, 1.0), scale=(1.0, 1.0, 1.0), up=(0.0, 1.0, 0.0))), fog=None, overrideMaterial=None, quaternion=(0.0, 0.0, 0.0, 1.0), scale=(1.0, 1.0, 1.0), up=(0.0, 1.0, 0.0)), shadowMap=WebGLShadowMap())"
      ]
     },
     "metadata": {},
     "output_type": "display_data"
    }
   ],
   "source": [
    "f = \"\"\"\n",
    "function f(origu,origv) {\n",
    "    // scale u and v to the ranges I want: [0, 2*pi]\n",
    "    var u = 2*Math.PI*origu;\n",
    "    var v = 2*Math.PI*origv;\n",
    "    \n",
    "    var x = Math.sin(u);\n",
    "    var y = Math.cos(v);\n",
    "    var z = Math.cos(u+v);\n",
    "    \n",
    "    return new THREE.Vector3(x,y,z)\n",
    "}\n",
    "\"\"\"\n",
    "surf_g = ParametricGeometry(func=f, slices=16, stacks=16);\n",
    "\n",
    "surf1 = Mesh(geometry=surf_g, material=MeshLambertMaterial(color='green', side='FrontSide'))\n",
    "surf2 = Mesh(geometry=surf_g, material=MeshLambertMaterial(color='yellow', side='BackSide'))\n",
    "surf = Group(children=[surf1, surf2])\n",
    "\n",
    "camera2 = PerspectiveCamera( position=[10, 6, 10], aspect=view_width/view_height)\n",
    "scene2 = Scene(children=[surf, camera2,\n",
    "                         DirectionalLight(position=[3, 5, 1], intensity=0.6),\n",
    "                         AmbientLight(intensity=0.5)])\n",
    "renderer2 = Renderer(camera=camera2, scene=scene2, controls=[OrbitControls(controlling=camera2)],\n",
    "                     width=view_width, height=view_height)\n",
    "display(renderer2)"
   ]
  },
  {
   "cell_type": "code",
   "execution_count": 14,
   "metadata": {},
   "outputs": [
    {
     "name": "stderr",
     "output_type": "stream",
     "text": [
      "/home/loic/miniconda3/envs/cling-benjamin/lib/python3.5/site-packages/ipydatawidgets/ndarray/serializers.py:62: UserWarning: Cannot serialize (u)int64 data, Javascript does not support it. Casting to (u)int32.\n",
      "  warnings.warn('Cannot serialize (u)int64 data, Javascript does not support it. '\n"
     ]
    },
    {
     "data": {
      "application/vnd.jupyter.widget-view+json": {
       "model_id": "0b6d2fb0544b4f0bbb6d2f338463a32e",
       "version_major": 2,
       "version_minor": 0
      },
      "text/html": [
       "<p>Failed to display Jupyter Widget of type <code>AnimationAction</code>.</p>\n",
       "<p>\n",
       "  If you're reading this message in the Jupyter Notebook or JupyterLab Notebook, it may mean\n",
       "  that the widgets JavaScript is still loading. If this message persists, it\n",
       "  likely means that the widgets JavaScript library is either not installed or\n",
       "  not enabled. See the <a href=\"https://ipywidgets.readthedocs.io/en/stable/user_install.html\">Jupyter\n",
       "  Widgets Documentation</a> for setup instructions.\n",
       "</p>\n",
       "<p>\n",
       "  If you're reading this message in another frontend (for example, a static\n",
       "  rendering on GitHub or <a href=\"https://nbviewer.jupyter.org/\">NBViewer</a>),\n",
       "  it may mean that your frontend doesn't currently support widgets.\n",
       "</p>\n"
      ],
      "text/plain": [
       "AnimationAction(clip=AnimationClip(tracks=(NumberKeyframeTrack(name='.rotation[y]', times=array([0, 2]), values=array([0.  , 6.28], dtype=float32)),)), localRoot=Group(children=(Mesh(geometry=ParametricGeometry(func='\\nfunction f(origu,origv) {\\n    // scale u and v to the ranges I want: [0, 2*pi]\\n    var u = 2*Math.PI*origu;\\n    var v = 2*Math.PI*origv;\\n    \\n    var x = Math.sin(u);\\n    var y = Math.cos(v);\\n    var z = Math.cos(u+v);\\n    \\n    return new THREE.Vector3(x,y,z)\\n}\\n', slices=16, stacks=16, type='ParametricGeometry'), material=MeshLambertMaterial(alphaMap=None, aoMap=None, color='green', emissiveMap=None, envMap=None, lightMap=None, map=None, specularMap=None, type='MeshLambertMaterial'), quaternion=(0.0, 0.0, 0.0, 1.0), scale=(1.0, 1.0, 1.0), type='Mesh', up=(0.0, 1.0, 0.0)), Mesh(geometry=ParametricGeometry(func='\\nfunction f(origu,origv) {\\n    // scale u and v to the ranges I want: [0, 2*pi]\\n    var u = 2*Math.PI*origu;\\n    var v = 2*Math.PI*origv;\\n    \\n    var x = Math.sin(u);\\n    var y = Math.cos(v);\\n    var z = Math.cos(u+v);\\n    \\n    return new THREE.Vector3(x,y,z)\\n}\\n', slices=16, stacks=16, type='ParametricGeometry'), material=MeshLambertMaterial(alphaMap=None, aoMap=None, color='yellow', emissiveMap=None, envMap=None, lightMap=None, map=None, side='BackSide', specularMap=None, type='MeshLambertMaterial'), quaternion=(0.0, 0.0, 0.0, 1.0), scale=(1.0, 1.0, 1.0), type='Mesh', up=(0.0, 1.0, 0.0))), quaternion=(0.0, 0.0, 0.0, 1.0), scale=(1.0, 1.0, 1.0), type='Group', up=(0.0, 1.0, 0.0)), mixer=AnimationMixer(rootObject=Group(children=(Mesh(geometry=ParametricGeometry(func='\\nfunction f(origu,origv) {\\n    // scale u and v to the ranges I want: [0, 2*pi]\\n    var u = 2*Math.PI*origu;\\n    var v = 2*Math.PI*origv;\\n    \\n    var x = Math.sin(u);\\n    var y = Math.cos(v);\\n    var z = Math.cos(u+v);\\n    \\n    return new THREE.Vector3(x,y,z)\\n}\\n', slices=16, stacks=16, type='ParametricGeometry'), material=MeshLambertMaterial(alphaMap=None, aoMap=None, color='green', emissiveMap=None, envMap=None, lightMap=None, map=None, specularMap=None, type='MeshLambertMaterial'), quaternion=(0.0, 0.0, 0.0, 1.0), scale=(1.0, 1.0, 1.0), type='Mesh', up=(0.0, 1.0, 0.0)), Mesh(geometry=ParametricGeometry(func='\\nfunction f(origu,origv) {\\n    // scale u and v to the ranges I want: [0, 2*pi]\\n    var u = 2*Math.PI*origu;\\n    var v = 2*Math.PI*origv;\\n    \\n    var x = Math.sin(u);\\n    var y = Math.cos(v);\\n    var z = Math.cos(u+v);\\n    \\n    return new THREE.Vector3(x,y,z)\\n}\\n', slices=16, stacks=16, type='ParametricGeometry'), material=MeshLambertMaterial(alphaMap=None, aoMap=None, color='yellow', emissiveMap=None, envMap=None, lightMap=None, map=None, side='BackSide', specularMap=None, type='MeshLambertMaterial'), quaternion=(0.0, 0.0, 0.0, 1.0), scale=(1.0, 1.0, 1.0), type='Mesh', up=(0.0, 1.0, 0.0))), quaternion=(0.0, 0.0, 0.0, 1.0), scale=(1.0, 1.0, 1.0), type='Group', up=(0.0, 1.0, 0.0))))"
      ]
     },
     "metadata": {},
     "output_type": "display_data"
    }
   ],
   "source": [
    "spin_track = NumberKeyframeTrack(name='.rotation[y]', times=[0, 2], values=[0, 6.28])\n",
    "spin_clip = AnimationClip(tracks=[spin_track])\n",
    "spin_action = AnimationAction(AnimationMixer(surf), spin_clip, surf)\n",
    "spin_action"
   ]
  },
  {
   "cell_type": "markdown",
   "metadata": {},
   "source": [
    "Note that we are spinning the object itself, and that we are therefore free to manipulate the camera at will."
   ]
  },
  {
   "cell_type": "markdown",
   "metadata": {},
   "source": [
    "## Morph targets\n",
    "\n",
    "Set up a simple sphere geometry, and add a morph target that is an oblong pill shape:"
   ]
  },
  {
   "cell_type": "code",
   "execution_count": 15,
   "metadata": {
    "collapsed": true
   },
   "outputs": [],
   "source": [
    "# This lets three.js create the geometry, then syncs back vertex positions etc.\n",
    "# For this reason, you should allow for the sync to complete before executing the next cell\n",
    "morph = BufferGeometry.from_geometry(SphereBufferGeometry(1, 32, 16))"
   ]
  },
  {
   "cell_type": "code",
   "execution_count": 16,
   "metadata": {
    "collapsed": true,
    "tags": [
     "nbval-skip"
    ]
   },
   "outputs": [],
   "source": [
    "import numpy as np\n",
    "\n",
    "# Set up morph targets:\n",
    "vertices = np.array(morph.attributes['position'].array)\n",
    "for i in range(len(vertices)):\n",
    "    if vertices[i, 0] > 0:\n",
    "        vertices[i, 0] += 1\n",
    "morph.morphAttributes = {'position': [\n",
    "    BufferAttribute(vertices),\n",
    "]}\n",
    "\n",
    "morphMesh = Mesh(morph, MeshPhongMaterial(color='#ff3333', shininess=150, morphTargets=True))"
   ]
  },
  {
   "cell_type": "markdown",
   "metadata": {},
   "source": [
    "Set up animation for going back and forth between the sphere and pill shape:"
   ]
  },
  {
   "cell_type": "code",
   "execution_count": 17,
   "metadata": {
    "collapsed": true,
    "tags": [
     "nbval-skip"
    ]
   },
   "outputs": [],
   "source": [
    "pill_track = NumberKeyframeTrack(name='.morphTargetInfluences[0]', times=[0, 1.5, 3], values=[0, 2.5, 0])\n",
    "pill_clip = AnimationClip(tracks=[pill_track])\n",
    "pill_action = AnimationAction(AnimationMixer(morphMesh), pill_clip, morphMesh)"
   ]
  },
  {
   "cell_type": "code",
   "execution_count": 18,
   "metadata": {
    "tags": [
     "nbval-skip"
    ]
   },
   "outputs": [
    {
     "data": {
      "application/vnd.jupyter.widget-view+json": {
       "model_id": "70dff3336f96494fa1c2b815646c75d0",
       "version_major": 2,
       "version_minor": 0
      },
      "text/html": [
       "<p>Failed to display Jupyter Widget of type <code>Renderer</code>.</p>\n",
       "<p>\n",
       "  If you're reading this message in the Jupyter Notebook or JupyterLab Notebook, it may mean\n",
       "  that the widgets JavaScript is still loading. If this message persists, it\n",
       "  likely means that the widgets JavaScript library is either not installed or\n",
       "  not enabled. See the <a href=\"https://ipywidgets.readthedocs.io/en/stable/user_install.html\">Jupyter\n",
       "  Widgets Documentation</a> for setup instructions.\n",
       "</p>\n",
       "<p>\n",
       "  If you're reading this message in another frontend (for example, a static\n",
       "  rendering on GitHub or <a href=\"https://nbviewer.jupyter.org/\">NBViewer</a>),\n",
       "  it may mean that your frontend doesn't currently support widgets.\n",
       "</p>\n"
      ],
      "text/plain": [
       "Renderer(camera=PerspectiveCamera(aspect=1.5, position=(5.0, 3.0, 5.0), quaternion=(0.0, 0.0, 0.0, 1.0), scale=(1.0, 1.0, 1.0), up=(0.0, 1.0, 0.0)), controls=[OrbitControls(controlling=PerspectiveCamera(aspect=1.5, position=(5.0, 3.0, 5.0), quaternion=(0.0, 0.0, 0.0, 1.0), scale=(1.0, 1.0, 1.0), up=(0.0, 1.0, 0.0)))], scene=Scene(children=(Mesh(geometry=BufferGeometry(attributes={'uv': BufferAttribute(array=array([[0.     , 1.     ],\n",
       "       [0.03125, 1.     ],\n",
       "       [0.0625 , 1.     ],\n",
       "       ...,\n",
       "       [0.9375 , 0.     ],\n",
       "       [0.96875, 0.     ],\n",
       "       [1.     , 0.     ]], dtype=float32), normalized=False, version=0), 'position': BufferAttribute(array=array([[-0.0000000e+00,  1.0000000e+00,  0.0000000e+00],\n",
       "       [-0.0000000e+00,  1.0000000e+00,  0.0000000e+00],\n",
       "       [-0.0000000e+00,  1.0000000e+00,  0.0000000e+00],\n",
       "       ...,\n",
       "       [-1.1314261e-16, -1.0000000e+00, -4.6865205e-17],\n",
       "       [-1.2011156e-16, -1.0000000e+00, -2.3891674e-17],\n",
       "       [-1.2246469e-16, -1.0000000e+00, -2.9995195e-32]], dtype=float32), normalized=False, version=0), 'normal': BufferAttribute(array=array([[-0.0000000e+00,  1.0000000e+00,  0.0000000e+00],\n",
       "       [-0.0000000e+00,  1.0000000e+00,  0.0000000e+00],\n",
       "       [-0.0000000e+00,  1.0000000e+00,  0.0000000e+00],\n",
       "       ...,\n",
       "       [-1.1314261e-16, -1.0000000e+00, -4.6865205e-17],\n",
       "       [-1.2011156e-16, -1.0000000e+00, -2.3891674e-17],\n",
       "       [-1.2246469e-16, -1.0000000e+00, -2.9995195e-32]], dtype=float32), normalized=False, version=0)}, morphAttributes={'position': (BufferAttribute(array=array([[-0.0000000e+00,  1.0000000e+00,  0.0000000e+00],\n",
       "       [-0.0000000e+00,  1.0000000e+00,  0.0000000e+00],\n",
       "       [-0.0000000e+00,  1.0000000e+00,  0.0000000e+00],\n",
       "       ...,\n",
       "       [-1.1314261e-16, -1.0000000e+00, -4.6865205e-17],\n",
       "       [-1.2011156e-16, -1.0000000e+00, -2.3891674e-17],\n",
       "       [-1.2246469e-16, -1.0000000e+00, -2.9995195e-32]], dtype=float32), version=1),)}, type='BufferGeometry'), material=MeshPhongMaterial(alphaMap=None, aoMap=None, bumpMap=None, color='#ff3333', displacementMap=None, emissiveMap=None, envMap=None, lightMap=None, map=None, morphTargets=True, normalMap=None, normalScale=(1.0, 1.0), shininess=150.0, specularMap=None, type='MeshPhongMaterial'), quaternion=(0.0, 0.0, 0.0, 1.0), scale=(1.0, 1.0, 1.0), type='Mesh', up=(0.0, 1.0, 0.0)), PerspectiveCamera(aspect=1.5, position=(5.0, 3.0, 5.0), quaternion=(0.0, 0.0, 0.0, 1.0), scale=(1.0, 1.0, 1.0), up=(0.0, 1.0, 0.0)), DirectionalLight(intensity=0.6, position=(3.0, 5.0, 1.0), quaternion=(0.0, 0.0, 0.0, 1.0), scale=(1.0, 1.0, 1.0), up=(0.0, 1.0, 0.0)), AmbientLight(intensity=0.5, quaternion=(0.0, 0.0, 0.0, 1.0), scale=(1.0, 1.0, 1.0), up=(0.0, 1.0, 0.0))), fog=None, overrideMaterial=None, quaternion=(0.0, 0.0, 0.0, 1.0), scale=(1.0, 1.0, 1.0), up=(0.0, 1.0, 0.0)), shadowMap=WebGLShadowMap())"
      ]
     },
     "metadata": {},
     "output_type": "display_data"
    },
    {
     "data": {
      "application/vnd.jupyter.widget-view+json": {
       "model_id": "701eb5c54bd543eaabf77a17d1cc6f6c",
       "version_major": 2,
       "version_minor": 0
      },
      "text/html": [
       "<p>Failed to display Jupyter Widget of type <code>AnimationAction</code>.</p>\n",
       "<p>\n",
       "  If you're reading this message in the Jupyter Notebook or JupyterLab Notebook, it may mean\n",
       "  that the widgets JavaScript is still loading. If this message persists, it\n",
       "  likely means that the widgets JavaScript library is either not installed or\n",
       "  not enabled. See the <a href=\"https://ipywidgets.readthedocs.io/en/stable/user_install.html\">Jupyter\n",
       "  Widgets Documentation</a> for setup instructions.\n",
       "</p>\n",
       "<p>\n",
       "  If you're reading this message in another frontend (for example, a static\n",
       "  rendering on GitHub or <a href=\"https://nbviewer.jupyter.org/\">NBViewer</a>),\n",
       "  it may mean that your frontend doesn't currently support widgets.\n",
       "</p>\n"
      ],
      "text/plain": [
       "AnimationAction(clip=AnimationClip(duration=3.0, tracks=(NumberKeyframeTrack(name='.morphTargetInfluences[0]', times=array([0. , 1.5, 3. ], dtype=float32), values=array([0. , 2.5, 0. ], dtype=float32)),)), localRoot=Mesh(geometry=BufferGeometry(attributes={'uv': BufferAttribute(array=array([[0.     , 1.     ],\n",
       "       [0.03125, 1.     ],\n",
       "       [0.0625 , 1.     ],\n",
       "       ...,\n",
       "       [0.9375 , 0.     ],\n",
       "       [0.96875, 0.     ],\n",
       "       [1.     , 0.     ]], dtype=float32), normalized=False, version=0), 'position': BufferAttribute(array=array([[-0.0000000e+00,  1.0000000e+00,  0.0000000e+00],\n",
       "       [-0.0000000e+00,  1.0000000e+00,  0.0000000e+00],\n",
       "       [-0.0000000e+00,  1.0000000e+00,  0.0000000e+00],\n",
       "       ...,\n",
       "       [-1.1314261e-16, -1.0000000e+00, -4.6865205e-17],\n",
       "       [-1.2011156e-16, -1.0000000e+00, -2.3891674e-17],\n",
       "       [-1.2246469e-16, -1.0000000e+00, -2.9995195e-32]], dtype=float32), normalized=False, version=0), 'normal': BufferAttribute(array=array([[-0.0000000e+00,  1.0000000e+00,  0.0000000e+00],\n",
       "       [-0.0000000e+00,  1.0000000e+00,  0.0000000e+00],\n",
       "       [-0.0000000e+00,  1.0000000e+00,  0.0000000e+00],\n",
       "       ...,\n",
       "       [-1.1314261e-16, -1.0000000e+00, -4.6865205e-17],\n",
       "       [-1.2011156e-16, -1.0000000e+00, -2.3891674e-17],\n",
       "       [-1.2246469e-16, -1.0000000e+00, -2.9995195e-32]], dtype=float32), normalized=False, version=0)}, morphAttributes={'position': (BufferAttribute(array=array([[-0.0000000e+00,  1.0000000e+00,  0.0000000e+00],\n",
       "       [-0.0000000e+00,  1.0000000e+00,  0.0000000e+00],\n",
       "       [-0.0000000e+00,  1.0000000e+00,  0.0000000e+00],\n",
       "       ...,\n",
       "       [-1.1314261e-16, -1.0000000e+00, -4.6865205e-17],\n",
       "       [-1.2011156e-16, -1.0000000e+00, -2.3891674e-17],\n",
       "       [-1.2246469e-16, -1.0000000e+00, -2.9995195e-32]], dtype=float32), version=1),)}, type='BufferGeometry'), material=MeshPhongMaterial(alphaMap=None, aoMap=None, bumpMap=None, color='#ff3333', displacementMap=None, emissiveMap=None, envMap=None, lightMap=None, map=None, morphTargets=True, normalMap=None, normalScale=(1.0, 1.0), shininess=150.0, specularMap=None, type='MeshPhongMaterial'), quaternion=(0.0, 0.0, 0.0, 1.0), scale=(1.0, 1.0, 1.0), type='Mesh', up=(0.0, 1.0, 0.0)), mixer=AnimationMixer(rootObject=Mesh(geometry=BufferGeometry(attributes={'uv': BufferAttribute(array=array([[0.     , 1.     ],\n",
       "       [0.03125, 1.     ],\n",
       "       [0.0625 , 1.     ],\n",
       "       ...,\n",
       "       [0.9375 , 0.     ],\n",
       "       [0.96875, 0.     ],\n",
       "       [1.     , 0.     ]], dtype=float32), normalized=False, version=0), 'position': BufferAttribute(array=array([[-0.0000000e+00,  1.0000000e+00,  0.0000000e+00],\n",
       "       [-0.0000000e+00,  1.0000000e+00,  0.0000000e+00],\n",
       "       [-0.0000000e+00,  1.0000000e+00,  0.0000000e+00],\n",
       "       ...,\n",
       "       [-1.1314261e-16, -1.0000000e+00, -4.6865205e-17],\n",
       "       [-1.2011156e-16, -1.0000000e+00, -2.3891674e-17],\n",
       "       [-1.2246469e-16, -1.0000000e+00, -2.9995195e-32]], dtype=float32), normalized=False, version=0), 'normal': BufferAttribute(array=array([[-0.0000000e+00,  1.0000000e+00,  0.0000000e+00],\n",
       "       [-0.0000000e+00,  1.0000000e+00,  0.0000000e+00],\n",
       "       [-0.0000000e+00,  1.0000000e+00,  0.0000000e+00],\n",
       "       ...,\n",
       "       [-1.1314261e-16, -1.0000000e+00, -4.6865205e-17],\n",
       "       [-1.2011156e-16, -1.0000000e+00, -2.3891674e-17],\n",
       "       [-1.2246469e-16, -1.0000000e+00, -2.9995195e-32]], dtype=float32), normalized=False, version=0)}, morphAttributes={'position': (BufferAttribute(array=array([[-0.0000000e+00,  1.0000000e+00,  0.0000000e+00],\n",
       "       [-0.0000000e+00,  1.0000000e+00,  0.0000000e+00],\n",
       "       [-0.0000000e+00,  1.0000000e+00,  0.0000000e+00],\n",
       "       ...,\n",
       "       [-1.1314261e-16, -1.0000000e+00, -4.6865205e-17],\n",
       "       [-1.2011156e-16, -1.0000000e+00, -2.3891674e-17],\n",
       "       [-1.2246469e-16, -1.0000000e+00, -2.9995195e-32]], dtype=float32), version=1),)}, type='BufferGeometry'), material=MeshPhongMaterial(alphaMap=None, aoMap=None, bumpMap=None, color='#ff3333', displacementMap=None, emissiveMap=None, envMap=None, lightMap=None, map=None, morphTargets=True, normalMap=None, normalScale=(1.0, 1.0), shininess=150.0, specularMap=None, type='MeshPhongMaterial'), quaternion=(0.0, 0.0, 0.0, 1.0), scale=(1.0, 1.0, 1.0), type='Mesh', up=(0.0, 1.0, 0.0))))"
      ]
     },
     "metadata": {},
     "output_type": "display_data"
    }
   ],
   "source": [
    "camera3 = PerspectiveCamera( position=[5, 3, 5], aspect=view_width/view_height)\n",
    "scene3 = Scene(children=[morphMesh, camera3,\n",
    "                         DirectionalLight(position=[3, 5, 1], intensity=0.6),\n",
    "                         AmbientLight(intensity=0.5)])\n",
    "renderer3 = Renderer(camera=camera3, scene=scene3, controls=[OrbitControls(controlling=camera3)],\n",
    "                     width=view_width, height=view_height)\n",
    "display(renderer3, pill_action)"
   ]
  },
  {
   "cell_type": "markdown",
   "metadata": {},
   "source": [
    "## Skeletal animation\n",
    "\n",
    "First, set up a skinned mesh with some bones:"
   ]
  },
  {
   "cell_type": "code",
   "execution_count": 19,
   "metadata": {
    "collapsed": true
   },
   "outputs": [],
   "source": [
    "import numpy as np\n",
    "\n",
    "N_BONES = 3\n",
    "\n",
    "ref_cylinder = CylinderGeometry(5, 5, 50, 5, N_BONES * 5, True)\n",
    "cylinder = Geometry.from_geometry(ref_cylinder)"
   ]
  },
  {
   "cell_type": "code",
   "execution_count": 20,
   "metadata": {
    "collapsed": true
   },
   "outputs": [],
   "source": [
    "skinIndices = []\n",
    "skinWeights = []\n",
    "\n",
    "vertices = cylinder.vertices\n",
    "boneHeight = ref_cylinder.height / (N_BONES - 1)\n",
    "for i in range(len(vertices)):\n",
    "\n",
    "    vertex = vertices[i];\n",
    "    y = vertex[1] + 0.5 * ref_cylinder.height\n",
    "\n",
    "    skinIndex = y // boneHeight;\n",
    "    skinWeight = ( y % boneHeight ) / boneHeight;\n",
    "\n",
    "    # Ease between each bone\n",
    "    skinIndices.append([skinIndex, skinIndex + 1, 0, 0 ])\n",
    "    skinWeights.append([1 - skinWeight, skinWeight, 0, 0 ])\n",
    "\n",
    "cylinder.skinIndices = skinIndices\n",
    "cylinder.skinWeights = skinWeights\n",
    "\n",
    "shoulder = Bone(position=(0, -25, 0))\n",
    "elbow = Bone(position=(0, 25, 0))\n",
    "hand = Bone(position=(0, 25, 0))\n",
    "\n",
    "shoulder.add(elbow)\n",
    "elbow.add(hand)\n",
    "bones = [shoulder, elbow, hand]\n",
    "skeleton = Skeleton(bones)\n",
    "\n",
    "mesh = SkinnedMesh(cylinder, MeshPhongMaterial(side='DoubleSide', skinning=True))\n",
    "mesh.add(bones[0])\n",
    "mesh.skeleton = skeleton"
   ]
  },
  {
   "cell_type": "code",
   "execution_count": 21,
   "metadata": {
    "collapsed": true
   },
   "outputs": [],
   "source": [
    "helper = SkeletonHelper(mesh)"
   ]
  },
  {
   "cell_type": "markdown",
   "metadata": {},
   "source": [
    "Next, set up some simple rotation animations for the bones:"
   ]
  },
  {
   "cell_type": "code",
   "execution_count": 22,
   "metadata": {
    "collapsed": true
   },
   "outputs": [],
   "source": [
    "# Rotate on x and z axes:\n",
    "bend_tracks = [\n",
    "    NumberKeyframeTrack(name='.bones[1].rotation[x]', times=[0, 0.5, 1.5, 2], values=[0, 0.3, -0.3, 0]),\n",
    "    NumberKeyframeTrack(name='.bones[1].rotation[z]', times=[0, 0.5, 1.5, 2], values=[0, 0.3, -0.3, 0]),\n",
    "    NumberKeyframeTrack(name='.bones[2].rotation[x]', times=[0, 0.5, 1.5, 2], values=[0, -0.3, 0.3, 0]),\n",
    "    NumberKeyframeTrack(name='.bones[2].rotation[z]', times=[0, 0.5, 1.5, 2], values=[0, -0.3, 0.3, 0]),\n",
    "]\n",
    "bend_clip = AnimationClip(tracks=bend_tracks)\n",
    "bend_action = AnimationAction(AnimationMixer(mesh), bend_clip, mesh)\n",
    "    \n",
    "# Rotate on y axis:\n",
    "wring_tracks = [\n",
    "    NumberKeyframeTrack(name='.bones[1].rotation[y]', times=[0, 0.5, 1.5, 2], values=[0, 0.7, -0.7, 0]),\n",
    "    NumberKeyframeTrack(name='.bones[2].rotation[y]', times=[0, 0.5, 1.5, 2], values=[0, 0.7, -0.7, 0]),\n",
    "]\n",
    "\n",
    "wring_clip = AnimationClip(tracks=wring_tracks)\n",
    "wring_action = AnimationAction(AnimationMixer(mesh), wring_clip, mesh)"
   ]
  },
  {
   "cell_type": "code",
   "execution_count": 23,
   "metadata": {},
   "outputs": [
    {
     "data": {
      "application/vnd.jupyter.widget-view+json": {
       "model_id": "53511fa406474ce3a210da28f8738b58",
       "version_major": 2,
       "version_minor": 0
      },
      "text/html": [
       "<p>Failed to display Jupyter Widget of type <code>Renderer</code>.</p>\n",
       "<p>\n",
       "  If you're reading this message in the Jupyter Notebook or JupyterLab Notebook, it may mean\n",
       "  that the widgets JavaScript is still loading. If this message persists, it\n",
       "  likely means that the widgets JavaScript library is either not installed or\n",
       "  not enabled. See the <a href=\"https://ipywidgets.readthedocs.io/en/stable/user_install.html\">Jupyter\n",
       "  Widgets Documentation</a> for setup instructions.\n",
       "</p>\n",
       "<p>\n",
       "  If you're reading this message in another frontend (for example, a static\n",
       "  rendering on GitHub or <a href=\"https://nbviewer.jupyter.org/\">NBViewer</a>),\n",
       "  it may mean that your frontend doesn't currently support widgets.\n",
       "</p>\n"
      ],
      "text/plain": [
       "Renderer(camera=PerspectiveCamera(aspect=1.5, position=(40.0, 24.0, 40.0), quaternion=(0.0, 0.0, 0.0, 1.0), scale=(1.0, 1.0, 1.0), up=(0.0, 1.0, 0.0)), controls=[OrbitControls(controlling=PerspectiveCamera(aspect=1.5, position=(40.0, 24.0, 40.0), quaternion=(0.0, 0.0, 0.0, 1.0), scale=(1.0, 1.0, 1.0), up=(0.0, 1.0, 0.0)))], scene=Scene(children=(SkinnedMesh(children=(Bone(children=(Bone(children=(Bone(position=(0.0, 25.0, 0.0), quaternion=(0.0, 0.0, 0.0, 1.0), scale=(1.0, 1.0, 1.0), type='Bone', up=(0.0, 1.0, 0.0)),), position=(0.0, 25.0, 0.0), quaternion=(0.0, 0.0, 0.0, 1.0), scale=(1.0, 1.0, 1.0), type='Bone', up=(0.0, 1.0, 0.0)),), position=(0.0, -25.0, 0.0), quaternion=(0.0, 0.0, 0.0, 1.0), scale=(1.0, 1.0, 1.0), type='Bone', up=(0.0, 1.0, 0.0)),), geometry=Geometry(faceVertexUvs=[[[{'x': 0, 'y': 1}, {'x': 0, 'y': 0.9333333373069763}, {'x': 0.20000000298023224, 'y': 1}], [{'x': 0, 'y': 0.9333333373069763}, {'x': 0.20000000298023224, 'y': 0.9333333373069763}, {'x': 0.20000000298023224, 'y': 1}], [{'x': 0, 'y': 0.9333333373069763}, {'x': 0, 'y': 0.8666666746139526}, {'x': 0.20000000298023224, 'y': 0.9333333373069763}], [{'x': 0, 'y': 0.8666666746139526}, {'x': 0.20000000298023224, 'y': 0.8666666746139526}, {'x': 0.20000000298023224, 'y': 0.9333333373069763}], [{'x': 0, 'y': 0.8666666746139526}, {'x': 0, 'y': 0.800000011920929}, {'x': 0.20000000298023224, 'y': 0.8666666746139526}], [{'x': 0, 'y': 0.800000011920929}, {'x': 0.20000000298023224, 'y': 0.800000011920929}, {'x': 0.20000000298023224, 'y': 0.8666666746139526}], [{'x': 0, 'y': 0.800000011920929}, {'x': 0, 'y': 0.7333333492279053}, {'x': 0.20000000298023224, 'y': 0.800000011920929}], [{'x': 0, 'y': 0.7333333492279053}, {'x': 0.20000000298023224, 'y': 0.7333333492279053}, {'x': 0.20000000298023224, 'y': 0.800000011920929}], [{'x': 0, 'y': 0.7333333492279053}, {'x': 0, 'y': 0.6666666865348816}, {'x': 0.20000000298023224, 'y': 0.7333333492279053}], [{'x': 0, 'y': 0.6666666865348816}, {'x': 0.20000000298023224, 'y': 0.6666666865348816}, {'x': 0.20000000298023224, 'y': 0.7333333492279053}], [{'x': 0, 'y': 0.6666666865348816}, {'x': 0, 'y': 0.6000000238418579}, {'x': 0.20000000298023224, 'y': 0.6666666865348816}], [{'x': 0, 'y': 0.6000000238418579}, {'x': 0.20000000298023224, 'y': 0.6000000238418579}, {'x': 0.20000000298023224, 'y': 0.6666666865348816}], [{'x': 0, 'y': 0.6000000238418579}, {'x': 0, 'y': 0.5333333611488342}, {'x': 0.20000000298023224, 'y': 0.6000000238418579}], [{'x': 0, 'y': 0.5333333611488342}, {'x': 0.20000000298023224, 'y': 0.5333333611488342}, {'x': 0.20000000298023224, 'y': 0.6000000238418579}], [{'x': 0, 'y': 0.5333333611488342}, {'x': 0, 'y': 0.46666666865348816}, {'x': 0.20000000298023224, 'y': 0.5333333611488342}], [{'x': 0, 'y': 0.46666666865348816}, {'x': 0.20000000298023224, 'y': 0.46666666865348816}, {'x': 0.20000000298023224, 'y': 0.5333333611488342}], [{'x': 0, 'y': 0.46666666865348816}, {'x': 0, 'y': 0.4000000059604645}, {'x': 0.20000000298023224, 'y': 0.46666666865348816}], [{'x': 0, 'y': 0.4000000059604645}, {'x': 0.20000000298023224, 'y': 0.4000000059604645}, {'x': 0.20000000298023224, 'y': 0.46666666865348816}], [{'x': 0, 'y': 0.4000000059604645}, {'x': 0, 'y': 0.3333333432674408}, {'x': 0.20000000298023224, 'y': 0.4000000059604645}], [{'x': 0, 'y': 0.3333333432674408}, {'x': 0.20000000298023224, 'y': 0.3333333432674408}, {'x': 0.20000000298023224, 'y': 0.4000000059604645}], [{'x': 0, 'y': 0.3333333432674408}, {'x': 0, 'y': 0.2666666805744171}, {'x': 0.20000000298023224, 'y': 0.3333333432674408}], [{'x': 0, 'y': 0.2666666805744171}, {'x': 0.20000000298023224, 'y': 0.2666666805744171}, {'x': 0.20000000298023224, 'y': 0.3333333432674408}], [{'x': 0, 'y': 0.2666666805744171}, {'x': 0, 'y': 0.20000000298023224}, {'x': 0.20000000298023224, 'y': 0.2666666805744171}], [{'x': 0, 'y': 0.20000000298023224}, {'x': 0.20000000298023224, 'y': 0.20000000298023224}, {'x': 0.20000000298023224, 'y': 0.2666666805744171}], [{'x': 0, 'y': 0.20000000298023224}, {'x': 0, 'y': 0.13333334028720856}, {'x': 0.20000000298023224, 'y': 0.20000000298023224}], [{'x': 0, 'y': 0.13333334028720856}, {'x': 0.20000000298023224, 'y': 0.13333334028720856}, {'x': 0.20000000298023224, 'y': 0.20000000298023224}], [{'x': 0, 'y': 0.13333334028720856}, {'x': 0, 'y': 0.06666667014360428}, {'x': 0.20000000298023224, 'y': 0.13333334028720856}], [{'x': 0, 'y': 0.06666667014360428}, {'x': 0.20000000298023224, 'y': 0.06666667014360428}, {'x': 0.20000000298023224, 'y': 0.13333334028720856}], [{'x': 0, 'y': 0.06666667014360428}, {'x': 0, 'y': 0}, {'x': 0.20000000298023224, 'y': 0.06666667014360428}], [{'x': 0, 'y': 0}, {'x': 0.20000000298023224, 'y': 0}, {'x': 0.20000000298023224, 'y': 0.06666667014360428}], [{'x': 0.20000000298023224, 'y': 1}, {'x': 0.20000000298023224, 'y': 0.9333333373069763}, {'x': 0.4000000059604645, 'y': 1}], [{'x': 0.20000000298023224, 'y': 0.9333333373069763}, {'x': 0.4000000059604645, 'y': 0.9333333373069763}, {'x': 0.4000000059604645, 'y': 1}], [{'x': 0.20000000298023224, 'y': 0.9333333373069763}, {'x': 0.20000000298023224, 'y': 0.8666666746139526}, {'x': 0.4000000059604645, 'y': 0.9333333373069763}], [{'x': 0.20000000298023224, 'y': 0.8666666746139526}, {'x': 0.4000000059604645, 'y': 0.8666666746139526}, {'x': 0.4000000059604645, 'y': 0.9333333373069763}], [{'x': 0.20000000298023224, 'y': 0.8666666746139526}, {'x': 0.20000000298023224, 'y': 0.800000011920929}, {'x': 0.4000000059604645, 'y': 0.8666666746139526}], [{'x': 0.20000000298023224, 'y': 0.800000011920929}, {'x': 0.4000000059604645, 'y': 0.800000011920929}, {'x': 0.4000000059604645, 'y': 0.8666666746139526}], [{'x': 0.20000000298023224, 'y': 0.800000011920929}, {'x': 0.20000000298023224, 'y': 0.7333333492279053}, {'x': 0.4000000059604645, 'y': 0.800000011920929}], [{'x': 0.20000000298023224, 'y': 0.7333333492279053}, {'x': 0.4000000059604645, 'y': 0.7333333492279053}, {'x': 0.4000000059604645, 'y': 0.800000011920929}], [{'x': 0.20000000298023224, 'y': 0.7333333492279053}, {'x': 0.20000000298023224, 'y': 0.6666666865348816}, {'x': 0.4000000059604645, 'y': 0.7333333492279053}], [{'x': 0.20000000298023224, 'y': 0.6666666865348816}, {'x': 0.4000000059604645, 'y': 0.6666666865348816}, {'x': 0.4000000059604645, 'y': 0.7333333492279053}], [{'x': 0.20000000298023224, 'y': 0.6666666865348816}, {'x': 0.20000000298023224, 'y': 0.6000000238418579}, {'x': 0.4000000059604645, 'y': 0.6666666865348816}], [{'x': 0.20000000298023224, 'y': 0.6000000238418579}, {'x': 0.4000000059604645, 'y': 0.6000000238418579}, {'x': 0.4000000059604645, 'y': 0.6666666865348816}], [{'x': 0.20000000298023224, 'y': 0.6000000238418579}, {'x': 0.20000000298023224, 'y': 0.5333333611488342}, {'x': 0.4000000059604645, 'y': 0.6000000238418579}], [{'x': 0.20000000298023224, 'y': 0.5333333611488342}, {'x': 0.4000000059604645, 'y': 0.5333333611488342}, {'x': 0.4000000059604645, 'y': 0.6000000238418579}], [{'x': 0.20000000298023224, 'y': 0.5333333611488342}, {'x': 0.20000000298023224, 'y': 0.46666666865348816}, {'x': 0.4000000059604645, 'y': 0.5333333611488342}], [{'x': 0.20000000298023224, 'y': 0.46666666865348816}, {'x': 0.4000000059604645, 'y': 0.46666666865348816}, {'x': 0.4000000059604645, 'y': 0.5333333611488342}], [{'x': 0.20000000298023224, 'y': 0.46666666865348816}, {'x': 0.20000000298023224, 'y': 0.4000000059604645}, {'x': 0.4000000059604645, 'y': 0.46666666865348816}], [{'x': 0.20000000298023224, 'y': 0.4000000059604645}, {'x': 0.4000000059604645, 'y': 0.4000000059604645}, {'x': 0.4000000059604645, 'y': 0.46666666865348816}], [{'x': 0.20000000298023224, 'y': 0.4000000059604645}, {'x': 0.20000000298023224, 'y': 0.3333333432674408}, {'x': 0.4000000059604645, 'y': 0.4000000059604645}], [{'x': 0.20000000298023224, 'y': 0.3333333432674408}, {'x': 0.4000000059604645, 'y': 0.3333333432674408}, {'x': 0.4000000059604645, 'y': 0.4000000059604645}], [{'x': 0.20000000298023224, 'y': 0.3333333432674408}, {'x': 0.20000000298023224, 'y': 0.2666666805744171}, {'x': 0.4000000059604645, 'y': 0.3333333432674408}], [{'x': 0.20000000298023224, 'y': 0.2666666805744171}, {'x': 0.4000000059604645, 'y': 0.2666666805744171}, {'x': 0.4000000059604645, 'y': 0.3333333432674408}], [{'x': 0.20000000298023224, 'y': 0.2666666805744171}, {'x': 0.20000000298023224, 'y': 0.20000000298023224}, {'x': 0.4000000059604645, 'y': 0.2666666805744171}], [{'x': 0.20000000298023224, 'y': 0.20000000298023224}, {'x': 0.4000000059604645, 'y': 0.20000000298023224}, {'x': 0.4000000059604645, 'y': 0.2666666805744171}], [{'x': 0.20000000298023224, 'y': 0.20000000298023224}, {'x': 0.20000000298023224, 'y': 0.13333334028720856}, {'x': 0.4000000059604645, 'y': 0.20000000298023224}], [{'x': 0.20000000298023224, 'y': 0.13333334028720856}, {'x': 0.4000000059604645, 'y': 0.13333334028720856}, {'x': 0.4000000059604645, 'y': 0.20000000298023224}], [{'x': 0.20000000298023224, 'y': 0.13333334028720856}, {'x': 0.20000000298023224, 'y': 0.06666667014360428}, {'x': 0.4000000059604645, 'y': 0.13333334028720856}], [{'x': 0.20000000298023224, 'y': 0.06666667014360428}, {'x': 0.4000000059604645, 'y': 0.06666667014360428}, {'x': 0.4000000059604645, 'y': 0.13333334028720856}], [{'x': 0.20000000298023224, 'y': 0.06666667014360428}, {'x': 0.20000000298023224, 'y': 0}, {'x': 0.4000000059604645, 'y': 0.06666667014360428}], [{'x': 0.20000000298023224, 'y': 0}, {'x': 0.4000000059604645, 'y': 0}, {'x': 0.4000000059604645, 'y': 0.06666667014360428}], [{'x': 0.4000000059604645, 'y': 1}, {'x': 0.4000000059604645, 'y': 0.9333333373069763}, {'x': 0.6000000238418579, 'y': 1}], [{'x': 0.4000000059604645, 'y': 0.9333333373069763}, {'x': 0.6000000238418579, 'y': 0.9333333373069763}, {'x': 0.6000000238418579, 'y': 1}], [{'x': 0.4000000059604645, 'y': 0.9333333373069763}, {'x': 0.4000000059604645, 'y': 0.8666666746139526}, {'x': 0.6000000238418579, 'y': 0.9333333373069763}], [{'x': 0.4000000059604645, 'y': 0.8666666746139526}, {'x': 0.6000000238418579, 'y': 0.8666666746139526}, {'x': 0.6000000238418579, 'y': 0.9333333373069763}], [{'x': 0.4000000059604645, 'y': 0.8666666746139526}, {'x': 0.4000000059604645, 'y': 0.800000011920929}, {'x': 0.6000000238418579, 'y': 0.8666666746139526}], [{'x': 0.4000000059604645, 'y': 0.800000011920929}, {'x': 0.6000000238418579, 'y': 0.800000011920929}, {'x': 0.6000000238418579, 'y': 0.8666666746139526}], [{'x': 0.4000000059604645, 'y': 0.800000011920929}, {'x': 0.4000000059604645, 'y': 0.7333333492279053}, {'x': 0.6000000238418579, 'y': 0.800000011920929}], [{'x': 0.4000000059604645, 'y': 0.7333333492279053}, {'x': 0.6000000238418579, 'y': 0.7333333492279053}, {'x': 0.6000000238418579, 'y': 0.800000011920929}], [{'x': 0.4000000059604645, 'y': 0.7333333492279053}, {'x': 0.4000000059604645, 'y': 0.6666666865348816}, {'x': 0.6000000238418579, 'y': 0.7333333492279053}], [{'x': 0.4000000059604645, 'y': 0.6666666865348816}, {'x': 0.6000000238418579, 'y': 0.6666666865348816}, {'x': 0.6000000238418579, 'y': 0.7333333492279053}], [{'x': 0.4000000059604645, 'y': 0.6666666865348816}, {'x': 0.4000000059604645, 'y': 0.6000000238418579}, {'x': 0.6000000238418579, 'y': 0.6666666865348816}], [{'x': 0.4000000059604645, 'y': 0.6000000238418579}, {'x': 0.6000000238418579, 'y': 0.6000000238418579}, {'x': 0.6000000238418579, 'y': 0.6666666865348816}], [{'x': 0.4000000059604645, 'y': 0.6000000238418579}, {'x': 0.4000000059604645, 'y': 0.5333333611488342}, {'x': 0.6000000238418579, 'y': 0.6000000238418579}], [{'x': 0.4000000059604645, 'y': 0.5333333611488342}, {'x': 0.6000000238418579, 'y': 0.5333333611488342}, {'x': 0.6000000238418579, 'y': 0.6000000238418579}], [{'x': 0.4000000059604645, 'y': 0.5333333611488342}, {'x': 0.4000000059604645, 'y': 0.46666666865348816}, {'x': 0.6000000238418579, 'y': 0.5333333611488342}], [{'x': 0.4000000059604645, 'y': 0.46666666865348816}, {'x': 0.6000000238418579, 'y': 0.46666666865348816}, {'x': 0.6000000238418579, 'y': 0.5333333611488342}], [{'x': 0.4000000059604645, 'y': 0.46666666865348816}, {'x': 0.4000000059604645, 'y': 0.4000000059604645}, {'x': 0.6000000238418579, 'y': 0.46666666865348816}], [{'x': 0.4000000059604645, 'y': 0.4000000059604645}, {'x': 0.6000000238418579, 'y': 0.4000000059604645}, {'x': 0.6000000238418579, 'y': 0.46666666865348816}], [{'x': 0.4000000059604645, 'y': 0.4000000059604645}, {'x': 0.4000000059604645, 'y': 0.3333333432674408}, {'x': 0.6000000238418579, 'y': 0.4000000059604645}], [{'x': 0.4000000059604645, 'y': 0.3333333432674408}, {'x': 0.6000000238418579, 'y': 0.3333333432674408}, {'x': 0.6000000238418579, 'y': 0.4000000059604645}], [{'x': 0.4000000059604645, 'y': 0.3333333432674408}, {'x': 0.4000000059604645, 'y': 0.2666666805744171}, {'x': 0.6000000238418579, 'y': 0.3333333432674408}], [{'x': 0.4000000059604645, 'y': 0.2666666805744171}, {'x': 0.6000000238418579, 'y': 0.2666666805744171}, {'x': 0.6000000238418579, 'y': 0.3333333432674408}], [{'x': 0.4000000059604645, 'y': 0.2666666805744171}, {'x': 0.4000000059604645, 'y': 0.20000000298023224}, {'x': 0.6000000238418579, 'y': 0.2666666805744171}], [{'x': 0.4000000059604645, 'y': 0.20000000298023224}, {'x': 0.6000000238418579, 'y': 0.20000000298023224}, {'x': 0.6000000238418579, 'y': 0.2666666805744171}], [{'x': 0.4000000059604645, 'y': 0.20000000298023224}, {'x': 0.4000000059604645, 'y': 0.13333334028720856}, {'x': 0.6000000238418579, 'y': 0.20000000298023224}], [{'x': 0.4000000059604645, 'y': 0.13333334028720856}, {'x': 0.6000000238418579, 'y': 0.13333334028720856}, {'x': 0.6000000238418579, 'y': 0.20000000298023224}], [{'x': 0.4000000059604645, 'y': 0.13333334028720856}, {'x': 0.4000000059604645, 'y': 0.06666667014360428}, {'x': 0.6000000238418579, 'y': 0.13333334028720856}], [{'x': 0.4000000059604645, 'y': 0.06666667014360428}, {'x': 0.6000000238418579, 'y': 0.06666667014360428}, {'x': 0.6000000238418579, 'y': 0.13333334028720856}], [{'x': 0.4000000059604645, 'y': 0.06666667014360428}, {'x': 0.4000000059604645, 'y': 0}, {'x': 0.6000000238418579, 'y': 0.06666667014360428}], [{'x': 0.4000000059604645, 'y': 0}, {'x': 0.6000000238418579, 'y': 0}, {'x': 0.6000000238418579, 'y': 0.06666667014360428}], [{'x': 0.6000000238418579, 'y': 1}, {'x': 0.6000000238418579, 'y': 0.9333333373069763}, {'x': 0.800000011920929, 'y': 1}], [{'x': 0.6000000238418579, 'y': 0.9333333373069763}, {'x': 0.800000011920929, 'y': 0.9333333373069763}, {'x': 0.800000011920929, 'y': 1}], [{'x': 0.6000000238418579, 'y': 0.9333333373069763}, {'x': 0.6000000238418579, 'y': 0.8666666746139526}, {'x': 0.800000011920929, 'y': 0.9333333373069763}], [{'x': 0.6000000238418579, 'y': 0.8666666746139526}, {'x': 0.800000011920929, 'y': 0.8666666746139526}, {'x': 0.800000011920929, 'y': 0.9333333373069763}], [{'x': 0.6000000238418579, 'y': 0.8666666746139526}, {'x': 0.6000000238418579, 'y': 0.800000011920929}, {'x': 0.800000011920929, 'y': 0.8666666746139526}], [{'x': 0.6000000238418579, 'y': 0.800000011920929}, {'x': 0.800000011920929, 'y': 0.800000011920929}, {'x': 0.800000011920929, 'y': 0.8666666746139526}], [{'x': 0.6000000238418579, 'y': 0.800000011920929}, {'x': 0.6000000238418579, 'y': 0.7333333492279053}, {'x': 0.800000011920929, 'y': 0.800000011920929}], [{'x': 0.6000000238418579, 'y': 0.7333333492279053}, {'x': 0.800000011920929, 'y': 0.7333333492279053}, {'x': 0.800000011920929, 'y': 0.800000011920929}], [{'x': 0.6000000238418579, 'y': 0.7333333492279053}, {'x': 0.6000000238418579, 'y': 0.6666666865348816}, {'x': 0.800000011920929, 'y': 0.7333333492279053}], [{'x': 0.6000000238418579, 'y': 0.6666666865348816}, {'x': 0.800000011920929, 'y': 0.6666666865348816}, {'x': 0.800000011920929, 'y': 0.7333333492279053}], [{'x': 0.6000000238418579, 'y': 0.6666666865348816}, {'x': 0.6000000238418579, 'y': 0.6000000238418579}, {'x': 0.800000011920929, 'y': 0.6666666865348816}], [{'x': 0.6000000238418579, 'y': 0.6000000238418579}, {'x': 0.800000011920929, 'y': 0.6000000238418579}, {'x': 0.800000011920929, 'y': 0.6666666865348816}], [{'x': 0.6000000238418579, 'y': 0.6000000238418579}, {'x': 0.6000000238418579, 'y': 0.5333333611488342}, {'x': 0.800000011920929, 'y': 0.6000000238418579}], [{'x': 0.6000000238418579, 'y': 0.5333333611488342}, {'x': 0.800000011920929, 'y': 0.5333333611488342}, {'x': 0.800000011920929, 'y': 0.6000000238418579}], [{'x': 0.6000000238418579, 'y': 0.5333333611488342}, {'x': 0.6000000238418579, 'y': 0.46666666865348816}, {'x': 0.800000011920929, 'y': 0.5333333611488342}], [{'x': 0.6000000238418579, 'y': 0.46666666865348816}, {'x': 0.800000011920929, 'y': 0.46666666865348816}, {'x': 0.800000011920929, 'y': 0.5333333611488342}], [{'x': 0.6000000238418579, 'y': 0.46666666865348816}, {'x': 0.6000000238418579, 'y': 0.4000000059604645}, {'x': 0.800000011920929, 'y': 0.46666666865348816}], [{'x': 0.6000000238418579, 'y': 0.4000000059604645}, {'x': 0.800000011920929, 'y': 0.4000000059604645}, {'x': 0.800000011920929, 'y': 0.46666666865348816}], [{'x': 0.6000000238418579, 'y': 0.4000000059604645}, {'x': 0.6000000238418579, 'y': 0.3333333432674408}, {'x': 0.800000011920929, 'y': 0.4000000059604645}], [{'x': 0.6000000238418579, 'y': 0.3333333432674408}, {'x': 0.800000011920929, 'y': 0.3333333432674408}, {'x': 0.800000011920929, 'y': 0.4000000059604645}], [{'x': 0.6000000238418579, 'y': 0.3333333432674408}, {'x': 0.6000000238418579, 'y': 0.2666666805744171}, {'x': 0.800000011920929, 'y': 0.3333333432674408}], [{'x': 0.6000000238418579, 'y': 0.2666666805744171}, {'x': 0.800000011920929, 'y': 0.2666666805744171}, {'x': 0.800000011920929, 'y': 0.3333333432674408}], [{'x': 0.6000000238418579, 'y': 0.2666666805744171}, {'x': 0.6000000238418579, 'y': 0.20000000298023224}, {'x': 0.800000011920929, 'y': 0.2666666805744171}], [{'x': 0.6000000238418579, 'y': 0.20000000298023224}, {'x': 0.800000011920929, 'y': 0.20000000298023224}, {'x': 0.800000011920929, 'y': 0.2666666805744171}], [{'x': 0.6000000238418579, 'y': 0.20000000298023224}, {'x': 0.6000000238418579, 'y': 0.13333334028720856}, {'x': 0.800000011920929, 'y': 0.20000000298023224}], [{'x': 0.6000000238418579, 'y': 0.13333334028720856}, {'x': 0.800000011920929, 'y': 0.13333334028720856}, {'x': 0.800000011920929, 'y': 0.20000000298023224}], [{'x': 0.6000000238418579, 'y': 0.13333334028720856}, {'x': 0.6000000238418579, 'y': 0.06666667014360428}, {'x': 0.800000011920929, 'y': 0.13333334028720856}], [{'x': 0.6000000238418579, 'y': 0.06666667014360428}, {'x': 0.800000011920929, 'y': 0.06666667014360428}, {'x': 0.800000011920929, 'y': 0.13333334028720856}], [{'x': 0.6000000238418579, 'y': 0.06666667014360428}, {'x': 0.6000000238418579, 'y': 0}, {'x': 0.800000011920929, 'y': 0.06666667014360428}], [{'x': 0.6000000238418579, 'y': 0}, {'x': 0.800000011920929, 'y': 0}, {'x': 0.800000011920929, 'y': 0.06666667014360428}], [{'x': 0.800000011920929, 'y': 1}, {'x': 0.800000011920929, 'y': 0.9333333373069763}, {'x': 1, 'y': 1}], [{'x': 0.800000011920929, 'y': 0.9333333373069763}, {'x': 1, 'y': 0.9333333373069763}, {'x': 1, 'y': 1}], [{'x': 0.800000011920929, 'y': 0.9333333373069763}, {'x': 0.800000011920929, 'y': 0.8666666746139526}, {'x': 1, 'y': 0.9333333373069763}], [{'x': 0.800000011920929, 'y': 0.8666666746139526}, {'x': 1, 'y': 0.8666666746139526}, {'x': 1, 'y': 0.9333333373069763}], [{'x': 0.800000011920929, 'y': 0.8666666746139526}, {'x': 0.800000011920929, 'y': 0.800000011920929}, {'x': 1, 'y': 0.8666666746139526}], [{'x': 0.800000011920929, 'y': 0.800000011920929}, {'x': 1, 'y': 0.800000011920929}, {'x': 1, 'y': 0.8666666746139526}], [{'x': 0.800000011920929, 'y': 0.800000011920929}, {'x': 0.800000011920929, 'y': 0.7333333492279053}, {'x': 1, 'y': 0.800000011920929}], [{'x': 0.800000011920929, 'y': 0.7333333492279053}, {'x': 1, 'y': 0.7333333492279053}, {'x': 1, 'y': 0.800000011920929}], [{'x': 0.800000011920929, 'y': 0.7333333492279053}, {'x': 0.800000011920929, 'y': 0.6666666865348816}, {'x': 1, 'y': 0.7333333492279053}], [{'x': 0.800000011920929, 'y': 0.6666666865348816}, {'x': 1, 'y': 0.6666666865348816}, {'x': 1, 'y': 0.7333333492279053}], [{'x': 0.800000011920929, 'y': 0.6666666865348816}, {'x': 0.800000011920929, 'y': 0.6000000238418579}, {'x': 1, 'y': 0.6666666865348816}], [{'x': 0.800000011920929, 'y': 0.6000000238418579}, {'x': 1, 'y': 0.6000000238418579}, {'x': 1, 'y': 0.6666666865348816}], [{'x': 0.800000011920929, 'y': 0.6000000238418579}, {'x': 0.800000011920929, 'y': 0.5333333611488342}, {'x': 1, 'y': 0.6000000238418579}], [{'x': 0.800000011920929, 'y': 0.5333333611488342}, {'x': 1, 'y': 0.5333333611488342}, {'x': 1, 'y': 0.6000000238418579}], [{'x': 0.800000011920929, 'y': 0.5333333611488342}, {'x': 0.800000011920929, 'y': 0.46666666865348816}, {'x': 1, 'y': 0.5333333611488342}], [{'x': 0.800000011920929, 'y': 0.46666666865348816}, {'x': 1, 'y': 0.46666666865348816}, {'x': 1, 'y': 0.5333333611488342}], [{'x': 0.800000011920929, 'y': 0.46666666865348816}, {'x': 0.800000011920929, 'y': 0.4000000059604645}, {'x': 1, 'y': 0.46666666865348816}], [{'x': 0.800000011920929, 'y': 0.4000000059604645}, {'x': 1, 'y': 0.4000000059604645}, {'x': 1, 'y': 0.46666666865348816}], [{'x': 0.800000011920929, 'y': 0.4000000059604645}, {'x': 0.800000011920929, 'y': 0.3333333432674408}, {'x': 1, 'y': 0.4000000059604645}], [{'x': 0.800000011920929, 'y': 0.3333333432674408}, {'x': 1, 'y': 0.3333333432674408}, {'x': 1, 'y': 0.4000000059604645}], [{'x': 0.800000011920929, 'y': 0.3333333432674408}, {'x': 0.800000011920929, 'y': 0.2666666805744171}, {'x': 1, 'y': 0.3333333432674408}], [{'x': 0.800000011920929, 'y': 0.2666666805744171}, {'x': 1, 'y': 0.2666666805744171}, {'x': 1, 'y': 0.3333333432674408}], [{'x': 0.800000011920929, 'y': 0.2666666805744171}, {'x': 0.800000011920929, 'y': 0.20000000298023224}, {'x': 1, 'y': 0.2666666805744171}], [{'x': 0.800000011920929, 'y': 0.20000000298023224}, {'x': 1, 'y': 0.20000000298023224}, {'x': 1, 'y': 0.2666666805744171}], [{'x': 0.800000011920929, 'y': 0.20000000298023224}, {'x': 0.800000011920929, 'y': 0.13333334028720856}, {'x': 1, 'y': 0.20000000298023224}], [{'x': 0.800000011920929, 'y': 0.13333334028720856}, {'x': 1, 'y': 0.13333334028720856}, {'x': 1, 'y': 0.20000000298023224}], [{'x': 0.800000011920929, 'y': 0.13333334028720856}, {'x': 0.800000011920929, 'y': 0.06666667014360428}, {'x': 1, 'y': 0.13333334028720856}], [{'x': 0.800000011920929, 'y': 0.06666667014360428}, {'x': 1, 'y': 0.06666667014360428}, {'x': 1, 'y': 0.13333334028720856}], [{'x': 0.800000011920929, 'y': 0.06666667014360428}, {'x': 0.800000011920929, 'y': 0}, {'x': 1, 'y': 0.06666667014360428}], [{'x': 0.800000011920929, 'y': 0}, {'x': 1, 'y': 0}, {'x': 1, 'y': 0.06666667014360428}]]], faces=([0, 5, 1, [0.587785268876672, 0, 0.8090169823258212], '#ffffff', 0, [[0, 0, 1], [0, 0, 1], [0.9510565400123596, 0, 0.30901700258255005]], []], [5, 6, 1, [0.587785268876672, 0, 0.8090169823258212], '#ffffff', 0, [[0, 0, 1], [0.9510565400123596, 0, 0.30901700258255005], [0.9510565400123596, 0, 0.30901700258255005]], []], [5, 10, 6, [0.5877852688766722, 0, 0.8090169823258213], '#ffffff', 0, [[0, 0, 1], [0, 0, 1], [0.9510565400123596, 0, 0.30901700258255005]], []], [10, 11, 6, [0.5877852688766722, 0, 0.8090169823258213], '#ffffff', 0, [[0, 0, 1], [0.9510565400123596, 0, 0.30901700258255005], [0.9510565400123596, 0, 0.30901700258255005]], []], [10, 15, 11, [0.587785268876672, 0, 0.8090169823258212], '#ffffff', 0, [[0, 0, 1], [0, 0, 1], [0.9510565400123596, 0, 0.30901700258255005]], []], [15, 16, 11, [0.587785268876672, 0, 0.8090169823258212], '#ffffff', 0, [[0, 0, 1], [0.9510565400123596, 0, 0.30901700258255005], [0.9510565400123596, 0, 0.30901700258255005]], []], [15, 20, 16, [0.5877852688766722, 0, 0.8090169823258213], '#ffffff', 0, [[0, 0, 1], [0, 0, 1], [0.9510565400123596, 0, 0.30901700258255005]], []], [20, 21, 16, [0.5877852688766722, 0, 0.8090169823258213], '#ffffff', 0, [[0, 0, 1], [0.9510565400123596, 0, 0.30901700258255005], [0.9510565400123596, 0, 0.30901700258255005]], []], [20, 25, 21, [0.587785268876672, 0, 0.8090169823258212], '#ffffff', 0, [[0, 0, 1], [0, 0, 1], [0.9510565400123596, 0, 0.30901700258255005]], []], [25, 26, 21, [0.587785268876672, 0, 0.8090169823258212], '#ffffff', 0, [[0, 0, 1], [0.9510565400123596, 0, 0.30901700258255005], [0.9510565400123596, 0, 0.30901700258255005]], []], [25, 30, 26, [0.5877852688766722, 0, 0.8090169823258213], '#ffffff', 0, [[0, 0, 1], [0, 0, 1], [0.9510565400123596, 0, 0.30901700258255005]], []], [30, 31, 26, [0.5877852688766722, 0, 0.8090169823258213], '#ffffff', 0, [[0, 0, 1], [0.9510565400123596, 0, 0.30901700258255005], [0.9510565400123596, 0, 0.30901700258255005]], []], [30, 35, 31, [0.5877852688766722, 0, 0.8090169823258213], '#ffffff', 0, [[0, 0, 1], [0, 0, 1], [0.9510565400123596, 0, 0.30901700258255005]], []], [35, 36, 31, [0.5877852688766722, 0, 0.8090169823258213], '#ffffff', 0, [[0, 0, 1], [0.9510565400123596, 0, 0.30901700258255005], [0.9510565400123596, 0, 0.30901700258255005]], []], [35, 40, 36, [0.5877852688766722, 0, 0.8090169823258213], '#ffffff', 0, [[0, 0, 1], [0, 0, 1], [0.9510565400123596, 0, 0.30901700258255005]], []], [40, 41, 36, [0.5877852688766722, 0, 0.8090169823258213], '#ffffff', 0, [[0, 0, 1], [0.9510565400123596, 0, 0.30901700258255005], [0.9510565400123596, 0, 0.30901700258255005]], []], [40, 45, 41, [0.5877852688766722, 0, 0.8090169823258213], '#ffffff', 0, [[0, 0, 1], [0, 0, 1], [0.9510565400123596, 0, 0.30901700258255005]], []], [45, 46, 41, [0.5877852688766722, 0, 0.8090169823258213], '#ffffff', 0, [[0, 0, 1], [0.9510565400123596, 0, 0.30901700258255005], [0.9510565400123596, 0, 0.30901700258255005]], []], [45, 50, 46, [0.5877852688766722, 0, 0.8090169823258213], '#ffffff', 0, [[0, 0, 1], [0, 0, 1], [0.9510565400123596, 0, 0.30901700258255005]], []], [50, 51, 46, [0.5877852688766722, 0, 0.8090169823258213], '#ffffff', 0, [[0, 0, 1], [0.9510565400123596, 0, 0.30901700258255005], [0.9510565400123596, 0, 0.30901700258255005]], []], [50, 55, 51, [0.587785268876672, 0, 0.8090169823258212], '#ffffff', 0, [[0, 0, 1], [0, 0, 1], [0.9510565400123596, 0, 0.30901700258255005]], []], [55, 56, 51, [0.587785268876672, 0, 0.8090169823258212], '#ffffff', 0, [[0, 0, 1], [0.9510565400123596, 0, 0.30901700258255005], [0.9510565400123596, 0, 0.30901700258255005]], []], [55, 60, 56, [0.5877852688766722, 0, 0.8090169823258213], '#ffffff', 0, [[0, 0, 1], [0, 0, 1], [0.9510565400123596, 0, 0.30901700258255005]], []], [60, 61, 56, [0.5877852688766722, 0, 0.8090169823258213], '#ffffff', 0, [[0, 0, 1], [0.9510565400123596, 0, 0.30901700258255005], [0.9510565400123596, 0, 0.30901700258255005]], []], [60, 65, 61, [0.587785268876672, 0, 0.8090169823258212], '#ffffff', 0, [[0, 0, 1], [0, 0, 1], [0.9510565400123596, 0, 0.30901700258255005]], []], [65, 66, 61, [0.587785268876672, 0, 0.8090169823258212], '#ffffff', 0, [[0, 0, 1], [0.9510565400123596, 0, 0.30901700258255005], [0.9510565400123596, 0, 0.30901700258255005]], []], [65, 70, 66, [0.5877852688766722, 0, 0.8090169823258213], '#ffffff', 0, [[0, 0, 1], [0, 0, 1], [0.9510565400123596, 0, 0.30901700258255005]], []], [70, 71, 66, [0.5877852688766722, 0, 0.8090169823258213], '#ffffff', 0, [[0, 0, 1], [0.9510565400123596, 0, 0.30901700258255005], [0.9510565400123596, 0, 0.30901700258255005]], []], [70, 75, 71, [0.587785268876672, 0, 0.8090169823258212], '#ffffff', 0, [[0, 0, 1], [0, 0, 1], [0.9510565400123596, 0, 0.30901700258255005]], []], [75, 76, 71, [0.587785268876672, 0, 0.8090169823258212], '#ffffff', 0, [[0, 0, 1], [0.9510565400123596, 0, 0.30901700258255005], [0.9510565400123596, 0, 0.30901700258255005]], []], [1, 6, 2, [0.9510565225876377, 0, -0.3090169750086719], '#ffffff', 0, [[0.9510565400123596, 0, 0.30901700258255005], [0.9510565400123596, 0, 0.30901700258255005], [0.5877852439880371, 0, -0.80901700258255]], []], [6, 7, 2, [0.9510565225876377, 0, -0.3090169750086719], '#ffffff', 0, [[0.9510565400123596, 0, 0.30901700258255005], [0.5877852439880371, 0, -0.80901700258255], [0.5877852439880371, 0, -0.80901700258255]], []], [6, 11, 7, [0.9510565225876377, 0, -0.3090169750086719], '#ffffff', 0, [[0.9510565400123596, 0, 0.30901700258255005], [0.9510565400123596, 0, 0.30901700258255005], [0.5877852439880371, 0, -0.80901700258255]], []], [11, 12, 7, [0.9510565225876377, 0, -0.3090169750086719], '#ffffff', 0, [[0.9510565400123596, 0, 0.30901700258255005], [0.5877852439880371, 0, -0.80901700258255], [0.5877852439880371, 0, -0.80901700258255]], []], [11, 16, 12, [0.9510565225876377, 0, -0.3090169750086719], '#ffffff', 0, [[0.9510565400123596, 0, 0.30901700258255005], [0.9510565400123596, 0, 0.30901700258255005], [0.5877852439880371, 0, -0.80901700258255]], []], [16, 17, 12, [0.9510565225876377, 0, -0.3090169750086719], '#ffffff', 0, [[0.9510565400123596, 0, 0.30901700258255005], [0.5877852439880371, 0, -0.80901700258255], [0.5877852439880371, 0, -0.80901700258255]], []], [16, 21, 17, [0.9510565225876376, 0, -0.3090169750086719], '#ffffff', 0, [[0.9510565400123596, 0, 0.30901700258255005], [0.9510565400123596, 0, 0.30901700258255005], [0.5877852439880371, 0, -0.80901700258255]], []], [21, 22, 17, [0.9510565225876376, 0, -0.3090169750086719], '#ffffff', 0, [[0.9510565400123596, 0, 0.30901700258255005], [0.5877852439880371, 0, -0.80901700258255], [0.5877852439880371, 0, -0.80901700258255]], []], [21, 26, 22, [0.9510565225876377, 0, -0.3090169750086719], '#ffffff', 0, [[0.9510565400123596, 0, 0.30901700258255005], [0.9510565400123596, 0, 0.30901700258255005], [0.5877852439880371, 0, -0.80901700258255]], []], [26, 27, 22, [0.9510565225876377, 0, -0.3090169750086719], '#ffffff', 0, [[0.9510565400123596, 0, 0.30901700258255005], [0.5877852439880371, 0, -0.80901700258255], [0.5877852439880371, 0, -0.80901700258255]], []], [26, 31, 27, [0.9510565225876376, 0, -0.3090169750086719], '#ffffff', 0, [[0.9510565400123596, 0, 0.30901700258255005], [0.9510565400123596, 0, 0.30901700258255005], [0.5877852439880371, 0, -0.80901700258255]], []], [31, 32, 27, [0.9510565225876376, 0, -0.3090169750086719], '#ffffff', 0, [[0.9510565400123596, 0, 0.30901700258255005], [0.5877852439880371, 0, -0.80901700258255], [0.5877852439880371, 0, -0.80901700258255]], []], [31, 36, 32, [0.9510565225876377, 0, -0.3090169750086719], '#ffffff', 0, [[0.9510565400123596, 0, 0.30901700258255005], [0.9510565400123596, 0, 0.30901700258255005], [0.5877852439880371, 0, -0.80901700258255]], []], [36, 37, 32, [0.9510565225876377, 0, -0.3090169750086719], '#ffffff', 0, [[0.9510565400123596, 0, 0.30901700258255005], [0.5877852439880371, 0, -0.80901700258255], [0.5877852439880371, 0, -0.80901700258255]], []], [36, 41, 37, [0.9510565225876377, 0, -0.3090169750086719], '#ffffff', 0, [[0.9510565400123596, 0, 0.30901700258255005], [0.9510565400123596, 0, 0.30901700258255005], [0.5877852439880371, 0, -0.80901700258255]], []], [41, 42, 37, [0.9510565225876377, 0, -0.3090169750086719], '#ffffff', 0, [[0.9510565400123596, 0, 0.30901700258255005], [0.5877852439880371, 0, -0.80901700258255], [0.5877852439880371, 0, -0.80901700258255]], []], [41, 46, 42, [0.9510565225876377, 0, -0.3090169750086719], '#ffffff', 0, [[0.9510565400123596, 0, 0.30901700258255005], [0.9510565400123596, 0, 0.30901700258255005], [0.5877852439880371, 0, -0.80901700258255]], []], [46, 47, 42, [0.9510565225876377, 0, -0.3090169750086719], '#ffffff', 0, [[0.9510565400123596, 0, 0.30901700258255005], [0.5877852439880371, 0, -0.80901700258255], [0.5877852439880371, 0, -0.80901700258255]], []], [46, 51, 47, [0.9510565225876376, 0, -0.3090169750086719], '#ffffff', 0, [[0.9510565400123596, 0, 0.30901700258255005], [0.9510565400123596, 0, 0.30901700258255005], [0.5877852439880371, 0, -0.80901700258255]], []], [51, 52, 47, [0.9510565225876376, 0, -0.3090169750086719], '#ffffff', 0, [[0.9510565400123596, 0, 0.30901700258255005], [0.5877852439880371, 0, -0.80901700258255], [0.5877852439880371, 0, -0.80901700258255]], []], [51, 56, 52, [0.9510565225876377, 0, -0.3090169750086719], '#ffffff', 0, [[0.9510565400123596, 0, 0.30901700258255005], [0.9510565400123596, 0, 0.30901700258255005], [0.5877852439880371, 0, -0.80901700258255]], []], [56, 57, 52, [0.9510565225876377, 0, -0.3090169750086719], '#ffffff', 0, [[0.9510565400123596, 0, 0.30901700258255005], [0.5877852439880371, 0, -0.80901700258255], [0.5877852439880371, 0, -0.80901700258255]], []], [56, 61, 57, [0.9510565225876376, 0, -0.3090169750086719], '#ffffff', 0, [[0.9510565400123596, 0, 0.30901700258255005], [0.9510565400123596, 0, 0.30901700258255005], [0.5877852439880371, 0, -0.80901700258255]], []], [61, 62, 57, [0.9510565225876376, 0, -0.3090169750086719], '#ffffff', 0, [[0.9510565400123596, 0, 0.30901700258255005], [0.5877852439880371, 0, -0.80901700258255], [0.5877852439880371, 0, -0.80901700258255]], []], [61, 66, 62, [0.9510565225876377, 0, -0.3090169750086719], '#ffffff', 0, [[0.9510565400123596, 0, 0.30901700258255005], [0.9510565400123596, 0, 0.30901700258255005], [0.5877852439880371, 0, -0.80901700258255]], []], [66, 67, 62, [0.9510565225876377, 0, -0.3090169750086719], '#ffffff', 0, [[0.9510565400123596, 0, 0.30901700258255005], [0.5877852439880371, 0, -0.80901700258255], [0.5877852439880371, 0, -0.80901700258255]], []], [66, 71, 67, [0.9510565225876377, 0, -0.3090169750086719], '#ffffff', 0, [[0.9510565400123596, 0, 0.30901700258255005], [0.9510565400123596, 0, 0.30901700258255005], [0.5877852439880371, 0, -0.80901700258255]], []], [71, 72, 67, [0.9510565225876377, 0, -0.3090169750086719], '#ffffff', 0, [[0.9510565400123596, 0, 0.30901700258255005], [0.5877852439880371, 0, -0.80901700258255], [0.5877852439880371, 0, -0.80901700258255]], []], [71, 76, 72, [0.9510565225876377, 0, -0.3090169750086719], '#ffffff', 0, [[0.9510565400123596, 0, 0.30901700258255005], [0.9510565400123596, 0, 0.30901700258255005], [0.5877852439880371, 0, -0.80901700258255]], []], [76, 77, 72, [0.9510565225876377, 0, -0.3090169750086719], '#ffffff', 0, [[0.9510565400123596, 0, 0.30901700258255005], [0.5877852439880371, 0, -0.80901700258255], [0.5877852439880371, 0, -0.80901700258255]], []], [2, 7, 3, [0, 0, -0.9999999999999999], '#ffffff', 0, [[0.5877852439880371, 0, -0.80901700258255], [0.5877852439880371, 0, -0.80901700258255], [-0.5877852439880371, 0, -0.80901700258255]], []], [7, 8, 3, [0, 0, -0.9999999999999999], '#ffffff', 0, [[0.5877852439880371, 0, -0.80901700258255], [-0.5877852439880371, 0, -0.80901700258255], [-0.5877852439880371, 0, -0.80901700258255]], []], [7, 12, 8, [0, 0, -1], '#ffffff', 0, [[0.5877852439880371, 0, -0.80901700258255], [0.5877852439880371, 0, -0.80901700258255], [-0.5877852439880371, 0, -0.80901700258255]], []], [12, 13, 8, [0, 0, -1], '#ffffff', 0, [[0.5877852439880371, 0, -0.80901700258255], [-0.5877852439880371, 0, -0.80901700258255], [-0.5877852439880371, 0, -0.80901700258255]], []], [12, 17, 13, [0, 0, -0.9999999999999999], '#ffffff', 0, [[0.5877852439880371, 0, -0.80901700258255], [0.5877852439880371, 0, -0.80901700258255], [-0.5877852439880371, 0, -0.80901700258255]], []], [17, 18, 13, [0, 0, -0.9999999999999999], '#ffffff', 0, [[0.5877852439880371, 0, -0.80901700258255], [-0.5877852439880371, 0, -0.80901700258255], [-0.5877852439880371, 0, -0.80901700258255]], []], [17, 22, 18, [0, 0, -1], '#ffffff', 0, [[0.5877852439880371, 0, -0.80901700258255], [0.5877852439880371, 0, -0.80901700258255], [-0.5877852439880371, 0, -0.80901700258255]], []], [22, 23, 18, [0, 0, -1], '#ffffff', 0, [[0.5877852439880371, 0, -0.80901700258255], [-0.5877852439880371, 0, -0.80901700258255], [-0.5877852439880371, 0, -0.80901700258255]], []], [22, 27, 23, [0, 0, -0.9999999999999999], '#ffffff', 0, [[0.5877852439880371, 0, -0.80901700258255], [0.5877852439880371, 0, -0.80901700258255], [-0.5877852439880371, 0, -0.80901700258255]], []], [27, 28, 23, [0, 0, -0.9999999999999999], '#ffffff', 0, [[0.5877852439880371, 0, -0.80901700258255], [-0.5877852439880371, 0, -0.80901700258255], [-0.5877852439880371, 0, -0.80901700258255]], []], [27, 32, 28, [0, 0, -1], '#ffffff', 0, [[0.5877852439880371, 0, -0.80901700258255], [0.5877852439880371, 0, -0.80901700258255], [-0.5877852439880371, 0, -0.80901700258255]], []], [32, 33, 28, [0, 0, -1], '#ffffff', 0, [[0.5877852439880371, 0, -0.80901700258255], [-0.5877852439880371, 0, -0.80901700258255], [-0.5877852439880371, 0, -0.80901700258255]], []], [32, 37, 33, [0, 0, -1], '#ffffff', 0, [[0.5877852439880371, 0, -0.80901700258255], [0.5877852439880371, 0, -0.80901700258255], [-0.5877852439880371, 0, -0.80901700258255]], []], [37, 38, 33, [0, 0, -1], '#ffffff', 0, [[0.5877852439880371, 0, -0.80901700258255], [-0.5877852439880371, 0, -0.80901700258255], [-0.5877852439880371, 0, -0.80901700258255]], []], [37, 42, 38, [0, 0, -1], '#ffffff', 0, [[0.5877852439880371, 0, -0.80901700258255], [0.5877852439880371, 0, -0.80901700258255], [-0.5877852439880371, 0, -0.80901700258255]], []], [42, 43, 38, [0, 0, -1], '#ffffff', 0, [[0.5877852439880371, 0, -0.80901700258255], [-0.5877852439880371, 0, -0.80901700258255], [-0.5877852439880371, 0, -0.80901700258255]], []], [42, 47, 43, [0, 0, -1], '#ffffff', 0, [[0.5877852439880371, 0, -0.80901700258255], [0.5877852439880371, 0, -0.80901700258255], [-0.5877852439880371, 0, -0.80901700258255]], []], [47, 48, 43, [0, 0, -1], '#ffffff', 0, [[0.5877852439880371, 0, -0.80901700258255], [-0.5877852439880371, 0, -0.80901700258255], [-0.5877852439880371, 0, -0.80901700258255]], []], [47, 52, 48, [0, 0, -1], '#ffffff', 0, [[0.5877852439880371, 0, -0.80901700258255], [0.5877852439880371, 0, -0.80901700258255], [-0.5877852439880371, 0, -0.80901700258255]], []], [52, 53, 48, [0, 0, -1], '#ffffff', 0, [[0.5877852439880371, 0, -0.80901700258255], [-0.5877852439880371, 0, -0.80901700258255], [-0.5877852439880371, 0, -0.80901700258255]], []], [52, 57, 53, [0, 0, -0.9999999999999999], '#ffffff', 0, [[0.5877852439880371, 0, -0.80901700258255], [0.5877852439880371, 0, -0.80901700258255], [-0.5877852439880371, 0, -0.80901700258255]], []], [57, 58, 53, [0, 0, -0.9999999999999999], '#ffffff', 0, [[0.5877852439880371, 0, -0.80901700258255], [-0.5877852439880371, 0, -0.80901700258255], [-0.5877852439880371, 0, -0.80901700258255]], []], [57, 62, 58, [0, 0, -1], '#ffffff', 0, [[0.5877852439880371, 0, -0.80901700258255], [0.5877852439880371, 0, -0.80901700258255], [-0.5877852439880371, 0, -0.80901700258255]], []], [62, 63, 58, [0, 0, -1], '#ffffff', 0, [[0.5877852439880371, 0, -0.80901700258255], [-0.5877852439880371, 0, -0.80901700258255], [-0.5877852439880371, 0, -0.80901700258255]], []], [62, 67, 63, [0, 0, -0.9999999999999999], '#ffffff', 0, [[0.5877852439880371, 0, -0.80901700258255], [0.5877852439880371, 0, -0.80901700258255], [-0.5877852439880371, 0, -0.80901700258255]], []], [67, 68, 63, [0, 0, -0.9999999999999999], '#ffffff', 0, [[0.5877852439880371, 0, -0.80901700258255], [-0.5877852439880371, 0, -0.80901700258255], [-0.5877852439880371, 0, -0.80901700258255]], []], [67, 72, 68, [0, 0, -1], '#ffffff', 0, [[0.5877852439880371, 0, -0.80901700258255], [0.5877852439880371, 0, -0.80901700258255], [-0.5877852439880371, 0, -0.80901700258255]], []], [72, 73, 68, [0, 0, -1], '#ffffff', 0, [[0.5877852439880371, 0, -0.80901700258255], [-0.5877852439880371, 0, -0.80901700258255], [-0.5877852439880371, 0, -0.80901700258255]], []], [72, 77, 73, [0, 0, -0.9999999999999999], '#ffffff', 0, [[0.5877852439880371, 0, -0.80901700258255], [0.5877852439880371, 0, -0.80901700258255], [-0.5877852439880371, 0, -0.80901700258255]], []], [77, 78, 73, [0, 0, -0.9999999999999999], '#ffffff', 0, [[0.5877852439880371, 0, -0.80901700258255], [-0.5877852439880371, 0, -0.80901700258255], [-0.5877852439880371, 0, -0.80901700258255]], []], [3, 8, 4, [-0.9510565225876377, 0, -0.3090169750086719], '#ffffff', 0, [[-0.5877852439880371, 0, -0.80901700258255], [-0.5877852439880371, 0, -0.80901700258255], [-0.9510565400123596, 0, 0.30901700258255005]], []], [8, 9, 4, [-0.9510565225876377, 0, -0.3090169750086719], '#ffffff', 0, [[-0.5877852439880371, 0, -0.80901700258255], [-0.9510565400123596, 0, 0.30901700258255005], [-0.9510565400123596, 0, 0.30901700258255005]], []], [8, 13, 9, [-0.9510565225876377, 0, -0.3090169750086719], '#ffffff', 0, [[-0.5877852439880371, 0, -0.80901700258255], [-0.5877852439880371, 0, -0.80901700258255], [-0.9510565400123596, 0, 0.30901700258255005]], []], [13, 14, 9, [-0.9510565225876377, 0, -0.3090169750086719], '#ffffff', 0, [[-0.5877852439880371, 0, -0.80901700258255], [-0.9510565400123596, 0, 0.30901700258255005], [-0.9510565400123596, 0, 0.30901700258255005]], []], [13, 18, 14, [-0.9510565225876377, 0, -0.3090169750086719], '#ffffff', 0, [[-0.5877852439880371, 0, -0.80901700258255], [-0.5877852439880371, 0, -0.80901700258255], [-0.9510565400123596, 0, 0.30901700258255005]], []], [18, 19, 14, [-0.9510565225876377, 0, -0.3090169750086719], '#ffffff', 0, [[-0.5877852439880371, 0, -0.80901700258255], [-0.9510565400123596, 0, 0.30901700258255005], [-0.9510565400123596, 0, 0.30901700258255005]], []], [18, 23, 19, [-0.9510565225876376, 0, -0.3090169750086719], '#ffffff', 0, [[-0.5877852439880371, 0, -0.80901700258255], [-0.5877852439880371, 0, -0.80901700258255], [-0.9510565400123596, 0, 0.30901700258255005]], []], [23, 24, 19, [-0.9510565225876376, 0, -0.3090169750086719], '#ffffff', 0, [[-0.5877852439880371, 0, -0.80901700258255], [-0.9510565400123596, 0, 0.30901700258255005], [-0.9510565400123596, 0, 0.30901700258255005]], []], [23, 28, 24, [-0.9510565225876377, 0, -0.3090169750086719], '#ffffff', 0, [[-0.5877852439880371, 0, -0.80901700258255], [-0.5877852439880371, 0, -0.80901700258255], [-0.9510565400123596, 0, 0.30901700258255005]], []], [28, 29, 24, [-0.9510565225876377, 0, -0.3090169750086719], '#ffffff', 0, [[-0.5877852439880371, 0, -0.80901700258255], [-0.9510565400123596, 0, 0.30901700258255005], [-0.9510565400123596, 0, 0.30901700258255005]], []], [28, 33, 29, [-0.9510565225876376, 0, -0.3090169750086719], '#ffffff', 0, [[-0.5877852439880371, 0, -0.80901700258255], [-0.5877852439880371, 0, -0.80901700258255], [-0.9510565400123596, 0, 0.30901700258255005]], []], [33, 34, 29, [-0.9510565225876376, 0, -0.3090169750086719], '#ffffff', 0, [[-0.5877852439880371, 0, -0.80901700258255], [-0.9510565400123596, 0, 0.30901700258255005], [-0.9510565400123596, 0, 0.30901700258255005]], []], [33, 38, 34, [-0.9510565225876377, 0, -0.3090169750086719], '#ffffff', 0, [[-0.5877852439880371, 0, -0.80901700258255], [-0.5877852439880371, 0, -0.80901700258255], [-0.9510565400123596, 0, 0.30901700258255005]], []], [38, 39, 34, [-0.9510565225876377, 0, -0.3090169750086719], '#ffffff', 0, [[-0.5877852439880371, 0, -0.80901700258255], [-0.9510565400123596, 0, 0.30901700258255005], [-0.9510565400123596, 0, 0.30901700258255005]], []], [38, 43, 39, [-0.9510565225876377, 0, -0.3090169750086719], '#ffffff', 0, [[-0.5877852439880371, 0, -0.80901700258255], [-0.5877852439880371, 0, -0.80901700258255], [-0.9510565400123596, 0, 0.30901700258255005]], []], [43, 44, 39, [-0.9510565225876377, 0, -0.3090169750086719], '#ffffff', 0, [[-0.5877852439880371, 0, -0.80901700258255], [-0.9510565400123596, 0, 0.30901700258255005], [-0.9510565400123596, 0, 0.30901700258255005]], []], [43, 48, 44, [-0.9510565225876377, 0, -0.3090169750086719], '#ffffff', 0, [[-0.5877852439880371, 0, -0.80901700258255], [-0.5877852439880371, 0, -0.80901700258255], [-0.9510565400123596, 0, 0.30901700258255005]], []], [48, 49, 44, [-0.9510565225876377, 0, -0.3090169750086719], '#ffffff', 0, [[-0.5877852439880371, 0, -0.80901700258255], [-0.9510565400123596, 0, 0.30901700258255005], [-0.9510565400123596, 0, 0.30901700258255005]], []], [48, 53, 49, [-0.9510565225876376, 0, -0.3090169750086719], '#ffffff', 0, [[-0.5877852439880371, 0, -0.80901700258255], [-0.5877852439880371, 0, -0.80901700258255], [-0.9510565400123596, 0, 0.30901700258255005]], []], [53, 54, 49, [-0.9510565225876376, 0, -0.3090169750086719], '#ffffff', 0, [[-0.5877852439880371, 0, -0.80901700258255], [-0.9510565400123596, 0, 0.30901700258255005], [-0.9510565400123596, 0, 0.30901700258255005]], []], [53, 58, 54, [-0.9510565225876377, 0, -0.3090169750086719], '#ffffff', 0, [[-0.5877852439880371, 0, -0.80901700258255], [-0.5877852439880371, 0, -0.80901700258255], [-0.9510565400123596, 0, 0.30901700258255005]], []], [58, 59, 54, [-0.9510565225876377, 0, -0.3090169750086719], '#ffffff', 0, [[-0.5877852439880371, 0, -0.80901700258255], [-0.9510565400123596, 0, 0.30901700258255005], [-0.9510565400123596, 0, 0.30901700258255005]], []], [58, 63, 59, [-0.9510565225876376, 0, -0.3090169750086719], '#ffffff', 0, [[-0.5877852439880371, 0, -0.80901700258255], [-0.5877852439880371, 0, -0.80901700258255], [-0.9510565400123596, 0, 0.30901700258255005]], []], [63, 64, 59, [-0.9510565225876376, 0, -0.3090169750086719], '#ffffff', 0, [[-0.5877852439880371, 0, -0.80901700258255], [-0.9510565400123596, 0, 0.30901700258255005], [-0.9510565400123596, 0, 0.30901700258255005]], []], [63, 68, 64, [-0.9510565225876377, 0, -0.3090169750086719], '#ffffff', 0, [[-0.5877852439880371, 0, -0.80901700258255], [-0.5877852439880371, 0, -0.80901700258255], [-0.9510565400123596, 0, 0.30901700258255005]], []], [68, 69, 64, [-0.9510565225876377, 0, -0.3090169750086719], '#ffffff', 0, [[-0.5877852439880371, 0, -0.80901700258255], [-0.9510565400123596, 0, 0.30901700258255005], [-0.9510565400123596, 0, 0.30901700258255005]], []], [68, 73, 69, [-0.9510565225876377, 0, -0.3090169750086719], '#ffffff', 0, [[-0.5877852439880371, 0, -0.80901700258255], [-0.5877852439880371, 0, -0.80901700258255], [-0.9510565400123596, 0, 0.30901700258255005]], []], [73, 74, 69, [-0.9510565225876377, 0, -0.3090169750086719], '#ffffff', 0, [[-0.5877852439880371, 0, -0.80901700258255], [-0.9510565400123596, 0, 0.30901700258255005], [-0.9510565400123596, 0, 0.30901700258255005]], []], [73, 78, 74, [-0.9510565225876377, 0, -0.3090169750086719], '#ffffff', 0, [[-0.5877852439880371, 0, -0.80901700258255], [-0.5877852439880371, 0, -0.80901700258255], [-0.9510565400123596, 0, 0.30901700258255005]], []], [78, 79, 74, [-0.9510565225876377, 0, -0.3090169750086719], '#ffffff', 0, [[-0.5877852439880371, 0, -0.80901700258255], [-0.9510565400123596, 0, 0.30901700258255005], [-0.9510565400123596, 0, 0.30901700258255005]], []], [4, 9, 0, [-0.5877852688766722, 0, 0.8090169823258212], '#ffffff', 0, [[-0.9510565400123596, 0, 0.30901700258255005], [-0.9510565400123596, 0, 0.30901700258255005], [-2.4492937051703357e-16, 0, 1]], []], [9, 5, 0, [-0.5877852688766722, 0, 0.8090169823258212], '#ffffff', 0, [[-0.9510565400123596, 0, 0.30901700258255005], [-2.4492937051703357e-16, 0, 1], [-2.4492937051703357e-16, 0, 1]], []], [9, 14, 5, [-0.5877852688766722, 0, 0.8090169823258212], '#ffffff', 0, [[-0.9510565400123596, 0, 0.30901700258255005], [-0.9510565400123596, 0, 0.30901700258255005], [-2.4492937051703357e-16, 0, 1]], []], [14, 10, 5, [-0.5877852688766722, 0, 0.8090169823258212], '#ffffff', 0, [[-0.9510565400123596, 0, 0.30901700258255005], [-2.4492937051703357e-16, 0, 1], [-2.4492937051703357e-16, 0, 1]], []], [14, 19, 10, [-0.5877852688766722, 0, 0.8090169823258212], '#ffffff', 0, [[-0.9510565400123596, 0, 0.30901700258255005], [-0.9510565400123596, 0, 0.30901700258255005], [-2.4492937051703357e-16, 0, 1]], []], [19, 15, 10, [-0.5877852688766722, 0, 0.8090169823258212], '#ffffff', 0, [[-0.9510565400123596, 0, 0.30901700258255005], [-2.4492937051703357e-16, 0, 1], [-2.4492937051703357e-16, 0, 1]], []], [19, 24, 15, [-0.5877852688766723, 0, 0.8090169823258213], '#ffffff', 0, [[-0.9510565400123596, 0, 0.30901700258255005], [-0.9510565400123596, 0, 0.30901700258255005], [-2.4492937051703357e-16, 0, 1]], []], [24, 20, 15, [-0.5877852688766723, 0, 0.8090169823258213], '#ffffff', 0, [[-0.9510565400123596, 0, 0.30901700258255005], [-2.4492937051703357e-16, 0, 1], [-2.4492937051703357e-16, 0, 1]], []], [24, 29, 20, [-0.5877852688766722, 0, 0.8090169823258212], '#ffffff', 0, [[-0.9510565400123596, 0, 0.30901700258255005], [-0.9510565400123596, 0, 0.30901700258255005], [-2.4492937051703357e-16, 0, 1]], []], [29, 25, 20, [-0.5877852688766722, 0, 0.8090169823258212], '#ffffff', 0, [[-0.9510565400123596, 0, 0.30901700258255005], [-2.4492937051703357e-16, 0, 1], [-2.4492937051703357e-16, 0, 1]], []], [29, 34, 25, [-0.5877852688766723, 0, 0.8090169823258213], '#ffffff', 0, [[-0.9510565400123596, 0, 0.30901700258255005], [-0.9510565400123596, 0, 0.30901700258255005], [-2.4492937051703357e-16, 0, 1]], []], [34, 30, 25, [-0.5877852688766723, 0, 0.8090169823258213], '#ffffff', 0, [[-0.9510565400123596, 0, 0.30901700258255005], [-2.4492937051703357e-16, 0, 1], [-2.4492937051703357e-16, 0, 1]], []], [34, 39, 30, [-0.5877852688766722, 0, 0.8090169823258212], '#ffffff', 0, [[-0.9510565400123596, 0, 0.30901700258255005], [-0.9510565400123596, 0, 0.30901700258255005], [-2.4492937051703357e-16, 0, 1]], []], [39, 35, 30, [-0.5877852688766722, 0, 0.8090169823258212], '#ffffff', 0, [[-0.9510565400123596, 0, 0.30901700258255005], [-2.4492937051703357e-16, 0, 1], [-2.4492937051703357e-16, 0, 1]], []], [39, 44, 35, [-0.5877852688766722, 0, 0.8090169823258212], '#ffffff', 0, [[-0.9510565400123596, 0, 0.30901700258255005], [-0.9510565400123596, 0, 0.30901700258255005], [-2.4492937051703357e-16, 0, 1]], []], [44, 40, 35, [-0.5877852688766722, 0, 0.8090169823258212], '#ffffff', 0, [[-0.9510565400123596, 0, 0.30901700258255005], [-2.4492937051703357e-16, 0, 1], [-2.4492937051703357e-16, 0, 1]], []], [44, 49, 40, [-0.5877852688766722, 0, 0.8090169823258212], '#ffffff', 0, [[-0.9510565400123596, 0, 0.30901700258255005], [-0.9510565400123596, 0, 0.30901700258255005], [-2.4492937051703357e-16, 0, 1]], []], [49, 45, 40, [-0.5877852688766722, 0, 0.8090169823258212], '#ffffff', 0, [[-0.9510565400123596, 0, 0.30901700258255005], [-2.4492937051703357e-16, 0, 1], [-2.4492937051703357e-16, 0, 1]], []], [49, 54, 45, [-0.5877852688766723, 0, 0.8090169823258213], '#ffffff', 0, [[-0.9510565400123596, 0, 0.30901700258255005], [-0.9510565400123596, 0, 0.30901700258255005], [-2.4492937051703357e-16, 0, 1]], []], [54, 50, 45, [-0.5877852688766723, 0, 0.8090169823258213], '#ffffff', 0, [[-0.9510565400123596, 0, 0.30901700258255005], [-2.4492937051703357e-16, 0, 1], [-2.4492937051703357e-16, 0, 1]], []], [54, 59, 50, [-0.5877852688766722, 0, 0.8090169823258212], '#ffffff', 0, [[-0.9510565400123596, 0, 0.30901700258255005], [-0.9510565400123596, 0, 0.30901700258255005], [-2.4492937051703357e-16, 0, 1]], []], [59, 55, 50, [-0.5877852688766722, 0, 0.8090169823258212], '#ffffff', 0, [[-0.9510565400123596, 0, 0.30901700258255005], [-2.4492937051703357e-16, 0, 1], [-2.4492937051703357e-16, 0, 1]], []], [59, 64, 55, [-0.5877852688766723, 0, 0.8090169823258213], '#ffffff', 0, [[-0.9510565400123596, 0, 0.30901700258255005], [-0.9510565400123596, 0, 0.30901700258255005], [-2.4492937051703357e-16, 0, 1]], []], [64, 60, 55, [-0.5877852688766723, 0, 0.8090169823258213], '#ffffff', 0, [[-0.9510565400123596, 0, 0.30901700258255005], [-2.4492937051703357e-16, 0, 1], [-2.4492937051703357e-16, 0, 1]], []], [64, 69, 60, [-0.5877852688766722, 0, 0.8090169823258212], '#ffffff', 0, [[-0.9510565400123596, 0, 0.30901700258255005], [-0.9510565400123596, 0, 0.30901700258255005], [-2.4492937051703357e-16, 0, 1]], []], [69, 65, 60, [-0.5877852688766722, 0, 0.8090169823258212], '#ffffff', 0, [[-0.9510565400123596, 0, 0.30901700258255005], [-2.4492937051703357e-16, 0, 1], [-2.4492937051703357e-16, 0, 1]], []], [69, 74, 65, [-0.5877852688766722, 0, 0.8090169823258212], '#ffffff', 0, [[-0.9510565400123596, 0, 0.30901700258255005], [-0.9510565400123596, 0, 0.30901700258255005], [-2.4492937051703357e-16, 0, 1]], []], [74, 70, 65, [-0.5877852688766722, 0, 0.8090169823258212], '#ffffff', 0, [[-0.9510565400123596, 0, 0.30901700258255005], [-2.4492937051703357e-16, 0, 1], [-2.4492937051703357e-16, 0, 1]], []], [74, 79, 70, [-0.5877852688766722, 0, 0.8090169823258212], '#ffffff', 0, [[-0.9510565400123596, 0, 0.30901700258255005], [-0.9510565400123596, 0, 0.30901700258255005], [-2.4492937051703357e-16, 0, 1]], []], [79, 75, 70, [-0.5877852688766722, 0, 0.8090169823258212], '#ffffff', 0, [[-0.9510565400123596, 0, 0.30901700258255005], [-2.4492937051703357e-16, 0, 1], [-2.4492937051703357e-16, 0, 1]], []]), skinIndices=[[2.0, 3.0, 0, 0], [2.0, 3.0, 0, 0], [2.0, 3.0, 0, 0], [2.0, 3.0, 0, 0], [2.0, 3.0, 0, 0], [1.0, 2.0, 0, 0], [1.0, 2.0, 0, 0], [1.0, 2.0, 0, 0], [1.0, 2.0, 0, 0], [1.0, 2.0, 0, 0], [1.0, 2.0, 0, 0], [1.0, 2.0, 0, 0], [1.0, 2.0, 0, 0], [1.0, 2.0, 0, 0], [1.0, 2.0, 0, 0], [1.0, 2.0, 0, 0], [1.0, 2.0, 0, 0], [1.0, 2.0, 0, 0], [1.0, 2.0, 0, 0], [1.0, 2.0, 0, 0], [1.0, 2.0, 0, 0], [1.0, 2.0, 0, 0], [1.0, 2.0, 0, 0], [1.0, 2.0, 0, 0], [1.0, 2.0, 0, 0], [1.0, 2.0, 0, 0], [1.0, 2.0, 0, 0], [1.0, 2.0, 0, 0], [1.0, 2.0, 0, 0], [1.0, 2.0, 0, 0], [1.0, 2.0, 0, 0], [1.0, 2.0, 0, 0], [1.0, 2.0, 0, 0], [1.0, 2.0, 0, 0], [1.0, 2.0, 0, 0], [1.0, 2.0, 0, 0], [1.0, 2.0, 0, 0], [1.0, 2.0, 0, 0], [1.0, 2.0, 0, 0], [1.0, 2.0, 0, 0], [0.0, 1.0, 0, 0], [0.0, 1.0, 0, 0], [0.0, 1.0, 0, 0], [0.0, 1.0, 0, 0], [0.0, 1.0, 0, 0], [0.0, 1.0, 0, 0], [0.0, 1.0, 0, 0], [0.0, 1.0, 0, 0], [0.0, 1.0, 0, 0], [0.0, 1.0, 0, 0], [0.0, 1.0, 0, 0], [0.0, 1.0, 0, 0], [0.0, 1.0, 0, 0], [0.0, 1.0, 0, 0], [0.0, 1.0, 0, 0], [0.0, 1.0, 0, 0], [0.0, 1.0, 0, 0], [0.0, 1.0, 0, 0], [0.0, 1.0, 0, 0], [0.0, 1.0, 0, 0], [0.0, 1.0, 0, 0], [0.0, 1.0, 0, 0], [0.0, 1.0, 0, 0], [0.0, 1.0, 0, 0], [0.0, 1.0, 0, 0], [0.0, 1.0, 0, 0], [0.0, 1.0, 0, 0], [0.0, 1.0, 0, 0], [0.0, 1.0, 0, 0], [0.0, 1.0, 0, 0], [0.0, 1.0, 0, 0], [0.0, 1.0, 0, 0], [0.0, 1.0, 0, 0], [0.0, 1.0, 0, 0], [0.0, 1.0, 0, 0], [0.0, 1.0, 0, 0], [0.0, 1.0, 0, 0], [0.0, 1.0, 0, 0], [0.0, 1.0, 0, 0], [0.0, 1.0, 0, 0]], skinWeights=[[1.0, 0.0, 0, 0], [1.0, 0.0, 0, 0], [1.0, 0.0, 0, 0], [1.0, 0.0, 0, 0], [1.0, 0.0, 0, 0], [0.13333335876464847, 0.8666666412353515, 0, 0], [0.13333335876464847, 0.8666666412353515, 0, 0], [0.13333335876464847, 0.8666666412353515, 0, 0], [0.13333335876464847, 0.8666666412353515, 0, 0], [0.13333335876464847, 0.8666666412353515, 0, 0], [0.26666664123535155, 0.7333333587646484, 0, 0], [0.26666664123535155, 0.7333333587646484, 0, 0], [0.26666664123535155, 0.7333333587646484, 0, 0], [0.26666664123535155, 0.7333333587646484, 0, 0], [0.26666664123535155, 0.7333333587646484, 0, 0], [0.4, 0.6, 0, 0], [0.4, 0.6, 0, 0], [0.4, 0.6, 0, 0], [0.4, 0.6, 0, 0], [0.4, 0.6, 0, 0], [0.5333333206176758, 0.4666666793823242, 0, 0], [0.5333333206176758, 0.4666666793823242, 0, 0], [0.5333333206176758, 0.4666666793823242, 0, 0], [0.5333333206176758, 0.4666666793823242, 0, 0], [0.5333333206176758, 0.4666666793823242, 0, 0], [0.6666666793823242, 0.3333333206176758, 0, 0], [0.6666666793823242, 0.3333333206176758, 0, 0], [0.6666666793823242, 0.3333333206176758, 0, 0], [0.6666666793823242, 0.3333333206176758, 0, 0], [0.6666666793823242, 0.3333333206176758, 0, 0], [0.8, 0.2, 0, 0], [0.8, 0.2, 0, 0], [0.8, 0.2, 0, 0], [0.8, 0.2, 0, 0], [0.8, 0.2, 0, 0], [0.9333333349227906, 0.06666666507720947, 0, 0], [0.9333333349227906, 0.06666666507720947, 0, 0], [0.9333333349227906, 0.06666666507720947, 0, 0], [0.9333333349227906, 0.06666666507720947, 0, 0], [0.9333333349227906, 0.06666666507720947, 0, 0], [0.06666666507720942, 0.9333333349227906, 0, 0], [0.06666666507720942, 0.9333333349227906, 0, 0], [0.06666666507720942, 0.9333333349227906, 0, 0], [0.06666666507720942, 0.9333333349227906, 0, 0], [0.06666666507720942, 0.9333333349227906, 0, 0], [0.19999999999999996, 0.8, 0, 0], [0.19999999999999996, 0.8, 0, 0], [0.19999999999999996, 0.8, 0, 0], [0.19999999999999996, 0.8, 0, 0], [0.19999999999999996, 0.8, 0, 0], [0.33333332061767573, 0.6666666793823243, 0, 0], [0.33333332061767573, 0.6666666793823243, 0, 0], [0.33333332061767573, 0.6666666793823243, 0, 0], [0.33333332061767573, 0.6666666793823243, 0, 0], [0.33333332061767573, 0.6666666793823243, 0, 0], [0.4666666793823242, 0.5333333206176758, 0, 0], [0.4666666793823242, 0.5333333206176758, 0, 0], [0.4666666793823242, 0.5333333206176758, 0, 0], [0.4666666793823242, 0.5333333206176758, 0, 0], [0.4666666793823242, 0.5333333206176758, 0, 0], [0.6, 0.4, 0, 0], [0.6, 0.4, 0, 0], [0.6, 0.4, 0, 0], [0.6, 0.4, 0, 0], [0.6, 0.4, 0, 0], [0.7333333587646484, 0.26666664123535155, 0, 0], [0.7333333587646484, 0.26666664123535155, 0, 0], [0.7333333587646484, 0.26666664123535155, 0, 0], [0.7333333587646484, 0.26666664123535155, 0, 0], [0.7333333587646484, 0.26666664123535155, 0, 0], [0.8666666412353515, 0.13333335876464844, 0, 0], [0.8666666412353515, 0.13333335876464844, 0, 0], [0.8666666412353515, 0.13333335876464844, 0, 0], [0.8666666412353515, 0.13333335876464844, 0, 0], [0.8666666412353515, 0.13333335876464844, 0, 0], [1.0, 0.0, 0, 0], [1.0, 0.0, 0, 0], [1.0, 0.0, 0, 0], [1.0, 0.0, 0, 0], [1.0, 0.0, 0, 0]], type='Geometry', vertices=[[0, 25, 5], [4.755282402038574, 25, 1.5450849533081055], [2.9389262199401855, 25, -4.0450849533081055], [-2.9389262199401855, 25, -4.0450849533081055], [-4.755282402038574, 25, 1.5450849533081055], [0, 21.66666603088379, 5], [4.755282402038574, 21.66666603088379, 1.5450849533081055], [2.9389262199401855, 21.66666603088379, -4.0450849533081055], [-2.9389262199401855, 21.66666603088379, -4.0450849533081055], [-4.755282402038574, 21.66666603088379, 1.5450849533081055], [0, 18.33333396911621, 5], [4.755282402038574, 18.33333396911621, 1.5450849533081055], [2.9389262199401855, 18.33333396911621, -4.0450849533081055], [-2.9389262199401855, 18.33333396911621, -4.0450849533081055], [-4.755282402038574, 18.33333396911621, 1.5450849533081055], [0, 15, 5], [4.755282402038574, 15, 1.5450849533081055], [2.9389262199401855, 15, -4.0450849533081055], [-2.9389262199401855, 15, -4.0450849533081055], [-4.755282402038574, 15, 1.5450849533081055], [0, 11.666666984558105, 5], [4.755282402038574, 11.666666984558105, 1.5450849533081055], [2.9389262199401855, 11.666666984558105, -4.0450849533081055], [-2.9389262199401855, 11.666666984558105, -4.0450849533081055], [-4.755282402038574, 11.666666984558105, 1.5450849533081055], [0, 8.333333015441895, 5], [4.755282402038574, 8.333333015441895, 1.5450849533081055], [2.9389262199401855, 8.333333015441895, -4.0450849533081055], [-2.9389262199401855, 8.333333015441895, -4.0450849533081055], [-4.755282402038574, 8.333333015441895, 1.5450849533081055], [0, 5, 5], [4.755282402038574, 5, 1.5450849533081055], [2.9389262199401855, 5, -4.0450849533081055], [-2.9389262199401855, 5, -4.0450849533081055], [-4.755282402038574, 5, 1.5450849533081055], [0, 1.6666666269302368, 5], [4.755282402038574, 1.6666666269302368, 1.5450849533081055], [2.9389262199401855, 1.6666666269302368, -4.0450849533081055], [-2.9389262199401855, 1.6666666269302368, -4.0450849533081055], [-4.755282402038574, 1.6666666269302368, 1.5450849533081055], [0, -1.6666666269302368, 5], [4.755282402038574, -1.6666666269302368, 1.5450849533081055], [2.9389262199401855, -1.6666666269302368, -4.0450849533081055], [-2.9389262199401855, -1.6666666269302368, -4.0450849533081055], [-4.755282402038574, -1.6666666269302368, 1.5450849533081055], [0, -5, 5], [4.755282402038574, -5, 1.5450849533081055], [2.9389262199401855, -5, -4.0450849533081055], [-2.9389262199401855, -5, -4.0450849533081055], [-4.755282402038574, -5, 1.5450849533081055], [0, -8.333333015441895, 5], [4.755282402038574, -8.333333015441895, 1.5450849533081055], [2.9389262199401855, -8.333333015441895, -4.0450849533081055], [-2.9389262199401855, -8.333333015441895, -4.0450849533081055], [-4.755282402038574, -8.333333015441895, 1.5450849533081055], [0, -11.666666984558105, 5], [4.755282402038574, -11.666666984558105, 1.5450849533081055], [2.9389262199401855, -11.666666984558105, -4.0450849533081055], [-2.9389262199401855, -11.666666984558105, -4.0450849533081055], [-4.755282402038574, -11.666666984558105, 1.5450849533081055], [0, -15, 5], [4.755282402038574, -15, 1.5450849533081055], [2.9389262199401855, -15, -4.0450849533081055], [-2.9389262199401855, -15, -4.0450849533081055], [-4.755282402038574, -15, 1.5450849533081055], [0, -18.33333396911621, 5], [4.755282402038574, -18.33333396911621, 1.5450849533081055], [2.9389262199401855, -18.33333396911621, -4.0450849533081055], [-2.9389262199401855, -18.33333396911621, -4.0450849533081055], [-4.755282402038574, -18.33333396911621, 1.5450849533081055], [0, -21.66666603088379, 5], [4.755282402038574, -21.66666603088379, 1.5450849533081055], [2.9389262199401855, -21.66666603088379, -4.0450849533081055], [-2.9389262199401855, -21.66666603088379, -4.0450849533081055], [-4.755282402038574, -21.66666603088379, 1.5450849533081055], [0, -25, 5], [4.755282402038574, -25, 1.5450849533081055], [2.9389262199401855, -25, -4.0450849533081055], [-2.9389262199401855, -25, -4.0450849533081055], [-4.755282402038574, -25, 1.5450849533081055]]), material=MeshPhongMaterial(alphaMap=None, aoMap=None, bumpMap=None, displacementMap=None, emissiveMap=None, envMap=None, lightMap=None, map=None, normalMap=None, normalScale=(1.0, 1.0), side='DoubleSide', skinning=True, specularMap=None, type='MeshPhongMaterial'), quaternion=(0.0, 0.0, 0.0, 1.0), scale=(1.0, 1.0, 1.0), skeleton=Skeleton(bones=(Bone(children=(Bone(children=(Bone(position=(0.0, 25.0, 0.0), quaternion=(0.0, 0.0, 0.0, 1.0), scale=(1.0, 1.0, 1.0), type='Bone', up=(0.0, 1.0, 0.0)),), position=(0.0, 25.0, 0.0), quaternion=(0.0, 0.0, 0.0, 1.0), scale=(1.0, 1.0, 1.0), type='Bone', up=(0.0, 1.0, 0.0)),), position=(0.0, -25.0, 0.0), quaternion=(0.0, 0.0, 0.0, 1.0), scale=(1.0, 1.0, 1.0), type='Bone', up=(0.0, 1.0, 0.0)), Bone(children=(Bone(position=(0.0, 25.0, 0.0), quaternion=(0.0, 0.0, 0.0, 1.0), scale=(1.0, 1.0, 1.0), type='Bone', up=(0.0, 1.0, 0.0)),), position=(0.0, 25.0, 0.0), quaternion=(0.0, 0.0, 0.0, 1.0), scale=(1.0, 1.0, 1.0), type='Bone', up=(0.0, 1.0, 0.0)), Bone(position=(0.0, 25.0, 0.0), quaternion=(0.0, 0.0, 0.0, 1.0), scale=(1.0, 1.0, 1.0), type='Bone', up=(0.0, 1.0, 0.0)))), type='SkinnedMesh', up=(0.0, 1.0, 0.0)), SkeletonHelper(quaternion=(0.0, 0.0, 0.0, 1.0), root=SkinnedMesh(children=(Bone(children=(Bone(children=(Bone(position=(0.0, 25.0, 0.0), quaternion=(0.0, 0.0, 0.0, 1.0), scale=(1.0, 1.0, 1.0), type='Bone', up=(0.0, 1.0, 0.0)),), position=(0.0, 25.0, 0.0), quaternion=(0.0, 0.0, 0.0, 1.0), scale=(1.0, 1.0, 1.0), type='Bone', up=(0.0, 1.0, 0.0)),), position=(0.0, -25.0, 0.0), quaternion=(0.0, 0.0, 0.0, 1.0), scale=(1.0, 1.0, 1.0), type='Bone', up=(0.0, 1.0, 0.0)),), geometry=Geometry(faceVertexUvs=[[[{'x': 0, 'y': 1}, {'x': 0, 'y': 0.9333333373069763}, {'x': 0.20000000298023224, 'y': 1}], [{'x': 0, 'y': 0.9333333373069763}, {'x': 0.20000000298023224, 'y': 0.9333333373069763}, {'x': 0.20000000298023224, 'y': 1}], [{'x': 0, 'y': 0.9333333373069763}, {'x': 0, 'y': 0.8666666746139526}, {'x': 0.20000000298023224, 'y': 0.9333333373069763}], [{'x': 0, 'y': 0.8666666746139526}, {'x': 0.20000000298023224, 'y': 0.8666666746139526}, {'x': 0.20000000298023224, 'y': 0.9333333373069763}], [{'x': 0, 'y': 0.8666666746139526}, {'x': 0, 'y': 0.800000011920929}, {'x': 0.20000000298023224, 'y': 0.8666666746139526}], [{'x': 0, 'y': 0.800000011920929}, {'x': 0.20000000298023224, 'y': 0.800000011920929}, {'x': 0.20000000298023224, 'y': 0.8666666746139526}], [{'x': 0, 'y': 0.800000011920929}, {'x': 0, 'y': 0.7333333492279053}, {'x': 0.20000000298023224, 'y': 0.800000011920929}], [{'x': 0, 'y': 0.7333333492279053}, {'x': 0.20000000298023224, 'y': 0.7333333492279053}, {'x': 0.20000000298023224, 'y': 0.800000011920929}], [{'x': 0, 'y': 0.7333333492279053}, {'x': 0, 'y': 0.6666666865348816}, {'x': 0.20000000298023224, 'y': 0.7333333492279053}], [{'x': 0, 'y': 0.6666666865348816}, {'x': 0.20000000298023224, 'y': 0.6666666865348816}, {'x': 0.20000000298023224, 'y': 0.7333333492279053}], [{'x': 0, 'y': 0.6666666865348816}, {'x': 0, 'y': 0.6000000238418579}, {'x': 0.20000000298023224, 'y': 0.6666666865348816}], [{'x': 0, 'y': 0.6000000238418579}, {'x': 0.20000000298023224, 'y': 0.6000000238418579}, {'x': 0.20000000298023224, 'y': 0.6666666865348816}], [{'x': 0, 'y': 0.6000000238418579}, {'x': 0, 'y': 0.5333333611488342}, {'x': 0.20000000298023224, 'y': 0.6000000238418579}], [{'x': 0, 'y': 0.5333333611488342}, {'x': 0.20000000298023224, 'y': 0.5333333611488342}, {'x': 0.20000000298023224, 'y': 0.6000000238418579}], [{'x': 0, 'y': 0.5333333611488342}, {'x': 0, 'y': 0.46666666865348816}, {'x': 0.20000000298023224, 'y': 0.5333333611488342}], [{'x': 0, 'y': 0.46666666865348816}, {'x': 0.20000000298023224, 'y': 0.46666666865348816}, {'x': 0.20000000298023224, 'y': 0.5333333611488342}], [{'x': 0, 'y': 0.46666666865348816}, {'x': 0, 'y': 0.4000000059604645}, {'x': 0.20000000298023224, 'y': 0.46666666865348816}], [{'x': 0, 'y': 0.4000000059604645}, {'x': 0.20000000298023224, 'y': 0.4000000059604645}, {'x': 0.20000000298023224, 'y': 0.46666666865348816}], [{'x': 0, 'y': 0.4000000059604645}, {'x': 0, 'y': 0.3333333432674408}, {'x': 0.20000000298023224, 'y': 0.4000000059604645}], [{'x': 0, 'y': 0.3333333432674408}, {'x': 0.20000000298023224, 'y': 0.3333333432674408}, {'x': 0.20000000298023224, 'y': 0.4000000059604645}], [{'x': 0, 'y': 0.3333333432674408}, {'x': 0, 'y': 0.2666666805744171}, {'x': 0.20000000298023224, 'y': 0.3333333432674408}], [{'x': 0, 'y': 0.2666666805744171}, {'x': 0.20000000298023224, 'y': 0.2666666805744171}, {'x': 0.20000000298023224, 'y': 0.3333333432674408}], [{'x': 0, 'y': 0.2666666805744171}, {'x': 0, 'y': 0.20000000298023224}, {'x': 0.20000000298023224, 'y': 0.2666666805744171}], [{'x': 0, 'y': 0.20000000298023224}, {'x': 0.20000000298023224, 'y': 0.20000000298023224}, {'x': 0.20000000298023224, 'y': 0.2666666805744171}], [{'x': 0, 'y': 0.20000000298023224}, {'x': 0, 'y': 0.13333334028720856}, {'x': 0.20000000298023224, 'y': 0.20000000298023224}], [{'x': 0, 'y': 0.13333334028720856}, {'x': 0.20000000298023224, 'y': 0.13333334028720856}, {'x': 0.20000000298023224, 'y': 0.20000000298023224}], [{'x': 0, 'y': 0.13333334028720856}, {'x': 0, 'y': 0.06666667014360428}, {'x': 0.20000000298023224, 'y': 0.13333334028720856}], [{'x': 0, 'y': 0.06666667014360428}, {'x': 0.20000000298023224, 'y': 0.06666667014360428}, {'x': 0.20000000298023224, 'y': 0.13333334028720856}], [{'x': 0, 'y': 0.06666667014360428}, {'x': 0, 'y': 0}, {'x': 0.20000000298023224, 'y': 0.06666667014360428}], [{'x': 0, 'y': 0}, {'x': 0.20000000298023224, 'y': 0}, {'x': 0.20000000298023224, 'y': 0.06666667014360428}], [{'x': 0.20000000298023224, 'y': 1}, {'x': 0.20000000298023224, 'y': 0.9333333373069763}, {'x': 0.4000000059604645, 'y': 1}], [{'x': 0.20000000298023224, 'y': 0.9333333373069763}, {'x': 0.4000000059604645, 'y': 0.9333333373069763}, {'x': 0.4000000059604645, 'y': 1}], [{'x': 0.20000000298023224, 'y': 0.9333333373069763}, {'x': 0.20000000298023224, 'y': 0.8666666746139526}, {'x': 0.4000000059604645, 'y': 0.9333333373069763}], [{'x': 0.20000000298023224, 'y': 0.8666666746139526}, {'x': 0.4000000059604645, 'y': 0.8666666746139526}, {'x': 0.4000000059604645, 'y': 0.9333333373069763}], [{'x': 0.20000000298023224, 'y': 0.8666666746139526}, {'x': 0.20000000298023224, 'y': 0.800000011920929}, {'x': 0.4000000059604645, 'y': 0.8666666746139526}], [{'x': 0.20000000298023224, 'y': 0.800000011920929}, {'x': 0.4000000059604645, 'y': 0.800000011920929}, {'x': 0.4000000059604645, 'y': 0.8666666746139526}], [{'x': 0.20000000298023224, 'y': 0.800000011920929}, {'x': 0.20000000298023224, 'y': 0.7333333492279053}, {'x': 0.4000000059604645, 'y': 0.800000011920929}], [{'x': 0.20000000298023224, 'y': 0.7333333492279053}, {'x': 0.4000000059604645, 'y': 0.7333333492279053}, {'x': 0.4000000059604645, 'y': 0.800000011920929}], [{'x': 0.20000000298023224, 'y': 0.7333333492279053}, {'x': 0.20000000298023224, 'y': 0.6666666865348816}, {'x': 0.4000000059604645, 'y': 0.7333333492279053}], [{'x': 0.20000000298023224, 'y': 0.6666666865348816}, {'x': 0.4000000059604645, 'y': 0.6666666865348816}, {'x': 0.4000000059604645, 'y': 0.7333333492279053}], [{'x': 0.20000000298023224, 'y': 0.6666666865348816}, {'x': 0.20000000298023224, 'y': 0.6000000238418579}, {'x': 0.4000000059604645, 'y': 0.6666666865348816}], [{'x': 0.20000000298023224, 'y': 0.6000000238418579}, {'x': 0.4000000059604645, 'y': 0.6000000238418579}, {'x': 0.4000000059604645, 'y': 0.6666666865348816}], [{'x': 0.20000000298023224, 'y': 0.6000000238418579}, {'x': 0.20000000298023224, 'y': 0.5333333611488342}, {'x': 0.4000000059604645, 'y': 0.6000000238418579}], [{'x': 0.20000000298023224, 'y': 0.5333333611488342}, {'x': 0.4000000059604645, 'y': 0.5333333611488342}, {'x': 0.4000000059604645, 'y': 0.6000000238418579}], [{'x': 0.20000000298023224, 'y': 0.5333333611488342}, {'x': 0.20000000298023224, 'y': 0.46666666865348816}, {'x': 0.4000000059604645, 'y': 0.5333333611488342}], [{'x': 0.20000000298023224, 'y': 0.46666666865348816}, {'x': 0.4000000059604645, 'y': 0.46666666865348816}, {'x': 0.4000000059604645, 'y': 0.5333333611488342}], [{'x': 0.20000000298023224, 'y': 0.46666666865348816}, {'x': 0.20000000298023224, 'y': 0.4000000059604645}, {'x': 0.4000000059604645, 'y': 0.46666666865348816}], [{'x': 0.20000000298023224, 'y': 0.4000000059604645}, {'x': 0.4000000059604645, 'y': 0.4000000059604645}, {'x': 0.4000000059604645, 'y': 0.46666666865348816}], [{'x': 0.20000000298023224, 'y': 0.4000000059604645}, {'x': 0.20000000298023224, 'y': 0.3333333432674408}, {'x': 0.4000000059604645, 'y': 0.4000000059604645}], [{'x': 0.20000000298023224, 'y': 0.3333333432674408}, {'x': 0.4000000059604645, 'y': 0.3333333432674408}, {'x': 0.4000000059604645, 'y': 0.4000000059604645}], [{'x': 0.20000000298023224, 'y': 0.3333333432674408}, {'x': 0.20000000298023224, 'y': 0.2666666805744171}, {'x': 0.4000000059604645, 'y': 0.3333333432674408}], [{'x': 0.20000000298023224, 'y': 0.2666666805744171}, {'x': 0.4000000059604645, 'y': 0.2666666805744171}, {'x': 0.4000000059604645, 'y': 0.3333333432674408}], [{'x': 0.20000000298023224, 'y': 0.2666666805744171}, {'x': 0.20000000298023224, 'y': 0.20000000298023224}, {'x': 0.4000000059604645, 'y': 0.2666666805744171}], [{'x': 0.20000000298023224, 'y': 0.20000000298023224}, {'x': 0.4000000059604645, 'y': 0.20000000298023224}, {'x': 0.4000000059604645, 'y': 0.2666666805744171}], [{'x': 0.20000000298023224, 'y': 0.20000000298023224}, {'x': 0.20000000298023224, 'y': 0.13333334028720856}, {'x': 0.4000000059604645, 'y': 0.20000000298023224}], [{'x': 0.20000000298023224, 'y': 0.13333334028720856}, {'x': 0.4000000059604645, 'y': 0.13333334028720856}, {'x': 0.4000000059604645, 'y': 0.20000000298023224}], [{'x': 0.20000000298023224, 'y': 0.13333334028720856}, {'x': 0.20000000298023224, 'y': 0.06666667014360428}, {'x': 0.4000000059604645, 'y': 0.13333334028720856}], [{'x': 0.20000000298023224, 'y': 0.06666667014360428}, {'x': 0.4000000059604645, 'y': 0.06666667014360428}, {'x': 0.4000000059604645, 'y': 0.13333334028720856}], [{'x': 0.20000000298023224, 'y': 0.06666667014360428}, {'x': 0.20000000298023224, 'y': 0}, {'x': 0.4000000059604645, 'y': 0.06666667014360428}], [{'x': 0.20000000298023224, 'y': 0}, {'x': 0.4000000059604645, 'y': 0}, {'x': 0.4000000059604645, 'y': 0.06666667014360428}], [{'x': 0.4000000059604645, 'y': 1}, {'x': 0.4000000059604645, 'y': 0.9333333373069763}, {'x': 0.6000000238418579, 'y': 1}], [{'x': 0.4000000059604645, 'y': 0.9333333373069763}, {'x': 0.6000000238418579, 'y': 0.9333333373069763}, {'x': 0.6000000238418579, 'y': 1}], [{'x': 0.4000000059604645, 'y': 0.9333333373069763}, {'x': 0.4000000059604645, 'y': 0.8666666746139526}, {'x': 0.6000000238418579, 'y': 0.9333333373069763}], [{'x': 0.4000000059604645, 'y': 0.8666666746139526}, {'x': 0.6000000238418579, 'y': 0.8666666746139526}, {'x': 0.6000000238418579, 'y': 0.9333333373069763}], [{'x': 0.4000000059604645, 'y': 0.8666666746139526}, {'x': 0.4000000059604645, 'y': 0.800000011920929}, {'x': 0.6000000238418579, 'y': 0.8666666746139526}], [{'x': 0.4000000059604645, 'y': 0.800000011920929}, {'x': 0.6000000238418579, 'y': 0.800000011920929}, {'x': 0.6000000238418579, 'y': 0.8666666746139526}], [{'x': 0.4000000059604645, 'y': 0.800000011920929}, {'x': 0.4000000059604645, 'y': 0.7333333492279053}, {'x': 0.6000000238418579, 'y': 0.800000011920929}], [{'x': 0.4000000059604645, 'y': 0.7333333492279053}, {'x': 0.6000000238418579, 'y': 0.7333333492279053}, {'x': 0.6000000238418579, 'y': 0.800000011920929}], [{'x': 0.4000000059604645, 'y': 0.7333333492279053}, {'x': 0.4000000059604645, 'y': 0.6666666865348816}, {'x': 0.6000000238418579, 'y': 0.7333333492279053}], [{'x': 0.4000000059604645, 'y': 0.6666666865348816}, {'x': 0.6000000238418579, 'y': 0.6666666865348816}, {'x': 0.6000000238418579, 'y': 0.7333333492279053}], [{'x': 0.4000000059604645, 'y': 0.6666666865348816}, {'x': 0.4000000059604645, 'y': 0.6000000238418579}, {'x': 0.6000000238418579, 'y': 0.6666666865348816}], [{'x': 0.4000000059604645, 'y': 0.6000000238418579}, {'x': 0.6000000238418579, 'y': 0.6000000238418579}, {'x': 0.6000000238418579, 'y': 0.6666666865348816}], [{'x': 0.4000000059604645, 'y': 0.6000000238418579}, {'x': 0.4000000059604645, 'y': 0.5333333611488342}, {'x': 0.6000000238418579, 'y': 0.6000000238418579}], [{'x': 0.4000000059604645, 'y': 0.5333333611488342}, {'x': 0.6000000238418579, 'y': 0.5333333611488342}, {'x': 0.6000000238418579, 'y': 0.6000000238418579}], [{'x': 0.4000000059604645, 'y': 0.5333333611488342}, {'x': 0.4000000059604645, 'y': 0.46666666865348816}, {'x': 0.6000000238418579, 'y': 0.5333333611488342}], [{'x': 0.4000000059604645, 'y': 0.46666666865348816}, {'x': 0.6000000238418579, 'y': 0.46666666865348816}, {'x': 0.6000000238418579, 'y': 0.5333333611488342}], [{'x': 0.4000000059604645, 'y': 0.46666666865348816}, {'x': 0.4000000059604645, 'y': 0.4000000059604645}, {'x': 0.6000000238418579, 'y': 0.46666666865348816}], [{'x': 0.4000000059604645, 'y': 0.4000000059604645}, {'x': 0.6000000238418579, 'y': 0.4000000059604645}, {'x': 0.6000000238418579, 'y': 0.46666666865348816}], [{'x': 0.4000000059604645, 'y': 0.4000000059604645}, {'x': 0.4000000059604645, 'y': 0.3333333432674408}, {'x': 0.6000000238418579, 'y': 0.4000000059604645}], [{'x': 0.4000000059604645, 'y': 0.3333333432674408}, {'x': 0.6000000238418579, 'y': 0.3333333432674408}, {'x': 0.6000000238418579, 'y': 0.4000000059604645}], [{'x': 0.4000000059604645, 'y': 0.3333333432674408}, {'x': 0.4000000059604645, 'y': 0.2666666805744171}, {'x': 0.6000000238418579, 'y': 0.3333333432674408}], [{'x': 0.4000000059604645, 'y': 0.2666666805744171}, {'x': 0.6000000238418579, 'y': 0.2666666805744171}, {'x': 0.6000000238418579, 'y': 0.3333333432674408}], [{'x': 0.4000000059604645, 'y': 0.2666666805744171}, {'x': 0.4000000059604645, 'y': 0.20000000298023224}, {'x': 0.6000000238418579, 'y': 0.2666666805744171}], [{'x': 0.4000000059604645, 'y': 0.20000000298023224}, {'x': 0.6000000238418579, 'y': 0.20000000298023224}, {'x': 0.6000000238418579, 'y': 0.2666666805744171}], [{'x': 0.4000000059604645, 'y': 0.20000000298023224}, {'x': 0.4000000059604645, 'y': 0.13333334028720856}, {'x': 0.6000000238418579, 'y': 0.20000000298023224}], [{'x': 0.4000000059604645, 'y': 0.13333334028720856}, {'x': 0.6000000238418579, 'y': 0.13333334028720856}, {'x': 0.6000000238418579, 'y': 0.20000000298023224}], [{'x': 0.4000000059604645, 'y': 0.13333334028720856}, {'x': 0.4000000059604645, 'y': 0.06666667014360428}, {'x': 0.6000000238418579, 'y': 0.13333334028720856}], [{'x': 0.4000000059604645, 'y': 0.06666667014360428}, {'x': 0.6000000238418579, 'y': 0.06666667014360428}, {'x': 0.6000000238418579, 'y': 0.13333334028720856}], [{'x': 0.4000000059604645, 'y': 0.06666667014360428}, {'x': 0.4000000059604645, 'y': 0}, {'x': 0.6000000238418579, 'y': 0.06666667014360428}], [{'x': 0.4000000059604645, 'y': 0}, {'x': 0.6000000238418579, 'y': 0}, {'x': 0.6000000238418579, 'y': 0.06666667014360428}], [{'x': 0.6000000238418579, 'y': 1}, {'x': 0.6000000238418579, 'y': 0.9333333373069763}, {'x': 0.800000011920929, 'y': 1}], [{'x': 0.6000000238418579, 'y': 0.9333333373069763}, {'x': 0.800000011920929, 'y': 0.9333333373069763}, {'x': 0.800000011920929, 'y': 1}], [{'x': 0.6000000238418579, 'y': 0.9333333373069763}, {'x': 0.6000000238418579, 'y': 0.8666666746139526}, {'x': 0.800000011920929, 'y': 0.9333333373069763}], [{'x': 0.6000000238418579, 'y': 0.8666666746139526}, {'x': 0.800000011920929, 'y': 0.8666666746139526}, {'x': 0.800000011920929, 'y': 0.9333333373069763}], [{'x': 0.6000000238418579, 'y': 0.8666666746139526}, {'x': 0.6000000238418579, 'y': 0.800000011920929}, {'x': 0.800000011920929, 'y': 0.8666666746139526}], [{'x': 0.6000000238418579, 'y': 0.800000011920929}, {'x': 0.800000011920929, 'y': 0.800000011920929}, {'x': 0.800000011920929, 'y': 0.8666666746139526}], [{'x': 0.6000000238418579, 'y': 0.800000011920929}, {'x': 0.6000000238418579, 'y': 0.7333333492279053}, {'x': 0.800000011920929, 'y': 0.800000011920929}], [{'x': 0.6000000238418579, 'y': 0.7333333492279053}, {'x': 0.800000011920929, 'y': 0.7333333492279053}, {'x': 0.800000011920929, 'y': 0.800000011920929}], [{'x': 0.6000000238418579, 'y': 0.7333333492279053}, {'x': 0.6000000238418579, 'y': 0.6666666865348816}, {'x': 0.800000011920929, 'y': 0.7333333492279053}], [{'x': 0.6000000238418579, 'y': 0.6666666865348816}, {'x': 0.800000011920929, 'y': 0.6666666865348816}, {'x': 0.800000011920929, 'y': 0.7333333492279053}], [{'x': 0.6000000238418579, 'y': 0.6666666865348816}, {'x': 0.6000000238418579, 'y': 0.6000000238418579}, {'x': 0.800000011920929, 'y': 0.6666666865348816}], [{'x': 0.6000000238418579, 'y': 0.6000000238418579}, {'x': 0.800000011920929, 'y': 0.6000000238418579}, {'x': 0.800000011920929, 'y': 0.6666666865348816}], [{'x': 0.6000000238418579, 'y': 0.6000000238418579}, {'x': 0.6000000238418579, 'y': 0.5333333611488342}, {'x': 0.800000011920929, 'y': 0.6000000238418579}], [{'x': 0.6000000238418579, 'y': 0.5333333611488342}, {'x': 0.800000011920929, 'y': 0.5333333611488342}, {'x': 0.800000011920929, 'y': 0.6000000238418579}], [{'x': 0.6000000238418579, 'y': 0.5333333611488342}, {'x': 0.6000000238418579, 'y': 0.46666666865348816}, {'x': 0.800000011920929, 'y': 0.5333333611488342}], [{'x': 0.6000000238418579, 'y': 0.46666666865348816}, {'x': 0.800000011920929, 'y': 0.46666666865348816}, {'x': 0.800000011920929, 'y': 0.5333333611488342}], [{'x': 0.6000000238418579, 'y': 0.46666666865348816}, {'x': 0.6000000238418579, 'y': 0.4000000059604645}, {'x': 0.800000011920929, 'y': 0.46666666865348816}], [{'x': 0.6000000238418579, 'y': 0.4000000059604645}, {'x': 0.800000011920929, 'y': 0.4000000059604645}, {'x': 0.800000011920929, 'y': 0.46666666865348816}], [{'x': 0.6000000238418579, 'y': 0.4000000059604645}, {'x': 0.6000000238418579, 'y': 0.3333333432674408}, {'x': 0.800000011920929, 'y': 0.4000000059604645}], [{'x': 0.6000000238418579, 'y': 0.3333333432674408}, {'x': 0.800000011920929, 'y': 0.3333333432674408}, {'x': 0.800000011920929, 'y': 0.4000000059604645}], [{'x': 0.6000000238418579, 'y': 0.3333333432674408}, {'x': 0.6000000238418579, 'y': 0.2666666805744171}, {'x': 0.800000011920929, 'y': 0.3333333432674408}], [{'x': 0.6000000238418579, 'y': 0.2666666805744171}, {'x': 0.800000011920929, 'y': 0.2666666805744171}, {'x': 0.800000011920929, 'y': 0.3333333432674408}], [{'x': 0.6000000238418579, 'y': 0.2666666805744171}, {'x': 0.6000000238418579, 'y': 0.20000000298023224}, {'x': 0.800000011920929, 'y': 0.2666666805744171}], [{'x': 0.6000000238418579, 'y': 0.20000000298023224}, {'x': 0.800000011920929, 'y': 0.20000000298023224}, {'x': 0.800000011920929, 'y': 0.2666666805744171}], [{'x': 0.6000000238418579, 'y': 0.20000000298023224}, {'x': 0.6000000238418579, 'y': 0.13333334028720856}, {'x': 0.800000011920929, 'y': 0.20000000298023224}], [{'x': 0.6000000238418579, 'y': 0.13333334028720856}, {'x': 0.800000011920929, 'y': 0.13333334028720856}, {'x': 0.800000011920929, 'y': 0.20000000298023224}], [{'x': 0.6000000238418579, 'y': 0.13333334028720856}, {'x': 0.6000000238418579, 'y': 0.06666667014360428}, {'x': 0.800000011920929, 'y': 0.13333334028720856}], [{'x': 0.6000000238418579, 'y': 0.06666667014360428}, {'x': 0.800000011920929, 'y': 0.06666667014360428}, {'x': 0.800000011920929, 'y': 0.13333334028720856}], [{'x': 0.6000000238418579, 'y': 0.06666667014360428}, {'x': 0.6000000238418579, 'y': 0}, {'x': 0.800000011920929, 'y': 0.06666667014360428}], [{'x': 0.6000000238418579, 'y': 0}, {'x': 0.800000011920929, 'y': 0}, {'x': 0.800000011920929, 'y': 0.06666667014360428}], [{'x': 0.800000011920929, 'y': 1}, {'x': 0.800000011920929, 'y': 0.9333333373069763}, {'x': 1, 'y': 1}], [{'x': 0.800000011920929, 'y': 0.9333333373069763}, {'x': 1, 'y': 0.9333333373069763}, {'x': 1, 'y': 1}], [{'x': 0.800000011920929, 'y': 0.9333333373069763}, {'x': 0.800000011920929, 'y': 0.8666666746139526}, {'x': 1, 'y': 0.9333333373069763}], [{'x': 0.800000011920929, 'y': 0.8666666746139526}, {'x': 1, 'y': 0.8666666746139526}, {'x': 1, 'y': 0.9333333373069763}], [{'x': 0.800000011920929, 'y': 0.8666666746139526}, {'x': 0.800000011920929, 'y': 0.800000011920929}, {'x': 1, 'y': 0.8666666746139526}], [{'x': 0.800000011920929, 'y': 0.800000011920929}, {'x': 1, 'y': 0.800000011920929}, {'x': 1, 'y': 0.8666666746139526}], [{'x': 0.800000011920929, 'y': 0.800000011920929}, {'x': 0.800000011920929, 'y': 0.7333333492279053}, {'x': 1, 'y': 0.800000011920929}], [{'x': 0.800000011920929, 'y': 0.7333333492279053}, {'x': 1, 'y': 0.7333333492279053}, {'x': 1, 'y': 0.800000011920929}], [{'x': 0.800000011920929, 'y': 0.7333333492279053}, {'x': 0.800000011920929, 'y': 0.6666666865348816}, {'x': 1, 'y': 0.7333333492279053}], [{'x': 0.800000011920929, 'y': 0.6666666865348816}, {'x': 1, 'y': 0.6666666865348816}, {'x': 1, 'y': 0.7333333492279053}], [{'x': 0.800000011920929, 'y': 0.6666666865348816}, {'x': 0.800000011920929, 'y': 0.6000000238418579}, {'x': 1, 'y': 0.6666666865348816}], [{'x': 0.800000011920929, 'y': 0.6000000238418579}, {'x': 1, 'y': 0.6000000238418579}, {'x': 1, 'y': 0.6666666865348816}], [{'x': 0.800000011920929, 'y': 0.6000000238418579}, {'x': 0.800000011920929, 'y': 0.5333333611488342}, {'x': 1, 'y': 0.6000000238418579}], [{'x': 0.800000011920929, 'y': 0.5333333611488342}, {'x': 1, 'y': 0.5333333611488342}, {'x': 1, 'y': 0.6000000238418579}], [{'x': 0.800000011920929, 'y': 0.5333333611488342}, {'x': 0.800000011920929, 'y': 0.46666666865348816}, {'x': 1, 'y': 0.5333333611488342}], [{'x': 0.800000011920929, 'y': 0.46666666865348816}, {'x': 1, 'y': 0.46666666865348816}, {'x': 1, 'y': 0.5333333611488342}], [{'x': 0.800000011920929, 'y': 0.46666666865348816}, {'x': 0.800000011920929, 'y': 0.4000000059604645}, {'x': 1, 'y': 0.46666666865348816}], [{'x': 0.800000011920929, 'y': 0.4000000059604645}, {'x': 1, 'y': 0.4000000059604645}, {'x': 1, 'y': 0.46666666865348816}], [{'x': 0.800000011920929, 'y': 0.4000000059604645}, {'x': 0.800000011920929, 'y': 0.3333333432674408}, {'x': 1, 'y': 0.4000000059604645}], [{'x': 0.800000011920929, 'y': 0.3333333432674408}, {'x': 1, 'y': 0.3333333432674408}, {'x': 1, 'y': 0.4000000059604645}], [{'x': 0.800000011920929, 'y': 0.3333333432674408}, {'x': 0.800000011920929, 'y': 0.2666666805744171}, {'x': 1, 'y': 0.3333333432674408}], [{'x': 0.800000011920929, 'y': 0.2666666805744171}, {'x': 1, 'y': 0.2666666805744171}, {'x': 1, 'y': 0.3333333432674408}], [{'x': 0.800000011920929, 'y': 0.2666666805744171}, {'x': 0.800000011920929, 'y': 0.20000000298023224}, {'x': 1, 'y': 0.2666666805744171}], [{'x': 0.800000011920929, 'y': 0.20000000298023224}, {'x': 1, 'y': 0.20000000298023224}, {'x': 1, 'y': 0.2666666805744171}], [{'x': 0.800000011920929, 'y': 0.20000000298023224}, {'x': 0.800000011920929, 'y': 0.13333334028720856}, {'x': 1, 'y': 0.20000000298023224}], [{'x': 0.800000011920929, 'y': 0.13333334028720856}, {'x': 1, 'y': 0.13333334028720856}, {'x': 1, 'y': 0.20000000298023224}], [{'x': 0.800000011920929, 'y': 0.13333334028720856}, {'x': 0.800000011920929, 'y': 0.06666667014360428}, {'x': 1, 'y': 0.13333334028720856}], [{'x': 0.800000011920929, 'y': 0.06666667014360428}, {'x': 1, 'y': 0.06666667014360428}, {'x': 1, 'y': 0.13333334028720856}], [{'x': 0.800000011920929, 'y': 0.06666667014360428}, {'x': 0.800000011920929, 'y': 0}, {'x': 1, 'y': 0.06666667014360428}], [{'x': 0.800000011920929, 'y': 0}, {'x': 1, 'y': 0}, {'x': 1, 'y': 0.06666667014360428}]]], faces=([0, 5, 1, [0.587785268876672, 0, 0.8090169823258212], '#ffffff', 0, [[0, 0, 1], [0, 0, 1], [0.9510565400123596, 0, 0.30901700258255005]], []], [5, 6, 1, [0.587785268876672, 0, 0.8090169823258212], '#ffffff', 0, [[0, 0, 1], [0.9510565400123596, 0, 0.30901700258255005], [0.9510565400123596, 0, 0.30901700258255005]], []], [5, 10, 6, [0.5877852688766722, 0, 0.8090169823258213], '#ffffff', 0, [[0, 0, 1], [0, 0, 1], [0.9510565400123596, 0, 0.30901700258255005]], []], [10, 11, 6, [0.5877852688766722, 0, 0.8090169823258213], '#ffffff', 0, [[0, 0, 1], [0.9510565400123596, 0, 0.30901700258255005], [0.9510565400123596, 0, 0.30901700258255005]], []], [10, 15, 11, [0.587785268876672, 0, 0.8090169823258212], '#ffffff', 0, [[0, 0, 1], [0, 0, 1], [0.9510565400123596, 0, 0.30901700258255005]], []], [15, 16, 11, [0.587785268876672, 0, 0.8090169823258212], '#ffffff', 0, [[0, 0, 1], [0.9510565400123596, 0, 0.30901700258255005], [0.9510565400123596, 0, 0.30901700258255005]], []], [15, 20, 16, [0.5877852688766722, 0, 0.8090169823258213], '#ffffff', 0, [[0, 0, 1], [0, 0, 1], [0.9510565400123596, 0, 0.30901700258255005]], []], [20, 21, 16, [0.5877852688766722, 0, 0.8090169823258213], '#ffffff', 0, [[0, 0, 1], [0.9510565400123596, 0, 0.30901700258255005], [0.9510565400123596, 0, 0.30901700258255005]], []], [20, 25, 21, [0.587785268876672, 0, 0.8090169823258212], '#ffffff', 0, [[0, 0, 1], [0, 0, 1], [0.9510565400123596, 0, 0.30901700258255005]], []], [25, 26, 21, [0.587785268876672, 0, 0.8090169823258212], '#ffffff', 0, [[0, 0, 1], [0.9510565400123596, 0, 0.30901700258255005], [0.9510565400123596, 0, 0.30901700258255005]], []], [25, 30, 26, [0.5877852688766722, 0, 0.8090169823258213], '#ffffff', 0, [[0, 0, 1], [0, 0, 1], [0.9510565400123596, 0, 0.30901700258255005]], []], [30, 31, 26, [0.5877852688766722, 0, 0.8090169823258213], '#ffffff', 0, [[0, 0, 1], [0.9510565400123596, 0, 0.30901700258255005], [0.9510565400123596, 0, 0.30901700258255005]], []], [30, 35, 31, [0.5877852688766722, 0, 0.8090169823258213], '#ffffff', 0, [[0, 0, 1], [0, 0, 1], [0.9510565400123596, 0, 0.30901700258255005]], []], [35, 36, 31, [0.5877852688766722, 0, 0.8090169823258213], '#ffffff', 0, [[0, 0, 1], [0.9510565400123596, 0, 0.30901700258255005], [0.9510565400123596, 0, 0.30901700258255005]], []], [35, 40, 36, [0.5877852688766722, 0, 0.8090169823258213], '#ffffff', 0, [[0, 0, 1], [0, 0, 1], [0.9510565400123596, 0, 0.30901700258255005]], []], [40, 41, 36, [0.5877852688766722, 0, 0.8090169823258213], '#ffffff', 0, [[0, 0, 1], [0.9510565400123596, 0, 0.30901700258255005], [0.9510565400123596, 0, 0.30901700258255005]], []], [40, 45, 41, [0.5877852688766722, 0, 0.8090169823258213], '#ffffff', 0, [[0, 0, 1], [0, 0, 1], [0.9510565400123596, 0, 0.30901700258255005]], []], [45, 46, 41, [0.5877852688766722, 0, 0.8090169823258213], '#ffffff', 0, [[0, 0, 1], [0.9510565400123596, 0, 0.30901700258255005], [0.9510565400123596, 0, 0.30901700258255005]], []], [45, 50, 46, [0.5877852688766722, 0, 0.8090169823258213], '#ffffff', 0, [[0, 0, 1], [0, 0, 1], [0.9510565400123596, 0, 0.30901700258255005]], []], [50, 51, 46, [0.5877852688766722, 0, 0.8090169823258213], '#ffffff', 0, [[0, 0, 1], [0.9510565400123596, 0, 0.30901700258255005], [0.9510565400123596, 0, 0.30901700258255005]], []], [50, 55, 51, [0.587785268876672, 0, 0.8090169823258212], '#ffffff', 0, [[0, 0, 1], [0, 0, 1], [0.9510565400123596, 0, 0.30901700258255005]], []], [55, 56, 51, [0.587785268876672, 0, 0.8090169823258212], '#ffffff', 0, [[0, 0, 1], [0.9510565400123596, 0, 0.30901700258255005], [0.9510565400123596, 0, 0.30901700258255005]], []], [55, 60, 56, [0.5877852688766722, 0, 0.8090169823258213], '#ffffff', 0, [[0, 0, 1], [0, 0, 1], [0.9510565400123596, 0, 0.30901700258255005]], []], [60, 61, 56, [0.5877852688766722, 0, 0.8090169823258213], '#ffffff', 0, [[0, 0, 1], [0.9510565400123596, 0, 0.30901700258255005], [0.9510565400123596, 0, 0.30901700258255005]], []], [60, 65, 61, [0.587785268876672, 0, 0.8090169823258212], '#ffffff', 0, [[0, 0, 1], [0, 0, 1], [0.9510565400123596, 0, 0.30901700258255005]], []], [65, 66, 61, [0.587785268876672, 0, 0.8090169823258212], '#ffffff', 0, [[0, 0, 1], [0.9510565400123596, 0, 0.30901700258255005], [0.9510565400123596, 0, 0.30901700258255005]], []], [65, 70, 66, [0.5877852688766722, 0, 0.8090169823258213], '#ffffff', 0, [[0, 0, 1], [0, 0, 1], [0.9510565400123596, 0, 0.30901700258255005]], []], [70, 71, 66, [0.5877852688766722, 0, 0.8090169823258213], '#ffffff', 0, [[0, 0, 1], [0.9510565400123596, 0, 0.30901700258255005], [0.9510565400123596, 0, 0.30901700258255005]], []], [70, 75, 71, [0.587785268876672, 0, 0.8090169823258212], '#ffffff', 0, [[0, 0, 1], [0, 0, 1], [0.9510565400123596, 0, 0.30901700258255005]], []], [75, 76, 71, [0.587785268876672, 0, 0.8090169823258212], '#ffffff', 0, [[0, 0, 1], [0.9510565400123596, 0, 0.30901700258255005], [0.9510565400123596, 0, 0.30901700258255005]], []], [1, 6, 2, [0.9510565225876377, 0, -0.3090169750086719], '#ffffff', 0, [[0.9510565400123596, 0, 0.30901700258255005], [0.9510565400123596, 0, 0.30901700258255005], [0.5877852439880371, 0, -0.80901700258255]], []], [6, 7, 2, [0.9510565225876377, 0, -0.3090169750086719], '#ffffff', 0, [[0.9510565400123596, 0, 0.30901700258255005], [0.5877852439880371, 0, -0.80901700258255], [0.5877852439880371, 0, -0.80901700258255]], []], [6, 11, 7, [0.9510565225876377, 0, -0.3090169750086719], '#ffffff', 0, [[0.9510565400123596, 0, 0.30901700258255005], [0.9510565400123596, 0, 0.30901700258255005], [0.5877852439880371, 0, -0.80901700258255]], []], [11, 12, 7, [0.9510565225876377, 0, -0.3090169750086719], '#ffffff', 0, [[0.9510565400123596, 0, 0.30901700258255005], [0.5877852439880371, 0, -0.80901700258255], [0.5877852439880371, 0, -0.80901700258255]], []], [11, 16, 12, [0.9510565225876377, 0, -0.3090169750086719], '#ffffff', 0, [[0.9510565400123596, 0, 0.30901700258255005], [0.9510565400123596, 0, 0.30901700258255005], [0.5877852439880371, 0, -0.80901700258255]], []], [16, 17, 12, [0.9510565225876377, 0, -0.3090169750086719], '#ffffff', 0, [[0.9510565400123596, 0, 0.30901700258255005], [0.5877852439880371, 0, -0.80901700258255], [0.5877852439880371, 0, -0.80901700258255]], []], [16, 21, 17, [0.9510565225876376, 0, -0.3090169750086719], '#ffffff', 0, [[0.9510565400123596, 0, 0.30901700258255005], [0.9510565400123596, 0, 0.30901700258255005], [0.5877852439880371, 0, -0.80901700258255]], []], [21, 22, 17, [0.9510565225876376, 0, -0.3090169750086719], '#ffffff', 0, [[0.9510565400123596, 0, 0.30901700258255005], [0.5877852439880371, 0, -0.80901700258255], [0.5877852439880371, 0, -0.80901700258255]], []], [21, 26, 22, [0.9510565225876377, 0, -0.3090169750086719], '#ffffff', 0, [[0.9510565400123596, 0, 0.30901700258255005], [0.9510565400123596, 0, 0.30901700258255005], [0.5877852439880371, 0, -0.80901700258255]], []], [26, 27, 22, [0.9510565225876377, 0, -0.3090169750086719], '#ffffff', 0, [[0.9510565400123596, 0, 0.30901700258255005], [0.5877852439880371, 0, -0.80901700258255], [0.5877852439880371, 0, -0.80901700258255]], []], [26, 31, 27, [0.9510565225876376, 0, -0.3090169750086719], '#ffffff', 0, [[0.9510565400123596, 0, 0.30901700258255005], [0.9510565400123596, 0, 0.30901700258255005], [0.5877852439880371, 0, -0.80901700258255]], []], [31, 32, 27, [0.9510565225876376, 0, -0.3090169750086719], '#ffffff', 0, [[0.9510565400123596, 0, 0.30901700258255005], [0.5877852439880371, 0, -0.80901700258255], [0.5877852439880371, 0, -0.80901700258255]], []], [31, 36, 32, [0.9510565225876377, 0, -0.3090169750086719], '#ffffff', 0, [[0.9510565400123596, 0, 0.30901700258255005], [0.9510565400123596, 0, 0.30901700258255005], [0.5877852439880371, 0, -0.80901700258255]], []], [36, 37, 32, [0.9510565225876377, 0, -0.3090169750086719], '#ffffff', 0, [[0.9510565400123596, 0, 0.30901700258255005], [0.5877852439880371, 0, -0.80901700258255], [0.5877852439880371, 0, -0.80901700258255]], []], [36, 41, 37, [0.9510565225876377, 0, -0.3090169750086719], '#ffffff', 0, [[0.9510565400123596, 0, 0.30901700258255005], [0.9510565400123596, 0, 0.30901700258255005], [0.5877852439880371, 0, -0.80901700258255]], []], [41, 42, 37, [0.9510565225876377, 0, -0.3090169750086719], '#ffffff', 0, [[0.9510565400123596, 0, 0.30901700258255005], [0.5877852439880371, 0, -0.80901700258255], [0.5877852439880371, 0, -0.80901700258255]], []], [41, 46, 42, [0.9510565225876377, 0, -0.3090169750086719], '#ffffff', 0, [[0.9510565400123596, 0, 0.30901700258255005], [0.9510565400123596, 0, 0.30901700258255005], [0.5877852439880371, 0, -0.80901700258255]], []], [46, 47, 42, [0.9510565225876377, 0, -0.3090169750086719], '#ffffff', 0, [[0.9510565400123596, 0, 0.30901700258255005], [0.5877852439880371, 0, -0.80901700258255], [0.5877852439880371, 0, -0.80901700258255]], []], [46, 51, 47, [0.9510565225876376, 0, -0.3090169750086719], '#ffffff', 0, [[0.9510565400123596, 0, 0.30901700258255005], [0.9510565400123596, 0, 0.30901700258255005], [0.5877852439880371, 0, -0.80901700258255]], []], [51, 52, 47, [0.9510565225876376, 0, -0.3090169750086719], '#ffffff', 0, [[0.9510565400123596, 0, 0.30901700258255005], [0.5877852439880371, 0, -0.80901700258255], [0.5877852439880371, 0, -0.80901700258255]], []], [51, 56, 52, [0.9510565225876377, 0, -0.3090169750086719], '#ffffff', 0, [[0.9510565400123596, 0, 0.30901700258255005], [0.9510565400123596, 0, 0.30901700258255005], [0.5877852439880371, 0, -0.80901700258255]], []], [56, 57, 52, [0.9510565225876377, 0, -0.3090169750086719], '#ffffff', 0, [[0.9510565400123596, 0, 0.30901700258255005], [0.5877852439880371, 0, -0.80901700258255], [0.5877852439880371, 0, -0.80901700258255]], []], [56, 61, 57, [0.9510565225876376, 0, -0.3090169750086719], '#ffffff', 0, [[0.9510565400123596, 0, 0.30901700258255005], [0.9510565400123596, 0, 0.30901700258255005], [0.5877852439880371, 0, -0.80901700258255]], []], [61, 62, 57, [0.9510565225876376, 0, -0.3090169750086719], '#ffffff', 0, [[0.9510565400123596, 0, 0.30901700258255005], [0.5877852439880371, 0, -0.80901700258255], [0.5877852439880371, 0, -0.80901700258255]], []], [61, 66, 62, [0.9510565225876377, 0, -0.3090169750086719], '#ffffff', 0, [[0.9510565400123596, 0, 0.30901700258255005], [0.9510565400123596, 0, 0.30901700258255005], [0.5877852439880371, 0, -0.80901700258255]], []], [66, 67, 62, [0.9510565225876377, 0, -0.3090169750086719], '#ffffff', 0, [[0.9510565400123596, 0, 0.30901700258255005], [0.5877852439880371, 0, -0.80901700258255], [0.5877852439880371, 0, -0.80901700258255]], []], [66, 71, 67, [0.9510565225876377, 0, -0.3090169750086719], '#ffffff', 0, [[0.9510565400123596, 0, 0.30901700258255005], [0.9510565400123596, 0, 0.30901700258255005], [0.5877852439880371, 0, -0.80901700258255]], []], [71, 72, 67, [0.9510565225876377, 0, -0.3090169750086719], '#ffffff', 0, [[0.9510565400123596, 0, 0.30901700258255005], [0.5877852439880371, 0, -0.80901700258255], [0.5877852439880371, 0, -0.80901700258255]], []], [71, 76, 72, [0.9510565225876377, 0, -0.3090169750086719], '#ffffff', 0, [[0.9510565400123596, 0, 0.30901700258255005], [0.9510565400123596, 0, 0.30901700258255005], [0.5877852439880371, 0, -0.80901700258255]], []], [76, 77, 72, [0.9510565225876377, 0, -0.3090169750086719], '#ffffff', 0, [[0.9510565400123596, 0, 0.30901700258255005], [0.5877852439880371, 0, -0.80901700258255], [0.5877852439880371, 0, -0.80901700258255]], []], [2, 7, 3, [0, 0, -0.9999999999999999], '#ffffff', 0, [[0.5877852439880371, 0, -0.80901700258255], [0.5877852439880371, 0, -0.80901700258255], [-0.5877852439880371, 0, -0.80901700258255]], []], [7, 8, 3, [0, 0, -0.9999999999999999], '#ffffff', 0, [[0.5877852439880371, 0, -0.80901700258255], [-0.5877852439880371, 0, -0.80901700258255], [-0.5877852439880371, 0, -0.80901700258255]], []], [7, 12, 8, [0, 0, -1], '#ffffff', 0, [[0.5877852439880371, 0, -0.80901700258255], [0.5877852439880371, 0, -0.80901700258255], [-0.5877852439880371, 0, -0.80901700258255]], []], [12, 13, 8, [0, 0, -1], '#ffffff', 0, [[0.5877852439880371, 0, -0.80901700258255], [-0.5877852439880371, 0, -0.80901700258255], [-0.5877852439880371, 0, -0.80901700258255]], []], [12, 17, 13, [0, 0, -0.9999999999999999], '#ffffff', 0, [[0.5877852439880371, 0, -0.80901700258255], [0.5877852439880371, 0, -0.80901700258255], [-0.5877852439880371, 0, -0.80901700258255]], []], [17, 18, 13, [0, 0, -0.9999999999999999], '#ffffff', 0, [[0.5877852439880371, 0, -0.80901700258255], [-0.5877852439880371, 0, -0.80901700258255], [-0.5877852439880371, 0, -0.80901700258255]], []], [17, 22, 18, [0, 0, -1], '#ffffff', 0, [[0.5877852439880371, 0, -0.80901700258255], [0.5877852439880371, 0, -0.80901700258255], [-0.5877852439880371, 0, -0.80901700258255]], []], [22, 23, 18, [0, 0, -1], '#ffffff', 0, [[0.5877852439880371, 0, -0.80901700258255], [-0.5877852439880371, 0, -0.80901700258255], [-0.5877852439880371, 0, -0.80901700258255]], []], [22, 27, 23, [0, 0, -0.9999999999999999], '#ffffff', 0, [[0.5877852439880371, 0, -0.80901700258255], [0.5877852439880371, 0, -0.80901700258255], [-0.5877852439880371, 0, -0.80901700258255]], []], [27, 28, 23, [0, 0, -0.9999999999999999], '#ffffff', 0, [[0.5877852439880371, 0, -0.80901700258255], [-0.5877852439880371, 0, -0.80901700258255], [-0.5877852439880371, 0, -0.80901700258255]], []], [27, 32, 28, [0, 0, -1], '#ffffff', 0, [[0.5877852439880371, 0, -0.80901700258255], [0.5877852439880371, 0, -0.80901700258255], [-0.5877852439880371, 0, -0.80901700258255]], []], [32, 33, 28, [0, 0, -1], '#ffffff', 0, [[0.5877852439880371, 0, -0.80901700258255], [-0.5877852439880371, 0, -0.80901700258255], [-0.5877852439880371, 0, -0.80901700258255]], []], [32, 37, 33, [0, 0, -1], '#ffffff', 0, [[0.5877852439880371, 0, -0.80901700258255], [0.5877852439880371, 0, -0.80901700258255], [-0.5877852439880371, 0, -0.80901700258255]], []], [37, 38, 33, [0, 0, -1], '#ffffff', 0, [[0.5877852439880371, 0, -0.80901700258255], [-0.5877852439880371, 0, -0.80901700258255], [-0.5877852439880371, 0, -0.80901700258255]], []], [37, 42, 38, [0, 0, -1], '#ffffff', 0, [[0.5877852439880371, 0, -0.80901700258255], [0.5877852439880371, 0, -0.80901700258255], [-0.5877852439880371, 0, -0.80901700258255]], []], [42, 43, 38, [0, 0, -1], '#ffffff', 0, [[0.5877852439880371, 0, -0.80901700258255], [-0.5877852439880371, 0, -0.80901700258255], [-0.5877852439880371, 0, -0.80901700258255]], []], [42, 47, 43, [0, 0, -1], '#ffffff', 0, [[0.5877852439880371, 0, -0.80901700258255], [0.5877852439880371, 0, -0.80901700258255], [-0.5877852439880371, 0, -0.80901700258255]], []], [47, 48, 43, [0, 0, -1], '#ffffff', 0, [[0.5877852439880371, 0, -0.80901700258255], [-0.5877852439880371, 0, -0.80901700258255], [-0.5877852439880371, 0, -0.80901700258255]], []], [47, 52, 48, [0, 0, -1], '#ffffff', 0, [[0.5877852439880371, 0, -0.80901700258255], [0.5877852439880371, 0, -0.80901700258255], [-0.5877852439880371, 0, -0.80901700258255]], []], [52, 53, 48, [0, 0, -1], '#ffffff', 0, [[0.5877852439880371, 0, -0.80901700258255], [-0.5877852439880371, 0, -0.80901700258255], [-0.5877852439880371, 0, -0.80901700258255]], []], [52, 57, 53, [0, 0, -0.9999999999999999], '#ffffff', 0, [[0.5877852439880371, 0, -0.80901700258255], [0.5877852439880371, 0, -0.80901700258255], [-0.5877852439880371, 0, -0.80901700258255]], []], [57, 58, 53, [0, 0, -0.9999999999999999], '#ffffff', 0, [[0.5877852439880371, 0, -0.80901700258255], [-0.5877852439880371, 0, -0.80901700258255], [-0.5877852439880371, 0, -0.80901700258255]], []], [57, 62, 58, [0, 0, -1], '#ffffff', 0, [[0.5877852439880371, 0, -0.80901700258255], [0.5877852439880371, 0, -0.80901700258255], [-0.5877852439880371, 0, -0.80901700258255]], []], [62, 63, 58, [0, 0, -1], '#ffffff', 0, [[0.5877852439880371, 0, -0.80901700258255], [-0.5877852439880371, 0, -0.80901700258255], [-0.5877852439880371, 0, -0.80901700258255]], []], [62, 67, 63, [0, 0, -0.9999999999999999], '#ffffff', 0, [[0.5877852439880371, 0, -0.80901700258255], [0.5877852439880371, 0, -0.80901700258255], [-0.5877852439880371, 0, -0.80901700258255]], []], [67, 68, 63, [0, 0, -0.9999999999999999], '#ffffff', 0, [[0.5877852439880371, 0, -0.80901700258255], [-0.5877852439880371, 0, -0.80901700258255], [-0.5877852439880371, 0, -0.80901700258255]], []], [67, 72, 68, [0, 0, -1], '#ffffff', 0, [[0.5877852439880371, 0, -0.80901700258255], [0.5877852439880371, 0, -0.80901700258255], [-0.5877852439880371, 0, -0.80901700258255]], []], [72, 73, 68, [0, 0, -1], '#ffffff', 0, [[0.5877852439880371, 0, -0.80901700258255], [-0.5877852439880371, 0, -0.80901700258255], [-0.5877852439880371, 0, -0.80901700258255]], []], [72, 77, 73, [0, 0, -0.9999999999999999], '#ffffff', 0, [[0.5877852439880371, 0, -0.80901700258255], [0.5877852439880371, 0, -0.80901700258255], [-0.5877852439880371, 0, -0.80901700258255]], []], [77, 78, 73, [0, 0, -0.9999999999999999], '#ffffff', 0, [[0.5877852439880371, 0, -0.80901700258255], [-0.5877852439880371, 0, -0.80901700258255], [-0.5877852439880371, 0, -0.80901700258255]], []], [3, 8, 4, [-0.9510565225876377, 0, -0.3090169750086719], '#ffffff', 0, [[-0.5877852439880371, 0, -0.80901700258255], [-0.5877852439880371, 0, -0.80901700258255], [-0.9510565400123596, 0, 0.30901700258255005]], []], [8, 9, 4, [-0.9510565225876377, 0, -0.3090169750086719], '#ffffff', 0, [[-0.5877852439880371, 0, -0.80901700258255], [-0.9510565400123596, 0, 0.30901700258255005], [-0.9510565400123596, 0, 0.30901700258255005]], []], [8, 13, 9, [-0.9510565225876377, 0, -0.3090169750086719], '#ffffff', 0, [[-0.5877852439880371, 0, -0.80901700258255], [-0.5877852439880371, 0, -0.80901700258255], [-0.9510565400123596, 0, 0.30901700258255005]], []], [13, 14, 9, [-0.9510565225876377, 0, -0.3090169750086719], '#ffffff', 0, [[-0.5877852439880371, 0, -0.80901700258255], [-0.9510565400123596, 0, 0.30901700258255005], [-0.9510565400123596, 0, 0.30901700258255005]], []], [13, 18, 14, [-0.9510565225876377, 0, -0.3090169750086719], '#ffffff', 0, [[-0.5877852439880371, 0, -0.80901700258255], [-0.5877852439880371, 0, -0.80901700258255], [-0.9510565400123596, 0, 0.30901700258255005]], []], [18, 19, 14, [-0.9510565225876377, 0, -0.3090169750086719], '#ffffff', 0, [[-0.5877852439880371, 0, -0.80901700258255], [-0.9510565400123596, 0, 0.30901700258255005], [-0.9510565400123596, 0, 0.30901700258255005]], []], [18, 23, 19, [-0.9510565225876376, 0, -0.3090169750086719], '#ffffff', 0, [[-0.5877852439880371, 0, -0.80901700258255], [-0.5877852439880371, 0, -0.80901700258255], [-0.9510565400123596, 0, 0.30901700258255005]], []], [23, 24, 19, [-0.9510565225876376, 0, -0.3090169750086719], '#ffffff', 0, [[-0.5877852439880371, 0, -0.80901700258255], [-0.9510565400123596, 0, 0.30901700258255005], [-0.9510565400123596, 0, 0.30901700258255005]], []], [23, 28, 24, [-0.9510565225876377, 0, -0.3090169750086719], '#ffffff', 0, [[-0.5877852439880371, 0, -0.80901700258255], [-0.5877852439880371, 0, -0.80901700258255], [-0.9510565400123596, 0, 0.30901700258255005]], []], [28, 29, 24, [-0.9510565225876377, 0, -0.3090169750086719], '#ffffff', 0, [[-0.5877852439880371, 0, -0.80901700258255], [-0.9510565400123596, 0, 0.30901700258255005], [-0.9510565400123596, 0, 0.30901700258255005]], []], [28, 33, 29, [-0.9510565225876376, 0, -0.3090169750086719], '#ffffff', 0, [[-0.5877852439880371, 0, -0.80901700258255], [-0.5877852439880371, 0, -0.80901700258255], [-0.9510565400123596, 0, 0.30901700258255005]], []], [33, 34, 29, [-0.9510565225876376, 0, -0.3090169750086719], '#ffffff', 0, [[-0.5877852439880371, 0, -0.80901700258255], [-0.9510565400123596, 0, 0.30901700258255005], [-0.9510565400123596, 0, 0.30901700258255005]], []], [33, 38, 34, [-0.9510565225876377, 0, -0.3090169750086719], '#ffffff', 0, [[-0.5877852439880371, 0, -0.80901700258255], [-0.5877852439880371, 0, -0.80901700258255], [-0.9510565400123596, 0, 0.30901700258255005]], []], [38, 39, 34, [-0.9510565225876377, 0, -0.3090169750086719], '#ffffff', 0, [[-0.5877852439880371, 0, -0.80901700258255], [-0.9510565400123596, 0, 0.30901700258255005], [-0.9510565400123596, 0, 0.30901700258255005]], []], [38, 43, 39, [-0.9510565225876377, 0, -0.3090169750086719], '#ffffff', 0, [[-0.5877852439880371, 0, -0.80901700258255], [-0.5877852439880371, 0, -0.80901700258255], [-0.9510565400123596, 0, 0.30901700258255005]], []], [43, 44, 39, [-0.9510565225876377, 0, -0.3090169750086719], '#ffffff', 0, [[-0.5877852439880371, 0, -0.80901700258255], [-0.9510565400123596, 0, 0.30901700258255005], [-0.9510565400123596, 0, 0.30901700258255005]], []], [43, 48, 44, [-0.9510565225876377, 0, -0.3090169750086719], '#ffffff', 0, [[-0.5877852439880371, 0, -0.80901700258255], [-0.5877852439880371, 0, -0.80901700258255], [-0.9510565400123596, 0, 0.30901700258255005]], []], [48, 49, 44, [-0.9510565225876377, 0, -0.3090169750086719], '#ffffff', 0, [[-0.5877852439880371, 0, -0.80901700258255], [-0.9510565400123596, 0, 0.30901700258255005], [-0.9510565400123596, 0, 0.30901700258255005]], []], [48, 53, 49, [-0.9510565225876376, 0, -0.3090169750086719], '#ffffff', 0, [[-0.5877852439880371, 0, -0.80901700258255], [-0.5877852439880371, 0, -0.80901700258255], [-0.9510565400123596, 0, 0.30901700258255005]], []], [53, 54, 49, [-0.9510565225876376, 0, -0.3090169750086719], '#ffffff', 0, [[-0.5877852439880371, 0, -0.80901700258255], [-0.9510565400123596, 0, 0.30901700258255005], [-0.9510565400123596, 0, 0.30901700258255005]], []], [53, 58, 54, [-0.9510565225876377, 0, -0.3090169750086719], '#ffffff', 0, [[-0.5877852439880371, 0, -0.80901700258255], [-0.5877852439880371, 0, -0.80901700258255], [-0.9510565400123596, 0, 0.30901700258255005]], []], [58, 59, 54, [-0.9510565225876377, 0, -0.3090169750086719], '#ffffff', 0, [[-0.5877852439880371, 0, -0.80901700258255], [-0.9510565400123596, 0, 0.30901700258255005], [-0.9510565400123596, 0, 0.30901700258255005]], []], [58, 63, 59, [-0.9510565225876376, 0, -0.3090169750086719], '#ffffff', 0, [[-0.5877852439880371, 0, -0.80901700258255], [-0.5877852439880371, 0, -0.80901700258255], [-0.9510565400123596, 0, 0.30901700258255005]], []], [63, 64, 59, [-0.9510565225876376, 0, -0.3090169750086719], '#ffffff', 0, [[-0.5877852439880371, 0, -0.80901700258255], [-0.9510565400123596, 0, 0.30901700258255005], [-0.9510565400123596, 0, 0.30901700258255005]], []], [63, 68, 64, [-0.9510565225876377, 0, -0.3090169750086719], '#ffffff', 0, [[-0.5877852439880371, 0, -0.80901700258255], [-0.5877852439880371, 0, -0.80901700258255], [-0.9510565400123596, 0, 0.30901700258255005]], []], [68, 69, 64, [-0.9510565225876377, 0, -0.3090169750086719], '#ffffff', 0, [[-0.5877852439880371, 0, -0.80901700258255], [-0.9510565400123596, 0, 0.30901700258255005], [-0.9510565400123596, 0, 0.30901700258255005]], []], [68, 73, 69, [-0.9510565225876377, 0, -0.3090169750086719], '#ffffff', 0, [[-0.5877852439880371, 0, -0.80901700258255], [-0.5877852439880371, 0, -0.80901700258255], [-0.9510565400123596, 0, 0.30901700258255005]], []], [73, 74, 69, [-0.9510565225876377, 0, -0.3090169750086719], '#ffffff', 0, [[-0.5877852439880371, 0, -0.80901700258255], [-0.9510565400123596, 0, 0.30901700258255005], [-0.9510565400123596, 0, 0.30901700258255005]], []], [73, 78, 74, [-0.9510565225876377, 0, -0.3090169750086719], '#ffffff', 0, [[-0.5877852439880371, 0, -0.80901700258255], [-0.5877852439880371, 0, -0.80901700258255], [-0.9510565400123596, 0, 0.30901700258255005]], []], [78, 79, 74, [-0.9510565225876377, 0, -0.3090169750086719], '#ffffff', 0, [[-0.5877852439880371, 0, -0.80901700258255], [-0.9510565400123596, 0, 0.30901700258255005], [-0.9510565400123596, 0, 0.30901700258255005]], []], [4, 9, 0, [-0.5877852688766722, 0, 0.8090169823258212], '#ffffff', 0, [[-0.9510565400123596, 0, 0.30901700258255005], [-0.9510565400123596, 0, 0.30901700258255005], [-2.4492937051703357e-16, 0, 1]], []], [9, 5, 0, [-0.5877852688766722, 0, 0.8090169823258212], '#ffffff', 0, [[-0.9510565400123596, 0, 0.30901700258255005], [-2.4492937051703357e-16, 0, 1], [-2.4492937051703357e-16, 0, 1]], []], [9, 14, 5, [-0.5877852688766722, 0, 0.8090169823258212], '#ffffff', 0, [[-0.9510565400123596, 0, 0.30901700258255005], [-0.9510565400123596, 0, 0.30901700258255005], [-2.4492937051703357e-16, 0, 1]], []], [14, 10, 5, [-0.5877852688766722, 0, 0.8090169823258212], '#ffffff', 0, [[-0.9510565400123596, 0, 0.30901700258255005], [-2.4492937051703357e-16, 0, 1], [-2.4492937051703357e-16, 0, 1]], []], [14, 19, 10, [-0.5877852688766722, 0, 0.8090169823258212], '#ffffff', 0, [[-0.9510565400123596, 0, 0.30901700258255005], [-0.9510565400123596, 0, 0.30901700258255005], [-2.4492937051703357e-16, 0, 1]], []], [19, 15, 10, [-0.5877852688766722, 0, 0.8090169823258212], '#ffffff', 0, [[-0.9510565400123596, 0, 0.30901700258255005], [-2.4492937051703357e-16, 0, 1], [-2.4492937051703357e-16, 0, 1]], []], [19, 24, 15, [-0.5877852688766723, 0, 0.8090169823258213], '#ffffff', 0, [[-0.9510565400123596, 0, 0.30901700258255005], [-0.9510565400123596, 0, 0.30901700258255005], [-2.4492937051703357e-16, 0, 1]], []], [24, 20, 15, [-0.5877852688766723, 0, 0.8090169823258213], '#ffffff', 0, [[-0.9510565400123596, 0, 0.30901700258255005], [-2.4492937051703357e-16, 0, 1], [-2.4492937051703357e-16, 0, 1]], []], [24, 29, 20, [-0.5877852688766722, 0, 0.8090169823258212], '#ffffff', 0, [[-0.9510565400123596, 0, 0.30901700258255005], [-0.9510565400123596, 0, 0.30901700258255005], [-2.4492937051703357e-16, 0, 1]], []], [29, 25, 20, [-0.5877852688766722, 0, 0.8090169823258212], '#ffffff', 0, [[-0.9510565400123596, 0, 0.30901700258255005], [-2.4492937051703357e-16, 0, 1], [-2.4492937051703357e-16, 0, 1]], []], [29, 34, 25, [-0.5877852688766723, 0, 0.8090169823258213], '#ffffff', 0, [[-0.9510565400123596, 0, 0.30901700258255005], [-0.9510565400123596, 0, 0.30901700258255005], [-2.4492937051703357e-16, 0, 1]], []], [34, 30, 25, [-0.5877852688766723, 0, 0.8090169823258213], '#ffffff', 0, [[-0.9510565400123596, 0, 0.30901700258255005], [-2.4492937051703357e-16, 0, 1], [-2.4492937051703357e-16, 0, 1]], []], [34, 39, 30, [-0.5877852688766722, 0, 0.8090169823258212], '#ffffff', 0, [[-0.9510565400123596, 0, 0.30901700258255005], [-0.9510565400123596, 0, 0.30901700258255005], [-2.4492937051703357e-16, 0, 1]], []], [39, 35, 30, [-0.5877852688766722, 0, 0.8090169823258212], '#ffffff', 0, [[-0.9510565400123596, 0, 0.30901700258255005], [-2.4492937051703357e-16, 0, 1], [-2.4492937051703357e-16, 0, 1]], []], [39, 44, 35, [-0.5877852688766722, 0, 0.8090169823258212], '#ffffff', 0, [[-0.9510565400123596, 0, 0.30901700258255005], [-0.9510565400123596, 0, 0.30901700258255005], [-2.4492937051703357e-16, 0, 1]], []], [44, 40, 35, [-0.5877852688766722, 0, 0.8090169823258212], '#ffffff', 0, [[-0.9510565400123596, 0, 0.30901700258255005], [-2.4492937051703357e-16, 0, 1], [-2.4492937051703357e-16, 0, 1]], []], [44, 49, 40, [-0.5877852688766722, 0, 0.8090169823258212], '#ffffff', 0, [[-0.9510565400123596, 0, 0.30901700258255005], [-0.9510565400123596, 0, 0.30901700258255005], [-2.4492937051703357e-16, 0, 1]], []], [49, 45, 40, [-0.5877852688766722, 0, 0.8090169823258212], '#ffffff', 0, [[-0.9510565400123596, 0, 0.30901700258255005], [-2.4492937051703357e-16, 0, 1], [-2.4492937051703357e-16, 0, 1]], []], [49, 54, 45, [-0.5877852688766723, 0, 0.8090169823258213], '#ffffff', 0, [[-0.9510565400123596, 0, 0.30901700258255005], [-0.9510565400123596, 0, 0.30901700258255005], [-2.4492937051703357e-16, 0, 1]], []], [54, 50, 45, [-0.5877852688766723, 0, 0.8090169823258213], '#ffffff', 0, [[-0.9510565400123596, 0, 0.30901700258255005], [-2.4492937051703357e-16, 0, 1], [-2.4492937051703357e-16, 0, 1]], []], [54, 59, 50, [-0.5877852688766722, 0, 0.8090169823258212], '#ffffff', 0, [[-0.9510565400123596, 0, 0.30901700258255005], [-0.9510565400123596, 0, 0.30901700258255005], [-2.4492937051703357e-16, 0, 1]], []], [59, 55, 50, [-0.5877852688766722, 0, 0.8090169823258212], '#ffffff', 0, [[-0.9510565400123596, 0, 0.30901700258255005], [-2.4492937051703357e-16, 0, 1], [-2.4492937051703357e-16, 0, 1]], []], [59, 64, 55, [-0.5877852688766723, 0, 0.8090169823258213], '#ffffff', 0, [[-0.9510565400123596, 0, 0.30901700258255005], [-0.9510565400123596, 0, 0.30901700258255005], [-2.4492937051703357e-16, 0, 1]], []], [64, 60, 55, [-0.5877852688766723, 0, 0.8090169823258213], '#ffffff', 0, [[-0.9510565400123596, 0, 0.30901700258255005], [-2.4492937051703357e-16, 0, 1], [-2.4492937051703357e-16, 0, 1]], []], [64, 69, 60, [-0.5877852688766722, 0, 0.8090169823258212], '#ffffff', 0, [[-0.9510565400123596, 0, 0.30901700258255005], [-0.9510565400123596, 0, 0.30901700258255005], [-2.4492937051703357e-16, 0, 1]], []], [69, 65, 60, [-0.5877852688766722, 0, 0.8090169823258212], '#ffffff', 0, [[-0.9510565400123596, 0, 0.30901700258255005], [-2.4492937051703357e-16, 0, 1], [-2.4492937051703357e-16, 0, 1]], []], [69, 74, 65, [-0.5877852688766722, 0, 0.8090169823258212], '#ffffff', 0, [[-0.9510565400123596, 0, 0.30901700258255005], [-0.9510565400123596, 0, 0.30901700258255005], [-2.4492937051703357e-16, 0, 1]], []], [74, 70, 65, [-0.5877852688766722, 0, 0.8090169823258212], '#ffffff', 0, [[-0.9510565400123596, 0, 0.30901700258255005], [-2.4492937051703357e-16, 0, 1], [-2.4492937051703357e-16, 0, 1]], []], [74, 79, 70, [-0.5877852688766722, 0, 0.8090169823258212], '#ffffff', 0, [[-0.9510565400123596, 0, 0.30901700258255005], [-0.9510565400123596, 0, 0.30901700258255005], [-2.4492937051703357e-16, 0, 1]], []], [79, 75, 70, [-0.5877852688766722, 0, 0.8090169823258212], '#ffffff', 0, [[-0.9510565400123596, 0, 0.30901700258255005], [-2.4492937051703357e-16, 0, 1], [-2.4492937051703357e-16, 0, 1]], []]), skinIndices=[[2.0, 3.0, 0, 0], [2.0, 3.0, 0, 0], [2.0, 3.0, 0, 0], [2.0, 3.0, 0, 0], [2.0, 3.0, 0, 0], [1.0, 2.0, 0, 0], [1.0, 2.0, 0, 0], [1.0, 2.0, 0, 0], [1.0, 2.0, 0, 0], [1.0, 2.0, 0, 0], [1.0, 2.0, 0, 0], [1.0, 2.0, 0, 0], [1.0, 2.0, 0, 0], [1.0, 2.0, 0, 0], [1.0, 2.0, 0, 0], [1.0, 2.0, 0, 0], [1.0, 2.0, 0, 0], [1.0, 2.0, 0, 0], [1.0, 2.0, 0, 0], [1.0, 2.0, 0, 0], [1.0, 2.0, 0, 0], [1.0, 2.0, 0, 0], [1.0, 2.0, 0, 0], [1.0, 2.0, 0, 0], [1.0, 2.0, 0, 0], [1.0, 2.0, 0, 0], [1.0, 2.0, 0, 0], [1.0, 2.0, 0, 0], [1.0, 2.0, 0, 0], [1.0, 2.0, 0, 0], [1.0, 2.0, 0, 0], [1.0, 2.0, 0, 0], [1.0, 2.0, 0, 0], [1.0, 2.0, 0, 0], [1.0, 2.0, 0, 0], [1.0, 2.0, 0, 0], [1.0, 2.0, 0, 0], [1.0, 2.0, 0, 0], [1.0, 2.0, 0, 0], [1.0, 2.0, 0, 0], [0.0, 1.0, 0, 0], [0.0, 1.0, 0, 0], [0.0, 1.0, 0, 0], [0.0, 1.0, 0, 0], [0.0, 1.0, 0, 0], [0.0, 1.0, 0, 0], [0.0, 1.0, 0, 0], [0.0, 1.0, 0, 0], [0.0, 1.0, 0, 0], [0.0, 1.0, 0, 0], [0.0, 1.0, 0, 0], [0.0, 1.0, 0, 0], [0.0, 1.0, 0, 0], [0.0, 1.0, 0, 0], [0.0, 1.0, 0, 0], [0.0, 1.0, 0, 0], [0.0, 1.0, 0, 0], [0.0, 1.0, 0, 0], [0.0, 1.0, 0, 0], [0.0, 1.0, 0, 0], [0.0, 1.0, 0, 0], [0.0, 1.0, 0, 0], [0.0, 1.0, 0, 0], [0.0, 1.0, 0, 0], [0.0, 1.0, 0, 0], [0.0, 1.0, 0, 0], [0.0, 1.0, 0, 0], [0.0, 1.0, 0, 0], [0.0, 1.0, 0, 0], [0.0, 1.0, 0, 0], [0.0, 1.0, 0, 0], [0.0, 1.0, 0, 0], [0.0, 1.0, 0, 0], [0.0, 1.0, 0, 0], [0.0, 1.0, 0, 0], [0.0, 1.0, 0, 0], [0.0, 1.0, 0, 0], [0.0, 1.0, 0, 0], [0.0, 1.0, 0, 0], [0.0, 1.0, 0, 0]], skinWeights=[[1.0, 0.0, 0, 0], [1.0, 0.0, 0, 0], [1.0, 0.0, 0, 0], [1.0, 0.0, 0, 0], [1.0, 0.0, 0, 0], [0.13333335876464847, 0.8666666412353515, 0, 0], [0.13333335876464847, 0.8666666412353515, 0, 0], [0.13333335876464847, 0.8666666412353515, 0, 0], [0.13333335876464847, 0.8666666412353515, 0, 0], [0.13333335876464847, 0.8666666412353515, 0, 0], [0.26666664123535155, 0.7333333587646484, 0, 0], [0.26666664123535155, 0.7333333587646484, 0, 0], [0.26666664123535155, 0.7333333587646484, 0, 0], [0.26666664123535155, 0.7333333587646484, 0, 0], [0.26666664123535155, 0.7333333587646484, 0, 0], [0.4, 0.6, 0, 0], [0.4, 0.6, 0, 0], [0.4, 0.6, 0, 0], [0.4, 0.6, 0, 0], [0.4, 0.6, 0, 0], [0.5333333206176758, 0.4666666793823242, 0, 0], [0.5333333206176758, 0.4666666793823242, 0, 0], [0.5333333206176758, 0.4666666793823242, 0, 0], [0.5333333206176758, 0.4666666793823242, 0, 0], [0.5333333206176758, 0.4666666793823242, 0, 0], [0.6666666793823242, 0.3333333206176758, 0, 0], [0.6666666793823242, 0.3333333206176758, 0, 0], [0.6666666793823242, 0.3333333206176758, 0, 0], [0.6666666793823242, 0.3333333206176758, 0, 0], [0.6666666793823242, 0.3333333206176758, 0, 0], [0.8, 0.2, 0, 0], [0.8, 0.2, 0, 0], [0.8, 0.2, 0, 0], [0.8, 0.2, 0, 0], [0.8, 0.2, 0, 0], [0.9333333349227906, 0.06666666507720947, 0, 0], [0.9333333349227906, 0.06666666507720947, 0, 0], [0.9333333349227906, 0.06666666507720947, 0, 0], [0.9333333349227906, 0.06666666507720947, 0, 0], [0.9333333349227906, 0.06666666507720947, 0, 0], [0.06666666507720942, 0.9333333349227906, 0, 0], [0.06666666507720942, 0.9333333349227906, 0, 0], [0.06666666507720942, 0.9333333349227906, 0, 0], [0.06666666507720942, 0.9333333349227906, 0, 0], [0.06666666507720942, 0.9333333349227906, 0, 0], [0.19999999999999996, 0.8, 0, 0], [0.19999999999999996, 0.8, 0, 0], [0.19999999999999996, 0.8, 0, 0], [0.19999999999999996, 0.8, 0, 0], [0.19999999999999996, 0.8, 0, 0], [0.33333332061767573, 0.6666666793823243, 0, 0], [0.33333332061767573, 0.6666666793823243, 0, 0], [0.33333332061767573, 0.6666666793823243, 0, 0], [0.33333332061767573, 0.6666666793823243, 0, 0], [0.33333332061767573, 0.6666666793823243, 0, 0], [0.4666666793823242, 0.5333333206176758, 0, 0], [0.4666666793823242, 0.5333333206176758, 0, 0], [0.4666666793823242, 0.5333333206176758, 0, 0], [0.4666666793823242, 0.5333333206176758, 0, 0], [0.4666666793823242, 0.5333333206176758, 0, 0], [0.6, 0.4, 0, 0], [0.6, 0.4, 0, 0], [0.6, 0.4, 0, 0], [0.6, 0.4, 0, 0], [0.6, 0.4, 0, 0], [0.7333333587646484, 0.26666664123535155, 0, 0], [0.7333333587646484, 0.26666664123535155, 0, 0], [0.7333333587646484, 0.26666664123535155, 0, 0], [0.7333333587646484, 0.26666664123535155, 0, 0], [0.7333333587646484, 0.26666664123535155, 0, 0], [0.8666666412353515, 0.13333335876464844, 0, 0], [0.8666666412353515, 0.13333335876464844, 0, 0], [0.8666666412353515, 0.13333335876464844, 0, 0], [0.8666666412353515, 0.13333335876464844, 0, 0], [0.8666666412353515, 0.13333335876464844, 0, 0], [1.0, 0.0, 0, 0], [1.0, 0.0, 0, 0], [1.0, 0.0, 0, 0], [1.0, 0.0, 0, 0], [1.0, 0.0, 0, 0]], type='Geometry', vertices=[[0, 25, 5], [4.755282402038574, 25, 1.5450849533081055], [2.9389262199401855, 25, -4.0450849533081055], [-2.9389262199401855, 25, -4.0450849533081055], [-4.755282402038574, 25, 1.5450849533081055], [0, 21.66666603088379, 5], [4.755282402038574, 21.66666603088379, 1.5450849533081055], [2.9389262199401855, 21.66666603088379, -4.0450849533081055], [-2.9389262199401855, 21.66666603088379, -4.0450849533081055], [-4.755282402038574, 21.66666603088379, 1.5450849533081055], [0, 18.33333396911621, 5], [4.755282402038574, 18.33333396911621, 1.5450849533081055], [2.9389262199401855, 18.33333396911621, -4.0450849533081055], [-2.9389262199401855, 18.33333396911621, -4.0450849533081055], [-4.755282402038574, 18.33333396911621, 1.5450849533081055], [0, 15, 5], [4.755282402038574, 15, 1.5450849533081055], [2.9389262199401855, 15, -4.0450849533081055], [-2.9389262199401855, 15, -4.0450849533081055], [-4.755282402038574, 15, 1.5450849533081055], [0, 11.666666984558105, 5], [4.755282402038574, 11.666666984558105, 1.5450849533081055], [2.9389262199401855, 11.666666984558105, -4.0450849533081055], [-2.9389262199401855, 11.666666984558105, -4.0450849533081055], [-4.755282402038574, 11.666666984558105, 1.5450849533081055], [0, 8.333333015441895, 5], [4.755282402038574, 8.333333015441895, 1.5450849533081055], [2.9389262199401855, 8.333333015441895, -4.0450849533081055], [-2.9389262199401855, 8.333333015441895, -4.0450849533081055], [-4.755282402038574, 8.333333015441895, 1.5450849533081055], [0, 5, 5], [4.755282402038574, 5, 1.5450849533081055], [2.9389262199401855, 5, -4.0450849533081055], [-2.9389262199401855, 5, -4.0450849533081055], [-4.755282402038574, 5, 1.5450849533081055], [0, 1.6666666269302368, 5], [4.755282402038574, 1.6666666269302368, 1.5450849533081055], [2.9389262199401855, 1.6666666269302368, -4.0450849533081055], [-2.9389262199401855, 1.6666666269302368, -4.0450849533081055], [-4.755282402038574, 1.6666666269302368, 1.5450849533081055], [0, -1.6666666269302368, 5], [4.755282402038574, -1.6666666269302368, 1.5450849533081055], [2.9389262199401855, -1.6666666269302368, -4.0450849533081055], [-2.9389262199401855, -1.6666666269302368, -4.0450849533081055], [-4.755282402038574, -1.6666666269302368, 1.5450849533081055], [0, -5, 5], [4.755282402038574, -5, 1.5450849533081055], [2.9389262199401855, -5, -4.0450849533081055], [-2.9389262199401855, -5, -4.0450849533081055], [-4.755282402038574, -5, 1.5450849533081055], [0, -8.333333015441895, 5], [4.755282402038574, -8.333333015441895, 1.5450849533081055], [2.9389262199401855, -8.333333015441895, -4.0450849533081055], [-2.9389262199401855, -8.333333015441895, -4.0450849533081055], [-4.755282402038574, -8.333333015441895, 1.5450849533081055], [0, -11.666666984558105, 5], [4.755282402038574, -11.666666984558105, 1.5450849533081055], [2.9389262199401855, -11.666666984558105, -4.0450849533081055], [-2.9389262199401855, -11.666666984558105, -4.0450849533081055], [-4.755282402038574, -11.666666984558105, 1.5450849533081055], [0, -15, 5], [4.755282402038574, -15, 1.5450849533081055], [2.9389262199401855, -15, -4.0450849533081055], [-2.9389262199401855, -15, -4.0450849533081055], [-4.755282402038574, -15, 1.5450849533081055], [0, -18.33333396911621, 5], [4.755282402038574, -18.33333396911621, 1.5450849533081055], [2.9389262199401855, -18.33333396911621, -4.0450849533081055], [-2.9389262199401855, -18.33333396911621, -4.0450849533081055], [-4.755282402038574, -18.33333396911621, 1.5450849533081055], [0, -21.66666603088379, 5], [4.755282402038574, -21.66666603088379, 1.5450849533081055], [2.9389262199401855, -21.66666603088379, -4.0450849533081055], [-2.9389262199401855, -21.66666603088379, -4.0450849533081055], [-4.755282402038574, -21.66666603088379, 1.5450849533081055], [0, -25, 5], [4.755282402038574, -25, 1.5450849533081055], [2.9389262199401855, -25, -4.0450849533081055], [-2.9389262199401855, -25, -4.0450849533081055], [-4.755282402038574, -25, 1.5450849533081055]]), material=MeshPhongMaterial(alphaMap=None, aoMap=None, bumpMap=None, displacementMap=None, emissiveMap=None, envMap=None, lightMap=None, map=None, normalMap=None, normalScale=(1.0, 1.0), side='DoubleSide', skinning=True, specularMap=None, type='MeshPhongMaterial'), quaternion=(0.0, 0.0, 0.0, 1.0), scale=(1.0, 1.0, 1.0), skeleton=Skeleton(bones=(Bone(children=(Bone(children=(Bone(position=(0.0, 25.0, 0.0), quaternion=(0.0, 0.0, 0.0, 1.0), scale=(1.0, 1.0, 1.0), type='Bone', up=(0.0, 1.0, 0.0)),), position=(0.0, 25.0, 0.0), quaternion=(0.0, 0.0, 0.0, 1.0), scale=(1.0, 1.0, 1.0), type='Bone', up=(0.0, 1.0, 0.0)),), position=(0.0, -25.0, 0.0), quaternion=(0.0, 0.0, 0.0, 1.0), scale=(1.0, 1.0, 1.0), type='Bone', up=(0.0, 1.0, 0.0)), Bone(children=(Bone(position=(0.0, 25.0, 0.0), quaternion=(0.0, 0.0, 0.0, 1.0), scale=(1.0, 1.0, 1.0), type='Bone', up=(0.0, 1.0, 0.0)),), position=(0.0, 25.0, 0.0), quaternion=(0.0, 0.0, 0.0, 1.0), scale=(1.0, 1.0, 1.0), type='Bone', up=(0.0, 1.0, 0.0)), Bone(position=(0.0, 25.0, 0.0), quaternion=(0.0, 0.0, 0.0, 1.0), scale=(1.0, 1.0, 1.0), type='Bone', up=(0.0, 1.0, 0.0)))), type='SkinnedMesh', up=(0.0, 1.0, 0.0)), scale=(1.0, 1.0, 1.0), type='LineSegments', up=(0.0, 1.0, 0.0)), PerspectiveCamera(aspect=1.5, position=(40.0, 24.0, 40.0), quaternion=(0.0, 0.0, 0.0, 1.0), scale=(1.0, 1.0, 1.0), up=(0.0, 1.0, 0.0)), DirectionalLight(intensity=0.6, position=(3.0, 5.0, 1.0), quaternion=(0.0, 0.0, 0.0, 1.0), scale=(1.0, 1.0, 1.0), up=(0.0, 1.0, 0.0)), AmbientLight(intensity=0.5, quaternion=(0.0, 0.0, 0.0, 1.0), scale=(1.0, 1.0, 1.0), up=(0.0, 1.0, 0.0))), fog=None, overrideMaterial=None, quaternion=(0.0, 0.0, 0.0, 1.0), scale=(1.0, 1.0, 1.0), up=(0.0, 1.0, 0.0)), shadowMap=WebGLShadowMap())"
      ]
     },
     "metadata": {},
     "output_type": "display_data"
    }
   ],
   "source": [
    "camera4 = PerspectiveCamera( position=[40, 24, 40], aspect=view_width/view_height)\n",
    "scene4 = Scene(children=[mesh, helper, camera4,\n",
    "                         DirectionalLight(position=[3, 5, 1], intensity=0.6),\n",
    "                         AmbientLight(intensity=0.5)])\n",
    "renderer4 = Renderer(camera=camera4, scene=scene4, controls=[OrbitControls(controlling=camera4)],\n",
    "                     width=view_width, height=view_height)\n",
    "display(renderer4)"
   ]
  },
  {
   "cell_type": "code",
   "execution_count": 24,
   "metadata": {},
   "outputs": [
    {
     "data": {
      "application/vnd.jupyter.widget-view+json": {
       "model_id": "69b8a5cec36441068d262403f10278ef",
       "version_major": 2,
       "version_minor": 0
      },
      "text/html": [
       "<p>Failed to display Jupyter Widget of type <code>AnimationAction</code>.</p>\n",
       "<p>\n",
       "  If you're reading this message in the Jupyter Notebook or JupyterLab Notebook, it may mean\n",
       "  that the widgets JavaScript is still loading. If this message persists, it\n",
       "  likely means that the widgets JavaScript library is either not installed or\n",
       "  not enabled. See the <a href=\"https://ipywidgets.readthedocs.io/en/stable/user_install.html\">Jupyter\n",
       "  Widgets Documentation</a> for setup instructions.\n",
       "</p>\n",
       "<p>\n",
       "  If you're reading this message in another frontend (for example, a static\n",
       "  rendering on GitHub or <a href=\"https://nbviewer.jupyter.org/\">NBViewer</a>),\n",
       "  it may mean that your frontend doesn't currently support widgets.\n",
       "</p>\n"
      ],
      "text/plain": [
       "AnimationAction(clip=AnimationClip(duration=2.0, tracks=(NumberKeyframeTrack(name='.bones[1].rotation[x]', times=array([0. , 0.5, 1.5, 2. ], dtype=float32), values=array([ 0. ,  0.3, -0.3,  0. ], dtype=float32)), NumberKeyframeTrack(name='.bones[1].rotation[z]', times=array([0. , 0.5, 1.5, 2. ], dtype=float32), values=array([ 0. ,  0.3, -0.3,  0. ], dtype=float32)), NumberKeyframeTrack(name='.bones[2].rotation[x]', times=array([0. , 0.5, 1.5, 2. ], dtype=float32), values=array([ 0. , -0.3,  0.3,  0. ], dtype=float32)), NumberKeyframeTrack(name='.bones[2].rotation[z]', times=array([0. , 0.5, 1.5, 2. ], dtype=float32), values=array([ 0. , -0.3,  0.3,  0. ], dtype=float32)))), localRoot=SkinnedMesh(children=(Bone(children=(Bone(children=(Bone(position=(0.0, 25.0, 0.0), quaternion=(0.0, 0.0, 0.0, 1.0), scale=(1.0, 1.0, 1.0), type='Bone', up=(0.0, 1.0, 0.0)),), position=(0.0, 25.0, 0.0), quaternion=(0.0, 0.0, 0.0, 1.0), scale=(1.0, 1.0, 1.0), type='Bone', up=(0.0, 1.0, 0.0)),), position=(0.0, -25.0, 0.0), quaternion=(0.0, 0.0, 0.0, 1.0), scale=(1.0, 1.0, 1.0), type='Bone', up=(0.0, 1.0, 0.0)),), geometry=Geometry(faceVertexUvs=[[[{'x': 0, 'y': 1}, {'x': 0, 'y': 0.9333333373069763}, {'x': 0.20000000298023224, 'y': 1}], [{'x': 0, 'y': 0.9333333373069763}, {'x': 0.20000000298023224, 'y': 0.9333333373069763}, {'x': 0.20000000298023224, 'y': 1}], [{'x': 0, 'y': 0.9333333373069763}, {'x': 0, 'y': 0.8666666746139526}, {'x': 0.20000000298023224, 'y': 0.9333333373069763}], [{'x': 0, 'y': 0.8666666746139526}, {'x': 0.20000000298023224, 'y': 0.8666666746139526}, {'x': 0.20000000298023224, 'y': 0.9333333373069763}], [{'x': 0, 'y': 0.8666666746139526}, {'x': 0, 'y': 0.800000011920929}, {'x': 0.20000000298023224, 'y': 0.8666666746139526}], [{'x': 0, 'y': 0.800000011920929}, {'x': 0.20000000298023224, 'y': 0.800000011920929}, {'x': 0.20000000298023224, 'y': 0.8666666746139526}], [{'x': 0, 'y': 0.800000011920929}, {'x': 0, 'y': 0.7333333492279053}, {'x': 0.20000000298023224, 'y': 0.800000011920929}], [{'x': 0, 'y': 0.7333333492279053}, {'x': 0.20000000298023224, 'y': 0.7333333492279053}, {'x': 0.20000000298023224, 'y': 0.800000011920929}], [{'x': 0, 'y': 0.7333333492279053}, {'x': 0, 'y': 0.6666666865348816}, {'x': 0.20000000298023224, 'y': 0.7333333492279053}], [{'x': 0, 'y': 0.6666666865348816}, {'x': 0.20000000298023224, 'y': 0.6666666865348816}, {'x': 0.20000000298023224, 'y': 0.7333333492279053}], [{'x': 0, 'y': 0.6666666865348816}, {'x': 0, 'y': 0.6000000238418579}, {'x': 0.20000000298023224, 'y': 0.6666666865348816}], [{'x': 0, 'y': 0.6000000238418579}, {'x': 0.20000000298023224, 'y': 0.6000000238418579}, {'x': 0.20000000298023224, 'y': 0.6666666865348816}], [{'x': 0, 'y': 0.6000000238418579}, {'x': 0, 'y': 0.5333333611488342}, {'x': 0.20000000298023224, 'y': 0.6000000238418579}], [{'x': 0, 'y': 0.5333333611488342}, {'x': 0.20000000298023224, 'y': 0.5333333611488342}, {'x': 0.20000000298023224, 'y': 0.6000000238418579}], [{'x': 0, 'y': 0.5333333611488342}, {'x': 0, 'y': 0.46666666865348816}, {'x': 0.20000000298023224, 'y': 0.5333333611488342}], [{'x': 0, 'y': 0.46666666865348816}, {'x': 0.20000000298023224, 'y': 0.46666666865348816}, {'x': 0.20000000298023224, 'y': 0.5333333611488342}], [{'x': 0, 'y': 0.46666666865348816}, {'x': 0, 'y': 0.4000000059604645}, {'x': 0.20000000298023224, 'y': 0.46666666865348816}], [{'x': 0, 'y': 0.4000000059604645}, {'x': 0.20000000298023224, 'y': 0.4000000059604645}, {'x': 0.20000000298023224, 'y': 0.46666666865348816}], [{'x': 0, 'y': 0.4000000059604645}, {'x': 0, 'y': 0.3333333432674408}, {'x': 0.20000000298023224, 'y': 0.4000000059604645}], [{'x': 0, 'y': 0.3333333432674408}, {'x': 0.20000000298023224, 'y': 0.3333333432674408}, {'x': 0.20000000298023224, 'y': 0.4000000059604645}], [{'x': 0, 'y': 0.3333333432674408}, {'x': 0, 'y': 0.2666666805744171}, {'x': 0.20000000298023224, 'y': 0.3333333432674408}], [{'x': 0, 'y': 0.2666666805744171}, {'x': 0.20000000298023224, 'y': 0.2666666805744171}, {'x': 0.20000000298023224, 'y': 0.3333333432674408}], [{'x': 0, 'y': 0.2666666805744171}, {'x': 0, 'y': 0.20000000298023224}, {'x': 0.20000000298023224, 'y': 0.2666666805744171}], [{'x': 0, 'y': 0.20000000298023224}, {'x': 0.20000000298023224, 'y': 0.20000000298023224}, {'x': 0.20000000298023224, 'y': 0.2666666805744171}], [{'x': 0, 'y': 0.20000000298023224}, {'x': 0, 'y': 0.13333334028720856}, {'x': 0.20000000298023224, 'y': 0.20000000298023224}], [{'x': 0, 'y': 0.13333334028720856}, {'x': 0.20000000298023224, 'y': 0.13333334028720856}, {'x': 0.20000000298023224, 'y': 0.20000000298023224}], [{'x': 0, 'y': 0.13333334028720856}, {'x': 0, 'y': 0.06666667014360428}, {'x': 0.20000000298023224, 'y': 0.13333334028720856}], [{'x': 0, 'y': 0.06666667014360428}, {'x': 0.20000000298023224, 'y': 0.06666667014360428}, {'x': 0.20000000298023224, 'y': 0.13333334028720856}], [{'x': 0, 'y': 0.06666667014360428}, {'x': 0, 'y': 0}, {'x': 0.20000000298023224, 'y': 0.06666667014360428}], [{'x': 0, 'y': 0}, {'x': 0.20000000298023224, 'y': 0}, {'x': 0.20000000298023224, 'y': 0.06666667014360428}], [{'x': 0.20000000298023224, 'y': 1}, {'x': 0.20000000298023224, 'y': 0.9333333373069763}, {'x': 0.4000000059604645, 'y': 1}], [{'x': 0.20000000298023224, 'y': 0.9333333373069763}, {'x': 0.4000000059604645, 'y': 0.9333333373069763}, {'x': 0.4000000059604645, 'y': 1}], [{'x': 0.20000000298023224, 'y': 0.9333333373069763}, {'x': 0.20000000298023224, 'y': 0.8666666746139526}, {'x': 0.4000000059604645, 'y': 0.9333333373069763}], [{'x': 0.20000000298023224, 'y': 0.8666666746139526}, {'x': 0.4000000059604645, 'y': 0.8666666746139526}, {'x': 0.4000000059604645, 'y': 0.9333333373069763}], [{'x': 0.20000000298023224, 'y': 0.8666666746139526}, {'x': 0.20000000298023224, 'y': 0.800000011920929}, {'x': 0.4000000059604645, 'y': 0.8666666746139526}], [{'x': 0.20000000298023224, 'y': 0.800000011920929}, {'x': 0.4000000059604645, 'y': 0.800000011920929}, {'x': 0.4000000059604645, 'y': 0.8666666746139526}], [{'x': 0.20000000298023224, 'y': 0.800000011920929}, {'x': 0.20000000298023224, 'y': 0.7333333492279053}, {'x': 0.4000000059604645, 'y': 0.800000011920929}], [{'x': 0.20000000298023224, 'y': 0.7333333492279053}, {'x': 0.4000000059604645, 'y': 0.7333333492279053}, {'x': 0.4000000059604645, 'y': 0.800000011920929}], [{'x': 0.20000000298023224, 'y': 0.7333333492279053}, {'x': 0.20000000298023224, 'y': 0.6666666865348816}, {'x': 0.4000000059604645, 'y': 0.7333333492279053}], [{'x': 0.20000000298023224, 'y': 0.6666666865348816}, {'x': 0.4000000059604645, 'y': 0.6666666865348816}, {'x': 0.4000000059604645, 'y': 0.7333333492279053}], [{'x': 0.20000000298023224, 'y': 0.6666666865348816}, {'x': 0.20000000298023224, 'y': 0.6000000238418579}, {'x': 0.4000000059604645, 'y': 0.6666666865348816}], [{'x': 0.20000000298023224, 'y': 0.6000000238418579}, {'x': 0.4000000059604645, 'y': 0.6000000238418579}, {'x': 0.4000000059604645, 'y': 0.6666666865348816}], [{'x': 0.20000000298023224, 'y': 0.6000000238418579}, {'x': 0.20000000298023224, 'y': 0.5333333611488342}, {'x': 0.4000000059604645, 'y': 0.6000000238418579}], [{'x': 0.20000000298023224, 'y': 0.5333333611488342}, {'x': 0.4000000059604645, 'y': 0.5333333611488342}, {'x': 0.4000000059604645, 'y': 0.6000000238418579}], [{'x': 0.20000000298023224, 'y': 0.5333333611488342}, {'x': 0.20000000298023224, 'y': 0.46666666865348816}, {'x': 0.4000000059604645, 'y': 0.5333333611488342}], [{'x': 0.20000000298023224, 'y': 0.46666666865348816}, {'x': 0.4000000059604645, 'y': 0.46666666865348816}, {'x': 0.4000000059604645, 'y': 0.5333333611488342}], [{'x': 0.20000000298023224, 'y': 0.46666666865348816}, {'x': 0.20000000298023224, 'y': 0.4000000059604645}, {'x': 0.4000000059604645, 'y': 0.46666666865348816}], [{'x': 0.20000000298023224, 'y': 0.4000000059604645}, {'x': 0.4000000059604645, 'y': 0.4000000059604645}, {'x': 0.4000000059604645, 'y': 0.46666666865348816}], [{'x': 0.20000000298023224, 'y': 0.4000000059604645}, {'x': 0.20000000298023224, 'y': 0.3333333432674408}, {'x': 0.4000000059604645, 'y': 0.4000000059604645}], [{'x': 0.20000000298023224, 'y': 0.3333333432674408}, {'x': 0.4000000059604645, 'y': 0.3333333432674408}, {'x': 0.4000000059604645, 'y': 0.4000000059604645}], [{'x': 0.20000000298023224, 'y': 0.3333333432674408}, {'x': 0.20000000298023224, 'y': 0.2666666805744171}, {'x': 0.4000000059604645, 'y': 0.3333333432674408}], [{'x': 0.20000000298023224, 'y': 0.2666666805744171}, {'x': 0.4000000059604645, 'y': 0.2666666805744171}, {'x': 0.4000000059604645, 'y': 0.3333333432674408}], [{'x': 0.20000000298023224, 'y': 0.2666666805744171}, {'x': 0.20000000298023224, 'y': 0.20000000298023224}, {'x': 0.4000000059604645, 'y': 0.2666666805744171}], [{'x': 0.20000000298023224, 'y': 0.20000000298023224}, {'x': 0.4000000059604645, 'y': 0.20000000298023224}, {'x': 0.4000000059604645, 'y': 0.2666666805744171}], [{'x': 0.20000000298023224, 'y': 0.20000000298023224}, {'x': 0.20000000298023224, 'y': 0.13333334028720856}, {'x': 0.4000000059604645, 'y': 0.20000000298023224}], [{'x': 0.20000000298023224, 'y': 0.13333334028720856}, {'x': 0.4000000059604645, 'y': 0.13333334028720856}, {'x': 0.4000000059604645, 'y': 0.20000000298023224}], [{'x': 0.20000000298023224, 'y': 0.13333334028720856}, {'x': 0.20000000298023224, 'y': 0.06666667014360428}, {'x': 0.4000000059604645, 'y': 0.13333334028720856}], [{'x': 0.20000000298023224, 'y': 0.06666667014360428}, {'x': 0.4000000059604645, 'y': 0.06666667014360428}, {'x': 0.4000000059604645, 'y': 0.13333334028720856}], [{'x': 0.20000000298023224, 'y': 0.06666667014360428}, {'x': 0.20000000298023224, 'y': 0}, {'x': 0.4000000059604645, 'y': 0.06666667014360428}], [{'x': 0.20000000298023224, 'y': 0}, {'x': 0.4000000059604645, 'y': 0}, {'x': 0.4000000059604645, 'y': 0.06666667014360428}], [{'x': 0.4000000059604645, 'y': 1}, {'x': 0.4000000059604645, 'y': 0.9333333373069763}, {'x': 0.6000000238418579, 'y': 1}], [{'x': 0.4000000059604645, 'y': 0.9333333373069763}, {'x': 0.6000000238418579, 'y': 0.9333333373069763}, {'x': 0.6000000238418579, 'y': 1}], [{'x': 0.4000000059604645, 'y': 0.9333333373069763}, {'x': 0.4000000059604645, 'y': 0.8666666746139526}, {'x': 0.6000000238418579, 'y': 0.9333333373069763}], [{'x': 0.4000000059604645, 'y': 0.8666666746139526}, {'x': 0.6000000238418579, 'y': 0.8666666746139526}, {'x': 0.6000000238418579, 'y': 0.9333333373069763}], [{'x': 0.4000000059604645, 'y': 0.8666666746139526}, {'x': 0.4000000059604645, 'y': 0.800000011920929}, {'x': 0.6000000238418579, 'y': 0.8666666746139526}], [{'x': 0.4000000059604645, 'y': 0.800000011920929}, {'x': 0.6000000238418579, 'y': 0.800000011920929}, {'x': 0.6000000238418579, 'y': 0.8666666746139526}], [{'x': 0.4000000059604645, 'y': 0.800000011920929}, {'x': 0.4000000059604645, 'y': 0.7333333492279053}, {'x': 0.6000000238418579, 'y': 0.800000011920929}], [{'x': 0.4000000059604645, 'y': 0.7333333492279053}, {'x': 0.6000000238418579, 'y': 0.7333333492279053}, {'x': 0.6000000238418579, 'y': 0.800000011920929}], [{'x': 0.4000000059604645, 'y': 0.7333333492279053}, {'x': 0.4000000059604645, 'y': 0.6666666865348816}, {'x': 0.6000000238418579, 'y': 0.7333333492279053}], [{'x': 0.4000000059604645, 'y': 0.6666666865348816}, {'x': 0.6000000238418579, 'y': 0.6666666865348816}, {'x': 0.6000000238418579, 'y': 0.7333333492279053}], [{'x': 0.4000000059604645, 'y': 0.6666666865348816}, {'x': 0.4000000059604645, 'y': 0.6000000238418579}, {'x': 0.6000000238418579, 'y': 0.6666666865348816}], [{'x': 0.4000000059604645, 'y': 0.6000000238418579}, {'x': 0.6000000238418579, 'y': 0.6000000238418579}, {'x': 0.6000000238418579, 'y': 0.6666666865348816}], [{'x': 0.4000000059604645, 'y': 0.6000000238418579}, {'x': 0.4000000059604645, 'y': 0.5333333611488342}, {'x': 0.6000000238418579, 'y': 0.6000000238418579}], [{'x': 0.4000000059604645, 'y': 0.5333333611488342}, {'x': 0.6000000238418579, 'y': 0.5333333611488342}, {'x': 0.6000000238418579, 'y': 0.6000000238418579}], [{'x': 0.4000000059604645, 'y': 0.5333333611488342}, {'x': 0.4000000059604645, 'y': 0.46666666865348816}, {'x': 0.6000000238418579, 'y': 0.5333333611488342}], [{'x': 0.4000000059604645, 'y': 0.46666666865348816}, {'x': 0.6000000238418579, 'y': 0.46666666865348816}, {'x': 0.6000000238418579, 'y': 0.5333333611488342}], [{'x': 0.4000000059604645, 'y': 0.46666666865348816}, {'x': 0.4000000059604645, 'y': 0.4000000059604645}, {'x': 0.6000000238418579, 'y': 0.46666666865348816}], [{'x': 0.4000000059604645, 'y': 0.4000000059604645}, {'x': 0.6000000238418579, 'y': 0.4000000059604645}, {'x': 0.6000000238418579, 'y': 0.46666666865348816}], [{'x': 0.4000000059604645, 'y': 0.4000000059604645}, {'x': 0.4000000059604645, 'y': 0.3333333432674408}, {'x': 0.6000000238418579, 'y': 0.4000000059604645}], [{'x': 0.4000000059604645, 'y': 0.3333333432674408}, {'x': 0.6000000238418579, 'y': 0.3333333432674408}, {'x': 0.6000000238418579, 'y': 0.4000000059604645}], [{'x': 0.4000000059604645, 'y': 0.3333333432674408}, {'x': 0.4000000059604645, 'y': 0.2666666805744171}, {'x': 0.6000000238418579, 'y': 0.3333333432674408}], [{'x': 0.4000000059604645, 'y': 0.2666666805744171}, {'x': 0.6000000238418579, 'y': 0.2666666805744171}, {'x': 0.6000000238418579, 'y': 0.3333333432674408}], [{'x': 0.4000000059604645, 'y': 0.2666666805744171}, {'x': 0.4000000059604645, 'y': 0.20000000298023224}, {'x': 0.6000000238418579, 'y': 0.2666666805744171}], [{'x': 0.4000000059604645, 'y': 0.20000000298023224}, {'x': 0.6000000238418579, 'y': 0.20000000298023224}, {'x': 0.6000000238418579, 'y': 0.2666666805744171}], [{'x': 0.4000000059604645, 'y': 0.20000000298023224}, {'x': 0.4000000059604645, 'y': 0.13333334028720856}, {'x': 0.6000000238418579, 'y': 0.20000000298023224}], [{'x': 0.4000000059604645, 'y': 0.13333334028720856}, {'x': 0.6000000238418579, 'y': 0.13333334028720856}, {'x': 0.6000000238418579, 'y': 0.20000000298023224}], [{'x': 0.4000000059604645, 'y': 0.13333334028720856}, {'x': 0.4000000059604645, 'y': 0.06666667014360428}, {'x': 0.6000000238418579, 'y': 0.13333334028720856}], [{'x': 0.4000000059604645, 'y': 0.06666667014360428}, {'x': 0.6000000238418579, 'y': 0.06666667014360428}, {'x': 0.6000000238418579, 'y': 0.13333334028720856}], [{'x': 0.4000000059604645, 'y': 0.06666667014360428}, {'x': 0.4000000059604645, 'y': 0}, {'x': 0.6000000238418579, 'y': 0.06666667014360428}], [{'x': 0.4000000059604645, 'y': 0}, {'x': 0.6000000238418579, 'y': 0}, {'x': 0.6000000238418579, 'y': 0.06666667014360428}], [{'x': 0.6000000238418579, 'y': 1}, {'x': 0.6000000238418579, 'y': 0.9333333373069763}, {'x': 0.800000011920929, 'y': 1}], [{'x': 0.6000000238418579, 'y': 0.9333333373069763}, {'x': 0.800000011920929, 'y': 0.9333333373069763}, {'x': 0.800000011920929, 'y': 1}], [{'x': 0.6000000238418579, 'y': 0.9333333373069763}, {'x': 0.6000000238418579, 'y': 0.8666666746139526}, {'x': 0.800000011920929, 'y': 0.9333333373069763}], [{'x': 0.6000000238418579, 'y': 0.8666666746139526}, {'x': 0.800000011920929, 'y': 0.8666666746139526}, {'x': 0.800000011920929, 'y': 0.9333333373069763}], [{'x': 0.6000000238418579, 'y': 0.8666666746139526}, {'x': 0.6000000238418579, 'y': 0.800000011920929}, {'x': 0.800000011920929, 'y': 0.8666666746139526}], [{'x': 0.6000000238418579, 'y': 0.800000011920929}, {'x': 0.800000011920929, 'y': 0.800000011920929}, {'x': 0.800000011920929, 'y': 0.8666666746139526}], [{'x': 0.6000000238418579, 'y': 0.800000011920929}, {'x': 0.6000000238418579, 'y': 0.7333333492279053}, {'x': 0.800000011920929, 'y': 0.800000011920929}], [{'x': 0.6000000238418579, 'y': 0.7333333492279053}, {'x': 0.800000011920929, 'y': 0.7333333492279053}, {'x': 0.800000011920929, 'y': 0.800000011920929}], [{'x': 0.6000000238418579, 'y': 0.7333333492279053}, {'x': 0.6000000238418579, 'y': 0.6666666865348816}, {'x': 0.800000011920929, 'y': 0.7333333492279053}], [{'x': 0.6000000238418579, 'y': 0.6666666865348816}, {'x': 0.800000011920929, 'y': 0.6666666865348816}, {'x': 0.800000011920929, 'y': 0.7333333492279053}], [{'x': 0.6000000238418579, 'y': 0.6666666865348816}, {'x': 0.6000000238418579, 'y': 0.6000000238418579}, {'x': 0.800000011920929, 'y': 0.6666666865348816}], [{'x': 0.6000000238418579, 'y': 0.6000000238418579}, {'x': 0.800000011920929, 'y': 0.6000000238418579}, {'x': 0.800000011920929, 'y': 0.6666666865348816}], [{'x': 0.6000000238418579, 'y': 0.6000000238418579}, {'x': 0.6000000238418579, 'y': 0.5333333611488342}, {'x': 0.800000011920929, 'y': 0.6000000238418579}], [{'x': 0.6000000238418579, 'y': 0.5333333611488342}, {'x': 0.800000011920929, 'y': 0.5333333611488342}, {'x': 0.800000011920929, 'y': 0.6000000238418579}], [{'x': 0.6000000238418579, 'y': 0.5333333611488342}, {'x': 0.6000000238418579, 'y': 0.46666666865348816}, {'x': 0.800000011920929, 'y': 0.5333333611488342}], [{'x': 0.6000000238418579, 'y': 0.46666666865348816}, {'x': 0.800000011920929, 'y': 0.46666666865348816}, {'x': 0.800000011920929, 'y': 0.5333333611488342}], [{'x': 0.6000000238418579, 'y': 0.46666666865348816}, {'x': 0.6000000238418579, 'y': 0.4000000059604645}, {'x': 0.800000011920929, 'y': 0.46666666865348816}], [{'x': 0.6000000238418579, 'y': 0.4000000059604645}, {'x': 0.800000011920929, 'y': 0.4000000059604645}, {'x': 0.800000011920929, 'y': 0.46666666865348816}], [{'x': 0.6000000238418579, 'y': 0.4000000059604645}, {'x': 0.6000000238418579, 'y': 0.3333333432674408}, {'x': 0.800000011920929, 'y': 0.4000000059604645}], [{'x': 0.6000000238418579, 'y': 0.3333333432674408}, {'x': 0.800000011920929, 'y': 0.3333333432674408}, {'x': 0.800000011920929, 'y': 0.4000000059604645}], [{'x': 0.6000000238418579, 'y': 0.3333333432674408}, {'x': 0.6000000238418579, 'y': 0.2666666805744171}, {'x': 0.800000011920929, 'y': 0.3333333432674408}], [{'x': 0.6000000238418579, 'y': 0.2666666805744171}, {'x': 0.800000011920929, 'y': 0.2666666805744171}, {'x': 0.800000011920929, 'y': 0.3333333432674408}], [{'x': 0.6000000238418579, 'y': 0.2666666805744171}, {'x': 0.6000000238418579, 'y': 0.20000000298023224}, {'x': 0.800000011920929, 'y': 0.2666666805744171}], [{'x': 0.6000000238418579, 'y': 0.20000000298023224}, {'x': 0.800000011920929, 'y': 0.20000000298023224}, {'x': 0.800000011920929, 'y': 0.2666666805744171}], [{'x': 0.6000000238418579, 'y': 0.20000000298023224}, {'x': 0.6000000238418579, 'y': 0.13333334028720856}, {'x': 0.800000011920929, 'y': 0.20000000298023224}], [{'x': 0.6000000238418579, 'y': 0.13333334028720856}, {'x': 0.800000011920929, 'y': 0.13333334028720856}, {'x': 0.800000011920929, 'y': 0.20000000298023224}], [{'x': 0.6000000238418579, 'y': 0.13333334028720856}, {'x': 0.6000000238418579, 'y': 0.06666667014360428}, {'x': 0.800000011920929, 'y': 0.13333334028720856}], [{'x': 0.6000000238418579, 'y': 0.06666667014360428}, {'x': 0.800000011920929, 'y': 0.06666667014360428}, {'x': 0.800000011920929, 'y': 0.13333334028720856}], [{'x': 0.6000000238418579, 'y': 0.06666667014360428}, {'x': 0.6000000238418579, 'y': 0}, {'x': 0.800000011920929, 'y': 0.06666667014360428}], [{'x': 0.6000000238418579, 'y': 0}, {'x': 0.800000011920929, 'y': 0}, {'x': 0.800000011920929, 'y': 0.06666667014360428}], [{'x': 0.800000011920929, 'y': 1}, {'x': 0.800000011920929, 'y': 0.9333333373069763}, {'x': 1, 'y': 1}], [{'x': 0.800000011920929, 'y': 0.9333333373069763}, {'x': 1, 'y': 0.9333333373069763}, {'x': 1, 'y': 1}], [{'x': 0.800000011920929, 'y': 0.9333333373069763}, {'x': 0.800000011920929, 'y': 0.8666666746139526}, {'x': 1, 'y': 0.9333333373069763}], [{'x': 0.800000011920929, 'y': 0.8666666746139526}, {'x': 1, 'y': 0.8666666746139526}, {'x': 1, 'y': 0.9333333373069763}], [{'x': 0.800000011920929, 'y': 0.8666666746139526}, {'x': 0.800000011920929, 'y': 0.800000011920929}, {'x': 1, 'y': 0.8666666746139526}], [{'x': 0.800000011920929, 'y': 0.800000011920929}, {'x': 1, 'y': 0.800000011920929}, {'x': 1, 'y': 0.8666666746139526}], [{'x': 0.800000011920929, 'y': 0.800000011920929}, {'x': 0.800000011920929, 'y': 0.7333333492279053}, {'x': 1, 'y': 0.800000011920929}], [{'x': 0.800000011920929, 'y': 0.7333333492279053}, {'x': 1, 'y': 0.7333333492279053}, {'x': 1, 'y': 0.800000011920929}], [{'x': 0.800000011920929, 'y': 0.7333333492279053}, {'x': 0.800000011920929, 'y': 0.6666666865348816}, {'x': 1, 'y': 0.7333333492279053}], [{'x': 0.800000011920929, 'y': 0.6666666865348816}, {'x': 1, 'y': 0.6666666865348816}, {'x': 1, 'y': 0.7333333492279053}], [{'x': 0.800000011920929, 'y': 0.6666666865348816}, {'x': 0.800000011920929, 'y': 0.6000000238418579}, {'x': 1, 'y': 0.6666666865348816}], [{'x': 0.800000011920929, 'y': 0.6000000238418579}, {'x': 1, 'y': 0.6000000238418579}, {'x': 1, 'y': 0.6666666865348816}], [{'x': 0.800000011920929, 'y': 0.6000000238418579}, {'x': 0.800000011920929, 'y': 0.5333333611488342}, {'x': 1, 'y': 0.6000000238418579}], [{'x': 0.800000011920929, 'y': 0.5333333611488342}, {'x': 1, 'y': 0.5333333611488342}, {'x': 1, 'y': 0.6000000238418579}], [{'x': 0.800000011920929, 'y': 0.5333333611488342}, {'x': 0.800000011920929, 'y': 0.46666666865348816}, {'x': 1, 'y': 0.5333333611488342}], [{'x': 0.800000011920929, 'y': 0.46666666865348816}, {'x': 1, 'y': 0.46666666865348816}, {'x': 1, 'y': 0.5333333611488342}], [{'x': 0.800000011920929, 'y': 0.46666666865348816}, {'x': 0.800000011920929, 'y': 0.4000000059604645}, {'x': 1, 'y': 0.46666666865348816}], [{'x': 0.800000011920929, 'y': 0.4000000059604645}, {'x': 1, 'y': 0.4000000059604645}, {'x': 1, 'y': 0.46666666865348816}], [{'x': 0.800000011920929, 'y': 0.4000000059604645}, {'x': 0.800000011920929, 'y': 0.3333333432674408}, {'x': 1, 'y': 0.4000000059604645}], [{'x': 0.800000011920929, 'y': 0.3333333432674408}, {'x': 1, 'y': 0.3333333432674408}, {'x': 1, 'y': 0.4000000059604645}], [{'x': 0.800000011920929, 'y': 0.3333333432674408}, {'x': 0.800000011920929, 'y': 0.2666666805744171}, {'x': 1, 'y': 0.3333333432674408}], [{'x': 0.800000011920929, 'y': 0.2666666805744171}, {'x': 1, 'y': 0.2666666805744171}, {'x': 1, 'y': 0.3333333432674408}], [{'x': 0.800000011920929, 'y': 0.2666666805744171}, {'x': 0.800000011920929, 'y': 0.20000000298023224}, {'x': 1, 'y': 0.2666666805744171}], [{'x': 0.800000011920929, 'y': 0.20000000298023224}, {'x': 1, 'y': 0.20000000298023224}, {'x': 1, 'y': 0.2666666805744171}], [{'x': 0.800000011920929, 'y': 0.20000000298023224}, {'x': 0.800000011920929, 'y': 0.13333334028720856}, {'x': 1, 'y': 0.20000000298023224}], [{'x': 0.800000011920929, 'y': 0.13333334028720856}, {'x': 1, 'y': 0.13333334028720856}, {'x': 1, 'y': 0.20000000298023224}], [{'x': 0.800000011920929, 'y': 0.13333334028720856}, {'x': 0.800000011920929, 'y': 0.06666667014360428}, {'x': 1, 'y': 0.13333334028720856}], [{'x': 0.800000011920929, 'y': 0.06666667014360428}, {'x': 1, 'y': 0.06666667014360428}, {'x': 1, 'y': 0.13333334028720856}], [{'x': 0.800000011920929, 'y': 0.06666667014360428}, {'x': 0.800000011920929, 'y': 0}, {'x': 1, 'y': 0.06666667014360428}], [{'x': 0.800000011920929, 'y': 0}, {'x': 1, 'y': 0}, {'x': 1, 'y': 0.06666667014360428}]]], faces=([0, 5, 1, [0.587785268876672, 0, 0.8090169823258212], '#ffffff', 0, [[0, 0, 1], [0, 0, 1], [0.9510565400123596, 0, 0.30901700258255005]], []], [5, 6, 1, [0.587785268876672, 0, 0.8090169823258212], '#ffffff', 0, [[0, 0, 1], [0.9510565400123596, 0, 0.30901700258255005], [0.9510565400123596, 0, 0.30901700258255005]], []], [5, 10, 6, [0.5877852688766722, 0, 0.8090169823258213], '#ffffff', 0, [[0, 0, 1], [0, 0, 1], [0.9510565400123596, 0, 0.30901700258255005]], []], [10, 11, 6, [0.5877852688766722, 0, 0.8090169823258213], '#ffffff', 0, [[0, 0, 1], [0.9510565400123596, 0, 0.30901700258255005], [0.9510565400123596, 0, 0.30901700258255005]], []], [10, 15, 11, [0.587785268876672, 0, 0.8090169823258212], '#ffffff', 0, [[0, 0, 1], [0, 0, 1], [0.9510565400123596, 0, 0.30901700258255005]], []], [15, 16, 11, [0.587785268876672, 0, 0.8090169823258212], '#ffffff', 0, [[0, 0, 1], [0.9510565400123596, 0, 0.30901700258255005], [0.9510565400123596, 0, 0.30901700258255005]], []], [15, 20, 16, [0.5877852688766722, 0, 0.8090169823258213], '#ffffff', 0, [[0, 0, 1], [0, 0, 1], [0.9510565400123596, 0, 0.30901700258255005]], []], [20, 21, 16, [0.5877852688766722, 0, 0.8090169823258213], '#ffffff', 0, [[0, 0, 1], [0.9510565400123596, 0, 0.30901700258255005], [0.9510565400123596, 0, 0.30901700258255005]], []], [20, 25, 21, [0.587785268876672, 0, 0.8090169823258212], '#ffffff', 0, [[0, 0, 1], [0, 0, 1], [0.9510565400123596, 0, 0.30901700258255005]], []], [25, 26, 21, [0.587785268876672, 0, 0.8090169823258212], '#ffffff', 0, [[0, 0, 1], [0.9510565400123596, 0, 0.30901700258255005], [0.9510565400123596, 0, 0.30901700258255005]], []], [25, 30, 26, [0.5877852688766722, 0, 0.8090169823258213], '#ffffff', 0, [[0, 0, 1], [0, 0, 1], [0.9510565400123596, 0, 0.30901700258255005]], []], [30, 31, 26, [0.5877852688766722, 0, 0.8090169823258213], '#ffffff', 0, [[0, 0, 1], [0.9510565400123596, 0, 0.30901700258255005], [0.9510565400123596, 0, 0.30901700258255005]], []], [30, 35, 31, [0.5877852688766722, 0, 0.8090169823258213], '#ffffff', 0, [[0, 0, 1], [0, 0, 1], [0.9510565400123596, 0, 0.30901700258255005]], []], [35, 36, 31, [0.5877852688766722, 0, 0.8090169823258213], '#ffffff', 0, [[0, 0, 1], [0.9510565400123596, 0, 0.30901700258255005], [0.9510565400123596, 0, 0.30901700258255005]], []], [35, 40, 36, [0.5877852688766722, 0, 0.8090169823258213], '#ffffff', 0, [[0, 0, 1], [0, 0, 1], [0.9510565400123596, 0, 0.30901700258255005]], []], [40, 41, 36, [0.5877852688766722, 0, 0.8090169823258213], '#ffffff', 0, [[0, 0, 1], [0.9510565400123596, 0, 0.30901700258255005], [0.9510565400123596, 0, 0.30901700258255005]], []], [40, 45, 41, [0.5877852688766722, 0, 0.8090169823258213], '#ffffff', 0, [[0, 0, 1], [0, 0, 1], [0.9510565400123596, 0, 0.30901700258255005]], []], [45, 46, 41, [0.5877852688766722, 0, 0.8090169823258213], '#ffffff', 0, [[0, 0, 1], [0.9510565400123596, 0, 0.30901700258255005], [0.9510565400123596, 0, 0.30901700258255005]], []], [45, 50, 46, [0.5877852688766722, 0, 0.8090169823258213], '#ffffff', 0, [[0, 0, 1], [0, 0, 1], [0.9510565400123596, 0, 0.30901700258255005]], []], [50, 51, 46, [0.5877852688766722, 0, 0.8090169823258213], '#ffffff', 0, [[0, 0, 1], [0.9510565400123596, 0, 0.30901700258255005], [0.9510565400123596, 0, 0.30901700258255005]], []], [50, 55, 51, [0.587785268876672, 0, 0.8090169823258212], '#ffffff', 0, [[0, 0, 1], [0, 0, 1], [0.9510565400123596, 0, 0.30901700258255005]], []], [55, 56, 51, [0.587785268876672, 0, 0.8090169823258212], '#ffffff', 0, [[0, 0, 1], [0.9510565400123596, 0, 0.30901700258255005], [0.9510565400123596, 0, 0.30901700258255005]], []], [55, 60, 56, [0.5877852688766722, 0, 0.8090169823258213], '#ffffff', 0, [[0, 0, 1], [0, 0, 1], [0.9510565400123596, 0, 0.30901700258255005]], []], [60, 61, 56, [0.5877852688766722, 0, 0.8090169823258213], '#ffffff', 0, [[0, 0, 1], [0.9510565400123596, 0, 0.30901700258255005], [0.9510565400123596, 0, 0.30901700258255005]], []], [60, 65, 61, [0.587785268876672, 0, 0.8090169823258212], '#ffffff', 0, [[0, 0, 1], [0, 0, 1], [0.9510565400123596, 0, 0.30901700258255005]], []], [65, 66, 61, [0.587785268876672, 0, 0.8090169823258212], '#ffffff', 0, [[0, 0, 1], [0.9510565400123596, 0, 0.30901700258255005], [0.9510565400123596, 0, 0.30901700258255005]], []], [65, 70, 66, [0.5877852688766722, 0, 0.8090169823258213], '#ffffff', 0, [[0, 0, 1], [0, 0, 1], [0.9510565400123596, 0, 0.30901700258255005]], []], [70, 71, 66, [0.5877852688766722, 0, 0.8090169823258213], '#ffffff', 0, [[0, 0, 1], [0.9510565400123596, 0, 0.30901700258255005], [0.9510565400123596, 0, 0.30901700258255005]], []], [70, 75, 71, [0.587785268876672, 0, 0.8090169823258212], '#ffffff', 0, [[0, 0, 1], [0, 0, 1], [0.9510565400123596, 0, 0.30901700258255005]], []], [75, 76, 71, [0.587785268876672, 0, 0.8090169823258212], '#ffffff', 0, [[0, 0, 1], [0.9510565400123596, 0, 0.30901700258255005], [0.9510565400123596, 0, 0.30901700258255005]], []], [1, 6, 2, [0.9510565225876377, 0, -0.3090169750086719], '#ffffff', 0, [[0.9510565400123596, 0, 0.30901700258255005], [0.9510565400123596, 0, 0.30901700258255005], [0.5877852439880371, 0, -0.80901700258255]], []], [6, 7, 2, [0.9510565225876377, 0, -0.3090169750086719], '#ffffff', 0, [[0.9510565400123596, 0, 0.30901700258255005], [0.5877852439880371, 0, -0.80901700258255], [0.5877852439880371, 0, -0.80901700258255]], []], [6, 11, 7, [0.9510565225876377, 0, -0.3090169750086719], '#ffffff', 0, [[0.9510565400123596, 0, 0.30901700258255005], [0.9510565400123596, 0, 0.30901700258255005], [0.5877852439880371, 0, -0.80901700258255]], []], [11, 12, 7, [0.9510565225876377, 0, -0.3090169750086719], '#ffffff', 0, [[0.9510565400123596, 0, 0.30901700258255005], [0.5877852439880371, 0, -0.80901700258255], [0.5877852439880371, 0, -0.80901700258255]], []], [11, 16, 12, [0.9510565225876377, 0, -0.3090169750086719], '#ffffff', 0, [[0.9510565400123596, 0, 0.30901700258255005], [0.9510565400123596, 0, 0.30901700258255005], [0.5877852439880371, 0, -0.80901700258255]], []], [16, 17, 12, [0.9510565225876377, 0, -0.3090169750086719], '#ffffff', 0, [[0.9510565400123596, 0, 0.30901700258255005], [0.5877852439880371, 0, -0.80901700258255], [0.5877852439880371, 0, -0.80901700258255]], []], [16, 21, 17, [0.9510565225876376, 0, -0.3090169750086719], '#ffffff', 0, [[0.9510565400123596, 0, 0.30901700258255005], [0.9510565400123596, 0, 0.30901700258255005], [0.5877852439880371, 0, -0.80901700258255]], []], [21, 22, 17, [0.9510565225876376, 0, -0.3090169750086719], '#ffffff', 0, [[0.9510565400123596, 0, 0.30901700258255005], [0.5877852439880371, 0, -0.80901700258255], [0.5877852439880371, 0, -0.80901700258255]], []], [21, 26, 22, [0.9510565225876377, 0, -0.3090169750086719], '#ffffff', 0, [[0.9510565400123596, 0, 0.30901700258255005], [0.9510565400123596, 0, 0.30901700258255005], [0.5877852439880371, 0, -0.80901700258255]], []], [26, 27, 22, [0.9510565225876377, 0, -0.3090169750086719], '#ffffff', 0, [[0.9510565400123596, 0, 0.30901700258255005], [0.5877852439880371, 0, -0.80901700258255], [0.5877852439880371, 0, -0.80901700258255]], []], [26, 31, 27, [0.9510565225876376, 0, -0.3090169750086719], '#ffffff', 0, [[0.9510565400123596, 0, 0.30901700258255005], [0.9510565400123596, 0, 0.30901700258255005], [0.5877852439880371, 0, -0.80901700258255]], []], [31, 32, 27, [0.9510565225876376, 0, -0.3090169750086719], '#ffffff', 0, [[0.9510565400123596, 0, 0.30901700258255005], [0.5877852439880371, 0, -0.80901700258255], [0.5877852439880371, 0, -0.80901700258255]], []], [31, 36, 32, [0.9510565225876377, 0, -0.3090169750086719], '#ffffff', 0, [[0.9510565400123596, 0, 0.30901700258255005], [0.9510565400123596, 0, 0.30901700258255005], [0.5877852439880371, 0, -0.80901700258255]], []], [36, 37, 32, [0.9510565225876377, 0, -0.3090169750086719], '#ffffff', 0, [[0.9510565400123596, 0, 0.30901700258255005], [0.5877852439880371, 0, -0.80901700258255], [0.5877852439880371, 0, -0.80901700258255]], []], [36, 41, 37, [0.9510565225876377, 0, -0.3090169750086719], '#ffffff', 0, [[0.9510565400123596, 0, 0.30901700258255005], [0.9510565400123596, 0, 0.30901700258255005], [0.5877852439880371, 0, -0.80901700258255]], []], [41, 42, 37, [0.9510565225876377, 0, -0.3090169750086719], '#ffffff', 0, [[0.9510565400123596, 0, 0.30901700258255005], [0.5877852439880371, 0, -0.80901700258255], [0.5877852439880371, 0, -0.80901700258255]], []], [41, 46, 42, [0.9510565225876377, 0, -0.3090169750086719], '#ffffff', 0, [[0.9510565400123596, 0, 0.30901700258255005], [0.9510565400123596, 0, 0.30901700258255005], [0.5877852439880371, 0, -0.80901700258255]], []], [46, 47, 42, [0.9510565225876377, 0, -0.3090169750086719], '#ffffff', 0, [[0.9510565400123596, 0, 0.30901700258255005], [0.5877852439880371, 0, -0.80901700258255], [0.5877852439880371, 0, -0.80901700258255]], []], [46, 51, 47, [0.9510565225876376, 0, -0.3090169750086719], '#ffffff', 0, [[0.9510565400123596, 0, 0.30901700258255005], [0.9510565400123596, 0, 0.30901700258255005], [0.5877852439880371, 0, -0.80901700258255]], []], [51, 52, 47, [0.9510565225876376, 0, -0.3090169750086719], '#ffffff', 0, [[0.9510565400123596, 0, 0.30901700258255005], [0.5877852439880371, 0, -0.80901700258255], [0.5877852439880371, 0, -0.80901700258255]], []], [51, 56, 52, [0.9510565225876377, 0, -0.3090169750086719], '#ffffff', 0, [[0.9510565400123596, 0, 0.30901700258255005], [0.9510565400123596, 0, 0.30901700258255005], [0.5877852439880371, 0, -0.80901700258255]], []], [56, 57, 52, [0.9510565225876377, 0, -0.3090169750086719], '#ffffff', 0, [[0.9510565400123596, 0, 0.30901700258255005], [0.5877852439880371, 0, -0.80901700258255], [0.5877852439880371, 0, -0.80901700258255]], []], [56, 61, 57, [0.9510565225876376, 0, -0.3090169750086719], '#ffffff', 0, [[0.9510565400123596, 0, 0.30901700258255005], [0.9510565400123596, 0, 0.30901700258255005], [0.5877852439880371, 0, -0.80901700258255]], []], [61, 62, 57, [0.9510565225876376, 0, -0.3090169750086719], '#ffffff', 0, [[0.9510565400123596, 0, 0.30901700258255005], [0.5877852439880371, 0, -0.80901700258255], [0.5877852439880371, 0, -0.80901700258255]], []], [61, 66, 62, [0.9510565225876377, 0, -0.3090169750086719], '#ffffff', 0, [[0.9510565400123596, 0, 0.30901700258255005], [0.9510565400123596, 0, 0.30901700258255005], [0.5877852439880371, 0, -0.80901700258255]], []], [66, 67, 62, [0.9510565225876377, 0, -0.3090169750086719], '#ffffff', 0, [[0.9510565400123596, 0, 0.30901700258255005], [0.5877852439880371, 0, -0.80901700258255], [0.5877852439880371, 0, -0.80901700258255]], []], [66, 71, 67, [0.9510565225876377, 0, -0.3090169750086719], '#ffffff', 0, [[0.9510565400123596, 0, 0.30901700258255005], [0.9510565400123596, 0, 0.30901700258255005], [0.5877852439880371, 0, -0.80901700258255]], []], [71, 72, 67, [0.9510565225876377, 0, -0.3090169750086719], '#ffffff', 0, [[0.9510565400123596, 0, 0.30901700258255005], [0.5877852439880371, 0, -0.80901700258255], [0.5877852439880371, 0, -0.80901700258255]], []], [71, 76, 72, [0.9510565225876377, 0, -0.3090169750086719], '#ffffff', 0, [[0.9510565400123596, 0, 0.30901700258255005], [0.9510565400123596, 0, 0.30901700258255005], [0.5877852439880371, 0, -0.80901700258255]], []], [76, 77, 72, [0.9510565225876377, 0, -0.3090169750086719], '#ffffff', 0, [[0.9510565400123596, 0, 0.30901700258255005], [0.5877852439880371, 0, -0.80901700258255], [0.5877852439880371, 0, -0.80901700258255]], []], [2, 7, 3, [0, 0, -0.9999999999999999], '#ffffff', 0, [[0.5877852439880371, 0, -0.80901700258255], [0.5877852439880371, 0, -0.80901700258255], [-0.5877852439880371, 0, -0.80901700258255]], []], [7, 8, 3, [0, 0, -0.9999999999999999], '#ffffff', 0, [[0.5877852439880371, 0, -0.80901700258255], [-0.5877852439880371, 0, -0.80901700258255], [-0.5877852439880371, 0, -0.80901700258255]], []], [7, 12, 8, [0, 0, -1], '#ffffff', 0, [[0.5877852439880371, 0, -0.80901700258255], [0.5877852439880371, 0, -0.80901700258255], [-0.5877852439880371, 0, -0.80901700258255]], []], [12, 13, 8, [0, 0, -1], '#ffffff', 0, [[0.5877852439880371, 0, -0.80901700258255], [-0.5877852439880371, 0, -0.80901700258255], [-0.5877852439880371, 0, -0.80901700258255]], []], [12, 17, 13, [0, 0, -0.9999999999999999], '#ffffff', 0, [[0.5877852439880371, 0, -0.80901700258255], [0.5877852439880371, 0, -0.80901700258255], [-0.5877852439880371, 0, -0.80901700258255]], []], [17, 18, 13, [0, 0, -0.9999999999999999], '#ffffff', 0, [[0.5877852439880371, 0, -0.80901700258255], [-0.5877852439880371, 0, -0.80901700258255], [-0.5877852439880371, 0, -0.80901700258255]], []], [17, 22, 18, [0, 0, -1], '#ffffff', 0, [[0.5877852439880371, 0, -0.80901700258255], [0.5877852439880371, 0, -0.80901700258255], [-0.5877852439880371, 0, -0.80901700258255]], []], [22, 23, 18, [0, 0, -1], '#ffffff', 0, [[0.5877852439880371, 0, -0.80901700258255], [-0.5877852439880371, 0, -0.80901700258255], [-0.5877852439880371, 0, -0.80901700258255]], []], [22, 27, 23, [0, 0, -0.9999999999999999], '#ffffff', 0, [[0.5877852439880371, 0, -0.80901700258255], [0.5877852439880371, 0, -0.80901700258255], [-0.5877852439880371, 0, -0.80901700258255]], []], [27, 28, 23, [0, 0, -0.9999999999999999], '#ffffff', 0, [[0.5877852439880371, 0, -0.80901700258255], [-0.5877852439880371, 0, -0.80901700258255], [-0.5877852439880371, 0, -0.80901700258255]], []], [27, 32, 28, [0, 0, -1], '#ffffff', 0, [[0.5877852439880371, 0, -0.80901700258255], [0.5877852439880371, 0, -0.80901700258255], [-0.5877852439880371, 0, -0.80901700258255]], []], [32, 33, 28, [0, 0, -1], '#ffffff', 0, [[0.5877852439880371, 0, -0.80901700258255], [-0.5877852439880371, 0, -0.80901700258255], [-0.5877852439880371, 0, -0.80901700258255]], []], [32, 37, 33, [0, 0, -1], '#ffffff', 0, [[0.5877852439880371, 0, -0.80901700258255], [0.5877852439880371, 0, -0.80901700258255], [-0.5877852439880371, 0, -0.80901700258255]], []], [37, 38, 33, [0, 0, -1], '#ffffff', 0, [[0.5877852439880371, 0, -0.80901700258255], [-0.5877852439880371, 0, -0.80901700258255], [-0.5877852439880371, 0, -0.80901700258255]], []], [37, 42, 38, [0, 0, -1], '#ffffff', 0, [[0.5877852439880371, 0, -0.80901700258255], [0.5877852439880371, 0, -0.80901700258255], [-0.5877852439880371, 0, -0.80901700258255]], []], [42, 43, 38, [0, 0, -1], '#ffffff', 0, [[0.5877852439880371, 0, -0.80901700258255], [-0.5877852439880371, 0, -0.80901700258255], [-0.5877852439880371, 0, -0.80901700258255]], []], [42, 47, 43, [0, 0, -1], '#ffffff', 0, [[0.5877852439880371, 0, -0.80901700258255], [0.5877852439880371, 0, -0.80901700258255], [-0.5877852439880371, 0, -0.80901700258255]], []], [47, 48, 43, [0, 0, -1], '#ffffff', 0, [[0.5877852439880371, 0, -0.80901700258255], [-0.5877852439880371, 0, -0.80901700258255], [-0.5877852439880371, 0, -0.80901700258255]], []], [47, 52, 48, [0, 0, -1], '#ffffff', 0, [[0.5877852439880371, 0, -0.80901700258255], [0.5877852439880371, 0, -0.80901700258255], [-0.5877852439880371, 0, -0.80901700258255]], []], [52, 53, 48, [0, 0, -1], '#ffffff', 0, [[0.5877852439880371, 0, -0.80901700258255], [-0.5877852439880371, 0, -0.80901700258255], [-0.5877852439880371, 0, -0.80901700258255]], []], [52, 57, 53, [0, 0, -0.9999999999999999], '#ffffff', 0, [[0.5877852439880371, 0, -0.80901700258255], [0.5877852439880371, 0, -0.80901700258255], [-0.5877852439880371, 0, -0.80901700258255]], []], [57, 58, 53, [0, 0, -0.9999999999999999], '#ffffff', 0, [[0.5877852439880371, 0, -0.80901700258255], [-0.5877852439880371, 0, -0.80901700258255], [-0.5877852439880371, 0, -0.80901700258255]], []], [57, 62, 58, [0, 0, -1], '#ffffff', 0, [[0.5877852439880371, 0, -0.80901700258255], [0.5877852439880371, 0, -0.80901700258255], [-0.5877852439880371, 0, -0.80901700258255]], []], [62, 63, 58, [0, 0, -1], '#ffffff', 0, [[0.5877852439880371, 0, -0.80901700258255], [-0.5877852439880371, 0, -0.80901700258255], [-0.5877852439880371, 0, -0.80901700258255]], []], [62, 67, 63, [0, 0, -0.9999999999999999], '#ffffff', 0, [[0.5877852439880371, 0, -0.80901700258255], [0.5877852439880371, 0, -0.80901700258255], [-0.5877852439880371, 0, -0.80901700258255]], []], [67, 68, 63, [0, 0, -0.9999999999999999], '#ffffff', 0, [[0.5877852439880371, 0, -0.80901700258255], [-0.5877852439880371, 0, -0.80901700258255], [-0.5877852439880371, 0, -0.80901700258255]], []], [67, 72, 68, [0, 0, -1], '#ffffff', 0, [[0.5877852439880371, 0, -0.80901700258255], [0.5877852439880371, 0, -0.80901700258255], [-0.5877852439880371, 0, -0.80901700258255]], []], [72, 73, 68, [0, 0, -1], '#ffffff', 0, [[0.5877852439880371, 0, -0.80901700258255], [-0.5877852439880371, 0, -0.80901700258255], [-0.5877852439880371, 0, -0.80901700258255]], []], [72, 77, 73, [0, 0, -0.9999999999999999], '#ffffff', 0, [[0.5877852439880371, 0, -0.80901700258255], [0.5877852439880371, 0, -0.80901700258255], [-0.5877852439880371, 0, -0.80901700258255]], []], [77, 78, 73, [0, 0, -0.9999999999999999], '#ffffff', 0, [[0.5877852439880371, 0, -0.80901700258255], [-0.5877852439880371, 0, -0.80901700258255], [-0.5877852439880371, 0, -0.80901700258255]], []], [3, 8, 4, [-0.9510565225876377, 0, -0.3090169750086719], '#ffffff', 0, [[-0.5877852439880371, 0, -0.80901700258255], [-0.5877852439880371, 0, -0.80901700258255], [-0.9510565400123596, 0, 0.30901700258255005]], []], [8, 9, 4, [-0.9510565225876377, 0, -0.3090169750086719], '#ffffff', 0, [[-0.5877852439880371, 0, -0.80901700258255], [-0.9510565400123596, 0, 0.30901700258255005], [-0.9510565400123596, 0, 0.30901700258255005]], []], [8, 13, 9, [-0.9510565225876377, 0, -0.3090169750086719], '#ffffff', 0, [[-0.5877852439880371, 0, -0.80901700258255], [-0.5877852439880371, 0, -0.80901700258255], [-0.9510565400123596, 0, 0.30901700258255005]], []], [13, 14, 9, [-0.9510565225876377, 0, -0.3090169750086719], '#ffffff', 0, [[-0.5877852439880371, 0, -0.80901700258255], [-0.9510565400123596, 0, 0.30901700258255005], [-0.9510565400123596, 0, 0.30901700258255005]], []], [13, 18, 14, [-0.9510565225876377, 0, -0.3090169750086719], '#ffffff', 0, [[-0.5877852439880371, 0, -0.80901700258255], [-0.5877852439880371, 0, -0.80901700258255], [-0.9510565400123596, 0, 0.30901700258255005]], []], [18, 19, 14, [-0.9510565225876377, 0, -0.3090169750086719], '#ffffff', 0, [[-0.5877852439880371, 0, -0.80901700258255], [-0.9510565400123596, 0, 0.30901700258255005], [-0.9510565400123596, 0, 0.30901700258255005]], []], [18, 23, 19, [-0.9510565225876376, 0, -0.3090169750086719], '#ffffff', 0, [[-0.5877852439880371, 0, -0.80901700258255], [-0.5877852439880371, 0, -0.80901700258255], [-0.9510565400123596, 0, 0.30901700258255005]], []], [23, 24, 19, [-0.9510565225876376, 0, -0.3090169750086719], '#ffffff', 0, [[-0.5877852439880371, 0, -0.80901700258255], [-0.9510565400123596, 0, 0.30901700258255005], [-0.9510565400123596, 0, 0.30901700258255005]], []], [23, 28, 24, [-0.9510565225876377, 0, -0.3090169750086719], '#ffffff', 0, [[-0.5877852439880371, 0, -0.80901700258255], [-0.5877852439880371, 0, -0.80901700258255], [-0.9510565400123596, 0, 0.30901700258255005]], []], [28, 29, 24, [-0.9510565225876377, 0, -0.3090169750086719], '#ffffff', 0, [[-0.5877852439880371, 0, -0.80901700258255], [-0.9510565400123596, 0, 0.30901700258255005], [-0.9510565400123596, 0, 0.30901700258255005]], []], [28, 33, 29, [-0.9510565225876376, 0, -0.3090169750086719], '#ffffff', 0, [[-0.5877852439880371, 0, -0.80901700258255], [-0.5877852439880371, 0, -0.80901700258255], [-0.9510565400123596, 0, 0.30901700258255005]], []], [33, 34, 29, [-0.9510565225876376, 0, -0.3090169750086719], '#ffffff', 0, [[-0.5877852439880371, 0, -0.80901700258255], [-0.9510565400123596, 0, 0.30901700258255005], [-0.9510565400123596, 0, 0.30901700258255005]], []], [33, 38, 34, [-0.9510565225876377, 0, -0.3090169750086719], '#ffffff', 0, [[-0.5877852439880371, 0, -0.80901700258255], [-0.5877852439880371, 0, -0.80901700258255], [-0.9510565400123596, 0, 0.30901700258255005]], []], [38, 39, 34, [-0.9510565225876377, 0, -0.3090169750086719], '#ffffff', 0, [[-0.5877852439880371, 0, -0.80901700258255], [-0.9510565400123596, 0, 0.30901700258255005], [-0.9510565400123596, 0, 0.30901700258255005]], []], [38, 43, 39, [-0.9510565225876377, 0, -0.3090169750086719], '#ffffff', 0, [[-0.5877852439880371, 0, -0.80901700258255], [-0.5877852439880371, 0, -0.80901700258255], [-0.9510565400123596, 0, 0.30901700258255005]], []], [43, 44, 39, [-0.9510565225876377, 0, -0.3090169750086719], '#ffffff', 0, [[-0.5877852439880371, 0, -0.80901700258255], [-0.9510565400123596, 0, 0.30901700258255005], [-0.9510565400123596, 0, 0.30901700258255005]], []], [43, 48, 44, [-0.9510565225876377, 0, -0.3090169750086719], '#ffffff', 0, [[-0.5877852439880371, 0, -0.80901700258255], [-0.5877852439880371, 0, -0.80901700258255], [-0.9510565400123596, 0, 0.30901700258255005]], []], [48, 49, 44, [-0.9510565225876377, 0, -0.3090169750086719], '#ffffff', 0, [[-0.5877852439880371, 0, -0.80901700258255], [-0.9510565400123596, 0, 0.30901700258255005], [-0.9510565400123596, 0, 0.30901700258255005]], []], [48, 53, 49, [-0.9510565225876376, 0, -0.3090169750086719], '#ffffff', 0, [[-0.5877852439880371, 0, -0.80901700258255], [-0.5877852439880371, 0, -0.80901700258255], [-0.9510565400123596, 0, 0.30901700258255005]], []], [53, 54, 49, [-0.9510565225876376, 0, -0.3090169750086719], '#ffffff', 0, [[-0.5877852439880371, 0, -0.80901700258255], [-0.9510565400123596, 0, 0.30901700258255005], [-0.9510565400123596, 0, 0.30901700258255005]], []], [53, 58, 54, [-0.9510565225876377, 0, -0.3090169750086719], '#ffffff', 0, [[-0.5877852439880371, 0, -0.80901700258255], [-0.5877852439880371, 0, -0.80901700258255], [-0.9510565400123596, 0, 0.30901700258255005]], []], [58, 59, 54, [-0.9510565225876377, 0, -0.3090169750086719], '#ffffff', 0, [[-0.5877852439880371, 0, -0.80901700258255], [-0.9510565400123596, 0, 0.30901700258255005], [-0.9510565400123596, 0, 0.30901700258255005]], []], [58, 63, 59, [-0.9510565225876376, 0, -0.3090169750086719], '#ffffff', 0, [[-0.5877852439880371, 0, -0.80901700258255], [-0.5877852439880371, 0, -0.80901700258255], [-0.9510565400123596, 0, 0.30901700258255005]], []], [63, 64, 59, [-0.9510565225876376, 0, -0.3090169750086719], '#ffffff', 0, [[-0.5877852439880371, 0, -0.80901700258255], [-0.9510565400123596, 0, 0.30901700258255005], [-0.9510565400123596, 0, 0.30901700258255005]], []], [63, 68, 64, [-0.9510565225876377, 0, -0.3090169750086719], '#ffffff', 0, [[-0.5877852439880371, 0, -0.80901700258255], [-0.5877852439880371, 0, -0.80901700258255], [-0.9510565400123596, 0, 0.30901700258255005]], []], [68, 69, 64, [-0.9510565225876377, 0, -0.3090169750086719], '#ffffff', 0, [[-0.5877852439880371, 0, -0.80901700258255], [-0.9510565400123596, 0, 0.30901700258255005], [-0.9510565400123596, 0, 0.30901700258255005]], []], [68, 73, 69, [-0.9510565225876377, 0, -0.3090169750086719], '#ffffff', 0, [[-0.5877852439880371, 0, -0.80901700258255], [-0.5877852439880371, 0, -0.80901700258255], [-0.9510565400123596, 0, 0.30901700258255005]], []], [73, 74, 69, [-0.9510565225876377, 0, -0.3090169750086719], '#ffffff', 0, [[-0.5877852439880371, 0, -0.80901700258255], [-0.9510565400123596, 0, 0.30901700258255005], [-0.9510565400123596, 0, 0.30901700258255005]], []], [73, 78, 74, [-0.9510565225876377, 0, -0.3090169750086719], '#ffffff', 0, [[-0.5877852439880371, 0, -0.80901700258255], [-0.5877852439880371, 0, -0.80901700258255], [-0.9510565400123596, 0, 0.30901700258255005]], []], [78, 79, 74, [-0.9510565225876377, 0, -0.3090169750086719], '#ffffff', 0, [[-0.5877852439880371, 0, -0.80901700258255], [-0.9510565400123596, 0, 0.30901700258255005], [-0.9510565400123596, 0, 0.30901700258255005]], []], [4, 9, 0, [-0.5877852688766722, 0, 0.8090169823258212], '#ffffff', 0, [[-0.9510565400123596, 0, 0.30901700258255005], [-0.9510565400123596, 0, 0.30901700258255005], [-2.4492937051703357e-16, 0, 1]], []], [9, 5, 0, [-0.5877852688766722, 0, 0.8090169823258212], '#ffffff', 0, [[-0.9510565400123596, 0, 0.30901700258255005], [-2.4492937051703357e-16, 0, 1], [-2.4492937051703357e-16, 0, 1]], []], [9, 14, 5, [-0.5877852688766722, 0, 0.8090169823258212], '#ffffff', 0, [[-0.9510565400123596, 0, 0.30901700258255005], [-0.9510565400123596, 0, 0.30901700258255005], [-2.4492937051703357e-16, 0, 1]], []], [14, 10, 5, [-0.5877852688766722, 0, 0.8090169823258212], '#ffffff', 0, [[-0.9510565400123596, 0, 0.30901700258255005], [-2.4492937051703357e-16, 0, 1], [-2.4492937051703357e-16, 0, 1]], []], [14, 19, 10, [-0.5877852688766722, 0, 0.8090169823258212], '#ffffff', 0, [[-0.9510565400123596, 0, 0.30901700258255005], [-0.9510565400123596, 0, 0.30901700258255005], [-2.4492937051703357e-16, 0, 1]], []], [19, 15, 10, [-0.5877852688766722, 0, 0.8090169823258212], '#ffffff', 0, [[-0.9510565400123596, 0, 0.30901700258255005], [-2.4492937051703357e-16, 0, 1], [-2.4492937051703357e-16, 0, 1]], []], [19, 24, 15, [-0.5877852688766723, 0, 0.8090169823258213], '#ffffff', 0, [[-0.9510565400123596, 0, 0.30901700258255005], [-0.9510565400123596, 0, 0.30901700258255005], [-2.4492937051703357e-16, 0, 1]], []], [24, 20, 15, [-0.5877852688766723, 0, 0.8090169823258213], '#ffffff', 0, [[-0.9510565400123596, 0, 0.30901700258255005], [-2.4492937051703357e-16, 0, 1], [-2.4492937051703357e-16, 0, 1]], []], [24, 29, 20, [-0.5877852688766722, 0, 0.8090169823258212], '#ffffff', 0, [[-0.9510565400123596, 0, 0.30901700258255005], [-0.9510565400123596, 0, 0.30901700258255005], [-2.4492937051703357e-16, 0, 1]], []], [29, 25, 20, [-0.5877852688766722, 0, 0.8090169823258212], '#ffffff', 0, [[-0.9510565400123596, 0, 0.30901700258255005], [-2.4492937051703357e-16, 0, 1], [-2.4492937051703357e-16, 0, 1]], []], [29, 34, 25, [-0.5877852688766723, 0, 0.8090169823258213], '#ffffff', 0, [[-0.9510565400123596, 0, 0.30901700258255005], [-0.9510565400123596, 0, 0.30901700258255005], [-2.4492937051703357e-16, 0, 1]], []], [34, 30, 25, [-0.5877852688766723, 0, 0.8090169823258213], '#ffffff', 0, [[-0.9510565400123596, 0, 0.30901700258255005], [-2.4492937051703357e-16, 0, 1], [-2.4492937051703357e-16, 0, 1]], []], [34, 39, 30, [-0.5877852688766722, 0, 0.8090169823258212], '#ffffff', 0, [[-0.9510565400123596, 0, 0.30901700258255005], [-0.9510565400123596, 0, 0.30901700258255005], [-2.4492937051703357e-16, 0, 1]], []], [39, 35, 30, [-0.5877852688766722, 0, 0.8090169823258212], '#ffffff', 0, [[-0.9510565400123596, 0, 0.30901700258255005], [-2.4492937051703357e-16, 0, 1], [-2.4492937051703357e-16, 0, 1]], []], [39, 44, 35, [-0.5877852688766722, 0, 0.8090169823258212], '#ffffff', 0, [[-0.9510565400123596, 0, 0.30901700258255005], [-0.9510565400123596, 0, 0.30901700258255005], [-2.4492937051703357e-16, 0, 1]], []], [44, 40, 35, [-0.5877852688766722, 0, 0.8090169823258212], '#ffffff', 0, [[-0.9510565400123596, 0, 0.30901700258255005], [-2.4492937051703357e-16, 0, 1], [-2.4492937051703357e-16, 0, 1]], []], [44, 49, 40, [-0.5877852688766722, 0, 0.8090169823258212], '#ffffff', 0, [[-0.9510565400123596, 0, 0.30901700258255005], [-0.9510565400123596, 0, 0.30901700258255005], [-2.4492937051703357e-16, 0, 1]], []], [49, 45, 40, [-0.5877852688766722, 0, 0.8090169823258212], '#ffffff', 0, [[-0.9510565400123596, 0, 0.30901700258255005], [-2.4492937051703357e-16, 0, 1], [-2.4492937051703357e-16, 0, 1]], []], [49, 54, 45, [-0.5877852688766723, 0, 0.8090169823258213], '#ffffff', 0, [[-0.9510565400123596, 0, 0.30901700258255005], [-0.9510565400123596, 0, 0.30901700258255005], [-2.4492937051703357e-16, 0, 1]], []], [54, 50, 45, [-0.5877852688766723, 0, 0.8090169823258213], '#ffffff', 0, [[-0.9510565400123596, 0, 0.30901700258255005], [-2.4492937051703357e-16, 0, 1], [-2.4492937051703357e-16, 0, 1]], []], [54, 59, 50, [-0.5877852688766722, 0, 0.8090169823258212], '#ffffff', 0, [[-0.9510565400123596, 0, 0.30901700258255005], [-0.9510565400123596, 0, 0.30901700258255005], [-2.4492937051703357e-16, 0, 1]], []], [59, 55, 50, [-0.5877852688766722, 0, 0.8090169823258212], '#ffffff', 0, [[-0.9510565400123596, 0, 0.30901700258255005], [-2.4492937051703357e-16, 0, 1], [-2.4492937051703357e-16, 0, 1]], []], [59, 64, 55, [-0.5877852688766723, 0, 0.8090169823258213], '#ffffff', 0, [[-0.9510565400123596, 0, 0.30901700258255005], [-0.9510565400123596, 0, 0.30901700258255005], [-2.4492937051703357e-16, 0, 1]], []], [64, 60, 55, [-0.5877852688766723, 0, 0.8090169823258213], '#ffffff', 0, [[-0.9510565400123596, 0, 0.30901700258255005], [-2.4492937051703357e-16, 0, 1], [-2.4492937051703357e-16, 0, 1]], []], [64, 69, 60, [-0.5877852688766722, 0, 0.8090169823258212], '#ffffff', 0, [[-0.9510565400123596, 0, 0.30901700258255005], [-0.9510565400123596, 0, 0.30901700258255005], [-2.4492937051703357e-16, 0, 1]], []], [69, 65, 60, [-0.5877852688766722, 0, 0.8090169823258212], '#ffffff', 0, [[-0.9510565400123596, 0, 0.30901700258255005], [-2.4492937051703357e-16, 0, 1], [-2.4492937051703357e-16, 0, 1]], []], [69, 74, 65, [-0.5877852688766722, 0, 0.8090169823258212], '#ffffff', 0, [[-0.9510565400123596, 0, 0.30901700258255005], [-0.9510565400123596, 0, 0.30901700258255005], [-2.4492937051703357e-16, 0, 1]], []], [74, 70, 65, [-0.5877852688766722, 0, 0.8090169823258212], '#ffffff', 0, [[-0.9510565400123596, 0, 0.30901700258255005], [-2.4492937051703357e-16, 0, 1], [-2.4492937051703357e-16, 0, 1]], []], [74, 79, 70, [-0.5877852688766722, 0, 0.8090169823258212], '#ffffff', 0, [[-0.9510565400123596, 0, 0.30901700258255005], [-0.9510565400123596, 0, 0.30901700258255005], [-2.4492937051703357e-16, 0, 1]], []], [79, 75, 70, [-0.5877852688766722, 0, 0.8090169823258212], '#ffffff', 0, [[-0.9510565400123596, 0, 0.30901700258255005], [-2.4492937051703357e-16, 0, 1], [-2.4492937051703357e-16, 0, 1]], []]), skinIndices=[[2.0, 3.0, 0, 0], [2.0, 3.0, 0, 0], [2.0, 3.0, 0, 0], [2.0, 3.0, 0, 0], [2.0, 3.0, 0, 0], [1.0, 2.0, 0, 0], [1.0, 2.0, 0, 0], [1.0, 2.0, 0, 0], [1.0, 2.0, 0, 0], [1.0, 2.0, 0, 0], [1.0, 2.0, 0, 0], [1.0, 2.0, 0, 0], [1.0, 2.0, 0, 0], [1.0, 2.0, 0, 0], [1.0, 2.0, 0, 0], [1.0, 2.0, 0, 0], [1.0, 2.0, 0, 0], [1.0, 2.0, 0, 0], [1.0, 2.0, 0, 0], [1.0, 2.0, 0, 0], [1.0, 2.0, 0, 0], [1.0, 2.0, 0, 0], [1.0, 2.0, 0, 0], [1.0, 2.0, 0, 0], [1.0, 2.0, 0, 0], [1.0, 2.0, 0, 0], [1.0, 2.0, 0, 0], [1.0, 2.0, 0, 0], [1.0, 2.0, 0, 0], [1.0, 2.0, 0, 0], [1.0, 2.0, 0, 0], [1.0, 2.0, 0, 0], [1.0, 2.0, 0, 0], [1.0, 2.0, 0, 0], [1.0, 2.0, 0, 0], [1.0, 2.0, 0, 0], [1.0, 2.0, 0, 0], [1.0, 2.0, 0, 0], [1.0, 2.0, 0, 0], [1.0, 2.0, 0, 0], [0.0, 1.0, 0, 0], [0.0, 1.0, 0, 0], [0.0, 1.0, 0, 0], [0.0, 1.0, 0, 0], [0.0, 1.0, 0, 0], [0.0, 1.0, 0, 0], [0.0, 1.0, 0, 0], [0.0, 1.0, 0, 0], [0.0, 1.0, 0, 0], [0.0, 1.0, 0, 0], [0.0, 1.0, 0, 0], [0.0, 1.0, 0, 0], [0.0, 1.0, 0, 0], [0.0, 1.0, 0, 0], [0.0, 1.0, 0, 0], [0.0, 1.0, 0, 0], [0.0, 1.0, 0, 0], [0.0, 1.0, 0, 0], [0.0, 1.0, 0, 0], [0.0, 1.0, 0, 0], [0.0, 1.0, 0, 0], [0.0, 1.0, 0, 0], [0.0, 1.0, 0, 0], [0.0, 1.0, 0, 0], [0.0, 1.0, 0, 0], [0.0, 1.0, 0, 0], [0.0, 1.0, 0, 0], [0.0, 1.0, 0, 0], [0.0, 1.0, 0, 0], [0.0, 1.0, 0, 0], [0.0, 1.0, 0, 0], [0.0, 1.0, 0, 0], [0.0, 1.0, 0, 0], [0.0, 1.0, 0, 0], [0.0, 1.0, 0, 0], [0.0, 1.0, 0, 0], [0.0, 1.0, 0, 0], [0.0, 1.0, 0, 0], [0.0, 1.0, 0, 0], [0.0, 1.0, 0, 0]], skinWeights=[[1.0, 0.0, 0, 0], [1.0, 0.0, 0, 0], [1.0, 0.0, 0, 0], [1.0, 0.0, 0, 0], [1.0, 0.0, 0, 0], [0.13333335876464847, 0.8666666412353515, 0, 0], [0.13333335876464847, 0.8666666412353515, 0, 0], [0.13333335876464847, 0.8666666412353515, 0, 0], [0.13333335876464847, 0.8666666412353515, 0, 0], [0.13333335876464847, 0.8666666412353515, 0, 0], [0.26666664123535155, 0.7333333587646484, 0, 0], [0.26666664123535155, 0.7333333587646484, 0, 0], [0.26666664123535155, 0.7333333587646484, 0, 0], [0.26666664123535155, 0.7333333587646484, 0, 0], [0.26666664123535155, 0.7333333587646484, 0, 0], [0.4, 0.6, 0, 0], [0.4, 0.6, 0, 0], [0.4, 0.6, 0, 0], [0.4, 0.6, 0, 0], [0.4, 0.6, 0, 0], [0.5333333206176758, 0.4666666793823242, 0, 0], [0.5333333206176758, 0.4666666793823242, 0, 0], [0.5333333206176758, 0.4666666793823242, 0, 0], [0.5333333206176758, 0.4666666793823242, 0, 0], [0.5333333206176758, 0.4666666793823242, 0, 0], [0.6666666793823242, 0.3333333206176758, 0, 0], [0.6666666793823242, 0.3333333206176758, 0, 0], [0.6666666793823242, 0.3333333206176758, 0, 0], [0.6666666793823242, 0.3333333206176758, 0, 0], [0.6666666793823242, 0.3333333206176758, 0, 0], [0.8, 0.2, 0, 0], [0.8, 0.2, 0, 0], [0.8, 0.2, 0, 0], [0.8, 0.2, 0, 0], [0.8, 0.2, 0, 0], [0.9333333349227906, 0.06666666507720947, 0, 0], [0.9333333349227906, 0.06666666507720947, 0, 0], [0.9333333349227906, 0.06666666507720947, 0, 0], [0.9333333349227906, 0.06666666507720947, 0, 0], [0.9333333349227906, 0.06666666507720947, 0, 0], [0.06666666507720942, 0.9333333349227906, 0, 0], [0.06666666507720942, 0.9333333349227906, 0, 0], [0.06666666507720942, 0.9333333349227906, 0, 0], [0.06666666507720942, 0.9333333349227906, 0, 0], [0.06666666507720942, 0.9333333349227906, 0, 0], [0.19999999999999996, 0.8, 0, 0], [0.19999999999999996, 0.8, 0, 0], [0.19999999999999996, 0.8, 0, 0], [0.19999999999999996, 0.8, 0, 0], [0.19999999999999996, 0.8, 0, 0], [0.33333332061767573, 0.6666666793823243, 0, 0], [0.33333332061767573, 0.6666666793823243, 0, 0], [0.33333332061767573, 0.6666666793823243, 0, 0], [0.33333332061767573, 0.6666666793823243, 0, 0], [0.33333332061767573, 0.6666666793823243, 0, 0], [0.4666666793823242, 0.5333333206176758, 0, 0], [0.4666666793823242, 0.5333333206176758, 0, 0], [0.4666666793823242, 0.5333333206176758, 0, 0], [0.4666666793823242, 0.5333333206176758, 0, 0], [0.4666666793823242, 0.5333333206176758, 0, 0], [0.6, 0.4, 0, 0], [0.6, 0.4, 0, 0], [0.6, 0.4, 0, 0], [0.6, 0.4, 0, 0], [0.6, 0.4, 0, 0], [0.7333333587646484, 0.26666664123535155, 0, 0], [0.7333333587646484, 0.26666664123535155, 0, 0], [0.7333333587646484, 0.26666664123535155, 0, 0], [0.7333333587646484, 0.26666664123535155, 0, 0], [0.7333333587646484, 0.26666664123535155, 0, 0], [0.8666666412353515, 0.13333335876464844, 0, 0], [0.8666666412353515, 0.13333335876464844, 0, 0], [0.8666666412353515, 0.13333335876464844, 0, 0], [0.8666666412353515, 0.13333335876464844, 0, 0], [0.8666666412353515, 0.13333335876464844, 0, 0], [1.0, 0.0, 0, 0], [1.0, 0.0, 0, 0], [1.0, 0.0, 0, 0], [1.0, 0.0, 0, 0], [1.0, 0.0, 0, 0]], type='Geometry', vertices=[[0, 25, 5], [4.755282402038574, 25, 1.5450849533081055], [2.9389262199401855, 25, -4.0450849533081055], [-2.9389262199401855, 25, -4.0450849533081055], [-4.755282402038574, 25, 1.5450849533081055], [0, 21.66666603088379, 5], [4.755282402038574, 21.66666603088379, 1.5450849533081055], [2.9389262199401855, 21.66666603088379, -4.0450849533081055], [-2.9389262199401855, 21.66666603088379, -4.0450849533081055], [-4.755282402038574, 21.66666603088379, 1.5450849533081055], [0, 18.33333396911621, 5], [4.755282402038574, 18.33333396911621, 1.5450849533081055], [2.9389262199401855, 18.33333396911621, -4.0450849533081055], [-2.9389262199401855, 18.33333396911621, -4.0450849533081055], [-4.755282402038574, 18.33333396911621, 1.5450849533081055], [0, 15, 5], [4.755282402038574, 15, 1.5450849533081055], [2.9389262199401855, 15, -4.0450849533081055], [-2.9389262199401855, 15, -4.0450849533081055], [-4.755282402038574, 15, 1.5450849533081055], [0, 11.666666984558105, 5], [4.755282402038574, 11.666666984558105, 1.5450849533081055], [2.9389262199401855, 11.666666984558105, -4.0450849533081055], [-2.9389262199401855, 11.666666984558105, -4.0450849533081055], [-4.755282402038574, 11.666666984558105, 1.5450849533081055], [0, 8.333333015441895, 5], [4.755282402038574, 8.333333015441895, 1.5450849533081055], [2.9389262199401855, 8.333333015441895, -4.0450849533081055], [-2.9389262199401855, 8.333333015441895, -4.0450849533081055], [-4.755282402038574, 8.333333015441895, 1.5450849533081055], [0, 5, 5], [4.755282402038574, 5, 1.5450849533081055], [2.9389262199401855, 5, -4.0450849533081055], [-2.9389262199401855, 5, -4.0450849533081055], [-4.755282402038574, 5, 1.5450849533081055], [0, 1.6666666269302368, 5], [4.755282402038574, 1.6666666269302368, 1.5450849533081055], [2.9389262199401855, 1.6666666269302368, -4.0450849533081055], [-2.9389262199401855, 1.6666666269302368, -4.0450849533081055], [-4.755282402038574, 1.6666666269302368, 1.5450849533081055], [0, -1.6666666269302368, 5], [4.755282402038574, -1.6666666269302368, 1.5450849533081055], [2.9389262199401855, -1.6666666269302368, -4.0450849533081055], [-2.9389262199401855, -1.6666666269302368, -4.0450849533081055], [-4.755282402038574, -1.6666666269302368, 1.5450849533081055], [0, -5, 5], [4.755282402038574, -5, 1.5450849533081055], [2.9389262199401855, -5, -4.0450849533081055], [-2.9389262199401855, -5, -4.0450849533081055], [-4.755282402038574, -5, 1.5450849533081055], [0, -8.333333015441895, 5], [4.755282402038574, -8.333333015441895, 1.5450849533081055], [2.9389262199401855, -8.333333015441895, -4.0450849533081055], [-2.9389262199401855, -8.333333015441895, -4.0450849533081055], [-4.755282402038574, -8.333333015441895, 1.5450849533081055], [0, -11.666666984558105, 5], [4.755282402038574, -11.666666984558105, 1.5450849533081055], [2.9389262199401855, -11.666666984558105, -4.0450849533081055], [-2.9389262199401855, -11.666666984558105, -4.0450849533081055], [-4.755282402038574, -11.666666984558105, 1.5450849533081055], [0, -15, 5], [4.755282402038574, -15, 1.5450849533081055], [2.9389262199401855, -15, -4.0450849533081055], [-2.9389262199401855, -15, -4.0450849533081055], [-4.755282402038574, -15, 1.5450849533081055], [0, -18.33333396911621, 5], [4.755282402038574, -18.33333396911621, 1.5450849533081055], [2.9389262199401855, -18.33333396911621, -4.0450849533081055], [-2.9389262199401855, -18.33333396911621, -4.0450849533081055], [-4.755282402038574, -18.33333396911621, 1.5450849533081055], [0, -21.66666603088379, 5], [4.755282402038574, -21.66666603088379, 1.5450849533081055], [2.9389262199401855, -21.66666603088379, -4.0450849533081055], [-2.9389262199401855, -21.66666603088379, -4.0450849533081055], [-4.755282402038574, -21.66666603088379, 1.5450849533081055], [0, -25, 5], [4.755282402038574, -25, 1.5450849533081055], [2.9389262199401855, -25, -4.0450849533081055], [-2.9389262199401855, -25, -4.0450849533081055], [-4.755282402038574, -25, 1.5450849533081055]]), material=MeshPhongMaterial(alphaMap=None, aoMap=None, bumpMap=None, displacementMap=None, emissiveMap=None, envMap=None, lightMap=None, map=None, normalMap=None, normalScale=(1.0, 1.0), side='DoubleSide', skinning=True, specularMap=None, type='MeshPhongMaterial'), quaternion=(0.0, 0.0, 0.0, 1.0), scale=(1.0, 1.0, 1.0), skeleton=Skeleton(bones=(Bone(children=(Bone(children=(Bone(position=(0.0, 25.0, 0.0), quaternion=(0.0, 0.0, 0.0, 1.0), scale=(1.0, 1.0, 1.0), type='Bone', up=(0.0, 1.0, 0.0)),), position=(0.0, 25.0, 0.0), quaternion=(0.0, 0.0, 0.0, 1.0), scale=(1.0, 1.0, 1.0), type='Bone', up=(0.0, 1.0, 0.0)),), position=(0.0, -25.0, 0.0), quaternion=(0.0, 0.0, 0.0, 1.0), scale=(1.0, 1.0, 1.0), type='Bone', up=(0.0, 1.0, 0.0)), Bone(children=(Bone(position=(0.0, 25.0, 0.0), quaternion=(0.0, 0.0, 0.0, 1.0), scale=(1.0, 1.0, 1.0), type='Bone', up=(0.0, 1.0, 0.0)),), position=(0.0, 25.0, 0.0), quaternion=(0.0, 0.0, 0.0, 1.0), scale=(1.0, 1.0, 1.0), type='Bone', up=(0.0, 1.0, 0.0)), Bone(position=(0.0, 25.0, 0.0), quaternion=(0.0, 0.0, 0.0, 1.0), scale=(1.0, 1.0, 1.0), type='Bone', up=(0.0, 1.0, 0.0)))), type='SkinnedMesh', up=(0.0, 1.0, 0.0)), mixer=AnimationMixer(rootObject=SkinnedMesh(children=(Bone(children=(Bone(children=(Bone(position=(0.0, 25.0, 0.0), quaternion=(0.0, 0.0, 0.0, 1.0), scale=(1.0, 1.0, 1.0), type='Bone', up=(0.0, 1.0, 0.0)),), position=(0.0, 25.0, 0.0), quaternion=(0.0, 0.0, 0.0, 1.0), scale=(1.0, 1.0, 1.0), type='Bone', up=(0.0, 1.0, 0.0)),), position=(0.0, -25.0, 0.0), quaternion=(0.0, 0.0, 0.0, 1.0), scale=(1.0, 1.0, 1.0), type='Bone', up=(0.0, 1.0, 0.0)),), geometry=Geometry(faceVertexUvs=[[[{'x': 0, 'y': 1}, {'x': 0, 'y': 0.9333333373069763}, {'x': 0.20000000298023224, 'y': 1}], [{'x': 0, 'y': 0.9333333373069763}, {'x': 0.20000000298023224, 'y': 0.9333333373069763}, {'x': 0.20000000298023224, 'y': 1}], [{'x': 0, 'y': 0.9333333373069763}, {'x': 0, 'y': 0.8666666746139526}, {'x': 0.20000000298023224, 'y': 0.9333333373069763}], [{'x': 0, 'y': 0.8666666746139526}, {'x': 0.20000000298023224, 'y': 0.8666666746139526}, {'x': 0.20000000298023224, 'y': 0.9333333373069763}], [{'x': 0, 'y': 0.8666666746139526}, {'x': 0, 'y': 0.800000011920929}, {'x': 0.20000000298023224, 'y': 0.8666666746139526}], [{'x': 0, 'y': 0.800000011920929}, {'x': 0.20000000298023224, 'y': 0.800000011920929}, {'x': 0.20000000298023224, 'y': 0.8666666746139526}], [{'x': 0, 'y': 0.800000011920929}, {'x': 0, 'y': 0.7333333492279053}, {'x': 0.20000000298023224, 'y': 0.800000011920929}], [{'x': 0, 'y': 0.7333333492279053}, {'x': 0.20000000298023224, 'y': 0.7333333492279053}, {'x': 0.20000000298023224, 'y': 0.800000011920929}], [{'x': 0, 'y': 0.7333333492279053}, {'x': 0, 'y': 0.6666666865348816}, {'x': 0.20000000298023224, 'y': 0.7333333492279053}], [{'x': 0, 'y': 0.6666666865348816}, {'x': 0.20000000298023224, 'y': 0.6666666865348816}, {'x': 0.20000000298023224, 'y': 0.7333333492279053}], [{'x': 0, 'y': 0.6666666865348816}, {'x': 0, 'y': 0.6000000238418579}, {'x': 0.20000000298023224, 'y': 0.6666666865348816}], [{'x': 0, 'y': 0.6000000238418579}, {'x': 0.20000000298023224, 'y': 0.6000000238418579}, {'x': 0.20000000298023224, 'y': 0.6666666865348816}], [{'x': 0, 'y': 0.6000000238418579}, {'x': 0, 'y': 0.5333333611488342}, {'x': 0.20000000298023224, 'y': 0.6000000238418579}], [{'x': 0, 'y': 0.5333333611488342}, {'x': 0.20000000298023224, 'y': 0.5333333611488342}, {'x': 0.20000000298023224, 'y': 0.6000000238418579}], [{'x': 0, 'y': 0.5333333611488342}, {'x': 0, 'y': 0.46666666865348816}, {'x': 0.20000000298023224, 'y': 0.5333333611488342}], [{'x': 0, 'y': 0.46666666865348816}, {'x': 0.20000000298023224, 'y': 0.46666666865348816}, {'x': 0.20000000298023224, 'y': 0.5333333611488342}], [{'x': 0, 'y': 0.46666666865348816}, {'x': 0, 'y': 0.4000000059604645}, {'x': 0.20000000298023224, 'y': 0.46666666865348816}], [{'x': 0, 'y': 0.4000000059604645}, {'x': 0.20000000298023224, 'y': 0.4000000059604645}, {'x': 0.20000000298023224, 'y': 0.46666666865348816}], [{'x': 0, 'y': 0.4000000059604645}, {'x': 0, 'y': 0.3333333432674408}, {'x': 0.20000000298023224, 'y': 0.4000000059604645}], [{'x': 0, 'y': 0.3333333432674408}, {'x': 0.20000000298023224, 'y': 0.3333333432674408}, {'x': 0.20000000298023224, 'y': 0.4000000059604645}], [{'x': 0, 'y': 0.3333333432674408}, {'x': 0, 'y': 0.2666666805744171}, {'x': 0.20000000298023224, 'y': 0.3333333432674408}], [{'x': 0, 'y': 0.2666666805744171}, {'x': 0.20000000298023224, 'y': 0.2666666805744171}, {'x': 0.20000000298023224, 'y': 0.3333333432674408}], [{'x': 0, 'y': 0.2666666805744171}, {'x': 0, 'y': 0.20000000298023224}, {'x': 0.20000000298023224, 'y': 0.2666666805744171}], [{'x': 0, 'y': 0.20000000298023224}, {'x': 0.20000000298023224, 'y': 0.20000000298023224}, {'x': 0.20000000298023224, 'y': 0.2666666805744171}], [{'x': 0, 'y': 0.20000000298023224}, {'x': 0, 'y': 0.13333334028720856}, {'x': 0.20000000298023224, 'y': 0.20000000298023224}], [{'x': 0, 'y': 0.13333334028720856}, {'x': 0.20000000298023224, 'y': 0.13333334028720856}, {'x': 0.20000000298023224, 'y': 0.20000000298023224}], [{'x': 0, 'y': 0.13333334028720856}, {'x': 0, 'y': 0.06666667014360428}, {'x': 0.20000000298023224, 'y': 0.13333334028720856}], [{'x': 0, 'y': 0.06666667014360428}, {'x': 0.20000000298023224, 'y': 0.06666667014360428}, {'x': 0.20000000298023224, 'y': 0.13333334028720856}], [{'x': 0, 'y': 0.06666667014360428}, {'x': 0, 'y': 0}, {'x': 0.20000000298023224, 'y': 0.06666667014360428}], [{'x': 0, 'y': 0}, {'x': 0.20000000298023224, 'y': 0}, {'x': 0.20000000298023224, 'y': 0.06666667014360428}], [{'x': 0.20000000298023224, 'y': 1}, {'x': 0.20000000298023224, 'y': 0.9333333373069763}, {'x': 0.4000000059604645, 'y': 1}], [{'x': 0.20000000298023224, 'y': 0.9333333373069763}, {'x': 0.4000000059604645, 'y': 0.9333333373069763}, {'x': 0.4000000059604645, 'y': 1}], [{'x': 0.20000000298023224, 'y': 0.9333333373069763}, {'x': 0.20000000298023224, 'y': 0.8666666746139526}, {'x': 0.4000000059604645, 'y': 0.9333333373069763}], [{'x': 0.20000000298023224, 'y': 0.8666666746139526}, {'x': 0.4000000059604645, 'y': 0.8666666746139526}, {'x': 0.4000000059604645, 'y': 0.9333333373069763}], [{'x': 0.20000000298023224, 'y': 0.8666666746139526}, {'x': 0.20000000298023224, 'y': 0.800000011920929}, {'x': 0.4000000059604645, 'y': 0.8666666746139526}], [{'x': 0.20000000298023224, 'y': 0.800000011920929}, {'x': 0.4000000059604645, 'y': 0.800000011920929}, {'x': 0.4000000059604645, 'y': 0.8666666746139526}], [{'x': 0.20000000298023224, 'y': 0.800000011920929}, {'x': 0.20000000298023224, 'y': 0.7333333492279053}, {'x': 0.4000000059604645, 'y': 0.800000011920929}], [{'x': 0.20000000298023224, 'y': 0.7333333492279053}, {'x': 0.4000000059604645, 'y': 0.7333333492279053}, {'x': 0.4000000059604645, 'y': 0.800000011920929}], [{'x': 0.20000000298023224, 'y': 0.7333333492279053}, {'x': 0.20000000298023224, 'y': 0.6666666865348816}, {'x': 0.4000000059604645, 'y': 0.7333333492279053}], [{'x': 0.20000000298023224, 'y': 0.6666666865348816}, {'x': 0.4000000059604645, 'y': 0.6666666865348816}, {'x': 0.4000000059604645, 'y': 0.7333333492279053}], [{'x': 0.20000000298023224, 'y': 0.6666666865348816}, {'x': 0.20000000298023224, 'y': 0.6000000238418579}, {'x': 0.4000000059604645, 'y': 0.6666666865348816}], [{'x': 0.20000000298023224, 'y': 0.6000000238418579}, {'x': 0.4000000059604645, 'y': 0.6000000238418579}, {'x': 0.4000000059604645, 'y': 0.6666666865348816}], [{'x': 0.20000000298023224, 'y': 0.6000000238418579}, {'x': 0.20000000298023224, 'y': 0.5333333611488342}, {'x': 0.4000000059604645, 'y': 0.6000000238418579}], [{'x': 0.20000000298023224, 'y': 0.5333333611488342}, {'x': 0.4000000059604645, 'y': 0.5333333611488342}, {'x': 0.4000000059604645, 'y': 0.6000000238418579}], [{'x': 0.20000000298023224, 'y': 0.5333333611488342}, {'x': 0.20000000298023224, 'y': 0.46666666865348816}, {'x': 0.4000000059604645, 'y': 0.5333333611488342}], [{'x': 0.20000000298023224, 'y': 0.46666666865348816}, {'x': 0.4000000059604645, 'y': 0.46666666865348816}, {'x': 0.4000000059604645, 'y': 0.5333333611488342}], [{'x': 0.20000000298023224, 'y': 0.46666666865348816}, {'x': 0.20000000298023224, 'y': 0.4000000059604645}, {'x': 0.4000000059604645, 'y': 0.46666666865348816}], [{'x': 0.20000000298023224, 'y': 0.4000000059604645}, {'x': 0.4000000059604645, 'y': 0.4000000059604645}, {'x': 0.4000000059604645, 'y': 0.46666666865348816}], [{'x': 0.20000000298023224, 'y': 0.4000000059604645}, {'x': 0.20000000298023224, 'y': 0.3333333432674408}, {'x': 0.4000000059604645, 'y': 0.4000000059604645}], [{'x': 0.20000000298023224, 'y': 0.3333333432674408}, {'x': 0.4000000059604645, 'y': 0.3333333432674408}, {'x': 0.4000000059604645, 'y': 0.4000000059604645}], [{'x': 0.20000000298023224, 'y': 0.3333333432674408}, {'x': 0.20000000298023224, 'y': 0.2666666805744171}, {'x': 0.4000000059604645, 'y': 0.3333333432674408}], [{'x': 0.20000000298023224, 'y': 0.2666666805744171}, {'x': 0.4000000059604645, 'y': 0.2666666805744171}, {'x': 0.4000000059604645, 'y': 0.3333333432674408}], [{'x': 0.20000000298023224, 'y': 0.2666666805744171}, {'x': 0.20000000298023224, 'y': 0.20000000298023224}, {'x': 0.4000000059604645, 'y': 0.2666666805744171}], [{'x': 0.20000000298023224, 'y': 0.20000000298023224}, {'x': 0.4000000059604645, 'y': 0.20000000298023224}, {'x': 0.4000000059604645, 'y': 0.2666666805744171}], [{'x': 0.20000000298023224, 'y': 0.20000000298023224}, {'x': 0.20000000298023224, 'y': 0.13333334028720856}, {'x': 0.4000000059604645, 'y': 0.20000000298023224}], [{'x': 0.20000000298023224, 'y': 0.13333334028720856}, {'x': 0.4000000059604645, 'y': 0.13333334028720856}, {'x': 0.4000000059604645, 'y': 0.20000000298023224}], [{'x': 0.20000000298023224, 'y': 0.13333334028720856}, {'x': 0.20000000298023224, 'y': 0.06666667014360428}, {'x': 0.4000000059604645, 'y': 0.13333334028720856}], [{'x': 0.20000000298023224, 'y': 0.06666667014360428}, {'x': 0.4000000059604645, 'y': 0.06666667014360428}, {'x': 0.4000000059604645, 'y': 0.13333334028720856}], [{'x': 0.20000000298023224, 'y': 0.06666667014360428}, {'x': 0.20000000298023224, 'y': 0}, {'x': 0.4000000059604645, 'y': 0.06666667014360428}], [{'x': 0.20000000298023224, 'y': 0}, {'x': 0.4000000059604645, 'y': 0}, {'x': 0.4000000059604645, 'y': 0.06666667014360428}], [{'x': 0.4000000059604645, 'y': 1}, {'x': 0.4000000059604645, 'y': 0.9333333373069763}, {'x': 0.6000000238418579, 'y': 1}], [{'x': 0.4000000059604645, 'y': 0.9333333373069763}, {'x': 0.6000000238418579, 'y': 0.9333333373069763}, {'x': 0.6000000238418579, 'y': 1}], [{'x': 0.4000000059604645, 'y': 0.9333333373069763}, {'x': 0.4000000059604645, 'y': 0.8666666746139526}, {'x': 0.6000000238418579, 'y': 0.9333333373069763}], [{'x': 0.4000000059604645, 'y': 0.8666666746139526}, {'x': 0.6000000238418579, 'y': 0.8666666746139526}, {'x': 0.6000000238418579, 'y': 0.9333333373069763}], [{'x': 0.4000000059604645, 'y': 0.8666666746139526}, {'x': 0.4000000059604645, 'y': 0.800000011920929}, {'x': 0.6000000238418579, 'y': 0.8666666746139526}], [{'x': 0.4000000059604645, 'y': 0.800000011920929}, {'x': 0.6000000238418579, 'y': 0.800000011920929}, {'x': 0.6000000238418579, 'y': 0.8666666746139526}], [{'x': 0.4000000059604645, 'y': 0.800000011920929}, {'x': 0.4000000059604645, 'y': 0.7333333492279053}, {'x': 0.6000000238418579, 'y': 0.800000011920929}], [{'x': 0.4000000059604645, 'y': 0.7333333492279053}, {'x': 0.6000000238418579, 'y': 0.7333333492279053}, {'x': 0.6000000238418579, 'y': 0.800000011920929}], [{'x': 0.4000000059604645, 'y': 0.7333333492279053}, {'x': 0.4000000059604645, 'y': 0.6666666865348816}, {'x': 0.6000000238418579, 'y': 0.7333333492279053}], [{'x': 0.4000000059604645, 'y': 0.6666666865348816}, {'x': 0.6000000238418579, 'y': 0.6666666865348816}, {'x': 0.6000000238418579, 'y': 0.7333333492279053}], [{'x': 0.4000000059604645, 'y': 0.6666666865348816}, {'x': 0.4000000059604645, 'y': 0.6000000238418579}, {'x': 0.6000000238418579, 'y': 0.6666666865348816}], [{'x': 0.4000000059604645, 'y': 0.6000000238418579}, {'x': 0.6000000238418579, 'y': 0.6000000238418579}, {'x': 0.6000000238418579, 'y': 0.6666666865348816}], [{'x': 0.4000000059604645, 'y': 0.6000000238418579}, {'x': 0.4000000059604645, 'y': 0.5333333611488342}, {'x': 0.6000000238418579, 'y': 0.6000000238418579}], [{'x': 0.4000000059604645, 'y': 0.5333333611488342}, {'x': 0.6000000238418579, 'y': 0.5333333611488342}, {'x': 0.6000000238418579, 'y': 0.6000000238418579}], [{'x': 0.4000000059604645, 'y': 0.5333333611488342}, {'x': 0.4000000059604645, 'y': 0.46666666865348816}, {'x': 0.6000000238418579, 'y': 0.5333333611488342}], [{'x': 0.4000000059604645, 'y': 0.46666666865348816}, {'x': 0.6000000238418579, 'y': 0.46666666865348816}, {'x': 0.6000000238418579, 'y': 0.5333333611488342}], [{'x': 0.4000000059604645, 'y': 0.46666666865348816}, {'x': 0.4000000059604645, 'y': 0.4000000059604645}, {'x': 0.6000000238418579, 'y': 0.46666666865348816}], [{'x': 0.4000000059604645, 'y': 0.4000000059604645}, {'x': 0.6000000238418579, 'y': 0.4000000059604645}, {'x': 0.6000000238418579, 'y': 0.46666666865348816}], [{'x': 0.4000000059604645, 'y': 0.4000000059604645}, {'x': 0.4000000059604645, 'y': 0.3333333432674408}, {'x': 0.6000000238418579, 'y': 0.4000000059604645}], [{'x': 0.4000000059604645, 'y': 0.3333333432674408}, {'x': 0.6000000238418579, 'y': 0.3333333432674408}, {'x': 0.6000000238418579, 'y': 0.4000000059604645}], [{'x': 0.4000000059604645, 'y': 0.3333333432674408}, {'x': 0.4000000059604645, 'y': 0.2666666805744171}, {'x': 0.6000000238418579, 'y': 0.3333333432674408}], [{'x': 0.4000000059604645, 'y': 0.2666666805744171}, {'x': 0.6000000238418579, 'y': 0.2666666805744171}, {'x': 0.6000000238418579, 'y': 0.3333333432674408}], [{'x': 0.4000000059604645, 'y': 0.2666666805744171}, {'x': 0.4000000059604645, 'y': 0.20000000298023224}, {'x': 0.6000000238418579, 'y': 0.2666666805744171}], [{'x': 0.4000000059604645, 'y': 0.20000000298023224}, {'x': 0.6000000238418579, 'y': 0.20000000298023224}, {'x': 0.6000000238418579, 'y': 0.2666666805744171}], [{'x': 0.4000000059604645, 'y': 0.20000000298023224}, {'x': 0.4000000059604645, 'y': 0.13333334028720856}, {'x': 0.6000000238418579, 'y': 0.20000000298023224}], [{'x': 0.4000000059604645, 'y': 0.13333334028720856}, {'x': 0.6000000238418579, 'y': 0.13333334028720856}, {'x': 0.6000000238418579, 'y': 0.20000000298023224}], [{'x': 0.4000000059604645, 'y': 0.13333334028720856}, {'x': 0.4000000059604645, 'y': 0.06666667014360428}, {'x': 0.6000000238418579, 'y': 0.13333334028720856}], [{'x': 0.4000000059604645, 'y': 0.06666667014360428}, {'x': 0.6000000238418579, 'y': 0.06666667014360428}, {'x': 0.6000000238418579, 'y': 0.13333334028720856}], [{'x': 0.4000000059604645, 'y': 0.06666667014360428}, {'x': 0.4000000059604645, 'y': 0}, {'x': 0.6000000238418579, 'y': 0.06666667014360428}], [{'x': 0.4000000059604645, 'y': 0}, {'x': 0.6000000238418579, 'y': 0}, {'x': 0.6000000238418579, 'y': 0.06666667014360428}], [{'x': 0.6000000238418579, 'y': 1}, {'x': 0.6000000238418579, 'y': 0.9333333373069763}, {'x': 0.800000011920929, 'y': 1}], [{'x': 0.6000000238418579, 'y': 0.9333333373069763}, {'x': 0.800000011920929, 'y': 0.9333333373069763}, {'x': 0.800000011920929, 'y': 1}], [{'x': 0.6000000238418579, 'y': 0.9333333373069763}, {'x': 0.6000000238418579, 'y': 0.8666666746139526}, {'x': 0.800000011920929, 'y': 0.9333333373069763}], [{'x': 0.6000000238418579, 'y': 0.8666666746139526}, {'x': 0.800000011920929, 'y': 0.8666666746139526}, {'x': 0.800000011920929, 'y': 0.9333333373069763}], [{'x': 0.6000000238418579, 'y': 0.8666666746139526}, {'x': 0.6000000238418579, 'y': 0.800000011920929}, {'x': 0.800000011920929, 'y': 0.8666666746139526}], [{'x': 0.6000000238418579, 'y': 0.800000011920929}, {'x': 0.800000011920929, 'y': 0.800000011920929}, {'x': 0.800000011920929, 'y': 0.8666666746139526}], [{'x': 0.6000000238418579, 'y': 0.800000011920929}, {'x': 0.6000000238418579, 'y': 0.7333333492279053}, {'x': 0.800000011920929, 'y': 0.800000011920929}], [{'x': 0.6000000238418579, 'y': 0.7333333492279053}, {'x': 0.800000011920929, 'y': 0.7333333492279053}, {'x': 0.800000011920929, 'y': 0.800000011920929}], [{'x': 0.6000000238418579, 'y': 0.7333333492279053}, {'x': 0.6000000238418579, 'y': 0.6666666865348816}, {'x': 0.800000011920929, 'y': 0.7333333492279053}], [{'x': 0.6000000238418579, 'y': 0.6666666865348816}, {'x': 0.800000011920929, 'y': 0.6666666865348816}, {'x': 0.800000011920929, 'y': 0.7333333492279053}], [{'x': 0.6000000238418579, 'y': 0.6666666865348816}, {'x': 0.6000000238418579, 'y': 0.6000000238418579}, {'x': 0.800000011920929, 'y': 0.6666666865348816}], [{'x': 0.6000000238418579, 'y': 0.6000000238418579}, {'x': 0.800000011920929, 'y': 0.6000000238418579}, {'x': 0.800000011920929, 'y': 0.6666666865348816}], [{'x': 0.6000000238418579, 'y': 0.6000000238418579}, {'x': 0.6000000238418579, 'y': 0.5333333611488342}, {'x': 0.800000011920929, 'y': 0.6000000238418579}], [{'x': 0.6000000238418579, 'y': 0.5333333611488342}, {'x': 0.800000011920929, 'y': 0.5333333611488342}, {'x': 0.800000011920929, 'y': 0.6000000238418579}], [{'x': 0.6000000238418579, 'y': 0.5333333611488342}, {'x': 0.6000000238418579, 'y': 0.46666666865348816}, {'x': 0.800000011920929, 'y': 0.5333333611488342}], [{'x': 0.6000000238418579, 'y': 0.46666666865348816}, {'x': 0.800000011920929, 'y': 0.46666666865348816}, {'x': 0.800000011920929, 'y': 0.5333333611488342}], [{'x': 0.6000000238418579, 'y': 0.46666666865348816}, {'x': 0.6000000238418579, 'y': 0.4000000059604645}, {'x': 0.800000011920929, 'y': 0.46666666865348816}], [{'x': 0.6000000238418579, 'y': 0.4000000059604645}, {'x': 0.800000011920929, 'y': 0.4000000059604645}, {'x': 0.800000011920929, 'y': 0.46666666865348816}], [{'x': 0.6000000238418579, 'y': 0.4000000059604645}, {'x': 0.6000000238418579, 'y': 0.3333333432674408}, {'x': 0.800000011920929, 'y': 0.4000000059604645}], [{'x': 0.6000000238418579, 'y': 0.3333333432674408}, {'x': 0.800000011920929, 'y': 0.3333333432674408}, {'x': 0.800000011920929, 'y': 0.4000000059604645}], [{'x': 0.6000000238418579, 'y': 0.3333333432674408}, {'x': 0.6000000238418579, 'y': 0.2666666805744171}, {'x': 0.800000011920929, 'y': 0.3333333432674408}], [{'x': 0.6000000238418579, 'y': 0.2666666805744171}, {'x': 0.800000011920929, 'y': 0.2666666805744171}, {'x': 0.800000011920929, 'y': 0.3333333432674408}], [{'x': 0.6000000238418579, 'y': 0.2666666805744171}, {'x': 0.6000000238418579, 'y': 0.20000000298023224}, {'x': 0.800000011920929, 'y': 0.2666666805744171}], [{'x': 0.6000000238418579, 'y': 0.20000000298023224}, {'x': 0.800000011920929, 'y': 0.20000000298023224}, {'x': 0.800000011920929, 'y': 0.2666666805744171}], [{'x': 0.6000000238418579, 'y': 0.20000000298023224}, {'x': 0.6000000238418579, 'y': 0.13333334028720856}, {'x': 0.800000011920929, 'y': 0.20000000298023224}], [{'x': 0.6000000238418579, 'y': 0.13333334028720856}, {'x': 0.800000011920929, 'y': 0.13333334028720856}, {'x': 0.800000011920929, 'y': 0.20000000298023224}], [{'x': 0.6000000238418579, 'y': 0.13333334028720856}, {'x': 0.6000000238418579, 'y': 0.06666667014360428}, {'x': 0.800000011920929, 'y': 0.13333334028720856}], [{'x': 0.6000000238418579, 'y': 0.06666667014360428}, {'x': 0.800000011920929, 'y': 0.06666667014360428}, {'x': 0.800000011920929, 'y': 0.13333334028720856}], [{'x': 0.6000000238418579, 'y': 0.06666667014360428}, {'x': 0.6000000238418579, 'y': 0}, {'x': 0.800000011920929, 'y': 0.06666667014360428}], [{'x': 0.6000000238418579, 'y': 0}, {'x': 0.800000011920929, 'y': 0}, {'x': 0.800000011920929, 'y': 0.06666667014360428}], [{'x': 0.800000011920929, 'y': 1}, {'x': 0.800000011920929, 'y': 0.9333333373069763}, {'x': 1, 'y': 1}], [{'x': 0.800000011920929, 'y': 0.9333333373069763}, {'x': 1, 'y': 0.9333333373069763}, {'x': 1, 'y': 1}], [{'x': 0.800000011920929, 'y': 0.9333333373069763}, {'x': 0.800000011920929, 'y': 0.8666666746139526}, {'x': 1, 'y': 0.9333333373069763}], [{'x': 0.800000011920929, 'y': 0.8666666746139526}, {'x': 1, 'y': 0.8666666746139526}, {'x': 1, 'y': 0.9333333373069763}], [{'x': 0.800000011920929, 'y': 0.8666666746139526}, {'x': 0.800000011920929, 'y': 0.800000011920929}, {'x': 1, 'y': 0.8666666746139526}], [{'x': 0.800000011920929, 'y': 0.800000011920929}, {'x': 1, 'y': 0.800000011920929}, {'x': 1, 'y': 0.8666666746139526}], [{'x': 0.800000011920929, 'y': 0.800000011920929}, {'x': 0.800000011920929, 'y': 0.7333333492279053}, {'x': 1, 'y': 0.800000011920929}], [{'x': 0.800000011920929, 'y': 0.7333333492279053}, {'x': 1, 'y': 0.7333333492279053}, {'x': 1, 'y': 0.800000011920929}], [{'x': 0.800000011920929, 'y': 0.7333333492279053}, {'x': 0.800000011920929, 'y': 0.6666666865348816}, {'x': 1, 'y': 0.7333333492279053}], [{'x': 0.800000011920929, 'y': 0.6666666865348816}, {'x': 1, 'y': 0.6666666865348816}, {'x': 1, 'y': 0.7333333492279053}], [{'x': 0.800000011920929, 'y': 0.6666666865348816}, {'x': 0.800000011920929, 'y': 0.6000000238418579}, {'x': 1, 'y': 0.6666666865348816}], [{'x': 0.800000011920929, 'y': 0.6000000238418579}, {'x': 1, 'y': 0.6000000238418579}, {'x': 1, 'y': 0.6666666865348816}], [{'x': 0.800000011920929, 'y': 0.6000000238418579}, {'x': 0.800000011920929, 'y': 0.5333333611488342}, {'x': 1, 'y': 0.6000000238418579}], [{'x': 0.800000011920929, 'y': 0.5333333611488342}, {'x': 1, 'y': 0.5333333611488342}, {'x': 1, 'y': 0.6000000238418579}], [{'x': 0.800000011920929, 'y': 0.5333333611488342}, {'x': 0.800000011920929, 'y': 0.46666666865348816}, {'x': 1, 'y': 0.5333333611488342}], [{'x': 0.800000011920929, 'y': 0.46666666865348816}, {'x': 1, 'y': 0.46666666865348816}, {'x': 1, 'y': 0.5333333611488342}], [{'x': 0.800000011920929, 'y': 0.46666666865348816}, {'x': 0.800000011920929, 'y': 0.4000000059604645}, {'x': 1, 'y': 0.46666666865348816}], [{'x': 0.800000011920929, 'y': 0.4000000059604645}, {'x': 1, 'y': 0.4000000059604645}, {'x': 1, 'y': 0.46666666865348816}], [{'x': 0.800000011920929, 'y': 0.4000000059604645}, {'x': 0.800000011920929, 'y': 0.3333333432674408}, {'x': 1, 'y': 0.4000000059604645}], [{'x': 0.800000011920929, 'y': 0.3333333432674408}, {'x': 1, 'y': 0.3333333432674408}, {'x': 1, 'y': 0.4000000059604645}], [{'x': 0.800000011920929, 'y': 0.3333333432674408}, {'x': 0.800000011920929, 'y': 0.2666666805744171}, {'x': 1, 'y': 0.3333333432674408}], [{'x': 0.800000011920929, 'y': 0.2666666805744171}, {'x': 1, 'y': 0.2666666805744171}, {'x': 1, 'y': 0.3333333432674408}], [{'x': 0.800000011920929, 'y': 0.2666666805744171}, {'x': 0.800000011920929, 'y': 0.20000000298023224}, {'x': 1, 'y': 0.2666666805744171}], [{'x': 0.800000011920929, 'y': 0.20000000298023224}, {'x': 1, 'y': 0.20000000298023224}, {'x': 1, 'y': 0.2666666805744171}], [{'x': 0.800000011920929, 'y': 0.20000000298023224}, {'x': 0.800000011920929, 'y': 0.13333334028720856}, {'x': 1, 'y': 0.20000000298023224}], [{'x': 0.800000011920929, 'y': 0.13333334028720856}, {'x': 1, 'y': 0.13333334028720856}, {'x': 1, 'y': 0.20000000298023224}], [{'x': 0.800000011920929, 'y': 0.13333334028720856}, {'x': 0.800000011920929, 'y': 0.06666667014360428}, {'x': 1, 'y': 0.13333334028720856}], [{'x': 0.800000011920929, 'y': 0.06666667014360428}, {'x': 1, 'y': 0.06666667014360428}, {'x': 1, 'y': 0.13333334028720856}], [{'x': 0.800000011920929, 'y': 0.06666667014360428}, {'x': 0.800000011920929, 'y': 0}, {'x': 1, 'y': 0.06666667014360428}], [{'x': 0.800000011920929, 'y': 0}, {'x': 1, 'y': 0}, {'x': 1, 'y': 0.06666667014360428}]]], faces=([0, 5, 1, [0.587785268876672, 0, 0.8090169823258212], '#ffffff', 0, [[0, 0, 1], [0, 0, 1], [0.9510565400123596, 0, 0.30901700258255005]], []], [5, 6, 1, [0.587785268876672, 0, 0.8090169823258212], '#ffffff', 0, [[0, 0, 1], [0.9510565400123596, 0, 0.30901700258255005], [0.9510565400123596, 0, 0.30901700258255005]], []], [5, 10, 6, [0.5877852688766722, 0, 0.8090169823258213], '#ffffff', 0, [[0, 0, 1], [0, 0, 1], [0.9510565400123596, 0, 0.30901700258255005]], []], [10, 11, 6, [0.5877852688766722, 0, 0.8090169823258213], '#ffffff', 0, [[0, 0, 1], [0.9510565400123596, 0, 0.30901700258255005], [0.9510565400123596, 0, 0.30901700258255005]], []], [10, 15, 11, [0.587785268876672, 0, 0.8090169823258212], '#ffffff', 0, [[0, 0, 1], [0, 0, 1], [0.9510565400123596, 0, 0.30901700258255005]], []], [15, 16, 11, [0.587785268876672, 0, 0.8090169823258212], '#ffffff', 0, [[0, 0, 1], [0.9510565400123596, 0, 0.30901700258255005], [0.9510565400123596, 0, 0.30901700258255005]], []], [15, 20, 16, [0.5877852688766722, 0, 0.8090169823258213], '#ffffff', 0, [[0, 0, 1], [0, 0, 1], [0.9510565400123596, 0, 0.30901700258255005]], []], [20, 21, 16, [0.5877852688766722, 0, 0.8090169823258213], '#ffffff', 0, [[0, 0, 1], [0.9510565400123596, 0, 0.30901700258255005], [0.9510565400123596, 0, 0.30901700258255005]], []], [20, 25, 21, [0.587785268876672, 0, 0.8090169823258212], '#ffffff', 0, [[0, 0, 1], [0, 0, 1], [0.9510565400123596, 0, 0.30901700258255005]], []], [25, 26, 21, [0.587785268876672, 0, 0.8090169823258212], '#ffffff', 0, [[0, 0, 1], [0.9510565400123596, 0, 0.30901700258255005], [0.9510565400123596, 0, 0.30901700258255005]], []], [25, 30, 26, [0.5877852688766722, 0, 0.8090169823258213], '#ffffff', 0, [[0, 0, 1], [0, 0, 1], [0.9510565400123596, 0, 0.30901700258255005]], []], [30, 31, 26, [0.5877852688766722, 0, 0.8090169823258213], '#ffffff', 0, [[0, 0, 1], [0.9510565400123596, 0, 0.30901700258255005], [0.9510565400123596, 0, 0.30901700258255005]], []], [30, 35, 31, [0.5877852688766722, 0, 0.8090169823258213], '#ffffff', 0, [[0, 0, 1], [0, 0, 1], [0.9510565400123596, 0, 0.30901700258255005]], []], [35, 36, 31, [0.5877852688766722, 0, 0.8090169823258213], '#ffffff', 0, [[0, 0, 1], [0.9510565400123596, 0, 0.30901700258255005], [0.9510565400123596, 0, 0.30901700258255005]], []], [35, 40, 36, [0.5877852688766722, 0, 0.8090169823258213], '#ffffff', 0, [[0, 0, 1], [0, 0, 1], [0.9510565400123596, 0, 0.30901700258255005]], []], [40, 41, 36, [0.5877852688766722, 0, 0.8090169823258213], '#ffffff', 0, [[0, 0, 1], [0.9510565400123596, 0, 0.30901700258255005], [0.9510565400123596, 0, 0.30901700258255005]], []], [40, 45, 41, [0.5877852688766722, 0, 0.8090169823258213], '#ffffff', 0, [[0, 0, 1], [0, 0, 1], [0.9510565400123596, 0, 0.30901700258255005]], []], [45, 46, 41, [0.5877852688766722, 0, 0.8090169823258213], '#ffffff', 0, [[0, 0, 1], [0.9510565400123596, 0, 0.30901700258255005], [0.9510565400123596, 0, 0.30901700258255005]], []], [45, 50, 46, [0.5877852688766722, 0, 0.8090169823258213], '#ffffff', 0, [[0, 0, 1], [0, 0, 1], [0.9510565400123596, 0, 0.30901700258255005]], []], [50, 51, 46, [0.5877852688766722, 0, 0.8090169823258213], '#ffffff', 0, [[0, 0, 1], [0.9510565400123596, 0, 0.30901700258255005], [0.9510565400123596, 0, 0.30901700258255005]], []], [50, 55, 51, [0.587785268876672, 0, 0.8090169823258212], '#ffffff', 0, [[0, 0, 1], [0, 0, 1], [0.9510565400123596, 0, 0.30901700258255005]], []], [55, 56, 51, [0.587785268876672, 0, 0.8090169823258212], '#ffffff', 0, [[0, 0, 1], [0.9510565400123596, 0, 0.30901700258255005], [0.9510565400123596, 0, 0.30901700258255005]], []], [55, 60, 56, [0.5877852688766722, 0, 0.8090169823258213], '#ffffff', 0, [[0, 0, 1], [0, 0, 1], [0.9510565400123596, 0, 0.30901700258255005]], []], [60, 61, 56, [0.5877852688766722, 0, 0.8090169823258213], '#ffffff', 0, [[0, 0, 1], [0.9510565400123596, 0, 0.30901700258255005], [0.9510565400123596, 0, 0.30901700258255005]], []], [60, 65, 61, [0.587785268876672, 0, 0.8090169823258212], '#ffffff', 0, [[0, 0, 1], [0, 0, 1], [0.9510565400123596, 0, 0.30901700258255005]], []], [65, 66, 61, [0.587785268876672, 0, 0.8090169823258212], '#ffffff', 0, [[0, 0, 1], [0.9510565400123596, 0, 0.30901700258255005], [0.9510565400123596, 0, 0.30901700258255005]], []], [65, 70, 66, [0.5877852688766722, 0, 0.8090169823258213], '#ffffff', 0, [[0, 0, 1], [0, 0, 1], [0.9510565400123596, 0, 0.30901700258255005]], []], [70, 71, 66, [0.5877852688766722, 0, 0.8090169823258213], '#ffffff', 0, [[0, 0, 1], [0.9510565400123596, 0, 0.30901700258255005], [0.9510565400123596, 0, 0.30901700258255005]], []], [70, 75, 71, [0.587785268876672, 0, 0.8090169823258212], '#ffffff', 0, [[0, 0, 1], [0, 0, 1], [0.9510565400123596, 0, 0.30901700258255005]], []], [75, 76, 71, [0.587785268876672, 0, 0.8090169823258212], '#ffffff', 0, [[0, 0, 1], [0.9510565400123596, 0, 0.30901700258255005], [0.9510565400123596, 0, 0.30901700258255005]], []], [1, 6, 2, [0.9510565225876377, 0, -0.3090169750086719], '#ffffff', 0, [[0.9510565400123596, 0, 0.30901700258255005], [0.9510565400123596, 0, 0.30901700258255005], [0.5877852439880371, 0, -0.80901700258255]], []], [6, 7, 2, [0.9510565225876377, 0, -0.3090169750086719], '#ffffff', 0, [[0.9510565400123596, 0, 0.30901700258255005], [0.5877852439880371, 0, -0.80901700258255], [0.5877852439880371, 0, -0.80901700258255]], []], [6, 11, 7, [0.9510565225876377, 0, -0.3090169750086719], '#ffffff', 0, [[0.9510565400123596, 0, 0.30901700258255005], [0.9510565400123596, 0, 0.30901700258255005], [0.5877852439880371, 0, -0.80901700258255]], []], [11, 12, 7, [0.9510565225876377, 0, -0.3090169750086719], '#ffffff', 0, [[0.9510565400123596, 0, 0.30901700258255005], [0.5877852439880371, 0, -0.80901700258255], [0.5877852439880371, 0, -0.80901700258255]], []], [11, 16, 12, [0.9510565225876377, 0, -0.3090169750086719], '#ffffff', 0, [[0.9510565400123596, 0, 0.30901700258255005], [0.9510565400123596, 0, 0.30901700258255005], [0.5877852439880371, 0, -0.80901700258255]], []], [16, 17, 12, [0.9510565225876377, 0, -0.3090169750086719], '#ffffff', 0, [[0.9510565400123596, 0, 0.30901700258255005], [0.5877852439880371, 0, -0.80901700258255], [0.5877852439880371, 0, -0.80901700258255]], []], [16, 21, 17, [0.9510565225876376, 0, -0.3090169750086719], '#ffffff', 0, [[0.9510565400123596, 0, 0.30901700258255005], [0.9510565400123596, 0, 0.30901700258255005], [0.5877852439880371, 0, -0.80901700258255]], []], [21, 22, 17, [0.9510565225876376, 0, -0.3090169750086719], '#ffffff', 0, [[0.9510565400123596, 0, 0.30901700258255005], [0.5877852439880371, 0, -0.80901700258255], [0.5877852439880371, 0, -0.80901700258255]], []], [21, 26, 22, [0.9510565225876377, 0, -0.3090169750086719], '#ffffff', 0, [[0.9510565400123596, 0, 0.30901700258255005], [0.9510565400123596, 0, 0.30901700258255005], [0.5877852439880371, 0, -0.80901700258255]], []], [26, 27, 22, [0.9510565225876377, 0, -0.3090169750086719], '#ffffff', 0, [[0.9510565400123596, 0, 0.30901700258255005], [0.5877852439880371, 0, -0.80901700258255], [0.5877852439880371, 0, -0.80901700258255]], []], [26, 31, 27, [0.9510565225876376, 0, -0.3090169750086719], '#ffffff', 0, [[0.9510565400123596, 0, 0.30901700258255005], [0.9510565400123596, 0, 0.30901700258255005], [0.5877852439880371, 0, -0.80901700258255]], []], [31, 32, 27, [0.9510565225876376, 0, -0.3090169750086719], '#ffffff', 0, [[0.9510565400123596, 0, 0.30901700258255005], [0.5877852439880371, 0, -0.80901700258255], [0.5877852439880371, 0, -0.80901700258255]], []], [31, 36, 32, [0.9510565225876377, 0, -0.3090169750086719], '#ffffff', 0, [[0.9510565400123596, 0, 0.30901700258255005], [0.9510565400123596, 0, 0.30901700258255005], [0.5877852439880371, 0, -0.80901700258255]], []], [36, 37, 32, [0.9510565225876377, 0, -0.3090169750086719], '#ffffff', 0, [[0.9510565400123596, 0, 0.30901700258255005], [0.5877852439880371, 0, -0.80901700258255], [0.5877852439880371, 0, -0.80901700258255]], []], [36, 41, 37, [0.9510565225876377, 0, -0.3090169750086719], '#ffffff', 0, [[0.9510565400123596, 0, 0.30901700258255005], [0.9510565400123596, 0, 0.30901700258255005], [0.5877852439880371, 0, -0.80901700258255]], []], [41, 42, 37, [0.9510565225876377, 0, -0.3090169750086719], '#ffffff', 0, [[0.9510565400123596, 0, 0.30901700258255005], [0.5877852439880371, 0, -0.80901700258255], [0.5877852439880371, 0, -0.80901700258255]], []], [41, 46, 42, [0.9510565225876377, 0, -0.3090169750086719], '#ffffff', 0, [[0.9510565400123596, 0, 0.30901700258255005], [0.9510565400123596, 0, 0.30901700258255005], [0.5877852439880371, 0, -0.80901700258255]], []], [46, 47, 42, [0.9510565225876377, 0, -0.3090169750086719], '#ffffff', 0, [[0.9510565400123596, 0, 0.30901700258255005], [0.5877852439880371, 0, -0.80901700258255], [0.5877852439880371, 0, -0.80901700258255]], []], [46, 51, 47, [0.9510565225876376, 0, -0.3090169750086719], '#ffffff', 0, [[0.9510565400123596, 0, 0.30901700258255005], [0.9510565400123596, 0, 0.30901700258255005], [0.5877852439880371, 0, -0.80901700258255]], []], [51, 52, 47, [0.9510565225876376, 0, -0.3090169750086719], '#ffffff', 0, [[0.9510565400123596, 0, 0.30901700258255005], [0.5877852439880371, 0, -0.80901700258255], [0.5877852439880371, 0, -0.80901700258255]], []], [51, 56, 52, [0.9510565225876377, 0, -0.3090169750086719], '#ffffff', 0, [[0.9510565400123596, 0, 0.30901700258255005], [0.9510565400123596, 0, 0.30901700258255005], [0.5877852439880371, 0, -0.80901700258255]], []], [56, 57, 52, [0.9510565225876377, 0, -0.3090169750086719], '#ffffff', 0, [[0.9510565400123596, 0, 0.30901700258255005], [0.5877852439880371, 0, -0.80901700258255], [0.5877852439880371, 0, -0.80901700258255]], []], [56, 61, 57, [0.9510565225876376, 0, -0.3090169750086719], '#ffffff', 0, [[0.9510565400123596, 0, 0.30901700258255005], [0.9510565400123596, 0, 0.30901700258255005], [0.5877852439880371, 0, -0.80901700258255]], []], [61, 62, 57, [0.9510565225876376, 0, -0.3090169750086719], '#ffffff', 0, [[0.9510565400123596, 0, 0.30901700258255005], [0.5877852439880371, 0, -0.80901700258255], [0.5877852439880371, 0, -0.80901700258255]], []], [61, 66, 62, [0.9510565225876377, 0, -0.3090169750086719], '#ffffff', 0, [[0.9510565400123596, 0, 0.30901700258255005], [0.9510565400123596, 0, 0.30901700258255005], [0.5877852439880371, 0, -0.80901700258255]], []], [66, 67, 62, [0.9510565225876377, 0, -0.3090169750086719], '#ffffff', 0, [[0.9510565400123596, 0, 0.30901700258255005], [0.5877852439880371, 0, -0.80901700258255], [0.5877852439880371, 0, -0.80901700258255]], []], [66, 71, 67, [0.9510565225876377, 0, -0.3090169750086719], '#ffffff', 0, [[0.9510565400123596, 0, 0.30901700258255005], [0.9510565400123596, 0, 0.30901700258255005], [0.5877852439880371, 0, -0.80901700258255]], []], [71, 72, 67, [0.9510565225876377, 0, -0.3090169750086719], '#ffffff', 0, [[0.9510565400123596, 0, 0.30901700258255005], [0.5877852439880371, 0, -0.80901700258255], [0.5877852439880371, 0, -0.80901700258255]], []], [71, 76, 72, [0.9510565225876377, 0, -0.3090169750086719], '#ffffff', 0, [[0.9510565400123596, 0, 0.30901700258255005], [0.9510565400123596, 0, 0.30901700258255005], [0.5877852439880371, 0, -0.80901700258255]], []], [76, 77, 72, [0.9510565225876377, 0, -0.3090169750086719], '#ffffff', 0, [[0.9510565400123596, 0, 0.30901700258255005], [0.5877852439880371, 0, -0.80901700258255], [0.5877852439880371, 0, -0.80901700258255]], []], [2, 7, 3, [0, 0, -0.9999999999999999], '#ffffff', 0, [[0.5877852439880371, 0, -0.80901700258255], [0.5877852439880371, 0, -0.80901700258255], [-0.5877852439880371, 0, -0.80901700258255]], []], [7, 8, 3, [0, 0, -0.9999999999999999], '#ffffff', 0, [[0.5877852439880371, 0, -0.80901700258255], [-0.5877852439880371, 0, -0.80901700258255], [-0.5877852439880371, 0, -0.80901700258255]], []], [7, 12, 8, [0, 0, -1], '#ffffff', 0, [[0.5877852439880371, 0, -0.80901700258255], [0.5877852439880371, 0, -0.80901700258255], [-0.5877852439880371, 0, -0.80901700258255]], []], [12, 13, 8, [0, 0, -1], '#ffffff', 0, [[0.5877852439880371, 0, -0.80901700258255], [-0.5877852439880371, 0, -0.80901700258255], [-0.5877852439880371, 0, -0.80901700258255]], []], [12, 17, 13, [0, 0, -0.9999999999999999], '#ffffff', 0, [[0.5877852439880371, 0, -0.80901700258255], [0.5877852439880371, 0, -0.80901700258255], [-0.5877852439880371, 0, -0.80901700258255]], []], [17, 18, 13, [0, 0, -0.9999999999999999], '#ffffff', 0, [[0.5877852439880371, 0, -0.80901700258255], [-0.5877852439880371, 0, -0.80901700258255], [-0.5877852439880371, 0, -0.80901700258255]], []], [17, 22, 18, [0, 0, -1], '#ffffff', 0, [[0.5877852439880371, 0, -0.80901700258255], [0.5877852439880371, 0, -0.80901700258255], [-0.5877852439880371, 0, -0.80901700258255]], []], [22, 23, 18, [0, 0, -1], '#ffffff', 0, [[0.5877852439880371, 0, -0.80901700258255], [-0.5877852439880371, 0, -0.80901700258255], [-0.5877852439880371, 0, -0.80901700258255]], []], [22, 27, 23, [0, 0, -0.9999999999999999], '#ffffff', 0, [[0.5877852439880371, 0, -0.80901700258255], [0.5877852439880371, 0, -0.80901700258255], [-0.5877852439880371, 0, -0.80901700258255]], []], [27, 28, 23, [0, 0, -0.9999999999999999], '#ffffff', 0, [[0.5877852439880371, 0, -0.80901700258255], [-0.5877852439880371, 0, -0.80901700258255], [-0.5877852439880371, 0, -0.80901700258255]], []], [27, 32, 28, [0, 0, -1], '#ffffff', 0, [[0.5877852439880371, 0, -0.80901700258255], [0.5877852439880371, 0, -0.80901700258255], [-0.5877852439880371, 0, -0.80901700258255]], []], [32, 33, 28, [0, 0, -1], '#ffffff', 0, [[0.5877852439880371, 0, -0.80901700258255], [-0.5877852439880371, 0, -0.80901700258255], [-0.5877852439880371, 0, -0.80901700258255]], []], [32, 37, 33, [0, 0, -1], '#ffffff', 0, [[0.5877852439880371, 0, -0.80901700258255], [0.5877852439880371, 0, -0.80901700258255], [-0.5877852439880371, 0, -0.80901700258255]], []], [37, 38, 33, [0, 0, -1], '#ffffff', 0, [[0.5877852439880371, 0, -0.80901700258255], [-0.5877852439880371, 0, -0.80901700258255], [-0.5877852439880371, 0, -0.80901700258255]], []], [37, 42, 38, [0, 0, -1], '#ffffff', 0, [[0.5877852439880371, 0, -0.80901700258255], [0.5877852439880371, 0, -0.80901700258255], [-0.5877852439880371, 0, -0.80901700258255]], []], [42, 43, 38, [0, 0, -1], '#ffffff', 0, [[0.5877852439880371, 0, -0.80901700258255], [-0.5877852439880371, 0, -0.80901700258255], [-0.5877852439880371, 0, -0.80901700258255]], []], [42, 47, 43, [0, 0, -1], '#ffffff', 0, [[0.5877852439880371, 0, -0.80901700258255], [0.5877852439880371, 0, -0.80901700258255], [-0.5877852439880371, 0, -0.80901700258255]], []], [47, 48, 43, [0, 0, -1], '#ffffff', 0, [[0.5877852439880371, 0, -0.80901700258255], [-0.5877852439880371, 0, -0.80901700258255], [-0.5877852439880371, 0, -0.80901700258255]], []], [47, 52, 48, [0, 0, -1], '#ffffff', 0, [[0.5877852439880371, 0, -0.80901700258255], [0.5877852439880371, 0, -0.80901700258255], [-0.5877852439880371, 0, -0.80901700258255]], []], [52, 53, 48, [0, 0, -1], '#ffffff', 0, [[0.5877852439880371, 0, -0.80901700258255], [-0.5877852439880371, 0, -0.80901700258255], [-0.5877852439880371, 0, -0.80901700258255]], []], [52, 57, 53, [0, 0, -0.9999999999999999], '#ffffff', 0, [[0.5877852439880371, 0, -0.80901700258255], [0.5877852439880371, 0, -0.80901700258255], [-0.5877852439880371, 0, -0.80901700258255]], []], [57, 58, 53, [0, 0, -0.9999999999999999], '#ffffff', 0, [[0.5877852439880371, 0, -0.80901700258255], [-0.5877852439880371, 0, -0.80901700258255], [-0.5877852439880371, 0, -0.80901700258255]], []], [57, 62, 58, [0, 0, -1], '#ffffff', 0, [[0.5877852439880371, 0, -0.80901700258255], [0.5877852439880371, 0, -0.80901700258255], [-0.5877852439880371, 0, -0.80901700258255]], []], [62, 63, 58, [0, 0, -1], '#ffffff', 0, [[0.5877852439880371, 0, -0.80901700258255], [-0.5877852439880371, 0, -0.80901700258255], [-0.5877852439880371, 0, -0.80901700258255]], []], [62, 67, 63, [0, 0, -0.9999999999999999], '#ffffff', 0, [[0.5877852439880371, 0, -0.80901700258255], [0.5877852439880371, 0, -0.80901700258255], [-0.5877852439880371, 0, -0.80901700258255]], []], [67, 68, 63, [0, 0, -0.9999999999999999], '#ffffff', 0, [[0.5877852439880371, 0, -0.80901700258255], [-0.5877852439880371, 0, -0.80901700258255], [-0.5877852439880371, 0, -0.80901700258255]], []], [67, 72, 68, [0, 0, -1], '#ffffff', 0, [[0.5877852439880371, 0, -0.80901700258255], [0.5877852439880371, 0, -0.80901700258255], [-0.5877852439880371, 0, -0.80901700258255]], []], [72, 73, 68, [0, 0, -1], '#ffffff', 0, [[0.5877852439880371, 0, -0.80901700258255], [-0.5877852439880371, 0, -0.80901700258255], [-0.5877852439880371, 0, -0.80901700258255]], []], [72, 77, 73, [0, 0, -0.9999999999999999], '#ffffff', 0, [[0.5877852439880371, 0, -0.80901700258255], [0.5877852439880371, 0, -0.80901700258255], [-0.5877852439880371, 0, -0.80901700258255]], []], [77, 78, 73, [0, 0, -0.9999999999999999], '#ffffff', 0, [[0.5877852439880371, 0, -0.80901700258255], [-0.5877852439880371, 0, -0.80901700258255], [-0.5877852439880371, 0, -0.80901700258255]], []], [3, 8, 4, [-0.9510565225876377, 0, -0.3090169750086719], '#ffffff', 0, [[-0.5877852439880371, 0, -0.80901700258255], [-0.5877852439880371, 0, -0.80901700258255], [-0.9510565400123596, 0, 0.30901700258255005]], []], [8, 9, 4, [-0.9510565225876377, 0, -0.3090169750086719], '#ffffff', 0, [[-0.5877852439880371, 0, -0.80901700258255], [-0.9510565400123596, 0, 0.30901700258255005], [-0.9510565400123596, 0, 0.30901700258255005]], []], [8, 13, 9, [-0.9510565225876377, 0, -0.3090169750086719], '#ffffff', 0, [[-0.5877852439880371, 0, -0.80901700258255], [-0.5877852439880371, 0, -0.80901700258255], [-0.9510565400123596, 0, 0.30901700258255005]], []], [13, 14, 9, [-0.9510565225876377, 0, -0.3090169750086719], '#ffffff', 0, [[-0.5877852439880371, 0, -0.80901700258255], [-0.9510565400123596, 0, 0.30901700258255005], [-0.9510565400123596, 0, 0.30901700258255005]], []], [13, 18, 14, [-0.9510565225876377, 0, -0.3090169750086719], '#ffffff', 0, [[-0.5877852439880371, 0, -0.80901700258255], [-0.5877852439880371, 0, -0.80901700258255], [-0.9510565400123596, 0, 0.30901700258255005]], []], [18, 19, 14, [-0.9510565225876377, 0, -0.3090169750086719], '#ffffff', 0, [[-0.5877852439880371, 0, -0.80901700258255], [-0.9510565400123596, 0, 0.30901700258255005], [-0.9510565400123596, 0, 0.30901700258255005]], []], [18, 23, 19, [-0.9510565225876376, 0, -0.3090169750086719], '#ffffff', 0, [[-0.5877852439880371, 0, -0.80901700258255], [-0.5877852439880371, 0, -0.80901700258255], [-0.9510565400123596, 0, 0.30901700258255005]], []], [23, 24, 19, [-0.9510565225876376, 0, -0.3090169750086719], '#ffffff', 0, [[-0.5877852439880371, 0, -0.80901700258255], [-0.9510565400123596, 0, 0.30901700258255005], [-0.9510565400123596, 0, 0.30901700258255005]], []], [23, 28, 24, [-0.9510565225876377, 0, -0.3090169750086719], '#ffffff', 0, [[-0.5877852439880371, 0, -0.80901700258255], [-0.5877852439880371, 0, -0.80901700258255], [-0.9510565400123596, 0, 0.30901700258255005]], []], [28, 29, 24, [-0.9510565225876377, 0, -0.3090169750086719], '#ffffff', 0, [[-0.5877852439880371, 0, -0.80901700258255], [-0.9510565400123596, 0, 0.30901700258255005], [-0.9510565400123596, 0, 0.30901700258255005]], []], [28, 33, 29, [-0.9510565225876376, 0, -0.3090169750086719], '#ffffff', 0, [[-0.5877852439880371, 0, -0.80901700258255], [-0.5877852439880371, 0, -0.80901700258255], [-0.9510565400123596, 0, 0.30901700258255005]], []], [33, 34, 29, [-0.9510565225876376, 0, -0.3090169750086719], '#ffffff', 0, [[-0.5877852439880371, 0, -0.80901700258255], [-0.9510565400123596, 0, 0.30901700258255005], [-0.9510565400123596, 0, 0.30901700258255005]], []], [33, 38, 34, [-0.9510565225876377, 0, -0.3090169750086719], '#ffffff', 0, [[-0.5877852439880371, 0, -0.80901700258255], [-0.5877852439880371, 0, -0.80901700258255], [-0.9510565400123596, 0, 0.30901700258255005]], []], [38, 39, 34, [-0.9510565225876377, 0, -0.3090169750086719], '#ffffff', 0, [[-0.5877852439880371, 0, -0.80901700258255], [-0.9510565400123596, 0, 0.30901700258255005], [-0.9510565400123596, 0, 0.30901700258255005]], []], [38, 43, 39, [-0.9510565225876377, 0, -0.3090169750086719], '#ffffff', 0, [[-0.5877852439880371, 0, -0.80901700258255], [-0.5877852439880371, 0, -0.80901700258255], [-0.9510565400123596, 0, 0.30901700258255005]], []], [43, 44, 39, [-0.9510565225876377, 0, -0.3090169750086719], '#ffffff', 0, [[-0.5877852439880371, 0, -0.80901700258255], [-0.9510565400123596, 0, 0.30901700258255005], [-0.9510565400123596, 0, 0.30901700258255005]], []], [43, 48, 44, [-0.9510565225876377, 0, -0.3090169750086719], '#ffffff', 0, [[-0.5877852439880371, 0, -0.80901700258255], [-0.5877852439880371, 0, -0.80901700258255], [-0.9510565400123596, 0, 0.30901700258255005]], []], [48, 49, 44, [-0.9510565225876377, 0, -0.3090169750086719], '#ffffff', 0, [[-0.5877852439880371, 0, -0.80901700258255], [-0.9510565400123596, 0, 0.30901700258255005], [-0.9510565400123596, 0, 0.30901700258255005]], []], [48, 53, 49, [-0.9510565225876376, 0, -0.3090169750086719], '#ffffff', 0, [[-0.5877852439880371, 0, -0.80901700258255], [-0.5877852439880371, 0, -0.80901700258255], [-0.9510565400123596, 0, 0.30901700258255005]], []], [53, 54, 49, [-0.9510565225876376, 0, -0.3090169750086719], '#ffffff', 0, [[-0.5877852439880371, 0, -0.80901700258255], [-0.9510565400123596, 0, 0.30901700258255005], [-0.9510565400123596, 0, 0.30901700258255005]], []], [53, 58, 54, [-0.9510565225876377, 0, -0.3090169750086719], '#ffffff', 0, [[-0.5877852439880371, 0, -0.80901700258255], [-0.5877852439880371, 0, -0.80901700258255], [-0.9510565400123596, 0, 0.30901700258255005]], []], [58, 59, 54, [-0.9510565225876377, 0, -0.3090169750086719], '#ffffff', 0, [[-0.5877852439880371, 0, -0.80901700258255], [-0.9510565400123596, 0, 0.30901700258255005], [-0.9510565400123596, 0, 0.30901700258255005]], []], [58, 63, 59, [-0.9510565225876376, 0, -0.3090169750086719], '#ffffff', 0, [[-0.5877852439880371, 0, -0.80901700258255], [-0.5877852439880371, 0, -0.80901700258255], [-0.9510565400123596, 0, 0.30901700258255005]], []], [63, 64, 59, [-0.9510565225876376, 0, -0.3090169750086719], '#ffffff', 0, [[-0.5877852439880371, 0, -0.80901700258255], [-0.9510565400123596, 0, 0.30901700258255005], [-0.9510565400123596, 0, 0.30901700258255005]], []], [63, 68, 64, [-0.9510565225876377, 0, -0.3090169750086719], '#ffffff', 0, [[-0.5877852439880371, 0, -0.80901700258255], [-0.5877852439880371, 0, -0.80901700258255], [-0.9510565400123596, 0, 0.30901700258255005]], []], [68, 69, 64, [-0.9510565225876377, 0, -0.3090169750086719], '#ffffff', 0, [[-0.5877852439880371, 0, -0.80901700258255], [-0.9510565400123596, 0, 0.30901700258255005], [-0.9510565400123596, 0, 0.30901700258255005]], []], [68, 73, 69, [-0.9510565225876377, 0, -0.3090169750086719], '#ffffff', 0, [[-0.5877852439880371, 0, -0.80901700258255], [-0.5877852439880371, 0, -0.80901700258255], [-0.9510565400123596, 0, 0.30901700258255005]], []], [73, 74, 69, [-0.9510565225876377, 0, -0.3090169750086719], '#ffffff', 0, [[-0.5877852439880371, 0, -0.80901700258255], [-0.9510565400123596, 0, 0.30901700258255005], [-0.9510565400123596, 0, 0.30901700258255005]], []], [73, 78, 74, [-0.9510565225876377, 0, -0.3090169750086719], '#ffffff', 0, [[-0.5877852439880371, 0, -0.80901700258255], [-0.5877852439880371, 0, -0.80901700258255], [-0.9510565400123596, 0, 0.30901700258255005]], []], [78, 79, 74, [-0.9510565225876377, 0, -0.3090169750086719], '#ffffff', 0, [[-0.5877852439880371, 0, -0.80901700258255], [-0.9510565400123596, 0, 0.30901700258255005], [-0.9510565400123596, 0, 0.30901700258255005]], []], [4, 9, 0, [-0.5877852688766722, 0, 0.8090169823258212], '#ffffff', 0, [[-0.9510565400123596, 0, 0.30901700258255005], [-0.9510565400123596, 0, 0.30901700258255005], [-2.4492937051703357e-16, 0, 1]], []], [9, 5, 0, [-0.5877852688766722, 0, 0.8090169823258212], '#ffffff', 0, [[-0.9510565400123596, 0, 0.30901700258255005], [-2.4492937051703357e-16, 0, 1], [-2.4492937051703357e-16, 0, 1]], []], [9, 14, 5, [-0.5877852688766722, 0, 0.8090169823258212], '#ffffff', 0, [[-0.9510565400123596, 0, 0.30901700258255005], [-0.9510565400123596, 0, 0.30901700258255005], [-2.4492937051703357e-16, 0, 1]], []], [14, 10, 5, [-0.5877852688766722, 0, 0.8090169823258212], '#ffffff', 0, [[-0.9510565400123596, 0, 0.30901700258255005], [-2.4492937051703357e-16, 0, 1], [-2.4492937051703357e-16, 0, 1]], []], [14, 19, 10, [-0.5877852688766722, 0, 0.8090169823258212], '#ffffff', 0, [[-0.9510565400123596, 0, 0.30901700258255005], [-0.9510565400123596, 0, 0.30901700258255005], [-2.4492937051703357e-16, 0, 1]], []], [19, 15, 10, [-0.5877852688766722, 0, 0.8090169823258212], '#ffffff', 0, [[-0.9510565400123596, 0, 0.30901700258255005], [-2.4492937051703357e-16, 0, 1], [-2.4492937051703357e-16, 0, 1]], []], [19, 24, 15, [-0.5877852688766723, 0, 0.8090169823258213], '#ffffff', 0, [[-0.9510565400123596, 0, 0.30901700258255005], [-0.9510565400123596, 0, 0.30901700258255005], [-2.4492937051703357e-16, 0, 1]], []], [24, 20, 15, [-0.5877852688766723, 0, 0.8090169823258213], '#ffffff', 0, [[-0.9510565400123596, 0, 0.30901700258255005], [-2.4492937051703357e-16, 0, 1], [-2.4492937051703357e-16, 0, 1]], []], [24, 29, 20, [-0.5877852688766722, 0, 0.8090169823258212], '#ffffff', 0, [[-0.9510565400123596, 0, 0.30901700258255005], [-0.9510565400123596, 0, 0.30901700258255005], [-2.4492937051703357e-16, 0, 1]], []], [29, 25, 20, [-0.5877852688766722, 0, 0.8090169823258212], '#ffffff', 0, [[-0.9510565400123596, 0, 0.30901700258255005], [-2.4492937051703357e-16, 0, 1], [-2.4492937051703357e-16, 0, 1]], []], [29, 34, 25, [-0.5877852688766723, 0, 0.8090169823258213], '#ffffff', 0, [[-0.9510565400123596, 0, 0.30901700258255005], [-0.9510565400123596, 0, 0.30901700258255005], [-2.4492937051703357e-16, 0, 1]], []], [34, 30, 25, [-0.5877852688766723, 0, 0.8090169823258213], '#ffffff', 0, [[-0.9510565400123596, 0, 0.30901700258255005], [-2.4492937051703357e-16, 0, 1], [-2.4492937051703357e-16, 0, 1]], []], [34, 39, 30, [-0.5877852688766722, 0, 0.8090169823258212], '#ffffff', 0, [[-0.9510565400123596, 0, 0.30901700258255005], [-0.9510565400123596, 0, 0.30901700258255005], [-2.4492937051703357e-16, 0, 1]], []], [39, 35, 30, [-0.5877852688766722, 0, 0.8090169823258212], '#ffffff', 0, [[-0.9510565400123596, 0, 0.30901700258255005], [-2.4492937051703357e-16, 0, 1], [-2.4492937051703357e-16, 0, 1]], []], [39, 44, 35, [-0.5877852688766722, 0, 0.8090169823258212], '#ffffff', 0, [[-0.9510565400123596, 0, 0.30901700258255005], [-0.9510565400123596, 0, 0.30901700258255005], [-2.4492937051703357e-16, 0, 1]], []], [44, 40, 35, [-0.5877852688766722, 0, 0.8090169823258212], '#ffffff', 0, [[-0.9510565400123596, 0, 0.30901700258255005], [-2.4492937051703357e-16, 0, 1], [-2.4492937051703357e-16, 0, 1]], []], [44, 49, 40, [-0.5877852688766722, 0, 0.8090169823258212], '#ffffff', 0, [[-0.9510565400123596, 0, 0.30901700258255005], [-0.9510565400123596, 0, 0.30901700258255005], [-2.4492937051703357e-16, 0, 1]], []], [49, 45, 40, [-0.5877852688766722, 0, 0.8090169823258212], '#ffffff', 0, [[-0.9510565400123596, 0, 0.30901700258255005], [-2.4492937051703357e-16, 0, 1], [-2.4492937051703357e-16, 0, 1]], []], [49, 54, 45, [-0.5877852688766723, 0, 0.8090169823258213], '#ffffff', 0, [[-0.9510565400123596, 0, 0.30901700258255005], [-0.9510565400123596, 0, 0.30901700258255005], [-2.4492937051703357e-16, 0, 1]], []], [54, 50, 45, [-0.5877852688766723, 0, 0.8090169823258213], '#ffffff', 0, [[-0.9510565400123596, 0, 0.30901700258255005], [-2.4492937051703357e-16, 0, 1], [-2.4492937051703357e-16, 0, 1]], []], [54, 59, 50, [-0.5877852688766722, 0, 0.8090169823258212], '#ffffff', 0, [[-0.9510565400123596, 0, 0.30901700258255005], [-0.9510565400123596, 0, 0.30901700258255005], [-2.4492937051703357e-16, 0, 1]], []], [59, 55, 50, [-0.5877852688766722, 0, 0.8090169823258212], '#ffffff', 0, [[-0.9510565400123596, 0, 0.30901700258255005], [-2.4492937051703357e-16, 0, 1], [-2.4492937051703357e-16, 0, 1]], []], [59, 64, 55, [-0.5877852688766723, 0, 0.8090169823258213], '#ffffff', 0, [[-0.9510565400123596, 0, 0.30901700258255005], [-0.9510565400123596, 0, 0.30901700258255005], [-2.4492937051703357e-16, 0, 1]], []], [64, 60, 55, [-0.5877852688766723, 0, 0.8090169823258213], '#ffffff', 0, [[-0.9510565400123596, 0, 0.30901700258255005], [-2.4492937051703357e-16, 0, 1], [-2.4492937051703357e-16, 0, 1]], []], [64, 69, 60, [-0.5877852688766722, 0, 0.8090169823258212], '#ffffff', 0, [[-0.9510565400123596, 0, 0.30901700258255005], [-0.9510565400123596, 0, 0.30901700258255005], [-2.4492937051703357e-16, 0, 1]], []], [69, 65, 60, [-0.5877852688766722, 0, 0.8090169823258212], '#ffffff', 0, [[-0.9510565400123596, 0, 0.30901700258255005], [-2.4492937051703357e-16, 0, 1], [-2.4492937051703357e-16, 0, 1]], []], [69, 74, 65, [-0.5877852688766722, 0, 0.8090169823258212], '#ffffff', 0, [[-0.9510565400123596, 0, 0.30901700258255005], [-0.9510565400123596, 0, 0.30901700258255005], [-2.4492937051703357e-16, 0, 1]], []], [74, 70, 65, [-0.5877852688766722, 0, 0.8090169823258212], '#ffffff', 0, [[-0.9510565400123596, 0, 0.30901700258255005], [-2.4492937051703357e-16, 0, 1], [-2.4492937051703357e-16, 0, 1]], []], [74, 79, 70, [-0.5877852688766722, 0, 0.8090169823258212], '#ffffff', 0, [[-0.9510565400123596, 0, 0.30901700258255005], [-0.9510565400123596, 0, 0.30901700258255005], [-2.4492937051703357e-16, 0, 1]], []], [79, 75, 70, [-0.5877852688766722, 0, 0.8090169823258212], '#ffffff', 0, [[-0.9510565400123596, 0, 0.30901700258255005], [-2.4492937051703357e-16, 0, 1], [-2.4492937051703357e-16, 0, 1]], []]), skinIndices=[[2.0, 3.0, 0, 0], [2.0, 3.0, 0, 0], [2.0, 3.0, 0, 0], [2.0, 3.0, 0, 0], [2.0, 3.0, 0, 0], [1.0, 2.0, 0, 0], [1.0, 2.0, 0, 0], [1.0, 2.0, 0, 0], [1.0, 2.0, 0, 0], [1.0, 2.0, 0, 0], [1.0, 2.0, 0, 0], [1.0, 2.0, 0, 0], [1.0, 2.0, 0, 0], [1.0, 2.0, 0, 0], [1.0, 2.0, 0, 0], [1.0, 2.0, 0, 0], [1.0, 2.0, 0, 0], [1.0, 2.0, 0, 0], [1.0, 2.0, 0, 0], [1.0, 2.0, 0, 0], [1.0, 2.0, 0, 0], [1.0, 2.0, 0, 0], [1.0, 2.0, 0, 0], [1.0, 2.0, 0, 0], [1.0, 2.0, 0, 0], [1.0, 2.0, 0, 0], [1.0, 2.0, 0, 0], [1.0, 2.0, 0, 0], [1.0, 2.0, 0, 0], [1.0, 2.0, 0, 0], [1.0, 2.0, 0, 0], [1.0, 2.0, 0, 0], [1.0, 2.0, 0, 0], [1.0, 2.0, 0, 0], [1.0, 2.0, 0, 0], [1.0, 2.0, 0, 0], [1.0, 2.0, 0, 0], [1.0, 2.0, 0, 0], [1.0, 2.0, 0, 0], [1.0, 2.0, 0, 0], [0.0, 1.0, 0, 0], [0.0, 1.0, 0, 0], [0.0, 1.0, 0, 0], [0.0, 1.0, 0, 0], [0.0, 1.0, 0, 0], [0.0, 1.0, 0, 0], [0.0, 1.0, 0, 0], [0.0, 1.0, 0, 0], [0.0, 1.0, 0, 0], [0.0, 1.0, 0, 0], [0.0, 1.0, 0, 0], [0.0, 1.0, 0, 0], [0.0, 1.0, 0, 0], [0.0, 1.0, 0, 0], [0.0, 1.0, 0, 0], [0.0, 1.0, 0, 0], [0.0, 1.0, 0, 0], [0.0, 1.0, 0, 0], [0.0, 1.0, 0, 0], [0.0, 1.0, 0, 0], [0.0, 1.0, 0, 0], [0.0, 1.0, 0, 0], [0.0, 1.0, 0, 0], [0.0, 1.0, 0, 0], [0.0, 1.0, 0, 0], [0.0, 1.0, 0, 0], [0.0, 1.0, 0, 0], [0.0, 1.0, 0, 0], [0.0, 1.0, 0, 0], [0.0, 1.0, 0, 0], [0.0, 1.0, 0, 0], [0.0, 1.0, 0, 0], [0.0, 1.0, 0, 0], [0.0, 1.0, 0, 0], [0.0, 1.0, 0, 0], [0.0, 1.0, 0, 0], [0.0, 1.0, 0, 0], [0.0, 1.0, 0, 0], [0.0, 1.0, 0, 0], [0.0, 1.0, 0, 0]], skinWeights=[[1.0, 0.0, 0, 0], [1.0, 0.0, 0, 0], [1.0, 0.0, 0, 0], [1.0, 0.0, 0, 0], [1.0, 0.0, 0, 0], [0.13333335876464847, 0.8666666412353515, 0, 0], [0.13333335876464847, 0.8666666412353515, 0, 0], [0.13333335876464847, 0.8666666412353515, 0, 0], [0.13333335876464847, 0.8666666412353515, 0, 0], [0.13333335876464847, 0.8666666412353515, 0, 0], [0.26666664123535155, 0.7333333587646484, 0, 0], [0.26666664123535155, 0.7333333587646484, 0, 0], [0.26666664123535155, 0.7333333587646484, 0, 0], [0.26666664123535155, 0.7333333587646484, 0, 0], [0.26666664123535155, 0.7333333587646484, 0, 0], [0.4, 0.6, 0, 0], [0.4, 0.6, 0, 0], [0.4, 0.6, 0, 0], [0.4, 0.6, 0, 0], [0.4, 0.6, 0, 0], [0.5333333206176758, 0.4666666793823242, 0, 0], [0.5333333206176758, 0.4666666793823242, 0, 0], [0.5333333206176758, 0.4666666793823242, 0, 0], [0.5333333206176758, 0.4666666793823242, 0, 0], [0.5333333206176758, 0.4666666793823242, 0, 0], [0.6666666793823242, 0.3333333206176758, 0, 0], [0.6666666793823242, 0.3333333206176758, 0, 0], [0.6666666793823242, 0.3333333206176758, 0, 0], [0.6666666793823242, 0.3333333206176758, 0, 0], [0.6666666793823242, 0.3333333206176758, 0, 0], [0.8, 0.2, 0, 0], [0.8, 0.2, 0, 0], [0.8, 0.2, 0, 0], [0.8, 0.2, 0, 0], [0.8, 0.2, 0, 0], [0.9333333349227906, 0.06666666507720947, 0, 0], [0.9333333349227906, 0.06666666507720947, 0, 0], [0.9333333349227906, 0.06666666507720947, 0, 0], [0.9333333349227906, 0.06666666507720947, 0, 0], [0.9333333349227906, 0.06666666507720947, 0, 0], [0.06666666507720942, 0.9333333349227906, 0, 0], [0.06666666507720942, 0.9333333349227906, 0, 0], [0.06666666507720942, 0.9333333349227906, 0, 0], [0.06666666507720942, 0.9333333349227906, 0, 0], [0.06666666507720942, 0.9333333349227906, 0, 0], [0.19999999999999996, 0.8, 0, 0], [0.19999999999999996, 0.8, 0, 0], [0.19999999999999996, 0.8, 0, 0], [0.19999999999999996, 0.8, 0, 0], [0.19999999999999996, 0.8, 0, 0], [0.33333332061767573, 0.6666666793823243, 0, 0], [0.33333332061767573, 0.6666666793823243, 0, 0], [0.33333332061767573, 0.6666666793823243, 0, 0], [0.33333332061767573, 0.6666666793823243, 0, 0], [0.33333332061767573, 0.6666666793823243, 0, 0], [0.4666666793823242, 0.5333333206176758, 0, 0], [0.4666666793823242, 0.5333333206176758, 0, 0], [0.4666666793823242, 0.5333333206176758, 0, 0], [0.4666666793823242, 0.5333333206176758, 0, 0], [0.4666666793823242, 0.5333333206176758, 0, 0], [0.6, 0.4, 0, 0], [0.6, 0.4, 0, 0], [0.6, 0.4, 0, 0], [0.6, 0.4, 0, 0], [0.6, 0.4, 0, 0], [0.7333333587646484, 0.26666664123535155, 0, 0], [0.7333333587646484, 0.26666664123535155, 0, 0], [0.7333333587646484, 0.26666664123535155, 0, 0], [0.7333333587646484, 0.26666664123535155, 0, 0], [0.7333333587646484, 0.26666664123535155, 0, 0], [0.8666666412353515, 0.13333335876464844, 0, 0], [0.8666666412353515, 0.13333335876464844, 0, 0], [0.8666666412353515, 0.13333335876464844, 0, 0], [0.8666666412353515, 0.13333335876464844, 0, 0], [0.8666666412353515, 0.13333335876464844, 0, 0], [1.0, 0.0, 0, 0], [1.0, 0.0, 0, 0], [1.0, 0.0, 0, 0], [1.0, 0.0, 0, 0], [1.0, 0.0, 0, 0]], type='Geometry', vertices=[[0, 25, 5], [4.755282402038574, 25, 1.5450849533081055], [2.9389262199401855, 25, -4.0450849533081055], [-2.9389262199401855, 25, -4.0450849533081055], [-4.755282402038574, 25, 1.5450849533081055], [0, 21.66666603088379, 5], [4.755282402038574, 21.66666603088379, 1.5450849533081055], [2.9389262199401855, 21.66666603088379, -4.0450849533081055], [-2.9389262199401855, 21.66666603088379, -4.0450849533081055], [-4.755282402038574, 21.66666603088379, 1.5450849533081055], [0, 18.33333396911621, 5], [4.755282402038574, 18.33333396911621, 1.5450849533081055], [2.9389262199401855, 18.33333396911621, -4.0450849533081055], [-2.9389262199401855, 18.33333396911621, -4.0450849533081055], [-4.755282402038574, 18.33333396911621, 1.5450849533081055], [0, 15, 5], [4.755282402038574, 15, 1.5450849533081055], [2.9389262199401855, 15, -4.0450849533081055], [-2.9389262199401855, 15, -4.0450849533081055], [-4.755282402038574, 15, 1.5450849533081055], [0, 11.666666984558105, 5], [4.755282402038574, 11.666666984558105, 1.5450849533081055], [2.9389262199401855, 11.666666984558105, -4.0450849533081055], [-2.9389262199401855, 11.666666984558105, -4.0450849533081055], [-4.755282402038574, 11.666666984558105, 1.5450849533081055], [0, 8.333333015441895, 5], [4.755282402038574, 8.333333015441895, 1.5450849533081055], [2.9389262199401855, 8.333333015441895, -4.0450849533081055], [-2.9389262199401855, 8.333333015441895, -4.0450849533081055], [-4.755282402038574, 8.333333015441895, 1.5450849533081055], [0, 5, 5], [4.755282402038574, 5, 1.5450849533081055], [2.9389262199401855, 5, -4.0450849533081055], [-2.9389262199401855, 5, -4.0450849533081055], [-4.755282402038574, 5, 1.5450849533081055], [0, 1.6666666269302368, 5], [4.755282402038574, 1.6666666269302368, 1.5450849533081055], [2.9389262199401855, 1.6666666269302368, -4.0450849533081055], [-2.9389262199401855, 1.6666666269302368, -4.0450849533081055], [-4.755282402038574, 1.6666666269302368, 1.5450849533081055], [0, -1.6666666269302368, 5], [4.755282402038574, -1.6666666269302368, 1.5450849533081055], [2.9389262199401855, -1.6666666269302368, -4.0450849533081055], [-2.9389262199401855, -1.6666666269302368, -4.0450849533081055], [-4.755282402038574, -1.6666666269302368, 1.5450849533081055], [0, -5, 5], [4.755282402038574, -5, 1.5450849533081055], [2.9389262199401855, -5, -4.0450849533081055], [-2.9389262199401855, -5, -4.0450849533081055], [-4.755282402038574, -5, 1.5450849533081055], [0, -8.333333015441895, 5], [4.755282402038574, -8.333333015441895, 1.5450849533081055], [2.9389262199401855, -8.333333015441895, -4.0450849533081055], [-2.9389262199401855, -8.333333015441895, -4.0450849533081055], [-4.755282402038574, -8.333333015441895, 1.5450849533081055], [0, -11.666666984558105, 5], [4.755282402038574, -11.666666984558105, 1.5450849533081055], [2.9389262199401855, -11.666666984558105, -4.0450849533081055], [-2.9389262199401855, -11.666666984558105, -4.0450849533081055], [-4.755282402038574, -11.666666984558105, 1.5450849533081055], [0, -15, 5], [4.755282402038574, -15, 1.5450849533081055], [2.9389262199401855, -15, -4.0450849533081055], [-2.9389262199401855, -15, -4.0450849533081055], [-4.755282402038574, -15, 1.5450849533081055], [0, -18.33333396911621, 5], [4.755282402038574, -18.33333396911621, 1.5450849533081055], [2.9389262199401855, -18.33333396911621, -4.0450849533081055], [-2.9389262199401855, -18.33333396911621, -4.0450849533081055], [-4.755282402038574, -18.33333396911621, 1.5450849533081055], [0, -21.66666603088379, 5], [4.755282402038574, -21.66666603088379, 1.5450849533081055], [2.9389262199401855, -21.66666603088379, -4.0450849533081055], [-2.9389262199401855, -21.66666603088379, -4.0450849533081055], [-4.755282402038574, -21.66666603088379, 1.5450849533081055], [0, -25, 5], [4.755282402038574, -25, 1.5450849533081055], [2.9389262199401855, -25, -4.0450849533081055], [-2.9389262199401855, -25, -4.0450849533081055], [-4.755282402038574, -25, 1.5450849533081055]]), material=MeshPhongMaterial(alphaMap=None, aoMap=None, bumpMap=None, displacementMap=None, emissiveMap=None, envMap=None, lightMap=None, map=None, normalMap=None, normalScale=(1.0, 1.0), side='DoubleSide', skinning=True, specularMap=None, type='MeshPhongMaterial'), quaternion=(0.0, 0.0, 0.0, 1.0), scale=(1.0, 1.0, 1.0), skeleton=Skeleton(bones=(Bone(children=(Bone(children=(Bone(position=(0.0, 25.0, 0.0), quaternion=(0.0, 0.0, 0.0, 1.0), scale=(1.0, 1.0, 1.0), type='Bone', up=(0.0, 1.0, 0.0)),), position=(0.0, 25.0, 0.0), quaternion=(0.0, 0.0, 0.0, 1.0), scale=(1.0, 1.0, 1.0), type='Bone', up=(0.0, 1.0, 0.0)),), position=(0.0, -25.0, 0.0), quaternion=(0.0, 0.0, 0.0, 1.0), scale=(1.0, 1.0, 1.0), type='Bone', up=(0.0, 1.0, 0.0)), Bone(children=(Bone(position=(0.0, 25.0, 0.0), quaternion=(0.0, 0.0, 0.0, 1.0), scale=(1.0, 1.0, 1.0), type='Bone', up=(0.0, 1.0, 0.0)),), position=(0.0, 25.0, 0.0), quaternion=(0.0, 0.0, 0.0, 1.0), scale=(1.0, 1.0, 1.0), type='Bone', up=(0.0, 1.0, 0.0)), Bone(position=(0.0, 25.0, 0.0), quaternion=(0.0, 0.0, 0.0, 1.0), scale=(1.0, 1.0, 1.0), type='Bone', up=(0.0, 1.0, 0.0)))), type='SkinnedMesh', up=(0.0, 1.0, 0.0))))"
      ]
     },
     "metadata": {},
     "output_type": "display_data"
    }
   ],
   "source": [
    "bend_action"
   ]
  },
  {
   "cell_type": "code",
   "execution_count": 25,
   "metadata": {},
   "outputs": [
    {
     "data": {
      "application/vnd.jupyter.widget-view+json": {
       "model_id": "644ebc8fc50b4449915e22f5ede8a23e",
       "version_major": 2,
       "version_minor": 0
      },
      "text/html": [
       "<p>Failed to display Jupyter Widget of type <code>AnimationAction</code>.</p>\n",
       "<p>\n",
       "  If you're reading this message in the Jupyter Notebook or JupyterLab Notebook, it may mean\n",
       "  that the widgets JavaScript is still loading. If this message persists, it\n",
       "  likely means that the widgets JavaScript library is either not installed or\n",
       "  not enabled. See the <a href=\"https://ipywidgets.readthedocs.io/en/stable/user_install.html\">Jupyter\n",
       "  Widgets Documentation</a> for setup instructions.\n",
       "</p>\n",
       "<p>\n",
       "  If you're reading this message in another frontend (for example, a static\n",
       "  rendering on GitHub or <a href=\"https://nbviewer.jupyter.org/\">NBViewer</a>),\n",
       "  it may mean that your frontend doesn't currently support widgets.\n",
       "</p>\n"
      ],
      "text/plain": [
       "AnimationAction(clip=AnimationClip(duration=2.0, tracks=(NumberKeyframeTrack(name='.bones[1].rotation[y]', times=array([0. , 0.5, 1.5, 2. ], dtype=float32), values=array([ 0. ,  0.7, -0.7,  0. ], dtype=float32)), NumberKeyframeTrack(name='.bones[2].rotation[y]', times=array([0. , 0.5, 1.5, 2. ], dtype=float32), values=array([ 0. ,  0.7, -0.7,  0. ], dtype=float32)))), localRoot=SkinnedMesh(children=(Bone(children=(Bone(children=(Bone(position=(0.0, 25.0, 0.0), quaternion=(0.0, 0.0, 0.0, 1.0), scale=(1.0, 1.0, 1.0), type='Bone', up=(0.0, 1.0, 0.0)),), position=(0.0, 25.0, 0.0), quaternion=(0.0, 0.0, 0.0, 1.0), scale=(1.0, 1.0, 1.0), type='Bone', up=(0.0, 1.0, 0.0)),), position=(0.0, -25.0, 0.0), quaternion=(0.0, 0.0, 0.0, 1.0), scale=(1.0, 1.0, 1.0), type='Bone', up=(0.0, 1.0, 0.0)),), geometry=Geometry(faceVertexUvs=[[[{'x': 0, 'y': 1}, {'x': 0, 'y': 0.9333333373069763}, {'x': 0.20000000298023224, 'y': 1}], [{'x': 0, 'y': 0.9333333373069763}, {'x': 0.20000000298023224, 'y': 0.9333333373069763}, {'x': 0.20000000298023224, 'y': 1}], [{'x': 0, 'y': 0.9333333373069763}, {'x': 0, 'y': 0.8666666746139526}, {'x': 0.20000000298023224, 'y': 0.9333333373069763}], [{'x': 0, 'y': 0.8666666746139526}, {'x': 0.20000000298023224, 'y': 0.8666666746139526}, {'x': 0.20000000298023224, 'y': 0.9333333373069763}], [{'x': 0, 'y': 0.8666666746139526}, {'x': 0, 'y': 0.800000011920929}, {'x': 0.20000000298023224, 'y': 0.8666666746139526}], [{'x': 0, 'y': 0.800000011920929}, {'x': 0.20000000298023224, 'y': 0.800000011920929}, {'x': 0.20000000298023224, 'y': 0.8666666746139526}], [{'x': 0, 'y': 0.800000011920929}, {'x': 0, 'y': 0.7333333492279053}, {'x': 0.20000000298023224, 'y': 0.800000011920929}], [{'x': 0, 'y': 0.7333333492279053}, {'x': 0.20000000298023224, 'y': 0.7333333492279053}, {'x': 0.20000000298023224, 'y': 0.800000011920929}], [{'x': 0, 'y': 0.7333333492279053}, {'x': 0, 'y': 0.6666666865348816}, {'x': 0.20000000298023224, 'y': 0.7333333492279053}], [{'x': 0, 'y': 0.6666666865348816}, {'x': 0.20000000298023224, 'y': 0.6666666865348816}, {'x': 0.20000000298023224, 'y': 0.7333333492279053}], [{'x': 0, 'y': 0.6666666865348816}, {'x': 0, 'y': 0.6000000238418579}, {'x': 0.20000000298023224, 'y': 0.6666666865348816}], [{'x': 0, 'y': 0.6000000238418579}, {'x': 0.20000000298023224, 'y': 0.6000000238418579}, {'x': 0.20000000298023224, 'y': 0.6666666865348816}], [{'x': 0, 'y': 0.6000000238418579}, {'x': 0, 'y': 0.5333333611488342}, {'x': 0.20000000298023224, 'y': 0.6000000238418579}], [{'x': 0, 'y': 0.5333333611488342}, {'x': 0.20000000298023224, 'y': 0.5333333611488342}, {'x': 0.20000000298023224, 'y': 0.6000000238418579}], [{'x': 0, 'y': 0.5333333611488342}, {'x': 0, 'y': 0.46666666865348816}, {'x': 0.20000000298023224, 'y': 0.5333333611488342}], [{'x': 0, 'y': 0.46666666865348816}, {'x': 0.20000000298023224, 'y': 0.46666666865348816}, {'x': 0.20000000298023224, 'y': 0.5333333611488342}], [{'x': 0, 'y': 0.46666666865348816}, {'x': 0, 'y': 0.4000000059604645}, {'x': 0.20000000298023224, 'y': 0.46666666865348816}], [{'x': 0, 'y': 0.4000000059604645}, {'x': 0.20000000298023224, 'y': 0.4000000059604645}, {'x': 0.20000000298023224, 'y': 0.46666666865348816}], [{'x': 0, 'y': 0.4000000059604645}, {'x': 0, 'y': 0.3333333432674408}, {'x': 0.20000000298023224, 'y': 0.4000000059604645}], [{'x': 0, 'y': 0.3333333432674408}, {'x': 0.20000000298023224, 'y': 0.3333333432674408}, {'x': 0.20000000298023224, 'y': 0.4000000059604645}], [{'x': 0, 'y': 0.3333333432674408}, {'x': 0, 'y': 0.2666666805744171}, {'x': 0.20000000298023224, 'y': 0.3333333432674408}], [{'x': 0, 'y': 0.2666666805744171}, {'x': 0.20000000298023224, 'y': 0.2666666805744171}, {'x': 0.20000000298023224, 'y': 0.3333333432674408}], [{'x': 0, 'y': 0.2666666805744171}, {'x': 0, 'y': 0.20000000298023224}, {'x': 0.20000000298023224, 'y': 0.2666666805744171}], [{'x': 0, 'y': 0.20000000298023224}, {'x': 0.20000000298023224, 'y': 0.20000000298023224}, {'x': 0.20000000298023224, 'y': 0.2666666805744171}], [{'x': 0, 'y': 0.20000000298023224}, {'x': 0, 'y': 0.13333334028720856}, {'x': 0.20000000298023224, 'y': 0.20000000298023224}], [{'x': 0, 'y': 0.13333334028720856}, {'x': 0.20000000298023224, 'y': 0.13333334028720856}, {'x': 0.20000000298023224, 'y': 0.20000000298023224}], [{'x': 0, 'y': 0.13333334028720856}, {'x': 0, 'y': 0.06666667014360428}, {'x': 0.20000000298023224, 'y': 0.13333334028720856}], [{'x': 0, 'y': 0.06666667014360428}, {'x': 0.20000000298023224, 'y': 0.06666667014360428}, {'x': 0.20000000298023224, 'y': 0.13333334028720856}], [{'x': 0, 'y': 0.06666667014360428}, {'x': 0, 'y': 0}, {'x': 0.20000000298023224, 'y': 0.06666667014360428}], [{'x': 0, 'y': 0}, {'x': 0.20000000298023224, 'y': 0}, {'x': 0.20000000298023224, 'y': 0.06666667014360428}], [{'x': 0.20000000298023224, 'y': 1}, {'x': 0.20000000298023224, 'y': 0.9333333373069763}, {'x': 0.4000000059604645, 'y': 1}], [{'x': 0.20000000298023224, 'y': 0.9333333373069763}, {'x': 0.4000000059604645, 'y': 0.9333333373069763}, {'x': 0.4000000059604645, 'y': 1}], [{'x': 0.20000000298023224, 'y': 0.9333333373069763}, {'x': 0.20000000298023224, 'y': 0.8666666746139526}, {'x': 0.4000000059604645, 'y': 0.9333333373069763}], [{'x': 0.20000000298023224, 'y': 0.8666666746139526}, {'x': 0.4000000059604645, 'y': 0.8666666746139526}, {'x': 0.4000000059604645, 'y': 0.9333333373069763}], [{'x': 0.20000000298023224, 'y': 0.8666666746139526}, {'x': 0.20000000298023224, 'y': 0.800000011920929}, {'x': 0.4000000059604645, 'y': 0.8666666746139526}], [{'x': 0.20000000298023224, 'y': 0.800000011920929}, {'x': 0.4000000059604645, 'y': 0.800000011920929}, {'x': 0.4000000059604645, 'y': 0.8666666746139526}], [{'x': 0.20000000298023224, 'y': 0.800000011920929}, {'x': 0.20000000298023224, 'y': 0.7333333492279053}, {'x': 0.4000000059604645, 'y': 0.800000011920929}], [{'x': 0.20000000298023224, 'y': 0.7333333492279053}, {'x': 0.4000000059604645, 'y': 0.7333333492279053}, {'x': 0.4000000059604645, 'y': 0.800000011920929}], [{'x': 0.20000000298023224, 'y': 0.7333333492279053}, {'x': 0.20000000298023224, 'y': 0.6666666865348816}, {'x': 0.4000000059604645, 'y': 0.7333333492279053}], [{'x': 0.20000000298023224, 'y': 0.6666666865348816}, {'x': 0.4000000059604645, 'y': 0.6666666865348816}, {'x': 0.4000000059604645, 'y': 0.7333333492279053}], [{'x': 0.20000000298023224, 'y': 0.6666666865348816}, {'x': 0.20000000298023224, 'y': 0.6000000238418579}, {'x': 0.4000000059604645, 'y': 0.6666666865348816}], [{'x': 0.20000000298023224, 'y': 0.6000000238418579}, {'x': 0.4000000059604645, 'y': 0.6000000238418579}, {'x': 0.4000000059604645, 'y': 0.6666666865348816}], [{'x': 0.20000000298023224, 'y': 0.6000000238418579}, {'x': 0.20000000298023224, 'y': 0.5333333611488342}, {'x': 0.4000000059604645, 'y': 0.6000000238418579}], [{'x': 0.20000000298023224, 'y': 0.5333333611488342}, {'x': 0.4000000059604645, 'y': 0.5333333611488342}, {'x': 0.4000000059604645, 'y': 0.6000000238418579}], [{'x': 0.20000000298023224, 'y': 0.5333333611488342}, {'x': 0.20000000298023224, 'y': 0.46666666865348816}, {'x': 0.4000000059604645, 'y': 0.5333333611488342}], [{'x': 0.20000000298023224, 'y': 0.46666666865348816}, {'x': 0.4000000059604645, 'y': 0.46666666865348816}, {'x': 0.4000000059604645, 'y': 0.5333333611488342}], [{'x': 0.20000000298023224, 'y': 0.46666666865348816}, {'x': 0.20000000298023224, 'y': 0.4000000059604645}, {'x': 0.4000000059604645, 'y': 0.46666666865348816}], [{'x': 0.20000000298023224, 'y': 0.4000000059604645}, {'x': 0.4000000059604645, 'y': 0.4000000059604645}, {'x': 0.4000000059604645, 'y': 0.46666666865348816}], [{'x': 0.20000000298023224, 'y': 0.4000000059604645}, {'x': 0.20000000298023224, 'y': 0.3333333432674408}, {'x': 0.4000000059604645, 'y': 0.4000000059604645}], [{'x': 0.20000000298023224, 'y': 0.3333333432674408}, {'x': 0.4000000059604645, 'y': 0.3333333432674408}, {'x': 0.4000000059604645, 'y': 0.4000000059604645}], [{'x': 0.20000000298023224, 'y': 0.3333333432674408}, {'x': 0.20000000298023224, 'y': 0.2666666805744171}, {'x': 0.4000000059604645, 'y': 0.3333333432674408}], [{'x': 0.20000000298023224, 'y': 0.2666666805744171}, {'x': 0.4000000059604645, 'y': 0.2666666805744171}, {'x': 0.4000000059604645, 'y': 0.3333333432674408}], [{'x': 0.20000000298023224, 'y': 0.2666666805744171}, {'x': 0.20000000298023224, 'y': 0.20000000298023224}, {'x': 0.4000000059604645, 'y': 0.2666666805744171}], [{'x': 0.20000000298023224, 'y': 0.20000000298023224}, {'x': 0.4000000059604645, 'y': 0.20000000298023224}, {'x': 0.4000000059604645, 'y': 0.2666666805744171}], [{'x': 0.20000000298023224, 'y': 0.20000000298023224}, {'x': 0.20000000298023224, 'y': 0.13333334028720856}, {'x': 0.4000000059604645, 'y': 0.20000000298023224}], [{'x': 0.20000000298023224, 'y': 0.13333334028720856}, {'x': 0.4000000059604645, 'y': 0.13333334028720856}, {'x': 0.4000000059604645, 'y': 0.20000000298023224}], [{'x': 0.20000000298023224, 'y': 0.13333334028720856}, {'x': 0.20000000298023224, 'y': 0.06666667014360428}, {'x': 0.4000000059604645, 'y': 0.13333334028720856}], [{'x': 0.20000000298023224, 'y': 0.06666667014360428}, {'x': 0.4000000059604645, 'y': 0.06666667014360428}, {'x': 0.4000000059604645, 'y': 0.13333334028720856}], [{'x': 0.20000000298023224, 'y': 0.06666667014360428}, {'x': 0.20000000298023224, 'y': 0}, {'x': 0.4000000059604645, 'y': 0.06666667014360428}], [{'x': 0.20000000298023224, 'y': 0}, {'x': 0.4000000059604645, 'y': 0}, {'x': 0.4000000059604645, 'y': 0.06666667014360428}], [{'x': 0.4000000059604645, 'y': 1}, {'x': 0.4000000059604645, 'y': 0.9333333373069763}, {'x': 0.6000000238418579, 'y': 1}], [{'x': 0.4000000059604645, 'y': 0.9333333373069763}, {'x': 0.6000000238418579, 'y': 0.9333333373069763}, {'x': 0.6000000238418579, 'y': 1}], [{'x': 0.4000000059604645, 'y': 0.9333333373069763}, {'x': 0.4000000059604645, 'y': 0.8666666746139526}, {'x': 0.6000000238418579, 'y': 0.9333333373069763}], [{'x': 0.4000000059604645, 'y': 0.8666666746139526}, {'x': 0.6000000238418579, 'y': 0.8666666746139526}, {'x': 0.6000000238418579, 'y': 0.9333333373069763}], [{'x': 0.4000000059604645, 'y': 0.8666666746139526}, {'x': 0.4000000059604645, 'y': 0.800000011920929}, {'x': 0.6000000238418579, 'y': 0.8666666746139526}], [{'x': 0.4000000059604645, 'y': 0.800000011920929}, {'x': 0.6000000238418579, 'y': 0.800000011920929}, {'x': 0.6000000238418579, 'y': 0.8666666746139526}], [{'x': 0.4000000059604645, 'y': 0.800000011920929}, {'x': 0.4000000059604645, 'y': 0.7333333492279053}, {'x': 0.6000000238418579, 'y': 0.800000011920929}], [{'x': 0.4000000059604645, 'y': 0.7333333492279053}, {'x': 0.6000000238418579, 'y': 0.7333333492279053}, {'x': 0.6000000238418579, 'y': 0.800000011920929}], [{'x': 0.4000000059604645, 'y': 0.7333333492279053}, {'x': 0.4000000059604645, 'y': 0.6666666865348816}, {'x': 0.6000000238418579, 'y': 0.7333333492279053}], [{'x': 0.4000000059604645, 'y': 0.6666666865348816}, {'x': 0.6000000238418579, 'y': 0.6666666865348816}, {'x': 0.6000000238418579, 'y': 0.7333333492279053}], [{'x': 0.4000000059604645, 'y': 0.6666666865348816}, {'x': 0.4000000059604645, 'y': 0.6000000238418579}, {'x': 0.6000000238418579, 'y': 0.6666666865348816}], [{'x': 0.4000000059604645, 'y': 0.6000000238418579}, {'x': 0.6000000238418579, 'y': 0.6000000238418579}, {'x': 0.6000000238418579, 'y': 0.6666666865348816}], [{'x': 0.4000000059604645, 'y': 0.6000000238418579}, {'x': 0.4000000059604645, 'y': 0.5333333611488342}, {'x': 0.6000000238418579, 'y': 0.6000000238418579}], [{'x': 0.4000000059604645, 'y': 0.5333333611488342}, {'x': 0.6000000238418579, 'y': 0.5333333611488342}, {'x': 0.6000000238418579, 'y': 0.6000000238418579}], [{'x': 0.4000000059604645, 'y': 0.5333333611488342}, {'x': 0.4000000059604645, 'y': 0.46666666865348816}, {'x': 0.6000000238418579, 'y': 0.5333333611488342}], [{'x': 0.4000000059604645, 'y': 0.46666666865348816}, {'x': 0.6000000238418579, 'y': 0.46666666865348816}, {'x': 0.6000000238418579, 'y': 0.5333333611488342}], [{'x': 0.4000000059604645, 'y': 0.46666666865348816}, {'x': 0.4000000059604645, 'y': 0.4000000059604645}, {'x': 0.6000000238418579, 'y': 0.46666666865348816}], [{'x': 0.4000000059604645, 'y': 0.4000000059604645}, {'x': 0.6000000238418579, 'y': 0.4000000059604645}, {'x': 0.6000000238418579, 'y': 0.46666666865348816}], [{'x': 0.4000000059604645, 'y': 0.4000000059604645}, {'x': 0.4000000059604645, 'y': 0.3333333432674408}, {'x': 0.6000000238418579, 'y': 0.4000000059604645}], [{'x': 0.4000000059604645, 'y': 0.3333333432674408}, {'x': 0.6000000238418579, 'y': 0.3333333432674408}, {'x': 0.6000000238418579, 'y': 0.4000000059604645}], [{'x': 0.4000000059604645, 'y': 0.3333333432674408}, {'x': 0.4000000059604645, 'y': 0.2666666805744171}, {'x': 0.6000000238418579, 'y': 0.3333333432674408}], [{'x': 0.4000000059604645, 'y': 0.2666666805744171}, {'x': 0.6000000238418579, 'y': 0.2666666805744171}, {'x': 0.6000000238418579, 'y': 0.3333333432674408}], [{'x': 0.4000000059604645, 'y': 0.2666666805744171}, {'x': 0.4000000059604645, 'y': 0.20000000298023224}, {'x': 0.6000000238418579, 'y': 0.2666666805744171}], [{'x': 0.4000000059604645, 'y': 0.20000000298023224}, {'x': 0.6000000238418579, 'y': 0.20000000298023224}, {'x': 0.6000000238418579, 'y': 0.2666666805744171}], [{'x': 0.4000000059604645, 'y': 0.20000000298023224}, {'x': 0.4000000059604645, 'y': 0.13333334028720856}, {'x': 0.6000000238418579, 'y': 0.20000000298023224}], [{'x': 0.4000000059604645, 'y': 0.13333334028720856}, {'x': 0.6000000238418579, 'y': 0.13333334028720856}, {'x': 0.6000000238418579, 'y': 0.20000000298023224}], [{'x': 0.4000000059604645, 'y': 0.13333334028720856}, {'x': 0.4000000059604645, 'y': 0.06666667014360428}, {'x': 0.6000000238418579, 'y': 0.13333334028720856}], [{'x': 0.4000000059604645, 'y': 0.06666667014360428}, {'x': 0.6000000238418579, 'y': 0.06666667014360428}, {'x': 0.6000000238418579, 'y': 0.13333334028720856}], [{'x': 0.4000000059604645, 'y': 0.06666667014360428}, {'x': 0.4000000059604645, 'y': 0}, {'x': 0.6000000238418579, 'y': 0.06666667014360428}], [{'x': 0.4000000059604645, 'y': 0}, {'x': 0.6000000238418579, 'y': 0}, {'x': 0.6000000238418579, 'y': 0.06666667014360428}], [{'x': 0.6000000238418579, 'y': 1}, {'x': 0.6000000238418579, 'y': 0.9333333373069763}, {'x': 0.800000011920929, 'y': 1}], [{'x': 0.6000000238418579, 'y': 0.9333333373069763}, {'x': 0.800000011920929, 'y': 0.9333333373069763}, {'x': 0.800000011920929, 'y': 1}], [{'x': 0.6000000238418579, 'y': 0.9333333373069763}, {'x': 0.6000000238418579, 'y': 0.8666666746139526}, {'x': 0.800000011920929, 'y': 0.9333333373069763}], [{'x': 0.6000000238418579, 'y': 0.8666666746139526}, {'x': 0.800000011920929, 'y': 0.8666666746139526}, {'x': 0.800000011920929, 'y': 0.9333333373069763}], [{'x': 0.6000000238418579, 'y': 0.8666666746139526}, {'x': 0.6000000238418579, 'y': 0.800000011920929}, {'x': 0.800000011920929, 'y': 0.8666666746139526}], [{'x': 0.6000000238418579, 'y': 0.800000011920929}, {'x': 0.800000011920929, 'y': 0.800000011920929}, {'x': 0.800000011920929, 'y': 0.8666666746139526}], [{'x': 0.6000000238418579, 'y': 0.800000011920929}, {'x': 0.6000000238418579, 'y': 0.7333333492279053}, {'x': 0.800000011920929, 'y': 0.800000011920929}], [{'x': 0.6000000238418579, 'y': 0.7333333492279053}, {'x': 0.800000011920929, 'y': 0.7333333492279053}, {'x': 0.800000011920929, 'y': 0.800000011920929}], [{'x': 0.6000000238418579, 'y': 0.7333333492279053}, {'x': 0.6000000238418579, 'y': 0.6666666865348816}, {'x': 0.800000011920929, 'y': 0.7333333492279053}], [{'x': 0.6000000238418579, 'y': 0.6666666865348816}, {'x': 0.800000011920929, 'y': 0.6666666865348816}, {'x': 0.800000011920929, 'y': 0.7333333492279053}], [{'x': 0.6000000238418579, 'y': 0.6666666865348816}, {'x': 0.6000000238418579, 'y': 0.6000000238418579}, {'x': 0.800000011920929, 'y': 0.6666666865348816}], [{'x': 0.6000000238418579, 'y': 0.6000000238418579}, {'x': 0.800000011920929, 'y': 0.6000000238418579}, {'x': 0.800000011920929, 'y': 0.6666666865348816}], [{'x': 0.6000000238418579, 'y': 0.6000000238418579}, {'x': 0.6000000238418579, 'y': 0.5333333611488342}, {'x': 0.800000011920929, 'y': 0.6000000238418579}], [{'x': 0.6000000238418579, 'y': 0.5333333611488342}, {'x': 0.800000011920929, 'y': 0.5333333611488342}, {'x': 0.800000011920929, 'y': 0.6000000238418579}], [{'x': 0.6000000238418579, 'y': 0.5333333611488342}, {'x': 0.6000000238418579, 'y': 0.46666666865348816}, {'x': 0.800000011920929, 'y': 0.5333333611488342}], [{'x': 0.6000000238418579, 'y': 0.46666666865348816}, {'x': 0.800000011920929, 'y': 0.46666666865348816}, {'x': 0.800000011920929, 'y': 0.5333333611488342}], [{'x': 0.6000000238418579, 'y': 0.46666666865348816}, {'x': 0.6000000238418579, 'y': 0.4000000059604645}, {'x': 0.800000011920929, 'y': 0.46666666865348816}], [{'x': 0.6000000238418579, 'y': 0.4000000059604645}, {'x': 0.800000011920929, 'y': 0.4000000059604645}, {'x': 0.800000011920929, 'y': 0.46666666865348816}], [{'x': 0.6000000238418579, 'y': 0.4000000059604645}, {'x': 0.6000000238418579, 'y': 0.3333333432674408}, {'x': 0.800000011920929, 'y': 0.4000000059604645}], [{'x': 0.6000000238418579, 'y': 0.3333333432674408}, {'x': 0.800000011920929, 'y': 0.3333333432674408}, {'x': 0.800000011920929, 'y': 0.4000000059604645}], [{'x': 0.6000000238418579, 'y': 0.3333333432674408}, {'x': 0.6000000238418579, 'y': 0.2666666805744171}, {'x': 0.800000011920929, 'y': 0.3333333432674408}], [{'x': 0.6000000238418579, 'y': 0.2666666805744171}, {'x': 0.800000011920929, 'y': 0.2666666805744171}, {'x': 0.800000011920929, 'y': 0.3333333432674408}], [{'x': 0.6000000238418579, 'y': 0.2666666805744171}, {'x': 0.6000000238418579, 'y': 0.20000000298023224}, {'x': 0.800000011920929, 'y': 0.2666666805744171}], [{'x': 0.6000000238418579, 'y': 0.20000000298023224}, {'x': 0.800000011920929, 'y': 0.20000000298023224}, {'x': 0.800000011920929, 'y': 0.2666666805744171}], [{'x': 0.6000000238418579, 'y': 0.20000000298023224}, {'x': 0.6000000238418579, 'y': 0.13333334028720856}, {'x': 0.800000011920929, 'y': 0.20000000298023224}], [{'x': 0.6000000238418579, 'y': 0.13333334028720856}, {'x': 0.800000011920929, 'y': 0.13333334028720856}, {'x': 0.800000011920929, 'y': 0.20000000298023224}], [{'x': 0.6000000238418579, 'y': 0.13333334028720856}, {'x': 0.6000000238418579, 'y': 0.06666667014360428}, {'x': 0.800000011920929, 'y': 0.13333334028720856}], [{'x': 0.6000000238418579, 'y': 0.06666667014360428}, {'x': 0.800000011920929, 'y': 0.06666667014360428}, {'x': 0.800000011920929, 'y': 0.13333334028720856}], [{'x': 0.6000000238418579, 'y': 0.06666667014360428}, {'x': 0.6000000238418579, 'y': 0}, {'x': 0.800000011920929, 'y': 0.06666667014360428}], [{'x': 0.6000000238418579, 'y': 0}, {'x': 0.800000011920929, 'y': 0}, {'x': 0.800000011920929, 'y': 0.06666667014360428}], [{'x': 0.800000011920929, 'y': 1}, {'x': 0.800000011920929, 'y': 0.9333333373069763}, {'x': 1, 'y': 1}], [{'x': 0.800000011920929, 'y': 0.9333333373069763}, {'x': 1, 'y': 0.9333333373069763}, {'x': 1, 'y': 1}], [{'x': 0.800000011920929, 'y': 0.9333333373069763}, {'x': 0.800000011920929, 'y': 0.8666666746139526}, {'x': 1, 'y': 0.9333333373069763}], [{'x': 0.800000011920929, 'y': 0.8666666746139526}, {'x': 1, 'y': 0.8666666746139526}, {'x': 1, 'y': 0.9333333373069763}], [{'x': 0.800000011920929, 'y': 0.8666666746139526}, {'x': 0.800000011920929, 'y': 0.800000011920929}, {'x': 1, 'y': 0.8666666746139526}], [{'x': 0.800000011920929, 'y': 0.800000011920929}, {'x': 1, 'y': 0.800000011920929}, {'x': 1, 'y': 0.8666666746139526}], [{'x': 0.800000011920929, 'y': 0.800000011920929}, {'x': 0.800000011920929, 'y': 0.7333333492279053}, {'x': 1, 'y': 0.800000011920929}], [{'x': 0.800000011920929, 'y': 0.7333333492279053}, {'x': 1, 'y': 0.7333333492279053}, {'x': 1, 'y': 0.800000011920929}], [{'x': 0.800000011920929, 'y': 0.7333333492279053}, {'x': 0.800000011920929, 'y': 0.6666666865348816}, {'x': 1, 'y': 0.7333333492279053}], [{'x': 0.800000011920929, 'y': 0.6666666865348816}, {'x': 1, 'y': 0.6666666865348816}, {'x': 1, 'y': 0.7333333492279053}], [{'x': 0.800000011920929, 'y': 0.6666666865348816}, {'x': 0.800000011920929, 'y': 0.6000000238418579}, {'x': 1, 'y': 0.6666666865348816}], [{'x': 0.800000011920929, 'y': 0.6000000238418579}, {'x': 1, 'y': 0.6000000238418579}, {'x': 1, 'y': 0.6666666865348816}], [{'x': 0.800000011920929, 'y': 0.6000000238418579}, {'x': 0.800000011920929, 'y': 0.5333333611488342}, {'x': 1, 'y': 0.6000000238418579}], [{'x': 0.800000011920929, 'y': 0.5333333611488342}, {'x': 1, 'y': 0.5333333611488342}, {'x': 1, 'y': 0.6000000238418579}], [{'x': 0.800000011920929, 'y': 0.5333333611488342}, {'x': 0.800000011920929, 'y': 0.46666666865348816}, {'x': 1, 'y': 0.5333333611488342}], [{'x': 0.800000011920929, 'y': 0.46666666865348816}, {'x': 1, 'y': 0.46666666865348816}, {'x': 1, 'y': 0.5333333611488342}], [{'x': 0.800000011920929, 'y': 0.46666666865348816}, {'x': 0.800000011920929, 'y': 0.4000000059604645}, {'x': 1, 'y': 0.46666666865348816}], [{'x': 0.800000011920929, 'y': 0.4000000059604645}, {'x': 1, 'y': 0.4000000059604645}, {'x': 1, 'y': 0.46666666865348816}], [{'x': 0.800000011920929, 'y': 0.4000000059604645}, {'x': 0.800000011920929, 'y': 0.3333333432674408}, {'x': 1, 'y': 0.4000000059604645}], [{'x': 0.800000011920929, 'y': 0.3333333432674408}, {'x': 1, 'y': 0.3333333432674408}, {'x': 1, 'y': 0.4000000059604645}], [{'x': 0.800000011920929, 'y': 0.3333333432674408}, {'x': 0.800000011920929, 'y': 0.2666666805744171}, {'x': 1, 'y': 0.3333333432674408}], [{'x': 0.800000011920929, 'y': 0.2666666805744171}, {'x': 1, 'y': 0.2666666805744171}, {'x': 1, 'y': 0.3333333432674408}], [{'x': 0.800000011920929, 'y': 0.2666666805744171}, {'x': 0.800000011920929, 'y': 0.20000000298023224}, {'x': 1, 'y': 0.2666666805744171}], [{'x': 0.800000011920929, 'y': 0.20000000298023224}, {'x': 1, 'y': 0.20000000298023224}, {'x': 1, 'y': 0.2666666805744171}], [{'x': 0.800000011920929, 'y': 0.20000000298023224}, {'x': 0.800000011920929, 'y': 0.13333334028720856}, {'x': 1, 'y': 0.20000000298023224}], [{'x': 0.800000011920929, 'y': 0.13333334028720856}, {'x': 1, 'y': 0.13333334028720856}, {'x': 1, 'y': 0.20000000298023224}], [{'x': 0.800000011920929, 'y': 0.13333334028720856}, {'x': 0.800000011920929, 'y': 0.06666667014360428}, {'x': 1, 'y': 0.13333334028720856}], [{'x': 0.800000011920929, 'y': 0.06666667014360428}, {'x': 1, 'y': 0.06666667014360428}, {'x': 1, 'y': 0.13333334028720856}], [{'x': 0.800000011920929, 'y': 0.06666667014360428}, {'x': 0.800000011920929, 'y': 0}, {'x': 1, 'y': 0.06666667014360428}], [{'x': 0.800000011920929, 'y': 0}, {'x': 1, 'y': 0}, {'x': 1, 'y': 0.06666667014360428}]]], faces=([0, 5, 1, [0.587785268876672, 0, 0.8090169823258212], '#ffffff', 0, [[0, 0, 1], [0, 0, 1], [0.9510565400123596, 0, 0.30901700258255005]], []], [5, 6, 1, [0.587785268876672, 0, 0.8090169823258212], '#ffffff', 0, [[0, 0, 1], [0.9510565400123596, 0, 0.30901700258255005], [0.9510565400123596, 0, 0.30901700258255005]], []], [5, 10, 6, [0.5877852688766722, 0, 0.8090169823258213], '#ffffff', 0, [[0, 0, 1], [0, 0, 1], [0.9510565400123596, 0, 0.30901700258255005]], []], [10, 11, 6, [0.5877852688766722, 0, 0.8090169823258213], '#ffffff', 0, [[0, 0, 1], [0.9510565400123596, 0, 0.30901700258255005], [0.9510565400123596, 0, 0.30901700258255005]], []], [10, 15, 11, [0.587785268876672, 0, 0.8090169823258212], '#ffffff', 0, [[0, 0, 1], [0, 0, 1], [0.9510565400123596, 0, 0.30901700258255005]], []], [15, 16, 11, [0.587785268876672, 0, 0.8090169823258212], '#ffffff', 0, [[0, 0, 1], [0.9510565400123596, 0, 0.30901700258255005], [0.9510565400123596, 0, 0.30901700258255005]], []], [15, 20, 16, [0.5877852688766722, 0, 0.8090169823258213], '#ffffff', 0, [[0, 0, 1], [0, 0, 1], [0.9510565400123596, 0, 0.30901700258255005]], []], [20, 21, 16, [0.5877852688766722, 0, 0.8090169823258213], '#ffffff', 0, [[0, 0, 1], [0.9510565400123596, 0, 0.30901700258255005], [0.9510565400123596, 0, 0.30901700258255005]], []], [20, 25, 21, [0.587785268876672, 0, 0.8090169823258212], '#ffffff', 0, [[0, 0, 1], [0, 0, 1], [0.9510565400123596, 0, 0.30901700258255005]], []], [25, 26, 21, [0.587785268876672, 0, 0.8090169823258212], '#ffffff', 0, [[0, 0, 1], [0.9510565400123596, 0, 0.30901700258255005], [0.9510565400123596, 0, 0.30901700258255005]], []], [25, 30, 26, [0.5877852688766722, 0, 0.8090169823258213], '#ffffff', 0, [[0, 0, 1], [0, 0, 1], [0.9510565400123596, 0, 0.30901700258255005]], []], [30, 31, 26, [0.5877852688766722, 0, 0.8090169823258213], '#ffffff', 0, [[0, 0, 1], [0.9510565400123596, 0, 0.30901700258255005], [0.9510565400123596, 0, 0.30901700258255005]], []], [30, 35, 31, [0.5877852688766722, 0, 0.8090169823258213], '#ffffff', 0, [[0, 0, 1], [0, 0, 1], [0.9510565400123596, 0, 0.30901700258255005]], []], [35, 36, 31, [0.5877852688766722, 0, 0.8090169823258213], '#ffffff', 0, [[0, 0, 1], [0.9510565400123596, 0, 0.30901700258255005], [0.9510565400123596, 0, 0.30901700258255005]], []], [35, 40, 36, [0.5877852688766722, 0, 0.8090169823258213], '#ffffff', 0, [[0, 0, 1], [0, 0, 1], [0.9510565400123596, 0, 0.30901700258255005]], []], [40, 41, 36, [0.5877852688766722, 0, 0.8090169823258213], '#ffffff', 0, [[0, 0, 1], [0.9510565400123596, 0, 0.30901700258255005], [0.9510565400123596, 0, 0.30901700258255005]], []], [40, 45, 41, [0.5877852688766722, 0, 0.8090169823258213], '#ffffff', 0, [[0, 0, 1], [0, 0, 1], [0.9510565400123596, 0, 0.30901700258255005]], []], [45, 46, 41, [0.5877852688766722, 0, 0.8090169823258213], '#ffffff', 0, [[0, 0, 1], [0.9510565400123596, 0, 0.30901700258255005], [0.9510565400123596, 0, 0.30901700258255005]], []], [45, 50, 46, [0.5877852688766722, 0, 0.8090169823258213], '#ffffff', 0, [[0, 0, 1], [0, 0, 1], [0.9510565400123596, 0, 0.30901700258255005]], []], [50, 51, 46, [0.5877852688766722, 0, 0.8090169823258213], '#ffffff', 0, [[0, 0, 1], [0.9510565400123596, 0, 0.30901700258255005], [0.9510565400123596, 0, 0.30901700258255005]], []], [50, 55, 51, [0.587785268876672, 0, 0.8090169823258212], '#ffffff', 0, [[0, 0, 1], [0, 0, 1], [0.9510565400123596, 0, 0.30901700258255005]], []], [55, 56, 51, [0.587785268876672, 0, 0.8090169823258212], '#ffffff', 0, [[0, 0, 1], [0.9510565400123596, 0, 0.30901700258255005], [0.9510565400123596, 0, 0.30901700258255005]], []], [55, 60, 56, [0.5877852688766722, 0, 0.8090169823258213], '#ffffff', 0, [[0, 0, 1], [0, 0, 1], [0.9510565400123596, 0, 0.30901700258255005]], []], [60, 61, 56, [0.5877852688766722, 0, 0.8090169823258213], '#ffffff', 0, [[0, 0, 1], [0.9510565400123596, 0, 0.30901700258255005], [0.9510565400123596, 0, 0.30901700258255005]], []], [60, 65, 61, [0.587785268876672, 0, 0.8090169823258212], '#ffffff', 0, [[0, 0, 1], [0, 0, 1], [0.9510565400123596, 0, 0.30901700258255005]], []], [65, 66, 61, [0.587785268876672, 0, 0.8090169823258212], '#ffffff', 0, [[0, 0, 1], [0.9510565400123596, 0, 0.30901700258255005], [0.9510565400123596, 0, 0.30901700258255005]], []], [65, 70, 66, [0.5877852688766722, 0, 0.8090169823258213], '#ffffff', 0, [[0, 0, 1], [0, 0, 1], [0.9510565400123596, 0, 0.30901700258255005]], []], [70, 71, 66, [0.5877852688766722, 0, 0.8090169823258213], '#ffffff', 0, [[0, 0, 1], [0.9510565400123596, 0, 0.30901700258255005], [0.9510565400123596, 0, 0.30901700258255005]], []], [70, 75, 71, [0.587785268876672, 0, 0.8090169823258212], '#ffffff', 0, [[0, 0, 1], [0, 0, 1], [0.9510565400123596, 0, 0.30901700258255005]], []], [75, 76, 71, [0.587785268876672, 0, 0.8090169823258212], '#ffffff', 0, [[0, 0, 1], [0.9510565400123596, 0, 0.30901700258255005], [0.9510565400123596, 0, 0.30901700258255005]], []], [1, 6, 2, [0.9510565225876377, 0, -0.3090169750086719], '#ffffff', 0, [[0.9510565400123596, 0, 0.30901700258255005], [0.9510565400123596, 0, 0.30901700258255005], [0.5877852439880371, 0, -0.80901700258255]], []], [6, 7, 2, [0.9510565225876377, 0, -0.3090169750086719], '#ffffff', 0, [[0.9510565400123596, 0, 0.30901700258255005], [0.5877852439880371, 0, -0.80901700258255], [0.5877852439880371, 0, -0.80901700258255]], []], [6, 11, 7, [0.9510565225876377, 0, -0.3090169750086719], '#ffffff', 0, [[0.9510565400123596, 0, 0.30901700258255005], [0.9510565400123596, 0, 0.30901700258255005], [0.5877852439880371, 0, -0.80901700258255]], []], [11, 12, 7, [0.9510565225876377, 0, -0.3090169750086719], '#ffffff', 0, [[0.9510565400123596, 0, 0.30901700258255005], [0.5877852439880371, 0, -0.80901700258255], [0.5877852439880371, 0, -0.80901700258255]], []], [11, 16, 12, [0.9510565225876377, 0, -0.3090169750086719], '#ffffff', 0, [[0.9510565400123596, 0, 0.30901700258255005], [0.9510565400123596, 0, 0.30901700258255005], [0.5877852439880371, 0, -0.80901700258255]], []], [16, 17, 12, [0.9510565225876377, 0, -0.3090169750086719], '#ffffff', 0, [[0.9510565400123596, 0, 0.30901700258255005], [0.5877852439880371, 0, -0.80901700258255], [0.5877852439880371, 0, -0.80901700258255]], []], [16, 21, 17, [0.9510565225876376, 0, -0.3090169750086719], '#ffffff', 0, [[0.9510565400123596, 0, 0.30901700258255005], [0.9510565400123596, 0, 0.30901700258255005], [0.5877852439880371, 0, -0.80901700258255]], []], [21, 22, 17, [0.9510565225876376, 0, -0.3090169750086719], '#ffffff', 0, [[0.9510565400123596, 0, 0.30901700258255005], [0.5877852439880371, 0, -0.80901700258255], [0.5877852439880371, 0, -0.80901700258255]], []], [21, 26, 22, [0.9510565225876377, 0, -0.3090169750086719], '#ffffff', 0, [[0.9510565400123596, 0, 0.30901700258255005], [0.9510565400123596, 0, 0.30901700258255005], [0.5877852439880371, 0, -0.80901700258255]], []], [26, 27, 22, [0.9510565225876377, 0, -0.3090169750086719], '#ffffff', 0, [[0.9510565400123596, 0, 0.30901700258255005], [0.5877852439880371, 0, -0.80901700258255], [0.5877852439880371, 0, -0.80901700258255]], []], [26, 31, 27, [0.9510565225876376, 0, -0.3090169750086719], '#ffffff', 0, [[0.9510565400123596, 0, 0.30901700258255005], [0.9510565400123596, 0, 0.30901700258255005], [0.5877852439880371, 0, -0.80901700258255]], []], [31, 32, 27, [0.9510565225876376, 0, -0.3090169750086719], '#ffffff', 0, [[0.9510565400123596, 0, 0.30901700258255005], [0.5877852439880371, 0, -0.80901700258255], [0.5877852439880371, 0, -0.80901700258255]], []], [31, 36, 32, [0.9510565225876377, 0, -0.3090169750086719], '#ffffff', 0, [[0.9510565400123596, 0, 0.30901700258255005], [0.9510565400123596, 0, 0.30901700258255005], [0.5877852439880371, 0, -0.80901700258255]], []], [36, 37, 32, [0.9510565225876377, 0, -0.3090169750086719], '#ffffff', 0, [[0.9510565400123596, 0, 0.30901700258255005], [0.5877852439880371, 0, -0.80901700258255], [0.5877852439880371, 0, -0.80901700258255]], []], [36, 41, 37, [0.9510565225876377, 0, -0.3090169750086719], '#ffffff', 0, [[0.9510565400123596, 0, 0.30901700258255005], [0.9510565400123596, 0, 0.30901700258255005], [0.5877852439880371, 0, -0.80901700258255]], []], [41, 42, 37, [0.9510565225876377, 0, -0.3090169750086719], '#ffffff', 0, [[0.9510565400123596, 0, 0.30901700258255005], [0.5877852439880371, 0, -0.80901700258255], [0.5877852439880371, 0, -0.80901700258255]], []], [41, 46, 42, [0.9510565225876377, 0, -0.3090169750086719], '#ffffff', 0, [[0.9510565400123596, 0, 0.30901700258255005], [0.9510565400123596, 0, 0.30901700258255005], [0.5877852439880371, 0, -0.80901700258255]], []], [46, 47, 42, [0.9510565225876377, 0, -0.3090169750086719], '#ffffff', 0, [[0.9510565400123596, 0, 0.30901700258255005], [0.5877852439880371, 0, -0.80901700258255], [0.5877852439880371, 0, -0.80901700258255]], []], [46, 51, 47, [0.9510565225876376, 0, -0.3090169750086719], '#ffffff', 0, [[0.9510565400123596, 0, 0.30901700258255005], [0.9510565400123596, 0, 0.30901700258255005], [0.5877852439880371, 0, -0.80901700258255]], []], [51, 52, 47, [0.9510565225876376, 0, -0.3090169750086719], '#ffffff', 0, [[0.9510565400123596, 0, 0.30901700258255005], [0.5877852439880371, 0, -0.80901700258255], [0.5877852439880371, 0, -0.80901700258255]], []], [51, 56, 52, [0.9510565225876377, 0, -0.3090169750086719], '#ffffff', 0, [[0.9510565400123596, 0, 0.30901700258255005], [0.9510565400123596, 0, 0.30901700258255005], [0.5877852439880371, 0, -0.80901700258255]], []], [56, 57, 52, [0.9510565225876377, 0, -0.3090169750086719], '#ffffff', 0, [[0.9510565400123596, 0, 0.30901700258255005], [0.5877852439880371, 0, -0.80901700258255], [0.5877852439880371, 0, -0.80901700258255]], []], [56, 61, 57, [0.9510565225876376, 0, -0.3090169750086719], '#ffffff', 0, [[0.9510565400123596, 0, 0.30901700258255005], [0.9510565400123596, 0, 0.30901700258255005], [0.5877852439880371, 0, -0.80901700258255]], []], [61, 62, 57, [0.9510565225876376, 0, -0.3090169750086719], '#ffffff', 0, [[0.9510565400123596, 0, 0.30901700258255005], [0.5877852439880371, 0, -0.80901700258255], [0.5877852439880371, 0, -0.80901700258255]], []], [61, 66, 62, [0.9510565225876377, 0, -0.3090169750086719], '#ffffff', 0, [[0.9510565400123596, 0, 0.30901700258255005], [0.9510565400123596, 0, 0.30901700258255005], [0.5877852439880371, 0, -0.80901700258255]], []], [66, 67, 62, [0.9510565225876377, 0, -0.3090169750086719], '#ffffff', 0, [[0.9510565400123596, 0, 0.30901700258255005], [0.5877852439880371, 0, -0.80901700258255], [0.5877852439880371, 0, -0.80901700258255]], []], [66, 71, 67, [0.9510565225876377, 0, -0.3090169750086719], '#ffffff', 0, [[0.9510565400123596, 0, 0.30901700258255005], [0.9510565400123596, 0, 0.30901700258255005], [0.5877852439880371, 0, -0.80901700258255]], []], [71, 72, 67, [0.9510565225876377, 0, -0.3090169750086719], '#ffffff', 0, [[0.9510565400123596, 0, 0.30901700258255005], [0.5877852439880371, 0, -0.80901700258255], [0.5877852439880371, 0, -0.80901700258255]], []], [71, 76, 72, [0.9510565225876377, 0, -0.3090169750086719], '#ffffff', 0, [[0.9510565400123596, 0, 0.30901700258255005], [0.9510565400123596, 0, 0.30901700258255005], [0.5877852439880371, 0, -0.80901700258255]], []], [76, 77, 72, [0.9510565225876377, 0, -0.3090169750086719], '#ffffff', 0, [[0.9510565400123596, 0, 0.30901700258255005], [0.5877852439880371, 0, -0.80901700258255], [0.5877852439880371, 0, -0.80901700258255]], []], [2, 7, 3, [0, 0, -0.9999999999999999], '#ffffff', 0, [[0.5877852439880371, 0, -0.80901700258255], [0.5877852439880371, 0, -0.80901700258255], [-0.5877852439880371, 0, -0.80901700258255]], []], [7, 8, 3, [0, 0, -0.9999999999999999], '#ffffff', 0, [[0.5877852439880371, 0, -0.80901700258255], [-0.5877852439880371, 0, -0.80901700258255], [-0.5877852439880371, 0, -0.80901700258255]], []], [7, 12, 8, [0, 0, -1], '#ffffff', 0, [[0.5877852439880371, 0, -0.80901700258255], [0.5877852439880371, 0, -0.80901700258255], [-0.5877852439880371, 0, -0.80901700258255]], []], [12, 13, 8, [0, 0, -1], '#ffffff', 0, [[0.5877852439880371, 0, -0.80901700258255], [-0.5877852439880371, 0, -0.80901700258255], [-0.5877852439880371, 0, -0.80901700258255]], []], [12, 17, 13, [0, 0, -0.9999999999999999], '#ffffff', 0, [[0.5877852439880371, 0, -0.80901700258255], [0.5877852439880371, 0, -0.80901700258255], [-0.5877852439880371, 0, -0.80901700258255]], []], [17, 18, 13, [0, 0, -0.9999999999999999], '#ffffff', 0, [[0.5877852439880371, 0, -0.80901700258255], [-0.5877852439880371, 0, -0.80901700258255], [-0.5877852439880371, 0, -0.80901700258255]], []], [17, 22, 18, [0, 0, -1], '#ffffff', 0, [[0.5877852439880371, 0, -0.80901700258255], [0.5877852439880371, 0, -0.80901700258255], [-0.5877852439880371, 0, -0.80901700258255]], []], [22, 23, 18, [0, 0, -1], '#ffffff', 0, [[0.5877852439880371, 0, -0.80901700258255], [-0.5877852439880371, 0, -0.80901700258255], [-0.5877852439880371, 0, -0.80901700258255]], []], [22, 27, 23, [0, 0, -0.9999999999999999], '#ffffff', 0, [[0.5877852439880371, 0, -0.80901700258255], [0.5877852439880371, 0, -0.80901700258255], [-0.5877852439880371, 0, -0.80901700258255]], []], [27, 28, 23, [0, 0, -0.9999999999999999], '#ffffff', 0, [[0.5877852439880371, 0, -0.80901700258255], [-0.5877852439880371, 0, -0.80901700258255], [-0.5877852439880371, 0, -0.80901700258255]], []], [27, 32, 28, [0, 0, -1], '#ffffff', 0, [[0.5877852439880371, 0, -0.80901700258255], [0.5877852439880371, 0, -0.80901700258255], [-0.5877852439880371, 0, -0.80901700258255]], []], [32, 33, 28, [0, 0, -1], '#ffffff', 0, [[0.5877852439880371, 0, -0.80901700258255], [-0.5877852439880371, 0, -0.80901700258255], [-0.5877852439880371, 0, -0.80901700258255]], []], [32, 37, 33, [0, 0, -1], '#ffffff', 0, [[0.5877852439880371, 0, -0.80901700258255], [0.5877852439880371, 0, -0.80901700258255], [-0.5877852439880371, 0, -0.80901700258255]], []], [37, 38, 33, [0, 0, -1], '#ffffff', 0, [[0.5877852439880371, 0, -0.80901700258255], [-0.5877852439880371, 0, -0.80901700258255], [-0.5877852439880371, 0, -0.80901700258255]], []], [37, 42, 38, [0, 0, -1], '#ffffff', 0, [[0.5877852439880371, 0, -0.80901700258255], [0.5877852439880371, 0, -0.80901700258255], [-0.5877852439880371, 0, -0.80901700258255]], []], [42, 43, 38, [0, 0, -1], '#ffffff', 0, [[0.5877852439880371, 0, -0.80901700258255], [-0.5877852439880371, 0, -0.80901700258255], [-0.5877852439880371, 0, -0.80901700258255]], []], [42, 47, 43, [0, 0, -1], '#ffffff', 0, [[0.5877852439880371, 0, -0.80901700258255], [0.5877852439880371, 0, -0.80901700258255], [-0.5877852439880371, 0, -0.80901700258255]], []], [47, 48, 43, [0, 0, -1], '#ffffff', 0, [[0.5877852439880371, 0, -0.80901700258255], [-0.5877852439880371, 0, -0.80901700258255], [-0.5877852439880371, 0, -0.80901700258255]], []], [47, 52, 48, [0, 0, -1], '#ffffff', 0, [[0.5877852439880371, 0, -0.80901700258255], [0.5877852439880371, 0, -0.80901700258255], [-0.5877852439880371, 0, -0.80901700258255]], []], [52, 53, 48, [0, 0, -1], '#ffffff', 0, [[0.5877852439880371, 0, -0.80901700258255], [-0.5877852439880371, 0, -0.80901700258255], [-0.5877852439880371, 0, -0.80901700258255]], []], [52, 57, 53, [0, 0, -0.9999999999999999], '#ffffff', 0, [[0.5877852439880371, 0, -0.80901700258255], [0.5877852439880371, 0, -0.80901700258255], [-0.5877852439880371, 0, -0.80901700258255]], []], [57, 58, 53, [0, 0, -0.9999999999999999], '#ffffff', 0, [[0.5877852439880371, 0, -0.80901700258255], [-0.5877852439880371, 0, -0.80901700258255], [-0.5877852439880371, 0, -0.80901700258255]], []], [57, 62, 58, [0, 0, -1], '#ffffff', 0, [[0.5877852439880371, 0, -0.80901700258255], [0.5877852439880371, 0, -0.80901700258255], [-0.5877852439880371, 0, -0.80901700258255]], []], [62, 63, 58, [0, 0, -1], '#ffffff', 0, [[0.5877852439880371, 0, -0.80901700258255], [-0.5877852439880371, 0, -0.80901700258255], [-0.5877852439880371, 0, -0.80901700258255]], []], [62, 67, 63, [0, 0, -0.9999999999999999], '#ffffff', 0, [[0.5877852439880371, 0, -0.80901700258255], [0.5877852439880371, 0, -0.80901700258255], [-0.5877852439880371, 0, -0.80901700258255]], []], [67, 68, 63, [0, 0, -0.9999999999999999], '#ffffff', 0, [[0.5877852439880371, 0, -0.80901700258255], [-0.5877852439880371, 0, -0.80901700258255], [-0.5877852439880371, 0, -0.80901700258255]], []], [67, 72, 68, [0, 0, -1], '#ffffff', 0, [[0.5877852439880371, 0, -0.80901700258255], [0.5877852439880371, 0, -0.80901700258255], [-0.5877852439880371, 0, -0.80901700258255]], []], [72, 73, 68, [0, 0, -1], '#ffffff', 0, [[0.5877852439880371, 0, -0.80901700258255], [-0.5877852439880371, 0, -0.80901700258255], [-0.5877852439880371, 0, -0.80901700258255]], []], [72, 77, 73, [0, 0, -0.9999999999999999], '#ffffff', 0, [[0.5877852439880371, 0, -0.80901700258255], [0.5877852439880371, 0, -0.80901700258255], [-0.5877852439880371, 0, -0.80901700258255]], []], [77, 78, 73, [0, 0, -0.9999999999999999], '#ffffff', 0, [[0.5877852439880371, 0, -0.80901700258255], [-0.5877852439880371, 0, -0.80901700258255], [-0.5877852439880371, 0, -0.80901700258255]], []], [3, 8, 4, [-0.9510565225876377, 0, -0.3090169750086719], '#ffffff', 0, [[-0.5877852439880371, 0, -0.80901700258255], [-0.5877852439880371, 0, -0.80901700258255], [-0.9510565400123596, 0, 0.30901700258255005]], []], [8, 9, 4, [-0.9510565225876377, 0, -0.3090169750086719], '#ffffff', 0, [[-0.5877852439880371, 0, -0.80901700258255], [-0.9510565400123596, 0, 0.30901700258255005], [-0.9510565400123596, 0, 0.30901700258255005]], []], [8, 13, 9, [-0.9510565225876377, 0, -0.3090169750086719], '#ffffff', 0, [[-0.5877852439880371, 0, -0.80901700258255], [-0.5877852439880371, 0, -0.80901700258255], [-0.9510565400123596, 0, 0.30901700258255005]], []], [13, 14, 9, [-0.9510565225876377, 0, -0.3090169750086719], '#ffffff', 0, [[-0.5877852439880371, 0, -0.80901700258255], [-0.9510565400123596, 0, 0.30901700258255005], [-0.9510565400123596, 0, 0.30901700258255005]], []], [13, 18, 14, [-0.9510565225876377, 0, -0.3090169750086719], '#ffffff', 0, [[-0.5877852439880371, 0, -0.80901700258255], [-0.5877852439880371, 0, -0.80901700258255], [-0.9510565400123596, 0, 0.30901700258255005]], []], [18, 19, 14, [-0.9510565225876377, 0, -0.3090169750086719], '#ffffff', 0, [[-0.5877852439880371, 0, -0.80901700258255], [-0.9510565400123596, 0, 0.30901700258255005], [-0.9510565400123596, 0, 0.30901700258255005]], []], [18, 23, 19, [-0.9510565225876376, 0, -0.3090169750086719], '#ffffff', 0, [[-0.5877852439880371, 0, -0.80901700258255], [-0.5877852439880371, 0, -0.80901700258255], [-0.9510565400123596, 0, 0.30901700258255005]], []], [23, 24, 19, [-0.9510565225876376, 0, -0.3090169750086719], '#ffffff', 0, [[-0.5877852439880371, 0, -0.80901700258255], [-0.9510565400123596, 0, 0.30901700258255005], [-0.9510565400123596, 0, 0.30901700258255005]], []], [23, 28, 24, [-0.9510565225876377, 0, -0.3090169750086719], '#ffffff', 0, [[-0.5877852439880371, 0, -0.80901700258255], [-0.5877852439880371, 0, -0.80901700258255], [-0.9510565400123596, 0, 0.30901700258255005]], []], [28, 29, 24, [-0.9510565225876377, 0, -0.3090169750086719], '#ffffff', 0, [[-0.5877852439880371, 0, -0.80901700258255], [-0.9510565400123596, 0, 0.30901700258255005], [-0.9510565400123596, 0, 0.30901700258255005]], []], [28, 33, 29, [-0.9510565225876376, 0, -0.3090169750086719], '#ffffff', 0, [[-0.5877852439880371, 0, -0.80901700258255], [-0.5877852439880371, 0, -0.80901700258255], [-0.9510565400123596, 0, 0.30901700258255005]], []], [33, 34, 29, [-0.9510565225876376, 0, -0.3090169750086719], '#ffffff', 0, [[-0.5877852439880371, 0, -0.80901700258255], [-0.9510565400123596, 0, 0.30901700258255005], [-0.9510565400123596, 0, 0.30901700258255005]], []], [33, 38, 34, [-0.9510565225876377, 0, -0.3090169750086719], '#ffffff', 0, [[-0.5877852439880371, 0, -0.80901700258255], [-0.5877852439880371, 0, -0.80901700258255], [-0.9510565400123596, 0, 0.30901700258255005]], []], [38, 39, 34, [-0.9510565225876377, 0, -0.3090169750086719], '#ffffff', 0, [[-0.5877852439880371, 0, -0.80901700258255], [-0.9510565400123596, 0, 0.30901700258255005], [-0.9510565400123596, 0, 0.30901700258255005]], []], [38, 43, 39, [-0.9510565225876377, 0, -0.3090169750086719], '#ffffff', 0, [[-0.5877852439880371, 0, -0.80901700258255], [-0.5877852439880371, 0, -0.80901700258255], [-0.9510565400123596, 0, 0.30901700258255005]], []], [43, 44, 39, [-0.9510565225876377, 0, -0.3090169750086719], '#ffffff', 0, [[-0.5877852439880371, 0, -0.80901700258255], [-0.9510565400123596, 0, 0.30901700258255005], [-0.9510565400123596, 0, 0.30901700258255005]], []], [43, 48, 44, [-0.9510565225876377, 0, -0.3090169750086719], '#ffffff', 0, [[-0.5877852439880371, 0, -0.80901700258255], [-0.5877852439880371, 0, -0.80901700258255], [-0.9510565400123596, 0, 0.30901700258255005]], []], [48, 49, 44, [-0.9510565225876377, 0, -0.3090169750086719], '#ffffff', 0, [[-0.5877852439880371, 0, -0.80901700258255], [-0.9510565400123596, 0, 0.30901700258255005], [-0.9510565400123596, 0, 0.30901700258255005]], []], [48, 53, 49, [-0.9510565225876376, 0, -0.3090169750086719], '#ffffff', 0, [[-0.5877852439880371, 0, -0.80901700258255], [-0.5877852439880371, 0, -0.80901700258255], [-0.9510565400123596, 0, 0.30901700258255005]], []], [53, 54, 49, [-0.9510565225876376, 0, -0.3090169750086719], '#ffffff', 0, [[-0.5877852439880371, 0, -0.80901700258255], [-0.9510565400123596, 0, 0.30901700258255005], [-0.9510565400123596, 0, 0.30901700258255005]], []], [53, 58, 54, [-0.9510565225876377, 0, -0.3090169750086719], '#ffffff', 0, [[-0.5877852439880371, 0, -0.80901700258255], [-0.5877852439880371, 0, -0.80901700258255], [-0.9510565400123596, 0, 0.30901700258255005]], []], [58, 59, 54, [-0.9510565225876377, 0, -0.3090169750086719], '#ffffff', 0, [[-0.5877852439880371, 0, -0.80901700258255], [-0.9510565400123596, 0, 0.30901700258255005], [-0.9510565400123596, 0, 0.30901700258255005]], []], [58, 63, 59, [-0.9510565225876376, 0, -0.3090169750086719], '#ffffff', 0, [[-0.5877852439880371, 0, -0.80901700258255], [-0.5877852439880371, 0, -0.80901700258255], [-0.9510565400123596, 0, 0.30901700258255005]], []], [63, 64, 59, [-0.9510565225876376, 0, -0.3090169750086719], '#ffffff', 0, [[-0.5877852439880371, 0, -0.80901700258255], [-0.9510565400123596, 0, 0.30901700258255005], [-0.9510565400123596, 0, 0.30901700258255005]], []], [63, 68, 64, [-0.9510565225876377, 0, -0.3090169750086719], '#ffffff', 0, [[-0.5877852439880371, 0, -0.80901700258255], [-0.5877852439880371, 0, -0.80901700258255], [-0.9510565400123596, 0, 0.30901700258255005]], []], [68, 69, 64, [-0.9510565225876377, 0, -0.3090169750086719], '#ffffff', 0, [[-0.5877852439880371, 0, -0.80901700258255], [-0.9510565400123596, 0, 0.30901700258255005], [-0.9510565400123596, 0, 0.30901700258255005]], []], [68, 73, 69, [-0.9510565225876377, 0, -0.3090169750086719], '#ffffff', 0, [[-0.5877852439880371, 0, -0.80901700258255], [-0.5877852439880371, 0, -0.80901700258255], [-0.9510565400123596, 0, 0.30901700258255005]], []], [73, 74, 69, [-0.9510565225876377, 0, -0.3090169750086719], '#ffffff', 0, [[-0.5877852439880371, 0, -0.80901700258255], [-0.9510565400123596, 0, 0.30901700258255005], [-0.9510565400123596, 0, 0.30901700258255005]], []], [73, 78, 74, [-0.9510565225876377, 0, -0.3090169750086719], '#ffffff', 0, [[-0.5877852439880371, 0, -0.80901700258255], [-0.5877852439880371, 0, -0.80901700258255], [-0.9510565400123596, 0, 0.30901700258255005]], []], [78, 79, 74, [-0.9510565225876377, 0, -0.3090169750086719], '#ffffff', 0, [[-0.5877852439880371, 0, -0.80901700258255], [-0.9510565400123596, 0, 0.30901700258255005], [-0.9510565400123596, 0, 0.30901700258255005]], []], [4, 9, 0, [-0.5877852688766722, 0, 0.8090169823258212], '#ffffff', 0, [[-0.9510565400123596, 0, 0.30901700258255005], [-0.9510565400123596, 0, 0.30901700258255005], [-2.4492937051703357e-16, 0, 1]], []], [9, 5, 0, [-0.5877852688766722, 0, 0.8090169823258212], '#ffffff', 0, [[-0.9510565400123596, 0, 0.30901700258255005], [-2.4492937051703357e-16, 0, 1], [-2.4492937051703357e-16, 0, 1]], []], [9, 14, 5, [-0.5877852688766722, 0, 0.8090169823258212], '#ffffff', 0, [[-0.9510565400123596, 0, 0.30901700258255005], [-0.9510565400123596, 0, 0.30901700258255005], [-2.4492937051703357e-16, 0, 1]], []], [14, 10, 5, [-0.5877852688766722, 0, 0.8090169823258212], '#ffffff', 0, [[-0.9510565400123596, 0, 0.30901700258255005], [-2.4492937051703357e-16, 0, 1], [-2.4492937051703357e-16, 0, 1]], []], [14, 19, 10, [-0.5877852688766722, 0, 0.8090169823258212], '#ffffff', 0, [[-0.9510565400123596, 0, 0.30901700258255005], [-0.9510565400123596, 0, 0.30901700258255005], [-2.4492937051703357e-16, 0, 1]], []], [19, 15, 10, [-0.5877852688766722, 0, 0.8090169823258212], '#ffffff', 0, [[-0.9510565400123596, 0, 0.30901700258255005], [-2.4492937051703357e-16, 0, 1], [-2.4492937051703357e-16, 0, 1]], []], [19, 24, 15, [-0.5877852688766723, 0, 0.8090169823258213], '#ffffff', 0, [[-0.9510565400123596, 0, 0.30901700258255005], [-0.9510565400123596, 0, 0.30901700258255005], [-2.4492937051703357e-16, 0, 1]], []], [24, 20, 15, [-0.5877852688766723, 0, 0.8090169823258213], '#ffffff', 0, [[-0.9510565400123596, 0, 0.30901700258255005], [-2.4492937051703357e-16, 0, 1], [-2.4492937051703357e-16, 0, 1]], []], [24, 29, 20, [-0.5877852688766722, 0, 0.8090169823258212], '#ffffff', 0, [[-0.9510565400123596, 0, 0.30901700258255005], [-0.9510565400123596, 0, 0.30901700258255005], [-2.4492937051703357e-16, 0, 1]], []], [29, 25, 20, [-0.5877852688766722, 0, 0.8090169823258212], '#ffffff', 0, [[-0.9510565400123596, 0, 0.30901700258255005], [-2.4492937051703357e-16, 0, 1], [-2.4492937051703357e-16, 0, 1]], []], [29, 34, 25, [-0.5877852688766723, 0, 0.8090169823258213], '#ffffff', 0, [[-0.9510565400123596, 0, 0.30901700258255005], [-0.9510565400123596, 0, 0.30901700258255005], [-2.4492937051703357e-16, 0, 1]], []], [34, 30, 25, [-0.5877852688766723, 0, 0.8090169823258213], '#ffffff', 0, [[-0.9510565400123596, 0, 0.30901700258255005], [-2.4492937051703357e-16, 0, 1], [-2.4492937051703357e-16, 0, 1]], []], [34, 39, 30, [-0.5877852688766722, 0, 0.8090169823258212], '#ffffff', 0, [[-0.9510565400123596, 0, 0.30901700258255005], [-0.9510565400123596, 0, 0.30901700258255005], [-2.4492937051703357e-16, 0, 1]], []], [39, 35, 30, [-0.5877852688766722, 0, 0.8090169823258212], '#ffffff', 0, [[-0.9510565400123596, 0, 0.30901700258255005], [-2.4492937051703357e-16, 0, 1], [-2.4492937051703357e-16, 0, 1]], []], [39, 44, 35, [-0.5877852688766722, 0, 0.8090169823258212], '#ffffff', 0, [[-0.9510565400123596, 0, 0.30901700258255005], [-0.9510565400123596, 0, 0.30901700258255005], [-2.4492937051703357e-16, 0, 1]], []], [44, 40, 35, [-0.5877852688766722, 0, 0.8090169823258212], '#ffffff', 0, [[-0.9510565400123596, 0, 0.30901700258255005], [-2.4492937051703357e-16, 0, 1], [-2.4492937051703357e-16, 0, 1]], []], [44, 49, 40, [-0.5877852688766722, 0, 0.8090169823258212], '#ffffff', 0, [[-0.9510565400123596, 0, 0.30901700258255005], [-0.9510565400123596, 0, 0.30901700258255005], [-2.4492937051703357e-16, 0, 1]], []], [49, 45, 40, [-0.5877852688766722, 0, 0.8090169823258212], '#ffffff', 0, [[-0.9510565400123596, 0, 0.30901700258255005], [-2.4492937051703357e-16, 0, 1], [-2.4492937051703357e-16, 0, 1]], []], [49, 54, 45, [-0.5877852688766723, 0, 0.8090169823258213], '#ffffff', 0, [[-0.9510565400123596, 0, 0.30901700258255005], [-0.9510565400123596, 0, 0.30901700258255005], [-2.4492937051703357e-16, 0, 1]], []], [54, 50, 45, [-0.5877852688766723, 0, 0.8090169823258213], '#ffffff', 0, [[-0.9510565400123596, 0, 0.30901700258255005], [-2.4492937051703357e-16, 0, 1], [-2.4492937051703357e-16, 0, 1]], []], [54, 59, 50, [-0.5877852688766722, 0, 0.8090169823258212], '#ffffff', 0, [[-0.9510565400123596, 0, 0.30901700258255005], [-0.9510565400123596, 0, 0.30901700258255005], [-2.4492937051703357e-16, 0, 1]], []], [59, 55, 50, [-0.5877852688766722, 0, 0.8090169823258212], '#ffffff', 0, [[-0.9510565400123596, 0, 0.30901700258255005], [-2.4492937051703357e-16, 0, 1], [-2.4492937051703357e-16, 0, 1]], []], [59, 64, 55, [-0.5877852688766723, 0, 0.8090169823258213], '#ffffff', 0, [[-0.9510565400123596, 0, 0.30901700258255005], [-0.9510565400123596, 0, 0.30901700258255005], [-2.4492937051703357e-16, 0, 1]], []], [64, 60, 55, [-0.5877852688766723, 0, 0.8090169823258213], '#ffffff', 0, [[-0.9510565400123596, 0, 0.30901700258255005], [-2.4492937051703357e-16, 0, 1], [-2.4492937051703357e-16, 0, 1]], []], [64, 69, 60, [-0.5877852688766722, 0, 0.8090169823258212], '#ffffff', 0, [[-0.9510565400123596, 0, 0.30901700258255005], [-0.9510565400123596, 0, 0.30901700258255005], [-2.4492937051703357e-16, 0, 1]], []], [69, 65, 60, [-0.5877852688766722, 0, 0.8090169823258212], '#ffffff', 0, [[-0.9510565400123596, 0, 0.30901700258255005], [-2.4492937051703357e-16, 0, 1], [-2.4492937051703357e-16, 0, 1]], []], [69, 74, 65, [-0.5877852688766722, 0, 0.8090169823258212], '#ffffff', 0, [[-0.9510565400123596, 0, 0.30901700258255005], [-0.9510565400123596, 0, 0.30901700258255005], [-2.4492937051703357e-16, 0, 1]], []], [74, 70, 65, [-0.5877852688766722, 0, 0.8090169823258212], '#ffffff', 0, [[-0.9510565400123596, 0, 0.30901700258255005], [-2.4492937051703357e-16, 0, 1], [-2.4492937051703357e-16, 0, 1]], []], [74, 79, 70, [-0.5877852688766722, 0, 0.8090169823258212], '#ffffff', 0, [[-0.9510565400123596, 0, 0.30901700258255005], [-0.9510565400123596, 0, 0.30901700258255005], [-2.4492937051703357e-16, 0, 1]], []], [79, 75, 70, [-0.5877852688766722, 0, 0.8090169823258212], '#ffffff', 0, [[-0.9510565400123596, 0, 0.30901700258255005], [-2.4492937051703357e-16, 0, 1], [-2.4492937051703357e-16, 0, 1]], []]), skinIndices=[[2.0, 3.0, 0, 0], [2.0, 3.0, 0, 0], [2.0, 3.0, 0, 0], [2.0, 3.0, 0, 0], [2.0, 3.0, 0, 0], [1.0, 2.0, 0, 0], [1.0, 2.0, 0, 0], [1.0, 2.0, 0, 0], [1.0, 2.0, 0, 0], [1.0, 2.0, 0, 0], [1.0, 2.0, 0, 0], [1.0, 2.0, 0, 0], [1.0, 2.0, 0, 0], [1.0, 2.0, 0, 0], [1.0, 2.0, 0, 0], [1.0, 2.0, 0, 0], [1.0, 2.0, 0, 0], [1.0, 2.0, 0, 0], [1.0, 2.0, 0, 0], [1.0, 2.0, 0, 0], [1.0, 2.0, 0, 0], [1.0, 2.0, 0, 0], [1.0, 2.0, 0, 0], [1.0, 2.0, 0, 0], [1.0, 2.0, 0, 0], [1.0, 2.0, 0, 0], [1.0, 2.0, 0, 0], [1.0, 2.0, 0, 0], [1.0, 2.0, 0, 0], [1.0, 2.0, 0, 0], [1.0, 2.0, 0, 0], [1.0, 2.0, 0, 0], [1.0, 2.0, 0, 0], [1.0, 2.0, 0, 0], [1.0, 2.0, 0, 0], [1.0, 2.0, 0, 0], [1.0, 2.0, 0, 0], [1.0, 2.0, 0, 0], [1.0, 2.0, 0, 0], [1.0, 2.0, 0, 0], [0.0, 1.0, 0, 0], [0.0, 1.0, 0, 0], [0.0, 1.0, 0, 0], [0.0, 1.0, 0, 0], [0.0, 1.0, 0, 0], [0.0, 1.0, 0, 0], [0.0, 1.0, 0, 0], [0.0, 1.0, 0, 0], [0.0, 1.0, 0, 0], [0.0, 1.0, 0, 0], [0.0, 1.0, 0, 0], [0.0, 1.0, 0, 0], [0.0, 1.0, 0, 0], [0.0, 1.0, 0, 0], [0.0, 1.0, 0, 0], [0.0, 1.0, 0, 0], [0.0, 1.0, 0, 0], [0.0, 1.0, 0, 0], [0.0, 1.0, 0, 0], [0.0, 1.0, 0, 0], [0.0, 1.0, 0, 0], [0.0, 1.0, 0, 0], [0.0, 1.0, 0, 0], [0.0, 1.0, 0, 0], [0.0, 1.0, 0, 0], [0.0, 1.0, 0, 0], [0.0, 1.0, 0, 0], [0.0, 1.0, 0, 0], [0.0, 1.0, 0, 0], [0.0, 1.0, 0, 0], [0.0, 1.0, 0, 0], [0.0, 1.0, 0, 0], [0.0, 1.0, 0, 0], [0.0, 1.0, 0, 0], [0.0, 1.0, 0, 0], [0.0, 1.0, 0, 0], [0.0, 1.0, 0, 0], [0.0, 1.0, 0, 0], [0.0, 1.0, 0, 0], [0.0, 1.0, 0, 0]], skinWeights=[[1.0, 0.0, 0, 0], [1.0, 0.0, 0, 0], [1.0, 0.0, 0, 0], [1.0, 0.0, 0, 0], [1.0, 0.0, 0, 0], [0.13333335876464847, 0.8666666412353515, 0, 0], [0.13333335876464847, 0.8666666412353515, 0, 0], [0.13333335876464847, 0.8666666412353515, 0, 0], [0.13333335876464847, 0.8666666412353515, 0, 0], [0.13333335876464847, 0.8666666412353515, 0, 0], [0.26666664123535155, 0.7333333587646484, 0, 0], [0.26666664123535155, 0.7333333587646484, 0, 0], [0.26666664123535155, 0.7333333587646484, 0, 0], [0.26666664123535155, 0.7333333587646484, 0, 0], [0.26666664123535155, 0.7333333587646484, 0, 0], [0.4, 0.6, 0, 0], [0.4, 0.6, 0, 0], [0.4, 0.6, 0, 0], [0.4, 0.6, 0, 0], [0.4, 0.6, 0, 0], [0.5333333206176758, 0.4666666793823242, 0, 0], [0.5333333206176758, 0.4666666793823242, 0, 0], [0.5333333206176758, 0.4666666793823242, 0, 0], [0.5333333206176758, 0.4666666793823242, 0, 0], [0.5333333206176758, 0.4666666793823242, 0, 0], [0.6666666793823242, 0.3333333206176758, 0, 0], [0.6666666793823242, 0.3333333206176758, 0, 0], [0.6666666793823242, 0.3333333206176758, 0, 0], [0.6666666793823242, 0.3333333206176758, 0, 0], [0.6666666793823242, 0.3333333206176758, 0, 0], [0.8, 0.2, 0, 0], [0.8, 0.2, 0, 0], [0.8, 0.2, 0, 0], [0.8, 0.2, 0, 0], [0.8, 0.2, 0, 0], [0.9333333349227906, 0.06666666507720947, 0, 0], [0.9333333349227906, 0.06666666507720947, 0, 0], [0.9333333349227906, 0.06666666507720947, 0, 0], [0.9333333349227906, 0.06666666507720947, 0, 0], [0.9333333349227906, 0.06666666507720947, 0, 0], [0.06666666507720942, 0.9333333349227906, 0, 0], [0.06666666507720942, 0.9333333349227906, 0, 0], [0.06666666507720942, 0.9333333349227906, 0, 0], [0.06666666507720942, 0.9333333349227906, 0, 0], [0.06666666507720942, 0.9333333349227906, 0, 0], [0.19999999999999996, 0.8, 0, 0], [0.19999999999999996, 0.8, 0, 0], [0.19999999999999996, 0.8, 0, 0], [0.19999999999999996, 0.8, 0, 0], [0.19999999999999996, 0.8, 0, 0], [0.33333332061767573, 0.6666666793823243, 0, 0], [0.33333332061767573, 0.6666666793823243, 0, 0], [0.33333332061767573, 0.6666666793823243, 0, 0], [0.33333332061767573, 0.6666666793823243, 0, 0], [0.33333332061767573, 0.6666666793823243, 0, 0], [0.4666666793823242, 0.5333333206176758, 0, 0], [0.4666666793823242, 0.5333333206176758, 0, 0], [0.4666666793823242, 0.5333333206176758, 0, 0], [0.4666666793823242, 0.5333333206176758, 0, 0], [0.4666666793823242, 0.5333333206176758, 0, 0], [0.6, 0.4, 0, 0], [0.6, 0.4, 0, 0], [0.6, 0.4, 0, 0], [0.6, 0.4, 0, 0], [0.6, 0.4, 0, 0], [0.7333333587646484, 0.26666664123535155, 0, 0], [0.7333333587646484, 0.26666664123535155, 0, 0], [0.7333333587646484, 0.26666664123535155, 0, 0], [0.7333333587646484, 0.26666664123535155, 0, 0], [0.7333333587646484, 0.26666664123535155, 0, 0], [0.8666666412353515, 0.13333335876464844, 0, 0], [0.8666666412353515, 0.13333335876464844, 0, 0], [0.8666666412353515, 0.13333335876464844, 0, 0], [0.8666666412353515, 0.13333335876464844, 0, 0], [0.8666666412353515, 0.13333335876464844, 0, 0], [1.0, 0.0, 0, 0], [1.0, 0.0, 0, 0], [1.0, 0.0, 0, 0], [1.0, 0.0, 0, 0], [1.0, 0.0, 0, 0]], type='Geometry', vertices=[[0, 25, 5], [4.755282402038574, 25, 1.5450849533081055], [2.9389262199401855, 25, -4.0450849533081055], [-2.9389262199401855, 25, -4.0450849533081055], [-4.755282402038574, 25, 1.5450849533081055], [0, 21.66666603088379, 5], [4.755282402038574, 21.66666603088379, 1.5450849533081055], [2.9389262199401855, 21.66666603088379, -4.0450849533081055], [-2.9389262199401855, 21.66666603088379, -4.0450849533081055], [-4.755282402038574, 21.66666603088379, 1.5450849533081055], [0, 18.33333396911621, 5], [4.755282402038574, 18.33333396911621, 1.5450849533081055], [2.9389262199401855, 18.33333396911621, -4.0450849533081055], [-2.9389262199401855, 18.33333396911621, -4.0450849533081055], [-4.755282402038574, 18.33333396911621, 1.5450849533081055], [0, 15, 5], [4.755282402038574, 15, 1.5450849533081055], [2.9389262199401855, 15, -4.0450849533081055], [-2.9389262199401855, 15, -4.0450849533081055], [-4.755282402038574, 15, 1.5450849533081055], [0, 11.666666984558105, 5], [4.755282402038574, 11.666666984558105, 1.5450849533081055], [2.9389262199401855, 11.666666984558105, -4.0450849533081055], [-2.9389262199401855, 11.666666984558105, -4.0450849533081055], [-4.755282402038574, 11.666666984558105, 1.5450849533081055], [0, 8.333333015441895, 5], [4.755282402038574, 8.333333015441895, 1.5450849533081055], [2.9389262199401855, 8.333333015441895, -4.0450849533081055], [-2.9389262199401855, 8.333333015441895, -4.0450849533081055], [-4.755282402038574, 8.333333015441895, 1.5450849533081055], [0, 5, 5], [4.755282402038574, 5, 1.5450849533081055], [2.9389262199401855, 5, -4.0450849533081055], [-2.9389262199401855, 5, -4.0450849533081055], [-4.755282402038574, 5, 1.5450849533081055], [0, 1.6666666269302368, 5], [4.755282402038574, 1.6666666269302368, 1.5450849533081055], [2.9389262199401855, 1.6666666269302368, -4.0450849533081055], [-2.9389262199401855, 1.6666666269302368, -4.0450849533081055], [-4.755282402038574, 1.6666666269302368, 1.5450849533081055], [0, -1.6666666269302368, 5], [4.755282402038574, -1.6666666269302368, 1.5450849533081055], [2.9389262199401855, -1.6666666269302368, -4.0450849533081055], [-2.9389262199401855, -1.6666666269302368, -4.0450849533081055], [-4.755282402038574, -1.6666666269302368, 1.5450849533081055], [0, -5, 5], [4.755282402038574, -5, 1.5450849533081055], [2.9389262199401855, -5, -4.0450849533081055], [-2.9389262199401855, -5, -4.0450849533081055], [-4.755282402038574, -5, 1.5450849533081055], [0, -8.333333015441895, 5], [4.755282402038574, -8.333333015441895, 1.5450849533081055], [2.9389262199401855, -8.333333015441895, -4.0450849533081055], [-2.9389262199401855, -8.333333015441895, -4.0450849533081055], [-4.755282402038574, -8.333333015441895, 1.5450849533081055], [0, -11.666666984558105, 5], [4.755282402038574, -11.666666984558105, 1.5450849533081055], [2.9389262199401855, -11.666666984558105, -4.0450849533081055], [-2.9389262199401855, -11.666666984558105, -4.0450849533081055], [-4.755282402038574, -11.666666984558105, 1.5450849533081055], [0, -15, 5], [4.755282402038574, -15, 1.5450849533081055], [2.9389262199401855, -15, -4.0450849533081055], [-2.9389262199401855, -15, -4.0450849533081055], [-4.755282402038574, -15, 1.5450849533081055], [0, -18.33333396911621, 5], [4.755282402038574, -18.33333396911621, 1.5450849533081055], [2.9389262199401855, -18.33333396911621, -4.0450849533081055], [-2.9389262199401855, -18.33333396911621, -4.0450849533081055], [-4.755282402038574, -18.33333396911621, 1.5450849533081055], [0, -21.66666603088379, 5], [4.755282402038574, -21.66666603088379, 1.5450849533081055], [2.9389262199401855, -21.66666603088379, -4.0450849533081055], [-2.9389262199401855, -21.66666603088379, -4.0450849533081055], [-4.755282402038574, -21.66666603088379, 1.5450849533081055], [0, -25, 5], [4.755282402038574, -25, 1.5450849533081055], [2.9389262199401855, -25, -4.0450849533081055], [-2.9389262199401855, -25, -4.0450849533081055], [-4.755282402038574, -25, 1.5450849533081055]]), material=MeshPhongMaterial(alphaMap=None, aoMap=None, bumpMap=None, displacementMap=None, emissiveMap=None, envMap=None, lightMap=None, map=None, normalMap=None, normalScale=(1.0, 1.0), side='DoubleSide', skinning=True, specularMap=None, type='MeshPhongMaterial'), quaternion=(0.0, 0.0, 0.0, 1.0), scale=(1.0, 1.0, 1.0), skeleton=Skeleton(bones=(Bone(children=(Bone(children=(Bone(position=(0.0, 25.0, 0.0), quaternion=(0.0, 0.0, 0.0, 1.0), scale=(1.0, 1.0, 1.0), type='Bone', up=(0.0, 1.0, 0.0)),), position=(0.0, 25.0, 0.0), quaternion=(0.0, 0.0, 0.0, 1.0), scale=(1.0, 1.0, 1.0), type='Bone', up=(0.0, 1.0, 0.0)),), position=(0.0, -25.0, 0.0), quaternion=(0.0, 0.0, 0.0, 1.0), scale=(1.0, 1.0, 1.0), type='Bone', up=(0.0, 1.0, 0.0)), Bone(children=(Bone(position=(0.0, 25.0, 0.0), quaternion=(0.0, 0.0, 0.0, 1.0), scale=(1.0, 1.0, 1.0), type='Bone', up=(0.0, 1.0, 0.0)),), position=(0.0, 25.0, 0.0), quaternion=(0.0, 0.0, 0.0, 1.0), scale=(1.0, 1.0, 1.0), type='Bone', up=(0.0, 1.0, 0.0)), Bone(position=(0.0, 25.0, 0.0), quaternion=(0.0, 0.0, 0.0, 1.0), scale=(1.0, 1.0, 1.0), type='Bone', up=(0.0, 1.0, 0.0)))), type='SkinnedMesh', up=(0.0, 1.0, 0.0)), mixer=AnimationMixer(rootObject=SkinnedMesh(children=(Bone(children=(Bone(children=(Bone(position=(0.0, 25.0, 0.0), quaternion=(0.0, 0.0, 0.0, 1.0), scale=(1.0, 1.0, 1.0), type='Bone', up=(0.0, 1.0, 0.0)),), position=(0.0, 25.0, 0.0), quaternion=(0.0, 0.0, 0.0, 1.0), scale=(1.0, 1.0, 1.0), type='Bone', up=(0.0, 1.0, 0.0)),), position=(0.0, -25.0, 0.0), quaternion=(0.0, 0.0, 0.0, 1.0), scale=(1.0, 1.0, 1.0), type='Bone', up=(0.0, 1.0, 0.0)),), geometry=Geometry(faceVertexUvs=[[[{'x': 0, 'y': 1}, {'x': 0, 'y': 0.9333333373069763}, {'x': 0.20000000298023224, 'y': 1}], [{'x': 0, 'y': 0.9333333373069763}, {'x': 0.20000000298023224, 'y': 0.9333333373069763}, {'x': 0.20000000298023224, 'y': 1}], [{'x': 0, 'y': 0.9333333373069763}, {'x': 0, 'y': 0.8666666746139526}, {'x': 0.20000000298023224, 'y': 0.9333333373069763}], [{'x': 0, 'y': 0.8666666746139526}, {'x': 0.20000000298023224, 'y': 0.8666666746139526}, {'x': 0.20000000298023224, 'y': 0.9333333373069763}], [{'x': 0, 'y': 0.8666666746139526}, {'x': 0, 'y': 0.800000011920929}, {'x': 0.20000000298023224, 'y': 0.8666666746139526}], [{'x': 0, 'y': 0.800000011920929}, {'x': 0.20000000298023224, 'y': 0.800000011920929}, {'x': 0.20000000298023224, 'y': 0.8666666746139526}], [{'x': 0, 'y': 0.800000011920929}, {'x': 0, 'y': 0.7333333492279053}, {'x': 0.20000000298023224, 'y': 0.800000011920929}], [{'x': 0, 'y': 0.7333333492279053}, {'x': 0.20000000298023224, 'y': 0.7333333492279053}, {'x': 0.20000000298023224, 'y': 0.800000011920929}], [{'x': 0, 'y': 0.7333333492279053}, {'x': 0, 'y': 0.6666666865348816}, {'x': 0.20000000298023224, 'y': 0.7333333492279053}], [{'x': 0, 'y': 0.6666666865348816}, {'x': 0.20000000298023224, 'y': 0.6666666865348816}, {'x': 0.20000000298023224, 'y': 0.7333333492279053}], [{'x': 0, 'y': 0.6666666865348816}, {'x': 0, 'y': 0.6000000238418579}, {'x': 0.20000000298023224, 'y': 0.6666666865348816}], [{'x': 0, 'y': 0.6000000238418579}, {'x': 0.20000000298023224, 'y': 0.6000000238418579}, {'x': 0.20000000298023224, 'y': 0.6666666865348816}], [{'x': 0, 'y': 0.6000000238418579}, {'x': 0, 'y': 0.5333333611488342}, {'x': 0.20000000298023224, 'y': 0.6000000238418579}], [{'x': 0, 'y': 0.5333333611488342}, {'x': 0.20000000298023224, 'y': 0.5333333611488342}, {'x': 0.20000000298023224, 'y': 0.6000000238418579}], [{'x': 0, 'y': 0.5333333611488342}, {'x': 0, 'y': 0.46666666865348816}, {'x': 0.20000000298023224, 'y': 0.5333333611488342}], [{'x': 0, 'y': 0.46666666865348816}, {'x': 0.20000000298023224, 'y': 0.46666666865348816}, {'x': 0.20000000298023224, 'y': 0.5333333611488342}], [{'x': 0, 'y': 0.46666666865348816}, {'x': 0, 'y': 0.4000000059604645}, {'x': 0.20000000298023224, 'y': 0.46666666865348816}], [{'x': 0, 'y': 0.4000000059604645}, {'x': 0.20000000298023224, 'y': 0.4000000059604645}, {'x': 0.20000000298023224, 'y': 0.46666666865348816}], [{'x': 0, 'y': 0.4000000059604645}, {'x': 0, 'y': 0.3333333432674408}, {'x': 0.20000000298023224, 'y': 0.4000000059604645}], [{'x': 0, 'y': 0.3333333432674408}, {'x': 0.20000000298023224, 'y': 0.3333333432674408}, {'x': 0.20000000298023224, 'y': 0.4000000059604645}], [{'x': 0, 'y': 0.3333333432674408}, {'x': 0, 'y': 0.2666666805744171}, {'x': 0.20000000298023224, 'y': 0.3333333432674408}], [{'x': 0, 'y': 0.2666666805744171}, {'x': 0.20000000298023224, 'y': 0.2666666805744171}, {'x': 0.20000000298023224, 'y': 0.3333333432674408}], [{'x': 0, 'y': 0.2666666805744171}, {'x': 0, 'y': 0.20000000298023224}, {'x': 0.20000000298023224, 'y': 0.2666666805744171}], [{'x': 0, 'y': 0.20000000298023224}, {'x': 0.20000000298023224, 'y': 0.20000000298023224}, {'x': 0.20000000298023224, 'y': 0.2666666805744171}], [{'x': 0, 'y': 0.20000000298023224}, {'x': 0, 'y': 0.13333334028720856}, {'x': 0.20000000298023224, 'y': 0.20000000298023224}], [{'x': 0, 'y': 0.13333334028720856}, {'x': 0.20000000298023224, 'y': 0.13333334028720856}, {'x': 0.20000000298023224, 'y': 0.20000000298023224}], [{'x': 0, 'y': 0.13333334028720856}, {'x': 0, 'y': 0.06666667014360428}, {'x': 0.20000000298023224, 'y': 0.13333334028720856}], [{'x': 0, 'y': 0.06666667014360428}, {'x': 0.20000000298023224, 'y': 0.06666667014360428}, {'x': 0.20000000298023224, 'y': 0.13333334028720856}], [{'x': 0, 'y': 0.06666667014360428}, {'x': 0, 'y': 0}, {'x': 0.20000000298023224, 'y': 0.06666667014360428}], [{'x': 0, 'y': 0}, {'x': 0.20000000298023224, 'y': 0}, {'x': 0.20000000298023224, 'y': 0.06666667014360428}], [{'x': 0.20000000298023224, 'y': 1}, {'x': 0.20000000298023224, 'y': 0.9333333373069763}, {'x': 0.4000000059604645, 'y': 1}], [{'x': 0.20000000298023224, 'y': 0.9333333373069763}, {'x': 0.4000000059604645, 'y': 0.9333333373069763}, {'x': 0.4000000059604645, 'y': 1}], [{'x': 0.20000000298023224, 'y': 0.9333333373069763}, {'x': 0.20000000298023224, 'y': 0.8666666746139526}, {'x': 0.4000000059604645, 'y': 0.9333333373069763}], [{'x': 0.20000000298023224, 'y': 0.8666666746139526}, {'x': 0.4000000059604645, 'y': 0.8666666746139526}, {'x': 0.4000000059604645, 'y': 0.9333333373069763}], [{'x': 0.20000000298023224, 'y': 0.8666666746139526}, {'x': 0.20000000298023224, 'y': 0.800000011920929}, {'x': 0.4000000059604645, 'y': 0.8666666746139526}], [{'x': 0.20000000298023224, 'y': 0.800000011920929}, {'x': 0.4000000059604645, 'y': 0.800000011920929}, {'x': 0.4000000059604645, 'y': 0.8666666746139526}], [{'x': 0.20000000298023224, 'y': 0.800000011920929}, {'x': 0.20000000298023224, 'y': 0.7333333492279053}, {'x': 0.4000000059604645, 'y': 0.800000011920929}], [{'x': 0.20000000298023224, 'y': 0.7333333492279053}, {'x': 0.4000000059604645, 'y': 0.7333333492279053}, {'x': 0.4000000059604645, 'y': 0.800000011920929}], [{'x': 0.20000000298023224, 'y': 0.7333333492279053}, {'x': 0.20000000298023224, 'y': 0.6666666865348816}, {'x': 0.4000000059604645, 'y': 0.7333333492279053}], [{'x': 0.20000000298023224, 'y': 0.6666666865348816}, {'x': 0.4000000059604645, 'y': 0.6666666865348816}, {'x': 0.4000000059604645, 'y': 0.7333333492279053}], [{'x': 0.20000000298023224, 'y': 0.6666666865348816}, {'x': 0.20000000298023224, 'y': 0.6000000238418579}, {'x': 0.4000000059604645, 'y': 0.6666666865348816}], [{'x': 0.20000000298023224, 'y': 0.6000000238418579}, {'x': 0.4000000059604645, 'y': 0.6000000238418579}, {'x': 0.4000000059604645, 'y': 0.6666666865348816}], [{'x': 0.20000000298023224, 'y': 0.6000000238418579}, {'x': 0.20000000298023224, 'y': 0.5333333611488342}, {'x': 0.4000000059604645, 'y': 0.6000000238418579}], [{'x': 0.20000000298023224, 'y': 0.5333333611488342}, {'x': 0.4000000059604645, 'y': 0.5333333611488342}, {'x': 0.4000000059604645, 'y': 0.6000000238418579}], [{'x': 0.20000000298023224, 'y': 0.5333333611488342}, {'x': 0.20000000298023224, 'y': 0.46666666865348816}, {'x': 0.4000000059604645, 'y': 0.5333333611488342}], [{'x': 0.20000000298023224, 'y': 0.46666666865348816}, {'x': 0.4000000059604645, 'y': 0.46666666865348816}, {'x': 0.4000000059604645, 'y': 0.5333333611488342}], [{'x': 0.20000000298023224, 'y': 0.46666666865348816}, {'x': 0.20000000298023224, 'y': 0.4000000059604645}, {'x': 0.4000000059604645, 'y': 0.46666666865348816}], [{'x': 0.20000000298023224, 'y': 0.4000000059604645}, {'x': 0.4000000059604645, 'y': 0.4000000059604645}, {'x': 0.4000000059604645, 'y': 0.46666666865348816}], [{'x': 0.20000000298023224, 'y': 0.4000000059604645}, {'x': 0.20000000298023224, 'y': 0.3333333432674408}, {'x': 0.4000000059604645, 'y': 0.4000000059604645}], [{'x': 0.20000000298023224, 'y': 0.3333333432674408}, {'x': 0.4000000059604645, 'y': 0.3333333432674408}, {'x': 0.4000000059604645, 'y': 0.4000000059604645}], [{'x': 0.20000000298023224, 'y': 0.3333333432674408}, {'x': 0.20000000298023224, 'y': 0.2666666805744171}, {'x': 0.4000000059604645, 'y': 0.3333333432674408}], [{'x': 0.20000000298023224, 'y': 0.2666666805744171}, {'x': 0.4000000059604645, 'y': 0.2666666805744171}, {'x': 0.4000000059604645, 'y': 0.3333333432674408}], [{'x': 0.20000000298023224, 'y': 0.2666666805744171}, {'x': 0.20000000298023224, 'y': 0.20000000298023224}, {'x': 0.4000000059604645, 'y': 0.2666666805744171}], [{'x': 0.20000000298023224, 'y': 0.20000000298023224}, {'x': 0.4000000059604645, 'y': 0.20000000298023224}, {'x': 0.4000000059604645, 'y': 0.2666666805744171}], [{'x': 0.20000000298023224, 'y': 0.20000000298023224}, {'x': 0.20000000298023224, 'y': 0.13333334028720856}, {'x': 0.4000000059604645, 'y': 0.20000000298023224}], [{'x': 0.20000000298023224, 'y': 0.13333334028720856}, {'x': 0.4000000059604645, 'y': 0.13333334028720856}, {'x': 0.4000000059604645, 'y': 0.20000000298023224}], [{'x': 0.20000000298023224, 'y': 0.13333334028720856}, {'x': 0.20000000298023224, 'y': 0.06666667014360428}, {'x': 0.4000000059604645, 'y': 0.13333334028720856}], [{'x': 0.20000000298023224, 'y': 0.06666667014360428}, {'x': 0.4000000059604645, 'y': 0.06666667014360428}, {'x': 0.4000000059604645, 'y': 0.13333334028720856}], [{'x': 0.20000000298023224, 'y': 0.06666667014360428}, {'x': 0.20000000298023224, 'y': 0}, {'x': 0.4000000059604645, 'y': 0.06666667014360428}], [{'x': 0.20000000298023224, 'y': 0}, {'x': 0.4000000059604645, 'y': 0}, {'x': 0.4000000059604645, 'y': 0.06666667014360428}], [{'x': 0.4000000059604645, 'y': 1}, {'x': 0.4000000059604645, 'y': 0.9333333373069763}, {'x': 0.6000000238418579, 'y': 1}], [{'x': 0.4000000059604645, 'y': 0.9333333373069763}, {'x': 0.6000000238418579, 'y': 0.9333333373069763}, {'x': 0.6000000238418579, 'y': 1}], [{'x': 0.4000000059604645, 'y': 0.9333333373069763}, {'x': 0.4000000059604645, 'y': 0.8666666746139526}, {'x': 0.6000000238418579, 'y': 0.9333333373069763}], [{'x': 0.4000000059604645, 'y': 0.8666666746139526}, {'x': 0.6000000238418579, 'y': 0.8666666746139526}, {'x': 0.6000000238418579, 'y': 0.9333333373069763}], [{'x': 0.4000000059604645, 'y': 0.8666666746139526}, {'x': 0.4000000059604645, 'y': 0.800000011920929}, {'x': 0.6000000238418579, 'y': 0.8666666746139526}], [{'x': 0.4000000059604645, 'y': 0.800000011920929}, {'x': 0.6000000238418579, 'y': 0.800000011920929}, {'x': 0.6000000238418579, 'y': 0.8666666746139526}], [{'x': 0.4000000059604645, 'y': 0.800000011920929}, {'x': 0.4000000059604645, 'y': 0.7333333492279053}, {'x': 0.6000000238418579, 'y': 0.800000011920929}], [{'x': 0.4000000059604645, 'y': 0.7333333492279053}, {'x': 0.6000000238418579, 'y': 0.7333333492279053}, {'x': 0.6000000238418579, 'y': 0.800000011920929}], [{'x': 0.4000000059604645, 'y': 0.7333333492279053}, {'x': 0.4000000059604645, 'y': 0.6666666865348816}, {'x': 0.6000000238418579, 'y': 0.7333333492279053}], [{'x': 0.4000000059604645, 'y': 0.6666666865348816}, {'x': 0.6000000238418579, 'y': 0.6666666865348816}, {'x': 0.6000000238418579, 'y': 0.7333333492279053}], [{'x': 0.4000000059604645, 'y': 0.6666666865348816}, {'x': 0.4000000059604645, 'y': 0.6000000238418579}, {'x': 0.6000000238418579, 'y': 0.6666666865348816}], [{'x': 0.4000000059604645, 'y': 0.6000000238418579}, {'x': 0.6000000238418579, 'y': 0.6000000238418579}, {'x': 0.6000000238418579, 'y': 0.6666666865348816}], [{'x': 0.4000000059604645, 'y': 0.6000000238418579}, {'x': 0.4000000059604645, 'y': 0.5333333611488342}, {'x': 0.6000000238418579, 'y': 0.6000000238418579}], [{'x': 0.4000000059604645, 'y': 0.5333333611488342}, {'x': 0.6000000238418579, 'y': 0.5333333611488342}, {'x': 0.6000000238418579, 'y': 0.6000000238418579}], [{'x': 0.4000000059604645, 'y': 0.5333333611488342}, {'x': 0.4000000059604645, 'y': 0.46666666865348816}, {'x': 0.6000000238418579, 'y': 0.5333333611488342}], [{'x': 0.4000000059604645, 'y': 0.46666666865348816}, {'x': 0.6000000238418579, 'y': 0.46666666865348816}, {'x': 0.6000000238418579, 'y': 0.5333333611488342}], [{'x': 0.4000000059604645, 'y': 0.46666666865348816}, {'x': 0.4000000059604645, 'y': 0.4000000059604645}, {'x': 0.6000000238418579, 'y': 0.46666666865348816}], [{'x': 0.4000000059604645, 'y': 0.4000000059604645}, {'x': 0.6000000238418579, 'y': 0.4000000059604645}, {'x': 0.6000000238418579, 'y': 0.46666666865348816}], [{'x': 0.4000000059604645, 'y': 0.4000000059604645}, {'x': 0.4000000059604645, 'y': 0.3333333432674408}, {'x': 0.6000000238418579, 'y': 0.4000000059604645}], [{'x': 0.4000000059604645, 'y': 0.3333333432674408}, {'x': 0.6000000238418579, 'y': 0.3333333432674408}, {'x': 0.6000000238418579, 'y': 0.4000000059604645}], [{'x': 0.4000000059604645, 'y': 0.3333333432674408}, {'x': 0.4000000059604645, 'y': 0.2666666805744171}, {'x': 0.6000000238418579, 'y': 0.3333333432674408}], [{'x': 0.4000000059604645, 'y': 0.2666666805744171}, {'x': 0.6000000238418579, 'y': 0.2666666805744171}, {'x': 0.6000000238418579, 'y': 0.3333333432674408}], [{'x': 0.4000000059604645, 'y': 0.2666666805744171}, {'x': 0.4000000059604645, 'y': 0.20000000298023224}, {'x': 0.6000000238418579, 'y': 0.2666666805744171}], [{'x': 0.4000000059604645, 'y': 0.20000000298023224}, {'x': 0.6000000238418579, 'y': 0.20000000298023224}, {'x': 0.6000000238418579, 'y': 0.2666666805744171}], [{'x': 0.4000000059604645, 'y': 0.20000000298023224}, {'x': 0.4000000059604645, 'y': 0.13333334028720856}, {'x': 0.6000000238418579, 'y': 0.20000000298023224}], [{'x': 0.4000000059604645, 'y': 0.13333334028720856}, {'x': 0.6000000238418579, 'y': 0.13333334028720856}, {'x': 0.6000000238418579, 'y': 0.20000000298023224}], [{'x': 0.4000000059604645, 'y': 0.13333334028720856}, {'x': 0.4000000059604645, 'y': 0.06666667014360428}, {'x': 0.6000000238418579, 'y': 0.13333334028720856}], [{'x': 0.4000000059604645, 'y': 0.06666667014360428}, {'x': 0.6000000238418579, 'y': 0.06666667014360428}, {'x': 0.6000000238418579, 'y': 0.13333334028720856}], [{'x': 0.4000000059604645, 'y': 0.06666667014360428}, {'x': 0.4000000059604645, 'y': 0}, {'x': 0.6000000238418579, 'y': 0.06666667014360428}], [{'x': 0.4000000059604645, 'y': 0}, {'x': 0.6000000238418579, 'y': 0}, {'x': 0.6000000238418579, 'y': 0.06666667014360428}], [{'x': 0.6000000238418579, 'y': 1}, {'x': 0.6000000238418579, 'y': 0.9333333373069763}, {'x': 0.800000011920929, 'y': 1}], [{'x': 0.6000000238418579, 'y': 0.9333333373069763}, {'x': 0.800000011920929, 'y': 0.9333333373069763}, {'x': 0.800000011920929, 'y': 1}], [{'x': 0.6000000238418579, 'y': 0.9333333373069763}, {'x': 0.6000000238418579, 'y': 0.8666666746139526}, {'x': 0.800000011920929, 'y': 0.9333333373069763}], [{'x': 0.6000000238418579, 'y': 0.8666666746139526}, {'x': 0.800000011920929, 'y': 0.8666666746139526}, {'x': 0.800000011920929, 'y': 0.9333333373069763}], [{'x': 0.6000000238418579, 'y': 0.8666666746139526}, {'x': 0.6000000238418579, 'y': 0.800000011920929}, {'x': 0.800000011920929, 'y': 0.8666666746139526}], [{'x': 0.6000000238418579, 'y': 0.800000011920929}, {'x': 0.800000011920929, 'y': 0.800000011920929}, {'x': 0.800000011920929, 'y': 0.8666666746139526}], [{'x': 0.6000000238418579, 'y': 0.800000011920929}, {'x': 0.6000000238418579, 'y': 0.7333333492279053}, {'x': 0.800000011920929, 'y': 0.800000011920929}], [{'x': 0.6000000238418579, 'y': 0.7333333492279053}, {'x': 0.800000011920929, 'y': 0.7333333492279053}, {'x': 0.800000011920929, 'y': 0.800000011920929}], [{'x': 0.6000000238418579, 'y': 0.7333333492279053}, {'x': 0.6000000238418579, 'y': 0.6666666865348816}, {'x': 0.800000011920929, 'y': 0.7333333492279053}], [{'x': 0.6000000238418579, 'y': 0.6666666865348816}, {'x': 0.800000011920929, 'y': 0.6666666865348816}, {'x': 0.800000011920929, 'y': 0.7333333492279053}], [{'x': 0.6000000238418579, 'y': 0.6666666865348816}, {'x': 0.6000000238418579, 'y': 0.6000000238418579}, {'x': 0.800000011920929, 'y': 0.6666666865348816}], [{'x': 0.6000000238418579, 'y': 0.6000000238418579}, {'x': 0.800000011920929, 'y': 0.6000000238418579}, {'x': 0.800000011920929, 'y': 0.6666666865348816}], [{'x': 0.6000000238418579, 'y': 0.6000000238418579}, {'x': 0.6000000238418579, 'y': 0.5333333611488342}, {'x': 0.800000011920929, 'y': 0.6000000238418579}], [{'x': 0.6000000238418579, 'y': 0.5333333611488342}, {'x': 0.800000011920929, 'y': 0.5333333611488342}, {'x': 0.800000011920929, 'y': 0.6000000238418579}], [{'x': 0.6000000238418579, 'y': 0.5333333611488342}, {'x': 0.6000000238418579, 'y': 0.46666666865348816}, {'x': 0.800000011920929, 'y': 0.5333333611488342}], [{'x': 0.6000000238418579, 'y': 0.46666666865348816}, {'x': 0.800000011920929, 'y': 0.46666666865348816}, {'x': 0.800000011920929, 'y': 0.5333333611488342}], [{'x': 0.6000000238418579, 'y': 0.46666666865348816}, {'x': 0.6000000238418579, 'y': 0.4000000059604645}, {'x': 0.800000011920929, 'y': 0.46666666865348816}], [{'x': 0.6000000238418579, 'y': 0.4000000059604645}, {'x': 0.800000011920929, 'y': 0.4000000059604645}, {'x': 0.800000011920929, 'y': 0.46666666865348816}], [{'x': 0.6000000238418579, 'y': 0.4000000059604645}, {'x': 0.6000000238418579, 'y': 0.3333333432674408}, {'x': 0.800000011920929, 'y': 0.4000000059604645}], [{'x': 0.6000000238418579, 'y': 0.3333333432674408}, {'x': 0.800000011920929, 'y': 0.3333333432674408}, {'x': 0.800000011920929, 'y': 0.4000000059604645}], [{'x': 0.6000000238418579, 'y': 0.3333333432674408}, {'x': 0.6000000238418579, 'y': 0.2666666805744171}, {'x': 0.800000011920929, 'y': 0.3333333432674408}], [{'x': 0.6000000238418579, 'y': 0.2666666805744171}, {'x': 0.800000011920929, 'y': 0.2666666805744171}, {'x': 0.800000011920929, 'y': 0.3333333432674408}], [{'x': 0.6000000238418579, 'y': 0.2666666805744171}, {'x': 0.6000000238418579, 'y': 0.20000000298023224}, {'x': 0.800000011920929, 'y': 0.2666666805744171}], [{'x': 0.6000000238418579, 'y': 0.20000000298023224}, {'x': 0.800000011920929, 'y': 0.20000000298023224}, {'x': 0.800000011920929, 'y': 0.2666666805744171}], [{'x': 0.6000000238418579, 'y': 0.20000000298023224}, {'x': 0.6000000238418579, 'y': 0.13333334028720856}, {'x': 0.800000011920929, 'y': 0.20000000298023224}], [{'x': 0.6000000238418579, 'y': 0.13333334028720856}, {'x': 0.800000011920929, 'y': 0.13333334028720856}, {'x': 0.800000011920929, 'y': 0.20000000298023224}], [{'x': 0.6000000238418579, 'y': 0.13333334028720856}, {'x': 0.6000000238418579, 'y': 0.06666667014360428}, {'x': 0.800000011920929, 'y': 0.13333334028720856}], [{'x': 0.6000000238418579, 'y': 0.06666667014360428}, {'x': 0.800000011920929, 'y': 0.06666667014360428}, {'x': 0.800000011920929, 'y': 0.13333334028720856}], [{'x': 0.6000000238418579, 'y': 0.06666667014360428}, {'x': 0.6000000238418579, 'y': 0}, {'x': 0.800000011920929, 'y': 0.06666667014360428}], [{'x': 0.6000000238418579, 'y': 0}, {'x': 0.800000011920929, 'y': 0}, {'x': 0.800000011920929, 'y': 0.06666667014360428}], [{'x': 0.800000011920929, 'y': 1}, {'x': 0.800000011920929, 'y': 0.9333333373069763}, {'x': 1, 'y': 1}], [{'x': 0.800000011920929, 'y': 0.9333333373069763}, {'x': 1, 'y': 0.9333333373069763}, {'x': 1, 'y': 1}], [{'x': 0.800000011920929, 'y': 0.9333333373069763}, {'x': 0.800000011920929, 'y': 0.8666666746139526}, {'x': 1, 'y': 0.9333333373069763}], [{'x': 0.800000011920929, 'y': 0.8666666746139526}, {'x': 1, 'y': 0.8666666746139526}, {'x': 1, 'y': 0.9333333373069763}], [{'x': 0.800000011920929, 'y': 0.8666666746139526}, {'x': 0.800000011920929, 'y': 0.800000011920929}, {'x': 1, 'y': 0.8666666746139526}], [{'x': 0.800000011920929, 'y': 0.800000011920929}, {'x': 1, 'y': 0.800000011920929}, {'x': 1, 'y': 0.8666666746139526}], [{'x': 0.800000011920929, 'y': 0.800000011920929}, {'x': 0.800000011920929, 'y': 0.7333333492279053}, {'x': 1, 'y': 0.800000011920929}], [{'x': 0.800000011920929, 'y': 0.7333333492279053}, {'x': 1, 'y': 0.7333333492279053}, {'x': 1, 'y': 0.800000011920929}], [{'x': 0.800000011920929, 'y': 0.7333333492279053}, {'x': 0.800000011920929, 'y': 0.6666666865348816}, {'x': 1, 'y': 0.7333333492279053}], [{'x': 0.800000011920929, 'y': 0.6666666865348816}, {'x': 1, 'y': 0.6666666865348816}, {'x': 1, 'y': 0.7333333492279053}], [{'x': 0.800000011920929, 'y': 0.6666666865348816}, {'x': 0.800000011920929, 'y': 0.6000000238418579}, {'x': 1, 'y': 0.6666666865348816}], [{'x': 0.800000011920929, 'y': 0.6000000238418579}, {'x': 1, 'y': 0.6000000238418579}, {'x': 1, 'y': 0.6666666865348816}], [{'x': 0.800000011920929, 'y': 0.6000000238418579}, {'x': 0.800000011920929, 'y': 0.5333333611488342}, {'x': 1, 'y': 0.6000000238418579}], [{'x': 0.800000011920929, 'y': 0.5333333611488342}, {'x': 1, 'y': 0.5333333611488342}, {'x': 1, 'y': 0.6000000238418579}], [{'x': 0.800000011920929, 'y': 0.5333333611488342}, {'x': 0.800000011920929, 'y': 0.46666666865348816}, {'x': 1, 'y': 0.5333333611488342}], [{'x': 0.800000011920929, 'y': 0.46666666865348816}, {'x': 1, 'y': 0.46666666865348816}, {'x': 1, 'y': 0.5333333611488342}], [{'x': 0.800000011920929, 'y': 0.46666666865348816}, {'x': 0.800000011920929, 'y': 0.4000000059604645}, {'x': 1, 'y': 0.46666666865348816}], [{'x': 0.800000011920929, 'y': 0.4000000059604645}, {'x': 1, 'y': 0.4000000059604645}, {'x': 1, 'y': 0.46666666865348816}], [{'x': 0.800000011920929, 'y': 0.4000000059604645}, {'x': 0.800000011920929, 'y': 0.3333333432674408}, {'x': 1, 'y': 0.4000000059604645}], [{'x': 0.800000011920929, 'y': 0.3333333432674408}, {'x': 1, 'y': 0.3333333432674408}, {'x': 1, 'y': 0.4000000059604645}], [{'x': 0.800000011920929, 'y': 0.3333333432674408}, {'x': 0.800000011920929, 'y': 0.2666666805744171}, {'x': 1, 'y': 0.3333333432674408}], [{'x': 0.800000011920929, 'y': 0.2666666805744171}, {'x': 1, 'y': 0.2666666805744171}, {'x': 1, 'y': 0.3333333432674408}], [{'x': 0.800000011920929, 'y': 0.2666666805744171}, {'x': 0.800000011920929, 'y': 0.20000000298023224}, {'x': 1, 'y': 0.2666666805744171}], [{'x': 0.800000011920929, 'y': 0.20000000298023224}, {'x': 1, 'y': 0.20000000298023224}, {'x': 1, 'y': 0.2666666805744171}], [{'x': 0.800000011920929, 'y': 0.20000000298023224}, {'x': 0.800000011920929, 'y': 0.13333334028720856}, {'x': 1, 'y': 0.20000000298023224}], [{'x': 0.800000011920929, 'y': 0.13333334028720856}, {'x': 1, 'y': 0.13333334028720856}, {'x': 1, 'y': 0.20000000298023224}], [{'x': 0.800000011920929, 'y': 0.13333334028720856}, {'x': 0.800000011920929, 'y': 0.06666667014360428}, {'x': 1, 'y': 0.13333334028720856}], [{'x': 0.800000011920929, 'y': 0.06666667014360428}, {'x': 1, 'y': 0.06666667014360428}, {'x': 1, 'y': 0.13333334028720856}], [{'x': 0.800000011920929, 'y': 0.06666667014360428}, {'x': 0.800000011920929, 'y': 0}, {'x': 1, 'y': 0.06666667014360428}], [{'x': 0.800000011920929, 'y': 0}, {'x': 1, 'y': 0}, {'x': 1, 'y': 0.06666667014360428}]]], faces=([0, 5, 1, [0.587785268876672, 0, 0.8090169823258212], '#ffffff', 0, [[0, 0, 1], [0, 0, 1], [0.9510565400123596, 0, 0.30901700258255005]], []], [5, 6, 1, [0.587785268876672, 0, 0.8090169823258212], '#ffffff', 0, [[0, 0, 1], [0.9510565400123596, 0, 0.30901700258255005], [0.9510565400123596, 0, 0.30901700258255005]], []], [5, 10, 6, [0.5877852688766722, 0, 0.8090169823258213], '#ffffff', 0, [[0, 0, 1], [0, 0, 1], [0.9510565400123596, 0, 0.30901700258255005]], []], [10, 11, 6, [0.5877852688766722, 0, 0.8090169823258213], '#ffffff', 0, [[0, 0, 1], [0.9510565400123596, 0, 0.30901700258255005], [0.9510565400123596, 0, 0.30901700258255005]], []], [10, 15, 11, [0.587785268876672, 0, 0.8090169823258212], '#ffffff', 0, [[0, 0, 1], [0, 0, 1], [0.9510565400123596, 0, 0.30901700258255005]], []], [15, 16, 11, [0.587785268876672, 0, 0.8090169823258212], '#ffffff', 0, [[0, 0, 1], [0.9510565400123596, 0, 0.30901700258255005], [0.9510565400123596, 0, 0.30901700258255005]], []], [15, 20, 16, [0.5877852688766722, 0, 0.8090169823258213], '#ffffff', 0, [[0, 0, 1], [0, 0, 1], [0.9510565400123596, 0, 0.30901700258255005]], []], [20, 21, 16, [0.5877852688766722, 0, 0.8090169823258213], '#ffffff', 0, [[0, 0, 1], [0.9510565400123596, 0, 0.30901700258255005], [0.9510565400123596, 0, 0.30901700258255005]], []], [20, 25, 21, [0.587785268876672, 0, 0.8090169823258212], '#ffffff', 0, [[0, 0, 1], [0, 0, 1], [0.9510565400123596, 0, 0.30901700258255005]], []], [25, 26, 21, [0.587785268876672, 0, 0.8090169823258212], '#ffffff', 0, [[0, 0, 1], [0.9510565400123596, 0, 0.30901700258255005], [0.9510565400123596, 0, 0.30901700258255005]], []], [25, 30, 26, [0.5877852688766722, 0, 0.8090169823258213], '#ffffff', 0, [[0, 0, 1], [0, 0, 1], [0.9510565400123596, 0, 0.30901700258255005]], []], [30, 31, 26, [0.5877852688766722, 0, 0.8090169823258213], '#ffffff', 0, [[0, 0, 1], [0.9510565400123596, 0, 0.30901700258255005], [0.9510565400123596, 0, 0.30901700258255005]], []], [30, 35, 31, [0.5877852688766722, 0, 0.8090169823258213], '#ffffff', 0, [[0, 0, 1], [0, 0, 1], [0.9510565400123596, 0, 0.30901700258255005]], []], [35, 36, 31, [0.5877852688766722, 0, 0.8090169823258213], '#ffffff', 0, [[0, 0, 1], [0.9510565400123596, 0, 0.30901700258255005], [0.9510565400123596, 0, 0.30901700258255005]], []], [35, 40, 36, [0.5877852688766722, 0, 0.8090169823258213], '#ffffff', 0, [[0, 0, 1], [0, 0, 1], [0.9510565400123596, 0, 0.30901700258255005]], []], [40, 41, 36, [0.5877852688766722, 0, 0.8090169823258213], '#ffffff', 0, [[0, 0, 1], [0.9510565400123596, 0, 0.30901700258255005], [0.9510565400123596, 0, 0.30901700258255005]], []], [40, 45, 41, [0.5877852688766722, 0, 0.8090169823258213], '#ffffff', 0, [[0, 0, 1], [0, 0, 1], [0.9510565400123596, 0, 0.30901700258255005]], []], [45, 46, 41, [0.5877852688766722, 0, 0.8090169823258213], '#ffffff', 0, [[0, 0, 1], [0.9510565400123596, 0, 0.30901700258255005], [0.9510565400123596, 0, 0.30901700258255005]], []], [45, 50, 46, [0.5877852688766722, 0, 0.8090169823258213], '#ffffff', 0, [[0, 0, 1], [0, 0, 1], [0.9510565400123596, 0, 0.30901700258255005]], []], [50, 51, 46, [0.5877852688766722, 0, 0.8090169823258213], '#ffffff', 0, [[0, 0, 1], [0.9510565400123596, 0, 0.30901700258255005], [0.9510565400123596, 0, 0.30901700258255005]], []], [50, 55, 51, [0.587785268876672, 0, 0.8090169823258212], '#ffffff', 0, [[0, 0, 1], [0, 0, 1], [0.9510565400123596, 0, 0.30901700258255005]], []], [55, 56, 51, [0.587785268876672, 0, 0.8090169823258212], '#ffffff', 0, [[0, 0, 1], [0.9510565400123596, 0, 0.30901700258255005], [0.9510565400123596, 0, 0.30901700258255005]], []], [55, 60, 56, [0.5877852688766722, 0, 0.8090169823258213], '#ffffff', 0, [[0, 0, 1], [0, 0, 1], [0.9510565400123596, 0, 0.30901700258255005]], []], [60, 61, 56, [0.5877852688766722, 0, 0.8090169823258213], '#ffffff', 0, [[0, 0, 1], [0.9510565400123596, 0, 0.30901700258255005], [0.9510565400123596, 0, 0.30901700258255005]], []], [60, 65, 61, [0.587785268876672, 0, 0.8090169823258212], '#ffffff', 0, [[0, 0, 1], [0, 0, 1], [0.9510565400123596, 0, 0.30901700258255005]], []], [65, 66, 61, [0.587785268876672, 0, 0.8090169823258212], '#ffffff', 0, [[0, 0, 1], [0.9510565400123596, 0, 0.30901700258255005], [0.9510565400123596, 0, 0.30901700258255005]], []], [65, 70, 66, [0.5877852688766722, 0, 0.8090169823258213], '#ffffff', 0, [[0, 0, 1], [0, 0, 1], [0.9510565400123596, 0, 0.30901700258255005]], []], [70, 71, 66, [0.5877852688766722, 0, 0.8090169823258213], '#ffffff', 0, [[0, 0, 1], [0.9510565400123596, 0, 0.30901700258255005], [0.9510565400123596, 0, 0.30901700258255005]], []], [70, 75, 71, [0.587785268876672, 0, 0.8090169823258212], '#ffffff', 0, [[0, 0, 1], [0, 0, 1], [0.9510565400123596, 0, 0.30901700258255005]], []], [75, 76, 71, [0.587785268876672, 0, 0.8090169823258212], '#ffffff', 0, [[0, 0, 1], [0.9510565400123596, 0, 0.30901700258255005], [0.9510565400123596, 0, 0.30901700258255005]], []], [1, 6, 2, [0.9510565225876377, 0, -0.3090169750086719], '#ffffff', 0, [[0.9510565400123596, 0, 0.30901700258255005], [0.9510565400123596, 0, 0.30901700258255005], [0.5877852439880371, 0, -0.80901700258255]], []], [6, 7, 2, [0.9510565225876377, 0, -0.3090169750086719], '#ffffff', 0, [[0.9510565400123596, 0, 0.30901700258255005], [0.5877852439880371, 0, -0.80901700258255], [0.5877852439880371, 0, -0.80901700258255]], []], [6, 11, 7, [0.9510565225876377, 0, -0.3090169750086719], '#ffffff', 0, [[0.9510565400123596, 0, 0.30901700258255005], [0.9510565400123596, 0, 0.30901700258255005], [0.5877852439880371, 0, -0.80901700258255]], []], [11, 12, 7, [0.9510565225876377, 0, -0.3090169750086719], '#ffffff', 0, [[0.9510565400123596, 0, 0.30901700258255005], [0.5877852439880371, 0, -0.80901700258255], [0.5877852439880371, 0, -0.80901700258255]], []], [11, 16, 12, [0.9510565225876377, 0, -0.3090169750086719], '#ffffff', 0, [[0.9510565400123596, 0, 0.30901700258255005], [0.9510565400123596, 0, 0.30901700258255005], [0.5877852439880371, 0, -0.80901700258255]], []], [16, 17, 12, [0.9510565225876377, 0, -0.3090169750086719], '#ffffff', 0, [[0.9510565400123596, 0, 0.30901700258255005], [0.5877852439880371, 0, -0.80901700258255], [0.5877852439880371, 0, -0.80901700258255]], []], [16, 21, 17, [0.9510565225876376, 0, -0.3090169750086719], '#ffffff', 0, [[0.9510565400123596, 0, 0.30901700258255005], [0.9510565400123596, 0, 0.30901700258255005], [0.5877852439880371, 0, -0.80901700258255]], []], [21, 22, 17, [0.9510565225876376, 0, -0.3090169750086719], '#ffffff', 0, [[0.9510565400123596, 0, 0.30901700258255005], [0.5877852439880371, 0, -0.80901700258255], [0.5877852439880371, 0, -0.80901700258255]], []], [21, 26, 22, [0.9510565225876377, 0, -0.3090169750086719], '#ffffff', 0, [[0.9510565400123596, 0, 0.30901700258255005], [0.9510565400123596, 0, 0.30901700258255005], [0.5877852439880371, 0, -0.80901700258255]], []], [26, 27, 22, [0.9510565225876377, 0, -0.3090169750086719], '#ffffff', 0, [[0.9510565400123596, 0, 0.30901700258255005], [0.5877852439880371, 0, -0.80901700258255], [0.5877852439880371, 0, -0.80901700258255]], []], [26, 31, 27, [0.9510565225876376, 0, -0.3090169750086719], '#ffffff', 0, [[0.9510565400123596, 0, 0.30901700258255005], [0.9510565400123596, 0, 0.30901700258255005], [0.5877852439880371, 0, -0.80901700258255]], []], [31, 32, 27, [0.9510565225876376, 0, -0.3090169750086719], '#ffffff', 0, [[0.9510565400123596, 0, 0.30901700258255005], [0.5877852439880371, 0, -0.80901700258255], [0.5877852439880371, 0, -0.80901700258255]], []], [31, 36, 32, [0.9510565225876377, 0, -0.3090169750086719], '#ffffff', 0, [[0.9510565400123596, 0, 0.30901700258255005], [0.9510565400123596, 0, 0.30901700258255005], [0.5877852439880371, 0, -0.80901700258255]], []], [36, 37, 32, [0.9510565225876377, 0, -0.3090169750086719], '#ffffff', 0, [[0.9510565400123596, 0, 0.30901700258255005], [0.5877852439880371, 0, -0.80901700258255], [0.5877852439880371, 0, -0.80901700258255]], []], [36, 41, 37, [0.9510565225876377, 0, -0.3090169750086719], '#ffffff', 0, [[0.9510565400123596, 0, 0.30901700258255005], [0.9510565400123596, 0, 0.30901700258255005], [0.5877852439880371, 0, -0.80901700258255]], []], [41, 42, 37, [0.9510565225876377, 0, -0.3090169750086719], '#ffffff', 0, [[0.9510565400123596, 0, 0.30901700258255005], [0.5877852439880371, 0, -0.80901700258255], [0.5877852439880371, 0, -0.80901700258255]], []], [41, 46, 42, [0.9510565225876377, 0, -0.3090169750086719], '#ffffff', 0, [[0.9510565400123596, 0, 0.30901700258255005], [0.9510565400123596, 0, 0.30901700258255005], [0.5877852439880371, 0, -0.80901700258255]], []], [46, 47, 42, [0.9510565225876377, 0, -0.3090169750086719], '#ffffff', 0, [[0.9510565400123596, 0, 0.30901700258255005], [0.5877852439880371, 0, -0.80901700258255], [0.5877852439880371, 0, -0.80901700258255]], []], [46, 51, 47, [0.9510565225876376, 0, -0.3090169750086719], '#ffffff', 0, [[0.9510565400123596, 0, 0.30901700258255005], [0.9510565400123596, 0, 0.30901700258255005], [0.5877852439880371, 0, -0.80901700258255]], []], [51, 52, 47, [0.9510565225876376, 0, -0.3090169750086719], '#ffffff', 0, [[0.9510565400123596, 0, 0.30901700258255005], [0.5877852439880371, 0, -0.80901700258255], [0.5877852439880371, 0, -0.80901700258255]], []], [51, 56, 52, [0.9510565225876377, 0, -0.3090169750086719], '#ffffff', 0, [[0.9510565400123596, 0, 0.30901700258255005], [0.9510565400123596, 0, 0.30901700258255005], [0.5877852439880371, 0, -0.80901700258255]], []], [56, 57, 52, [0.9510565225876377, 0, -0.3090169750086719], '#ffffff', 0, [[0.9510565400123596, 0, 0.30901700258255005], [0.5877852439880371, 0, -0.80901700258255], [0.5877852439880371, 0, -0.80901700258255]], []], [56, 61, 57, [0.9510565225876376, 0, -0.3090169750086719], '#ffffff', 0, [[0.9510565400123596, 0, 0.30901700258255005], [0.9510565400123596, 0, 0.30901700258255005], [0.5877852439880371, 0, -0.80901700258255]], []], [61, 62, 57, [0.9510565225876376, 0, -0.3090169750086719], '#ffffff', 0, [[0.9510565400123596, 0, 0.30901700258255005], [0.5877852439880371, 0, -0.80901700258255], [0.5877852439880371, 0, -0.80901700258255]], []], [61, 66, 62, [0.9510565225876377, 0, -0.3090169750086719], '#ffffff', 0, [[0.9510565400123596, 0, 0.30901700258255005], [0.9510565400123596, 0, 0.30901700258255005], [0.5877852439880371, 0, -0.80901700258255]], []], [66, 67, 62, [0.9510565225876377, 0, -0.3090169750086719], '#ffffff', 0, [[0.9510565400123596, 0, 0.30901700258255005], [0.5877852439880371, 0, -0.80901700258255], [0.5877852439880371, 0, -0.80901700258255]], []], [66, 71, 67, [0.9510565225876377, 0, -0.3090169750086719], '#ffffff', 0, [[0.9510565400123596, 0, 0.30901700258255005], [0.9510565400123596, 0, 0.30901700258255005], [0.5877852439880371, 0, -0.80901700258255]], []], [71, 72, 67, [0.9510565225876377, 0, -0.3090169750086719], '#ffffff', 0, [[0.9510565400123596, 0, 0.30901700258255005], [0.5877852439880371, 0, -0.80901700258255], [0.5877852439880371, 0, -0.80901700258255]], []], [71, 76, 72, [0.9510565225876377, 0, -0.3090169750086719], '#ffffff', 0, [[0.9510565400123596, 0, 0.30901700258255005], [0.9510565400123596, 0, 0.30901700258255005], [0.5877852439880371, 0, -0.80901700258255]], []], [76, 77, 72, [0.9510565225876377, 0, -0.3090169750086719], '#ffffff', 0, [[0.9510565400123596, 0, 0.30901700258255005], [0.5877852439880371, 0, -0.80901700258255], [0.5877852439880371, 0, -0.80901700258255]], []], [2, 7, 3, [0, 0, -0.9999999999999999], '#ffffff', 0, [[0.5877852439880371, 0, -0.80901700258255], [0.5877852439880371, 0, -0.80901700258255], [-0.5877852439880371, 0, -0.80901700258255]], []], [7, 8, 3, [0, 0, -0.9999999999999999], '#ffffff', 0, [[0.5877852439880371, 0, -0.80901700258255], [-0.5877852439880371, 0, -0.80901700258255], [-0.5877852439880371, 0, -0.80901700258255]], []], [7, 12, 8, [0, 0, -1], '#ffffff', 0, [[0.5877852439880371, 0, -0.80901700258255], [0.5877852439880371, 0, -0.80901700258255], [-0.5877852439880371, 0, -0.80901700258255]], []], [12, 13, 8, [0, 0, -1], '#ffffff', 0, [[0.5877852439880371, 0, -0.80901700258255], [-0.5877852439880371, 0, -0.80901700258255], [-0.5877852439880371, 0, -0.80901700258255]], []], [12, 17, 13, [0, 0, -0.9999999999999999], '#ffffff', 0, [[0.5877852439880371, 0, -0.80901700258255], [0.5877852439880371, 0, -0.80901700258255], [-0.5877852439880371, 0, -0.80901700258255]], []], [17, 18, 13, [0, 0, -0.9999999999999999], '#ffffff', 0, [[0.5877852439880371, 0, -0.80901700258255], [-0.5877852439880371, 0, -0.80901700258255], [-0.5877852439880371, 0, -0.80901700258255]], []], [17, 22, 18, [0, 0, -1], '#ffffff', 0, [[0.5877852439880371, 0, -0.80901700258255], [0.5877852439880371, 0, -0.80901700258255], [-0.5877852439880371, 0, -0.80901700258255]], []], [22, 23, 18, [0, 0, -1], '#ffffff', 0, [[0.5877852439880371, 0, -0.80901700258255], [-0.5877852439880371, 0, -0.80901700258255], [-0.5877852439880371, 0, -0.80901700258255]], []], [22, 27, 23, [0, 0, -0.9999999999999999], '#ffffff', 0, [[0.5877852439880371, 0, -0.80901700258255], [0.5877852439880371, 0, -0.80901700258255], [-0.5877852439880371, 0, -0.80901700258255]], []], [27, 28, 23, [0, 0, -0.9999999999999999], '#ffffff', 0, [[0.5877852439880371, 0, -0.80901700258255], [-0.5877852439880371, 0, -0.80901700258255], [-0.5877852439880371, 0, -0.80901700258255]], []], [27, 32, 28, [0, 0, -1], '#ffffff', 0, [[0.5877852439880371, 0, -0.80901700258255], [0.5877852439880371, 0, -0.80901700258255], [-0.5877852439880371, 0, -0.80901700258255]], []], [32, 33, 28, [0, 0, -1], '#ffffff', 0, [[0.5877852439880371, 0, -0.80901700258255], [-0.5877852439880371, 0, -0.80901700258255], [-0.5877852439880371, 0, -0.80901700258255]], []], [32, 37, 33, [0, 0, -1], '#ffffff', 0, [[0.5877852439880371, 0, -0.80901700258255], [0.5877852439880371, 0, -0.80901700258255], [-0.5877852439880371, 0, -0.80901700258255]], []], [37, 38, 33, [0, 0, -1], '#ffffff', 0, [[0.5877852439880371, 0, -0.80901700258255], [-0.5877852439880371, 0, -0.80901700258255], [-0.5877852439880371, 0, -0.80901700258255]], []], [37, 42, 38, [0, 0, -1], '#ffffff', 0, [[0.5877852439880371, 0, -0.80901700258255], [0.5877852439880371, 0, -0.80901700258255], [-0.5877852439880371, 0, -0.80901700258255]], []], [42, 43, 38, [0, 0, -1], '#ffffff', 0, [[0.5877852439880371, 0, -0.80901700258255], [-0.5877852439880371, 0, -0.80901700258255], [-0.5877852439880371, 0, -0.80901700258255]], []], [42, 47, 43, [0, 0, -1], '#ffffff', 0, [[0.5877852439880371, 0, -0.80901700258255], [0.5877852439880371, 0, -0.80901700258255], [-0.5877852439880371, 0, -0.80901700258255]], []], [47, 48, 43, [0, 0, -1], '#ffffff', 0, [[0.5877852439880371, 0, -0.80901700258255], [-0.5877852439880371, 0, -0.80901700258255], [-0.5877852439880371, 0, -0.80901700258255]], []], [47, 52, 48, [0, 0, -1], '#ffffff', 0, [[0.5877852439880371, 0, -0.80901700258255], [0.5877852439880371, 0, -0.80901700258255], [-0.5877852439880371, 0, -0.80901700258255]], []], [52, 53, 48, [0, 0, -1], '#ffffff', 0, [[0.5877852439880371, 0, -0.80901700258255], [-0.5877852439880371, 0, -0.80901700258255], [-0.5877852439880371, 0, -0.80901700258255]], []], [52, 57, 53, [0, 0, -0.9999999999999999], '#ffffff', 0, [[0.5877852439880371, 0, -0.80901700258255], [0.5877852439880371, 0, -0.80901700258255], [-0.5877852439880371, 0, -0.80901700258255]], []], [57, 58, 53, [0, 0, -0.9999999999999999], '#ffffff', 0, [[0.5877852439880371, 0, -0.80901700258255], [-0.5877852439880371, 0, -0.80901700258255], [-0.5877852439880371, 0, -0.80901700258255]], []], [57, 62, 58, [0, 0, -1], '#ffffff', 0, [[0.5877852439880371, 0, -0.80901700258255], [0.5877852439880371, 0, -0.80901700258255], [-0.5877852439880371, 0, -0.80901700258255]], []], [62, 63, 58, [0, 0, -1], '#ffffff', 0, [[0.5877852439880371, 0, -0.80901700258255], [-0.5877852439880371, 0, -0.80901700258255], [-0.5877852439880371, 0, -0.80901700258255]], []], [62, 67, 63, [0, 0, -0.9999999999999999], '#ffffff', 0, [[0.5877852439880371, 0, -0.80901700258255], [0.5877852439880371, 0, -0.80901700258255], [-0.5877852439880371, 0, -0.80901700258255]], []], [67, 68, 63, [0, 0, -0.9999999999999999], '#ffffff', 0, [[0.5877852439880371, 0, -0.80901700258255], [-0.5877852439880371, 0, -0.80901700258255], [-0.5877852439880371, 0, -0.80901700258255]], []], [67, 72, 68, [0, 0, -1], '#ffffff', 0, [[0.5877852439880371, 0, -0.80901700258255], [0.5877852439880371, 0, -0.80901700258255], [-0.5877852439880371, 0, -0.80901700258255]], []], [72, 73, 68, [0, 0, -1], '#ffffff', 0, [[0.5877852439880371, 0, -0.80901700258255], [-0.5877852439880371, 0, -0.80901700258255], [-0.5877852439880371, 0, -0.80901700258255]], []], [72, 77, 73, [0, 0, -0.9999999999999999], '#ffffff', 0, [[0.5877852439880371, 0, -0.80901700258255], [0.5877852439880371, 0, -0.80901700258255], [-0.5877852439880371, 0, -0.80901700258255]], []], [77, 78, 73, [0, 0, -0.9999999999999999], '#ffffff', 0, [[0.5877852439880371, 0, -0.80901700258255], [-0.5877852439880371, 0, -0.80901700258255], [-0.5877852439880371, 0, -0.80901700258255]], []], [3, 8, 4, [-0.9510565225876377, 0, -0.3090169750086719], '#ffffff', 0, [[-0.5877852439880371, 0, -0.80901700258255], [-0.5877852439880371, 0, -0.80901700258255], [-0.9510565400123596, 0, 0.30901700258255005]], []], [8, 9, 4, [-0.9510565225876377, 0, -0.3090169750086719], '#ffffff', 0, [[-0.5877852439880371, 0, -0.80901700258255], [-0.9510565400123596, 0, 0.30901700258255005], [-0.9510565400123596, 0, 0.30901700258255005]], []], [8, 13, 9, [-0.9510565225876377, 0, -0.3090169750086719], '#ffffff', 0, [[-0.5877852439880371, 0, -0.80901700258255], [-0.5877852439880371, 0, -0.80901700258255], [-0.9510565400123596, 0, 0.30901700258255005]], []], [13, 14, 9, [-0.9510565225876377, 0, -0.3090169750086719], '#ffffff', 0, [[-0.5877852439880371, 0, -0.80901700258255], [-0.9510565400123596, 0, 0.30901700258255005], [-0.9510565400123596, 0, 0.30901700258255005]], []], [13, 18, 14, [-0.9510565225876377, 0, -0.3090169750086719], '#ffffff', 0, [[-0.5877852439880371, 0, -0.80901700258255], [-0.5877852439880371, 0, -0.80901700258255], [-0.9510565400123596, 0, 0.30901700258255005]], []], [18, 19, 14, [-0.9510565225876377, 0, -0.3090169750086719], '#ffffff', 0, [[-0.5877852439880371, 0, -0.80901700258255], [-0.9510565400123596, 0, 0.30901700258255005], [-0.9510565400123596, 0, 0.30901700258255005]], []], [18, 23, 19, [-0.9510565225876376, 0, -0.3090169750086719], '#ffffff', 0, [[-0.5877852439880371, 0, -0.80901700258255], [-0.5877852439880371, 0, -0.80901700258255], [-0.9510565400123596, 0, 0.30901700258255005]], []], [23, 24, 19, [-0.9510565225876376, 0, -0.3090169750086719], '#ffffff', 0, [[-0.5877852439880371, 0, -0.80901700258255], [-0.9510565400123596, 0, 0.30901700258255005], [-0.9510565400123596, 0, 0.30901700258255005]], []], [23, 28, 24, [-0.9510565225876377, 0, -0.3090169750086719], '#ffffff', 0, [[-0.5877852439880371, 0, -0.80901700258255], [-0.5877852439880371, 0, -0.80901700258255], [-0.9510565400123596, 0, 0.30901700258255005]], []], [28, 29, 24, [-0.9510565225876377, 0, -0.3090169750086719], '#ffffff', 0, [[-0.5877852439880371, 0, -0.80901700258255], [-0.9510565400123596, 0, 0.30901700258255005], [-0.9510565400123596, 0, 0.30901700258255005]], []], [28, 33, 29, [-0.9510565225876376, 0, -0.3090169750086719], '#ffffff', 0, [[-0.5877852439880371, 0, -0.80901700258255], [-0.5877852439880371, 0, -0.80901700258255], [-0.9510565400123596, 0, 0.30901700258255005]], []], [33, 34, 29, [-0.9510565225876376, 0, -0.3090169750086719], '#ffffff', 0, [[-0.5877852439880371, 0, -0.80901700258255], [-0.9510565400123596, 0, 0.30901700258255005], [-0.9510565400123596, 0, 0.30901700258255005]], []], [33, 38, 34, [-0.9510565225876377, 0, -0.3090169750086719], '#ffffff', 0, [[-0.5877852439880371, 0, -0.80901700258255], [-0.5877852439880371, 0, -0.80901700258255], [-0.9510565400123596, 0, 0.30901700258255005]], []], [38, 39, 34, [-0.9510565225876377, 0, -0.3090169750086719], '#ffffff', 0, [[-0.5877852439880371, 0, -0.80901700258255], [-0.9510565400123596, 0, 0.30901700258255005], [-0.9510565400123596, 0, 0.30901700258255005]], []], [38, 43, 39, [-0.9510565225876377, 0, -0.3090169750086719], '#ffffff', 0, [[-0.5877852439880371, 0, -0.80901700258255], [-0.5877852439880371, 0, -0.80901700258255], [-0.9510565400123596, 0, 0.30901700258255005]], []], [43, 44, 39, [-0.9510565225876377, 0, -0.3090169750086719], '#ffffff', 0, [[-0.5877852439880371, 0, -0.80901700258255], [-0.9510565400123596, 0, 0.30901700258255005], [-0.9510565400123596, 0, 0.30901700258255005]], []], [43, 48, 44, [-0.9510565225876377, 0, -0.3090169750086719], '#ffffff', 0, [[-0.5877852439880371, 0, -0.80901700258255], [-0.5877852439880371, 0, -0.80901700258255], [-0.9510565400123596, 0, 0.30901700258255005]], []], [48, 49, 44, [-0.9510565225876377, 0, -0.3090169750086719], '#ffffff', 0, [[-0.5877852439880371, 0, -0.80901700258255], [-0.9510565400123596, 0, 0.30901700258255005], [-0.9510565400123596, 0, 0.30901700258255005]], []], [48, 53, 49, [-0.9510565225876376, 0, -0.3090169750086719], '#ffffff', 0, [[-0.5877852439880371, 0, -0.80901700258255], [-0.5877852439880371, 0, -0.80901700258255], [-0.9510565400123596, 0, 0.30901700258255005]], []], [53, 54, 49, [-0.9510565225876376, 0, -0.3090169750086719], '#ffffff', 0, [[-0.5877852439880371, 0, -0.80901700258255], [-0.9510565400123596, 0, 0.30901700258255005], [-0.9510565400123596, 0, 0.30901700258255005]], []], [53, 58, 54, [-0.9510565225876377, 0, -0.3090169750086719], '#ffffff', 0, [[-0.5877852439880371, 0, -0.80901700258255], [-0.5877852439880371, 0, -0.80901700258255], [-0.9510565400123596, 0, 0.30901700258255005]], []], [58, 59, 54, [-0.9510565225876377, 0, -0.3090169750086719], '#ffffff', 0, [[-0.5877852439880371, 0, -0.80901700258255], [-0.9510565400123596, 0, 0.30901700258255005], [-0.9510565400123596, 0, 0.30901700258255005]], []], [58, 63, 59, [-0.9510565225876376, 0, -0.3090169750086719], '#ffffff', 0, [[-0.5877852439880371, 0, -0.80901700258255], [-0.5877852439880371, 0, -0.80901700258255], [-0.9510565400123596, 0, 0.30901700258255005]], []], [63, 64, 59, [-0.9510565225876376, 0, -0.3090169750086719], '#ffffff', 0, [[-0.5877852439880371, 0, -0.80901700258255], [-0.9510565400123596, 0, 0.30901700258255005], [-0.9510565400123596, 0, 0.30901700258255005]], []], [63, 68, 64, [-0.9510565225876377, 0, -0.3090169750086719], '#ffffff', 0, [[-0.5877852439880371, 0, -0.80901700258255], [-0.5877852439880371, 0, -0.80901700258255], [-0.9510565400123596, 0, 0.30901700258255005]], []], [68, 69, 64, [-0.9510565225876377, 0, -0.3090169750086719], '#ffffff', 0, [[-0.5877852439880371, 0, -0.80901700258255], [-0.9510565400123596, 0, 0.30901700258255005], [-0.9510565400123596, 0, 0.30901700258255005]], []], [68, 73, 69, [-0.9510565225876377, 0, -0.3090169750086719], '#ffffff', 0, [[-0.5877852439880371, 0, -0.80901700258255], [-0.5877852439880371, 0, -0.80901700258255], [-0.9510565400123596, 0, 0.30901700258255005]], []], [73, 74, 69, [-0.9510565225876377, 0, -0.3090169750086719], '#ffffff', 0, [[-0.5877852439880371, 0, -0.80901700258255], [-0.9510565400123596, 0, 0.30901700258255005], [-0.9510565400123596, 0, 0.30901700258255005]], []], [73, 78, 74, [-0.9510565225876377, 0, -0.3090169750086719], '#ffffff', 0, [[-0.5877852439880371, 0, -0.80901700258255], [-0.5877852439880371, 0, -0.80901700258255], [-0.9510565400123596, 0, 0.30901700258255005]], []], [78, 79, 74, [-0.9510565225876377, 0, -0.3090169750086719], '#ffffff', 0, [[-0.5877852439880371, 0, -0.80901700258255], [-0.9510565400123596, 0, 0.30901700258255005], [-0.9510565400123596, 0, 0.30901700258255005]], []], [4, 9, 0, [-0.5877852688766722, 0, 0.8090169823258212], '#ffffff', 0, [[-0.9510565400123596, 0, 0.30901700258255005], [-0.9510565400123596, 0, 0.30901700258255005], [-2.4492937051703357e-16, 0, 1]], []], [9, 5, 0, [-0.5877852688766722, 0, 0.8090169823258212], '#ffffff', 0, [[-0.9510565400123596, 0, 0.30901700258255005], [-2.4492937051703357e-16, 0, 1], [-2.4492937051703357e-16, 0, 1]], []], [9, 14, 5, [-0.5877852688766722, 0, 0.8090169823258212], '#ffffff', 0, [[-0.9510565400123596, 0, 0.30901700258255005], [-0.9510565400123596, 0, 0.30901700258255005], [-2.4492937051703357e-16, 0, 1]], []], [14, 10, 5, [-0.5877852688766722, 0, 0.8090169823258212], '#ffffff', 0, [[-0.9510565400123596, 0, 0.30901700258255005], [-2.4492937051703357e-16, 0, 1], [-2.4492937051703357e-16, 0, 1]], []], [14, 19, 10, [-0.5877852688766722, 0, 0.8090169823258212], '#ffffff', 0, [[-0.9510565400123596, 0, 0.30901700258255005], [-0.9510565400123596, 0, 0.30901700258255005], [-2.4492937051703357e-16, 0, 1]], []], [19, 15, 10, [-0.5877852688766722, 0, 0.8090169823258212], '#ffffff', 0, [[-0.9510565400123596, 0, 0.30901700258255005], [-2.4492937051703357e-16, 0, 1], [-2.4492937051703357e-16, 0, 1]], []], [19, 24, 15, [-0.5877852688766723, 0, 0.8090169823258213], '#ffffff', 0, [[-0.9510565400123596, 0, 0.30901700258255005], [-0.9510565400123596, 0, 0.30901700258255005], [-2.4492937051703357e-16, 0, 1]], []], [24, 20, 15, [-0.5877852688766723, 0, 0.8090169823258213], '#ffffff', 0, [[-0.9510565400123596, 0, 0.30901700258255005], [-2.4492937051703357e-16, 0, 1], [-2.4492937051703357e-16, 0, 1]], []], [24, 29, 20, [-0.5877852688766722, 0, 0.8090169823258212], '#ffffff', 0, [[-0.9510565400123596, 0, 0.30901700258255005], [-0.9510565400123596, 0, 0.30901700258255005], [-2.4492937051703357e-16, 0, 1]], []], [29, 25, 20, [-0.5877852688766722, 0, 0.8090169823258212], '#ffffff', 0, [[-0.9510565400123596, 0, 0.30901700258255005], [-2.4492937051703357e-16, 0, 1], [-2.4492937051703357e-16, 0, 1]], []], [29, 34, 25, [-0.5877852688766723, 0, 0.8090169823258213], '#ffffff', 0, [[-0.9510565400123596, 0, 0.30901700258255005], [-0.9510565400123596, 0, 0.30901700258255005], [-2.4492937051703357e-16, 0, 1]], []], [34, 30, 25, [-0.5877852688766723, 0, 0.8090169823258213], '#ffffff', 0, [[-0.9510565400123596, 0, 0.30901700258255005], [-2.4492937051703357e-16, 0, 1], [-2.4492937051703357e-16, 0, 1]], []], [34, 39, 30, [-0.5877852688766722, 0, 0.8090169823258212], '#ffffff', 0, [[-0.9510565400123596, 0, 0.30901700258255005], [-0.9510565400123596, 0, 0.30901700258255005], [-2.4492937051703357e-16, 0, 1]], []], [39, 35, 30, [-0.5877852688766722, 0, 0.8090169823258212], '#ffffff', 0, [[-0.9510565400123596, 0, 0.30901700258255005], [-2.4492937051703357e-16, 0, 1], [-2.4492937051703357e-16, 0, 1]], []], [39, 44, 35, [-0.5877852688766722, 0, 0.8090169823258212], '#ffffff', 0, [[-0.9510565400123596, 0, 0.30901700258255005], [-0.9510565400123596, 0, 0.30901700258255005], [-2.4492937051703357e-16, 0, 1]], []], [44, 40, 35, [-0.5877852688766722, 0, 0.8090169823258212], '#ffffff', 0, [[-0.9510565400123596, 0, 0.30901700258255005], [-2.4492937051703357e-16, 0, 1], [-2.4492937051703357e-16, 0, 1]], []], [44, 49, 40, [-0.5877852688766722, 0, 0.8090169823258212], '#ffffff', 0, [[-0.9510565400123596, 0, 0.30901700258255005], [-0.9510565400123596, 0, 0.30901700258255005], [-2.4492937051703357e-16, 0, 1]], []], [49, 45, 40, [-0.5877852688766722, 0, 0.8090169823258212], '#ffffff', 0, [[-0.9510565400123596, 0, 0.30901700258255005], [-2.4492937051703357e-16, 0, 1], [-2.4492937051703357e-16, 0, 1]], []], [49, 54, 45, [-0.5877852688766723, 0, 0.8090169823258213], '#ffffff', 0, [[-0.9510565400123596, 0, 0.30901700258255005], [-0.9510565400123596, 0, 0.30901700258255005], [-2.4492937051703357e-16, 0, 1]], []], [54, 50, 45, [-0.5877852688766723, 0, 0.8090169823258213], '#ffffff', 0, [[-0.9510565400123596, 0, 0.30901700258255005], [-2.4492937051703357e-16, 0, 1], [-2.4492937051703357e-16, 0, 1]], []], [54, 59, 50, [-0.5877852688766722, 0, 0.8090169823258212], '#ffffff', 0, [[-0.9510565400123596, 0, 0.30901700258255005], [-0.9510565400123596, 0, 0.30901700258255005], [-2.4492937051703357e-16, 0, 1]], []], [59, 55, 50, [-0.5877852688766722, 0, 0.8090169823258212], '#ffffff', 0, [[-0.9510565400123596, 0, 0.30901700258255005], [-2.4492937051703357e-16, 0, 1], [-2.4492937051703357e-16, 0, 1]], []], [59, 64, 55, [-0.5877852688766723, 0, 0.8090169823258213], '#ffffff', 0, [[-0.9510565400123596, 0, 0.30901700258255005], [-0.9510565400123596, 0, 0.30901700258255005], [-2.4492937051703357e-16, 0, 1]], []], [64, 60, 55, [-0.5877852688766723, 0, 0.8090169823258213], '#ffffff', 0, [[-0.9510565400123596, 0, 0.30901700258255005], [-2.4492937051703357e-16, 0, 1], [-2.4492937051703357e-16, 0, 1]], []], [64, 69, 60, [-0.5877852688766722, 0, 0.8090169823258212], '#ffffff', 0, [[-0.9510565400123596, 0, 0.30901700258255005], [-0.9510565400123596, 0, 0.30901700258255005], [-2.4492937051703357e-16, 0, 1]], []], [69, 65, 60, [-0.5877852688766722, 0, 0.8090169823258212], '#ffffff', 0, [[-0.9510565400123596, 0, 0.30901700258255005], [-2.4492937051703357e-16, 0, 1], [-2.4492937051703357e-16, 0, 1]], []], [69, 74, 65, [-0.5877852688766722, 0, 0.8090169823258212], '#ffffff', 0, [[-0.9510565400123596, 0, 0.30901700258255005], [-0.9510565400123596, 0, 0.30901700258255005], [-2.4492937051703357e-16, 0, 1]], []], [74, 70, 65, [-0.5877852688766722, 0, 0.8090169823258212], '#ffffff', 0, [[-0.9510565400123596, 0, 0.30901700258255005], [-2.4492937051703357e-16, 0, 1], [-2.4492937051703357e-16, 0, 1]], []], [74, 79, 70, [-0.5877852688766722, 0, 0.8090169823258212], '#ffffff', 0, [[-0.9510565400123596, 0, 0.30901700258255005], [-0.9510565400123596, 0, 0.30901700258255005], [-2.4492937051703357e-16, 0, 1]], []], [79, 75, 70, [-0.5877852688766722, 0, 0.8090169823258212], '#ffffff', 0, [[-0.9510565400123596, 0, 0.30901700258255005], [-2.4492937051703357e-16, 0, 1], [-2.4492937051703357e-16, 0, 1]], []]), skinIndices=[[2.0, 3.0, 0, 0], [2.0, 3.0, 0, 0], [2.0, 3.0, 0, 0], [2.0, 3.0, 0, 0], [2.0, 3.0, 0, 0], [1.0, 2.0, 0, 0], [1.0, 2.0, 0, 0], [1.0, 2.0, 0, 0], [1.0, 2.0, 0, 0], [1.0, 2.0, 0, 0], [1.0, 2.0, 0, 0], [1.0, 2.0, 0, 0], [1.0, 2.0, 0, 0], [1.0, 2.0, 0, 0], [1.0, 2.0, 0, 0], [1.0, 2.0, 0, 0], [1.0, 2.0, 0, 0], [1.0, 2.0, 0, 0], [1.0, 2.0, 0, 0], [1.0, 2.0, 0, 0], [1.0, 2.0, 0, 0], [1.0, 2.0, 0, 0], [1.0, 2.0, 0, 0], [1.0, 2.0, 0, 0], [1.0, 2.0, 0, 0], [1.0, 2.0, 0, 0], [1.0, 2.0, 0, 0], [1.0, 2.0, 0, 0], [1.0, 2.0, 0, 0], [1.0, 2.0, 0, 0], [1.0, 2.0, 0, 0], [1.0, 2.0, 0, 0], [1.0, 2.0, 0, 0], [1.0, 2.0, 0, 0], [1.0, 2.0, 0, 0], [1.0, 2.0, 0, 0], [1.0, 2.0, 0, 0], [1.0, 2.0, 0, 0], [1.0, 2.0, 0, 0], [1.0, 2.0, 0, 0], [0.0, 1.0, 0, 0], [0.0, 1.0, 0, 0], [0.0, 1.0, 0, 0], [0.0, 1.0, 0, 0], [0.0, 1.0, 0, 0], [0.0, 1.0, 0, 0], [0.0, 1.0, 0, 0], [0.0, 1.0, 0, 0], [0.0, 1.0, 0, 0], [0.0, 1.0, 0, 0], [0.0, 1.0, 0, 0], [0.0, 1.0, 0, 0], [0.0, 1.0, 0, 0], [0.0, 1.0, 0, 0], [0.0, 1.0, 0, 0], [0.0, 1.0, 0, 0], [0.0, 1.0, 0, 0], [0.0, 1.0, 0, 0], [0.0, 1.0, 0, 0], [0.0, 1.0, 0, 0], [0.0, 1.0, 0, 0], [0.0, 1.0, 0, 0], [0.0, 1.0, 0, 0], [0.0, 1.0, 0, 0], [0.0, 1.0, 0, 0], [0.0, 1.0, 0, 0], [0.0, 1.0, 0, 0], [0.0, 1.0, 0, 0], [0.0, 1.0, 0, 0], [0.0, 1.0, 0, 0], [0.0, 1.0, 0, 0], [0.0, 1.0, 0, 0], [0.0, 1.0, 0, 0], [0.0, 1.0, 0, 0], [0.0, 1.0, 0, 0], [0.0, 1.0, 0, 0], [0.0, 1.0, 0, 0], [0.0, 1.0, 0, 0], [0.0, 1.0, 0, 0], [0.0, 1.0, 0, 0]], skinWeights=[[1.0, 0.0, 0, 0], [1.0, 0.0, 0, 0], [1.0, 0.0, 0, 0], [1.0, 0.0, 0, 0], [1.0, 0.0, 0, 0], [0.13333335876464847, 0.8666666412353515, 0, 0], [0.13333335876464847, 0.8666666412353515, 0, 0], [0.13333335876464847, 0.8666666412353515, 0, 0], [0.13333335876464847, 0.8666666412353515, 0, 0], [0.13333335876464847, 0.8666666412353515, 0, 0], [0.26666664123535155, 0.7333333587646484, 0, 0], [0.26666664123535155, 0.7333333587646484, 0, 0], [0.26666664123535155, 0.7333333587646484, 0, 0], [0.26666664123535155, 0.7333333587646484, 0, 0], [0.26666664123535155, 0.7333333587646484, 0, 0], [0.4, 0.6, 0, 0], [0.4, 0.6, 0, 0], [0.4, 0.6, 0, 0], [0.4, 0.6, 0, 0], [0.4, 0.6, 0, 0], [0.5333333206176758, 0.4666666793823242, 0, 0], [0.5333333206176758, 0.4666666793823242, 0, 0], [0.5333333206176758, 0.4666666793823242, 0, 0], [0.5333333206176758, 0.4666666793823242, 0, 0], [0.5333333206176758, 0.4666666793823242, 0, 0], [0.6666666793823242, 0.3333333206176758, 0, 0], [0.6666666793823242, 0.3333333206176758, 0, 0], [0.6666666793823242, 0.3333333206176758, 0, 0], [0.6666666793823242, 0.3333333206176758, 0, 0], [0.6666666793823242, 0.3333333206176758, 0, 0], [0.8, 0.2, 0, 0], [0.8, 0.2, 0, 0], [0.8, 0.2, 0, 0], [0.8, 0.2, 0, 0], [0.8, 0.2, 0, 0], [0.9333333349227906, 0.06666666507720947, 0, 0], [0.9333333349227906, 0.06666666507720947, 0, 0], [0.9333333349227906, 0.06666666507720947, 0, 0], [0.9333333349227906, 0.06666666507720947, 0, 0], [0.9333333349227906, 0.06666666507720947, 0, 0], [0.06666666507720942, 0.9333333349227906, 0, 0], [0.06666666507720942, 0.9333333349227906, 0, 0], [0.06666666507720942, 0.9333333349227906, 0, 0], [0.06666666507720942, 0.9333333349227906, 0, 0], [0.06666666507720942, 0.9333333349227906, 0, 0], [0.19999999999999996, 0.8, 0, 0], [0.19999999999999996, 0.8, 0, 0], [0.19999999999999996, 0.8, 0, 0], [0.19999999999999996, 0.8, 0, 0], [0.19999999999999996, 0.8, 0, 0], [0.33333332061767573, 0.6666666793823243, 0, 0], [0.33333332061767573, 0.6666666793823243, 0, 0], [0.33333332061767573, 0.6666666793823243, 0, 0], [0.33333332061767573, 0.6666666793823243, 0, 0], [0.33333332061767573, 0.6666666793823243, 0, 0], [0.4666666793823242, 0.5333333206176758, 0, 0], [0.4666666793823242, 0.5333333206176758, 0, 0], [0.4666666793823242, 0.5333333206176758, 0, 0], [0.4666666793823242, 0.5333333206176758, 0, 0], [0.4666666793823242, 0.5333333206176758, 0, 0], [0.6, 0.4, 0, 0], [0.6, 0.4, 0, 0], [0.6, 0.4, 0, 0], [0.6, 0.4, 0, 0], [0.6, 0.4, 0, 0], [0.7333333587646484, 0.26666664123535155, 0, 0], [0.7333333587646484, 0.26666664123535155, 0, 0], [0.7333333587646484, 0.26666664123535155, 0, 0], [0.7333333587646484, 0.26666664123535155, 0, 0], [0.7333333587646484, 0.26666664123535155, 0, 0], [0.8666666412353515, 0.13333335876464844, 0, 0], [0.8666666412353515, 0.13333335876464844, 0, 0], [0.8666666412353515, 0.13333335876464844, 0, 0], [0.8666666412353515, 0.13333335876464844, 0, 0], [0.8666666412353515, 0.13333335876464844, 0, 0], [1.0, 0.0, 0, 0], [1.0, 0.0, 0, 0], [1.0, 0.0, 0, 0], [1.0, 0.0, 0, 0], [1.0, 0.0, 0, 0]], type='Geometry', vertices=[[0, 25, 5], [4.755282402038574, 25, 1.5450849533081055], [2.9389262199401855, 25, -4.0450849533081055], [-2.9389262199401855, 25, -4.0450849533081055], [-4.755282402038574, 25, 1.5450849533081055], [0, 21.66666603088379, 5], [4.755282402038574, 21.66666603088379, 1.5450849533081055], [2.9389262199401855, 21.66666603088379, -4.0450849533081055], [-2.9389262199401855, 21.66666603088379, -4.0450849533081055], [-4.755282402038574, 21.66666603088379, 1.5450849533081055], [0, 18.33333396911621, 5], [4.755282402038574, 18.33333396911621, 1.5450849533081055], [2.9389262199401855, 18.33333396911621, -4.0450849533081055], [-2.9389262199401855, 18.33333396911621, -4.0450849533081055], [-4.755282402038574, 18.33333396911621, 1.5450849533081055], [0, 15, 5], [4.755282402038574, 15, 1.5450849533081055], [2.9389262199401855, 15, -4.0450849533081055], [-2.9389262199401855, 15, -4.0450849533081055], [-4.755282402038574, 15, 1.5450849533081055], [0, 11.666666984558105, 5], [4.755282402038574, 11.666666984558105, 1.5450849533081055], [2.9389262199401855, 11.666666984558105, -4.0450849533081055], [-2.9389262199401855, 11.666666984558105, -4.0450849533081055], [-4.755282402038574, 11.666666984558105, 1.5450849533081055], [0, 8.333333015441895, 5], [4.755282402038574, 8.333333015441895, 1.5450849533081055], [2.9389262199401855, 8.333333015441895, -4.0450849533081055], [-2.9389262199401855, 8.333333015441895, -4.0450849533081055], [-4.755282402038574, 8.333333015441895, 1.5450849533081055], [0, 5, 5], [4.755282402038574, 5, 1.5450849533081055], [2.9389262199401855, 5, -4.0450849533081055], [-2.9389262199401855, 5, -4.0450849533081055], [-4.755282402038574, 5, 1.5450849533081055], [0, 1.6666666269302368, 5], [4.755282402038574, 1.6666666269302368, 1.5450849533081055], [2.9389262199401855, 1.6666666269302368, -4.0450849533081055], [-2.9389262199401855, 1.6666666269302368, -4.0450849533081055], [-4.755282402038574, 1.6666666269302368, 1.5450849533081055], [0, -1.6666666269302368, 5], [4.755282402038574, -1.6666666269302368, 1.5450849533081055], [2.9389262199401855, -1.6666666269302368, -4.0450849533081055], [-2.9389262199401855, -1.6666666269302368, -4.0450849533081055], [-4.755282402038574, -1.6666666269302368, 1.5450849533081055], [0, -5, 5], [4.755282402038574, -5, 1.5450849533081055], [2.9389262199401855, -5, -4.0450849533081055], [-2.9389262199401855, -5, -4.0450849533081055], [-4.755282402038574, -5, 1.5450849533081055], [0, -8.333333015441895, 5], [4.755282402038574, -8.333333015441895, 1.5450849533081055], [2.9389262199401855, -8.333333015441895, -4.0450849533081055], [-2.9389262199401855, -8.333333015441895, -4.0450849533081055], [-4.755282402038574, -8.333333015441895, 1.5450849533081055], [0, -11.666666984558105, 5], [4.755282402038574, -11.666666984558105, 1.5450849533081055], [2.9389262199401855, -11.666666984558105, -4.0450849533081055], [-2.9389262199401855, -11.666666984558105, -4.0450849533081055], [-4.755282402038574, -11.666666984558105, 1.5450849533081055], [0, -15, 5], [4.755282402038574, -15, 1.5450849533081055], [2.9389262199401855, -15, -4.0450849533081055], [-2.9389262199401855, -15, -4.0450849533081055], [-4.755282402038574, -15, 1.5450849533081055], [0, -18.33333396911621, 5], [4.755282402038574, -18.33333396911621, 1.5450849533081055], [2.9389262199401855, -18.33333396911621, -4.0450849533081055], [-2.9389262199401855, -18.33333396911621, -4.0450849533081055], [-4.755282402038574, -18.33333396911621, 1.5450849533081055], [0, -21.66666603088379, 5], [4.755282402038574, -21.66666603088379, 1.5450849533081055], [2.9389262199401855, -21.66666603088379, -4.0450849533081055], [-2.9389262199401855, -21.66666603088379, -4.0450849533081055], [-4.755282402038574, -21.66666603088379, 1.5450849533081055], [0, -25, 5], [4.755282402038574, -25, 1.5450849533081055], [2.9389262199401855, -25, -4.0450849533081055], [-2.9389262199401855, -25, -4.0450849533081055], [-4.755282402038574, -25, 1.5450849533081055]]), material=MeshPhongMaterial(alphaMap=None, aoMap=None, bumpMap=None, displacementMap=None, emissiveMap=None, envMap=None, lightMap=None, map=None, normalMap=None, normalScale=(1.0, 1.0), side='DoubleSide', skinning=True, specularMap=None, type='MeshPhongMaterial'), quaternion=(0.0, 0.0, 0.0, 1.0), scale=(1.0, 1.0, 1.0), skeleton=Skeleton(bones=(Bone(children=(Bone(children=(Bone(position=(0.0, 25.0, 0.0), quaternion=(0.0, 0.0, 0.0, 1.0), scale=(1.0, 1.0, 1.0), type='Bone', up=(0.0, 1.0, 0.0)),), position=(0.0, 25.0, 0.0), quaternion=(0.0, 0.0, 0.0, 1.0), scale=(1.0, 1.0, 1.0), type='Bone', up=(0.0, 1.0, 0.0)),), position=(0.0, -25.0, 0.0), quaternion=(0.0, 0.0, 0.0, 1.0), scale=(1.0, 1.0, 1.0), type='Bone', up=(0.0, 1.0, 0.0)), Bone(children=(Bone(position=(0.0, 25.0, 0.0), quaternion=(0.0, 0.0, 0.0, 1.0), scale=(1.0, 1.0, 1.0), type='Bone', up=(0.0, 1.0, 0.0)),), position=(0.0, 25.0, 0.0), quaternion=(0.0, 0.0, 0.0, 1.0), scale=(1.0, 1.0, 1.0), type='Bone', up=(0.0, 1.0, 0.0)), Bone(position=(0.0, 25.0, 0.0), quaternion=(0.0, 0.0, 0.0, 1.0), scale=(1.0, 1.0, 1.0), type='Bone', up=(0.0, 1.0, 0.0)))), type='SkinnedMesh', up=(0.0, 1.0, 0.0))))"
      ]
     },
     "metadata": {},
     "output_type": "display_data"
    }
   ],
   "source": [
    "wring_action"
   ]
  },
  {
   "cell_type": "code",
   "execution_count": null,
   "metadata": {
    "collapsed": true
   },
   "outputs": [],
   "source": []
  }
 ],
 "metadata": {
  "kernelspec": {
   "display_name": "C++14",
   "language": "C++14",
   "name": "xeus-cling-cpp14"
  },
  "language_info": {
   "codemirror_mode": "text/x-c++src",
   "file_extension": ".cpp",
   "mimetype": "text/x-c++src",
   "name": "c++",
   "version": "14"
  },
  "widgets": {
   "application/vnd.jupyter.widget-state+json": {
    "state": {
     "002b7b03200748d3b4d62a38c383f4e3": {
      "model_module": "jupyter-threejs",
      "model_module_version": "0.4.0",
      "model_name": "AnimationActionModel",
      "state": {
       "_model_module": "jupyter-threejs",
       "_model_module_version": "0.4.0",
       "_model_name": "AnimationActionModel",
       "_view_module_version": "0.4.0",
       "clip": "IPY_MODEL_d107df5fdf58423194c0fcec9bc916ab",
       "layout": "IPY_MODEL_88fded967d154b94a5dc53d2691b1614",
       "localRoot": "IPY_MODEL_96d31bd0f71b474b9950367ad61d4a9d",
       "mixer": "IPY_MODEL_d280682347b74486be3601ae937c1883",
       "repititions": "inf"
      }
     },
     "02829a2eeab04a448f0ce62331791cf9": {
      "model_module": "jupyter-threejs",
      "model_module_version": "0.4.0",
      "model_name": "MeshLambertMaterialModel",
      "state": {
       "_view_module": null,
       "_view_module_version": "",
       "color": "yellow",
       "side": "BackSide",
       "type": "MeshLambertMaterial"
      }
     },
     "058e735c-2504-4214-aa55-1459cdf8f4d2": {
      "model_module": "jupyter-threejs",
      "model_module_version": "0.4.0",
      "model_name": "OrthographicCameraModel",
      "state": {
       "bottom": -5,
       "far": 500,
       "left": -5,
       "near": 0.5,
       "projectionMatrix": [
        0.2,
        0,
        0,
        0,
        0,
        0.2,
        0,
        0,
        0,
        0,
        -0.004004004004004004,
        0,
        0,
        0,
        -1.002002002002002,
        1
       ],
       "right": 5,
       "top": 5,
       "type": "OrthographicCamera"
      }
     },
     "09db366bb99a42629d43eb33be5eb041": {
      "model_module": "jupyter-threejs",
      "model_module_version": "0.4.0",
      "model_name": "MeshPhongMaterialModel",
      "state": {
       "_view_module": null,
       "_view_module_version": "",
       "side": "DoubleSide",
       "skinning": true,
       "type": "MeshPhongMaterial"
      }
     },
     "16e2a1bfed974746b0d73bff9542af6d": {
      "model_module": "jupyter-threejs",
      "model_module_version": "0.4.0",
      "model_name": "GeometryModel",
      "state": {
       "_ref_geometry": "IPY_MODEL_4af1d948fce7444ead8d2497229bf283",
       "_view_module": null,
       "_view_module_version": ""
      }
     },
     "17427107af1e42b98d19690a4b48647b": {
      "buffers": [
       {
        "data": "AAAAAAAAAD8AAMA/AAAAQA==",
        "encoding": "base64",
        "path": [
         "times",
         "buffer"
        ]
       },
       {
        "data": "AAAAAJqZmb6amZk+AAAAAA==",
        "encoding": "base64",
        "path": [
         "values",
         "buffer"
        ]
       }
      ],
      "model_module": "jupyter-threejs",
      "model_module_version": "0.4.0",
      "model_name": "NumberKeyframeTrackModel",
      "state": {
       "_view_module": null,
       "_view_module_version": "",
       "name": ".bones[2].rotation[x]",
       "times": {
        "buffer": {},
        "dtype": "float32",
        "shape": [
         4
        ]
       },
       "values": {
        "buffer": {},
        "dtype": "float32",
        "shape": [
         4
        ]
       }
      }
     },
     "178b9b11bc384f05a93a936ed6b09886": {
      "model_module": "jupyter-threejs",
      "model_module_version": "0.4.0",
      "model_name": "AnimationClipModel",
      "state": {
       "_view_module": null,
       "_view_module_version": "",
       "duration": 1.5,
       "tracks": [
        "IPY_MODEL_3c747af7474a40408c980719d6e6607b"
       ]
      }
     },
     "1e03ce2d9ef64eccb1ccb4b2059822d6": {
      "model_module": "jupyter-threejs",
      "model_module_version": "0.4.0",
      "model_name": "OrbitControlsModel",
      "state": {
       "_view_module": null,
       "_view_module_version": "",
       "controlling": "IPY_MODEL_96d31bd0f71b474b9950367ad61d4a9d",
       "maxAzimuthAngle": "inf",
       "maxDistance": "inf",
       "maxZoom": "inf",
       "minAzimuthAngle": "-inf"
      }
     },
     "23bce2b9a9824dae8391240e9fbd185a": {
      "model_module": "jupyter-threejs",
      "model_module_version": "0.4.0",
      "model_name": "AnimationMixerModel",
      "state": {
       "_view_module": null,
       "_view_module_version": "",
       "rootObject": "IPY_MODEL_41ca13be3d034bb78c5315b6cc84fadd"
      }
     },
     "275c26b9f02d424c97e7d2bcfd241c81": {
      "model_module": "jupyter-threejs",
      "model_module_version": "0.4.0",
      "model_name": "AmbientLightModel",
      "state": {
       "_view_module": null,
       "_view_module_version": "",
       "intensity": 0.5,
       "type": "AmbientLight"
      }
     },
     "2ef858e830df4234bcd1b05305e8eaf9": {
      "model_module": "jupyter-threejs",
      "model_module_version": "0.4.0",
      "model_name": "WebGLShadowMapModel",
      "state": {
       "_view_module": null,
       "_view_module_version": ""
      }
     },
     "30cec7cc2ef24f12a555c1d7504727d2": {
      "model_module": "jupyter-threejs",
      "model_module_version": "0.4.0",
      "model_name": "DirectionalLightModel",
      "state": {
       "_view_module": null,
       "_view_module_version": "",
       "intensity": 0.6,
       "matrixWorldNeedsUpdate": true,
       "position": [
        3,
        5,
        1
       ],
       "shadow": "IPY_MODEL_940459e3-ab89-4372-b343-1451541aeb6c",
       "target": "IPY_MODEL_45f22feb-43e8-4dfd-9b9a-ef647667d0c4",
       "type": "DirectionalLight"
      }
     },
     "30fd684c-33b5-42bb-8fb0-b2735580d4ca": {
      "buffers": [
       {
        "data": "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",
        "encoding": "base64",
        "path": [
         "array",
         "buffer"
        ]
       }
      ],
      "model_module": "jupyter-threejs",
      "model_module_version": "0.4.0",
      "model_name": "BufferAttributeModel",
      "state": {
       "array": {
        "buffer": {},
        "dtype": "float32",
        "shape": [
         561,
         3
        ]
       },
       "normalized": false,
       "version": 0
      }
     },
     "33ab0f258f3946c79d32e5979ec18072": {
      "model_module": "@jupyter-widgets/base",
      "model_module_version": "1.0.0",
      "model_name": "LayoutModel",
      "state": {}
     },
     "341dd569-5c9f-4bb7-b459-3df244122885": {
      "model_module": "jupyter-threejs",
      "model_module_version": "0.4.0",
      "model_name": "OrthographicCameraModel",
      "state": {
       "bottom": -5,
       "far": 500,
       "left": -5,
       "near": 0.5,
       "projectionMatrix": [
        0.2,
        0,
        0,
        0,
        0,
        0.2,
        0,
        0,
        0,
        0,
        -0.004004004004004004,
        0,
        0,
        0,
        -1.002002002002002,
        1
       ],
       "right": 5,
       "top": 5,
       "type": "OrthographicCamera"
      }
     },
     "377cf03634924f13847c7c218298b7c9": {
      "model_module": "@jupyter-widgets/base",
      "model_module_version": "1.0.0",
      "model_name": "LayoutModel",
      "state": {}
     },
     "3c747af7474a40408c980719d6e6607b": {
      "buffers": [
       {
        "data": "AAAAAAEAAAA=",
        "encoding": "base64",
        "path": [
         "times",
         "buffer"
        ]
       },
       {
        "data": "AQAAAAAAAAAAAAAAAAAAAAAAAAABAAAA",
        "encoding": "base64",
        "path": [
         "values",
         "buffer"
        ]
       }
      ],
      "model_module": "jupyter-threejs",
      "model_module_version": "0.4.0",
      "model_name": "ColorKeyframeTrackModel",
      "state": {
       "_view_module": null,
       "_view_module_version": "",
       "name": ".material.color",
       "times": {
        "buffer": {},
        "dtype": "int32",
        "shape": [
         2
        ]
       },
       "values": {
        "buffer": {},
        "dtype": "int32",
        "shape": [
         6
        ]
       }
      }
     },
     "3c92703508034441bf28382412ac2fe5": {
      "model_module": "@jupyter-widgets/base",
      "model_module_version": "1.0.0",
      "model_name": "LayoutModel",
      "state": {}
     },
     "3e0d84be-3813-45f9-a6ce-e1cd1346287d": {
      "model_module": "jupyter-threejs",
      "model_module_version": "0.4.0",
      "model_name": "OrthographicCameraModel",
      "state": {
       "bottom": -5,
       "far": 500,
       "left": -5,
       "near": 0.5,
       "projectionMatrix": [
        0.2,
        0,
        0,
        0,
        0,
        0.2,
        0,
        0,
        0,
        0,
        -0.004004004004004004,
        0,
        0,
        0,
        -1.002002002002002,
        1
       ],
       "right": 5,
       "top": 5,
       "type": "OrthographicCamera"
      }
     },
     "40bc08d47f60411186632f40b42248b5": {
      "model_module": "jupyter-threejs",
      "model_module_version": "0.4.0",
      "model_name": "MeshModel",
      "state": {
       "_view_module": null,
       "_view_module_version": "",
       "geometry": "IPY_MODEL_4abd8adb5df6411886e59d5d00e495ea",
       "material": "IPY_MODEL_4386a4b13cea41fcb3278cd98650b722",
       "morphTargetInfluences": [],
       "type": "Mesh"
      }
     },
     "4100bf58c9c7450093a880767a813070": {
      "model_module": "jupyter-threejs",
      "model_module_version": "0.4.0",
      "model_name": "MeshModel",
      "state": {
       "_view_module": null,
       "_view_module_version": "",
       "geometry": "IPY_MODEL_c041c44e665947fa9ed8a427a5a5abb8",
       "material": "IPY_MODEL_52ccaf76ffc546fcba84fcceeaf68a02",
       "morphTargetInfluences": [],
       "type": "Mesh"
      }
     },
     "41045c4aa130473191016ccbf764a051": {
      "model_module": "@jupyter-widgets/base",
      "model_module_version": "1.0.0",
      "model_name": "LayoutModel",
      "state": {}
     },
     "41ca13be3d034bb78c5315b6cc84fadd": {
      "model_module": "jupyter-threejs",
      "model_module_version": "0.4.0",
      "model_name": "GroupModel",
      "state": {
       "_view_module": null,
       "_view_module_version": "",
       "children": [
        "IPY_MODEL_4100bf58c9c7450093a880767a813070",
        "IPY_MODEL_50801120cfdb4f4f91599c0c9aeef939"
       ],
       "type": "Group"
      }
     },
     "421de1b8aa2d425e8315141888f2bee8": {
      "model_module": "jupyter-threejs",
      "model_module_version": "0.4.0",
      "model_name": "RendererModel",
      "state": {
       "_height": 400,
       "_model_module_version": "0.4.0",
       "_view_module_version": "0.4.0",
       "_width": 600,
       "camera": "IPY_MODEL_96d31bd0f71b474b9950367ad61d4a9d",
       "controls": [
        "IPY_MODEL_1e03ce2d9ef64eccb1ccb4b2059822d6"
       ],
       "layout": "IPY_MODEL_33ab0f258f3946c79d32e5979ec18072",
       "scene": "IPY_MODEL_ef32ce4223e44d84b93e045f75be7483",
       "shadowMap": "IPY_MODEL_c34d72a5bef2409d84d8ac4b4edfbbff"
      }
     },
     "4386a4b13cea41fcb3278cd98650b722": {
      "model_module": "jupyter-threejs",
      "model_module_version": "0.4.0",
      "model_name": "MeshStandardMaterialModel",
      "state": {
       "_view_module": null,
       "_view_module_version": "",
       "color": "red",
       "type": "MeshStandardMaterial"
      }
     },
     "448c47c1-4b22-444a-956f-3d21c3cfd450": {
      "model_module": "jupyter-threejs",
      "model_module_version": "0.4.0",
      "model_name": "Object3DModel",
      "state": {
       "type": "Object3D"
      }
     },
     "45bac4cd84f243489f3fce05c49fd8eb": {
      "model_module": "jupyter-threejs",
      "model_module_version": "0.4.0",
      "model_name": "AnimationClipModel",
      "state": {
       "_view_module": null,
       "_view_module_version": "",
       "duration": 2,
       "tracks": [
        "IPY_MODEL_6a36d1d9a40f4ec4b5b79b9fd2c09089"
       ]
      }
     },
     "45f22feb-43e8-4dfd-9b9a-ef647667d0c4": {
      "model_module": "jupyter-threejs",
      "model_module_version": "0.4.0",
      "model_name": "Object3DModel",
      "state": {
       "type": "Object3D"
      }
     },
     "46d49ebf-edb1-4066-95a6-3b798f34dc82": {
      "buffers": [
       {
        "data": "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",
        "encoding": "base64",
        "path": [
         "array",
         "buffer"
        ]
       }
      ],
      "model_module": "jupyter-threejs",
      "model_module_version": "0.4.0",
      "model_name": "BufferAttributeModel",
      "state": {
       "array": {
        "buffer": {},
        "dtype": "float32",
        "shape": [
         561,
         3
        ]
       },
       "normalized": false,
       "version": 0
      }
     },
     "46dc4bc928c140c9b2157106d045b539": {
      "model_module": "jupyter-threejs",
      "model_module_version": "0.4.0",
      "model_name": "AnimationClipModel",
      "state": {
       "_view_module": null,
       "_view_module_version": "",
       "duration": 3,
       "tracks": [
        "IPY_MODEL_85871ed2b4304b468017a36c0caa1654"
       ]
      }
     },
     "48fcb06537f947ce9612c9e5eb40f45e": {
      "model_module": "jupyter-threejs",
      "model_module_version": "0.4.0",
      "model_name": "RendererModel",
      "state": {
       "_height": 400,
       "_model_module_version": "0.4.0",
       "_view_module_version": "0.4.0",
       "_width": 600,
       "camera": "IPY_MODEL_f9c4682a3f104f8da8791d52b4ba43b0",
       "controls": [
        "IPY_MODEL_7f95e3b9fa9241199300388e28a2e749"
       ],
       "layout": "IPY_MODEL_7d50dc5e342d4e7ebfa4e34b81f99426",
       "scene": "IPY_MODEL_569949363397473c80b966a1ea8bae98",
       "shadowMap": "IPY_MODEL_9667124ba7234e2ea16f67a72e850438"
      }
     },
     "4abd8adb5df6411886e59d5d00e495ea": {
      "model_module": "jupyter-threejs",
      "model_module_version": "0.4.0",
      "model_name": "SphereBufferGeometryModel",
      "state": {
       "_view_module": null,
       "_view_module_version": "",
       "heightSegments": 16,
       "radius": 1,
       "type": "SphereBufferGeometry",
       "widthSegments": 32
      }
     },
     "4acda7189a3a4f6282b8d352cc72b5c8": {
      "model_module": "jupyter-threejs",
      "model_module_version": "0.4.0",
      "model_name": "OrbitControlsModel",
      "state": {
       "_view_module": null,
       "_view_module_version": "",
       "controlling": "IPY_MODEL_cf16a07a48474bdbb5d94e346d149062",
       "maxAzimuthAngle": "inf",
       "maxDistance": "inf",
       "maxZoom": "inf",
       "minAzimuthAngle": "-inf"
      }
     },
     "4af1d948fce7444ead8d2497229bf283": {
      "model_module": "jupyter-threejs",
      "model_module_version": "0.4.0",
      "model_name": "CylinderGeometryModel",
      "state": {
       "_view_module": null,
       "_view_module_version": "",
       "height": 50,
       "heightSegments": 15,
       "openEnded": true,
       "radiusBottom": 5,
       "radiusSegments": 5,
       "radiusTop": 5,
       "type": "CylinderGeometry"
      }
     },
     "4c786986-1d83-4b71-9663-198dca377027": {
      "model_module": "jupyter-threejs",
      "model_module_version": "0.4.0",
      "model_name": "OrthographicCameraModel",
      "state": {
       "bottom": -5,
       "far": 500,
       "left": -5,
       "near": 0.5,
       "projectionMatrix": [
        0.2,
        0,
        0,
        0,
        0,
        0.2,
        0,
        0,
        0,
        0,
        -0.004004004004004004,
        0,
        0,
        0,
        -1.002002002002002,
        1
       ],
       "right": 5,
       "top": 5,
       "type": "OrthographicCamera"
      }
     },
     "50152692-311a-48a1-ba3d-a87b797d2d2a": {
      "model_module": "jupyter-threejs",
      "model_module_version": "0.4.0",
      "model_name": "Object3DModel",
      "state": {
       "type": "Object3D"
      }
     },
     "50801120cfdb4f4f91599c0c9aeef939": {
      "model_module": "jupyter-threejs",
      "model_module_version": "0.4.0",
      "model_name": "MeshModel",
      "state": {
       "_view_module": null,
       "_view_module_version": "",
       "geometry": "IPY_MODEL_c041c44e665947fa9ed8a427a5a5abb8",
       "material": "IPY_MODEL_02829a2eeab04a448f0ce62331791cf9",
       "morphTargetInfluences": [],
       "type": "Mesh"
      }
     },
     "52ccaf76ffc546fcba84fcceeaf68a02": {
      "model_module": "jupyter-threejs",
      "model_module_version": "0.4.0",
      "model_name": "MeshLambertMaterialModel",
      "state": {
       "_view_module": null,
       "_view_module_version": "",
       "color": "green",
       "type": "MeshLambertMaterial"
      }
     },
     "54924996-dc91-485a-bfab-d74b7a231bc4": {
      "model_module": "jupyter-threejs",
      "model_module_version": "0.4.0",
      "model_name": "DirectionalLightShadowModel",
      "state": {
       "camera": "IPY_MODEL_3e0d84be-3813-45f9-a6ce-e1cd1346287d"
      }
     },
     "56457e19a7684decb50af664d17dc999": {
      "model_module": "jupyter-threejs",
      "model_module_version": "0.4.0",
      "model_name": "AnimationClipModel",
      "state": {
       "_view_module": null,
       "_view_module_version": "",
       "duration": 2,
       "tracks": [
        "IPY_MODEL_5ffa9d093adb425493886d10fc8209f7",
        "IPY_MODEL_bfb4e453ce1844e18319bf97b1fc36c9",
        "IPY_MODEL_17427107af1e42b98d19690a4b48647b",
        "IPY_MODEL_c120390348ba4b319f14b132152ea0fa"
       ]
      }
     },
     "569949363397473c80b966a1ea8bae98": {
      "model_module": "jupyter-threejs",
      "model_module_version": "0.4.0",
      "model_name": "SceneModel",
      "state": {
       "_view_module": null,
       "_view_module_version": "",
       "children": [
        "IPY_MODEL_cf7eef49fa254c968cc35664bb385f72",
        "IPY_MODEL_f9c4682a3f104f8da8791d52b4ba43b0",
        "IPY_MODEL_f9f842841acc413287cb13f3592b5445",
        "IPY_MODEL_7d56bcb4b3f9456597c36a1b6d75c09f"
       ],
       "type": "Scene"
      }
     },
     "589f9d46-960f-42c9-8991-c5c341dea1a0": {
      "model_module": "jupyter-threejs",
      "model_module_version": "0.4.0",
      "model_name": "DirectionalLightShadowModel",
      "state": {
       "camera": "IPY_MODEL_341dd569-5c9f-4bb7-b459-3df244122885"
      }
     },
     "5b9162ac5f1d403f887f2a4c21308f0f": {
      "model_module": "jupyter-threejs",
      "model_module_version": "0.4.0",
      "model_name": "BoxBufferGeometryModel",
      "state": {
       "_view_module": null,
       "_view_module_version": "",
       "depth": 1,
       "height": 1,
       "type": "BoxBufferGeometry",
       "width": 1
      }
     },
     "5ca0b95203774d8ca9f3febbda13f4d7": {
      "model_module": "jupyter-threejs",
      "model_module_version": "0.4.0",
      "model_name": "AnimationMixerModel",
      "state": {
       "_view_module": null,
       "_view_module_version": "",
       "rootObject": "IPY_MODEL_7d4b7c8ad9cd454499e2b4e6f814c316"
      }
     },
     "5ffa9d093adb425493886d10fc8209f7": {
      "buffers": [
       {
        "data": "AAAAAAAAAD8AAMA/AAAAQA==",
        "encoding": "base64",
        "path": [
         "times",
         "buffer"
        ]
       },
       {
        "data": "AAAAAJqZmT6amZm+AAAAAA==",
        "encoding": "base64",
        "path": [
         "values",
         "buffer"
        ]
       }
      ],
      "model_module": "jupyter-threejs",
      "model_module_version": "0.4.0",
      "model_name": "NumberKeyframeTrackModel",
      "state": {
       "_view_module": null,
       "_view_module_version": "",
       "name": ".bones[1].rotation[x]",
       "times": {
        "buffer": {},
        "dtype": "float32",
        "shape": [
         4
        ]
       },
       "values": {
        "buffer": {},
        "dtype": "float32",
        "shape": [
         4
        ]
       }
      }
     },
     "60479798418c4628bdfe44c8561b6a27": {
      "model_module": "jupyter-threejs",
      "model_module_version": "0.4.0",
      "model_name": "MeshPhysicalMaterialModel",
      "state": {
       "_view_module": null,
       "_view_module_version": "",
       "color": "green",
       "type": "MeshPhysicalMaterial"
      }
     },
     "6379f3052dcd4a5d85bc5fd1d4c83e4a": {
      "model_module": "jupyter-threejs",
      "model_module_version": "0.4.0",
      "model_name": "MeshModel",
      "state": {
       "_view_module": null,
       "_view_module_version": "",
       "geometry": "IPY_MODEL_5b9162ac5f1d403f887f2a4c21308f0f",
       "material": "IPY_MODEL_60479798418c4628bdfe44c8561b6a27",
       "morphTargetInfluences": [],
       "position": [
        2,
        0,
        4
       ],
       "type": "Mesh"
      }
     },
     "6744d9394cfa4b79bcd76b176a91365d": {
      "model_module": "jupyter-threejs",
      "model_module_version": "0.4.0",
      "model_name": "WebGLShadowMapModel",
      "state": {
       "_view_module": null,
       "_view_module_version": ""
      }
     },
     "68a30b6a-5a07-4fa5-84b2-57e47481f497": {
      "model_module": "jupyter-threejs",
      "model_module_version": "0.4.0",
      "model_name": "Object3DModel",
      "state": {
       "type": "Object3D"
      }
     },
     "693926a4dc5c4995bde2013b3398183d": {
      "model_module": "@jupyter-widgets/base",
      "model_module_version": "1.0.0",
      "model_name": "LayoutModel",
      "state": {}
     },
     "6a36d1d9a40f4ec4b5b79b9fd2c09089": {
      "buffers": [
       {
        "data": "AAAAAAIAAAA=",
        "encoding": "base64",
        "path": [
         "times",
         "buffer"
        ]
       },
       {
        "data": "AAAAAMP1yEA=",
        "encoding": "base64",
        "path": [
         "values",
         "buffer"
        ]
       }
      ],
      "model_module": "jupyter-threejs",
      "model_module_version": "0.4.0",
      "model_name": "NumberKeyframeTrackModel",
      "state": {
       "_view_module": null,
       "_view_module_version": "",
       "name": ".rotation[y]",
       "times": {
        "buffer": {},
        "dtype": "int32",
        "shape": [
         2
        ]
       },
       "values": {
        "buffer": {},
        "dtype": "float32",
        "shape": [
         2
        ]
       }
      }
     },
     "6a5ca85a20624e7fb0ab33c17207bccc": {
      "model_module": "jupyter-threejs",
      "model_module_version": "0.4.0",
      "model_name": "BoneModel",
      "state": {
       "_view_module": null,
       "_view_module_version": "",
       "position": [
        0,
        25,
        0
       ],
       "type": "Bone"
      }
     },
     "6c31ee21ad86476bb751c99004ebce15": {
      "buffers": [
       {
        "data": "AAAAAAIAAAAFAAAA",
        "encoding": "base64",
        "path": [
         "times",
         "buffer"
        ]
       },
       {
        "data": "AAAgQQAAwEAAACBBmpnJQIXrcUCamclAUrg+wD0KVz8zMxNB",
        "encoding": "base64",
        "path": [
         "values",
         "buffer"
        ]
       }
      ],
      "model_module": "jupyter-threejs",
      "model_module_version": "0.4.0",
      "model_name": "VectorKeyframeTrackModel",
      "state": {
       "_view_module": null,
       "_view_module_version": "",
       "name": ".position",
       "times": {
        "buffer": {},
        "dtype": "int32",
        "shape": [
         3
        ]
       },
       "values": {
        "buffer": {},
        "dtype": "float32",
        "shape": [
         9
        ]
       }
      }
     },
     "7586b9bde0714d409c8736821df5aff3": {
      "model_module": "jupyter-threejs",
      "model_module_version": "0.4.0",
      "model_name": "SceneModel",
      "state": {
       "_view_module": null,
       "_view_module_version": "",
       "children": [
        "IPY_MODEL_7d4b7c8ad9cd454499e2b4e6f814c316",
        "IPY_MODEL_85ad1b701cc24caeacb68335a58cd2bc",
        "IPY_MODEL_cf16a07a48474bdbb5d94e346d149062",
        "IPY_MODEL_30cec7cc2ef24f12a555c1d7504727d2",
        "IPY_MODEL_d0c51440612745b2a66593eac869058b"
       ],
       "type": "Scene"
      }
     },
     "765ce8e93d564b0d984bf95de376ed29": {
      "model_module": "jupyter-threejs",
      "model_module_version": "0.4.0",
      "model_name": "BoneModel",
      "state": {
       "_view_module": null,
       "_view_module_version": "",
       "children": [
        "IPY_MODEL_879eb5734d2449879b914dd56facfed0"
       ],
       "position": [
        0,
        -25,
        0
       ],
       "type": "Bone"
      }
     },
     "7d4b7c8ad9cd454499e2b4e6f814c316": {
      "model_module": "jupyter-threejs",
      "model_module_version": "0.4.0",
      "model_name": "SkinnedMeshModel",
      "state": {
       "_view_module": null,
       "_view_module_version": "",
       "children": [
        "IPY_MODEL_765ce8e93d564b0d984bf95de376ed29"
       ],
       "geometry": "IPY_MODEL_16e2a1bfed974746b0d73bff9542af6d",
       "material": "IPY_MODEL_09db366bb99a42629d43eb33be5eb041",
       "morphTargetInfluences": [],
       "skeleton": "IPY_MODEL_b035c6b558db4d6c8f1d1d5d5ec3de97",
       "type": "SkinnedMesh"
      }
     },
     "7d50dc5e342d4e7ebfa4e34b81f99426": {
      "model_module": "@jupyter-widgets/base",
      "model_module_version": "1.0.0",
      "model_name": "LayoutModel",
      "state": {}
     },
     "7d56bcb4b3f9456597c36a1b6d75c09f": {
      "model_module": "jupyter-threejs",
      "model_module_version": "0.4.0",
      "model_name": "AmbientLightModel",
      "state": {
       "_view_module": null,
       "_view_module_version": "",
       "intensity": 0.5,
       "type": "AmbientLight"
      }
     },
     "7e366662527d4c85bed775032c5836bd": {
      "model_module": "jupyter-threejs",
      "model_module_version": "0.4.0",
      "model_name": "AnimationActionModel",
      "state": {
       "_model_module": "jupyter-threejs",
       "_model_module_version": "0.4.0",
       "_model_name": "AnimationActionModel",
       "_view_module_version": "0.4.0",
       "clip": "IPY_MODEL_178b9b11bc384f05a93a936ed6b09886",
       "layout": "IPY_MODEL_693926a4dc5c4995bde2013b3398183d",
       "localRoot": "IPY_MODEL_40bc08d47f60411186632f40b42248b5",
       "mixer": "IPY_MODEL_beb875f49714431ca1d99e22d74a53c2",
       "repititions": "inf"
      }
     },
     "7f95e3b9fa9241199300388e28a2e749": {
      "model_module": "jupyter-threejs",
      "model_module_version": "0.4.0",
      "model_name": "OrbitControlsModel",
      "state": {
       "_view_module": null,
       "_view_module_version": "",
       "controlling": "IPY_MODEL_f9c4682a3f104f8da8791d52b4ba43b0",
       "maxAzimuthAngle": "inf",
       "maxDistance": "inf",
       "maxZoom": "inf",
       "minAzimuthAngle": "-inf"
      }
     },
     "81ad38301eff4ae499251bb76eda7db7": {
      "buffers": [
       {
        "data": "AAAAAAIAAAAFAAAA",
        "encoding": "base64",
        "path": [
         "times",
         "buffer"
        ]
       },
       {
        "data": "f2o8vgAAwD6/Dpw9FK5nP39qPL4AAMA+vw6cPRSuZz/FIDC9d74fvmwm37sIrHw/",
        "encoding": "base64",
        "path": [
         "values",
         "buffer"
        ]
       }
      ],
      "model_module": "jupyter-threejs",
      "model_module_version": "0.4.0",
      "model_name": "QuaternionKeyframeTrackModel",
      "state": {
       "_view_module": null,
       "_view_module_version": "",
       "name": ".quaternion",
       "times": {
        "buffer": {},
        "dtype": "int32",
        "shape": [
         3
        ]
       },
       "values": {
        "buffer": {},
        "dtype": "float32",
        "shape": [
         12
        ]
       }
      }
     },
     "85871ed2b4304b468017a36c0caa1654": {
      "buffers": [
       {
        "data": "AAAAAAAAwD8AAEBA",
        "encoding": "base64",
        "path": [
         "times",
         "buffer"
        ]
       },
       {
        "data": "AAAAAAAAIEAAAAAA",
        "encoding": "base64",
        "path": [
         "values",
         "buffer"
        ]
       }
      ],
      "model_module": "jupyter-threejs",
      "model_module_version": "0.4.0",
      "model_name": "NumberKeyframeTrackModel",
      "state": {
       "_view_module": null,
       "_view_module_version": "",
       "name": ".morphTargetInfluences[0]",
       "times": {
        "buffer": {},
        "dtype": "float32",
        "shape": [
         3
        ]
       },
       "values": {
        "buffer": {},
        "dtype": "float32",
        "shape": [
         3
        ]
       }
      }
     },
     "85ad1b701cc24caeacb68335a58cd2bc": {
      "model_module": "jupyter-threejs",
      "model_module_version": "0.4.0",
      "model_name": "SkeletonHelperModel",
      "state": {
       "_view_module": null,
       "_view_module_version": "",
       "root": "IPY_MODEL_7d4b7c8ad9cd454499e2b4e6f814c316",
       "type": "LineSegments"
      }
     },
     "879eb5734d2449879b914dd56facfed0": {
      "model_module": "jupyter-threejs",
      "model_module_version": "0.4.0",
      "model_name": "BoneModel",
      "state": {
       "_view_module": null,
       "_view_module_version": "",
       "children": [
        "IPY_MODEL_6a5ca85a20624e7fb0ab33c17207bccc"
       ],
       "position": [
        0,
        25,
        0
       ],
       "type": "Bone"
      }
     },
     "88fded967d154b94a5dc53d2691b1614": {
      "model_module": "@jupyter-widgets/base",
      "model_module_version": "1.0.0",
      "model_name": "LayoutModel",
      "state": {}
     },
     "940459e3-ab89-4372-b343-1451541aeb6c": {
      "model_module": "jupyter-threejs",
      "model_module_version": "0.4.0",
      "model_name": "DirectionalLightShadowModel",
      "state": {
       "camera": "IPY_MODEL_4c786986-1d83-4b71-9663-198dca377027"
      }
     },
     "9667124ba7234e2ea16f67a72e850438": {
      "model_module": "jupyter-threejs",
      "model_module_version": "0.4.0",
      "model_name": "WebGLShadowMapModel",
      "state": {
       "_view_module": null,
       "_view_module_version": ""
      }
     },
     "96d31bd0f71b474b9950367ad61d4a9d": {
      "model_module": "jupyter-threejs",
      "model_module_version": "0.4.0",
      "model_name": "PerspectiveCameraModel",
      "state": {
       "_view_module": null,
       "_view_module_version": "",
       "aspect": 1.5,
       "position": [
        10,
        6,
        10
       ],
       "projectionMatrix": [
        1.4296712803397058,
        0,
        0,
        0,
        0,
        2.1445069205095586,
        0,
        0,
        0,
        0,
        -1.00010000500025,
        -1,
        0,
        0,
        -0.200010000500025,
        0
       ],
       "type": "PerspectiveCamera"
      }
     },
     "996f8357-ecae-4c17-b429-27b1ef19b665": {
      "buffers": [
       {
        "data": "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",
        "encoding": "base64",
        "path": [
         "array",
         "buffer"
        ]
       }
      ],
      "model_module": "jupyter-threejs",
      "model_module_version": "0.4.0",
      "model_name": "BufferAttributeModel",
      "state": {
       "array": {
        "buffer": {},
        "dtype": "float32",
        "shape": [
         561,
         2
        ]
       },
       "normalized": false,
       "version": 0
      }
     },
     "9b221fa874364a28b5dd6d8a99894596": {
      "model_module": "jupyter-threejs",
      "model_module_version": "0.4.0",
      "model_name": "AmbientLightModel",
      "state": {
       "_view_module": null,
       "_view_module_version": "",
       "type": "AmbientLight"
      }
     },
     "a127865d807f449aa2f54cdb2cd80b5b": {
      "buffers": [
       {
        "data": "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",
        "encoding": "base64",
        "path": [
         "array",
         "buffer"
        ]
       }
      ],
      "model_module": "jupyter-threejs",
      "model_module_version": "0.4.0",
      "model_name": "BufferAttributeModel",
      "state": {
       "_view_module": null,
       "_view_module_version": "",
       "array": {
        "buffer": {},
        "dtype": "float32",
        "shape": [
         561,
         3
        ]
       },
       "version": 2
      }
     },
     "a35f1d6394814350a868e004fa1d49be": {
      "model_module": "jupyter-threejs",
      "model_module_version": "0.4.0",
      "model_name": "RendererModel",
      "state": {
       "_height": 400,
       "_model_module_version": "0.4.0",
       "_view_module_version": "0.4.0",
       "_width": 600,
       "camera": "IPY_MODEL_b59508c051144c62afe9a7900d564150",
       "controls": [
        "IPY_MODEL_f286fc575db846b0b3f72a03b0816c7a"
       ],
       "layout": "IPY_MODEL_377cf03634924f13847c7c218298b7c9",
       "scene": "IPY_MODEL_ee84c55d35264bb19a9075e08343c745",
       "shadowMap": "IPY_MODEL_2ef858e830df4234bcd1b05305e8eaf9"
      }
     },
     "a7fa5488efef44cc86593927208bc6f8": {
      "model_module": "jupyter-threejs",
      "model_module_version": "0.4.0",
      "model_name": "AnimationActionModel",
      "state": {
       "_model_module": "jupyter-threejs",
       "_model_module_version": "0.4.0",
       "_model_name": "AnimationActionModel",
       "_view_module_version": "0.4.0",
       "clip": "IPY_MODEL_46dc4bc928c140c9b2157106d045b539",
       "layout": "IPY_MODEL_3c92703508034441bf28382412ac2fe5",
       "localRoot": "IPY_MODEL_cf7eef49fa254c968cc35664bb385f72",
       "mixer": "IPY_MODEL_db86f27c27ec4c8e8d3e85c16193e5fb",
       "repititions": "inf"
      }
     },
     "aa8292a661004eb0aa5ab463dded6a62": {
      "model_module": "@jupyter-widgets/base",
      "model_module_version": "1.0.0",
      "model_name": "LayoutModel",
      "state": {}
     },
     "ac8f136963914107b74da40a41ddd5a3": {
      "model_module": "jupyter-threejs",
      "model_module_version": "0.4.0",
      "model_name": "BufferGeometryModel",
      "state": {
       "_ref_geometry": "IPY_MODEL_f9c06b6ee4594ff4ba394822605ce1f1",
       "_view_module": null,
       "_view_module_version": "",
       "attributes": {
        "normal": "IPY_MODEL_46d49ebf-edb1-4066-95a6-3b798f34dc82",
        "position": "IPY_MODEL_30fd684c-33b5-42bb-8fb0-b2735580d4ca",
        "uv": "IPY_MODEL_996f8357-ecae-4c17-b429-27b1ef19b665"
       },
       "morphAttributes": {
        "position": [
         "IPY_MODEL_a127865d807f449aa2f54cdb2cd80b5b"
        ]
       },
       "type": "BufferGeometry"
      }
     },
     "b035c6b558db4d6c8f1d1d5d5ec3de97": {
      "model_module": "jupyter-threejs",
      "model_module_version": "0.4.0",
      "model_name": "SkeletonModel",
      "state": {
       "_view_module": null,
       "_view_module_version": "",
       "bones": [
        "IPY_MODEL_765ce8e93d564b0d984bf95de376ed29",
        "IPY_MODEL_879eb5734d2449879b914dd56facfed0",
        "IPY_MODEL_6a5ca85a20624e7fb0ab33c17207bccc"
       ]
      }
     },
     "b59508c051144c62afe9a7900d564150": {
      "model_module": "jupyter-threejs",
      "model_module_version": "0.4.0",
      "model_name": "PerspectiveCameraModel",
      "state": {
       "_view_module": null,
       "_view_module_version": "",
       "aspect": 1.5,
       "position": [
        10,
        6,
        10
       ],
       "projectionMatrix": [
        1.4296712803397058,
        0,
        0,
        0,
        0,
        2.1445069205095586,
        0,
        0,
        0,
        0,
        -1.00010000500025,
        -1,
        0,
        0,
        -0.200010000500025,
        0
       ],
       "type": "PerspectiveCamera"
      }
     },
     "b62c30dabe05453c80996b80fd4f1aa4": {
      "model_module": "jupyter-threejs",
      "model_module_version": "0.4.0",
      "model_name": "AnimationMixerModel",
      "state": {
       "_view_module": null,
       "_view_module_version": "",
       "rootObject": "IPY_MODEL_7d4b7c8ad9cd454499e2b4e6f814c316"
      }
     },
     "bb383be0d09e42be9e0a9c1d13dcde3d": {
      "model_module": "jupyter-threejs",
      "model_module_version": "0.4.0",
      "model_name": "RendererModel",
      "state": {
       "_height": 400,
       "_model_module_version": "0.4.0",
       "_view_module_version": "0.4.0",
       "_width": 600,
       "camera": "IPY_MODEL_cf16a07a48474bdbb5d94e346d149062",
       "controls": [
        "IPY_MODEL_4acda7189a3a4f6282b8d352cc72b5c8"
       ],
       "layout": "IPY_MODEL_f887a2c4ed9945cab5d196b9838d8b93",
       "scene": "IPY_MODEL_7586b9bde0714d409c8736821df5aff3",
       "shadowMap": "IPY_MODEL_6744d9394cfa4b79bcd76b176a91365d"
      }
     },
     "beb875f49714431ca1d99e22d74a53c2": {
      "model_module": "jupyter-threejs",
      "model_module_version": "0.4.0",
      "model_name": "AnimationMixerModel",
      "state": {
       "_view_module": null,
       "_view_module_version": "",
       "rootObject": "IPY_MODEL_40bc08d47f60411186632f40b42248b5"
      }
     },
     "bfb4e453ce1844e18319bf97b1fc36c9": {
      "buffers": [
       {
        "data": "AAAAAAAAAD8AAMA/AAAAQA==",
        "encoding": "base64",
        "path": [
         "times",
         "buffer"
        ]
       },
       {
        "data": "AAAAAJqZmT6amZm+AAAAAA==",
        "encoding": "base64",
        "path": [
         "values",
         "buffer"
        ]
       }
      ],
      "model_module": "jupyter-threejs",
      "model_module_version": "0.4.0",
      "model_name": "NumberKeyframeTrackModel",
      "state": {
       "_view_module": null,
       "_view_module_version": "",
       "name": ".bones[1].rotation[z]",
       "times": {
        "buffer": {},
        "dtype": "float32",
        "shape": [
         4
        ]
       },
       "values": {
        "buffer": {},
        "dtype": "float32",
        "shape": [
         4
        ]
       }
      }
     },
     "c041c44e665947fa9ed8a427a5a5abb8": {
      "model_module": "jupyter-threejs",
      "model_module_version": "0.4.0",
      "model_name": "ParametricGeometryModel",
      "state": {
       "_view_module": null,
       "_view_module_version": "",
       "func": "\nfunction f(origu,origv) {\n    // scale u and v to the ranges I want: [0, 2*pi]\n    var u = 2*Math.PI*origu;\n    var v = 2*Math.PI*origv;\n    \n    var x = Math.sin(u);\n    var y = Math.cos(v);\n    var z = Math.cos(u+v);\n    \n    return new THREE.Vector3(x,y,z)\n}\n",
       "slices": 16,
       "stacks": 16,
       "type": "ParametricGeometry"
      }
     },
     "c120390348ba4b319f14b132152ea0fa": {
      "buffers": [
       {
        "data": "AAAAAAAAAD8AAMA/AAAAQA==",
        "encoding": "base64",
        "path": [
         "times",
         "buffer"
        ]
       },
       {
        "data": "AAAAAJqZmb6amZk+AAAAAA==",
        "encoding": "base64",
        "path": [
         "values",
         "buffer"
        ]
       }
      ],
      "model_module": "jupyter-threejs",
      "model_module_version": "0.4.0",
      "model_name": "NumberKeyframeTrackModel",
      "state": {
       "_view_module": null,
       "_view_module_version": "",
       "name": ".bones[2].rotation[z]",
       "times": {
        "buffer": {},
        "dtype": "float32",
        "shape": [
         4
        ]
       },
       "values": {
        "buffer": {},
        "dtype": "float32",
        "shape": [
         4
        ]
       }
      }
     },
     "c197a398de0f42d7a3d77c6a3e5014e0": {
      "model_module": "jupyter-threejs",
      "model_module_version": "0.4.0",
      "model_name": "AnimationActionModel",
      "state": {
       "_model_module": "jupyter-threejs",
       "_model_module_version": "0.4.0",
       "_model_name": "AnimationActionModel",
       "_view_module_version": "0.4.0",
       "clip": "IPY_MODEL_e14ce990009b4701ad95869182426d70",
       "layout": "IPY_MODEL_aa8292a661004eb0aa5ab463dded6a62",
       "localRoot": "IPY_MODEL_7d4b7c8ad9cd454499e2b4e6f814c316",
       "mixer": "IPY_MODEL_b62c30dabe05453c80996b80fd4f1aa4",
       "repititions": "inf"
      }
     },
     "c34d72a5bef2409d84d8ac4b4edfbbff": {
      "model_module": "jupyter-threejs",
      "model_module_version": "0.4.0",
      "model_name": "WebGLShadowMapModel",
      "state": {
       "_view_module": null,
       "_view_module_version": ""
      }
     },
     "cf16a07a48474bdbb5d94e346d149062": {
      "model_module": "jupyter-threejs",
      "model_module_version": "0.4.0",
      "model_name": "PerspectiveCameraModel",
      "state": {
       "_view_module": null,
       "_view_module_version": "",
       "aspect": 1.5,
       "position": [
        40,
        24,
        40
       ],
       "projectionMatrix": [
        1.4296712803397058,
        0,
        0,
        0,
        0,
        2.1445069205095586,
        0,
        0,
        0,
        0,
        -1.00010000500025,
        -1,
        0,
        0,
        -0.200010000500025,
        0
       ],
       "type": "PerspectiveCamera"
      }
     },
     "cf7eef49fa254c968cc35664bb385f72": {
      "model_module": "jupyter-threejs",
      "model_module_version": "0.4.0",
      "model_name": "MeshModel",
      "state": {
       "_view_module": null,
       "_view_module_version": "",
       "geometry": "IPY_MODEL_ac8f136963914107b74da40a41ddd5a3",
       "material": "IPY_MODEL_f777551184ab43869680f3210b61ccee",
       "type": "Mesh"
      }
     },
     "d0c51440612745b2a66593eac869058b": {
      "model_module": "jupyter-threejs",
      "model_module_version": "0.4.0",
      "model_name": "AmbientLightModel",
      "state": {
       "_view_module": null,
       "_view_module_version": "",
       "intensity": 0.5,
       "type": "AmbientLight"
      }
     },
     "d0cfab19b453486986b8a4f7d00e201d": {
      "model_module": "jupyter-threejs",
      "model_module_version": "0.4.0",
      "model_name": "DirectionalLightModel",
      "state": {
       "_view_module": null,
       "_view_module_version": "",
       "matrixWorldNeedsUpdate": true,
       "position": [
        0,
        10,
        10
       ],
       "shadow": "IPY_MODEL_d20b8a95-522b-4b1a-9384-4f29beb18664",
       "target": "IPY_MODEL_50152692-311a-48a1-ba3d-a87b797d2d2a",
       "type": "DirectionalLight"
      }
     },
     "d107df5fdf58423194c0fcec9bc916ab": {
      "model_module": "jupyter-threejs",
      "model_module_version": "0.4.0",
      "model_name": "AnimationClipModel",
      "state": {
       "_view_module": null,
       "_view_module_version": "",
       "duration": 5,
       "tracks": [
        "IPY_MODEL_6c31ee21ad86476bb751c99004ebce15",
        "IPY_MODEL_81ad38301eff4ae499251bb76eda7db7"
       ]
      }
     },
     "d1543a195888432c96a469ac5411437f": {
      "buffers": [
       {
        "data": "AAAAAAAAAD8AAMA/AAAAQA==",
        "encoding": "base64",
        "path": [
         "times",
         "buffer"
        ]
       },
       {
        "data": "AAAAADMzMz8zMzO/AAAAAA==",
        "encoding": "base64",
        "path": [
         "values",
         "buffer"
        ]
       }
      ],
      "model_module": "jupyter-threejs",
      "model_module_version": "0.4.0",
      "model_name": "NumberKeyframeTrackModel",
      "state": {
       "_view_module": null,
       "_view_module_version": "",
       "name": ".bones[2].rotation[y]",
       "times": {
        "buffer": {},
        "dtype": "float32",
        "shape": [
         4
        ]
       },
       "values": {
        "buffer": {},
        "dtype": "float32",
        "shape": [
         4
        ]
       }
      }
     },
     "d20b8a95-522b-4b1a-9384-4f29beb18664": {
      "model_module": "jupyter-threejs",
      "model_module_version": "0.4.0",
      "model_name": "DirectionalLightShadowModel",
      "state": {
       "camera": "IPY_MODEL_058e735c-2504-4214-aa55-1459cdf8f4d2"
      }
     },
     "d280682347b74486be3601ae937c1883": {
      "model_module": "jupyter-threejs",
      "model_module_version": "0.4.0",
      "model_name": "AnimationMixerModel",
      "state": {
       "_view_module": null,
       "_view_module_version": "",
       "rootObject": "IPY_MODEL_96d31bd0f71b474b9950367ad61d4a9d"
      }
     },
     "d71a1a561a4f449c9949369d77bad859": {
      "model_module": "jupyter-threejs",
      "model_module_version": "0.4.0",
      "model_name": "AnimationActionModel",
      "state": {
       "_model_module": "jupyter-threejs",
       "_model_module_version": "0.4.0",
       "_model_name": "AnimationActionModel",
       "_view_module_version": "0.4.0",
       "clip": "IPY_MODEL_45bac4cd84f243489f3fce05c49fd8eb",
       "layout": "IPY_MODEL_41045c4aa130473191016ccbf764a051",
       "localRoot": "IPY_MODEL_41ca13be3d034bb78c5315b6cc84fadd",
       "mixer": "IPY_MODEL_23bce2b9a9824dae8391240e9fbd185a",
       "repititions": "inf"
      }
     },
     "db86f27c27ec4c8e8d3e85c16193e5fb": {
      "model_module": "jupyter-threejs",
      "model_module_version": "0.4.0",
      "model_name": "AnimationMixerModel",
      "state": {
       "_view_module": null,
       "_view_module_version": "",
       "rootObject": "IPY_MODEL_cf7eef49fa254c968cc35664bb385f72"
      }
     },
     "e14ce990009b4701ad95869182426d70": {
      "model_module": "jupyter-threejs",
      "model_module_version": "0.4.0",
      "model_name": "AnimationClipModel",
      "state": {
       "_view_module": null,
       "_view_module_version": "",
       "duration": 2,
       "tracks": [
        "IPY_MODEL_ffe103fe39344bb4bc4b4c7cf5ed0d90",
        "IPY_MODEL_d1543a195888432c96a469ac5411437f"
       ]
      }
     },
     "e78c9e4fb3244ba4aa981bf687466cf3": {
      "model_module": "jupyter-threejs",
      "model_module_version": "0.4.0",
      "model_name": "AnimationActionModel",
      "state": {
       "_model_module": "jupyter-threejs",
       "_model_module_version": "0.4.0",
       "_model_name": "AnimationActionModel",
       "_view_module_version": "0.4.0",
       "clip": "IPY_MODEL_56457e19a7684decb50af664d17dc999",
       "layout": "IPY_MODEL_f26695e359c7477699625b21cf598f30",
       "localRoot": "IPY_MODEL_7d4b7c8ad9cd454499e2b4e6f814c316",
       "mixer": "IPY_MODEL_5ca0b95203774d8ca9f3febbda13f4d7",
       "repititions": "inf"
      }
     },
     "ea5350a92d634e5f9be6939b0d9b3d16": {
      "model_module": "jupyter-threejs",
      "model_module_version": "0.4.0",
      "model_name": "DirectionalLightModel",
      "state": {
       "_view_module": null,
       "_view_module_version": "",
       "intensity": 0.6,
       "matrixWorldNeedsUpdate": true,
       "position": [
        3,
        5,
        1
       ],
       "shadow": "IPY_MODEL_54924996-dc91-485a-bfab-d74b7a231bc4",
       "target": "IPY_MODEL_448c47c1-4b22-444a-956f-3d21c3cfd450",
       "type": "DirectionalLight"
      }
     },
     "ee84c55d35264bb19a9075e08343c745": {
      "model_module": "jupyter-threejs",
      "model_module_version": "0.4.0",
      "model_name": "SceneModel",
      "state": {
       "_view_module": null,
       "_view_module_version": "",
       "children": [
        "IPY_MODEL_41ca13be3d034bb78c5315b6cc84fadd",
        "IPY_MODEL_b59508c051144c62afe9a7900d564150",
        "IPY_MODEL_ea5350a92d634e5f9be6939b0d9b3d16",
        "IPY_MODEL_275c26b9f02d424c97e7d2bcfd241c81"
       ],
       "type": "Scene"
      }
     },
     "ef32ce4223e44d84b93e045f75be7483": {
      "model_module": "jupyter-threejs",
      "model_module_version": "0.4.0",
      "model_name": "SceneModel",
      "state": {
       "_view_module": null,
       "_view_module_version": "",
       "children": [
        "IPY_MODEL_40bc08d47f60411186632f40b42248b5",
        "IPY_MODEL_6379f3052dcd4a5d85bc5fd1d4c83e4a",
        "IPY_MODEL_96d31bd0f71b474b9950367ad61d4a9d",
        "IPY_MODEL_d0cfab19b453486986b8a4f7d00e201d",
        "IPY_MODEL_9b221fa874364a28b5dd6d8a99894596"
       ],
       "type": "Scene"
      }
     },
     "f26695e359c7477699625b21cf598f30": {
      "model_module": "@jupyter-widgets/base",
      "model_module_version": "1.0.0",
      "model_name": "LayoutModel",
      "state": {}
     },
     "f286fc575db846b0b3f72a03b0816c7a": {
      "model_module": "jupyter-threejs",
      "model_module_version": "0.4.0",
      "model_name": "OrbitControlsModel",
      "state": {
       "_view_module": null,
       "_view_module_version": "",
       "controlling": "IPY_MODEL_b59508c051144c62afe9a7900d564150",
       "maxAzimuthAngle": "inf",
       "maxDistance": "inf",
       "maxZoom": "inf",
       "minAzimuthAngle": "-inf"
      }
     },
     "f777551184ab43869680f3210b61ccee": {
      "model_module": "jupyter-threejs",
      "model_module_version": "0.4.0",
      "model_name": "MeshPhongMaterialModel",
      "state": {
       "_view_module": null,
       "_view_module_version": "",
       "color": "#ff3333",
       "morphTargets": true,
       "shininess": 150,
       "type": "MeshPhongMaterial"
      }
     },
     "f887a2c4ed9945cab5d196b9838d8b93": {
      "model_module": "@jupyter-widgets/base",
      "model_module_version": "1.0.0",
      "model_name": "LayoutModel",
      "state": {}
     },
     "f9c06b6ee4594ff4ba394822605ce1f1": {
      "model_module": "jupyter-threejs",
      "model_module_version": "0.4.0",
      "model_name": "SphereBufferGeometryModel",
      "state": {
       "_view_module": null,
       "_view_module_version": "",
       "heightSegments": 16,
       "radius": 1,
       "type": "SphereBufferGeometry",
       "widthSegments": 32
      }
     },
     "f9c4682a3f104f8da8791d52b4ba43b0": {
      "model_module": "jupyter-threejs",
      "model_module_version": "0.4.0",
      "model_name": "PerspectiveCameraModel",
      "state": {
       "_view_module": null,
       "_view_module_version": "",
       "aspect": 1.5,
       "position": [
        5,
        3,
        5
       ],
       "projectionMatrix": [
        1.4296712803397058,
        0,
        0,
        0,
        0,
        2.1445069205095586,
        0,
        0,
        0,
        0,
        -1.00010000500025,
        -1,
        0,
        0,
        -0.200010000500025,
        0
       ],
       "type": "PerspectiveCamera"
      }
     },
     "f9f842841acc413287cb13f3592b5445": {
      "model_module": "jupyter-threejs",
      "model_module_version": "0.4.0",
      "model_name": "DirectionalLightModel",
      "state": {
       "_view_module": null,
       "_view_module_version": "",
       "intensity": 0.6,
       "matrixWorldNeedsUpdate": true,
       "position": [
        3,
        5,
        1
       ],
       "shadow": "IPY_MODEL_589f9d46-960f-42c9-8991-c5c341dea1a0",
       "target": "IPY_MODEL_68a30b6a-5a07-4fa5-84b2-57e47481f497",
       "type": "DirectionalLight"
      }
     },
     "ffe103fe39344bb4bc4b4c7cf5ed0d90": {
      "buffers": [
       {
        "data": "AAAAAAAAAD8AAMA/AAAAQA==",
        "encoding": "base64",
        "path": [
         "times",
         "buffer"
        ]
       },
       {
        "data": "AAAAADMzMz8zMzO/AAAAAA==",
        "encoding": "base64",
        "path": [
         "values",
         "buffer"
        ]
       }
      ],
      "model_module": "jupyter-threejs",
      "model_module_version": "0.4.0",
      "model_name": "NumberKeyframeTrackModel",
      "state": {
       "_view_module": null,
       "_view_module_version": "",
       "name": ".bones[1].rotation[y]",
       "times": {
        "buffer": {},
        "dtype": "float32",
        "shape": [
         4
        ]
       },
       "values": {
        "buffer": {},
        "dtype": "float32",
        "shape": [
         4
        ]
       }
      }
     }
    },
    "version_major": 2,
    "version_minor": 0
   }
  }
 },
 "nbformat": 4,
 "nbformat_minor": 2
}
