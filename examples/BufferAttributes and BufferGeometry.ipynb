{
 "cells": [
  {
   "cell_type": "code",
   "execution_count": 1,
   "metadata": {
    "collapsed": true
   },
   "outputs": [],
   "source": [
    "#include <xthreejs/xthreejs.hpp>"
   ]
  },
  {
   "cell_type": "markdown",
   "metadata": {},
   "source": [
    "## BufferGeometry"
   ]
  },
  {
   "cell_type": "code",
   "execution_count": 2,
   "metadata": {
    "collapsed": true
   },
   "outputs": [],
   "source": [
    "// Simple square\n",
    "#include \"xtensor/xtensor.hpp\"\n",
    "#include \"xtensor/xarray.hpp\"\n",
    "\n",
    "float scale_factor = 1;\n",
    "\n",
    "xt::xarray<float> array = {\n",
    "        {-1.0, -1.0,  0.0},\n",
    "        { 1.0, -1.0,  0.0},\n",
    "        { 1.0,  1.0,  0.0},\n",
    "        \n",
    "        { 1.0,  1.0,  0.0},\n",
    "        {-1.0,  1.0,  0.0},\n",
    "        {-1.0, -1.0,  0.0}\n",
    "    };"
   ]
  },
  {
   "cell_type": "code",
   "execution_count": 3,
   "metadata": {
    "collapsed": true
   },
   "outputs": [],
   "source": [
    "auto vertices = xthree::buffer_attribute_generator<float>()\n",
    "    .array(array)\n",
    "    .normalized(false)\n",
    "    .finalize();"
   ]
  },
  {
   "cell_type": "code",
   "execution_count": 4,
   "metadata": {
    "collapsed": true
   },
   "outputs": [],
   "source": [
    "auto geometry = xthree::buffer_geometry_generator()\n",
    "    .attributes({{\"position\", vertices}})\n",
    "    .finalize();"
   ]
  },
  {
   "cell_type": "code",
   "execution_count": 5,
   "metadata": {},
   "outputs": [
    {
     "data": {
      "application/vnd.jupyter.widget-view+json": {
       "model_id": "b96a02bed9e74055abaafecf6247e5c5",
       "version_major": 2,
       "version_minor": 0
      },
      "text/plain": [
       "A Jupyter widget"
      ]
     },
     "execution_count": 5,
     "metadata": {},
     "output_type": "execute_result"
    }
   ],
   "source": [
    "geometry"
   ]
  },
  {
   "cell_type": "code",
   "execution_count": 6,
   "metadata": {
    "collapsed": true
   },
   "outputs": [],
   "source": [
    "vertices.array = scale_factor * xt::xtensor<float, 2>{\n",
    "    {-1.0, -1.0,  0.0},\n",
    "    { 2.0, -2.0,  1.0},\n",
    "    { 1.0,  1.0,  0.0},\n",
    "        \n",
    "    { 1.0,  1.0,  0.0},\n",
    "    {-1.0,  1.0,  0.0},\n",
    "    {-1.0, -1.0,  0.0},\n",
    "};"
   ]
  },
  {
   "cell_type": "code",
   "execution_count": 7,
   "metadata": {
    "collapsed": true
   },
   "outputs": [],
   "source": [
    "vertices.array = scale_factor * xt::xtensor<float, 2>{\n",
    "    {-1.0, -1.0,  0.0},\n",
    "    { 1.0, -1.0,  0.0},\n",
    "    { 1.0,  1.0,  0.0},\n",
    "        \n",
    "    { 1.0,  1.0,  0.0},\n",
    "    {-1.0,  1.0,  0.0},\n",
    "    {-1.0, -1.0,  0.0},\n",
    "};"
   ]
  },
  {
   "cell_type": "code",
   "execution_count": 10,
   "metadata": {},
   "outputs": [
    {
     "name": "stdout",
     "output_type": "stream",
     "text": [
      "BufferGeometry(attributes={'position': BufferAttribute(array=array([[-20., -20.,   0.],\n",
      "       [ 20., -20.,   0.],\n",
      "       [ 20.,  20.,   0.],\n",
      "       [ 20.,  20.,   0.],\n",
      "       [-20.,  20.,   0.],\n",
      "       [-20., -20.,   0.]], dtype=float32), normalized=False, version=4)}, type='BufferGeometry')\n"
     ]
    }
   ],
   "source": [
    "print(repr(geometry))"
   ]
  },
  {
   "cell_type": "markdown",
   "metadata": {},
   "source": [
    "### Index attribute"
   ]
  },
  {
   "cell_type": "code",
   "execution_count": 8,
   "metadata": {
    "collapsed": true
   },
   "outputs": [],
   "source": [
    "// Simple square with unique vertices\n",
    "auto vertices1 = xthree::buffer_attribute_generator<float>()\n",
    "    .array(xt::xarray<float>{\n",
    "        {-1.0, -1.0,  0.0},\n",
    "        { 1.0, -1.0,  0.0},\n",
    "        { 1.0,  1.0,  0.0},\n",
    "        {-1.0,  1.0,  0.0}\n",
    "        })\n",
    "    .normalized(false)\n",
    "    .finalize();\n"
   ]
  },
  {
   "cell_type": "code",
   "execution_count": 9,
   "metadata": {
    "collapsed": true
   },
   "outputs": [],
   "source": [
    "// Index buffer\n",
    "auto indexb = xthree::buffer_attribute_generator<unsigned short>()\n",
    "    .array(xt::xarray<unsigned short>{\n",
    "        0, 1, 2,\n",
    "        2, 3, 0\n",
    "    })\n",
    "    .normalized(false)\n",
    "    .finalize();"
   ]
  },
  {
   "cell_type": "code",
   "execution_count": 10,
   "metadata": {
    "collapsed": true
   },
   "outputs": [],
   "source": [
    "auto geometry1 = xthree::buffer_geometry_generator()\n",
    "    .attributes({{\"position\", vertices1},\n",
    "                 {\"index\", indexb}\n",
    "                })\n",
    "    .finalize();"
   ]
  },
  {
   "cell_type": "code",
   "execution_count": 11,
   "metadata": {},
   "outputs": [
    {
     "data": {
      "application/vnd.jupyter.widget-view+json": {
       "model_id": "b38bc2e9c63a42ed92aa66d6ef8a41c8",
       "version_major": 2,
       "version_minor": 0
      },
      "text/plain": [
       "A Jupyter widget"
      ]
     },
     "execution_count": 11,
     "metadata": {},
     "output_type": "execute_result"
    }
   ],
   "source": [
    "geometry1"
   ]
  },
  {
   "cell_type": "markdown",
   "metadata": {},
   "source": [
    "### PlainBufferGeometry.from_geometry"
   ]
  },
  {
   "cell_type": "code",
   "execution_count": 12,
   "metadata": {
    "collapsed": true
   },
   "outputs": [],
   "source": [
    "auto sphere = xthree::sphere_buffer_geometry_generator()\n",
    "    .radius(10)\n",
    "    .finalize();"
   ]
  },
  {
   "cell_type": "code",
   "execution_count": 4,
   "metadata": {},
   "outputs": [
    {
     "name": "stderr",
     "output_type": "stream",
     "text": [
      "\u001b[1minput_line_12:2:8: \u001b[0m\u001b[0;1;31merror: \u001b[0m\u001b[1muse of undeclared identifier 'repr'\u001b[0m\n",
      " print(repr(sphere))\n",
      "\u001b[0;1;32m       ^\n",
      "\u001b[0m"
     ]
    },
    {
     "ename": "Interpreter Error",
     "evalue": "",
     "output_type": "error",
     "traceback": [
      "Interpreter Error: "
     ]
    }
   ],
   "source": [
    "print(repr(sphere))"
   ]
  },
  {
   "cell_type": "code",
   "execution_count": 13,
   "metadata": {
    "collapsed": true
   },
   "outputs": [],
   "source": [
    "auto plain = xthree::buffer_geometry_generator()\n",
    "    ._ref_geometry(sphere)\n",
    "    .finalize();"
   ]
  },
  {
   "cell_type": "code",
   "execution_count": 14,
   "metadata": {},
   "outputs": [
    {
     "data": {
      "application/vnd.jupyter.widget-view+json": {
       "model_id": "88a42769d81f4900a03e83a0e955f75b",
       "version_major": 2,
       "version_minor": 0
      },
      "text/plain": [
       "A Jupyter widget"
      ]
     },
     "execution_count": 14,
     "metadata": {},
     "output_type": "execute_result"
    }
   ],
   "source": [
    "plain"
   ]
  },
  {
   "cell_type": "code",
   "execution_count": 15,
   "metadata": {
    "collapsed": true
   },
   "outputs": [],
   "source": [
    "// Now from a non-buffer geometry:\n",
    "auto box = xthree::buffer_geometry_generator()\n",
    "    ._ref_geometry(xthree::box_geometry())\n",
    "    .finalize();"
   ]
  },
  {
   "cell_type": "code",
   "execution_count": 16,
   "metadata": {},
   "outputs": [
    {
     "data": {
      "application/vnd.jupyter.widget-view+json": {
       "model_id": "579c62d5a7df4bc7ae0b8f8561f30923",
       "version_major": 2,
       "version_minor": 0
      },
      "text/plain": [
       "A Jupyter widget"
      ]
     },
     "execution_count": 16,
     "metadata": {},
     "output_type": "execute_result"
    }
   ],
   "source": [
    "box"
   ]
  },
  {
   "cell_type": "code",
   "execution_count": null,
   "metadata": {
    "collapsed": true
   },
   "outputs": [],
   "source": []
  }
 ],
 "metadata": {
  "kernelspec": {
   "display_name": "C++14",
   "language": "C++14",
   "name": "xeus-cling-cpp14"
  },
  "language_info": {
   "codemirror_mode": "text/x-c++src",
   "file_extension": ".cpp",
   "mimetype": "text/x-c++src",
   "name": "c++",
   "version": "14"
  }
 },
 "nbformat": 4,
 "nbformat_minor": 1
}
