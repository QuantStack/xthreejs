{
 "cells": [
  {
   "cell_type": "markdown",
   "metadata": {},
   "source": [
    "## BufferAttribute"
   ]
  },
  {
   "cell_type": "code",
   "execution_count": 1,
   "metadata": {},
   "outputs": [
    {
     "name": "stderr",
     "output_type": "stream",
     "text": [
      "\u001b[1minput_line_7:2:11: \u001b[0m\u001b[0;1;31merror: \u001b[0m\u001b[1muse of undeclared identifier 'xthree'\u001b[0m\n",
      " auto b = xthree::buffer_attribute_generator()\n",
      "\u001b[0;1;32m          ^\n",
      "\u001b[0m"
     ]
    },
    {
     "ename": "Interpreter Error",
     "evalue": "",
     "output_type": "error",
     "traceback": [
      "Interpreter Error: "
     ]
    }
   ],
   "source": [
    "auto b = xthree::buffer_attribute_generator()\n",
    "    .array({\n",
    "        {11, 12, 13},\n",
    "        {21, 22, 23},\n",
    "        {31, 32, 33},\n",
    "    })\n",
    "    .normalized(false)\n",
    "    .finalize();"
   ]
  },
  {
   "cell_type": "code",
   "execution_count": 3,
   "metadata": {},
   "outputs": [
    {
     "name": "stderr",
     "output_type": "stream",
     "text": [
      "\u001b[1minput_line_9:3:5: \u001b[0m\u001b[0;1;31merror: \u001b[0m\u001b[1mexpected variable name or 'this' in lambda capture list\u001b[0m\n",
      "    [11, 12, 13],\n",
      "\u001b[0;1;32m    ^\n",
      "\u001b[0m"
     ]
    },
    {
     "ename": "Interpreter Error",
     "evalue": "",
     "output_type": "error",
     "traceback": [
      "Interpreter Error: "
     ]
    }
   ],
   "source": [
    "b.array = [ \n",
    "    [11, 12, 13],\n",
    "    [21,  0, 23],\n",
    "    [31, 32, 33],\n",
    "]"
   ]
  },
  {
   "cell_type": "code",
   "execution_count": 4,
   "metadata": {},
   "outputs": [
    {
     "name": "stderr",
     "output_type": "stream",
     "text": [
      "\u001b[1minput_line_10:2:4: \u001b[0m\u001b[0;1;31merror: \u001b[0m\u001b[1minvalid preprocessing directive\u001b[0m\n",
      " # should be able to modify elements in the array directly \n",
      "\u001b[0;1;32m   ^\n",
      "\u001b[0m\u001b[1minput_line_10:3:3: \u001b[0m\u001b[0;1;31merror: \u001b[0m\u001b[1minvalid preprocessing directive\u001b[0m\n",
      "# but currently, change events are not fired when arrays are \n",
      "\u001b[0;1;32m  ^\n",
      "\u001b[0m\u001b[1minput_line_10:4:3: \u001b[0m\u001b[0;1;31merror: \u001b[0m\u001b[1minvalid preprocessing directive\u001b[0m\n",
      "# updated using element-wise assignment\n",
      "\u001b[0;1;32m  ^\n",
      "\u001b[0m\u001b[1minput_line_10:5:3: \u001b[0m\u001b[0;1;31merror: \u001b[0m\u001b[1minvalid preprocessing directive\u001b[0m\n",
      "# WON'T WORK\n",
      "\u001b[0;1;32m  ^\n",
      "\u001b[0m\u001b[1minput_line_10:5:6: \u001b[0m\u001b[0;1;35mwarning: \u001b[0m\u001b[1mmissing terminating ' character [-Winvalid-pp-token]\u001b[0m\n",
      "# WON'T WORK\n",
      "\u001b[0;1;32m     ^\n",
      "\u001b[0m\u001b[1minput_line_10:6:8: \u001b[0m\u001b[0;1;31merror: \u001b[0m\u001b[1mtype 'class array_property' does not provide a subscript operator\u001b[0m\n",
      "b.array[0, 1] = 0\n",
      "\u001b[0;1;32m~~~~~~~^~~~~\n",
      "\u001b[0m"
     ]
    },
    {
     "ename": "Interpreter Error",
     "evalue": "",
     "output_type": "error",
     "traceback": [
      "Interpreter Error: "
     ]
    }
   ],
   "source": [
    "# should be able to modify elements in the array directly \n",
    "# but currently, change events are not fired when arrays are \n",
    "# updated using element-wise assignment\n",
    "# WON'T WORK\n",
    "b.array[0, 1] = 0"
   ]
  },
  {
   "cell_type": "markdown",
   "metadata": {},
   "source": [
    "###### BufferGeometry"
   ]
  },
  {
   "cell_type": "code",
   "execution_count": null,
   "metadata": {},
   "outputs": [
    {
     "name": "stderr",
     "output_type": "stream",
     "text": [
      "In file included from input_line_7:2:\n",
      "In file included from /home/loic/miniconda3/envs/cling/include/xthreejs/xcore.hpp:6:\n",
      "In file included from /home/loic/miniconda3/envs/cling/include/xthreejs/geometries/../core/xbuffer_attribute_autogen.hpp:14:\n",
      "\u001b[1m/home/loic/miniconda3/envs/cling/include/xtensor/xadapt.hpp:219:16: \u001b[0m\u001b[0;1;31merror: \u001b[0m\u001b[1mcall to constructor of 'return_type' (aka 'xarray_adaptor<xbuffer_adaptor<float *, xt::no_ownership, std::allocator<float> >,\n",
      "      layout_type::dynamic, xt::layout_type>') is ambiguous\u001b[0m\n",
      "        return return_type(std::move(buf),\n",
      "\u001b[0;1;32m               ^           ~~~~~~~~~~~~~~~\n",
      "\u001b[0m\u001b[1m/home/loic/miniconda3/envs/cling/include/xthreejs/geometries/../core/xbuffer_attribute_autogen.hpp:88:24: \u001b[0m\u001b[0;1;30mnote: \u001b[0min instantiation of function template specialization 'xt::adapt<float *, xt::no_ownership, xt::layout_type,\n",
      "      std::vector<unsigned long, std::allocator<unsigned long> >, std::allocator<float>, 0>' requested here\u001b[0m\n",
      "        property = xt::adapt(//reinterpret_cast<float*>(buffer.data()),\n",
      "\u001b[0;1;32m                       ^\n",
      "\u001b[0m\u001b[1m/home/loic/miniconda3/envs/cling/include/xtensor/xarray.hpp:189:9: \u001b[0m\u001b[0;1;30mnote: \u001b[0mcandidate constructor [with D = xt::xbuffer_adaptor<float *, xt::no_ownership, std::allocator<float> >]\u001b[0m\n",
      "        xarray_adaptor(D&& data, const shape_type& shape, layout_type l = L);\n",
      "\u001b[0;1;32m        ^\n",
      "\u001b[0m\u001b[1m/home/loic/miniconda3/envs/cling/include/xtensor/xarray.hpp:192:9: \u001b[0m\u001b[0;1;30mnote: \u001b[0mcandidate constructor [with D = xt::xbuffer_adaptor<float *, xt::no_ownership, std::allocator<float> >]\u001b[0m\n",
      "        xarray_adaptor(D&& data, const shape_type& shape, const strides_type& strides);\n",
      "\u001b[0;1;32m        ^\n",
      "\u001b[0mIn file included from input_line_7:2:\n",
      "In file included from /home/loic/miniconda3/envs/cling/include/xthreejs/xcore.hpp:6:\n",
      "In file included from /home/loic/miniconda3/envs/cling/include/xthreejs/geometries/../core/xbuffer_attribute_autogen.hpp:13:\n",
      "In file included from /home/loic/miniconda3/envs/cling/include/xtensor/xtensor.hpp:19:\n",
      "In file included from /home/loic/miniconda3/envs/cling/include/xtensor/xcontainer.hpp:19:\n",
      "\u001b[1m/home/loic/miniconda3/envs/cling/include/xtl/xsequence.hpp:108:24: \u001b[0m\u001b[0;1;31merror: \u001b[0m\u001b[1mexcess elements in scalar initializer\u001b[0m\n",
      "                return R(std::begin(r), std::end(r));\n",
      "\u001b[0;1;32m                       ^              ~~~~~~~~~~~~~\n",
      "\u001b[0m\u001b[1m/home/loic/miniconda3/envs/cling/include/xtl/xsequence.hpp:151:36: \u001b[0m\u001b[0;1;30mnote: \u001b[0min instantiation of function template specialization 'xtl::detail::sequence_forwarder<xt::layout_type, std::vector<unsigned\n",
      "      long, std::allocator<unsigned long> >, void>::forward<std::vector<unsigned long, std::allocator<unsigned long> > &>'\n",
      "      requested here\u001b[0m\n",
      "        return forwarder::template forward<A>(s);\n",
      "\u001b[0;1;32m                                   ^\n",
      "\u001b[0m\u001b[1m/home/loic/miniconda3/envs/cling/include/xthreejs/geometries/../core/xbuffer_attribute_autogen.hpp:88:24: \u001b[0m\u001b[0;1;30mnote: \u001b[0min instantiation of function template specialization 'xt::adapt<float *, xt::no_ownership, xt::layout_type,\n",
      "      std::vector<unsigned long, std::allocator<unsigned long> >, std::allocator<float>, 0>' requested here\u001b[0m\n",
      "        property = xt::adapt(//reinterpret_cast<float*>(buffer.data()),\n",
      "\u001b[0;1;32m                       ^\n",
      "\u001b[0mIn file included from input_line_7:2:\n",
      "In file included from /home/loic/miniconda3/envs/cling/include/xthreejs/xcore.hpp:6:\n",
      "In file included from /home/loic/miniconda3/envs/cling/include/xthreejs/geometries/../core/xbuffer_attribute_autogen.hpp:13:\n",
      "In file included from /home/loic/miniconda3/envs/cling/include/xtensor/xtensor.hpp:19:\n",
      "In file included from /home/loic/miniconda3/envs/cling/include/xtensor/xcontainer.hpp:23:\n",
      "In file included from /home/loic/miniconda3/envs/cling/include/xtensor/xmath.hpp:22:\n",
      "In file included from /home/loic/miniconda3/envs/cling/include/xtensor/xaccumulator.hpp:18:\n",
      "\u001b[1m/home/loic/miniconda3/envs/cling/include/xtensor/xstrides.hpp:104:61: \u001b[0m\u001b[0;1;31merror: \u001b[0m\u001b[1mno type named 'value_type' in 'xt::layout_type'\u001b[0m\n",
      "        using size_type = std::decay_t<typename shape_type::value_type>;\n",
      "\u001b[0;1;32m                                       ~~~~~~~~~~~~~~~~~~~~~^~~~~~~~~~\n",
      "\u001b[0m\u001b[1m/home/loic/miniconda3/envs/cling/include/xtensor/xcontainer.hpp:471:52: \u001b[0m\u001b[0;1;30mnote: \u001b[0min instantiation of function template specialization 'xt::compute_size<xt::layout_type>' requested here\u001b[0m\n",
      "        return contiguous_layout ? data().size() : compute_size(shape());\n",
      "\u001b[0;1;32m                                                   ^\n",
      "\u001b[0m\u001b[1m/home/loic/miniconda3/envs/cling/include/xtensor/xtensor.hpp:336:30: \u001b[0m\u001b[0;1;30mnote: \u001b[0min instantiation of member function 'xt::xcontainer<xt::xarray_adaptor<xt::xbuffer_adaptor<float *, xt::no_ownership,\n",
      "      std::allocator<float> >, xt::layout_type::dynamic, xt::layout_type, xt::xtensor_expression_tag> >::size' requested here\u001b[0m\n",
      "        if (e.derived_cast().size() == 1)\n",
      "\u001b[0;1;32m                             ^\n",
      "\u001b[0m\u001b[1m/home/loic/miniconda3/envs/cling/include/xproperty/xobserved.hpp:211:20: \u001b[0m\u001b[0;1;30mnote: \u001b[0min instantiation of function template specialization 'xt::xtensor_container<xt::uvector<float, std::allocator<float> >, 2,\n",
      "      xt::layout_type::row_major, xt::xtensor_expression_tag>::xtensor_container<xt::xarray_adaptor<xt::xbuffer_adaptor<float\n",
      "      *, xt::no_ownership, std::allocator<float> >, xt::layout_type::dynamic, xt::layout_type, xt::xtensor_expression_tag> >'\n",
      "      requested here\u001b[0m\n",
      "        value_type value(std::forward<V>(v));\n",
      "\u001b[0;1;32m                   ^\n",
      "\u001b[0m\u001b[1m/home/loic/miniconda3/envs/cling/include/xthreejs/geometries/../core/xbuffer_attribute_autogen.hpp:34:9: \u001b[0m\u001b[0;1;30mnote: \u001b[0min instantiation of function template specialization 'xp::xproperty<xt::xtensor_container<xt::uvector<float,\n",
      "      std::allocator<float> >, 2, xt::layout_type::row_major, xt::xtensor_expression_tag>, xw::xmaterialize<xbuffer_attribute>,\n",
      "      xthree::xbuffer_attribute<xw::xmaterialize<xbuffer_attribute>\n",
      "      >::array_property>::operator=<xt::xarray_adaptor<xt::xbuffer_adaptor<float *, xt::no_ownership, std::allocator<float> >,\n",
      "      xt::layout_type::dynamic, xt::layout_type, xt::xtensor_expression_tag> >' requested here\u001b[0m\n",
      "        XPROPERTY(array_type, derived_type, array);\n",
      "\u001b[0;1;32m        ^\n",
      "\u001b[0m\u001b[1m/home/loic/miniconda3/envs/cling/include/xproperty/xproperty.hpp:162:98: \u001b[0m\u001b[0;1;30mnote: \u001b[0mexpanded from macro 'XPROPERTY'\u001b[0m\n",
      "    #define XPROPERTY(...) XPROPERTY_OVERLOAD(__VA_ARGS__, XPROPERTY_GENERAL, XPROPERTY_DEFAULT, XPROPERTY_NODEFAULT)(_...\n",
      "\u001b[0;1;32m                                                                                                 ^\n",
      "\u001b[0m\u001b[1m/home/loic/miniconda3/envs/cling/include/xthreejs/geometries/../core/xbuffer_attribute_autogen.hpp:88:18: \u001b[0m\u001b[0;1;30mnote: \u001b[0min instantiation of function template specialization 'xthree::xbuffer_attribute<xw::xmaterialize<xbuffer_attribute>\n",
      "      >::array_property::operator=<xt::xarray_adaptor<xt::xbuffer_adaptor<float *, xt::no_ownership, std::allocator<float> >,\n",
      "      xt::layout_type::dynamic, xt::layout_type, xt::xtensor_expression_tag> >' requested here\u001b[0m\n",
      "        property = xt::adapt(//reinterpret_cast<float*>(buffer.data()),\n",
      "\u001b[0;1;32m                 ^\n",
      "\u001b[0mIn file included from input_line_7:2:\n",
      "In file included from /home/loic/miniconda3/envs/cling/include/xthreejs/xcore.hpp:6:\n",
      "In file included from /home/loic/miniconda3/envs/cling/include/xthreejs/geometries/../core/xbuffer_attribute_autogen.hpp:13:\n",
      "In file included from /home/loic/miniconda3/envs/cling/include/xtensor/xtensor.hpp:19:\n",
      "In file included from /home/loic/miniconda3/envs/cling/include/xtensor/xcontainer.hpp:23:\n",
      "In file included from /home/loic/miniconda3/envs/cling/include/xtensor/xmath.hpp:22:\n",
      "In file included from /home/loic/miniconda3/envs/cling/include/xtensor/xaccumulator.hpp:18:\n",
      "\u001b[1m/home/loic/miniconda3/envs/cling/include/xtensor/xstrides.hpp:105:62: \u001b[0m\u001b[0;1;31merror: \u001b[0m\u001b[1mmember reference base type 'const xt::layout_type' is not a structure or union\u001b[0m\n"
     ]
    },
    {
     "name": "stderr",
     "output_type": "stream",
     "text": [
      "        return static_cast<std::size_t>(std::accumulate(shape.cbegin(), shape.cend(), size_type(1), std::multiplies<siz...\n",
      "\u001b[0;1;32m                                                        ~~~~~^~~~~~~\n",
      "\u001b[0mIn file included from input_line_7:2:\n",
      "In file included from /home/loic/miniconda3/envs/cling/include/xthreejs/xcore.hpp:6:\n",
      "In file included from /home/loic/miniconda3/envs/cling/include/xthreejs/geometries/../core/xbuffer_attribute_autogen.hpp:13:\n",
      "In file included from /home/loic/miniconda3/envs/cling/include/xtensor/xtensor.hpp:19:\n",
      "\u001b[1m/home/loic/miniconda3/envs/cling/include/xtensor/xcontainer.hpp:480:23: \u001b[0m\u001b[0;1;31merror: \u001b[0m\u001b[1mmember reference base type 'const xt::xcontainer<xt::xarray_adaptor<xt::xbuffer_adaptor<float *, xt::no_ownership,\n",
      "      std::allocator<float> >, xt::layout_type::dynamic, xt::layout_type, xt::xtensor_expression_tag> >::inner_shape_type'\n",
      "      (aka 'const xt::layout_type') is not a structure or union\u001b[0m\n",
      "        return shape().size();\n",
      "\u001b[0;1;32m               ~~~~~~~^~~~~\n",
      "\u001b[0m\u001b[1m/home/loic/miniconda3/envs/cling/include/xtensor/xassign.hpp:293:30: \u001b[0m\u001b[0;1;30mnote: \u001b[0min instantiation of member function 'xt::xcontainer<xt::xarray_adaptor<xt::xbuffer_adaptor<float *, xt::no_ownership,\n",
      "      std::allocator<float> >, xt::layout_type::dynamic, xt::layout_type, xt::xtensor_expression_tag> >::dimension' requested\n",
      "      here\u001b[0m\n",
      "        size_type size = de2.dimension();\n",
      "\u001b[0;1;32m                             ^\n",
      "\u001b[0m\u001b[1m/home/loic/miniconda3/envs/cling/include/xtensor/xassign.hpp:235:34: \u001b[0m\u001b[0;1;30mnote: \u001b[0min instantiation of function template specialization\n",
      "      'xt::xexpression_assigner<xt::xtensor_expression_tag>::resize<xt::xtensor_container<xt::uvector<float,\n",
      "      std::allocator<float> >, 2, xt::layout_type::row_major, xt::xtensor_expression_tag>,\n",
      "      xt::xarray_adaptor<xt::xbuffer_adaptor<float *, xt::no_ownership, std::allocator<float> >, xt::layout_type::dynamic,\n",
      "      xt::layout_type, xt::xtensor_expression_tag> >' requested here\u001b[0m\n",
      "        bool trivial_broadcast = resize(e1, e2);\n",
      "\u001b[0;1;32m                                 ^\n",
      "\u001b[0m\u001b[1m/home/loic/miniconda3/envs/cling/include/xtensor/xassign.hpp:151:36: \u001b[0m\u001b[0;1;30mnote: \u001b[0min instantiation of function template specialization\n",
      "      'xt::xexpression_assigner<xt::xtensor_expression_tag>::assign_xexpression<xt::xtensor_container<xt::uvector<float,\n",
      "      std::allocator<float> >, 2, xt::layout_type::row_major, xt::xtensor_expression_tag>,\n",
      "      xt::xarray_adaptor<xt::xbuffer_adaptor<float *, xt::no_ownership, std::allocator<float> >, xt::layout_type::dynamic,\n",
      "      xt::layout_type, xt::xtensor_expression_tag> >' requested here\u001b[0m\n",
      "        xexpression_assigner<tag>::assign_xexpression(e1, e2);\n",
      "\u001b[0;1;32m                                   ^\n",
      "\u001b[0m\u001b[1m/home/loic/miniconda3/envs/cling/include/xtensor/xsemantic.hpp:522:13: \u001b[0m\u001b[0;1;30mnote: \u001b[0min instantiation of function template specialization 'xt::assign_xexpression<xt::xtensor_container<xt::uvector<float,\n",
      "      std::allocator<float> >, 2, xt::layout_type::row_major, xt::xtensor_expression_tag>,\n",
      "      xt::xarray_adaptor<xt::xbuffer_adaptor<float *, xt::no_ownership, std::allocator<float> >, xt::layout_type::dynamic,\n",
      "      xt::layout_type, xt::xtensor_expression_tag> >' requested here\u001b[0m\n",
      "        xt::assign_xexpression(*this, e);\n",
      "\u001b[0;1;32m            ^\n",
      "\u001b[0m\u001b[1m/home/loic/miniconda3/envs/cling/include/xtensor/xsemantic.hpp:427:37: \u001b[0m\u001b[0;1;30mnote: \u001b[0min instantiation of function template specialization 'xt::xcontainer_semantic<xt::xtensor_container<xt::uvector<float,\n",
      "      std::allocator<float> >, 2, xt::layout_type::row_major, xt::xtensor_expression_tag>\n",
      "      >::assign_xexpression<xt::xarray_adaptor<xt::xbuffer_adaptor<float *, xt::no_ownership, std::allocator<float> >,\n",
      "      xt::layout_type::dynamic, xt::layout_type, xt::xtensor_expression_tag> >' requested here\u001b[0m\n",
      "        return this->derived_cast().assign_xexpression(e);\n",
      "\u001b[0;1;32m                                    ^\n",
      "\u001b[0m\u001b[1m/home/loic/miniconda3/envs/cling/include/xtensor/xtensor.hpp:340:24: \u001b[0m\u001b[0;1;30mnote: \u001b[0min instantiation of function template specialization 'xt::xsemantic_base<xt::xtensor_container<xt::uvector<float,\n",
      "      std::allocator<float> >, 2, xt::layout_type::row_major, xt::xtensor_expression_tag>\n",
      "      >::assign<xt::xarray_adaptor<xt::xbuffer_adaptor<float *, xt::no_ownership, std::allocator<float> >,\n",
      "      xt::layout_type::dynamic, xt::layout_type, xt::xtensor_expression_tag> >' requested here\u001b[0m\n",
      "        semantic_base::assign(e);\n",
      "\u001b[0;1;32m                       ^\n",
      "\u001b[0m\u001b[1m/home/loic/miniconda3/envs/cling/include/xproperty/xobserved.hpp:211:20: \u001b[0m\u001b[0;1;30mnote: \u001b[0min instantiation of function template specialization 'xt::xtensor_container<xt::uvector<float, std::allocator<float> >, 2,\n",
      "      xt::layout_type::row_major, xt::xtensor_expression_tag>::xtensor_container<xt::xarray_adaptor<xt::xbuffer_adaptor<float\n",
      "      *, xt::no_ownership, std::allocator<float> >, xt::layout_type::dynamic, xt::layout_type, xt::xtensor_expression_tag> >'\n",
      "      requested here\u001b[0m\n",
      "        value_type value(std::forward<V>(v));\n",
      "\u001b[0;1;32m                   ^\n",
      "\u001b[0m\u001b[1m/home/loic/miniconda3/envs/cling/include/xthreejs/geometries/../core/xbuffer_attribute_autogen.hpp:34:9: \u001b[0m\u001b[0;1;30mnote: \u001b[0min instantiation of function template specialization 'xp::xproperty<xt::xtensor_container<xt::uvector<float,\n",
      "      std::allocator<float> >, 2, xt::layout_type::row_major, xt::xtensor_expression_tag>, xw::xmaterialize<xbuffer_attribute>,\n",
      "      xthree::xbuffer_attribute<xw::xmaterialize<xbuffer_attribute>\n",
      "      >::array_property>::operator=<xt::xarray_adaptor<xt::xbuffer_adaptor<float *, xt::no_ownership, std::allocator<float> >,\n",
      "      xt::layout_type::dynamic, xt::layout_type, xt::xtensor_expression_tag> >' requested here\u001b[0m\n",
      "        XPROPERTY(array_type, derived_type, array);\n",
      "\u001b[0;1;32m        ^\n",
      "\u001b[0m\u001b[1m/home/loic/miniconda3/envs/cling/include/xproperty/xproperty.hpp:162:98: \u001b[0m\u001b[0;1;30mnote: \u001b[0mexpanded from macro 'XPROPERTY'\u001b[0m\n",
      "    #define XPROPERTY(...) XPROPERTY_OVERLOAD(__VA_ARGS__, XPROPERTY_GENERAL, XPROPERTY_DEFAULT, XPROPERTY_NODEFAULT)(_...\n",
      "\u001b[0;1;32m                                                                                                 ^\n",
      "\u001b[0m\u001b[1m/home/loic/miniconda3/envs/cling/include/xthreejs/geometries/../core/xbuffer_attribute_autogen.hpp:88:18: \u001b[0m\u001b[0;1;30mnote: \u001b[0min instantiation of function template specialization 'xthree::xbuffer_attribute<xw::xmaterialize<xbuffer_attribute>\n",
      "      >::array_property::operator=<xt::xarray_adaptor<xt::xbuffer_adaptor<float *, xt::no_ownership, std::allocator<float> >,\n",
      "      xt::layout_type::dynamic, xt::layout_type, xt::xtensor_expression_tag> >' requested here\u001b[0m\n",
      "        property = xt::adapt(//reinterpret_cast<float*>(buffer.data()),\n",
      "\u001b[0;1;32m                 ^\n",
      "\u001b[0mIn file included from input_line_7:2:\n",
      "In file included from /home/loic/miniconda3/envs/cling/include/xthreejs/xcore.hpp:6:\n",
      "In file included from /home/loic/miniconda3/envs/cling/include/xthreejs/geometries/../core/xbuffer_attribute_autogen.hpp:13:\n",
      "In file included from /home/loic/miniconda3/envs/cling/include/xtensor/xtensor.hpp:19:\n",
      "In file included from /home/loic/miniconda3/envs/cling/include/xtensor/xcontainer.hpp:23:\n",
      "In file included from /home/loic/miniconda3/envs/cling/include/xtensor/xmath.hpp:22:\n",
      "In file included from /home/loic/miniconda3/envs/cling/include/xtensor/xaccumulator.hpp:18:\n",
      "\u001b[1m/home/loic/miniconda3/envs/cling/include/xtensor/xstrides.hpp:295:40: \u001b[0m\u001b[0;1;31merror: \u001b[0m\u001b[1mmember reference base type 'const xt::layout_type' is not a structure or union\u001b[0m\n",
      "        bool trivial_broadcast = (input.size() == output.size());\n",
      "\u001b[0;1;32m                                  ~~~~~^~~~~\n",
      "\u001b[0m\u001b[1m/home/loic/miniconda3/envs/cling/include/xtensor/xcontainer.hpp:722:20: \u001b[0m\u001b[0;1;30mnote: \u001b[0min instantiation of function template specialization 'xt::broadcast_shape<xt::layout_type, std::array<unsigned long, 2> >'\n",
      "      requested here\u001b[0m\n",
      "        return xt::broadcast_shape(this->shape(), shape);\n",
      "\u001b[0;1;32m                   ^\n"
     ]
    },
    {
     "name": "stderr",
     "output_type": "stream",
     "text": [
      "\u001b[0m\u001b[1m/home/loic/miniconda3/envs/cling/include/xtensor/xassign.hpp:295:38: \u001b[0m\u001b[0;1;30mnote: \u001b[0min instantiation of function template specialization 'xt::xcontainer<xt::xarray_adaptor<xt::xbuffer_adaptor<float *,\n",
      "      xt::no_ownership, std::allocator<float> >, xt::layout_type::dynamic, xt::layout_type, xt::xtensor_expression_tag>\n",
      "      >::broadcast_shape<std::array<unsigned long, 2> >' requested here\u001b[0m\n",
      "        bool trivial_broadcast = de2.broadcast_shape(shape, true);\n",
      "\u001b[0;1;32m                                     ^\n",
      "\u001b[0m\u001b[1m/home/loic/miniconda3/envs/cling/include/xtensor/xassign.hpp:235:34: \u001b[0m\u001b[0;1;30mnote: \u001b[0min instantiation of function template specialization\n",
      "      'xt::xexpression_assigner<xt::xtensor_expression_tag>::resize<xt::xtensor_container<xt::uvector<float,\n",
      "      std::allocator<float> >, 2, xt::layout_type::row_major, xt::xtensor_expression_tag>,\n",
      "      xt::xarray_adaptor<xt::xbuffer_adaptor<float *, xt::no_ownership, std::allocator<float> >, xt::layout_type::dynamic,\n",
      "      xt::layout_type, xt::xtensor_expression_tag> >' requested here\u001b[0m\n",
      "        bool trivial_broadcast = resize(e1, e2);\n",
      "\u001b[0;1;32m                                 ^\n",
      "\u001b[0m\u001b[1m/home/loic/miniconda3/envs/cling/include/xtensor/xassign.hpp:151:36: \u001b[0m\u001b[0;1;30mnote: \u001b[0min instantiation of function template specialization\n",
      "      'xt::xexpression_assigner<xt::xtensor_expression_tag>::assign_xexpression<xt::xtensor_container<xt::uvector<float,\n",
      "      std::allocator<float> >, 2, xt::layout_type::row_major, xt::xtensor_expression_tag>,\n",
      "      xt::xarray_adaptor<xt::xbuffer_adaptor<float *, xt::no_ownership, std::allocator<float> >, xt::layout_type::dynamic,\n",
      "      xt::layout_type, xt::xtensor_expression_tag> >' requested here\u001b[0m\n",
      "        xexpression_assigner<tag>::assign_xexpression(e1, e2);\n",
      "\u001b[0;1;32m                                   ^\n",
      "\u001b[0m\u001b[1m/home/loic/miniconda3/envs/cling/include/xtensor/xsemantic.hpp:522:13: \u001b[0m\u001b[0;1;30mnote: \u001b[0min instantiation of function template specialization 'xt::assign_xexpression<xt::xtensor_container<xt::uvector<float,\n",
      "      std::allocator<float> >, 2, xt::layout_type::row_major, xt::xtensor_expression_tag>,\n",
      "      xt::xarray_adaptor<xt::xbuffer_adaptor<float *, xt::no_ownership, std::allocator<float> >, xt::layout_type::dynamic,\n",
      "      xt::layout_type, xt::xtensor_expression_tag> >' requested here\u001b[0m\n",
      "        xt::assign_xexpression(*this, e);\n",
      "\u001b[0;1;32m            ^\n",
      "\u001b[0m\u001b[1m/home/loic/miniconda3/envs/cling/include/xtensor/xsemantic.hpp:427:37: \u001b[0m\u001b[0;1;30mnote: \u001b[0min instantiation of function template specialization 'xt::xcontainer_semantic<xt::xtensor_container<xt::uvector<float,\n",
      "      std::allocator<float> >, 2, xt::layout_type::row_major, xt::xtensor_expression_tag>\n",
      "      >::assign_xexpression<xt::xarray_adaptor<xt::xbuffer_adaptor<float *, xt::no_ownership, std::allocator<float> >,\n",
      "      xt::layout_type::dynamic, xt::layout_type, xt::xtensor_expression_tag> >' requested here\u001b[0m\n",
      "        return this->derived_cast().assign_xexpression(e);\n",
      "\u001b[0;1;32m                                    ^\n",
      "\u001b[0m\u001b[1m/home/loic/miniconda3/envs/cling/include/xtensor/xtensor.hpp:340:24: \u001b[0m\u001b[0;1;30mnote: \u001b[0min instantiation of function template specialization 'xt::xsemantic_base<xt::xtensor_container<xt::uvector<float,\n",
      "      std::allocator<float> >, 2, xt::layout_type::row_major, xt::xtensor_expression_tag>\n",
      "      >::assign<xt::xarray_adaptor<xt::xbuffer_adaptor<float *, xt::no_ownership, std::allocator<float> >,\n",
      "      xt::layout_type::dynamic, xt::layout_type, xt::xtensor_expression_tag> >' requested here\u001b[0m\n",
      "        semantic_base::assign(e);\n",
      "\u001b[0;1;32m                       ^\n",
      "\u001b[0m\u001b[1m/home/loic/miniconda3/envs/cling/include/xproperty/xobserved.hpp:211:20: \u001b[0m\u001b[0;1;30mnote: \u001b[0min instantiation of function template specialization 'xt::xtensor_container<xt::uvector<float, std::allocator<float> >, 2,\n",
      "      xt::layout_type::row_major, xt::xtensor_expression_tag>::xtensor_container<xt::xarray_adaptor<xt::xbuffer_adaptor<float\n",
      "      *, xt::no_ownership, std::allocator<float> >, xt::layout_type::dynamic, xt::layout_type, xt::xtensor_expression_tag> >'\n",
      "      requested here\u001b[0m\n",
      "        value_type value(std::forward<V>(v));\n",
      "\u001b[0;1;32m                   ^\n",
      "\u001b[0m\u001b[1m/home/loic/miniconda3/envs/cling/include/xthreejs/geometries/../core/xbuffer_attribute_autogen.hpp:34:9: \u001b[0m\u001b[0;1;30mnote: \u001b[0min instantiation of function template specialization 'xp::xproperty<xt::xtensor_container<xt::uvector<float,\n",
      "      std::allocator<float> >, 2, xt::layout_type::row_major, xt::xtensor_expression_tag>, xw::xmaterialize<xbuffer_attribute>,\n",
      "      xthree::xbuffer_attribute<xw::xmaterialize<xbuffer_attribute>\n",
      "      >::array_property>::operator=<xt::xarray_adaptor<xt::xbuffer_adaptor<float *, xt::no_ownership, std::allocator<float> >,\n",
      "      xt::layout_type::dynamic, xt::layout_type, xt::xtensor_expression_tag> >' requested here\u001b[0m\n",
      "        XPROPERTY(array_type, derived_type, array);\n",
      "\u001b[0;1;32m        ^\n",
      "\u001b[0m\u001b[1m/home/loic/miniconda3/envs/cling/include/xproperty/xproperty.hpp:162:98: \u001b[0m\u001b[0;1;30mnote: \u001b[0mexpanded from macro 'XPROPERTY'\u001b[0m\n",
      "    #define XPROPERTY(...) XPROPERTY_OVERLOAD(__VA_ARGS__, XPROPERTY_GENERAL, XPROPERTY_DEFAULT, XPROPERTY_NODEFAULT)(_...\n",
      "\u001b[0;1;32m                                                                                                 ^\n",
      "\u001b[0m\u001b[1m/home/loic/miniconda3/envs/cling/include/xthreejs/geometries/../core/xbuffer_attribute_autogen.hpp:88:18: \u001b[0m\u001b[0;1;30mnote: \u001b[0min instantiation of function template specialization 'xthree::xbuffer_attribute<xw::xmaterialize<xbuffer_attribute>\n",
      "      >::array_property::operator=<xt::xarray_adaptor<xt::xbuffer_adaptor<float *, xt::no_ownership, std::allocator<float> >,\n",
      "      xt::layout_type::dynamic, xt::layout_type, xt::xtensor_expression_tag> >' requested here\u001b[0m\n",
      "        property = xt::adapt(//reinterpret_cast<float*>(buffer.data()),\n",
      "\u001b[0;1;32m                 ^\n",
      "\u001b[0mIn file included from input_line_7:2:\n",
      "In file included from /home/loic/miniconda3/envs/cling/include/xthreejs/xcore.hpp:6:\n",
      "In file included from /home/loic/miniconda3/envs/cling/include/xthreejs/geometries/../core/xbuffer_attribute_autogen.hpp:13:\n",
      "In file included from /home/loic/miniconda3/envs/cling/include/xtensor/xtensor.hpp:19:\n",
      "In file included from /home/loic/miniconda3/envs/cling/include/xtensor/xcontainer.hpp:23:\n",
      "In file included from /home/loic/miniconda3/envs/cling/include/xtensor/xmath.hpp:22:\n",
      "In file included from /home/loic/miniconda3/envs/cling/include/xtensor/xaccumulator.hpp:18:\n",
      "\u001b[1m/home/loic/miniconda3/envs/cling/include/xtensor/xstrides.hpp:298:40: \u001b[0m\u001b[0;1;31merror: \u001b[0m\u001b[1mmember reference base type 'const xt::layout_type' is not a structure or union\u001b[0m\n",
      "        std::size_t input_index = input.size();\n",
      "\u001b[0;1;32m                                  ~~~~~^~~~~\n",
      "\u001b[0mIn file included from input_line_7:2:\n",
      "In file included from /home/loic/miniconda3/envs/cling/include/xthreejs/xcore.hpp:6:\n",
      "In file included from /home/loic/miniconda3/envs/cling/include/xthreejs/geometries/../core/xbuffer_attribute_autogen.hpp:13:\n",
      "In file included from /home/loic/miniconda3/envs/cling/include/xtensor/xtensor.hpp:19:\n",
      "\u001b[1m/home/loic/miniconda3/envs/cling/include/xtensor/xcontainer.hpp:734:39: \u001b[0m\u001b[0;1;31merror: \u001b[0m\u001b[1mmember reference base type 'const xt::xcontainer<xt::xarray_adaptor<xt::xbuffer_adaptor<float *, xt::no_ownership,\n",
      "      std::allocator<float> >, xt::layout_type::dynamic, xt::layout_type, xt::xtensor_expression_tag> >::inner_strides_type'\n",
      "      (aka 'const xt::layout_type') is not a structure or union\u001b[0m\n",
      "        return str.size() == strides().size() &&\n",
      "\u001b[0;1;32m                             ~~~~~~~~~^~~~~\n",
      "\u001b[0m\u001b[1m/home/loic/miniconda3/envs/cling/include/xtensor/xassign.hpp:185:27: \u001b[0m\u001b[0;1;30mnote: \u001b[0min instantiation of function template specialization 'xt::xcontainer<xt::xarray_adaptor<xt::xbuffer_adaptor<float *,\n",
      "      xt::no_ownership, std::allocator<float> >, xt::layout_type::dynamic, xt::layout_type, xt::xtensor_expression_tag>\n",
      "      >::is_trivial_broadcast<std::array<unsigned long, 2> >' requested here\u001b[0m\n",
      "                    || e2.is_trivial_broadcast(e1.strides());\n",
      "\u001b[0;1;32m                          ^\n"
     ]
    },
    {
     "name": "stderr",
     "output_type": "stream",
     "text": [
      "\u001b[0m\u001b[1m/home/loic/miniconda3/envs/cling/include/xtensor/xassign.hpp:214:53: \u001b[0m\u001b[0;1;30mnote: \u001b[0min instantiation of function template specialization 'xt::detail::is_trivial_broadcast<xt::xtensor_container<xt::uvector<float,\n",
      "      std::allocator<float> >, 2, xt::layout_type::row_major, xt::xtensor_expression_tag>,\n",
      "      xt::xarray_adaptor<xt::xbuffer_adaptor<float *, xt::no_ownership, std::allocator<float> >, xt::layout_type::dynamic,\n",
      "      xt::layout_type, xt::xtensor_expression_tag> >' requested here\u001b[0m\n",
      "        bool trivial_broadcast = trivial && detail::is_trivial_broadcast(de1, de2);\n",
      "\u001b[0;1;32m                                                    ^\n",
      "\u001b[0m\u001b[1m/home/loic/miniconda3/envs/cling/include/xtensor/xassign.hpp:236:20: \u001b[0m\u001b[0;1;30mnote: \u001b[0min instantiation of function template specialization\n",
      "      'xt::xexpression_assigner_base<xt::xtensor_expression_tag>::assign_data<xt::xtensor_container<xt::uvector<float,\n",
      "      std::allocator<float> >, 2, xt::layout_type::row_major, xt::xtensor_expression_tag>,\n",
      "      xt::xarray_adaptor<xt::xbuffer_adaptor<float *, xt::no_ownership, std::allocator<float> >, xt::layout_type::dynamic,\n",
      "      xt::layout_type, xt::xtensor_expression_tag> >' requested here\u001b[0m\n",
      "        base_type::assign_data(e1, e2, trivial_broadcast);\n",
      "\u001b[0;1;32m                   ^\n",
      "\u001b[0m\u001b[1m/home/loic/miniconda3/envs/cling/include/xtensor/xassign.hpp:151:36: \u001b[0m\u001b[0;1;30mnote: \u001b[0min instantiation of function template specialization\n",
      "      'xt::xexpression_assigner<xt::xtensor_expression_tag>::assign_xexpression<xt::xtensor_container<xt::uvector<float,\n",
      "      std::allocator<float> >, 2, xt::layout_type::row_major, xt::xtensor_expression_tag>,\n",
      "      xt::xarray_adaptor<xt::xbuffer_adaptor<float *, xt::no_ownership, std::allocator<float> >, xt::layout_type::dynamic,\n",
      "      xt::layout_type, xt::xtensor_expression_tag> >' requested here\u001b[0m\n",
      "        xexpression_assigner<tag>::assign_xexpression(e1, e2);\n",
      "\u001b[0;1;32m                                   ^\n",
      "\u001b[0m\u001b[1m/home/loic/miniconda3/envs/cling/include/xtensor/xsemantic.hpp:522:13: \u001b[0m\u001b[0;1;30mnote: \u001b[0min instantiation of function template specialization 'xt::assign_xexpression<xt::xtensor_container<xt::uvector<float,\n",
      "      std::allocator<float> >, 2, xt::layout_type::row_major, xt::xtensor_expression_tag>,\n",
      "      xt::xarray_adaptor<xt::xbuffer_adaptor<float *, xt::no_ownership, std::allocator<float> >, xt::layout_type::dynamic,\n",
      "      xt::layout_type, xt::xtensor_expression_tag> >' requested here\u001b[0m\n",
      "        xt::assign_xexpression(*this, e);\n",
      "\u001b[0;1;32m            ^\n",
      "\u001b[0m\u001b[1m/home/loic/miniconda3/envs/cling/include/xtensor/xsemantic.hpp:427:37: \u001b[0m\u001b[0;1;30mnote: \u001b[0min instantiation of function template specialization 'xt::xcontainer_semantic<xt::xtensor_container<xt::uvector<float,\n",
      "      std::allocator<float> >, 2, xt::layout_type::row_major, xt::xtensor_expression_tag>\n",
      "      >::assign_xexpression<xt::xarray_adaptor<xt::xbuffer_adaptor<float *, xt::no_ownership, std::allocator<float> >,\n",
      "      xt::layout_type::dynamic, xt::layout_type, xt::xtensor_expression_tag> >' requested here\u001b[0m\n",
      "        return this->derived_cast().assign_xexpression(e);\n",
      "\u001b[0;1;32m                                    ^\n",
      "\u001b[0m\u001b[1m/home/loic/miniconda3/envs/cling/include/xtensor/xtensor.hpp:340:24: \u001b[0m\u001b[0;1;30mnote: \u001b[0min instantiation of function template specialization 'xt::xsemantic_base<xt::xtensor_container<xt::uvector<float,\n",
      "      std::allocator<float> >, 2, xt::layout_type::row_major, xt::xtensor_expression_tag>\n",
      "      >::assign<xt::xarray_adaptor<xt::xbuffer_adaptor<float *, xt::no_ownership, std::allocator<float> >,\n",
      "      xt::layout_type::dynamic, xt::layout_type, xt::xtensor_expression_tag> >' requested here\u001b[0m\n",
      "        semantic_base::assign(e);\n",
      "\u001b[0;1;32m                       ^\n",
      "\u001b[0m\u001b[1m/home/loic/miniconda3/envs/cling/include/xproperty/xobserved.hpp:211:20: \u001b[0m\u001b[0;1;30mnote: \u001b[0min instantiation of function template specialization 'xt::xtensor_container<xt::uvector<float, std::allocator<float> >, 2,\n",
      "      xt::layout_type::row_major, xt::xtensor_expression_tag>::xtensor_container<xt::xarray_adaptor<xt::xbuffer_adaptor<float\n",
      "      *, xt::no_ownership, std::allocator<float> >, xt::layout_type::dynamic, xt::layout_type, xt::xtensor_expression_tag> >'\n",
      "      requested here\u001b[0m\n",
      "        value_type value(std::forward<V>(v));\n",
      "\u001b[0;1;32m                   ^\n",
      "\u001b[0m\u001b[1m/home/loic/miniconda3/envs/cling/include/xthreejs/geometries/../core/xbuffer_attribute_autogen.hpp:34:9:IOPub message rate exceeded.\n",
      "The notebook server will temporarily stop sending output\n",
      "to the client in order to avoid crashing it.\n",
      "To change this limit, set the config variable\n",
      "`--NotebookApp.iopub_msg_rate_limit`.\n",
      "                    stepper.reset(i);\n",
      "\u001b[0;1;32m                            ^\n",
      "\u001b[0m\u001b[1m/home/loic/miniconda3/envs/cling/include/xtensor/xassign.hpp:322:31: \u001b[0m\u001b[0;1;30mnote: \u001b[0min instantiation of function template specialization\n",
      "      'xt::stepper_tools<xt::layout_type::row_major>::increment_stepper<xt::data_assigner<xt::xtensor_container<xt::uvector<float,\n",
      "      std::allocator<float> >, 2, xt::layout_type::row_major, xt::xtensor_expression_tag>,\n",
      "      xt::xarray_adaptor<xt::xbuffer_adaptor<float *, xt::no_ownership, std::allocator<float> >, xt::layout_type::dynamic,\n",
      "      xt::layout_type, xt::xtensor_expression_tag>, xt::layout_type::row_major>, std::array<unsigned long, 2>,\n",
      "      std::array<unsigned long, 2> >' requested here\u001b[0m\n",
      "            stepper_tools<L>::increment_stepper(*this, m_index, m_e1.shape());\n",
      "\u001b[0;1;32m                              ^\n",
      "\u001b[0m\u001b[1m/home/loic/miniconda3/envs/cling/include/xtensor/xassign.hpp:227:22: \u001b[0m\u001b[0;1;30mnote: \u001b[0min instantiation of member function 'xt::data_assigner<xt::xtensor_container<xt::uvector<float, std::allocator<float> >, 2,\n",
      "      xt::layout_type::row_major, xt::xtensor_expression_tag>, xt::xarray_adaptor<xt::xbuffer_adaptor<float *,\n",
      "      xt::no_ownership, std::allocator<float> >, xt::layout_type::dynamic, xt::layout_type, xt::xtensor_expression_tag>,\n",
      "      xt::layout_type::row_major>::run' requested here\u001b[0m\n",
      "            assigner.run();\n",
      "\u001b[0;1;32m                     ^\n",
      "\u001b[0m\u001b[1m/home/loic/miniconda3/envs/cling/include/xtensor/xassign.hpp:236:20: \u001b[0m\u001b[0;1;30mnote: \u001b[0min instantiation of function template specialization\n",
      "      'xt::xexpression_assigner_base<xt::xtensor_expression_tag>::assign_data<xt::xtensor_container<xt::uvector<float,\n",
      "      std::allocator<float> >, 2, xt::layout_type::row_major, xt::xtensor_expression_tag>,\n",
      "      xt::xarray_adaptor<xt::xbuffer_adaptor<float *, xt::no_ownership, std::allocator<float> >, xt::layout_type::dynamic,\n",
      "      xt::layout_type, xt::xtensor_expression_tag> >' requested here\u001b[0m\n",
      "        base_type::assign_data(e1, e2, trivial_broadcast);\n",
      "\u001b[0;1;32m                   ^\n",
      "\u001b[0m\u001b[1m/home/loic/miniconda3/envs/cling/include/xtensor/xassign.hpp:151:36: \u001b[0m\u001b[0;1;30mnote: \u001b[0m(skipping 2 contexts in backtrace; use -ftemplate-backtrace-limit=0 to see all)\u001b[0m\n",
      "        xexpression_assigner<tag>::assign_xexpression(e1, e2);\n",
      "\u001b[0;1;32m                                   ^\n",
      "\u001b[0m\u001b[1m/home/loic/miniconda3/envs/cling/include/xtensor/xsemantic.hpp:427:37: \u001b[0m\u001b[0;1;30mnote: \u001b[0min instantiation of function template specialization 'xt::xcontainer_semantic<xt::xtensor_container<xt::uvector<float,\n",
      "      std::allocator<float> >, 2, xt::layout_type::row_major, xt::xtensor_expression_tag>\n",
      "      >::assign_xexpression<xt::xarray_adaptor<xt::xbuffer_adaptor<float *, xt::no_ownership, std::allocator<float> >,\n",
      "      xt::layout_type::dynamic, xt::layout_type, xt::xtensor_expression_tag> >' requested here\u001b[0m\n",
      "        return this->derived_cast().assign_xexpression(e);\n",
      "\u001b[0;1;32m                                    ^\n",
      "\u001b[0m\u001b[1m/home/loic/miniconda3/envs/cling/include/xtensor/xtensor.hpp:340:24: \u001b[0m\u001b[0;1;30mnote: \u001b[0min instantiation of function template specialization 'xt::xsemantic_base<xt::xtensor_container<xt::uvector<float,\n",
      "      std::allocator<float> >, 2, xt::layout_type::row_major, xt::xtensor_expression_tag>\n",
      "      >::assign<xt::xarray_adaptor<xt::xbuffer_adaptor<float *, xt::no_ownership, std::allocator<float> >,\n"
     ]
    },
    {
     "name": "stderr",
     "output_type": "stream",
     "text": [
      "      xt::layout_type::dynamic, xt::layout_type, xt::xtensor_expression_tag> >' requested here\u001b[0m\n",
      "        semantic_base::assign(e);\n",
      "\u001b[0;1;32m                       ^\n",
      "\u001b[0m\u001b[1m/home/loic/miniconda3/envs/cling/include/xproperty/xobserved.hpp:211:20: \u001b[0m\u001b[0;1;30mnote: \u001b[0min instantiation of function template specialization 'xt::xtensor_container<xt::uvector<float, std::allocator<float> >, 2,\n",
      "      xt::layout_type::row_major, xt::xtensor_expression_tag>::xtensor_container<xt::xarray_adaptor<xt::xbuffer_adaptor<float\n",
      "      *, xt::no_ownership, std::allocator<float> >, xt::layout_type::dynamic, xt::layout_type, xt::xtensor_expression_tag> >'\n",
      "      requested here\u001b[0m\n",
      "        value_type value(std::forward<V>(v));\n",
      "\u001b[0;1;32m                   ^\n",
      "\u001b[0m\u001b[1m/home/loic/miniconda3/envs/cling/include/xthreejs/geometries/../core/xbuffer_attribute_autogen.hpp:34:9: \u001b[0m\u001b[0;1;30mnote: \u001b[0min instantiation of function template specialization 'xp::xproperty<xt::xtensor_container<xt::uvector<float,\n",
      "      std::allocator<float> >, 2, xt::layout_type::row_major, xt::xtensor_expression_tag>, xw::xmaterialize<xbuffer_attribute>,\n",
      "      xthree::xbuffer_attribute<xw::xmaterialize<xbuffer_attribute>\n",
      "      >::array_property>::operator=<xt::xarray_adaptor<xt::xbuffer_adaptor<float *, xt::no_ownership, std::allocator<float> >,\n",
      "      xt::layout_type::dynamic, xt::layout_type, xt::xtensor_expression_tag> >' requested here\u001b[0m\n",
      "        XPROPERTY(array_type, derived_type, array);\n",
      "\u001b[0;1;32m        ^\n",
      "\u001b[0m\u001b[1m/home/loic/miniconda3/envs/cling/include/xproperty/xproperty.hpp:162:98: \u001b[0m\u001b[0;1;30mnote: \u001b[0mexpanded from macro 'XPROPERTY'\u001b[0m\n",
      "    #define XPROPERTY(...) XPROPERTY_OVERLOAD(__VA_ARGS__, XPROPERTY_GENERAL, XPROPERTY_DEFAULT, XPROPERTY_NODEFAULT)(_...\n",
      "\u001b[0;1;32m                                                                                                 ^\n",
      "\u001b[0m\u001b[1m/home/loic/miniconda3/envs/cling/include/xthreejs/geometries/../core/xbuffer_attribute_autogen.hpp:88:18: \u001b[0m\u001b[0;1;30mnote: \u001b[0min instantiation of function template specialization 'xthree::xbuffer_attribute<xw::xmaterialize<xbuffer_attribute>\n",
      "      >::array_property::operator=<xt::xarray_adaptor<xt::xbuffer_adaptor<float *, xt::no_ownership, std::allocator<float> >,\n",
      "      xt::layout_type::dynamic, xt::layout_type, xt::xtensor_expression_tag> >' requested here\u001b[0m\n",
      "        property = xt::adapt(//reinterpret_cast<float*>(buffer.data()),\n",
      "\u001b[0;1;32m                 ^\n",
      "\u001b[0m"
     ]
    }
   ],
   "source": [
    "#include <xthreejs/xbase.hpp>\n",
    "#include <xthreejs/xcore.hpp>\n",
    "#include <xthreejs/xobjects.hpp>\n",
    "#include <xthreejs/xcameras.hpp>\n",
    "#include <xthreejs/xcontrols.hpp>\n",
    "#include <xthreejs/xlights.hpp>\n",
    "#include <xthreejs/xgeometries.hpp>\n",
    "#include <xthreejs/xmaterials.hpp>\n",
    "#include <xthreejs/xscenes.hpp>\n",
    "#include <xthreejs/xrenderers.hpp>\n",
    "#include <xwidgets/xlayout.hpp>\n",
    "#include <xwidgets/xbox.hpp>\n",
    "#include <xwidgets/xcolor_picker.hpp>\n",
    "#include <xwidgets/xslider.hpp>"
   ]
  },
  {
   "cell_type": "code",
   "execution_count": null,
   "metadata": {
    "collapsed": true
   },
   "outputs": [],
   "source": [
    "// Simple square\n",
    "#include \"xtensor/xtensor.hpp\"\n",
    "\n",
    "xt::xtensor<float, 2> array = {\n",
    "        {-20.0, -20.0,  0.0},\n",
    "        { 20.0, -20.0,  0.0},\n",
    "        { 20.0,  20.0,  0.0},\n",
    "        \n",
    "        { 20.0,  20.0,  0.0},\n",
    "        {-20.0,  20.0,  0.0},\n",
    "        {-20.0, -20.0,  0.0}\n",
    "    };"
   ]
  },
  {
   "cell_type": "code",
   "execution_count": 3,
   "metadata": {},
   "outputs": [],
   "source": [
    "namespace xt\n",
    "{\n",
    "    template <class T>\n",
    "    void from_json(const xeus::xjson&j, xtensor<T, 2>& a){\n",
    "        \n",
    "    };\n",
    "    template <class T>\n",
    "    void to_json(xeus::xjson&j, const xtensor<T, 2>& a){\n",
    "        j = xeus::xjson::object();\n",
    "    };\n",
    "}"
   ]
  },
  {
   "cell_type": "code",
   "execution_count": 4,
   "metadata": {},
   "outputs": [],
   "source": [
    "auto vertices = xthree::buffer_attribute();"
   ]
  },
  {
   "cell_type": "code",
   "execution_count": 6,
   "metadata": {},
   "outputs": [],
   "source": [
    "vertices.array = array;"
   ]
  },
  {
   "cell_type": "code",
   "execution_count": 3,
   "metadata": {},
   "outputs": [],
   "source": [
    "auto vertices2 = xthree::buffer_attribute_generator()\n",
    "    .array(array)\n",
    "    .normalized(false)\n",
    "    .finalize();"
   ]
  },
  {
   "cell_type": "code",
   "execution_count": 10,
   "metadata": {},
   "outputs": [
    {
     "name": "stderr",
     "output_type": "stream",
     "text": [
      "\u001b[1minput_line_21:2:18: \u001b[0m\u001b[0;1;31merror: \u001b[0m\u001b[1mno member named 'raw_data' in 'xthree::xbuffer_attribute<xw::xmaterialize<xbuffer_attribute> >::array_property'\u001b[0m\n",
      " vertices2.array.raw_data()\n",
      "\u001b[0;1;32m ~~~~~~~~~~~~~~~ ^\n",
      "\u001b[0m"
     ]
    },
    {
     "ename": "Interpreter Error",
     "evalue": "",
     "output_type": "error",
     "traceback": [
      "Interpreter Error: "
     ]
    }
   ],
   "source": [
    "vertices2.array.raw_data()"
   ]
  },
  {
   "cell_type": "code",
   "execution_count": 6,
   "metadata": {
    "collapsed": true
   },
   "outputs": [],
   "source": [
    "auto geometry = xthree::buffer_geometry_generator()\n",
    "    .attributes({{\"position\", vertices}})\n",
    "    .finalize();"
   ]
  },
  {
   "cell_type": "code",
   "execution_count": 7,
   "metadata": {},
   "outputs": [
    {
     "data": {
      "application/vnd.jupyter.widget-view+json": {
       "model_id": "bff3bb21ae22480b85a3e650dc8260d5",
       "version_major": 2,
       "version_minor": 0
      },
      "text/plain": [
       "A Jupyter widget"
      ]
     },
     "metadata": {},
     "output_type": "display_data"
    }
   ],
   "source": [
    "xthree::preview(geometry).display();"
   ]
  },
  {
   "cell_type": "code",
   "execution_count": 8,
   "metadata": {
    "collapsed": true
   },
   "outputs": [],
   "source": [
    "vertices.array = scale_factor * np.array([\n",
    "        [-1.0, -1.0,  0.0],\n",
    "        [ 2.0, -2.0,  1.0],\n",
    "        [ 1.0,  1.0,  0.0],\n",
    "        \n",
    "        [ 1.0,  1.0,  0.0],\n",
    "        [-1.0,  1.0,  0.0],\n",
    "        [-1.0, -1.0,  0.0],\n",
    "    ])"
   ]
  },
  {
   "cell_type": "code",
   "execution_count": 9,
   "metadata": {
    "collapsed": true
   },
   "outputs": [],
   "source": [
    "vertices.array = scale_factor * np.array([\n",
    "        [-1.0, -1.0,  0.0],\n",
    "        [ 1.0, -1.0,  0.0],\n",
    "        [ 1.0,  1.0,  0.0],\n",
    "        \n",
    "        [ 1.0,  1.0,  0.0],\n",
    "        [-1.0,  1.0,  0.0],\n",
    "        [-1.0, -1.0,  0.0],\n",
    "    ])"
   ]
  },
  {
   "cell_type": "code",
   "execution_count": 10,
   "metadata": {},
   "outputs": [
    {
     "name": "stdout",
     "output_type": "stream",
     "text": [
      "BufferGeometry(attributes={'position': BufferAttribute(array=array([[-20., -20.,   0.],\n",
      "       [ 20., -20.,   0.],\n",
      "       [ 20.,  20.,   0.],\n",
      "       [ 20.,  20.,   0.],\n",
      "       [-20.,  20.,   0.],\n",
      "       [-20., -20.,   0.]], dtype=float32), normalized=False, version=4)}, type='BufferGeometry')\n"
     ]
    }
   ],
   "source": [
    "print(repr(geometry))"
   ]
  },
  {
   "cell_type": "markdown",
   "metadata": {},
   "source": [
    "### Index attribute"
   ]
  },
  {
   "cell_type": "code",
   "execution_count": 11,
   "metadata": {
    "collapsed": true
   },
   "outputs": [],
   "source": [
    "# Simple square with unique vertices\n",
    "vertices = BufferAttribute(\n",
    "    array=scale_factor * np.array([\n",
    "        [-1.0, -1.0,  0.0],\n",
    "        [ 1.0, -1.0,  0.0],\n",
    "        [ 1.0,  1.0,  0.0],\n",
    "        [-1.0,  1.0,  0.0],\n",
    "    ], dtype=np.float32),\n",
    "    normalized=False)"
   ]
  },
  {
   "cell_type": "code",
   "execution_count": 12,
   "metadata": {
    "collapsed": true
   },
   "outputs": [],
   "source": [
    "# Index buffer\n",
    "index = BufferAttribute(\n",
    "    array=np.array([\n",
    "        [0, 1, 2],\n",
    "        [2, 3, 0],\n",
    "    ], dtype=np.uint16).ravel(),\n",
    "    normalized=False)"
   ]
  },
  {
   "cell_type": "code",
   "execution_count": 13,
   "metadata": {
    "collapsed": true
   },
   "outputs": [],
   "source": [
    "geometry = BufferGeometry(\n",
    "    attributes={\n",
    "        'position': vertices,\n",
    "        'index': index,\n",
    "    })"
   ]
  },
  {
   "cell_type": "code",
   "execution_count": 14,
   "metadata": {},
   "outputs": [
    {
     "data": {
      "application/vnd.jupyter.widget-view+json": {
       "model_id": "7970f799768e44a7982034b125c5fbaa",
       "version_major": 2,
       "version_minor": 0
      },
      "text/html": [
       "<p>Failed to display Jupyter Widget of type <code>Preview</code>.</p>\n",
       "<p>\n",
       "  If you're reading this message in the Jupyter Notebook or JupyterLab Notebook, it may mean\n",
       "  that the widgets JavaScript is still loading. If this message persists, it\n",
       "  likely means that the widgets JavaScript library is either not installed or\n",
       "  not enabled. See the <a href=\"https://ipywidgets.readthedocs.io/en/stable/user_install.html\">Jupyter\n",
       "  Widgets Documentation</a> for setup instructions.\n",
       "</p>\n",
       "<p>\n",
       "  If you're reading this message in another frontend (for example, a static\n",
       "  rendering on GitHub or <a href=\"https://nbviewer.jupyter.org/\">NBViewer</a>),\n",
       "  it may mean that your frontend doesn't currently support widgets.\n",
       "</p>\n"
      ],
      "text/plain": [
       "Preview(child=BufferGeometry(attributes={'position': BufferAttribute(array=array([[-20., -20.,   0.],\n",
       "       [ 20., -20.,   0.],\n",
       "       [ 20.,  20.,   0.],\n",
       "       [-20.,  20.,   0.]], dtype=float32), normalized=False, version=1), 'index': BufferAttribute(array=array([0, 1, 2, 2, 3, 0], dtype=uint16), normalized=False, version=1)}, type='BufferGeometry'), shadowMap=WebGLShadowMap())"
      ]
     },
     "metadata": {},
     "output_type": "display_data"
    }
   ],
   "source": [
    "geometry"
   ]
  },
  {
   "cell_type": "markdown",
   "metadata": {},
   "source": [
    "### PlainBufferGeometry.from_geometry"
   ]
  },
  {
   "cell_type": "code",
   "execution_count": null,
   "metadata": {
    "collapsed": true
   },
   "outputs": [],
   "source": [
    "sphere = SphereBufferGeometry(10)"
   ]
  },
  {
   "cell_type": "code",
   "execution_count": null,
   "metadata": {
    "collapsed": true
   },
   "outputs": [],
   "source": [
    "print(repr(sphere))"
   ]
  },
  {
   "cell_type": "code",
   "execution_count": null,
   "metadata": {
    "collapsed": true
   },
   "outputs": [],
   "source": [
    "plain = BufferGeometry.from_geometry(sphere)"
   ]
  },
  {
   "cell_type": "code",
   "execution_count": null,
   "metadata": {
    "collapsed": true
   },
   "outputs": [],
   "source": [
    "plain"
   ]
  },
  {
   "cell_type": "code",
   "execution_count": null,
   "metadata": {
    "collapsed": true
   },
   "outputs": [],
   "source": []
  },
  {
   "cell_type": "code",
   "execution_count": null,
   "metadata": {
    "collapsed": true
   },
   "outputs": [],
   "source": [
    "# Now from a non-buffer geometry:\n",
    "box = BufferGeometry.from_geometry(BoxGeometry())"
   ]
  },
  {
   "cell_type": "code",
   "execution_count": null,
   "metadata": {
    "collapsed": true
   },
   "outputs": [],
   "source": [
    "box"
   ]
  },
  {
   "cell_type": "code",
   "execution_count": null,
   "metadata": {
    "collapsed": true
   },
   "outputs": [],
   "source": [
    "# This shows that when converting from a regular geometry\n",
    "# to a buffer geometry, it does not use indexing (position attribute\n",
    "# is expanded):\n",
    "box.attributes"
   ]
  },
  {
   "cell_type": "code",
   "execution_count": null,
   "metadata": {
    "collapsed": true
   },
   "outputs": [],
   "source": []
  }
 ],
 "metadata": {
  "kernelspec": {
   "display_name": "C++14",
   "language": "C++14",
   "name": "xeus-cling-cpp14"
  },
  "language_info": {
   "codemirror_mode": "text/x-c++src",
   "file_extension": ".cpp",
   "mimetype": "text/x-c++src",
   "name": "c++",
   "version": "14"
  }
 },
 "nbformat": 4,
 "nbformat_minor": 1
}
