{
 "cells": [
  {
   "cell_type": "markdown",
   "metadata": {},
   "source": [
    "## BufferAttribute"
   ]
  },
  {
   "cell_type": "code",
   "execution_count": 1,
   "metadata": {},
   "outputs": [
    {
     "name": "stderr",
     "output_type": "stream",
     "text": [
      "\u001b[1minput_line_7:2:11: \u001b[0m\u001b[0;1;31merror: \u001b[0m\u001b[1muse of undeclared identifier 'xthree'\u001b[0m\n",
      " auto b = xthree::buffer_attribute_generator()\n",
      "\u001b[0;1;32m          ^\n",
      "\u001b[0m"
     ]
    },
    {
     "ename": "Interpreter Error",
     "evalue": "",
     "output_type": "error",
     "traceback": [
      "Interpreter Error: "
     ]
    }
   ],
   "source": [
    "auto b = xthree::buffer_attribute_generator()\n",
    "    .array({\n",
    "        {11, 12, 13},\n",
    "        {21, 22, 23},\n",
    "        {31, 32, 33},\n",
    "    })\n",
    "    .normalized(false)\n",
    "    .finalize();"
   ]
  },
  {
   "cell_type": "code",
   "execution_count": 3,
   "metadata": {},
   "outputs": [
    {
     "name": "stderr",
     "output_type": "stream",
     "text": [
      "\u001b[1minput_line_9:3:5: \u001b[0m\u001b[0;1;31merror: \u001b[0m\u001b[1mexpected variable name or 'this' in lambda capture list\u001b[0m\n",
      "    [11, 12, 13],\n",
      "\u001b[0;1;32m    ^\n",
      "\u001b[0m"
     ]
    },
    {
     "ename": "Interpreter Error",
     "evalue": "",
     "output_type": "error",
     "traceback": [
      "Interpreter Error: "
     ]
    }
   ],
   "source": [
    "b.array = [ \n",
    "    [11, 12, 13],\n",
    "    [21,  0, 23],\n",
    "    [31, 32, 33],\n",
    "]"
   ]
  },
  {
   "cell_type": "code",
   "execution_count": 4,
   "metadata": {},
   "outputs": [
    {
     "name": "stderr",
     "output_type": "stream",
     "text": [
      "\u001b[1minput_line_10:2:4: \u001b[0m\u001b[0;1;31merror: \u001b[0m\u001b[1minvalid preprocessing directive\u001b[0m\n",
      " # should be able to modify elements in the array directly \n",
      "\u001b[0;1;32m   ^\n",
      "\u001b[0m\u001b[1minput_line_10:3:3: \u001b[0m\u001b[0;1;31merror: \u001b[0m\u001b[1minvalid preprocessing directive\u001b[0m\n",
      "# but currently, change events are not fired when arrays are \n",
      "\u001b[0;1;32m  ^\n",
      "\u001b[0m\u001b[1minput_line_10:4:3: \u001b[0m\u001b[0;1;31merror: \u001b[0m\u001b[1minvalid preprocessing directive\u001b[0m\n",
      "# updated using element-wise assignment\n",
      "\u001b[0;1;32m  ^\n",
      "\u001b[0m\u001b[1minput_line_10:5:3: \u001b[0m\u001b[0;1;31merror: \u001b[0m\u001b[1minvalid preprocessing directive\u001b[0m\n",
      "# WON'T WORK\n",
      "\u001b[0;1;32m  ^\n",
      "\u001b[0m\u001b[1minput_line_10:5:6: \u001b[0m\u001b[0;1;35mwarning: \u001b[0m\u001b[1mmissing terminating ' character [-Winvalid-pp-token]\u001b[0m\n",
      "# WON'T WORK\n",
      "\u001b[0;1;32m     ^\n",
      "\u001b[0m\u001b[1minput_line_10:6:8: \u001b[0m\u001b[0;1;31merror: \u001b[0m\u001b[1mtype 'class array_property' does not provide a subscript operator\u001b[0m\n",
      "b.array[0, 1] = 0\n",
      "\u001b[0;1;32m~~~~~~~^~~~~\n",
      "\u001b[0m"
     ]
    },
    {
     "ename": "Interpreter Error",
     "evalue": "",
     "output_type": "error",
     "traceback": [
      "Interpreter Error: "
     ]
    }
   ],
   "source": [
    "# should be able to modify elements in the array directly \n",
    "# but currently, change events are not fired when arrays are \n",
    "# updated using element-wise assignment\n",
    "# WON'T WORK\n",
    "b.array[0, 1] = 0"
   ]
  },
  {
   "cell_type": "markdown",
   "metadata": {},
   "source": [
    "###### BufferGeometry"
   ]
  },
  {
   "cell_type": "code",
   "execution_count": 1,
   "metadata": {},
   "outputs": [],
   "source": [
    "#include <xthreejs/xbase.hpp>\n",
    "#include <xthreejs/xcore.hpp>\n",
    "#include <xthreejs/xobjects.hpp>\n",
    "#include <xthreejs/xcameras.hpp>\n",
    "#include <xthreejs/xcontrols.hpp>\n",
    "#include <xthreejs/xlights.hpp>\n",
    "#include <xthreejs/xgeometries.hpp>\n",
    "#include <xthreejs/xmaterials.hpp>\n",
    "#include <xthreejs/xscenes.hpp>\n",
    "#include <xthreejs/xrenderers.hpp>\n",
    "#include <xwidgets/xlayout.hpp>\n",
    "#include <xwidgets/xbox.hpp>\n",
    "#include <xwidgets/xcolor_picker.hpp>\n",
    "#include <xwidgets/xslider.hpp>"
   ]
  },
  {
   "cell_type": "code",
   "execution_count": 2,
   "metadata": {
    "collapsed": true
   },
   "outputs": [],
   "source": [
    "// Simple square\n",
    "#include \"xtensor/xtensor.hpp\"\n",
    "\n",
    "float scale_factor = 1;\n",
    "\n",
    "xt::xtensor<float, 2> array = {\n",
    "        {-1.0, -1.0,  0.0},\n",
    "        { 1.0, -1.0,  0.0},\n",
    "        { 1.0,  1.0,  0.0},\n",
    "        \n",
    "        { 1.0,  1.0,  0.0},\n",
    "        {-1.0,  1.0,  0.0},\n",
    "        {-1.0, -1.0,  0.0}\n",
    "    };"
   ]
  },
  {
   "cell_type": "code",
   "execution_count": null,
   "metadata": {},
   "outputs": [
    {
     "name": "stderr",
     "output_type": "stream",
     "text": [
      "In file included from input_line_5:1:\n",
      "In file included from /home/loic/miniconda3/envs/cling/include/xeus/xinterpreter.hpp:12:\n",
      "In file included from /home/loic/miniconda3/envs/cling/bin/../lib/gcc/../../gcc/include/c++/functional:54:\n",
      "In file included from /home/loic/miniconda3/envs/cling/bin/../lib/gcc/../../gcc/include/c++/tuple:39:\n",
      "In file included from /home/loic/miniconda3/envs/cling/bin/../lib/gcc/../../gcc/include/c++/array:39:\n",
      "In file included from /home/loic/miniconda3/envs/cling/bin/../lib/gcc/../../gcc/include/c++/stdexcept:39:\n",
      "In file included from /home/loic/miniconda3/envs/cling/bin/../lib/gcc/../../gcc/include/c++/string:40:\n",
      "In file included from /home/loic/miniconda3/envs/cling/bin/../lib/gcc/../../gcc/include/c++/bits/char_traits.h:39:\n",
      "In file included from /home/loic/miniconda3/envs/cling/bin/../lib/gcc/../../gcc/include/c++/bits/stl_algobase.h:67:\n",
      "\u001b[1m/home/loic/miniconda3/envs/cling/bin/../lib/gcc/../../gcc/include/c++/bits/stl_iterator.h:700:20: \u001b[0m\u001b[0;1;31merror: \u001b[0m\u001b[1mno member named 'insert' in 'xthree::buffer_t'\u001b[0m\n",
      "        iter = container->insert(iter, std::move(__value));\n",
      "\u001b[0;1;32m               ~~~~~~~~~  ^\n",
      "\u001b[0m\u001b[1m/home/loic/miniconda3/envs/cling/bin/../lib/gcc/../../gcc/include/c++/bits/stl_algo.h:4306:12: \u001b[0m\u001b[0;1;30mnote: \u001b[0min instantiation of member function 'std::insert_iterator<xthree::buffer_t>::operator=' requested here\u001b[0m\n",
      "        *__result = __unary_op(*__first);\n",
      "\u001b[0;1;32m                  ^\n",
      "\u001b[0m\u001b[1m/home/loic/miniconda3/envs/cling/include/nlohmann/json.hpp:1051:10: \u001b[0m\u001b[0;1;30mnote: \u001b[0min instantiation of function template specialization 'std::transform<nlohmann::detail::iter_impl<const\n",
      "      nlohmann::basic_json<std::map, std::vector, std::__cxx11::basic_string<char>, bool, long,\n",
      "      unsigned long, double, std::allocator, adl_serializer> >,\n",
      "      std::insert_iterator<xthree::buffer_t>, (lambda at\n",
      "      /home/loic/miniconda3/envs/cling/include/nlohmann/json.hpp:1052:50)>' requested here\u001b[0m\n",
      "    std::transform(j.begin(), j.end(),\n",
      "\u001b[0;1;32m         ^\n",
      "\u001b[0m\u001b[1m/home/loic/miniconda3/envs/cling/include/nlohmann/json.hpp:1104:5: \u001b[0m\u001b[0;1;30mnote: \u001b[0min instantiation of function template specialization\n",
      "      'nlohmann::detail::from_json_array_impl<nlohmann::basic_json<std::map, std::vector,\n",
      "      std::__cxx11::basic_string<char>, bool, long, unsigned long, double, std::allocator,\n",
      "      adl_serializer>, xthree::buffer_t>' requested here\u001b[0m\n",
      "    from_json_array_impl(j, arr, priority_tag<2> {});\n",
      "\u001b[0;1;32m    ^\n",
      "\u001b[0m\u001b[1m/home/loic/miniconda3/envs/cling/include/nlohmann/json.hpp:1195:16: \u001b[0m\u001b[0;1;30mnote: \u001b[0min instantiation of function template specialization\n",
      "      'nlohmann::detail::from_json<nlohmann::basic_json<std::map, std::vector,\n",
      "      std::__cxx11::basic_string<char>, bool, long, unsigned long, double, std::allocator,\n",
      "      adl_serializer>, xthree::buffer_t, 0>' requested here\u001b[0m\n",
      "        return from_json(j, val);\n",
      "\u001b[0;1;32m               ^\n",
      "\u001b[0m\u001b[1m/home/loic/miniconda3/envs/cling/include/nlohmann/json.hpp:1216:16: \u001b[0m\u001b[0;1;30mnote: \u001b[0min instantiation of function template specialization\n",
      "      'nlohmann::detail::from_json_fn::call<nlohmann::basic_json<std::map, std::vector,\n",
      "      std::__cxx11::basic_string<char>, bool, long, unsigned long, double, std::allocator,\n",
      "      adl_serializer>, xthree::buffer_t>' requested here\u001b[0m\n",
      "        return call(j, val, priority_tag<1> {});\n",
      "\u001b[0;1;32m               ^\n",
      "\u001b[0m\u001b[1m/home/loic/miniconda3/envs/cling/include/nlohmann/json.hpp:9647:9: \u001b[0m\u001b[0;1;30mnote: \u001b[0m(skipping 6 contexts in backtrace; use -ftemplate-backtrace-limit=0 to see all)\u001b[0m\n",
      "        ::nlohmann::from_json(std::forward<BasicJsonType>(j), val);\n",
      "\u001b[0;1;32m        ^\n",
      "\u001b[0m\u001b[1m/home/loic/miniconda3/envs/cling/include/xwidgets/xobject.hpp:121:11: \u001b[0m\u001b[0;1;30mnote: \u001b[0min instantiation of member function 'xw::xtransport<xw::xgenerator<xthree::xbuffer_attribute>\n",
      "      >::xtransport' requested here\u001b[0m\n",
      "        : base_type()\n",
      "\u001b[0;1;32m          ^\n",
      "\u001b[0m\u001b[1m/home/loic/miniconda3/envs/cling/include/xthreejs/renderers/../base/xthree.hpp:62:11: \u001b[0m\u001b[0;1;30mnote: \u001b[0min instantiation of member function 'xw::xobject<xw::xgenerator<xthree::xbuffer_attribute> >::xobject'\n",
      "      requested here\u001b[0m\n",
      "        : base_type()\n",
      "\u001b[0;1;32m          ^\n",
      "\u001b[0m\u001b[1m/home/loic/miniconda3/envs/cling/include/xthreejs/geometries/../core/xbuffer_attribute_autogen.hpp:210:11: \u001b[0m\u001b[0;1;30mnote: \u001b[0min instantiation of member function 'xthree::xthree_widget<xw::xgenerator<xthree::xbuffer_attribute>\n",
      "      >::xthree_widget' requested here\u001b[0m\n",
      "        : base_type()\n",
      "\u001b[0;1;32m          ^\n",
      "\u001b[0m\u001b[1m/home/loic/miniconda3/envs/cling/include/xwidgets/xmaterialize.hpp:135:11: \u001b[0m\u001b[0;1;30mnote: \u001b[0min instantiation of member function\n",
      "      'xthree::xbuffer_attribute<xw::xgenerator<xthree::xbuffer_attribute> >::xbuffer_attribute'\n",
      "      requested here\u001b[0m\n",
      "        : base_type(std::forward<A>(args)...)\n",
      "\u001b[0;1;32m          ^\n",
      "\u001b[0m\u001b[1minput_line_11:2:18: \u001b[0m\u001b[0;1;30mnote: \u001b[0min instantiation of function template specialization 'xw::xgenerator<xbuffer_attribute>::xgenerator<>'\n",
      "      requested here\u001b[0m\n",
      " auto vertices = xthree::buffer_attribute_generator()\n",
      "\u001b[0;1;32m                 ^\n",
      "\u001b[0m"
     ]
    }
   ],
   "source": [
    "auto vertices = xthree::buffer_attribute_generator()\n",
    "    .array(array)\n",
    "    .normalized(false)\n",
    "    .finalize();"
   ]
  },
  {
   "cell_type": "code",
   "execution_count": 4,
   "metadata": {
    "collapsed": true
   },
   "outputs": [],
   "source": [
    "auto geometry = xthree::buffer_geometry_generator()\n",
    "    .attributes({{\"position\", vertices}})\n",
    "    .finalize();"
   ]
  },
  {
   "cell_type": "code",
   "execution_count": 6,
   "metadata": {},
   "outputs": [
    {
     "data": {
      "application/vnd.jupyter.widget-view+json": {
       "model_id": "042772b883964b5c8d413be4b70a67f9",
       "version_major": 2,
       "version_minor": 0
      },
      "text/plain": [
       "A Jupyter widget"
      ]
     },
     "metadata": {},
     "output_type": "display_data"
    }
   ],
   "source": [
    "xthree::preview(geometry).display();"
   ]
  },
  {
   "cell_type": "code",
   "execution_count": 8,
   "metadata": {},
   "outputs": [],
   "source": [
    "vertices.array = scale_factor * xt::xtensor<float, 2>{\n",
    "    {-1.0, -1.0,  0.0},\n",
    "    { 2.0, -2.0,  1.0},\n",
    "    { 1.0,  1.0,  0.0},\n",
    "        \n",
    "    { 1.0,  1.0,  0.0},\n",
    "    {-1.0,  1.0,  0.0},\n",
    "    {-1.0, -1.0,  0.0},\n",
    "};"
   ]
  },
  {
   "cell_type": "code",
   "execution_count": 10,
   "metadata": {
    "collapsed": true
   },
   "outputs": [],
   "source": [
    "vertices.array = scale_factor * xt::xtensor<float, 2>{\n",
    "    {-1.0, -1.0,  0.0},\n",
    "    { 1.0, -1.0,  0.0},\n",
    "    { 1.0,  1.0,  0.0},\n",
    "        \n",
    "    { 1.0,  1.0,  0.0},\n",
    "    {-1.0,  1.0,  0.0},\n",
    "    {-1.0, -1.0,  0.0},\n",
    "};"
   ]
  },
  {
   "cell_type": "code",
   "execution_count": 17,
   "metadata": {},
   "outputs": [
    {
     "name": "stdout",
     "output_type": "stream",
     "text": [
      "{{-20., -20.,   0.},\n",
      " { 20., -20.,   0.},\n",
      " { 20.,  20.,   0.},\n",
      " { 20.,  20.,   0.},\n",
      " {-20.,  20.,   0.},\n",
      " {-20., -20.,   0.}}"
     ]
    }
   ],
   "source": [
    "#include <xtensor/xio.hpp>\n",
    "std::cout << vertices.array();"
   ]
  },
  {
   "cell_type": "code",
   "execution_count": 10,
   "metadata": {},
   "outputs": [
    {
     "name": "stdout",
     "output_type": "stream",
     "text": [
      "BufferGeometry(attributes={'position': BufferAttribute(array=array([[-20., -20.,   0.],\n",
      "       [ 20., -20.,   0.],\n",
      "       [ 20.,  20.,   0.],\n",
      "       [ 20.,  20.,   0.],\n",
      "       [-20.,  20.,   0.],\n",
      "       [-20., -20.,   0.]], dtype=float32), normalized=False, version=4)}, type='BufferGeometry')\n"
     ]
    }
   ],
   "source": [
    "print(repr(geometry))"
   ]
  },
  {
   "cell_type": "markdown",
   "metadata": {},
   "source": [
    "### Index attribute"
   ]
  },
  {
   "cell_type": "code",
   "execution_count": 11,
   "metadata": {
    "collapsed": true
   },
   "outputs": [],
   "source": [
    "# Simple square with unique vertices\n",
    "vertices = BufferAttribute(\n",
    "    array=scale_factor * np.array([\n",
    "        [-1.0, -1.0,  0.0],\n",
    "        [ 1.0, -1.0,  0.0],\n",
    "        [ 1.0,  1.0,  0.0],\n",
    "        [-1.0,  1.0,  0.0],\n",
    "    ], dtype=np.float32),\n",
    "    normalized=False)"
   ]
  },
  {
   "cell_type": "code",
   "execution_count": 12,
   "metadata": {
    "collapsed": true
   },
   "outputs": [],
   "source": [
    "# Index buffer\n",
    "index = BufferAttribute(\n",
    "    array=np.array([\n",
    "        [0, 1, 2],\n",
    "        [2, 3, 0],\n",
    "    ], dtype=np.uint16).ravel(),\n",
    "    normalized=False)"
   ]
  },
  {
   "cell_type": "code",
   "execution_count": 13,
   "metadata": {
    "collapsed": true
   },
   "outputs": [],
   "source": [
    "geometry = BufferGeometry(\n",
    "    attributes={\n",
    "        'position': vertices,\n",
    "        'index': index,\n",
    "    })"
   ]
  },
  {
   "cell_type": "code",
   "execution_count": 14,
   "metadata": {},
   "outputs": [
    {
     "data": {
      "application/vnd.jupyter.widget-view+json": {
       "model_id": "7970f799768e44a7982034b125c5fbaa",
       "version_major": 2,
       "version_minor": 0
      },
      "text/html": [
       "<p>Failed to display Jupyter Widget of type <code>Preview</code>.</p>\n",
       "<p>\n",
       "  If you're reading this message in the Jupyter Notebook or JupyterLab Notebook, it may mean\n",
       "  that the widgets JavaScript is still loading. If this message persists, it\n",
       "  likely means that the widgets JavaScript library is either not installed or\n",
       "  not enabled. See the <a href=\"https://ipywidgets.readthedocs.io/en/stable/user_install.html\">Jupyter\n",
       "  Widgets Documentation</a> for setup instructions.\n",
       "</p>\n",
       "<p>\n",
       "  If you're reading this message in another frontend (for example, a static\n",
       "  rendering on GitHub or <a href=\"https://nbviewer.jupyter.org/\">NBViewer</a>),\n",
       "  it may mean that your frontend doesn't currently support widgets.\n",
       "</p>\n"
      ],
      "text/plain": [
       "Preview(child=BufferGeometry(attributes={'position': BufferAttribute(array=array([[-20., -20.,   0.],\n",
       "       [ 20., -20.,   0.],\n",
       "       [ 20.,  20.,   0.],\n",
       "       [-20.,  20.,   0.]], dtype=float32), normalized=False, version=1), 'index': BufferAttribute(array=array([0, 1, 2, 2, 3, 0], dtype=uint16), normalized=False, version=1)}, type='BufferGeometry'), shadowMap=WebGLShadowMap())"
      ]
     },
     "metadata": {},
     "output_type": "display_data"
    }
   ],
   "source": [
    "geometry"
   ]
  },
  {
   "cell_type": "markdown",
   "metadata": {},
   "source": [
    "### PlainBufferGeometry.from_geometry"
   ]
  },
  {
   "cell_type": "code",
   "execution_count": 7,
   "metadata": {},
   "outputs": [
    {
     "name": "stderr",
     "output_type": "stream",
     "text": [
      "\u001b[1minput_line_15:2:2: \u001b[0m\u001b[0;1;31merror: \u001b[0m\u001b[1muse of undeclared identifier 'sphere'\u001b[0m\n",
      " sphere = SphereBufferGeometry(10)\n",
      "\u001b[0;1;32m ^\n",
      "\u001b[0m\u001b[1minput_line_15:2:11: \u001b[0m\u001b[0;1;31merror: \u001b[0m\u001b[1muse of undeclared identifier 'SphereBufferGeometry'\u001b[0m\n",
      " sphere = SphereBufferGeometry(10)\n",
      "\u001b[0;1;32m          ^\n",
      "\u001b[0m"
     ]
    },
    {
     "ename": "Interpreter Error",
     "evalue": "",
     "output_type": "error",
     "traceback": [
      "Interpreter Error: "
     ]
    }
   ],
   "source": [
    "sphere = SphereBufferGeometry(10)"
   ]
  },
  {
   "cell_type": "code",
   "execution_count": null,
   "metadata": {
    "collapsed": true
   },
   "outputs": [],
   "source": [
    "print(repr(sphere))"
   ]
  },
  {
   "cell_type": "code",
   "execution_count": null,
   "metadata": {
    "collapsed": true
   },
   "outputs": [],
   "source": [
    "plain = BufferGeometry.from_geometry(sphere)"
   ]
  },
  {
   "cell_type": "code",
   "execution_count": null,
   "metadata": {
    "collapsed": true
   },
   "outputs": [],
   "source": [
    "plain"
   ]
  },
  {
   "cell_type": "code",
   "execution_count": null,
   "metadata": {
    "collapsed": true
   },
   "outputs": [],
   "source": []
  },
  {
   "cell_type": "code",
   "execution_count": null,
   "metadata": {
    "collapsed": true
   },
   "outputs": [],
   "source": [
    "# Now from a non-buffer geometry:\n",
    "box = BufferGeometry.from_geometry(BoxGeometry())"
   ]
  },
  {
   "cell_type": "code",
   "execution_count": null,
   "metadata": {
    "collapsed": true
   },
   "outputs": [],
   "source": [
    "box"
   ]
  },
  {
   "cell_type": "code",
   "execution_count": null,
   "metadata": {
    "collapsed": true
   },
   "outputs": [],
   "source": [
    "# This shows that when converting from a regular geometry\n",
    "# to a buffer geometry, it does not use indexing (position attribute\n",
    "# is expanded):\n",
    "box.attributes"
   ]
  },
  {
   "cell_type": "code",
   "execution_count": null,
   "metadata": {
    "collapsed": true
   },
   "outputs": [],
   "source": []
  }
 ],
 "metadata": {
  "kernelspec": {
   "display_name": "C++14",
   "language": "C++14",
   "name": "xeus-cling-cpp14"
  },
  "language_info": {
   "codemirror_mode": "text/x-c++src",
   "file_extension": ".cpp",
   "mimetype": "text/x-c++src",
   "name": "c++",
   "version": "14"
  }
 },
 "nbformat": 4,
 "nbformat_minor": 1
}
