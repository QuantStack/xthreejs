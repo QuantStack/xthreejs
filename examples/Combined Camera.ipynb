{
 "cells": [
  {
   "cell_type": "markdown",
   "metadata": {},
   "source": [
    "# Combined Camera\n",
    "\n",
    "A combined camera allows you to easily switch between a perspective camera and an orthographic camera."
   ]
  },
  {
   "cell_type": "code",
   "execution_count": 1,
   "metadata": {
    "collapsed": true
   },
   "outputs": [],
   "source": [
    "#include <xthreejs/xthreejs.hpp>"
   ]
  },
  {
   "cell_type": "code",
   "execution_count": 2,
   "metadata": {
    "collapsed": true
   },
   "outputs": [],
   "source": [
    "auto mesh1 = xthree::mesh_generator()\n",
    "        .geometry(xthree::sphere_geometry_generator()\n",
    "                .radius(20)\n",
    "                .widthSegments(16)\n",
    "                .heightSegments(16)\n",
    "                .finalize())\n",
    "        .material(xthree::mesh_physical_material_generator()\n",
    "             .color(\"red\")\n",
    "             .finalize())\n",
    "        .position(std::array<double, 3>{-20, 0, 0})\n",
    "        .finalize();\n",
    "\n",
    "auto mesh2 = xthree::mesh_generator()\n",
    "        .geometry(xthree::sphere_geometry_generator()\n",
    "                .radius(20)\n",
    "                .widthSegments(16)\n",
    "                .heightSegments(16)\n",
    "                .finalize())\n",
    "        .material(xthree::mesh_physical_material_generator()\n",
    "             .color(\"green\")\n",
    "             .finalize())\n",
    "        .position(std::array<double, 3>{20, 0, 0})\n",
    "        .finalize();"
   ]
  },
  {
   "cell_type": "code",
   "execution_count": 3,
   "metadata": {
    "collapsed": true
   },
   "outputs": [],
   "source": [
    "int view_width = 600;\n",
    "int view_height = 400;"
   ]
  },
  {
   "cell_type": "code",
   "execution_count": 4,
   "metadata": {
    "collapsed": true
   },
   "outputs": [],
   "source": [
    "auto camera = xthree::combined_camera_generator()\n",
    "    .position({0, 0, 60})\n",
    "    .width(view_width)\n",
    "    .height(view_height)\n",
    "    .finalize();"
   ]
  },
  {
   "cell_type": "code",
   "execution_count": 5,
   "metadata": {},
   "outputs": [],
   "source": [
    "auto key_light = xthree::point_light_generator()\n",
    "    .position({-100, 100, 100})\n",
    "    .finalize();"
   ]
  },
  {
   "cell_type": "code",
   "execution_count": 6,
   "metadata": {
    "collapsed": true
   },
   "outputs": [],
   "source": [
    "auto ambient_light = xthree::ambient_light_generator()\n",
    "    .intensity(0.4)\n",
    "    .finalize();    "
   ]
  },
  {
   "cell_type": "code",
   "execution_count": 7,
   "metadata": {},
   "outputs": [],
   "source": [
    "auto scene = xthree::scene_generator()\n",
    "    .children({\n",
    "        mesh1, \n",
    "        mesh2, \n",
    "        key_light, \n",
    "        ambient_light, \n",
    "        camera})\n",
    "    .finalize();"
   ]
  },
  {
   "cell_type": "code",
   "execution_count": 8,
   "metadata": {
    "collapsed": true
   },
   "outputs": [],
   "source": [
    "auto control = xthree::orbit_controls_generator()\n",
    "    .controlling(camera)\n",
    "    .finalize();"
   ]
  },
  {
   "cell_type": "code",
   "execution_count": 9,
   "metadata": {},
   "outputs": [],
   "source": [
    "auto renderer = xthree::renderer_generator()\n",
    "    .scene(scene)\n",
    "    .camera(camera)\n",
    "    .controls({control})\n",
    "    ._width(view_width)\n",
    "    ._height(view_height)\n",
    "    .finalize();"
   ]
  },
  {
   "cell_type": "code",
   "execution_count": 10,
   "metadata": {},
   "outputs": [
    {
     "data": {
      "application/vnd.jupyter.widget-view+json": {
       "model_id": "095ac67e285c430a9c95ce1a99aae7a9",
       "version_major": 2,
       "version_minor": 0
      },
      "text/plain": [
       "A Jupyter widget"
      ]
     },
     "execution_count": 10,
     "metadata": {},
     "output_type": "execute_result"
    }
   ],
   "source": [
    "renderer"
   ]
  },
  {
   "cell_type": "code",
   "execution_count": 11,
   "metadata": {
    "collapsed": true
   },
   "outputs": [],
   "source": [
    "camera.mode = std::string(\"orthographic\");"
   ]
  },
  {
   "cell_type": "code",
   "execution_count": 12,
   "metadata": {
    "collapsed": true
   },
   "outputs": [],
   "source": [
    "camera.mode = std::string(\"perspective\");"
   ]
  },
  {
   "cell_type": "code",
   "execution_count": null,
   "metadata": {
    "collapsed": true
   },
   "outputs": [],
   "source": []
  }
 ],
 "metadata": {
  "kernelspec": {
   "display_name": "C++14",
   "language": "C++14",
   "name": "xeus-cling-cpp14"
  },
  "language_info": {
   "codemirror_mode": "text/x-c++src",
   "file_extension": ".cpp",
   "mimetype": "text/x-c++src",
   "name": "c++",
   "version": "14"
  }
 },
 "nbformat": 4,
 "nbformat_minor": 2
}
