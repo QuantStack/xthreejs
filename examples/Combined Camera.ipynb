{
 "cells": [
  {
   "cell_type": "markdown",
   "metadata": {},
   "source": [
    "# Combined Camera\n",
    "\n",
    "A combined camera allows you to easily switch between a perspective camera and an orthographic camera."
   ]
  },
  {
   "cell_type": "code",
   "execution_count": 1,
   "metadata": {},
   "outputs": [],
   "source": [
    "#include <xthreejs/xbase.hpp>\n",
    "#include <xthreejs/xcore.hpp>\n",
    "#include <xthreejs/xobjects.hpp>\n",
    "#include <xthreejs/xcameras.hpp>\n",
    "#include <xthreejs/xcontrols.hpp>\n",
    "#include <xthreejs/xlights.hpp>\n",
    "#include <xthreejs/xgeometries.hpp>\n",
    "#include <xthreejs/xmaterials.hpp>\n",
    "#include <xthreejs/xscenes.hpp>\n",
    "#include <xthreejs/xrenderers.hpp>"
   ]
  },
  {
   "cell_type": "code",
   "execution_count": 2,
   "metadata": {},
   "outputs": [],
   "source": [
    "auto mesh1 = xthree::mesh_generator()\n",
    "        .geometry(xthree::sphere_geometry_generator()\n",
    "                .radius(20)\n",
    "                .widthSegments(16)\n",
    "                .heightSegments(16)\n",
    "                .finalize())\n",
    "        .material(xthree::mesh_physical_material_generator()\n",
    "             .color(\"red\")\n",
    "             .finalize())\n",
    "        .position(std::array<double, 3>{-20, 0, 0})\n",
    "        .finalize();\n",
    "\n",
    "auto mesh2 = xthree::mesh_generator()\n",
    "        .geometry(xthree::sphere_geometry_generator()\n",
    "                .radius(20)\n",
    "                .widthSegments(16)\n",
    "                .heightSegments(16)\n",
    "                .finalize())\n",
    "        .material(xthree::mesh_physical_material_generator()\n",
    "             .color(\"green\")\n",
    "             .finalize())\n",
    "        .position(std::array<double, 3>{20, 0, 0})\n",
    "        .finalize();"
   ]
  },
  {
   "cell_type": "code",
   "execution_count": 3,
   "metadata": {},
   "outputs": [],
   "source": [
    "int view_width = 600;\n",
    "int view_height = 400;"
   ]
  },
  {
   "cell_type": "code",
   "execution_count": 4,
   "metadata": {},
   "outputs": [],
   "source": [
    "auto camera = xthree::combined_camera_generator()\n",
    "    .position({0, 0, 60})\n",
    "    .width(view_width)\n",
    "    .height(view_height)\n",
    "    .finalize();"
   ]
  },
  {
   "cell_type": "code",
   "execution_count": 5,
   "metadata": {},
   "outputs": [],
   "source": [
    "auto key_light = xthree::point_light_generator()\n",
    "    .position({-100, 100, 100})\n",
    "    .finalize();"
   ]
  },
  {
   "cell_type": "code",
   "execution_count": 6,
   "metadata": {},
   "outputs": [],
   "source": [
    "auto ambient_light = xthree::ambient_light_generator()\n",
    "    .intensity(0.4)\n",
    "    .finalize();    "
   ]
  },
  {
   "cell_type": "code",
   "execution_count": 7,
   "metadata": {},
   "outputs": [],
   "source": [
    "auto scene = xthree::scene_generator()\n",
    "    .children(std::vector<xw::xholder<xthree::xobject3d_base>>{\n",
    "        mesh1, \n",
    "        mesh2, \n",
    "        key_light, \n",
    "        ambient_light, \n",
    "        camera})\n",
    "    .finalize();"
   ]
  },
  {
   "cell_type": "code",
   "execution_count": 8,
   "metadata": {},
   "outputs": [],
   "source": [
    "auto control = xthree::orbit_controls_generator()\n",
    "    .controlling(camera)\n",
    "    .finalize();"
   ]
  },
  {
   "cell_type": "code",
   "execution_count": 9,
   "metadata": {},
   "outputs": [],
   "source": [
    "auto renderer = xthree::renderer_generator()\n",
    "    .scene(scene)\n",
    "    .camera(camera)\n",
    "    .controls({control})\n",
    "    ._width(view_width)\n",
    "    ._height(view_height)\n",
    "    .finalize();"
   ]
  },
  {
   "cell_type": "code",
   "execution_count": 10,
   "metadata": {},
   "outputs": [
    {
     "data": {
      "application/vnd.jupyter.widget-view+json": {
       "model_id": "334913aeded34cc3b6c7e5ca1c81d877",
       "version_major": 2,
       "version_minor": 0
      },
      "text/plain": [
       "A Jupyter widget"
      ]
     },
     "metadata": {},
     "output_type": "display_data"
    }
   ],
   "source": [
    "renderer.display();"
   ]
  },
  {
   "cell_type": "code",
   "execution_count": 11,
   "metadata": {},
   "outputs": [],
   "source": [
    "camera.mode = std::string(\"orthographic\");"
   ]
  },
  {
   "cell_type": "code",
   "execution_count": 12,
   "metadata": {},
   "outputs": [],
   "source": [
    "camera.mode = std::string(\"perspective\");"
   ]
  }
 ],
 "metadata": {
  "kernelspec": {
   "display_name": "xeus C++14",
   "language": "",
   "name": "xeus-cling-cpp14"
  },
  "language_info": {
   "codemirror_mode": "text/x-c++src",
   "file_extension": ".cpp",
   "mimetype": "text/x-c++src",
   "name": "c++",
   "version": ""
  }
 },
 "nbformat": 4,
 "nbformat_minor": 2
}
