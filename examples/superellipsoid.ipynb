{
 "cells": [
  {
   "cell_type": "markdown",
   "metadata": {},
   "source": [
    "# How to use pythreejs to plot a superellipsoid"
   ]
  },
  {
   "cell_type": "markdown",
   "metadata": {},
   "source": [
    "A superellipsoid is given by a parametric function and the equation is very similar to an ellipse equation. We only have different exponents which give us different shapes. For more informations: https://en.wikipedia.org/wiki/Superellipsoid.\n",
    "\n",
    "The idea of this example is to construct the mesh of the square $[0, 1]\\times[0,1]$ and to do a projection of these points on the superillipse which is the 2D shape and then to do a spherical product to have the 3D shape."
   ]
  },
  {
   "cell_type": "code",
   "execution_count": 1,
   "metadata": {
    "collapsed": true
   },
   "outputs": [],
   "source": [
    "#include <xthreejs/xthreejs.hpp>\n",
    "#include <xwidgets/xslider.hpp>\n",
    "#include <xwidgets/xbox.hpp>"
   ]
  },
  {
   "cell_type": "code",
   "execution_count": 4,
   "metadata": {
    "collapsed": true
   },
   "outputs": [],
   "source": [
    "#include <xtensor/xtensor.hpp>\n",
    "#include <xtensor/xarray.hpp>"
   ]
  },
  {
   "cell_type": "code",
   "execution_count": 5,
   "metadata": {},
   "outputs": [
    {
     "name": "stderr",
     "output_type": "stream",
     "text": [
      "In file included from input_line_1:1:\n",
      "In file included from /home/loic/miniconda3/envs/cling/bin/../lib/gcc/../../gcc/include/c++/new:40:\n",
      "In file included from /home/loic/miniconda3/envs/cling/bin/../lib/gcc/../../gcc/include/c++/exception:143:\n",
      "In file included from /home/loic/miniconda3/envs/cling/bin/../lib/gcc/../../gcc/include/c++/bits/nested_exception.h:40:\n",
      "In file included from /home/loic/miniconda3/envs/cling/bin/../lib/gcc/../../gcc/include/c++/bits/move.h:54:\n",
      "\u001b[1m/home/loic/miniconda3/envs/cling/bin/../lib/gcc/../../gcc/include/c++/type_traits:2487:5: \u001b[0m\u001b[0;1;31merror: \u001b[0m\u001b[1mno type named 'type' in 'std::common_type<double, double>'\u001b[0m\n",
      "    using common_type_t = typename common_type<_Tp...>::type;\n",
      "\u001b[0;1;32m    ^~~~~\n",
      "\u001b[0m\u001b[1m/home/loic/miniconda3/envs/cling/include/xtensor/xbuilder.hpp:370:30: \u001b[0m\u001b[0;1;30mnote: \u001b[0min instantiation of template type alias 'common_type_t' requested here\u001b[0m\n",
      "        using fp_type = std::common_type_t<T, double>;\n",
      "\u001b[0;1;32m                             ^\n",
      "\u001b[0m\u001b[1minput_line_11:17:29: \u001b[0m\u001b[0;1;30mnote: \u001b[0min instantiation of function template specialization 'xt::linspace<double>' requested here\u001b[0m\n",
      "        auto linspace = xt::linspace<double>(-1., 1., n);\n",
      "\u001b[0;1;32m                            ^\n",
      "\u001b[0mIn file included from input_line_8:1:\n",
      "In file included from /home/loic/miniconda3/envs/cling/include/xtensor/xtensor.hpp:19:\n",
      "In file included from /home/loic/miniconda3/envs/cling/include/xtensor/xcontainer.hpp:21:\n",
      "In file included from /home/loic/miniconda3/envs/cling/include/xtensor/xiterable.hpp:12:\n",
      "In file included from /home/loic/miniconda3/envs/cling/include/xtensor/xiterator.hpp:24:\n",
      "\u001b[1m/home/loic/miniconda3/envs/cling/include/xtensor/xshape.hpp:60:79: \u001b[0m\u001b[0;1;31merror: \u001b[0m\u001b[1mno matching function for call to 'imax'\u001b[0m\n",
      "        struct max_array_size<T, Ts...> : std::integral_constant<std::size_t, imax(std::tuple_size<T>::value, max_array...\n",
      "\u001b[0;1;32m                                                                              ^~~~\n",
      "\u001b[0m\u001b[1m/home/loic/miniconda3/envs/cling/include/xtensor/xshape.hpp:96:97: \u001b[0m\u001b[0;1;30mnote: \u001b[0min instantiation of template class 'xt::detail::max_array_size<std::array<unsigned long, 1> >' requested here\u001b[0m\n",
      "            using type = std::array<typename std::common_type<typename S::value_type...>::type, max_array_size<S...>::value>;\n",
      "\u001b[0;1;32m                                                                                                ^\n",
      "\u001b[0m\u001b[1m/home/loic/miniconda3/envs/cling/include/xtensor/xshape.hpp:108:35: \u001b[0m\u001b[0;1;30mnote: \u001b[0min instantiation of template class 'xt::detail::promote_index_impl<true, std::array<unsigned long, 1> >' requested here\u001b[0m\n",
      "            using type = typename promote_index_impl<only_array<S...>::value, S...>::type;\n",
      "\u001b[0;1;32m                                  ^\n",
      "\u001b[0m\u001b[1m/home/loic/miniconda3/envs/cling/include/xtensor/xshape.hpp:113:5: \u001b[0m\u001b[0;1;30mnote: \u001b[0min instantiation of template class 'xt::detail::promote_index<std::array<unsigned long, 1> >' requested here\u001b[0m\n",
      "    using promote_shape_t = typename detail::promote_index<S...>::type;\n",
      "\u001b[0;1;32m    ^\n",
      "\u001b[0m\u001b[1m/home/loic/miniconda3/envs/cling/include/xtensor/xfunction.hpp:146:34: \u001b[0m\u001b[0;1;30mnote: \u001b[0min instantiation of template type alias 'promote_shape_t' requested here\u001b[0m\n",
      "        using inner_shape_type = promote_shape_t<typename std::decay_t<CT>::shape_type...>;\n",
      "\u001b[0;1;32m                                 ^\n",
      "\u001b[0m\u001b[1m/home/loic/miniconda3/envs/cling/include/xtensor/xiterable.hpp:44:43: \u001b[0m\u001b[0;1;30mnote: \u001b[0min instantiation of template class 'xt::xiterable_inner_types<xt::xfunction_base<xt::detail::cast<double>::functor<int>,\n",
      "      double, const xt::xgenerator<xt::detail::arange_impl<int>, int, std::array<unsigned long, 1> > > >' requested here\u001b[0m\n",
      "        using inner_shape_type = typename iterable_types::inner_shape_type;\n",
      "\u001b[0;1;32m                                          ^\n",
      "\u001b[0m\u001b[1m/home/loic/miniconda3/envs/cling/include/xtensor/xfunction.hpp:171:36: \u001b[0m\u001b[0;1;30mnote: \u001b[0min instantiation of template class 'xt::xconst_iterable<xt::xfunction_base<xt::detail::cast<double>::functor<int>, double,\n",
      "      const xt::xgenerator<xt::detail::arange_impl<int>, int, std::array<unsigned long, 1> > > >' requested here\u001b[0m\n",
      "    class xfunction_base : private xconst_iterable<xfunction_base<F, R, CT...>>\n",
      "\u001b[0;1;32m                                   ^\n",
      "\u001b[0m\u001b[1m/home/loic/miniconda3/envs/cling/include/xtensor/xfunction.hpp:503:30: \u001b[0m\u001b[0;1;30mnote: \u001b[0min instantiation of template class 'xt::xfunction_base<xt::detail::cast<double>::functor<int>, double, const\n",
      "      xt::xgenerator<xt::detail::arange_impl<int>, int, std::array<unsigned long, 1> > >' requested here\u001b[0m\n",
      "    class xfunction : public xfunction_base<F, R, CT...>,\n",
      "\u001b[0;1;32m                             ^\n",
      "\u001b[0m\u001b[1m/home/loic/miniconda3/envs/cling/include/xtensor/xbuilder.hpp:372:16: \u001b[0m\u001b[0;1;30mnote: \u001b[0min instantiation of template class 'xt::xfunction<xt::detail::cast<double>::functor<int>, double, const\n",
      "      xt::xgenerator<xt::detail::arange_impl<int>, int, std::array<unsigned long, 1> > >' requested here\u001b[0m\n",
      "        return cast<T>(detail::make_xgenerator(detail::arange_impl<fp_type>(fp_type(start), fp_type(stop), step), {num_...\n",
      "\u001b[0;1;32m               ^\n",
      "\u001b[0m\u001b[1minput_line_11:17:29: \u001b[0m\u001b[0;1;30mnote: \u001b[0min instantiation of function template specialization 'xt::linspace<double>' requested here\u001b[0m\n",
      "        auto linspace = xt::linspace<double>(-1., 1., n);\n",
      "\u001b[0;1;32m                            ^\n",
      "\u001b[0m\u001b[1m/home/loic/miniconda3/envs/cling/include/xtensor/xshape.hpp:44:46: \u001b[0m\u001b[0;1;30mnote: \u001b[0mcandidate template ignored: substitution failure [with T1 = unsigned long, T2 = unsigned long]: no type named 'type' in\n",
      "      'std::common_type<unsigned long, unsigned long>'\u001b[0m\n",
      "        constexpr std::common_type_t<T1, T2> imax(const T1& a, const T2& b)\n",
      "\u001b[0;1;32m                                             ^\n",
      "\u001b[0m\u001b[1minput_line_11:28:42: \u001b[0m\u001b[0;1;31merror: \u001b[0m\u001b[1muse of alias template 'xt::xshape' requires template arguments\u001b[0m\n",
      "        xt::xtensor<float, 2> coords(xt::xshape{std::pow(n, 4) - 4, 3}, 0.);\n",
      "\u001b[0;1;32m                                         ^\n",
      "\u001b[0m\u001b[1m/home/loic/miniconda3/envs/cling/include/xtensor/xtensor_forward.hpp:131:5: \u001b[0m\u001b[0;1;30mnote: \u001b[0mtemplate is declared here\u001b[0m\n",
      "    using xshape = fixed_shape<N...>;\n",
      "\u001b[0;1;32m    ^\n",
      "\u001b[0m\u001b[1minput_line_11:28:48: \u001b[0m\u001b[0;1;31merror: \u001b[0m\u001b[1mexpected ')'\u001b[0m\n",
      "        xt::xtensor<float, 2> coords(xt::xshape{std::pow(n, 4) - 4, 3}, 0.);\n",
      "\u001b[0;1;32m                                               ^\n",
      "\u001b[0m\u001b[1minput_line_11:28:37: \u001b[0m\u001b[0;1;30mnote: \u001b[0mto match this '('\u001b[0m\n",
      "        xt::xtensor<float, 2> coords(xt::xshape{std::pow(n, 4) - 4, 3}, 0.);\n",
      "\u001b[0;1;32m                                    ^\n",
      "\u001b[0mIn file included from input_line_5:1:\n",
      "In file included from /home/loic/miniconda3/envs/cling/include/xeus/xinterpreter.hpp:12:\n",
      "In file included from /home/loic/miniconda3/envs/cling/bin/../lib/gcc/../../gcc/include/c++/functional:54:\n",
      "In file included from /home/loic/miniconda3/envs/cling/bin/../lib/gcc/../../gcc/include/c++/tuple:39:\n",
      "In file included from /home/loic/miniconda3/envs/cling/bin/../lib/gcc/../../gcc/include/c++/array:39:\n",
      "In file included from /home/loic/miniconda3/envs/cling/bin/../lib/gcc/../../gcc/include/c++/stdexcept:39:\n",
      "In file included from /home/loic/miniconda3/envs/cling/bin/../lib/gcc/../../gcc/include/c++/string:40:\n",
      "In file included from /home/loic/miniconda3/envs/cling/bin/../lib/gcc/../../gcc/include/c++/bits/char_traits.h:39:\n",
      "\u001b[1m/home/loic/miniconda3/envs/cling/bin/../lib/gcc/../../gcc/include/c++/bits/stl_algobase.h:385:14: \u001b[0m\u001b[0;1;31merror: \u001b[0m\u001b[1mno matching function for call to '__copy_m'\u001b[0m\n",
      "      return std::__copy_move<_IsMove, __simple,\n",
      "\u001b[0;1;32m             ^~~~~~~~~~~~~~~~~~~~~~~~~~~~~~~~~~~\n",
      "\u001b[0m\u001b[1m/home/loic/miniconda3/envs/cling/bin/../lib/gcc/../../gcc/include/c++/bits/stl_algobase.h:422:23: \u001b[0m\u001b[0;1;30mnote: \u001b[0min instantiation of function template specialization 'std::__copy_move_a<false, const unsigned long *, const unsigned long *>'\n",
      "      requested here\u001b[0m\n",
      "      return _OI(std::__copy_move_a<_IsMove>(std::__niter_base(__first),\n",
      "\u001b[0;1;32m                      ^\n"
     ]
    },
    {
     "name": "stderr",
     "output_type": "stream",
     "text": [
      "\u001b[0m\u001b[1m/home/loic/miniconda3/envs/cling/bin/../lib/gcc/../../gcc/include/c++/bits/stl_algobase.h:454:20: \u001b[0m\u001b[0;1;30mnote: \u001b[0min instantiation of function template specialization 'std::__copy_move_a2<false, const unsigned long *, const unsigned long *>'\n",
      "      requested here\u001b[0m\n",
      "      return (std::__copy_move_a2<__is_move_iterator<_II>::__value>\n",
      "\u001b[0;1;32m                   ^\n",
      "\u001b[0m\u001b[1m/home/loic/miniconda3/envs/cling/include/xtl/xsequence.hpp:122:22: \u001b[0m\u001b[0;1;30mnote: \u001b[0min instantiation of function template specialization 'std::copy<const unsigned long *, const unsigned long *>' requested here\u001b[0m\n",
      "                std::copy(std::begin(r), std::end(r), std::begin(ret));\n",
      "\u001b[0;1;32m                     ^\n",
      "\u001b[0m\u001b[1m/home/loic/miniconda3/envs/cling/include/xtl/xsequence.hpp:151:36: \u001b[0m\u001b[0;1;30mnote: \u001b[0min instantiation of function template specialization 'xtl::detail::sequence_forwarder<std::array<unsigned long, 1>, unsigned\n",
      "      long [1], void>::forward<unsigned long const (&)[1]>' requested here\u001b[0m\n",
      "        return forwarder::template forward<A>(s);\n",
      "\u001b[0;1;32m                                   ^\n",
      "\u001b[0m\u001b[1m/home/loic/miniconda3/envs/cling/bin/../lib/gcc/../../gcc/include/c++/bits/stl_algobase.h:357:9: \u001b[0m\u001b[0;1;30mnote: \u001b[0mcandidate template ignored: deduced conflicting types for parameter '_Tp' ('unsigned long' vs. 'const unsigned long')\u001b[0m\n",
      "        __copy_m(const _Tp* __first, const _Tp* __last, _Tp* __result)\n",
      "\u001b[0;1;32m        ^\n",
      "\u001b[0mIn file included from input_line_8:1:\n",
      "In file included from /home/loic/miniconda3/envs/cling/include/xtensor/xtensor.hpp:19:\n",
      "In file included from /home/loic/miniconda3/envs/cling/include/xtensor/xcontainer.hpp:23:\n",
      "In file included from /home/loic/miniconda3/envs/cling/include/xtensor/xmath.hpp:24:\n",
      "In file included from /home/loic/miniconda3/envs/cling/include/xtensor/xoperation.hpp:19:\n",
      "\u001b[1m/home/loic/miniconda3/envs/cling/include/xtensor/xfunction.hpp:1094:11: \u001b[0m\u001b[0;1;31merror: \u001b[0m\u001b[1mtype 'xt::xfunction<xt::detail::cast<double>::functor<int>, double, const xt::xgenerator<xt::detail::arange_impl<int>, int,\n",
      "      std::array<unsigned long, 1> > >::base_type' (aka 'xfunction_base<xt::detail::cast<double>::functor<int>, double, const\n",
      "      xt::xgenerator<xt::detail::arange_impl<int>, int, std::array<unsigned long, 1> > >') is not a direct or virtual base of\n",
      "      'xt::xfunction<xt::detail::cast<double>::functor<int>, double, const xt::xgenerator<xt::detail::arange_impl<int>, int,\n",
      "      std::array<unsigned long, 1> > >'\u001b[0m\n",
      "        : base_type(std::forward<Func>(f), std::forward<CTA>(e)...)\n",
      "\u001b[0;1;32m          ^~~~~~~~~\n",
      "\u001b[0m\u001b[1m/home/loic/miniconda3/envs/cling/include/xtensor/xoperation.hpp:248:20: \u001b[0m\u001b[0;1;30mnote: \u001b[0min instantiation of function template specialization 'xt::xfunction<xt::detail::cast<double>::functor<int>, double, const\n",
      "      xt::xgenerator<xt::detail::arange_impl<int>, int, std::array<unsigned long, 1> >\n",
      "      >::xfunction<xt::detail::cast<double>::functor<int>, xt::xgenerator<xt::detail::arange_impl<int>, int,\n",
      "      std::array<unsigned long, 1> > , void>' requested here\u001b[0m\n",
      "            return type(functor_type(), std::forward<E>(e)...);\n",
      "\u001b[0;1;32m                   ^\n",
      "\u001b[0m\u001b[1m/home/loic/miniconda3/envs/cling/include/xtensor/xbuilder.hpp:372:16: \u001b[0m\u001b[0;1;30mnote: \u001b[0min instantiation of function template specialization 'xt::cast<double, xt::xgenerator<xt::detail::arange_impl<int>, int,\n",
      "      std::array<unsigned long, 1> > >' requested here\u001b[0m\n",
      "        return cast<T>(detail::make_xgenerator(detail::arange_impl<fp_type>(fp_type(start), fp_type(stop), step), {num_...\n",
      "\u001b[0;1;32m               ^\n",
      "\u001b[0mIn file included from input_line_8:1:\n",
      "In file included from /home/loic/miniconda3/envs/cling/include/xtensor/xtensor.hpp:19:\n",
      "In file included from /home/loic/miniconda3/envs/cling/include/xtensor/xcontainer.hpp:19:\n",
      "\u001b[1m/home/loic/miniconda3/envs/cling/include/xtl/xsequence.hpp:108:26: \u001b[0m\u001b[0;1;31merror: \u001b[0m\u001b[1mno matching function for call to 'begin'\u001b[0m\n",
      "                return R(std::begin(r), std::end(r));\n",
      "\u001b[0;1;32m                         ^~~~~~~~~~\n",
      "\u001b[0m\u001b[1m/home/loic/miniconda3/envs/cling/include/xtl/xsequence.hpp:151:36: \u001b[0m\u001b[0;1;30mnote: \u001b[0min instantiation of function template specialization 'xtl::detail::sequence_forwarder<int, unsigned long, void>::forward<const\n",
      "      unsigned long &>' requested here\u001b[0m\n",
      "        return forwarder::template forward<A>(s);\n",
      "\u001b[0;1;32m                                   ^\n",
      "\u001b[0m\u001b[1m/home/loic/miniconda3/envs/cling/bin/../lib/gcc/../../gcc/include/c++/initializer_list:89:5: \u001b[0m\u001b[0;1;30mnote: \u001b[0mcandidate template ignored: could not match 'initializer_list<type-parameter-0-0>' against 'unsigned long'\u001b[0m\n",
      "    begin(initializer_list<_Tp> __ils) noexcept\n",
      "\u001b[0;1;32m    ^\n",
      "\u001b[0m\u001b[1m/home/loic/miniconda3/envs/cling/bin/../lib/gcc/../../gcc/include/c++/bits/range_access.h:48:5: \u001b[0m\u001b[0;1;30mnote: \u001b[0mcandidate template ignored: substitution failure [with _Container = const unsigned long]: member reference base type\n",
      "      'const unsigned long' is not a structure or union\u001b[0m\n",
      "    begin(_Container& __cont) -> decltype(__cont.begin())\n",
      "\u001b[0;1;32m    ^                                           ~\n",
      "\u001b[0m\u001b[1m/home/loic/miniconda3/envs/cling/bin/../lib/gcc/../../gcc/include/c++/bits/range_access.h:58:5: \u001b[0m\u001b[0;1;30mnote: \u001b[0mcandidate template ignored: substitution failure [with _Container = unsigned long]: member reference base type\n",
      "      'const unsigned long' is not a structure or union\u001b[0m\n",
      "    begin(const _Container& __cont) -> decltype(__cont.begin())\n",
      "\u001b[0;1;32m    ^                                                 ~\n",
      "\u001b[0m\u001b[1m/home/loic/miniconda3/envs/cling/bin/../lib/gcc/../../gcc/include/c++/bits/range_access.h:87:5: \u001b[0m\u001b[0;1;30mnote: \u001b[0mcandidate template ignored: could not match '_Tp [_Nm]' against 'const unsigned long'\u001b[0m\n",
      "    begin(_Tp (&__arr)[_Nm])\n",
      "\u001b[0;1;32m    ^\n",
      "\u001b[0m\u001b[1m/home/loic/miniconda3/envs/cling/bin/../lib/gcc/../../gcc/include/c++/valarray:1201:5: \u001b[0m\u001b[0;1;30mnote: \u001b[0mcandidate template ignored: could not match 'valarray<type-parameter-0-0>' against 'const unsigned long'\u001b[0m\n",
      "    begin(valarray<_Tp>& __va)\n",
      "\u001b[0;1;32m    ^\n",
      "\u001b[0m\u001b[1m/home/loic/miniconda3/envs/cling/bin/../lib/gcc/../../gcc/include/c++/valarray:1211:5: \u001b[0m\u001b[0;1;30mnote: \u001b[0mcandidate template ignored: could not match 'valarray<type-parameter-0-0>' against 'const unsigned long'\u001b[0m\n",
      "    begin(const valarray<_Tp>& __va)\n",
      "\u001b[0;1;32m    ^\n",
      "\u001b[0mIn file included from input_line_8:1:\n",
      "In file included from /home/loic/miniconda3/envs/cling/include/xtensor/xtensor.hpp:19:\n",
      "In file included from /home/loic/miniconda3/envs/cling/include/xtensor/xcontainer.hpp:23:\n",
      "In file included from /home/loic/miniconda3/envs/cling/include/xtensor/xmath.hpp:23:\n",
      "In file included from /home/loic/miniconda3/envs/cling/include/xtensor/xaccumulator.hpp:18:\n",
      "\u001b[1m/home/loic/miniconda3/envs/cling/include/xtensor/xstrides.hpp:328:41: \u001b[0m\u001b[0;1;31merror: \u001b[0m\u001b[1mno member named 'size' in 'std::array<unsigned long, 0>'\u001b[0m\n",
      "        bool trivial_broadcast = (input.size() == output.size());\n",
      "\u001b[0;1;32m                                  ~~~~~ ^\n",
      "\u001b[0m\u001b[1m/home/loic/miniconda3/envs/cling/include/xtensor/xbroadcast.hpp:206:13: \u001b[0m\u001b[0;1;30mnote: \u001b[0min instantiation of function template specialization 'xt::broadcast_shape<std::array<unsigned long, 0>, int>' requested here\u001b[0m\n",
      "        xt::broadcast_shape(m_e.shape(), m_shape);\n",
      "\u001b[0;1;32m            ^\n",
      "\u001b[0m\u001b[1m/home/loic/miniconda3/envs/cling/include/xtensor/xbroadcast.hpp:165:16: \u001b[0m\u001b[0;1;30mnote: \u001b[0min instantiation of function template specialization 'xt::xbroadcast<xt::xscalar<const double>, unsigned\n",
      "      long>::xbroadcast<double, int>' requested here\u001b[0m\n",
      "        return broadcast_type(std::forward<E>(e), xtl::forward_sequence<shape_type>(s));\n",
      "\u001b[0;1;32m               ^\n",
      "\u001b[0mIn file included from input_line_8:1:\n",
      "In file included from /home/loic/miniconda3/envs/cling/include/xtensor/xtensor.hpp:19:\n",
      "In file included from /home/loic/miniconda3/envs/cling/include/xtensor/xcontainer.hpp:23:\n",
      "In file included from /home/loic/miniconda3/envs/cling/include/xtensor/xmath.hpp:23:\n",
      "In file included from /home/loic/miniconda3/envs/cling/include/xtensor/xaccumulator.hpp:18:\n"
     ]
    },
    {
     "name": "stderr",
     "output_type": "stream",
     "text": [
      "\u001b[1m/home/loic/miniconda3/envs/cling/include/xtensor/xstrides.hpp:330:37: \u001b[0m\u001b[0;1;31merror: \u001b[0m\u001b[1mtype 'int' cannot be used prior to '::' because it has no members\u001b[0m\n",
      "        using value_type = typename S2::value_type;\n",
      "\u001b[0;1;32m                                    ^\n",
      "\u001b[0m\u001b[1m/home/loic/miniconda3/envs/cling/include/xtensor/xstrides.hpp:331:35: \u001b[0m\u001b[0;1;31merror: \u001b[0m\u001b[1mmember reference base type 'int' is not a structure or union\u001b[0m\n",
      "        auto output_index = output.size();\n",
      "\u001b[0;1;32m                            ~~~~~~^~~~~\n",
      "\u001b[0m\u001b[1m/home/loic/miniconda3/envs/cling/include/xtensor/xstrides.hpp:332:34: \u001b[0m\u001b[0;1;31merror: \u001b[0m\u001b[1mno member named 'size' in 'std::array<unsigned long, 0>'\u001b[0m\n",
      "        auto input_index = input.size();\n",
      "\u001b[0;1;32m                           ~~~~~ ^\n",
      "\u001b[0m"
     ]
    },
    {
     "ename": "Interpreter Error",
     "evalue": "",
     "output_type": "error",
     "traceback": [
      "Interpreter Error: "
     ]
    }
   ],
   "source": [
    "struct superellipsoid\n",
    "{\n",
    "    std::size_t n;\n",
    "    std::array<double, 3> r;\n",
    "    std::array<std::size_t, 2> m;\n",
    "    \n",
    "    xt::xarray<double> x_box, y_box;\n",
    "\n",
    "    superellipsoid(std::size_t n,\n",
    "                   std::array<double, 3> r,\n",
    "                   std::array<std::size_t, 2> m\n",
    "                  ):n{n}, r{r}, m{m}\n",
    "    {\n",
    "    }\n",
    "    \n",
    "    auto superellipse(double rx, double ry, std::size_t m)\n",
    "    {\n",
    "        auto linspace = xt::linspace<double>(-1., 1., n);\n",
    "        auto ones1 = xt::ones<double>(n-1);    \n",
    "        auto ones2 = xt::ones<double>(n-2);    \n",
    "        //auto x_box = xt::xconcatenate(xt::xtuple(linspace, ones2, linspace, -ones2));\n",
    "        //auto y_box = xt::xconcatenate(xt::xtuple(-ones1, linspace, ones2, xt::view(linspace, xt.range(0, n-1))));\n",
    "        \n",
    "        //return std::make_tuple(x_box*rx*xt::pow((1. - .5*xt::pow(xt::abs(y_box), 2./m), m/2.),  y_box*ry*(1. - .5*np.abs(x_box)**(2./m))**(m/2.)\n",
    "        //return x_box*rx*xt::pow((1. - .5*xt::pow(xt::abs(y_box), 2./m), m/2.);\n",
    "    }\n",
    "\n",
    "    auto get_coords() const\n",
    "    {\n",
    "        xt::xtensor<float, 2> coords(xt::xshape{std::pow(n, 4) - 4, 3}, 0.);\n",
    "        \n",
    "        return coords;\n",
    "    }\n",
    "};\n"
   ]
  },
  {
   "cell_type": "code",
   "execution_count": 6,
   "metadata": {},
   "outputs": [
    {
     "name": "stderr",
     "output_type": "stream",
     "text": [
      "In file included from input_line_1:1:\n",
      "In file included from /home/loic/miniconda3/envs/cling/bin/../lib/gcc/../../gcc/include/c++/new:40:\n",
      "In file included from /home/loic/miniconda3/envs/cling/bin/../lib/gcc/../../gcc/include/c++/exception:143:\n",
      "In file included from /home/loic/miniconda3/envs/cling/bin/../lib/gcc/../../gcc/include/c++/bits/nested_exception.h:40:\n",
      "In file included from /home/loic/miniconda3/envs/cling/bin/../lib/gcc/../../gcc/include/c++/bits/move.h:54:\n",
      "\u001b[1m/home/loic/miniconda3/envs/cling/bin/../lib/gcc/../../gcc/include/c++/type_traits:2487:5: \u001b[0m\u001b[0;1;31merror: \u001b[0m\u001b[1mno type named 'type' in 'std::common_type<double, double>'\u001b[0m\n",
      "    using common_type_t = typename common_type<_Tp...>::type;\n",
      "\u001b[0;1;32m    ^~~~~\n",
      "\u001b[0m\u001b[1m/home/loic/miniconda3/envs/cling/include/xtensor/xbuilder.hpp:370:30: \u001b[0m\u001b[0;1;30mnote: \u001b[0min instantiation of template type alias 'common_type_t' requested here\u001b[0m\n",
      "        using fp_type = std::common_type_t<T, double>;\n",
      "\u001b[0;1;32m                             ^\n",
      "\u001b[0m\u001b[1minput_line_12:2:22: \u001b[0m\u001b[0;1;30mnote: \u001b[0min instantiation of function template specialization 'xt::linspace<double>' requested here\u001b[0m\n",
      " auto linspace = xt::linspace<double>(-1., 1., 100);\n",
      "\u001b[0;1;32m                     ^\n",
      "\u001b[0mIn file included from input_line_5:1:\n",
      "In file included from /home/loic/miniconda3/envs/cling/include/xeus/xinterpreter.hpp:12:\n",
      "In file included from /home/loic/miniconda3/envs/cling/bin/../lib/gcc/../../gcc/include/c++/functional:54:\n",
      "In file included from /home/loic/miniconda3/envs/cling/bin/../lib/gcc/../../gcc/include/c++/tuple:39:\n",
      "In file included from /home/loic/miniconda3/envs/cling/bin/../lib/gcc/../../gcc/include/c++/array:39:\n",
      "In file included from /home/loic/miniconda3/envs/cling/bin/../lib/gcc/../../gcc/include/c++/stdexcept:39:\n",
      "In file included from /home/loic/miniconda3/envs/cling/bin/../lib/gcc/../../gcc/include/c++/string:51:\n",
      "\u001b[1m/home/loic/miniconda3/envs/cling/bin/../lib/gcc/../../gcc/include/c++/bits/range_access.h:59:21: \u001b[0m\u001b[0;1;31merror: \u001b[0m\u001b[1mno member named 'begin' in 'std::array<unsigned long, 1>'\u001b[0m\n",
      "    { return __cont.begin(); }\n",
      "\u001b[0;1;32m             ~~~~~~ ^\n",
      "\u001b[0m\u001b[1m/home/loic/miniconda3/envs/cling/include/xtl/xsequence.hpp:122:60: \u001b[0m\u001b[0;1;30mnote: \u001b[0min instantiation of function template specialization 'std::begin<std::array<unsigned long, 1> >' requested here\u001b[0m\n",
      "                std::copy(std::begin(r), std::end(r), std::begin(ret));\n",
      "\u001b[0;1;32m                                                           ^\n",
      "\u001b[0m\u001b[1m/home/loic/miniconda3/envs/cling/include/xtl/xsequence.hpp:151:36: \u001b[0m\u001b[0;1;30mnote: \u001b[0min instantiation of function template specialization 'xtl::detail::sequence_forwarder<std::array<unsigned long, 1>, unsigned\n",
      "      long [1], void>::forward<unsigned long const (&)[1]>' requested here\u001b[0m\n",
      "        return forwarder::template forward<A>(s);\n",
      "\u001b[0;1;32m                                   ^\n",
      "\u001b[0mIn file included from input_line_5:1:\n",
      "In file included from /home/loic/miniconda3/envs/cling/include/xeus/xinterpreter.hpp:12:\n",
      "In file included from /home/loic/miniconda3/envs/cling/bin/../lib/gcc/../../gcc/include/c++/functional:54:\n",
      "In file included from /home/loic/miniconda3/envs/cling/bin/../lib/gcc/../../gcc/include/c++/tuple:39:\n",
      "In file included from /home/loic/miniconda3/envs/cling/bin/../lib/gcc/../../gcc/include/c++/array:39:\n",
      "In file included from /home/loic/miniconda3/envs/cling/bin/../lib/gcc/../../gcc/include/c++/stdexcept:39:\n",
      "In file included from /home/loic/miniconda3/envs/cling/bin/../lib/gcc/../../gcc/include/c++/string:40:\n",
      "In file included from /home/loic/miniconda3/envs/cling/bin/../lib/gcc/../../gcc/include/c++/bits/char_traits.h:39:\n",
      "\u001b[1m/home/loic/miniconda3/envs/cling/bin/../lib/gcc/../../gcc/include/c++/bits/stl_algobase.h:385:14: \u001b[0m\u001b[0;1;31merror: \u001b[0m\u001b[1mno matching function for call to '__copy_m'\u001b[0m\n",
      "      return std::__copy_move<_IsMove, __simple,\n",
      "\u001b[0;1;32m             ^~~~~~~~~~~~~~~~~~~~~~~~~~~~~~~~~~~\n",
      "\u001b[0m\u001b[1m/home/loic/miniconda3/envs/cling/bin/../lib/gcc/../../gcc/include/c++/bits/stl_algobase.h:422:23: \u001b[0m\u001b[0;1;30mnote: \u001b[0min instantiation of function template specialization 'std::__copy_move_a<false, const unsigned long *, const unsigned long *>'\n",
      "      requested here\u001b[0m\n",
      "      return _OI(std::__copy_move_a<_IsMove>(std::__niter_base(__first),\n",
      "\u001b[0;1;32m                      ^\n",
      "\u001b[0m\u001b[1m/home/loic/miniconda3/envs/cling/bin/../lib/gcc/../../gcc/include/c++/bits/stl_algobase.h:454:20: \u001b[0m\u001b[0;1;30mnote: \u001b[0min instantiation of function template specialization 'std::__copy_move_a2<false, const unsigned long *, const unsigned long *>'\n",
      "      requested here\u001b[0m\n",
      "      return (std::__copy_move_a2<__is_move_iterator<_II>::__value>\n",
      "\u001b[0;1;32m                   ^\n",
      "\u001b[0m\u001b[1m/home/loic/miniconda3/envs/cling/include/xtl/xsequence.hpp:122:22: \u001b[0m\u001b[0;1;30mnote: \u001b[0min instantiation of function template specialization 'std::copy<const unsigned long *, const unsigned long *>' requested here\u001b[0m\n",
      "                std::copy(std::begin(r), std::end(r), std::begin(ret));\n",
      "\u001b[0;1;32m                     ^\n",
      "\u001b[0m\u001b[1m/home/loic/miniconda3/envs/cling/include/xtl/xsequence.hpp:151:36: \u001b[0m\u001b[0;1;30mnote: \u001b[0min instantiation of function template specialization 'xtl::detail::sequence_forwarder<std::array<unsigned long, 1>, unsigned\n",
      "      long [1], void>::forward<unsigned long const (&)[1]>' requested here\u001b[0m\n",
      "        return forwarder::template forward<A>(s);\n",
      "\u001b[0;1;32m                                   ^\n",
      "\u001b[0m\u001b[1m/home/loic/miniconda3/envs/cling/bin/../lib/gcc/../../gcc/include/c++/bits/stl_algobase.h:357:9: \u001b[0m\u001b[0;1;30mnote: \u001b[0mcandidate template ignored: deduced conflicting types for parameter '_Tp' ('unsigned long' vs. 'const unsigned long')\u001b[0m\n",
      "        __copy_m(const _Tp* __first, const _Tp* __last, _Tp* __result)\n",
      "\u001b[0;1;32m        ^\n",
      "\u001b[0mIn file included from input_line_8:1:\n",
      "In file included from /home/loic/miniconda3/envs/cling/include/xtensor/xtensor.hpp:19:\n",
      "In file included from /home/loic/miniconda3/envs/cling/include/xtensor/xcontainer.hpp:23:\n",
      "In file included from /home/loic/miniconda3/envs/cling/include/xtensor/xmath.hpp:24:\n",
      "In file included from /home/loic/miniconda3/envs/cling/include/xtensor/xoperation.hpp:19:\n",
      "\u001b[1m/home/loic/miniconda3/envs/cling/include/xtensor/xfunction.hpp:540:77: \u001b[0m\u001b[0;1;31merror: \u001b[0m\u001b[1mno matching function for call to 'make_sequence'\u001b[0m\n",
      "        : m_e(std::forward<CTA>(e)...), m_f(std::forward<Func>(f)), m_shape(xtl::make_sequence<shape_type>(0, size_type(0))),\n",
      "\u001b[0;1;32m                                                                            ^~~~~~~~~~~~~~~~~~~~~~~~~~~~~~\n",
      "\u001b[0m\u001b[1m/home/loic/miniconda3/envs/cling/include/xtensor/xfunction.hpp:1094:11: \u001b[0m\u001b[0;1;30mnote: \u001b[0min instantiation of function template specialization 'xt::xfunction_base<xt::detail::cast<double>::functor<int>, double, const\n",
      "      xt::xgenerator<xt::detail::arange_impl<int>, int, std::array<unsigned long, 1> >\n",
      "      >::xfunction_base<xt::detail::cast<double>::functor<int>, xt::xgenerator<xt::detail::arange_impl<int>, int,\n",
      "      std::array<unsigned long, 1> > , void>' requested here\u001b[0m\n",
      "        : base_type(std::forward<Func>(f), std::forward<CTA>(e)...)\n",
      "\u001b[0;1;32m          ^\n",
      "\u001b[0m\u001b[1m/home/loic/miniconda3/envs/cling/include/xtensor/xoperation.hpp:248:20: \u001b[0m\u001b[0;1;30mnote: \u001b[0min instantiation of function template specialization 'xt::xfunction<xt::detail::cast<double>::functor<int>, double, const\n",
      "      xt::xgenerator<xt::detail::arange_impl<int>, int, std::array<unsigned long, 1> >\n",
      "      >::xfunction<xt::detail::cast<double>::functor<int>, xt::xgenerator<xt::detail::arange_impl<int>, int,\n",
      "      std::array<unsigned long, 1> > , void>' requested here\u001b[0m\n",
      "            return type(functor_type(), std::forward<E>(e)...);\n",
      "\u001b[0;1;32m                   ^\n",
      "\u001b[0m\u001b[1m/home/loic/miniconda3/envs/cling/include/xtensor/xbuilder.hpp:372:16: \u001b[0m\u001b[0;1;30mnote: \u001b[0min instantiation of function template specialization 'xt::cast<double, xt::xgenerator<xt::detail::arange_impl<int>, int,\n",
      "      std::array<unsigned long, 1> > >' requested here\u001b[0m\n",
      "        return cast<T>(detail::make_xgenerator(detail::arange_impl<fp_type>(fp_type(start), fp_type(stop), step), {num_...\n",
      "\u001b[0;1;32m               ^\n"
     ]
    },
    {
     "name": "stderr",
     "output_type": "stream",
     "text": [
      "\u001b[0m\u001b[1m/home/loic/miniconda3/envs/cling/include/xtl/xsequence.hpp:91:14: \u001b[0m\u001b[0;1;30mnote: \u001b[0mcandidate template ignored: substitution failure [with S = int]: type 'int' cannot be used prior to '::' because it has no\n",
      "      members\u001b[0m\n",
      "    inline S make_sequence(typename S::size_type size, typename S::value_type v)\n",
      "\u001b[0;1;32m             ^                      ~\n",
      "\u001b[0m\u001b[1m/home/loic/miniconda3/envs/cling/include/xtl/xsequence.hpp:85:14: \u001b[0m\u001b[0;1;30mnote: \u001b[0mcandidate function template not viable: requires single argument 'size', but 2 arguments were provided\u001b[0m\n",
      "    inline S make_sequence(typename S::size_type size)\n",
      "\u001b[0;1;32m             ^\n",
      "\u001b[0m"
     ]
    },
    {
     "ename": "Interpreter Error",
     "evalue": "",
     "output_type": "error",
     "traceback": [
      "Interpreter Error: "
     ]
    }
   ],
   "source": [
    "auto linspace = xt::linspace<double>(-1., 1., 100);"
   ]
  },
  {
   "cell_type": "code",
   "execution_count": 8,
   "metadata": {},
   "outputs": [
    {
     "name": "stderr",
     "output_type": "stream",
     "text": [
      "In file included from input_line_1:1:\n",
      "In file included from /home/loic/miniconda3/envs/cling/bin/../lib/gcc/../../gcc/include/c++/new:40:\n",
      "In file included from /home/loic/miniconda3/envs/cling/bin/../lib/gcc/../../gcc/include/c++/exception:143:\n",
      "In file included from /home/loic/miniconda3/envs/cling/bin/../lib/gcc/../../gcc/include/c++/bits/nested_exception.h:40:\n",
      "In file included from /home/loic/miniconda3/envs/cling/bin/../lib/gcc/../../gcc/include/c++/bits/move.h:54:\n",
      "\u001b[1m/home/loic/miniconda3/envs/cling/bin/../lib/gcc/../../gcc/include/c++/type_traits:2487:5: \u001b[0m\u001b[0;1;31merror: \u001b[0m\u001b[1mno type named 'type' in 'std::common_type<int, double>'\u001b[0m\n",
      "    using common_type_t = typename common_type<_Tp...>::type;\n",
      "\u001b[0;1;32m    ^~~~~\n",
      "\u001b[0m\u001b[1m/home/loic/miniconda3/envs/cling/include/xtensor/xbuilder.hpp:370:30: \u001b[0m\u001b[0;1;30mnote: \u001b[0min instantiation of template type alias 'common_type_t' requested here\u001b[0m\n",
      "        using fp_type = std::common_type_t<T, double>;\n",
      "\u001b[0;1;32m                             ^\n",
      "\u001b[0m\u001b[1minput_line_14:2:16: \u001b[0m\u001b[0;1;30mnote: \u001b[0min instantiation of function template specialization 'xt::linspace<int>' requested here\u001b[0m\n",
      " auto ls = xt::linspace<int>(0, 10, 13);\n",
      "\u001b[0;1;32m               ^\n",
      "\u001b[0mIn file included from input_line_8:1:\n",
      "In file included from /home/loic/miniconda3/envs/cling/include/xtensor/xtensor.hpp:19:\n",
      "In file included from /home/loic/miniconda3/envs/cling/include/xtensor/xcontainer.hpp:19:\n",
      "\u001b[1m/home/loic/miniconda3/envs/cling/include/xtl/xsequence.hpp:122:55: \u001b[0m\u001b[0;1;31merror: \u001b[0m\u001b[1mno matching function for call to 'begin'\u001b[0m\n",
      "                std::copy(std::begin(r), std::end(r), std::begin(ret));\n",
      "\u001b[0;1;32m                                                      ^~~~~~~~~~\n",
      "\u001b[0m\u001b[1m/home/loic/miniconda3/envs/cling/include/xtl/xsequence.hpp:151:36: \u001b[0m\u001b[0;1;30mnote: \u001b[0min instantiation of function template specialization 'xtl::detail::sequence_forwarder<std::array<unsigned long, 1>, unsigned\n",
      "      long [1], void>::forward<unsigned long const (&)[1]>' requested here\u001b[0m\n",
      "        return forwarder::template forward<A>(s);\n",
      "\u001b[0;1;32m                                   ^\n",
      "\u001b[0m\u001b[1m/home/loic/miniconda3/envs/cling/bin/../lib/gcc/../../gcc/include/c++/initializer_list:89:5: \u001b[0m\u001b[0;1;30mnote: \u001b[0mcandidate template ignored: could not match 'initializer_list' against 'array'\u001b[0m\n",
      "    begin(initializer_list<_Tp> __ils) noexcept\n",
      "\u001b[0;1;32m    ^\n",
      "\u001b[0m\u001b[1m/home/loic/miniconda3/envs/cling/bin/../lib/gcc/../../gcc/include/c++/bits/range_access.h:48:5: \u001b[0m\u001b[0;1;30mnote: \u001b[0mcandidate template ignored: substitution failure [with _Container = std::array<unsigned long, 1>]: no member named 'begin' in\n",
      "      'std::array<unsigned long, 1>'\u001b[0m\n",
      "    begin(_Container& __cont) -> decltype(__cont.begin())\n",
      "\u001b[0;1;32m    ^                                            ~~~~~\n",
      "\u001b[0m\u001b[1m/home/loic/miniconda3/envs/cling/bin/../lib/gcc/../../gcc/include/c++/bits/range_access.h:58:5: \u001b[0m\u001b[0;1;30mnote: \u001b[0mcandidate template ignored: substitution failure [with _Container = std::array<unsigned long, 1>]: no member named 'begin' in\n",
      "      'std::array<unsigned long, 1>'\u001b[0m\n",
      "    begin(const _Container& __cont) -> decltype(__cont.begin())\n",
      "\u001b[0;1;32m    ^                                                  ~~~~~\n",
      "\u001b[0m\u001b[1m/home/loic/miniconda3/envs/cling/bin/../lib/gcc/../../gcc/include/c++/bits/range_access.h:87:5: \u001b[0m\u001b[0;1;30mnote: \u001b[0mcandidate template ignored: could not match '_Tp [_Nm]' against 'xtl::detail::sequence_forwarder<std::array<unsigned long, 1>,\n",
      "      unsigned long [1], void>::R' (aka 'array<unsigned long, 1UL>')\u001b[0m\n",
      "    begin(_Tp (&__arr)[_Nm])\n",
      "\u001b[0;1;32m    ^\n",
      "\u001b[0m\u001b[1m/home/loic/miniconda3/envs/cling/bin/../lib/gcc/../../gcc/include/c++/valarray:1201:5: \u001b[0m\u001b[0;1;30mnote: \u001b[0mcandidate template ignored: could not match 'valarray' against 'array'\u001b[0m\n",
      "    begin(valarray<_Tp>& __va)\n",
      "\u001b[0;1;32m    ^\n",
      "\u001b[0m\u001b[1m/home/loic/miniconda3/envs/cling/bin/../lib/gcc/../../gcc/include/c++/valarray:1211:5: \u001b[0m\u001b[0;1;30mnote: \u001b[0mcandidate template ignored: could not match 'valarray' against 'array'\u001b[0m\n",
      "    begin(const valarray<_Tp>& __va)\n",
      "\u001b[0;1;32m    ^\n",
      "\u001b[0mIn file included from input_line_8:1:\n",
      "In file included from /home/loic/miniconda3/envs/cling/include/xtensor/xtensor.hpp:19:\n",
      "In file included from /home/loic/miniconda3/envs/cling/include/xtensor/xcontainer.hpp:23:\n",
      "In file included from /home/loic/miniconda3/envs/cling/include/xtensor/xmath.hpp:24:\n",
      "In file included from /home/loic/miniconda3/envs/cling/include/xtensor/xoperation.hpp:19:\n",
      "\u001b[1m/home/loic/miniconda3/envs/cling/include/xtensor/xfunction.hpp:540:77: \u001b[0m\u001b[0;1;31merror: \u001b[0m\u001b[1mno matching function for call to 'make_sequence'\u001b[0m\n",
      "        : m_e(std::forward<CTA>(e)...), m_f(std::forward<Func>(f)), m_shape(xtl::make_sequence<shape_type>(0, size_type(0))),\n",
      "\u001b[0;1;32m                                                                            ^~~~~~~~~~~~~~~~~~~~~~~~~~~~~~\n",
      "\u001b[0m\u001b[1m/home/loic/miniconda3/envs/cling/include/xtensor/xfunction.hpp:1094:11: \u001b[0m\u001b[0;1;30mnote: \u001b[0min instantiation of function template specialization 'xt::xfunction_base<xt::detail::cast<int>::functor<int>, int, const\n",
      "      xt::xgenerator<xt::detail::arange_impl<int>, int, std::array<unsigned long, 1> >\n",
      "      >::xfunction_base<xt::detail::cast<int>::functor<int>, xt::xgenerator<xt::detail::arange_impl<int>, int,\n",
      "      std::array<unsigned long, 1> > , void>' requested here\u001b[0m\n",
      "        : base_type(std::forward<Func>(f), std::forward<CTA>(e)...)\n",
      "\u001b[0;1;32m          ^\n",
      "\u001b[0m\u001b[1m/home/loic/miniconda3/envs/cling/include/xtensor/xoperation.hpp:248:20: \u001b[0m\u001b[0;1;30mnote: \u001b[0min instantiation of function template specialization 'xt::xfunction<xt::detail::cast<int>::functor<int>, int, const\n",
      "      xt::xgenerator<xt::detail::arange_impl<int>, int, std::array<unsigned long, 1> >\n",
      "      >::xfunction<xt::detail::cast<int>::functor<int>, xt::xgenerator<xt::detail::arange_impl<int>, int, std::array<unsigned\n",
      "      long, 1> > , void>' requested here\u001b[0m\n",
      "            return type(functor_type(), std::forward<E>(e)...);\n",
      "\u001b[0;1;32m                   ^\n",
      "\u001b[0m\u001b[1m/home/loic/miniconda3/envs/cling/include/xtensor/xbuilder.hpp:372:16: \u001b[0m\u001b[0;1;30mnote: \u001b[0min instantiation of function template specialization 'xt::cast<int, xt::xgenerator<xt::detail::arange_impl<int>, int,\n",
      "      std::array<unsigned long, 1> > >' requested here\u001b[0m\n",
      "        return cast<T>(detail::make_xgenerator(detail::arange_impl<fp_type>(fp_type(start), fp_type(stop), step), {num_...\n",
      "\u001b[0;1;32m               ^\n",
      "\u001b[0m\u001b[1m/home/loic/miniconda3/envs/cling/include/xtl/xsequence.hpp:91:14: \u001b[0m\u001b[0;1;30mnote: \u001b[0mcandidate template ignored: substitution failure [with S = int]: type 'int' cannot be used prior to '::' because it has no\n",
      "      members\u001b[0m\n",
      "    inline S make_sequence(typename S::size_type size, typename S::value_type v)\n",
      "\u001b[0;1;32m             ^                      ~\n",
      "\u001b[0m\u001b[1m/home/loic/miniconda3/envs/cling/include/xtl/xsequence.hpp:85:14: \u001b[0m\u001b[0;1;30mnote: \u001b[0mcandidate function template not viable: requires single argument 'size', but 2 arguments were provided\u001b[0m\n",
      "    inline S make_sequence(typename S::size_type size)\n",
      "\u001b[0;1;32m             ^\n",
      "\u001b[0m"
     ]
    },
    {
     "ename": "Interpreter Error",
     "evalue": "",
     "output_type": "error",
     "traceback": [
      "Interpreter Error: "
     ]
    }
   ],
   "source": [
    "auto ls = xt::linspace<int>(0, 10, 13);"
   ]
  },
  {
   "cell_type": "code",
   "execution_count": 2,
   "metadata": {
    "collapsed": true
   },
   "outputs": [],
   "source": [
    "def superellipsoid(n, rx, ry, rz, m1, m2):\n",
    "    \"\"\"\n",
    "    superellipsoid formula with the spherical product of two superellipse\n",
    "    and update of the global coords array\n",
    "    \n",
    "    Parameters\n",
    "    ----------\n",
    "    rx : the radius in the x direction \n",
    "    ry : the radius in the y direction \n",
    "    rz : the radius in the z direction \n",
    "    m1 : the exponent of the first superellipse\n",
    "    m2 : the exponent of the second superellipse\n",
    "    \"\"\"\n",
    "    \n",
    "    x_box = np.concatenate((np.linspace(-1, 1., n), np.ones(n-2), np.linspace(1, -1., n), -np.ones(n-2)))\n",
    "    y_box = np.concatenate((-np.ones(n-1), np.linspace(-1, 1., n), np.ones(n-2), np.linspace(1, -1., n-1, endpoint=False)))\n",
    "    nx_box = x_box.size\n",
    "\n",
    "    coords = np.empty((nx_box**2, 3), dtype=np.float32)\n",
    "    \n",
    "    def superellipse(rx, ry, m):\n",
    "        \"\"\"\n",
    "        superellipse formula with the projection of the unit square\n",
    "\n",
    "        Parameters\n",
    "        ----------\n",
    "        rx : the radius in the x direction \n",
    "        ry : the radius in the y direction \n",
    "        m : the exponent of the superellipse\n",
    "\n",
    "        Output\n",
    "        ------\n",
    "        the coordinates of the superellipse\n",
    "        \"\"\"\n",
    "        return x_box*rx*(1. - .5*np.abs(y_box)**(2./m))**(m/2.),  y_box*ry*(1. - .5*np.abs(x_box)**(2./m))**(m/2.)\n",
    "\n",
    "    gx, gy = superellipse(1, 1, m2)\n",
    "    hx, hy = superellipse(1, 1, m1)\n",
    "    \n",
    "    coords[:, 0] = rx*(gx[np.newaxis, :]*hx[:, np.newaxis]).flatten()\n",
    "    coords[:, 1] = ry*(gx[np.newaxis, :]*hy[:, np.newaxis]).flatten()\n",
    "    coords[:, 2] = rz*(gy[np.newaxis, :]*np.ones(hx.size)[:, np.newaxis]).flatten()\n",
    "    \n",
    "    return coords"
   ]
  },
  {
   "cell_type": "code",
   "execution_count": 3,
   "metadata": {
    "collapsed": true
   },
   "outputs": [],
   "source": [
    "# superellipsoid parameters\n",
    "n = 20\n",
    "rx = ry = rz = 1.\n",
    "m1 = m2 = 1.\n",
    "\n",
    "coords = superellipsoid(n, rx, ry, rz, m1, m2)"
   ]
  },
  {
   "cell_type": "code",
   "execution_count": 4,
   "metadata": {
    "collapsed": true
   },
   "outputs": [],
   "source": [
    "view_width = 600\n",
    "view_height = 400\n",
    "\n",
    "vertices = BufferAttribute(\n",
    "    array=coords,\n",
    "    normalized=False)\n",
    "\n",
    "meshGeometry = BufferGeometry(\n",
    "    attributes={\n",
    "        'position': vertices,\n",
    "    }\n",
    ")"
   ]
  },
  {
   "cell_type": "code",
   "execution_count": 5,
   "metadata": {
    "collapsed": true
   },
   "outputs": [],
   "source": [
    "texture = ImageTexture('disc.png')"
   ]
  },
  {
   "cell_type": "code",
   "execution_count": 6,
   "metadata": {
    "collapsed": true
   },
   "outputs": [],
   "source": [
    "pointsMaterial = PointsMaterial(\n",
    "    color='#80bfff',\n",
    "    map=texture,\n",
    "    size=.1,\n",
    "    alphaTest=0.5,\n",
    ")"
   ]
  },
  {
   "cell_type": "code",
   "execution_count": 7,
   "metadata": {
    "collapsed": true
   },
   "outputs": [],
   "source": [
    "points = Points(\n",
    "    geometry=meshGeometry,\n",
    "    material=pointsMaterial    \n",
    ")"
   ]
  },
  {
   "cell_type": "code",
   "execution_count": 8,
   "metadata": {
    "collapsed": true
   },
   "outputs": [],
   "source": [
    "camera = PerspectiveCamera(\n",
    "    position=[2, 2, 1],\n",
    "    aspect=view_width / view_height,\n",
    "    near=1,\n",
    "    far=1000,\n",
    "    children=[PointLight(\"0xffffff\", 0 )])"
   ]
  },
  {
   "cell_type": "code",
   "execution_count": 9,
   "metadata": {
    "collapsed": true
   },
   "outputs": [],
   "source": [
    "controls = OrbitControls(\n",
    "    controlling=camera,\n",
    ")"
   ]
  },
  {
   "cell_type": "code",
   "execution_count": 10,
   "metadata": {
    "collapsed": true
   },
   "outputs": [],
   "source": [
    "ambient_light = AmbientLight('0x222222')"
   ]
  },
  {
   "cell_type": "code",
   "execution_count": 11,
   "metadata": {
    "collapsed": true
   },
   "outputs": [],
   "source": [
    "scene = Scene(\n",
    "    children=[camera, ambient_light, AxesHelper(1), points],\n",
    "    background = 'black',\n",
    ")"
   ]
  },
  {
   "cell_type": "code",
   "execution_count": 12,
   "metadata": {
    "collapsed": true
   },
   "outputs": [],
   "source": [
    "renderer = Renderer(\n",
    "    camera=camera,\n",
    "    scene=scene,\n",
    "    controls=[controls],\n",
    "    width=view_width, \n",
    "    height=view_height)"
   ]
  },
  {
   "cell_type": "code",
   "execution_count": 13,
   "metadata": {
    "collapsed": true
   },
   "outputs": [],
   "source": [
    "spin_track = NumberKeyframeTrack(name='.rotation[y]', times=[0, 1000], values=[0, 100])\n",
    "spin_clip = AnimationClip(tracks=[spin_track])\n",
    "spin_action = AnimationAction(AnimationMixer(points), spin_clip, points)"
   ]
  },
  {
   "cell_type": "code",
   "execution_count": 14,
   "metadata": {
    "collapsed": true
   },
   "outputs": [],
   "source": [
    "n_slider, m1_slider, m2_slider = (\n",
    "    IntSlider(description='n', min=5, max=50, step=1, value=n,\n",
    "              continuous_update=False, orientation='vertical'),\n",
    "    FloatSlider(description='m1', min=0.01, max=4.0, step=0.01, value=m1,\n",
    "                continuous_update=False, orientation='vertical'),\n",
    "    FloatSlider(description='m2', min=0.01, max=4.0, step=0.01, value=m2,\n",
    "                continuous_update=False, orientation='vertical')\n",
    ")"
   ]
  },
  {
   "cell_type": "code",
   "execution_count": 15,
   "metadata": {
    "collapsed": true
   },
   "outputs": [],
   "source": [
    "rx_slider, ry_slider, rz_slider = (FloatSlider(description='rx', min=0.01, max=10.0, step=0.1, value=rx, \n",
    "                                               continuous_update=False, orientation='horizontal'),\n",
    "                                   FloatSlider(description='ry', min=0.01, max=10.0, step=0.1, value=ry, \n",
    "                                               continuous_update=False, orientation='horizontal'),\n",
    "                                   FloatSlider(description='rz', min=0.01, max=10.0, step=0.1, value=rz, \n",
    "                                               continuous_update=False, orientation='horizontal'))"
   ]
  },
  {
   "cell_type": "code",
   "execution_count": 16,
   "metadata": {
    "collapsed": true
   },
   "outputs": [],
   "source": [
    "def update(change):\n",
    "    coords = superellipsoid(n_slider.value, rx_slider.value, ry_slider.value, rz_slider.value, \n",
    "                   m1_slider.value, m2_slider.value)\n",
    "    vertices.array = coords\n",
    "    \n",
    "n_slider.observe(update, names=['value'])\n",
    "m1_slider.observe(update, names=['value'])\n",
    "m2_slider.observe(update, names=['value'])\n",
    "rx_slider.observe(update, names=['value'])\n",
    "ry_slider.observe(update, names=['value'])\n",
    "rz_slider.observe(update, names=['value'])"
   ]
  },
  {
   "cell_type": "code",
   "execution_count": 17,
   "metadata": {},
   "outputs": [
    {
     "data": {
      "application/vnd.jupyter.widget-view+json": {
       "model_id": "0d0596db288247a3904e291be167e98b",
       "version_major": 2,
       "version_minor": 0
      },
      "text/plain": [
       "VBox(children=(HBox(children=(Renderer(camera=PerspectiveCamera(aspect=1.5, children=(PointLight(color='0xffff…"
      ]
     },
     "metadata": {},
     "output_type": "display_data"
    }
   ],
   "source": [
    "VBox([HBox([renderer, \n",
    "            VBox([HBox([m1_slider, m2_slider, n_slider]), spin_action])\n",
    "           ]),\n",
    "      rx_slider, \n",
    "      ry_slider,\n",
    "      rz_slider])"
   ]
  },
  {
   "cell_type": "code",
   "execution_count": 19,
   "metadata": {
    "collapsed": true
   },
   "outputs": [],
   "source": [
    "renderer._width = 1000"
   ]
  },
  {
   "cell_type": "code",
   "execution_count": 20,
   "metadata": {
    "collapsed": true
   },
   "outputs": [],
   "source": [
    "renderer._height = 800"
   ]
  },
  {
   "cell_type": "code",
   "execution_count": null,
   "metadata": {
    "collapsed": true
   },
   "outputs": [],
   "source": []
  }
 ],
 "metadata": {
  "anaconda-cloud": {},
  "kernelspec": {
   "display_name": "C++14",
   "language": "C++14",
   "name": "xeus-cling-cpp14"
  },
  "language_info": {
   "codemirror_mode": "text/x-c++src",
   "file_extension": ".cpp",
   "mimetype": "text/x-c++src",
   "name": "c++",
   "version": "14"
  },
  "widgets": {
   "state": {
    "5eb4554c95814fc6b83135c8b1a7a5ee": {
     "views": [
      {
       "cell_index": 8
      }
     ]
    },
    "b9b3e029e6554c0caee4a3cd691eb821": {
     "views": [
      {
       "cell_index": 12
      }
     ]
    }
   },
   "version": "1.2.0"
  }
 },
 "nbformat": 4,
 "nbformat_minor": 2
}
