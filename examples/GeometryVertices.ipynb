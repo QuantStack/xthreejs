{
 "cells": [
  {
   "cell_type": "code",
   "execution_count": 1,
   "metadata": {},
   "outputs": [],
   "source": [
    "#include <xthreejs/xbase.hpp>\n",
    "#include <xthreejs/xcore.hpp>\n",
    "#include <xthreejs/xgeometries.hpp>\n",
    "#include <iostream>"
   ]
  },
  {
   "cell_type": "code",
   "execution_count": 2,
   "metadata": {},
   "outputs": [],
   "source": [
    "// This test examines the inner workings of the Geometry classes\n",
    "// Geometries should be creatable via the helper extras/Geometries classes\n",
    "// as well as procedurally creating the vertices yourself"
   ]
  },
  {
   "cell_type": "code",
   "execution_count": 3,
   "metadata": {},
   "outputs": [],
   "source": [
    "auto g = xthree::box_geometry_generator()\n",
    "    .width(1)\n",
    "    .height(1) \n",
    "    .depth(1)\n",
    "    .widthSegments(1)\n",
    "    .heightSegments(1)\n",
    "    .depthSegments(1)\n",
    "    .finalize();"
   ]
  },
  {
   "cell_type": "code",
   "execution_count": 5,
   "metadata": {},
   "outputs": [
    {
     "name": "stderr",
     "output_type": "stream",
     "text": [
      "\u001b[1minput_line_11:2:4: \u001b[0m\u001b[0;1;31merror: \u001b[0m\u001b[1mno member named '_ref_geometry' in 'xw::xmaterialize<xbox_geometry>'\u001b[0m\n",
      " g._ref_geometry()\n",
      "\u001b[0;1;32m ~ ^\n",
      "\u001b[0m"
     ]
    }
   ],
   "source": [
    "g"
   ]
  },
  {
   "cell_type": "code",
   "execution_count": 4,
   "metadata": {},
   "outputs": [],
   "source": [
    "auto g2 = xthree::geometry_generator()\n",
    "    ._ref_geometry(g)\n",
    "    .finalize();"
   ]
  },
  {
   "cell_type": "code",
   "execution_count": null,
   "metadata": {},
   "outputs": [],
   "source": [
    "std::cout << g2.vertices().size() << \" \" << g2.vertices()[0].size();"
   ]
  },
  {
   "cell_type": "code",
   "execution_count": null,
   "metadata": {},
   "outputs": [],
   "source": [
    "std::cout << g2.faces().size();"
   ]
  },
  {
   "cell_type": "code",
   "execution_count": null,
   "metadata": {},
   "outputs": [],
   "source": [
    "g2"
   ]
  },
  {
   "cell_type": "code",
   "execution_count": null,
   "metadata": {},
   "outputs": [],
   "source": [
    "g3 = Geometry(vertices=g2.vertices[:], faces=g2.faces[:])"
   ]
  },
  {
   "cell_type": "code",
   "execution_count": null,
   "metadata": {},
   "outputs": [],
   "source": [
    "g3"
   ]
  },
  {
   "cell_type": "code",
   "execution_count": null,
   "metadata": {},
   "outputs": [],
   "source": []
  }
 ],
 "metadata": {
  "kernelspec": {
   "display_name": "xeus C++14",
   "language": "",
   "name": "xeus-cling-cpp14"
  },
  "language_info": {
   "codemirror_mode": "text/x-c++src",
   "file_extension": ".cpp",
   "mimetype": "text/x-c++src",
   "name": "c++",
   "version": ""
  }
 },
 "nbformat": 4,
 "nbformat_minor": 1
}
